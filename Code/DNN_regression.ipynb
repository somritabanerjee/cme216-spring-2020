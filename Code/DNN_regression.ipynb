{
 "cells": [
  {
   "cell_type": "code",
   "execution_count": null,
   "metadata": {},
   "outputs": [],
   "source": [
    "import numpy as np\n",
    "from numpy import ndarray"
   ]
  },
  {
   "cell_type": "code",
   "execution_count": null,
   "metadata": {},
   "outputs": [],
   "source": [
    "import plotly.graph_objects as go\n",
    "def save_figure_to_file(fig, path, file_name):\n",
    "    # Comment this line if you get an error\n",
    "    fig.write_image(path + '/' + file_name + '.svg')"
   ]
  },
  {
   "cell_type": "code",
   "execution_count": null,
   "metadata": {},
   "outputs": [],
   "source": [
    "# Adjust this parameter to change the running time\n",
    "# Vary between 100 and 1,000. Default = 800. Fast = 10\n",
    "n_epochs = 800"
   ]
  },
  {
   "cell_type": "code",
   "execution_count": null,
   "metadata": {
    "scrolled": true
   },
   "outputs": [],
   "source": [
    "x = np.array([-1, -1e-3, 1e-3, 1])\n",
    "\n",
    "fig = go.Figure()\n",
    "fig.add_trace(go.Scatter(x=x, y= np.heaviside(x,0.5), name='heaviside'))\n",
    "fig.update_layout(width=600, yaxis_range=[-0.1, 1.1], title='heaviside function')\n",
    "fig.show()"
   ]
  },
  {
   "cell_type": "code",
   "execution_count": null,
   "metadata": {},
   "outputs": [],
   "source": [
    "save_figure_to_file(fig, '../Slides/ANN', 'fig1')"
   ]
  },
  {
   "cell_type": "code",
   "execution_count": null,
   "metadata": {},
   "outputs": [],
   "source": [
    "x = np.hstack( (np.linspace(-4,-1e-3,32), np.linspace(1e-3,4,32)) )\n",
    "\n",
    "fig = go.Figure()\n",
    "fig.add_trace(go.Scatter(x=x, y= np.heaviside(x,0.5), name='heaviside'))\n",
    "fig.add_trace(go.Scatter(x=x, y= 1/(1 + np.exp(-x)), name='sigmoid'))\n",
    "fig.add_trace(go.Scatter(x=x, y= np.tanh(x), name='tanh'))\n",
    "fig.add_trace(go.Scatter(x=x, y= np.maximum(x, 0), name='relu'))\n",
    "fig.update_layout(width=600, yaxis_range=[-1.1, 2.1])\n",
    "fig.show()"
   ]
  },
  {
   "cell_type": "code",
   "execution_count": null,
   "metadata": {},
   "outputs": [],
   "source": [
    "save_figure_to_file(fig, '../Slides/ANN', 'fig2')"
   ]
  },
  {
   "cell_type": "code",
   "execution_count": null,
   "metadata": {},
   "outputs": [],
   "source": [
    "x = np.hstack( (np.linspace(-4,-1e-3,32), np.linspace(1e-3,4,32)) )\n",
    "\n",
    "fig = go.Figure()\n",
    "fig.add_trace(go.Scatter(x=x, y= 1/(1 + np.exp(-x)), name='sigmoid', line_width=8))\n",
    "fig.update_layout(width=450, yaxis_range=[-0.5, 1.5])\n",
    "fig.show()"
   ]
  },
  {
   "cell_type": "code",
   "execution_count": null,
   "metadata": {},
   "outputs": [],
   "source": [
    "def fun(x):\n",
    "    return 1. / (1. + x**2)\n",
    "\n",
    "X_train = np.linspace(-1,1,1025)\n",
    "y_train = fun(X_train)\n",
    "\n",
    "X_valid = np.linspace(-1,1,257)\n",
    "y_valid = fun(X_valid)\n",
    "\n",
    "X_test = np.linspace(-1,1,129)\n",
    "y_test = fun(X_test)"
   ]
  },
  {
   "cell_type": "code",
   "execution_count": null,
   "metadata": {},
   "outputs": [],
   "source": [
    "fig = go.Figure()\n",
    "fig.add_trace(go.Scatter(x=X_train, y=y_train))\n",
    "fig.update_layout(width=600,title='Function to approximate', xaxis_title='x')\n",
    "fig.show()"
   ]
  },
  {
   "cell_type": "code",
   "execution_count": null,
   "metadata": {},
   "outputs": [],
   "source": [
    "save_figure_to_file(fig, '../Slides/TF_Keras', 'fig1')"
   ]
  },
  {
   "cell_type": "code",
   "execution_count": null,
   "metadata": {},
   "outputs": [],
   "source": [
    "import tensorflow as tf\n",
    "from tensorflow import keras\n",
    "from tensorflow.keras import optimizers\n",
    "\n",
    "learning_rate = 0.1"
   ]
  },
  {
   "cell_type": "code",
   "execution_count": null,
   "metadata": {},
   "outputs": [],
   "source": [
    "tf.random.set_seed(2020)\n",
    "model = keras.models.Sequential()\n",
    "model.add(keras.layers.InputLayer(input_shape=1))\n",
    "model.add(keras.layers.Dense(4, activation=\"tanh\"))\n",
    "model.add(keras.layers.Dense(4, activation=\"tanh\"))\n",
    "model.add(keras.layers.Dense(4, activation=\"tanh\"))\n",
    "model.add(keras.layers.Dense(1, activation=\"linear\"))\n",
    "\n",
    "model.summary()"
   ]
  },
  {
   "cell_type": "code",
   "execution_count": null,
   "metadata": {},
   "outputs": [],
   "source": [
    "keras.utils.plot_model(model)"
   ]
  },
  {
   "cell_type": "code",
   "execution_count": null,
   "metadata": {},
   "outputs": [],
   "source": [
    "model.layers"
   ]
  },
  {
   "cell_type": "code",
   "execution_count": null,
   "metadata": {},
   "outputs": [],
   "source": [
    "hidden1 = model.layers[1]\n",
    "print(hidden1.name)"
   ]
  },
  {
   "cell_type": "code",
   "execution_count": null,
   "metadata": {},
   "outputs": [],
   "source": [
    "weights, biases = hidden1.get_weights()\n",
    "print(weights.shape)\n",
    "print(biases.shape)"
   ]
  },
  {
   "cell_type": "code",
   "execution_count": null,
   "metadata": {},
   "outputs": [],
   "source": [
    "sgd = optimizers.SGD(lr=learning_rate)\n",
    "model.compile(loss='mse', optimizer=sgd, metrics=['mse','mae'])\n",
    "history = model.fit(X_train, y_train, epochs=n_epochs,\n",
    "                    validation_data=(X_valid, y_valid))"
   ]
  },
  {
   "cell_type": "code",
   "execution_count": null,
   "metadata": {},
   "outputs": [],
   "source": [
    "def plot_history(fig, history):\n",
    "    error = history.history[\"mse\"]\n",
    "    error_val = history.history[\"val_mse\"]\n",
    "    fig.add_trace(go.Scatter(y=error,name='error training'))\n",
    "    fig.add_trace(go.Scatter(y=error_val, name='error validation'))\n",
    "    fig.update_layout(width=600, yaxis_type=\"log\", \n",
    "                      yaxis_range=[-7,-3],\n",
    "                      xaxis_title='epoch')    \n",
    "\n",
    "fig = go.Figure()\n",
    "plot_history(fig, history)\n",
    "fig.show()"
   ]
  },
  {
   "cell_type": "code",
   "execution_count": null,
   "metadata": {},
   "outputs": [],
   "source": [
    "save_figure_to_file(fig, '../Slides/TF_Keras', 'fig2')"
   ]
  },
  {
   "cell_type": "code",
   "execution_count": null,
   "metadata": {},
   "outputs": [],
   "source": [
    "model.evaluate(X_test, y_test)"
   ]
  },
  {
   "cell_type": "code",
   "execution_count": null,
   "metadata": {},
   "outputs": [],
   "source": [
    "y_pred = np.array( model.predict(X_test) ).flatten()\n",
    "fig = go.Figure()\n",
    "fig.add_trace(go.Scatter(x=X_test, y=y_test, name='exact'))\n",
    "fig.add_trace(go.Scatter(x=X_test, y=y_pred, name='model'))\n",
    "fig.update_layout(width=600, xaxis_title='x')\n",
    "fig.show()"
   ]
  },
  {
   "cell_type": "code",
   "execution_count": null,
   "metadata": {},
   "outputs": [],
   "source": [
    "save_figure_to_file(fig, '../Slides/TF_Keras', 'fig3')"
   ]
  },
  {
   "cell_type": "code",
   "execution_count": null,
   "metadata": {},
   "outputs": [],
   "source": [
    "def plot_error(fig, model, X_test, y_test):\n",
    "    y_pred = np.array( model.predict(X_test) ).flatten()\n",
    "    error = abs(y_test-y_pred)\n",
    "    fig.add_trace(go.Scatter(x = X_test, y = error))\n",
    "    fig.update_layout(width=600, yaxis_type='log', title='absolute error vs x',\n",
    "                     xaxis_range=[-1,1], yaxis_range=[-6,-1], xaxis_title='x')\n",
    "    return error\n",
    "\n",
    "fig = go.Figure()\n",
    "error_seq = plot_error(fig, model, X_test, y_test)\n",
    "fig.show()"
   ]
  },
  {
   "cell_type": "code",
   "execution_count": null,
   "metadata": {},
   "outputs": [],
   "source": [
    "save_figure_to_file(fig, '../Slides/TF_Keras', 'fig4')"
   ]
  },
  {
   "cell_type": "code",
   "execution_count": null,
   "metadata": {},
   "outputs": [],
   "source": [
    "from tensorflow.keras import layers, Model"
   ]
  },
  {
   "cell_type": "code",
   "execution_count": null,
   "metadata": {},
   "outputs": [],
   "source": [
    "tf.random.set_seed(2020)\n",
    "input_ = layers.Input(shape=1)\n",
    "hidden1 = layers.Dense(4, activation=\"tanh\")(input_)\n",
    "hidden2 = layers.Dense(4, activation=\"tanh\")(hidden1)\n",
    "hidden3 = layers.Dense(4, activation=\"tanh\")(hidden2)\n",
    "concat = layers.Concatenate()([hidden1, hidden2, hidden3])\n",
    "output = layers.Dense(1, activation=\"linear\")(concat)\n",
    "model = Model(inputs=[input_], outputs=[output])\n",
    "\n",
    "model.summary()"
   ]
  },
  {
   "cell_type": "code",
   "execution_count": null,
   "metadata": {},
   "outputs": [],
   "source": [
    "keras.utils.plot_model(model)"
   ]
  },
  {
   "cell_type": "code",
   "execution_count": null,
   "metadata": {},
   "outputs": [],
   "source": [
    "model.compile(loss='mse',\n",
    "              optimizer=sgd,\n",
    "              metrics=['mse','mae'])\n",
    "history = model.fit(X_train, y_train, epochs=n_epochs,\n",
    "                    validation_data=(X_valid, y_valid))"
   ]
  },
  {
   "cell_type": "code",
   "execution_count": null,
   "metadata": {},
   "outputs": [],
   "source": [
    "fig = go.Figure()\n",
    "plot_history(fig, history)\n",
    "fig.show()"
   ]
  },
  {
   "cell_type": "code",
   "execution_count": null,
   "metadata": {},
   "outputs": [],
   "source": [
    "save_figure_to_file(fig, '../Slides/TF_Keras', 'fig5')"
   ]
  },
  {
   "cell_type": "code",
   "execution_count": null,
   "metadata": {},
   "outputs": [],
   "source": [
    "fig = go.Figure()\n",
    "error_cat = plot_error(fig, model, X_test, y_test)\n",
    "fig.show()"
   ]
  },
  {
   "cell_type": "code",
   "execution_count": null,
   "metadata": {},
   "outputs": [],
   "source": [
    "save_figure_to_file(fig, '../Slides/TF_Keras', 'fig6')"
   ]
  },
  {
   "cell_type": "code",
   "execution_count": null,
   "metadata": {},
   "outputs": [],
   "source": [
    "tf.random.set_seed(2020)\n",
    "\n",
    "class MyModel(keras.Model):\n",
    "    def __init__(self, **kwargs):\n",
    "        super().__init__(**kwargs) # handles standard args (e.g., name)\n",
    "        self.hidden1 = keras.layers.Dense(4, activation=\"relu\")\n",
    "        self.hidden2 = keras.layers.Dense(4, activation=\"relu\")\n",
    "        self.hidden3 = keras.layers.Dense(4, activation=\"relu\")        \n",
    "        self.out = keras.layers.Dense(1, activation=\"linear\")\n",
    "\n",
    "    def call(self, input_):\n",
    "        hidden1 = self.hidden1(input_)\n",
    "        hidden2 = self.hidden2(hidden1)\n",
    "        hidden3 = self.hidden3(hidden2)        \n",
    "        concat = layers.Concatenate()([input_, hidden3])\n",
    "        return self.out(concat)\n",
    "\n",
    "model = MyModel()"
   ]
  },
  {
   "cell_type": "code",
   "execution_count": null,
   "metadata": {},
   "outputs": [],
   "source": [
    "model.compile(loss='mse',\n",
    "              optimizer=sgd,\n",
    "              metrics=['mse','mae'])\n",
    "history = model.fit(X_train, y_train, epochs=n_epochs,\n",
    "                    validation_data=(X_valid, y_valid))"
   ]
  },
  {
   "cell_type": "code",
   "execution_count": null,
   "metadata": {},
   "outputs": [],
   "source": [
    "model.summary()"
   ]
  },
  {
   "cell_type": "code",
   "execution_count": null,
   "metadata": {},
   "outputs": [],
   "source": [
    "fig = go.Figure()\n",
    "plot_history(fig, history)\n",
    "fig.show()"
   ]
  },
  {
   "cell_type": "code",
   "execution_count": null,
   "metadata": {},
   "outputs": [],
   "source": [
    "save_figure_to_file(fig, '../Slides/TF_Keras', 'fig7')"
   ]
  },
  {
   "cell_type": "code",
   "execution_count": null,
   "metadata": {},
   "outputs": [],
   "source": [
    "fig = go.Figure()\n",
    "error_relu = plot_error(fig, model, X_test, y_test)\n",
    "fig.show()"
   ]
  },
  {
   "cell_type": "code",
   "execution_count": null,
   "metadata": {},
   "outputs": [],
   "source": [
    "save_figure_to_file(fig, '../Slides/TF_Keras', 'fig8')"
   ]
  },
  {
   "cell_type": "code",
   "execution_count": null,
   "metadata": {},
   "outputs": [],
   "source": [
    "def multi_input(X):\n",
    "    return np.transpose( np.vstack( (2 * X**2 - 1, 8 * X**4 - 8 * X**2 + 1 )))"
   ]
  },
  {
   "cell_type": "code",
   "execution_count": null,
   "metadata": {},
   "outputs": [],
   "source": [
    "tf.random.set_seed(2020)\n",
    "\n",
    "import math\n",
    "\n",
    "X_train = np.linspace(0,1,513)\n",
    "y_train = fun(X_train)\n",
    "\n",
    "X_valid = np.linspace(0,1,129)\n",
    "y_valid = fun(X_valid)\n",
    "\n",
    "X_test = np.linspace(0,1,65)\n",
    "y_test = fun(X_test)\n",
    "\n",
    "input_ = layers.Input(shape=2)\n",
    "hidden1 = layers.Dense(4, activation=\"tanh\")(input_)\n",
    "hidden2 = layers.Dense(4, activation=\"tanh\")(hidden1)\n",
    "hidden3 = layers.Dense(4, activation=\"tanh\")(hidden2)\n",
    "concat = layers.Concatenate()([input_, hidden3])\n",
    "output = layers.Dense(1, activation=\"linear\")(hidden3)\n",
    "model = Model(inputs=[input_], outputs=[output])\n",
    "\n",
    "model.summary()"
   ]
  },
  {
   "cell_type": "code",
   "execution_count": null,
   "metadata": {},
   "outputs": [],
   "source": [
    "model.compile(loss='mse',\n",
    "              optimizer=sgd,\n",
    "              metrics=['mse','mae'])\n",
    "\n",
    "X_train_3 = multi_input(X_train)\n",
    "X_valid_3 = multi_input(X_valid)\n",
    "\n",
    "history = model.fit(X_train_3, y_train, epochs=n_epochs,\n",
    "                    validation_data=(X_valid_3, y_valid))"
   ]
  },
  {
   "cell_type": "code",
   "execution_count": null,
   "metadata": {},
   "outputs": [],
   "source": [
    "fig = go.Figure()\n",
    "plot_history(fig, history)\n",
    "fig.show()"
   ]
  },
  {
   "cell_type": "code",
   "execution_count": null,
   "metadata": {},
   "outputs": [],
   "source": [
    "save_figure_to_file(fig, '../Slides/TF_Keras', 'fig9')"
   ]
  },
  {
   "cell_type": "code",
   "execution_count": null,
   "metadata": {},
   "outputs": [],
   "source": [
    "fig = go.Figure()\n",
    "y_pred = np.array( model.predict( multi_input(X_test) ) ).flatten()\n",
    "error_mX = abs(y_test-y_pred)\n",
    "fig.add_trace(go.Scatter(x = X_test, y = error_mX))\n",
    "fig.update_layout(width=600, yaxis_type=\"log\")\n",
    "fig.show()"
   ]
  },
  {
   "cell_type": "code",
   "execution_count": null,
   "metadata": {},
   "outputs": [],
   "source": [
    "save_figure_to_file(fig, '../Slides/TF_Keras', 'fig10')"
   ]
  },
  {
   "cell_type": "code",
   "execution_count": null,
   "metadata": {},
   "outputs": [],
   "source": [
    "error_multiX = np.concatenate( (error_mX[::-1], error_mX[1:]) )"
   ]
  },
  {
   "cell_type": "code",
   "execution_count": null,
   "metadata": {},
   "outputs": [],
   "source": [
    "fig = go.Figure()\n",
    "X_test = np.linspace(-1,1,129)\n",
    "fig.add_trace(go.Scatter(x = X_test, y = error_relu, name = 'relu DNN'))\n",
    "fig.add_trace(go.Scatter(x = X_test, y = error_cat, name = 'concat DNN'))\n",
    "fig.add_trace(go.Scatter(x = X_test, y = error_seq, name = 'seq DNN'))\n",
    "fig.add_trace(go.Scatter(x = X_test, y = error_multiX, name = 'multi X'))\n",
    "fig.update_layout(width=900, yaxis_type=\"log\", xaxis_title=\"x\")\n",
    "fig.show()"
   ]
  },
  {
   "cell_type": "code",
   "execution_count": null,
   "metadata": {},
   "outputs": [],
   "source": [
    "save_figure_to_file(fig, '../Slides/TF_Keras', 'fig11')"
   ]
  }
 ],
 "metadata": {
  "kernelspec": {
   "display_name": "Python 3",
   "language": "python",
   "name": "python3"
  },
  "language_info": {
   "codemirror_mode": {
    "name": "ipython",
    "version": 3
   },
   "file_extension": ".py",
   "mimetype": "text/x-python",
   "name": "python",
   "nbconvert_exporter": "python",
   "pygments_lexer": "ipython3",
   "version": "3.7.6"
  }
 },
 "nbformat": 4,
 "nbformat_minor": 4
}
