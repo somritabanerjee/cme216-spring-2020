{
 "cells": [
  {
   "cell_type": "code",
   "execution_count": 16,
   "metadata": {},
   "outputs": [],
   "source": [
    "import numpy as np\n",
    "from numpy import ndarray"
   ]
  },
  {
   "cell_type": "code",
   "execution_count": 17,
   "metadata": {},
   "outputs": [],
   "source": [
    "import plotly.graph_objects as go\n",
    "def save_to_html(fig, path, file_name):\n",
    "    # Comment this line if you get an error\n",
    "    fig.write_html(path + '/' + file_name)"
   ]
  },
  {
   "cell_type": "code",
   "execution_count": 24,
   "metadata": {},
   "outputs": [
    {
     "data": {
      "application/vnd.plotly.v1+json": {
       "config": {
        "plotlyServerURL": "https://plot.ly"
       },
       "data": [
        {
         "name": "heaviside",
         "type": "scatter",
         "x": [
          -1,
          -0.001,
          0.001,
          1
         ],
         "y": [
          0,
          0,
          1,
          1
         ]
        }
       ],
       "layout": {
        "template": {
         "data": {
          "bar": [
           {
            "error_x": {
             "color": "#2a3f5f"
            },
            "error_y": {
             "color": "#2a3f5f"
            },
            "marker": {
             "line": {
              "color": "#E5ECF6",
              "width": 0.5
             }
            },
            "type": "bar"
           }
          ],
          "barpolar": [
           {
            "marker": {
             "line": {
              "color": "#E5ECF6",
              "width": 0.5
             }
            },
            "type": "barpolar"
           }
          ],
          "carpet": [
           {
            "aaxis": {
             "endlinecolor": "#2a3f5f",
             "gridcolor": "white",
             "linecolor": "white",
             "minorgridcolor": "white",
             "startlinecolor": "#2a3f5f"
            },
            "baxis": {
             "endlinecolor": "#2a3f5f",
             "gridcolor": "white",
             "linecolor": "white",
             "minorgridcolor": "white",
             "startlinecolor": "#2a3f5f"
            },
            "type": "carpet"
           }
          ],
          "choropleth": [
           {
            "colorbar": {
             "outlinewidth": 0,
             "ticks": ""
            },
            "type": "choropleth"
           }
          ],
          "contour": [
           {
            "colorbar": {
             "outlinewidth": 0,
             "ticks": ""
            },
            "colorscale": [
             [
              0,
              "#0d0887"
             ],
             [
              0.1111111111111111,
              "#46039f"
             ],
             [
              0.2222222222222222,
              "#7201a8"
             ],
             [
              0.3333333333333333,
              "#9c179e"
             ],
             [
              0.4444444444444444,
              "#bd3786"
             ],
             [
              0.5555555555555556,
              "#d8576b"
             ],
             [
              0.6666666666666666,
              "#ed7953"
             ],
             [
              0.7777777777777778,
              "#fb9f3a"
             ],
             [
              0.8888888888888888,
              "#fdca26"
             ],
             [
              1,
              "#f0f921"
             ]
            ],
            "type": "contour"
           }
          ],
          "contourcarpet": [
           {
            "colorbar": {
             "outlinewidth": 0,
             "ticks": ""
            },
            "type": "contourcarpet"
           }
          ],
          "heatmap": [
           {
            "colorbar": {
             "outlinewidth": 0,
             "ticks": ""
            },
            "colorscale": [
             [
              0,
              "#0d0887"
             ],
             [
              0.1111111111111111,
              "#46039f"
             ],
             [
              0.2222222222222222,
              "#7201a8"
             ],
             [
              0.3333333333333333,
              "#9c179e"
             ],
             [
              0.4444444444444444,
              "#bd3786"
             ],
             [
              0.5555555555555556,
              "#d8576b"
             ],
             [
              0.6666666666666666,
              "#ed7953"
             ],
             [
              0.7777777777777778,
              "#fb9f3a"
             ],
             [
              0.8888888888888888,
              "#fdca26"
             ],
             [
              1,
              "#f0f921"
             ]
            ],
            "type": "heatmap"
           }
          ],
          "heatmapgl": [
           {
            "colorbar": {
             "outlinewidth": 0,
             "ticks": ""
            },
            "colorscale": [
             [
              0,
              "#0d0887"
             ],
             [
              0.1111111111111111,
              "#46039f"
             ],
             [
              0.2222222222222222,
              "#7201a8"
             ],
             [
              0.3333333333333333,
              "#9c179e"
             ],
             [
              0.4444444444444444,
              "#bd3786"
             ],
             [
              0.5555555555555556,
              "#d8576b"
             ],
             [
              0.6666666666666666,
              "#ed7953"
             ],
             [
              0.7777777777777778,
              "#fb9f3a"
             ],
             [
              0.8888888888888888,
              "#fdca26"
             ],
             [
              1,
              "#f0f921"
             ]
            ],
            "type": "heatmapgl"
           }
          ],
          "histogram": [
           {
            "marker": {
             "colorbar": {
              "outlinewidth": 0,
              "ticks": ""
             }
            },
            "type": "histogram"
           }
          ],
          "histogram2d": [
           {
            "colorbar": {
             "outlinewidth": 0,
             "ticks": ""
            },
            "colorscale": [
             [
              0,
              "#0d0887"
             ],
             [
              0.1111111111111111,
              "#46039f"
             ],
             [
              0.2222222222222222,
              "#7201a8"
             ],
             [
              0.3333333333333333,
              "#9c179e"
             ],
             [
              0.4444444444444444,
              "#bd3786"
             ],
             [
              0.5555555555555556,
              "#d8576b"
             ],
             [
              0.6666666666666666,
              "#ed7953"
             ],
             [
              0.7777777777777778,
              "#fb9f3a"
             ],
             [
              0.8888888888888888,
              "#fdca26"
             ],
             [
              1,
              "#f0f921"
             ]
            ],
            "type": "histogram2d"
           }
          ],
          "histogram2dcontour": [
           {
            "colorbar": {
             "outlinewidth": 0,
             "ticks": ""
            },
            "colorscale": [
             [
              0,
              "#0d0887"
             ],
             [
              0.1111111111111111,
              "#46039f"
             ],
             [
              0.2222222222222222,
              "#7201a8"
             ],
             [
              0.3333333333333333,
              "#9c179e"
             ],
             [
              0.4444444444444444,
              "#bd3786"
             ],
             [
              0.5555555555555556,
              "#d8576b"
             ],
             [
              0.6666666666666666,
              "#ed7953"
             ],
             [
              0.7777777777777778,
              "#fb9f3a"
             ],
             [
              0.8888888888888888,
              "#fdca26"
             ],
             [
              1,
              "#f0f921"
             ]
            ],
            "type": "histogram2dcontour"
           }
          ],
          "mesh3d": [
           {
            "colorbar": {
             "outlinewidth": 0,
             "ticks": ""
            },
            "type": "mesh3d"
           }
          ],
          "parcoords": [
           {
            "line": {
             "colorbar": {
              "outlinewidth": 0,
              "ticks": ""
             }
            },
            "type": "parcoords"
           }
          ],
          "pie": [
           {
            "automargin": true,
            "type": "pie"
           }
          ],
          "scatter": [
           {
            "marker": {
             "colorbar": {
              "outlinewidth": 0,
              "ticks": ""
             }
            },
            "type": "scatter"
           }
          ],
          "scatter3d": [
           {
            "line": {
             "colorbar": {
              "outlinewidth": 0,
              "ticks": ""
             }
            },
            "marker": {
             "colorbar": {
              "outlinewidth": 0,
              "ticks": ""
             }
            },
            "type": "scatter3d"
           }
          ],
          "scattercarpet": [
           {
            "marker": {
             "colorbar": {
              "outlinewidth": 0,
              "ticks": ""
             }
            },
            "type": "scattercarpet"
           }
          ],
          "scattergeo": [
           {
            "marker": {
             "colorbar": {
              "outlinewidth": 0,
              "ticks": ""
             }
            },
            "type": "scattergeo"
           }
          ],
          "scattergl": [
           {
            "marker": {
             "colorbar": {
              "outlinewidth": 0,
              "ticks": ""
             }
            },
            "type": "scattergl"
           }
          ],
          "scattermapbox": [
           {
            "marker": {
             "colorbar": {
              "outlinewidth": 0,
              "ticks": ""
             }
            },
            "type": "scattermapbox"
           }
          ],
          "scatterpolar": [
           {
            "marker": {
             "colorbar": {
              "outlinewidth": 0,
              "ticks": ""
             }
            },
            "type": "scatterpolar"
           }
          ],
          "scatterpolargl": [
           {
            "marker": {
             "colorbar": {
              "outlinewidth": 0,
              "ticks": ""
             }
            },
            "type": "scatterpolargl"
           }
          ],
          "scatterternary": [
           {
            "marker": {
             "colorbar": {
              "outlinewidth": 0,
              "ticks": ""
             }
            },
            "type": "scatterternary"
           }
          ],
          "surface": [
           {
            "colorbar": {
             "outlinewidth": 0,
             "ticks": ""
            },
            "colorscale": [
             [
              0,
              "#0d0887"
             ],
             [
              0.1111111111111111,
              "#46039f"
             ],
             [
              0.2222222222222222,
              "#7201a8"
             ],
             [
              0.3333333333333333,
              "#9c179e"
             ],
             [
              0.4444444444444444,
              "#bd3786"
             ],
             [
              0.5555555555555556,
              "#d8576b"
             ],
             [
              0.6666666666666666,
              "#ed7953"
             ],
             [
              0.7777777777777778,
              "#fb9f3a"
             ],
             [
              0.8888888888888888,
              "#fdca26"
             ],
             [
              1,
              "#f0f921"
             ]
            ],
            "type": "surface"
           }
          ],
          "table": [
           {
            "cells": {
             "fill": {
              "color": "#EBF0F8"
             },
             "line": {
              "color": "white"
             }
            },
            "header": {
             "fill": {
              "color": "#C8D4E3"
             },
             "line": {
              "color": "white"
             }
            },
            "type": "table"
           }
          ]
         },
         "layout": {
          "annotationdefaults": {
           "arrowcolor": "#2a3f5f",
           "arrowhead": 0,
           "arrowwidth": 1
          },
          "coloraxis": {
           "colorbar": {
            "outlinewidth": 0,
            "ticks": ""
           }
          },
          "colorscale": {
           "diverging": [
            [
             0,
             "#8e0152"
            ],
            [
             0.1,
             "#c51b7d"
            ],
            [
             0.2,
             "#de77ae"
            ],
            [
             0.3,
             "#f1b6da"
            ],
            [
             0.4,
             "#fde0ef"
            ],
            [
             0.5,
             "#f7f7f7"
            ],
            [
             0.6,
             "#e6f5d0"
            ],
            [
             0.7,
             "#b8e186"
            ],
            [
             0.8,
             "#7fbc41"
            ],
            [
             0.9,
             "#4d9221"
            ],
            [
             1,
             "#276419"
            ]
           ],
           "sequential": [
            [
             0,
             "#0d0887"
            ],
            [
             0.1111111111111111,
             "#46039f"
            ],
            [
             0.2222222222222222,
             "#7201a8"
            ],
            [
             0.3333333333333333,
             "#9c179e"
            ],
            [
             0.4444444444444444,
             "#bd3786"
            ],
            [
             0.5555555555555556,
             "#d8576b"
            ],
            [
             0.6666666666666666,
             "#ed7953"
            ],
            [
             0.7777777777777778,
             "#fb9f3a"
            ],
            [
             0.8888888888888888,
             "#fdca26"
            ],
            [
             1,
             "#f0f921"
            ]
           ],
           "sequentialminus": [
            [
             0,
             "#0d0887"
            ],
            [
             0.1111111111111111,
             "#46039f"
            ],
            [
             0.2222222222222222,
             "#7201a8"
            ],
            [
             0.3333333333333333,
             "#9c179e"
            ],
            [
             0.4444444444444444,
             "#bd3786"
            ],
            [
             0.5555555555555556,
             "#d8576b"
            ],
            [
             0.6666666666666666,
             "#ed7953"
            ],
            [
             0.7777777777777778,
             "#fb9f3a"
            ],
            [
             0.8888888888888888,
             "#fdca26"
            ],
            [
             1,
             "#f0f921"
            ]
           ]
          },
          "colorway": [
           "#636efa",
           "#EF553B",
           "#00cc96",
           "#ab63fa",
           "#FFA15A",
           "#19d3f3",
           "#FF6692",
           "#B6E880",
           "#FF97FF",
           "#FECB52"
          ],
          "font": {
           "color": "#2a3f5f"
          },
          "geo": {
           "bgcolor": "white",
           "lakecolor": "white",
           "landcolor": "#E5ECF6",
           "showlakes": true,
           "showland": true,
           "subunitcolor": "white"
          },
          "hoverlabel": {
           "align": "left"
          },
          "hovermode": "closest",
          "mapbox": {
           "style": "light"
          },
          "paper_bgcolor": "white",
          "plot_bgcolor": "#E5ECF6",
          "polar": {
           "angularaxis": {
            "gridcolor": "white",
            "linecolor": "white",
            "ticks": ""
           },
           "bgcolor": "#E5ECF6",
           "radialaxis": {
            "gridcolor": "white",
            "linecolor": "white",
            "ticks": ""
           }
          },
          "scene": {
           "xaxis": {
            "backgroundcolor": "#E5ECF6",
            "gridcolor": "white",
            "gridwidth": 2,
            "linecolor": "white",
            "showbackground": true,
            "ticks": "",
            "zerolinecolor": "white"
           },
           "yaxis": {
            "backgroundcolor": "#E5ECF6",
            "gridcolor": "white",
            "gridwidth": 2,
            "linecolor": "white",
            "showbackground": true,
            "ticks": "",
            "zerolinecolor": "white"
           },
           "zaxis": {
            "backgroundcolor": "#E5ECF6",
            "gridcolor": "white",
            "gridwidth": 2,
            "linecolor": "white",
            "showbackground": true,
            "ticks": "",
            "zerolinecolor": "white"
           }
          },
          "shapedefaults": {
           "line": {
            "color": "#2a3f5f"
           }
          },
          "ternary": {
           "aaxis": {
            "gridcolor": "white",
            "linecolor": "white",
            "ticks": ""
           },
           "baxis": {
            "gridcolor": "white",
            "linecolor": "white",
            "ticks": ""
           },
           "bgcolor": "#E5ECF6",
           "caxis": {
            "gridcolor": "white",
            "linecolor": "white",
            "ticks": ""
           }
          },
          "title": {
           "x": 0.05
          },
          "xaxis": {
           "automargin": true,
           "gridcolor": "white",
           "linecolor": "white",
           "ticks": "",
           "title": {
            "standoff": 15
           },
           "zerolinecolor": "white",
           "zerolinewidth": 2
          },
          "yaxis": {
           "automargin": true,
           "gridcolor": "white",
           "linecolor": "white",
           "ticks": "",
           "title": {
            "standoff": 15
           },
           "zerolinecolor": "white",
           "zerolinewidth": 2
          }
         }
        },
        "title": {
         "text": "heaviside function"
        },
        "width": 600,
        "yaxis": {
         "range": [
          -0.1,
          1.1
         ]
        }
       }
      },
      "text/html": [
       "<div>\n",
       "        \n",
       "        \n",
       "            <div id=\"4119d9bd-5523-44ba-9753-6a9ab01cfe13\" class=\"plotly-graph-div\" style=\"height:525px; width:600px;\"></div>\n",
       "            <script type=\"text/javascript\">\n",
       "                require([\"plotly\"], function(Plotly) {\n",
       "                    window.PLOTLYENV=window.PLOTLYENV || {};\n",
       "                    \n",
       "                if (document.getElementById(\"4119d9bd-5523-44ba-9753-6a9ab01cfe13\")) {\n",
       "                    Plotly.newPlot(\n",
       "                        '4119d9bd-5523-44ba-9753-6a9ab01cfe13',\n",
       "                        [{\"name\": \"heaviside\", \"type\": \"scatter\", \"x\": [-1.0, -0.001, 0.001, 1.0], \"y\": [0.0, 0.0, 1.0, 1.0]}],\n",
       "                        {\"template\": {\"data\": {\"bar\": [{\"error_x\": {\"color\": \"#2a3f5f\"}, \"error_y\": {\"color\": \"#2a3f5f\"}, \"marker\": {\"line\": {\"color\": \"#E5ECF6\", \"width\": 0.5}}, \"type\": \"bar\"}], \"barpolar\": [{\"marker\": {\"line\": {\"color\": \"#E5ECF6\", \"width\": 0.5}}, \"type\": \"barpolar\"}], \"carpet\": [{\"aaxis\": {\"endlinecolor\": \"#2a3f5f\", \"gridcolor\": \"white\", \"linecolor\": \"white\", \"minorgridcolor\": \"white\", \"startlinecolor\": \"#2a3f5f\"}, \"baxis\": {\"endlinecolor\": \"#2a3f5f\", \"gridcolor\": \"white\", \"linecolor\": \"white\", \"minorgridcolor\": \"white\", \"startlinecolor\": \"#2a3f5f\"}, \"type\": \"carpet\"}], \"choropleth\": [{\"colorbar\": {\"outlinewidth\": 0, \"ticks\": \"\"}, \"type\": \"choropleth\"}], \"contour\": [{\"colorbar\": {\"outlinewidth\": 0, \"ticks\": \"\"}, \"colorscale\": [[0.0, \"#0d0887\"], [0.1111111111111111, \"#46039f\"], [0.2222222222222222, \"#7201a8\"], [0.3333333333333333, \"#9c179e\"], [0.4444444444444444, \"#bd3786\"], [0.5555555555555556, \"#d8576b\"], [0.6666666666666666, \"#ed7953\"], [0.7777777777777778, \"#fb9f3a\"], [0.8888888888888888, \"#fdca26\"], [1.0, \"#f0f921\"]], \"type\": \"contour\"}], \"contourcarpet\": [{\"colorbar\": {\"outlinewidth\": 0, \"ticks\": \"\"}, \"type\": \"contourcarpet\"}], \"heatmap\": [{\"colorbar\": {\"outlinewidth\": 0, \"ticks\": \"\"}, \"colorscale\": [[0.0, \"#0d0887\"], [0.1111111111111111, \"#46039f\"], [0.2222222222222222, \"#7201a8\"], [0.3333333333333333, \"#9c179e\"], [0.4444444444444444, \"#bd3786\"], [0.5555555555555556, \"#d8576b\"], [0.6666666666666666, \"#ed7953\"], [0.7777777777777778, \"#fb9f3a\"], [0.8888888888888888, \"#fdca26\"], [1.0, \"#f0f921\"]], \"type\": \"heatmap\"}], \"heatmapgl\": [{\"colorbar\": {\"outlinewidth\": 0, \"ticks\": \"\"}, \"colorscale\": [[0.0, \"#0d0887\"], [0.1111111111111111, \"#46039f\"], [0.2222222222222222, \"#7201a8\"], [0.3333333333333333, \"#9c179e\"], [0.4444444444444444, \"#bd3786\"], [0.5555555555555556, \"#d8576b\"], [0.6666666666666666, \"#ed7953\"], [0.7777777777777778, \"#fb9f3a\"], [0.8888888888888888, \"#fdca26\"], [1.0, \"#f0f921\"]], \"type\": \"heatmapgl\"}], \"histogram\": [{\"marker\": {\"colorbar\": {\"outlinewidth\": 0, \"ticks\": \"\"}}, \"type\": \"histogram\"}], \"histogram2d\": [{\"colorbar\": {\"outlinewidth\": 0, \"ticks\": \"\"}, \"colorscale\": [[0.0, \"#0d0887\"], [0.1111111111111111, \"#46039f\"], [0.2222222222222222, \"#7201a8\"], [0.3333333333333333, \"#9c179e\"], [0.4444444444444444, \"#bd3786\"], [0.5555555555555556, \"#d8576b\"], [0.6666666666666666, \"#ed7953\"], [0.7777777777777778, \"#fb9f3a\"], [0.8888888888888888, \"#fdca26\"], [1.0, \"#f0f921\"]], \"type\": \"histogram2d\"}], \"histogram2dcontour\": [{\"colorbar\": {\"outlinewidth\": 0, \"ticks\": \"\"}, \"colorscale\": [[0.0, \"#0d0887\"], [0.1111111111111111, \"#46039f\"], [0.2222222222222222, \"#7201a8\"], [0.3333333333333333, \"#9c179e\"], [0.4444444444444444, \"#bd3786\"], [0.5555555555555556, \"#d8576b\"], [0.6666666666666666, \"#ed7953\"], [0.7777777777777778, \"#fb9f3a\"], [0.8888888888888888, \"#fdca26\"], [1.0, \"#f0f921\"]], \"type\": \"histogram2dcontour\"}], \"mesh3d\": [{\"colorbar\": {\"outlinewidth\": 0, \"ticks\": \"\"}, \"type\": \"mesh3d\"}], \"parcoords\": [{\"line\": {\"colorbar\": {\"outlinewidth\": 0, \"ticks\": \"\"}}, \"type\": \"parcoords\"}], \"pie\": [{\"automargin\": true, \"type\": \"pie\"}], \"scatter\": [{\"marker\": {\"colorbar\": {\"outlinewidth\": 0, \"ticks\": \"\"}}, \"type\": \"scatter\"}], \"scatter3d\": [{\"line\": {\"colorbar\": {\"outlinewidth\": 0, \"ticks\": \"\"}}, \"marker\": {\"colorbar\": {\"outlinewidth\": 0, \"ticks\": \"\"}}, \"type\": \"scatter3d\"}], \"scattercarpet\": [{\"marker\": {\"colorbar\": {\"outlinewidth\": 0, \"ticks\": \"\"}}, \"type\": \"scattercarpet\"}], \"scattergeo\": [{\"marker\": {\"colorbar\": {\"outlinewidth\": 0, \"ticks\": \"\"}}, \"type\": \"scattergeo\"}], \"scattergl\": [{\"marker\": {\"colorbar\": {\"outlinewidth\": 0, \"ticks\": \"\"}}, \"type\": \"scattergl\"}], \"scattermapbox\": [{\"marker\": {\"colorbar\": {\"outlinewidth\": 0, \"ticks\": \"\"}}, \"type\": \"scattermapbox\"}], \"scatterpolar\": [{\"marker\": {\"colorbar\": {\"outlinewidth\": 0, \"ticks\": \"\"}}, \"type\": \"scatterpolar\"}], \"scatterpolargl\": [{\"marker\": {\"colorbar\": {\"outlinewidth\": 0, \"ticks\": \"\"}}, \"type\": \"scatterpolargl\"}], \"scatterternary\": [{\"marker\": {\"colorbar\": {\"outlinewidth\": 0, \"ticks\": \"\"}}, \"type\": \"scatterternary\"}], \"surface\": [{\"colorbar\": {\"outlinewidth\": 0, \"ticks\": \"\"}, \"colorscale\": [[0.0, \"#0d0887\"], [0.1111111111111111, \"#46039f\"], [0.2222222222222222, \"#7201a8\"], [0.3333333333333333, \"#9c179e\"], [0.4444444444444444, \"#bd3786\"], [0.5555555555555556, \"#d8576b\"], [0.6666666666666666, \"#ed7953\"], [0.7777777777777778, \"#fb9f3a\"], [0.8888888888888888, \"#fdca26\"], [1.0, \"#f0f921\"]], \"type\": \"surface\"}], \"table\": [{\"cells\": {\"fill\": {\"color\": \"#EBF0F8\"}, \"line\": {\"color\": \"white\"}}, \"header\": {\"fill\": {\"color\": \"#C8D4E3\"}, \"line\": {\"color\": \"white\"}}, \"type\": \"table\"}]}, \"layout\": {\"annotationdefaults\": {\"arrowcolor\": \"#2a3f5f\", \"arrowhead\": 0, \"arrowwidth\": 1}, \"coloraxis\": {\"colorbar\": {\"outlinewidth\": 0, \"ticks\": \"\"}}, \"colorscale\": {\"diverging\": [[0, \"#8e0152\"], [0.1, \"#c51b7d\"], [0.2, \"#de77ae\"], [0.3, \"#f1b6da\"], [0.4, \"#fde0ef\"], [0.5, \"#f7f7f7\"], [0.6, \"#e6f5d0\"], [0.7, \"#b8e186\"], [0.8, \"#7fbc41\"], [0.9, \"#4d9221\"], [1, \"#276419\"]], \"sequential\": [[0.0, \"#0d0887\"], [0.1111111111111111, \"#46039f\"], [0.2222222222222222, \"#7201a8\"], [0.3333333333333333, \"#9c179e\"], [0.4444444444444444, \"#bd3786\"], [0.5555555555555556, \"#d8576b\"], [0.6666666666666666, \"#ed7953\"], [0.7777777777777778, \"#fb9f3a\"], [0.8888888888888888, \"#fdca26\"], [1.0, \"#f0f921\"]], \"sequentialminus\": [[0.0, \"#0d0887\"], [0.1111111111111111, \"#46039f\"], [0.2222222222222222, \"#7201a8\"], [0.3333333333333333, \"#9c179e\"], [0.4444444444444444, \"#bd3786\"], [0.5555555555555556, \"#d8576b\"], [0.6666666666666666, \"#ed7953\"], [0.7777777777777778, \"#fb9f3a\"], [0.8888888888888888, \"#fdca26\"], [1.0, \"#f0f921\"]]}, \"colorway\": [\"#636efa\", \"#EF553B\", \"#00cc96\", \"#ab63fa\", \"#FFA15A\", \"#19d3f3\", \"#FF6692\", \"#B6E880\", \"#FF97FF\", \"#FECB52\"], \"font\": {\"color\": \"#2a3f5f\"}, \"geo\": {\"bgcolor\": \"white\", \"lakecolor\": \"white\", \"landcolor\": \"#E5ECF6\", \"showlakes\": true, \"showland\": true, \"subunitcolor\": \"white\"}, \"hoverlabel\": {\"align\": \"left\"}, \"hovermode\": \"closest\", \"mapbox\": {\"style\": \"light\"}, \"paper_bgcolor\": \"white\", \"plot_bgcolor\": \"#E5ECF6\", \"polar\": {\"angularaxis\": {\"gridcolor\": \"white\", \"linecolor\": \"white\", \"ticks\": \"\"}, \"bgcolor\": \"#E5ECF6\", \"radialaxis\": {\"gridcolor\": \"white\", \"linecolor\": \"white\", \"ticks\": \"\"}}, \"scene\": {\"xaxis\": {\"backgroundcolor\": \"#E5ECF6\", \"gridcolor\": \"white\", \"gridwidth\": 2, \"linecolor\": \"white\", \"showbackground\": true, \"ticks\": \"\", \"zerolinecolor\": \"white\"}, \"yaxis\": {\"backgroundcolor\": \"#E5ECF6\", \"gridcolor\": \"white\", \"gridwidth\": 2, \"linecolor\": \"white\", \"showbackground\": true, \"ticks\": \"\", \"zerolinecolor\": \"white\"}, \"zaxis\": {\"backgroundcolor\": \"#E5ECF6\", \"gridcolor\": \"white\", \"gridwidth\": 2, \"linecolor\": \"white\", \"showbackground\": true, \"ticks\": \"\", \"zerolinecolor\": \"white\"}}, \"shapedefaults\": {\"line\": {\"color\": \"#2a3f5f\"}}, \"ternary\": {\"aaxis\": {\"gridcolor\": \"white\", \"linecolor\": \"white\", \"ticks\": \"\"}, \"baxis\": {\"gridcolor\": \"white\", \"linecolor\": \"white\", \"ticks\": \"\"}, \"bgcolor\": \"#E5ECF6\", \"caxis\": {\"gridcolor\": \"white\", \"linecolor\": \"white\", \"ticks\": \"\"}}, \"title\": {\"x\": 0.05}, \"xaxis\": {\"automargin\": true, \"gridcolor\": \"white\", \"linecolor\": \"white\", \"ticks\": \"\", \"title\": {\"standoff\": 15}, \"zerolinecolor\": \"white\", \"zerolinewidth\": 2}, \"yaxis\": {\"automargin\": true, \"gridcolor\": \"white\", \"linecolor\": \"white\", \"ticks\": \"\", \"title\": {\"standoff\": 15}, \"zerolinecolor\": \"white\", \"zerolinewidth\": 2}}}, \"title\": {\"text\": \"heaviside function\"}, \"width\": 600, \"yaxis\": {\"range\": [-0.1, 1.1]}},\n",
       "                        {\"responsive\": true}\n",
       "                    ).then(function(){\n",
       "                            \n",
       "var gd = document.getElementById('4119d9bd-5523-44ba-9753-6a9ab01cfe13');\n",
       "var x = new MutationObserver(function (mutations, observer) {{\n",
       "        var display = window.getComputedStyle(gd).display;\n",
       "        if (!display || display === 'none') {{\n",
       "            console.log([gd, 'removed!']);\n",
       "            Plotly.purge(gd);\n",
       "            observer.disconnect();\n",
       "        }}\n",
       "}});\n",
       "\n",
       "// Listen for the removal of the full notebook cells\n",
       "var notebookContainer = gd.closest('#notebook-container');\n",
       "if (notebookContainer) {{\n",
       "    x.observe(notebookContainer, {childList: true});\n",
       "}}\n",
       "\n",
       "// Listen for the clearing of the current output cell\n",
       "var outputEl = gd.closest('.output');\n",
       "if (outputEl) {{\n",
       "    x.observe(outputEl, {childList: true});\n",
       "}}\n",
       "\n",
       "                        })\n",
       "                };\n",
       "                });\n",
       "            </script>\n",
       "        </div>"
      ]
     },
     "metadata": {},
     "output_type": "display_data"
    }
   ],
   "source": [
    "x = np.array([-1, -1e-3, 1e-3, 1])\n",
    "\n",
    "fig = go.Figure()\n",
    "fig.add_trace(go.Scatter(x=x, y= np.heaviside(x,0.5), name='heaviside'))\n",
    "fig.update_layout(width=600, yaxis_range=[-0.1, 1.1], title='heaviside function')\n",
    "fig.show()"
   ]
  },
  {
   "cell_type": "code",
   "execution_count": 26,
   "metadata": {},
   "outputs": [],
   "source": [
    "save_to_html(fig, '../Slides/ANN', 'fig1.html')"
   ]
  },
  {
   "cell_type": "code",
   "execution_count": 39,
   "metadata": {},
   "outputs": [
    {
     "data": {
      "application/vnd.plotly.v1+json": {
       "config": {
        "plotlyServerURL": "https://plot.ly"
       },
       "data": [
        {
         "name": "heaviside",
         "type": "scatter",
         "x": [
          -4,
          -3.871,
          -3.742,
          -3.613,
          -3.484,
          -3.355,
          -3.226,
          -3.097,
          -2.968,
          -2.839,
          -2.71,
          -2.581,
          -2.452,
          -2.323,
          -2.194,
          -2.065,
          -1.936,
          -1.807,
          -1.678,
          -1.549,
          -1.42,
          -1.291,
          -1.162,
          -1.033,
          -0.9039999999999999,
          -0.7749999999999999,
          -0.6459999999999999,
          -0.5169999999999999,
          -0.3879999999999999,
          -0.2589999999999999,
          -0.1299999999999999,
          -0.001,
          0.001,
          0.13,
          0.259,
          0.388,
          0.517,
          0.646,
          0.775,
          0.904,
          1.033,
          1.162,
          1.291,
          1.42,
          1.549,
          1.678,
          1.807,
          1.936,
          2.065,
          2.194,
          2.323,
          2.452,
          2.581,
          2.71,
          2.839,
          2.968,
          3.097,
          3.226,
          3.355,
          3.484,
          3.613,
          3.742,
          3.871,
          4
         ],
         "y": [
          0,
          0,
          0,
          0,
          0,
          0,
          0,
          0,
          0,
          0,
          0,
          0,
          0,
          0,
          0,
          0,
          0,
          0,
          0,
          0,
          0,
          0,
          0,
          0,
          0,
          0,
          0,
          0,
          0,
          0,
          0,
          0,
          1,
          1,
          1,
          1,
          1,
          1,
          1,
          1,
          1,
          1,
          1,
          1,
          1,
          1,
          1,
          1,
          1,
          1,
          1,
          1,
          1,
          1,
          1,
          1,
          1,
          1,
          1,
          1,
          1,
          1,
          1,
          1
         ]
        },
        {
         "name": "sigmoid",
         "type": "scatter",
         "x": [
          -4,
          -3.871,
          -3.742,
          -3.613,
          -3.484,
          -3.355,
          -3.226,
          -3.097,
          -2.968,
          -2.839,
          -2.71,
          -2.581,
          -2.452,
          -2.323,
          -2.194,
          -2.065,
          -1.936,
          -1.807,
          -1.678,
          -1.549,
          -1.42,
          -1.291,
          -1.162,
          -1.033,
          -0.9039999999999999,
          -0.7749999999999999,
          -0.6459999999999999,
          -0.5169999999999999,
          -0.3879999999999999,
          -0.2589999999999999,
          -0.1299999999999999,
          -0.001,
          0.001,
          0.13,
          0.259,
          0.388,
          0.517,
          0.646,
          0.775,
          0.904,
          1.033,
          1.162,
          1.291,
          1.42,
          1.549,
          1.678,
          1.807,
          1.936,
          2.065,
          2.194,
          2.323,
          2.452,
          2.581,
          2.71,
          2.839,
          2.968,
          3.097,
          3.226,
          3.355,
          3.484,
          3.613,
          3.742,
          3.871,
          4
         ],
         "y": [
          0.01798620996209156,
          0.020412182196494964,
          0.023157652221516414,
          0.026262492173732006,
          0.029770923767100447,
          0.03373181378146723,
          0.03819893501833422,
          0.04323117175676834,
          0.04889264343935163,
          0.05525271442514004,
          0.0623858513799944,
          0.07037128361418403,
          0.07929241601646826,
          0.0892359400292322,
          0.10029058651594644,
          0.1125454668507997,
          0.12608795682920257,
          0.14100109390264448,
          0.157360483511629,
          0.17523074616174983,
          0.19466158359157792,
          0.21568359854292674,
          0.23830406469663543,
          0.26250290511345764,
          0.2882291902580142,
          0.3153984996765693,
          0.3438914934485297,
          0.3735540011815519,
          0.40419885255655175,
          0.43560954621632425,
          0.4675456936126812,
          0.4997500000208333,
          0.5002499999791666,
          0.5324543063873187,
          0.5643904537836758,
          0.5958011474434483,
          0.6264459988184481,
          0.6561085065514702,
          0.6846015003234307,
          0.7117708097419858,
          0.7374970948865424,
          0.7616959353033645,
          0.7843164014570733,
          0.8053384164084221,
          0.8247692538382502,
          0.842639516488371,
          0.8589989060973555,
          0.8739120431707974,
          0.8874545331492003,
          0.8997094134840535,
          0.9107640599707678,
          0.9207075839835317,
          0.929628716385816,
          0.9376141486200055,
          0.9447472855748599,
          0.9511073565606484,
          0.9567688282432317,
          0.9618010649816657,
          0.9662681862185327,
          0.9702290762328996,
          0.973737507826268,
          0.9768423477784836,
          0.9795878178035051,
          0.9820137900379085
         ]
        },
        {
         "name": "tanh",
         "type": "scatter",
         "x": [
          -4,
          -3.871,
          -3.742,
          -3.613,
          -3.484,
          -3.355,
          -3.226,
          -3.097,
          -2.968,
          -2.839,
          -2.71,
          -2.581,
          -2.452,
          -2.323,
          -2.194,
          -2.065,
          -1.936,
          -1.807,
          -1.678,
          -1.549,
          -1.42,
          -1.291,
          -1.162,
          -1.033,
          -0.9039999999999999,
          -0.7749999999999999,
          -0.6459999999999999,
          -0.5169999999999999,
          -0.3879999999999999,
          -0.2589999999999999,
          -0.1299999999999999,
          -0.001,
          0.001,
          0.13,
          0.259,
          0.388,
          0.517,
          0.646,
          0.775,
          0.904,
          1.033,
          1.162,
          1.291,
          1.42,
          1.549,
          1.678,
          1.807,
          1.936,
          2.065,
          2.194,
          2.323,
          2.452,
          2.581,
          2.71,
          2.839,
          2.968,
          3.097,
          3.226,
          3.355,
          3.484,
          3.613,
          3.742,
          3.871,
          4
         ],
         "y": [
          -0.999329299739067,
          -0.9991319722966427,
          -0.9988766215562692,
          -0.9985462080232553,
          -0.9981187031207353,
          -0.9975656384199204,
          -0.9968502397526418,
          -0.9959250319872041,
          -0.9947287719279225,
          -0.9931825336262117,
          -0.9911847331832744,
          -0.9886048413304998,
          -0.9852754970575027,
          -0.9809827146454888,
          -0.975453888082098,
          -0.9683433720658203,
          -0.959215607483683,
          -0.9475261369775438,
          -0.9326015300077743,
          -0.9136203431859565,
          -0.8895989244341314,
          -0.8593882149050867,
          -0.8216905989615264,
          -0.7751087468840967,
          -0.7182399648128485,
          -0.6498274636719203,
          -0.5689710350887308,
          -0.47538128806594737,
          -0.3696347654786019,
          -0.253359961244539,
          -0.12927258360605823,
          -0.0009999996666668,
          0.0009999996666668,
          0.12927258360605834,
          0.25335996124453913,
          0.369634765478602,
          0.4753812880659475,
          0.5689710350887309,
          0.6498274636719203,
          0.7182399648128485,
          0.7751087468840967,
          0.8216905989615264,
          0.8593882149050867,
          0.8895989244341314,
          0.9136203431859565,
          0.9326015300077743,
          0.9475261369775438,
          0.959215607483683,
          0.9683433720658203,
          0.975453888082098,
          0.9809827146454888,
          0.9852754970575027,
          0.9886048413304998,
          0.9911847331832744,
          0.9931825336262117,
          0.9947287719279225,
          0.9959250319872041,
          0.9968502397526418,
          0.9975656384199204,
          0.9981187031207353,
          0.9985462080232553,
          0.9988766215562692,
          0.9991319722966427,
          0.999329299739067
         ]
        },
        {
         "name": "relu",
         "type": "scatter",
         "x": [
          -4,
          -3.871,
          -3.742,
          -3.613,
          -3.484,
          -3.355,
          -3.226,
          -3.097,
          -2.968,
          -2.839,
          -2.71,
          -2.581,
          -2.452,
          -2.323,
          -2.194,
          -2.065,
          -1.936,
          -1.807,
          -1.678,
          -1.549,
          -1.42,
          -1.291,
          -1.162,
          -1.033,
          -0.9039999999999999,
          -0.7749999999999999,
          -0.6459999999999999,
          -0.5169999999999999,
          -0.3879999999999999,
          -0.2589999999999999,
          -0.1299999999999999,
          -0.001,
          0.001,
          0.13,
          0.259,
          0.388,
          0.517,
          0.646,
          0.775,
          0.904,
          1.033,
          1.162,
          1.291,
          1.42,
          1.549,
          1.678,
          1.807,
          1.936,
          2.065,
          2.194,
          2.323,
          2.452,
          2.581,
          2.71,
          2.839,
          2.968,
          3.097,
          3.226,
          3.355,
          3.484,
          3.613,
          3.742,
          3.871,
          4
         ],
         "y": [
          0,
          0,
          0,
          0,
          0,
          0,
          0,
          0,
          0,
          0,
          0,
          0,
          0,
          0,
          0,
          0,
          0,
          0,
          0,
          0,
          0,
          0,
          0,
          0,
          0,
          0,
          0,
          0,
          0,
          0,
          0,
          0,
          0.001,
          0.13,
          0.259,
          0.388,
          0.517,
          0.646,
          0.775,
          0.904,
          1.033,
          1.162,
          1.291,
          1.42,
          1.549,
          1.678,
          1.807,
          1.936,
          2.065,
          2.194,
          2.323,
          2.452,
          2.581,
          2.71,
          2.839,
          2.968,
          3.097,
          3.226,
          3.355,
          3.484,
          3.613,
          3.742,
          3.871,
          4
         ]
        }
       ],
       "layout": {
        "template": {
         "data": {
          "bar": [
           {
            "error_x": {
             "color": "#2a3f5f"
            },
            "error_y": {
             "color": "#2a3f5f"
            },
            "marker": {
             "line": {
              "color": "#E5ECF6",
              "width": 0.5
             }
            },
            "type": "bar"
           }
          ],
          "barpolar": [
           {
            "marker": {
             "line": {
              "color": "#E5ECF6",
              "width": 0.5
             }
            },
            "type": "barpolar"
           }
          ],
          "carpet": [
           {
            "aaxis": {
             "endlinecolor": "#2a3f5f",
             "gridcolor": "white",
             "linecolor": "white",
             "minorgridcolor": "white",
             "startlinecolor": "#2a3f5f"
            },
            "baxis": {
             "endlinecolor": "#2a3f5f",
             "gridcolor": "white",
             "linecolor": "white",
             "minorgridcolor": "white",
             "startlinecolor": "#2a3f5f"
            },
            "type": "carpet"
           }
          ],
          "choropleth": [
           {
            "colorbar": {
             "outlinewidth": 0,
             "ticks": ""
            },
            "type": "choropleth"
           }
          ],
          "contour": [
           {
            "colorbar": {
             "outlinewidth": 0,
             "ticks": ""
            },
            "colorscale": [
             [
              0,
              "#0d0887"
             ],
             [
              0.1111111111111111,
              "#46039f"
             ],
             [
              0.2222222222222222,
              "#7201a8"
             ],
             [
              0.3333333333333333,
              "#9c179e"
             ],
             [
              0.4444444444444444,
              "#bd3786"
             ],
             [
              0.5555555555555556,
              "#d8576b"
             ],
             [
              0.6666666666666666,
              "#ed7953"
             ],
             [
              0.7777777777777778,
              "#fb9f3a"
             ],
             [
              0.8888888888888888,
              "#fdca26"
             ],
             [
              1,
              "#f0f921"
             ]
            ],
            "type": "contour"
           }
          ],
          "contourcarpet": [
           {
            "colorbar": {
             "outlinewidth": 0,
             "ticks": ""
            },
            "type": "contourcarpet"
           }
          ],
          "heatmap": [
           {
            "colorbar": {
             "outlinewidth": 0,
             "ticks": ""
            },
            "colorscale": [
             [
              0,
              "#0d0887"
             ],
             [
              0.1111111111111111,
              "#46039f"
             ],
             [
              0.2222222222222222,
              "#7201a8"
             ],
             [
              0.3333333333333333,
              "#9c179e"
             ],
             [
              0.4444444444444444,
              "#bd3786"
             ],
             [
              0.5555555555555556,
              "#d8576b"
             ],
             [
              0.6666666666666666,
              "#ed7953"
             ],
             [
              0.7777777777777778,
              "#fb9f3a"
             ],
             [
              0.8888888888888888,
              "#fdca26"
             ],
             [
              1,
              "#f0f921"
             ]
            ],
            "type": "heatmap"
           }
          ],
          "heatmapgl": [
           {
            "colorbar": {
             "outlinewidth": 0,
             "ticks": ""
            },
            "colorscale": [
             [
              0,
              "#0d0887"
             ],
             [
              0.1111111111111111,
              "#46039f"
             ],
             [
              0.2222222222222222,
              "#7201a8"
             ],
             [
              0.3333333333333333,
              "#9c179e"
             ],
             [
              0.4444444444444444,
              "#bd3786"
             ],
             [
              0.5555555555555556,
              "#d8576b"
             ],
             [
              0.6666666666666666,
              "#ed7953"
             ],
             [
              0.7777777777777778,
              "#fb9f3a"
             ],
             [
              0.8888888888888888,
              "#fdca26"
             ],
             [
              1,
              "#f0f921"
             ]
            ],
            "type": "heatmapgl"
           }
          ],
          "histogram": [
           {
            "marker": {
             "colorbar": {
              "outlinewidth": 0,
              "ticks": ""
             }
            },
            "type": "histogram"
           }
          ],
          "histogram2d": [
           {
            "colorbar": {
             "outlinewidth": 0,
             "ticks": ""
            },
            "colorscale": [
             [
              0,
              "#0d0887"
             ],
             [
              0.1111111111111111,
              "#46039f"
             ],
             [
              0.2222222222222222,
              "#7201a8"
             ],
             [
              0.3333333333333333,
              "#9c179e"
             ],
             [
              0.4444444444444444,
              "#bd3786"
             ],
             [
              0.5555555555555556,
              "#d8576b"
             ],
             [
              0.6666666666666666,
              "#ed7953"
             ],
             [
              0.7777777777777778,
              "#fb9f3a"
             ],
             [
              0.8888888888888888,
              "#fdca26"
             ],
             [
              1,
              "#f0f921"
             ]
            ],
            "type": "histogram2d"
           }
          ],
          "histogram2dcontour": [
           {
            "colorbar": {
             "outlinewidth": 0,
             "ticks": ""
            },
            "colorscale": [
             [
              0,
              "#0d0887"
             ],
             [
              0.1111111111111111,
              "#46039f"
             ],
             [
              0.2222222222222222,
              "#7201a8"
             ],
             [
              0.3333333333333333,
              "#9c179e"
             ],
             [
              0.4444444444444444,
              "#bd3786"
             ],
             [
              0.5555555555555556,
              "#d8576b"
             ],
             [
              0.6666666666666666,
              "#ed7953"
             ],
             [
              0.7777777777777778,
              "#fb9f3a"
             ],
             [
              0.8888888888888888,
              "#fdca26"
             ],
             [
              1,
              "#f0f921"
             ]
            ],
            "type": "histogram2dcontour"
           }
          ],
          "mesh3d": [
           {
            "colorbar": {
             "outlinewidth": 0,
             "ticks": ""
            },
            "type": "mesh3d"
           }
          ],
          "parcoords": [
           {
            "line": {
             "colorbar": {
              "outlinewidth": 0,
              "ticks": ""
             }
            },
            "type": "parcoords"
           }
          ],
          "pie": [
           {
            "automargin": true,
            "type": "pie"
           }
          ],
          "scatter": [
           {
            "marker": {
             "colorbar": {
              "outlinewidth": 0,
              "ticks": ""
             }
            },
            "type": "scatter"
           }
          ],
          "scatter3d": [
           {
            "line": {
             "colorbar": {
              "outlinewidth": 0,
              "ticks": ""
             }
            },
            "marker": {
             "colorbar": {
              "outlinewidth": 0,
              "ticks": ""
             }
            },
            "type": "scatter3d"
           }
          ],
          "scattercarpet": [
           {
            "marker": {
             "colorbar": {
              "outlinewidth": 0,
              "ticks": ""
             }
            },
            "type": "scattercarpet"
           }
          ],
          "scattergeo": [
           {
            "marker": {
             "colorbar": {
              "outlinewidth": 0,
              "ticks": ""
             }
            },
            "type": "scattergeo"
           }
          ],
          "scattergl": [
           {
            "marker": {
             "colorbar": {
              "outlinewidth": 0,
              "ticks": ""
             }
            },
            "type": "scattergl"
           }
          ],
          "scattermapbox": [
           {
            "marker": {
             "colorbar": {
              "outlinewidth": 0,
              "ticks": ""
             }
            },
            "type": "scattermapbox"
           }
          ],
          "scatterpolar": [
           {
            "marker": {
             "colorbar": {
              "outlinewidth": 0,
              "ticks": ""
             }
            },
            "type": "scatterpolar"
           }
          ],
          "scatterpolargl": [
           {
            "marker": {
             "colorbar": {
              "outlinewidth": 0,
              "ticks": ""
             }
            },
            "type": "scatterpolargl"
           }
          ],
          "scatterternary": [
           {
            "marker": {
             "colorbar": {
              "outlinewidth": 0,
              "ticks": ""
             }
            },
            "type": "scatterternary"
           }
          ],
          "surface": [
           {
            "colorbar": {
             "outlinewidth": 0,
             "ticks": ""
            },
            "colorscale": [
             [
              0,
              "#0d0887"
             ],
             [
              0.1111111111111111,
              "#46039f"
             ],
             [
              0.2222222222222222,
              "#7201a8"
             ],
             [
              0.3333333333333333,
              "#9c179e"
             ],
             [
              0.4444444444444444,
              "#bd3786"
             ],
             [
              0.5555555555555556,
              "#d8576b"
             ],
             [
              0.6666666666666666,
              "#ed7953"
             ],
             [
              0.7777777777777778,
              "#fb9f3a"
             ],
             [
              0.8888888888888888,
              "#fdca26"
             ],
             [
              1,
              "#f0f921"
             ]
            ],
            "type": "surface"
           }
          ],
          "table": [
           {
            "cells": {
             "fill": {
              "color": "#EBF0F8"
             },
             "line": {
              "color": "white"
             }
            },
            "header": {
             "fill": {
              "color": "#C8D4E3"
             },
             "line": {
              "color": "white"
             }
            },
            "type": "table"
           }
          ]
         },
         "layout": {
          "annotationdefaults": {
           "arrowcolor": "#2a3f5f",
           "arrowhead": 0,
           "arrowwidth": 1
          },
          "coloraxis": {
           "colorbar": {
            "outlinewidth": 0,
            "ticks": ""
           }
          },
          "colorscale": {
           "diverging": [
            [
             0,
             "#8e0152"
            ],
            [
             0.1,
             "#c51b7d"
            ],
            [
             0.2,
             "#de77ae"
            ],
            [
             0.3,
             "#f1b6da"
            ],
            [
             0.4,
             "#fde0ef"
            ],
            [
             0.5,
             "#f7f7f7"
            ],
            [
             0.6,
             "#e6f5d0"
            ],
            [
             0.7,
             "#b8e186"
            ],
            [
             0.8,
             "#7fbc41"
            ],
            [
             0.9,
             "#4d9221"
            ],
            [
             1,
             "#276419"
            ]
           ],
           "sequential": [
            [
             0,
             "#0d0887"
            ],
            [
             0.1111111111111111,
             "#46039f"
            ],
            [
             0.2222222222222222,
             "#7201a8"
            ],
            [
             0.3333333333333333,
             "#9c179e"
            ],
            [
             0.4444444444444444,
             "#bd3786"
            ],
            [
             0.5555555555555556,
             "#d8576b"
            ],
            [
             0.6666666666666666,
             "#ed7953"
            ],
            [
             0.7777777777777778,
             "#fb9f3a"
            ],
            [
             0.8888888888888888,
             "#fdca26"
            ],
            [
             1,
             "#f0f921"
            ]
           ],
           "sequentialminus": [
            [
             0,
             "#0d0887"
            ],
            [
             0.1111111111111111,
             "#46039f"
            ],
            [
             0.2222222222222222,
             "#7201a8"
            ],
            [
             0.3333333333333333,
             "#9c179e"
            ],
            [
             0.4444444444444444,
             "#bd3786"
            ],
            [
             0.5555555555555556,
             "#d8576b"
            ],
            [
             0.6666666666666666,
             "#ed7953"
            ],
            [
             0.7777777777777778,
             "#fb9f3a"
            ],
            [
             0.8888888888888888,
             "#fdca26"
            ],
            [
             1,
             "#f0f921"
            ]
           ]
          },
          "colorway": [
           "#636efa",
           "#EF553B",
           "#00cc96",
           "#ab63fa",
           "#FFA15A",
           "#19d3f3",
           "#FF6692",
           "#B6E880",
           "#FF97FF",
           "#FECB52"
          ],
          "font": {
           "color": "#2a3f5f"
          },
          "geo": {
           "bgcolor": "white",
           "lakecolor": "white",
           "landcolor": "#E5ECF6",
           "showlakes": true,
           "showland": true,
           "subunitcolor": "white"
          },
          "hoverlabel": {
           "align": "left"
          },
          "hovermode": "closest",
          "mapbox": {
           "style": "light"
          },
          "paper_bgcolor": "white",
          "plot_bgcolor": "#E5ECF6",
          "polar": {
           "angularaxis": {
            "gridcolor": "white",
            "linecolor": "white",
            "ticks": ""
           },
           "bgcolor": "#E5ECF6",
           "radialaxis": {
            "gridcolor": "white",
            "linecolor": "white",
            "ticks": ""
           }
          },
          "scene": {
           "xaxis": {
            "backgroundcolor": "#E5ECF6",
            "gridcolor": "white",
            "gridwidth": 2,
            "linecolor": "white",
            "showbackground": true,
            "ticks": "",
            "zerolinecolor": "white"
           },
           "yaxis": {
            "backgroundcolor": "#E5ECF6",
            "gridcolor": "white",
            "gridwidth": 2,
            "linecolor": "white",
            "showbackground": true,
            "ticks": "",
            "zerolinecolor": "white"
           },
           "zaxis": {
            "backgroundcolor": "#E5ECF6",
            "gridcolor": "white",
            "gridwidth": 2,
            "linecolor": "white",
            "showbackground": true,
            "ticks": "",
            "zerolinecolor": "white"
           }
          },
          "shapedefaults": {
           "line": {
            "color": "#2a3f5f"
           }
          },
          "ternary": {
           "aaxis": {
            "gridcolor": "white",
            "linecolor": "white",
            "ticks": ""
           },
           "baxis": {
            "gridcolor": "white",
            "linecolor": "white",
            "ticks": ""
           },
           "bgcolor": "#E5ECF6",
           "caxis": {
            "gridcolor": "white",
            "linecolor": "white",
            "ticks": ""
           }
          },
          "title": {
           "x": 0.05
          },
          "xaxis": {
           "automargin": true,
           "gridcolor": "white",
           "linecolor": "white",
           "ticks": "",
           "title": {
            "standoff": 15
           },
           "zerolinecolor": "white",
           "zerolinewidth": 2
          },
          "yaxis": {
           "automargin": true,
           "gridcolor": "white",
           "linecolor": "white",
           "ticks": "",
           "title": {
            "standoff": 15
           },
           "zerolinecolor": "white",
           "zerolinewidth": 2
          }
         }
        },
        "width": 600,
        "yaxis": {
         "range": [
          -1.1,
          2.1
         ]
        }
       }
      },
      "text/html": [
       "<div>\n",
       "        \n",
       "        \n",
       "            <div id=\"b7eb6d06-d2a5-4d9a-b922-a8c60548ae0d\" class=\"plotly-graph-div\" style=\"height:525px; width:600px;\"></div>\n",
       "            <script type=\"text/javascript\">\n",
       "                require([\"plotly\"], function(Plotly) {\n",
       "                    window.PLOTLYENV=window.PLOTLYENV || {};\n",
       "                    \n",
       "                if (document.getElementById(\"b7eb6d06-d2a5-4d9a-b922-a8c60548ae0d\")) {\n",
       "                    Plotly.newPlot(\n",
       "                        'b7eb6d06-d2a5-4d9a-b922-a8c60548ae0d',\n",
       "                        [{\"name\": \"heaviside\", \"type\": \"scatter\", \"x\": [-4.0, -3.871, -3.742, -3.613, -3.484, -3.355, -3.226, -3.097, -2.968, -2.839, -2.71, -2.581, -2.452, -2.323, -2.194, -2.065, -1.936, -1.807, -1.678, -1.549, -1.42, -1.291, -1.162, -1.033, -0.9039999999999999, -0.7749999999999999, -0.6459999999999999, -0.5169999999999999, -0.3879999999999999, -0.2589999999999999, -0.1299999999999999, -0.001, 0.001, 0.13, 0.259, 0.388, 0.517, 0.646, 0.775, 0.904, 1.033, 1.162, 1.291, 1.42, 1.549, 1.678, 1.807, 1.936, 2.065, 2.194, 2.323, 2.452, 2.581, 2.71, 2.839, 2.968, 3.097, 3.226, 3.355, 3.484, 3.613, 3.742, 3.871, 4.0], \"y\": [0.0, 0.0, 0.0, 0.0, 0.0, 0.0, 0.0, 0.0, 0.0, 0.0, 0.0, 0.0, 0.0, 0.0, 0.0, 0.0, 0.0, 0.0, 0.0, 0.0, 0.0, 0.0, 0.0, 0.0, 0.0, 0.0, 0.0, 0.0, 0.0, 0.0, 0.0, 0.0, 1.0, 1.0, 1.0, 1.0, 1.0, 1.0, 1.0, 1.0, 1.0, 1.0, 1.0, 1.0, 1.0, 1.0, 1.0, 1.0, 1.0, 1.0, 1.0, 1.0, 1.0, 1.0, 1.0, 1.0, 1.0, 1.0, 1.0, 1.0, 1.0, 1.0, 1.0, 1.0]}, {\"name\": \"sigmoid\", \"type\": \"scatter\", \"x\": [-4.0, -3.871, -3.742, -3.613, -3.484, -3.355, -3.226, -3.097, -2.968, -2.839, -2.71, -2.581, -2.452, -2.323, -2.194, -2.065, -1.936, -1.807, -1.678, -1.549, -1.42, -1.291, -1.162, -1.033, -0.9039999999999999, -0.7749999999999999, -0.6459999999999999, -0.5169999999999999, -0.3879999999999999, -0.2589999999999999, -0.1299999999999999, -0.001, 0.001, 0.13, 0.259, 0.388, 0.517, 0.646, 0.775, 0.904, 1.033, 1.162, 1.291, 1.42, 1.549, 1.678, 1.807, 1.936, 2.065, 2.194, 2.323, 2.452, 2.581, 2.71, 2.839, 2.968, 3.097, 3.226, 3.355, 3.484, 3.613, 3.742, 3.871, 4.0], \"y\": [0.01798620996209156, 0.020412182196494964, 0.023157652221516414, 0.026262492173732006, 0.029770923767100447, 0.03373181378146723, 0.03819893501833422, 0.04323117175676834, 0.04889264343935163, 0.05525271442514004, 0.0623858513799944, 0.07037128361418403, 0.07929241601646826, 0.0892359400292322, 0.10029058651594644, 0.1125454668507997, 0.12608795682920257, 0.14100109390264448, 0.157360483511629, 0.17523074616174983, 0.19466158359157792, 0.21568359854292674, 0.23830406469663543, 0.26250290511345764, 0.2882291902580142, 0.3153984996765693, 0.3438914934485297, 0.3735540011815519, 0.40419885255655175, 0.43560954621632425, 0.4675456936126812, 0.4997500000208333, 0.5002499999791666, 0.5324543063873187, 0.5643904537836758, 0.5958011474434483, 0.6264459988184481, 0.6561085065514702, 0.6846015003234307, 0.7117708097419858, 0.7374970948865424, 0.7616959353033645, 0.7843164014570733, 0.8053384164084221, 0.8247692538382502, 0.842639516488371, 0.8589989060973555, 0.8739120431707974, 0.8874545331492003, 0.8997094134840535, 0.9107640599707678, 0.9207075839835317, 0.929628716385816, 0.9376141486200055, 0.9447472855748599, 0.9511073565606484, 0.9567688282432317, 0.9618010649816657, 0.9662681862185327, 0.9702290762328996, 0.973737507826268, 0.9768423477784836, 0.9795878178035051, 0.9820137900379085]}, {\"name\": \"tanh\", \"type\": \"scatter\", \"x\": [-4.0, -3.871, -3.742, -3.613, -3.484, -3.355, -3.226, -3.097, -2.968, -2.839, -2.71, -2.581, -2.452, -2.323, -2.194, -2.065, -1.936, -1.807, -1.678, -1.549, -1.42, -1.291, -1.162, -1.033, -0.9039999999999999, -0.7749999999999999, -0.6459999999999999, -0.5169999999999999, -0.3879999999999999, -0.2589999999999999, -0.1299999999999999, -0.001, 0.001, 0.13, 0.259, 0.388, 0.517, 0.646, 0.775, 0.904, 1.033, 1.162, 1.291, 1.42, 1.549, 1.678, 1.807, 1.936, 2.065, 2.194, 2.323, 2.452, 2.581, 2.71, 2.839, 2.968, 3.097, 3.226, 3.355, 3.484, 3.613, 3.742, 3.871, 4.0], \"y\": [-0.999329299739067, -0.9991319722966427, -0.9988766215562692, -0.9985462080232553, -0.9981187031207353, -0.9975656384199204, -0.9968502397526418, -0.9959250319872041, -0.9947287719279225, -0.9931825336262117, -0.9911847331832744, -0.9886048413304998, -0.9852754970575027, -0.9809827146454888, -0.975453888082098, -0.9683433720658203, -0.959215607483683, -0.9475261369775438, -0.9326015300077743, -0.9136203431859565, -0.8895989244341314, -0.8593882149050867, -0.8216905989615264, -0.7751087468840967, -0.7182399648128485, -0.6498274636719203, -0.5689710350887308, -0.47538128806594737, -0.3696347654786019, -0.253359961244539, -0.12927258360605823, -0.0009999996666668, 0.0009999996666668, 0.12927258360605834, 0.25335996124453913, 0.369634765478602, 0.4753812880659475, 0.5689710350887309, 0.6498274636719203, 0.7182399648128485, 0.7751087468840967, 0.8216905989615264, 0.8593882149050867, 0.8895989244341314, 0.9136203431859565, 0.9326015300077743, 0.9475261369775438, 0.959215607483683, 0.9683433720658203, 0.975453888082098, 0.9809827146454888, 0.9852754970575027, 0.9886048413304998, 0.9911847331832744, 0.9931825336262117, 0.9947287719279225, 0.9959250319872041, 0.9968502397526418, 0.9975656384199204, 0.9981187031207353, 0.9985462080232553, 0.9988766215562692, 0.9991319722966427, 0.999329299739067]}, {\"name\": \"relu\", \"type\": \"scatter\", \"x\": [-4.0, -3.871, -3.742, -3.613, -3.484, -3.355, -3.226, -3.097, -2.968, -2.839, -2.71, -2.581, -2.452, -2.323, -2.194, -2.065, -1.936, -1.807, -1.678, -1.549, -1.42, -1.291, -1.162, -1.033, -0.9039999999999999, -0.7749999999999999, -0.6459999999999999, -0.5169999999999999, -0.3879999999999999, -0.2589999999999999, -0.1299999999999999, -0.001, 0.001, 0.13, 0.259, 0.388, 0.517, 0.646, 0.775, 0.904, 1.033, 1.162, 1.291, 1.42, 1.549, 1.678, 1.807, 1.936, 2.065, 2.194, 2.323, 2.452, 2.581, 2.71, 2.839, 2.968, 3.097, 3.226, 3.355, 3.484, 3.613, 3.742, 3.871, 4.0], \"y\": [0.0, 0.0, 0.0, 0.0, 0.0, 0.0, 0.0, 0.0, 0.0, 0.0, 0.0, 0.0, 0.0, 0.0, 0.0, 0.0, 0.0, 0.0, 0.0, 0.0, 0.0, 0.0, 0.0, 0.0, 0.0, 0.0, 0.0, 0.0, 0.0, 0.0, 0.0, 0.0, 0.001, 0.13, 0.259, 0.388, 0.517, 0.646, 0.775, 0.904, 1.033, 1.162, 1.291, 1.42, 1.549, 1.678, 1.807, 1.936, 2.065, 2.194, 2.323, 2.452, 2.581, 2.71, 2.839, 2.968, 3.097, 3.226, 3.355, 3.484, 3.613, 3.742, 3.871, 4.0]}],\n",
       "                        {\"template\": {\"data\": {\"bar\": [{\"error_x\": {\"color\": \"#2a3f5f\"}, \"error_y\": {\"color\": \"#2a3f5f\"}, \"marker\": {\"line\": {\"color\": \"#E5ECF6\", \"width\": 0.5}}, \"type\": \"bar\"}], \"barpolar\": [{\"marker\": {\"line\": {\"color\": \"#E5ECF6\", \"width\": 0.5}}, \"type\": \"barpolar\"}], \"carpet\": [{\"aaxis\": {\"endlinecolor\": \"#2a3f5f\", \"gridcolor\": \"white\", \"linecolor\": \"white\", \"minorgridcolor\": \"white\", \"startlinecolor\": \"#2a3f5f\"}, \"baxis\": {\"endlinecolor\": \"#2a3f5f\", \"gridcolor\": \"white\", \"linecolor\": \"white\", \"minorgridcolor\": \"white\", \"startlinecolor\": \"#2a3f5f\"}, \"type\": \"carpet\"}], \"choropleth\": [{\"colorbar\": {\"outlinewidth\": 0, \"ticks\": \"\"}, \"type\": \"choropleth\"}], \"contour\": [{\"colorbar\": {\"outlinewidth\": 0, \"ticks\": \"\"}, \"colorscale\": [[0.0, \"#0d0887\"], [0.1111111111111111, \"#46039f\"], [0.2222222222222222, \"#7201a8\"], [0.3333333333333333, \"#9c179e\"], [0.4444444444444444, \"#bd3786\"], [0.5555555555555556, \"#d8576b\"], [0.6666666666666666, \"#ed7953\"], [0.7777777777777778, \"#fb9f3a\"], [0.8888888888888888, \"#fdca26\"], [1.0, \"#f0f921\"]], \"type\": \"contour\"}], \"contourcarpet\": [{\"colorbar\": {\"outlinewidth\": 0, \"ticks\": \"\"}, \"type\": \"contourcarpet\"}], \"heatmap\": [{\"colorbar\": {\"outlinewidth\": 0, \"ticks\": \"\"}, \"colorscale\": [[0.0, \"#0d0887\"], [0.1111111111111111, \"#46039f\"], [0.2222222222222222, \"#7201a8\"], [0.3333333333333333, \"#9c179e\"], [0.4444444444444444, \"#bd3786\"], [0.5555555555555556, \"#d8576b\"], [0.6666666666666666, \"#ed7953\"], [0.7777777777777778, \"#fb9f3a\"], [0.8888888888888888, \"#fdca26\"], [1.0, \"#f0f921\"]], \"type\": \"heatmap\"}], \"heatmapgl\": [{\"colorbar\": {\"outlinewidth\": 0, \"ticks\": \"\"}, \"colorscale\": [[0.0, \"#0d0887\"], [0.1111111111111111, \"#46039f\"], [0.2222222222222222, \"#7201a8\"], [0.3333333333333333, \"#9c179e\"], [0.4444444444444444, \"#bd3786\"], [0.5555555555555556, \"#d8576b\"], [0.6666666666666666, \"#ed7953\"], [0.7777777777777778, \"#fb9f3a\"], [0.8888888888888888, \"#fdca26\"], [1.0, \"#f0f921\"]], \"type\": \"heatmapgl\"}], \"histogram\": [{\"marker\": {\"colorbar\": {\"outlinewidth\": 0, \"ticks\": \"\"}}, \"type\": \"histogram\"}], \"histogram2d\": [{\"colorbar\": {\"outlinewidth\": 0, \"ticks\": \"\"}, \"colorscale\": [[0.0, \"#0d0887\"], [0.1111111111111111, \"#46039f\"], [0.2222222222222222, \"#7201a8\"], [0.3333333333333333, \"#9c179e\"], [0.4444444444444444, \"#bd3786\"], [0.5555555555555556, \"#d8576b\"], [0.6666666666666666, \"#ed7953\"], [0.7777777777777778, \"#fb9f3a\"], [0.8888888888888888, \"#fdca26\"], [1.0, \"#f0f921\"]], \"type\": \"histogram2d\"}], \"histogram2dcontour\": [{\"colorbar\": {\"outlinewidth\": 0, \"ticks\": \"\"}, \"colorscale\": [[0.0, \"#0d0887\"], [0.1111111111111111, \"#46039f\"], [0.2222222222222222, \"#7201a8\"], [0.3333333333333333, \"#9c179e\"], [0.4444444444444444, \"#bd3786\"], [0.5555555555555556, \"#d8576b\"], [0.6666666666666666, \"#ed7953\"], [0.7777777777777778, \"#fb9f3a\"], [0.8888888888888888, \"#fdca26\"], [1.0, \"#f0f921\"]], \"type\": \"histogram2dcontour\"}], \"mesh3d\": [{\"colorbar\": {\"outlinewidth\": 0, \"ticks\": \"\"}, \"type\": \"mesh3d\"}], \"parcoords\": [{\"line\": {\"colorbar\": {\"outlinewidth\": 0, \"ticks\": \"\"}}, \"type\": \"parcoords\"}], \"pie\": [{\"automargin\": true, \"type\": \"pie\"}], \"scatter\": [{\"marker\": {\"colorbar\": {\"outlinewidth\": 0, \"ticks\": \"\"}}, \"type\": \"scatter\"}], \"scatter3d\": [{\"line\": {\"colorbar\": {\"outlinewidth\": 0, \"ticks\": \"\"}}, \"marker\": {\"colorbar\": {\"outlinewidth\": 0, \"ticks\": \"\"}}, \"type\": \"scatter3d\"}], \"scattercarpet\": [{\"marker\": {\"colorbar\": {\"outlinewidth\": 0, \"ticks\": \"\"}}, \"type\": \"scattercarpet\"}], \"scattergeo\": [{\"marker\": {\"colorbar\": {\"outlinewidth\": 0, \"ticks\": \"\"}}, \"type\": \"scattergeo\"}], \"scattergl\": [{\"marker\": {\"colorbar\": {\"outlinewidth\": 0, \"ticks\": \"\"}}, \"type\": \"scattergl\"}], \"scattermapbox\": [{\"marker\": {\"colorbar\": {\"outlinewidth\": 0, \"ticks\": \"\"}}, \"type\": \"scattermapbox\"}], \"scatterpolar\": [{\"marker\": {\"colorbar\": {\"outlinewidth\": 0, \"ticks\": \"\"}}, \"type\": \"scatterpolar\"}], \"scatterpolargl\": [{\"marker\": {\"colorbar\": {\"outlinewidth\": 0, \"ticks\": \"\"}}, \"type\": \"scatterpolargl\"}], \"scatterternary\": [{\"marker\": {\"colorbar\": {\"outlinewidth\": 0, \"ticks\": \"\"}}, \"type\": \"scatterternary\"}], \"surface\": [{\"colorbar\": {\"outlinewidth\": 0, \"ticks\": \"\"}, \"colorscale\": [[0.0, \"#0d0887\"], [0.1111111111111111, \"#46039f\"], [0.2222222222222222, \"#7201a8\"], [0.3333333333333333, \"#9c179e\"], [0.4444444444444444, \"#bd3786\"], [0.5555555555555556, \"#d8576b\"], [0.6666666666666666, \"#ed7953\"], [0.7777777777777778, \"#fb9f3a\"], [0.8888888888888888, \"#fdca26\"], [1.0, \"#f0f921\"]], \"type\": \"surface\"}], \"table\": [{\"cells\": {\"fill\": {\"color\": \"#EBF0F8\"}, \"line\": {\"color\": \"white\"}}, \"header\": {\"fill\": {\"color\": \"#C8D4E3\"}, \"line\": {\"color\": \"white\"}}, \"type\": \"table\"}]}, \"layout\": {\"annotationdefaults\": {\"arrowcolor\": \"#2a3f5f\", \"arrowhead\": 0, \"arrowwidth\": 1}, \"coloraxis\": {\"colorbar\": {\"outlinewidth\": 0, \"ticks\": \"\"}}, \"colorscale\": {\"diverging\": [[0, \"#8e0152\"], [0.1, \"#c51b7d\"], [0.2, \"#de77ae\"], [0.3, \"#f1b6da\"], [0.4, \"#fde0ef\"], [0.5, \"#f7f7f7\"], [0.6, \"#e6f5d0\"], [0.7, \"#b8e186\"], [0.8, \"#7fbc41\"], [0.9, \"#4d9221\"], [1, \"#276419\"]], \"sequential\": [[0.0, \"#0d0887\"], [0.1111111111111111, \"#46039f\"], [0.2222222222222222, \"#7201a8\"], [0.3333333333333333, \"#9c179e\"], [0.4444444444444444, \"#bd3786\"], [0.5555555555555556, \"#d8576b\"], [0.6666666666666666, \"#ed7953\"], [0.7777777777777778, \"#fb9f3a\"], [0.8888888888888888, \"#fdca26\"], [1.0, \"#f0f921\"]], \"sequentialminus\": [[0.0, \"#0d0887\"], [0.1111111111111111, \"#46039f\"], [0.2222222222222222, \"#7201a8\"], [0.3333333333333333, \"#9c179e\"], [0.4444444444444444, \"#bd3786\"], [0.5555555555555556, \"#d8576b\"], [0.6666666666666666, \"#ed7953\"], [0.7777777777777778, \"#fb9f3a\"], [0.8888888888888888, \"#fdca26\"], [1.0, \"#f0f921\"]]}, \"colorway\": [\"#636efa\", \"#EF553B\", \"#00cc96\", \"#ab63fa\", \"#FFA15A\", \"#19d3f3\", \"#FF6692\", \"#B6E880\", \"#FF97FF\", \"#FECB52\"], \"font\": {\"color\": \"#2a3f5f\"}, \"geo\": {\"bgcolor\": \"white\", \"lakecolor\": \"white\", \"landcolor\": \"#E5ECF6\", \"showlakes\": true, \"showland\": true, \"subunitcolor\": \"white\"}, \"hoverlabel\": {\"align\": \"left\"}, \"hovermode\": \"closest\", \"mapbox\": {\"style\": \"light\"}, \"paper_bgcolor\": \"white\", \"plot_bgcolor\": \"#E5ECF6\", \"polar\": {\"angularaxis\": {\"gridcolor\": \"white\", \"linecolor\": \"white\", \"ticks\": \"\"}, \"bgcolor\": \"#E5ECF6\", \"radialaxis\": {\"gridcolor\": \"white\", \"linecolor\": \"white\", \"ticks\": \"\"}}, \"scene\": {\"xaxis\": {\"backgroundcolor\": \"#E5ECF6\", \"gridcolor\": \"white\", \"gridwidth\": 2, \"linecolor\": \"white\", \"showbackground\": true, \"ticks\": \"\", \"zerolinecolor\": \"white\"}, \"yaxis\": {\"backgroundcolor\": \"#E5ECF6\", \"gridcolor\": \"white\", \"gridwidth\": 2, \"linecolor\": \"white\", \"showbackground\": true, \"ticks\": \"\", \"zerolinecolor\": \"white\"}, \"zaxis\": {\"backgroundcolor\": \"#E5ECF6\", \"gridcolor\": \"white\", \"gridwidth\": 2, \"linecolor\": \"white\", \"showbackground\": true, \"ticks\": \"\", \"zerolinecolor\": \"white\"}}, \"shapedefaults\": {\"line\": {\"color\": \"#2a3f5f\"}}, \"ternary\": {\"aaxis\": {\"gridcolor\": \"white\", \"linecolor\": \"white\", \"ticks\": \"\"}, \"baxis\": {\"gridcolor\": \"white\", \"linecolor\": \"white\", \"ticks\": \"\"}, \"bgcolor\": \"#E5ECF6\", \"caxis\": {\"gridcolor\": \"white\", \"linecolor\": \"white\", \"ticks\": \"\"}}, \"title\": {\"x\": 0.05}, \"xaxis\": {\"automargin\": true, \"gridcolor\": \"white\", \"linecolor\": \"white\", \"ticks\": \"\", \"title\": {\"standoff\": 15}, \"zerolinecolor\": \"white\", \"zerolinewidth\": 2}, \"yaxis\": {\"automargin\": true, \"gridcolor\": \"white\", \"linecolor\": \"white\", \"ticks\": \"\", \"title\": {\"standoff\": 15}, \"zerolinecolor\": \"white\", \"zerolinewidth\": 2}}}, \"width\": 600, \"yaxis\": {\"range\": [-1.1, 2.1]}},\n",
       "                        {\"responsive\": true}\n",
       "                    ).then(function(){\n",
       "                            \n",
       "var gd = document.getElementById('b7eb6d06-d2a5-4d9a-b922-a8c60548ae0d');\n",
       "var x = new MutationObserver(function (mutations, observer) {{\n",
       "        var display = window.getComputedStyle(gd).display;\n",
       "        if (!display || display === 'none') {{\n",
       "            console.log([gd, 'removed!']);\n",
       "            Plotly.purge(gd);\n",
       "            observer.disconnect();\n",
       "        }}\n",
       "}});\n",
       "\n",
       "// Listen for the removal of the full notebook cells\n",
       "var notebookContainer = gd.closest('#notebook-container');\n",
       "if (notebookContainer) {{\n",
       "    x.observe(notebookContainer, {childList: true});\n",
       "}}\n",
       "\n",
       "// Listen for the clearing of the current output cell\n",
       "var outputEl = gd.closest('.output');\n",
       "if (outputEl) {{\n",
       "    x.observe(outputEl, {childList: true});\n",
       "}}\n",
       "\n",
       "                        })\n",
       "                };\n",
       "                });\n",
       "            </script>\n",
       "        </div>"
      ]
     },
     "metadata": {},
     "output_type": "display_data"
    }
   ],
   "source": [
    "x = np.hstack( (np.linspace(-4,-1e-3,32), np.linspace(1e-3,4,32)) )\n",
    "\n",
    "fig = go.Figure()\n",
    "fig.add_trace(go.Scatter(x=x, y= np.heaviside(x,0.5), name='heaviside'))\n",
    "fig.add_trace(go.Scatter(x=x, y= 1/(1 + np.exp(-x)), name='sigmoid'))\n",
    "fig.add_trace(go.Scatter(x=x, y= np.tanh(x), name='tanh'))\n",
    "fig.add_trace(go.Scatter(x=x, y= np.maximum(x, 0), name='relu'))\n",
    "fig.update_layout(width=600, yaxis_range=[-1.1, 2.1])\n",
    "fig.show()"
   ]
  },
  {
   "cell_type": "code",
   "execution_count": 47,
   "metadata": {},
   "outputs": [
    {
     "data": {
      "application/vnd.plotly.v1+json": {
       "config": {
        "plotlyServerURL": "https://plot.ly"
       },
       "data": [
        {
         "line": {
          "width": 8
         },
         "name": "sigmoid",
         "type": "scatter",
         "x": [
          -4,
          -3.871,
          -3.742,
          -3.613,
          -3.484,
          -3.355,
          -3.226,
          -3.097,
          -2.968,
          -2.839,
          -2.71,
          -2.581,
          -2.452,
          -2.323,
          -2.194,
          -2.065,
          -1.936,
          -1.807,
          -1.678,
          -1.549,
          -1.42,
          -1.291,
          -1.162,
          -1.033,
          -0.9039999999999999,
          -0.7749999999999999,
          -0.6459999999999999,
          -0.5169999999999999,
          -0.3879999999999999,
          -0.2589999999999999,
          -0.1299999999999999,
          -0.001,
          0.001,
          0.13,
          0.259,
          0.388,
          0.517,
          0.646,
          0.775,
          0.904,
          1.033,
          1.162,
          1.291,
          1.42,
          1.549,
          1.678,
          1.807,
          1.936,
          2.065,
          2.194,
          2.323,
          2.452,
          2.581,
          2.71,
          2.839,
          2.968,
          3.097,
          3.226,
          3.355,
          3.484,
          3.613,
          3.742,
          3.871,
          4
         ],
         "y": [
          0.01798620996209156,
          0.020412182196494964,
          0.023157652221516414,
          0.026262492173732006,
          0.029770923767100447,
          0.03373181378146723,
          0.03819893501833422,
          0.04323117175676834,
          0.04889264343935163,
          0.05525271442514004,
          0.0623858513799944,
          0.07037128361418403,
          0.07929241601646826,
          0.0892359400292322,
          0.10029058651594644,
          0.1125454668507997,
          0.12608795682920257,
          0.14100109390264448,
          0.157360483511629,
          0.17523074616174983,
          0.19466158359157792,
          0.21568359854292674,
          0.23830406469663543,
          0.26250290511345764,
          0.2882291902580142,
          0.3153984996765693,
          0.3438914934485297,
          0.3735540011815519,
          0.40419885255655175,
          0.43560954621632425,
          0.4675456936126812,
          0.4997500000208333,
          0.5002499999791666,
          0.5324543063873187,
          0.5643904537836758,
          0.5958011474434483,
          0.6264459988184481,
          0.6561085065514702,
          0.6846015003234307,
          0.7117708097419858,
          0.7374970948865424,
          0.7616959353033645,
          0.7843164014570733,
          0.8053384164084221,
          0.8247692538382502,
          0.842639516488371,
          0.8589989060973555,
          0.8739120431707974,
          0.8874545331492003,
          0.8997094134840535,
          0.9107640599707678,
          0.9207075839835317,
          0.929628716385816,
          0.9376141486200055,
          0.9447472855748599,
          0.9511073565606484,
          0.9567688282432317,
          0.9618010649816657,
          0.9662681862185327,
          0.9702290762328996,
          0.973737507826268,
          0.9768423477784836,
          0.9795878178035051,
          0.9820137900379085
         ]
        }
       ],
       "layout": {
        "template": {
         "data": {
          "bar": [
           {
            "error_x": {
             "color": "#2a3f5f"
            },
            "error_y": {
             "color": "#2a3f5f"
            },
            "marker": {
             "line": {
              "color": "#E5ECF6",
              "width": 0.5
             }
            },
            "type": "bar"
           }
          ],
          "barpolar": [
           {
            "marker": {
             "line": {
              "color": "#E5ECF6",
              "width": 0.5
             }
            },
            "type": "barpolar"
           }
          ],
          "carpet": [
           {
            "aaxis": {
             "endlinecolor": "#2a3f5f",
             "gridcolor": "white",
             "linecolor": "white",
             "minorgridcolor": "white",
             "startlinecolor": "#2a3f5f"
            },
            "baxis": {
             "endlinecolor": "#2a3f5f",
             "gridcolor": "white",
             "linecolor": "white",
             "minorgridcolor": "white",
             "startlinecolor": "#2a3f5f"
            },
            "type": "carpet"
           }
          ],
          "choropleth": [
           {
            "colorbar": {
             "outlinewidth": 0,
             "ticks": ""
            },
            "type": "choropleth"
           }
          ],
          "contour": [
           {
            "colorbar": {
             "outlinewidth": 0,
             "ticks": ""
            },
            "colorscale": [
             [
              0,
              "#0d0887"
             ],
             [
              0.1111111111111111,
              "#46039f"
             ],
             [
              0.2222222222222222,
              "#7201a8"
             ],
             [
              0.3333333333333333,
              "#9c179e"
             ],
             [
              0.4444444444444444,
              "#bd3786"
             ],
             [
              0.5555555555555556,
              "#d8576b"
             ],
             [
              0.6666666666666666,
              "#ed7953"
             ],
             [
              0.7777777777777778,
              "#fb9f3a"
             ],
             [
              0.8888888888888888,
              "#fdca26"
             ],
             [
              1,
              "#f0f921"
             ]
            ],
            "type": "contour"
           }
          ],
          "contourcarpet": [
           {
            "colorbar": {
             "outlinewidth": 0,
             "ticks": ""
            },
            "type": "contourcarpet"
           }
          ],
          "heatmap": [
           {
            "colorbar": {
             "outlinewidth": 0,
             "ticks": ""
            },
            "colorscale": [
             [
              0,
              "#0d0887"
             ],
             [
              0.1111111111111111,
              "#46039f"
             ],
             [
              0.2222222222222222,
              "#7201a8"
             ],
             [
              0.3333333333333333,
              "#9c179e"
             ],
             [
              0.4444444444444444,
              "#bd3786"
             ],
             [
              0.5555555555555556,
              "#d8576b"
             ],
             [
              0.6666666666666666,
              "#ed7953"
             ],
             [
              0.7777777777777778,
              "#fb9f3a"
             ],
             [
              0.8888888888888888,
              "#fdca26"
             ],
             [
              1,
              "#f0f921"
             ]
            ],
            "type": "heatmap"
           }
          ],
          "heatmapgl": [
           {
            "colorbar": {
             "outlinewidth": 0,
             "ticks": ""
            },
            "colorscale": [
             [
              0,
              "#0d0887"
             ],
             [
              0.1111111111111111,
              "#46039f"
             ],
             [
              0.2222222222222222,
              "#7201a8"
             ],
             [
              0.3333333333333333,
              "#9c179e"
             ],
             [
              0.4444444444444444,
              "#bd3786"
             ],
             [
              0.5555555555555556,
              "#d8576b"
             ],
             [
              0.6666666666666666,
              "#ed7953"
             ],
             [
              0.7777777777777778,
              "#fb9f3a"
             ],
             [
              0.8888888888888888,
              "#fdca26"
             ],
             [
              1,
              "#f0f921"
             ]
            ],
            "type": "heatmapgl"
           }
          ],
          "histogram": [
           {
            "marker": {
             "colorbar": {
              "outlinewidth": 0,
              "ticks": ""
             }
            },
            "type": "histogram"
           }
          ],
          "histogram2d": [
           {
            "colorbar": {
             "outlinewidth": 0,
             "ticks": ""
            },
            "colorscale": [
             [
              0,
              "#0d0887"
             ],
             [
              0.1111111111111111,
              "#46039f"
             ],
             [
              0.2222222222222222,
              "#7201a8"
             ],
             [
              0.3333333333333333,
              "#9c179e"
             ],
             [
              0.4444444444444444,
              "#bd3786"
             ],
             [
              0.5555555555555556,
              "#d8576b"
             ],
             [
              0.6666666666666666,
              "#ed7953"
             ],
             [
              0.7777777777777778,
              "#fb9f3a"
             ],
             [
              0.8888888888888888,
              "#fdca26"
             ],
             [
              1,
              "#f0f921"
             ]
            ],
            "type": "histogram2d"
           }
          ],
          "histogram2dcontour": [
           {
            "colorbar": {
             "outlinewidth": 0,
             "ticks": ""
            },
            "colorscale": [
             [
              0,
              "#0d0887"
             ],
             [
              0.1111111111111111,
              "#46039f"
             ],
             [
              0.2222222222222222,
              "#7201a8"
             ],
             [
              0.3333333333333333,
              "#9c179e"
             ],
             [
              0.4444444444444444,
              "#bd3786"
             ],
             [
              0.5555555555555556,
              "#d8576b"
             ],
             [
              0.6666666666666666,
              "#ed7953"
             ],
             [
              0.7777777777777778,
              "#fb9f3a"
             ],
             [
              0.8888888888888888,
              "#fdca26"
             ],
             [
              1,
              "#f0f921"
             ]
            ],
            "type": "histogram2dcontour"
           }
          ],
          "mesh3d": [
           {
            "colorbar": {
             "outlinewidth": 0,
             "ticks": ""
            },
            "type": "mesh3d"
           }
          ],
          "parcoords": [
           {
            "line": {
             "colorbar": {
              "outlinewidth": 0,
              "ticks": ""
             }
            },
            "type": "parcoords"
           }
          ],
          "pie": [
           {
            "automargin": true,
            "type": "pie"
           }
          ],
          "scatter": [
           {
            "marker": {
             "colorbar": {
              "outlinewidth": 0,
              "ticks": ""
             }
            },
            "type": "scatter"
           }
          ],
          "scatter3d": [
           {
            "line": {
             "colorbar": {
              "outlinewidth": 0,
              "ticks": ""
             }
            },
            "marker": {
             "colorbar": {
              "outlinewidth": 0,
              "ticks": ""
             }
            },
            "type": "scatter3d"
           }
          ],
          "scattercarpet": [
           {
            "marker": {
             "colorbar": {
              "outlinewidth": 0,
              "ticks": ""
             }
            },
            "type": "scattercarpet"
           }
          ],
          "scattergeo": [
           {
            "marker": {
             "colorbar": {
              "outlinewidth": 0,
              "ticks": ""
             }
            },
            "type": "scattergeo"
           }
          ],
          "scattergl": [
           {
            "marker": {
             "colorbar": {
              "outlinewidth": 0,
              "ticks": ""
             }
            },
            "type": "scattergl"
           }
          ],
          "scattermapbox": [
           {
            "marker": {
             "colorbar": {
              "outlinewidth": 0,
              "ticks": ""
             }
            },
            "type": "scattermapbox"
           }
          ],
          "scatterpolar": [
           {
            "marker": {
             "colorbar": {
              "outlinewidth": 0,
              "ticks": ""
             }
            },
            "type": "scatterpolar"
           }
          ],
          "scatterpolargl": [
           {
            "marker": {
             "colorbar": {
              "outlinewidth": 0,
              "ticks": ""
             }
            },
            "type": "scatterpolargl"
           }
          ],
          "scatterternary": [
           {
            "marker": {
             "colorbar": {
              "outlinewidth": 0,
              "ticks": ""
             }
            },
            "type": "scatterternary"
           }
          ],
          "surface": [
           {
            "colorbar": {
             "outlinewidth": 0,
             "ticks": ""
            },
            "colorscale": [
             [
              0,
              "#0d0887"
             ],
             [
              0.1111111111111111,
              "#46039f"
             ],
             [
              0.2222222222222222,
              "#7201a8"
             ],
             [
              0.3333333333333333,
              "#9c179e"
             ],
             [
              0.4444444444444444,
              "#bd3786"
             ],
             [
              0.5555555555555556,
              "#d8576b"
             ],
             [
              0.6666666666666666,
              "#ed7953"
             ],
             [
              0.7777777777777778,
              "#fb9f3a"
             ],
             [
              0.8888888888888888,
              "#fdca26"
             ],
             [
              1,
              "#f0f921"
             ]
            ],
            "type": "surface"
           }
          ],
          "table": [
           {
            "cells": {
             "fill": {
              "color": "#EBF0F8"
             },
             "line": {
              "color": "white"
             }
            },
            "header": {
             "fill": {
              "color": "#C8D4E3"
             },
             "line": {
              "color": "white"
             }
            },
            "type": "table"
           }
          ]
         },
         "layout": {
          "annotationdefaults": {
           "arrowcolor": "#2a3f5f",
           "arrowhead": 0,
           "arrowwidth": 1
          },
          "coloraxis": {
           "colorbar": {
            "outlinewidth": 0,
            "ticks": ""
           }
          },
          "colorscale": {
           "diverging": [
            [
             0,
             "#8e0152"
            ],
            [
             0.1,
             "#c51b7d"
            ],
            [
             0.2,
             "#de77ae"
            ],
            [
             0.3,
             "#f1b6da"
            ],
            [
             0.4,
             "#fde0ef"
            ],
            [
             0.5,
             "#f7f7f7"
            ],
            [
             0.6,
             "#e6f5d0"
            ],
            [
             0.7,
             "#b8e186"
            ],
            [
             0.8,
             "#7fbc41"
            ],
            [
             0.9,
             "#4d9221"
            ],
            [
             1,
             "#276419"
            ]
           ],
           "sequential": [
            [
             0,
             "#0d0887"
            ],
            [
             0.1111111111111111,
             "#46039f"
            ],
            [
             0.2222222222222222,
             "#7201a8"
            ],
            [
             0.3333333333333333,
             "#9c179e"
            ],
            [
             0.4444444444444444,
             "#bd3786"
            ],
            [
             0.5555555555555556,
             "#d8576b"
            ],
            [
             0.6666666666666666,
             "#ed7953"
            ],
            [
             0.7777777777777778,
             "#fb9f3a"
            ],
            [
             0.8888888888888888,
             "#fdca26"
            ],
            [
             1,
             "#f0f921"
            ]
           ],
           "sequentialminus": [
            [
             0,
             "#0d0887"
            ],
            [
             0.1111111111111111,
             "#46039f"
            ],
            [
             0.2222222222222222,
             "#7201a8"
            ],
            [
             0.3333333333333333,
             "#9c179e"
            ],
            [
             0.4444444444444444,
             "#bd3786"
            ],
            [
             0.5555555555555556,
             "#d8576b"
            ],
            [
             0.6666666666666666,
             "#ed7953"
            ],
            [
             0.7777777777777778,
             "#fb9f3a"
            ],
            [
             0.8888888888888888,
             "#fdca26"
            ],
            [
             1,
             "#f0f921"
            ]
           ]
          },
          "colorway": [
           "#636efa",
           "#EF553B",
           "#00cc96",
           "#ab63fa",
           "#FFA15A",
           "#19d3f3",
           "#FF6692",
           "#B6E880",
           "#FF97FF",
           "#FECB52"
          ],
          "font": {
           "color": "#2a3f5f"
          },
          "geo": {
           "bgcolor": "white",
           "lakecolor": "white",
           "landcolor": "#E5ECF6",
           "showlakes": true,
           "showland": true,
           "subunitcolor": "white"
          },
          "hoverlabel": {
           "align": "left"
          },
          "hovermode": "closest",
          "mapbox": {
           "style": "light"
          },
          "paper_bgcolor": "white",
          "plot_bgcolor": "#E5ECF6",
          "polar": {
           "angularaxis": {
            "gridcolor": "white",
            "linecolor": "white",
            "ticks": ""
           },
           "bgcolor": "#E5ECF6",
           "radialaxis": {
            "gridcolor": "white",
            "linecolor": "white",
            "ticks": ""
           }
          },
          "scene": {
           "xaxis": {
            "backgroundcolor": "#E5ECF6",
            "gridcolor": "white",
            "gridwidth": 2,
            "linecolor": "white",
            "showbackground": true,
            "ticks": "",
            "zerolinecolor": "white"
           },
           "yaxis": {
            "backgroundcolor": "#E5ECF6",
            "gridcolor": "white",
            "gridwidth": 2,
            "linecolor": "white",
            "showbackground": true,
            "ticks": "",
            "zerolinecolor": "white"
           },
           "zaxis": {
            "backgroundcolor": "#E5ECF6",
            "gridcolor": "white",
            "gridwidth": 2,
            "linecolor": "white",
            "showbackground": true,
            "ticks": "",
            "zerolinecolor": "white"
           }
          },
          "shapedefaults": {
           "line": {
            "color": "#2a3f5f"
           }
          },
          "ternary": {
           "aaxis": {
            "gridcolor": "white",
            "linecolor": "white",
            "ticks": ""
           },
           "baxis": {
            "gridcolor": "white",
            "linecolor": "white",
            "ticks": ""
           },
           "bgcolor": "#E5ECF6",
           "caxis": {
            "gridcolor": "white",
            "linecolor": "white",
            "ticks": ""
           }
          },
          "title": {
           "x": 0.05
          },
          "xaxis": {
           "automargin": true,
           "gridcolor": "white",
           "linecolor": "white",
           "ticks": "",
           "title": {
            "standoff": 15
           },
           "zerolinecolor": "white",
           "zerolinewidth": 2
          },
          "yaxis": {
           "automargin": true,
           "gridcolor": "white",
           "linecolor": "white",
           "ticks": "",
           "title": {
            "standoff": 15
           },
           "zerolinecolor": "white",
           "zerolinewidth": 2
          }
         }
        },
        "width": 450,
        "yaxis": {
         "range": [
          -0.5,
          1.5
         ]
        }
       }
      },
      "text/html": [
       "<div>\n",
       "        \n",
       "        \n",
       "            <div id=\"554073a6-d05c-41c9-a06b-3ab8dfd17e1e\" class=\"plotly-graph-div\" style=\"height:525px; width:450px;\"></div>\n",
       "            <script type=\"text/javascript\">\n",
       "                require([\"plotly\"], function(Plotly) {\n",
       "                    window.PLOTLYENV=window.PLOTLYENV || {};\n",
       "                    \n",
       "                if (document.getElementById(\"554073a6-d05c-41c9-a06b-3ab8dfd17e1e\")) {\n",
       "                    Plotly.newPlot(\n",
       "                        '554073a6-d05c-41c9-a06b-3ab8dfd17e1e',\n",
       "                        [{\"line\": {\"width\": 8}, \"name\": \"sigmoid\", \"type\": \"scatter\", \"x\": [-4.0, -3.871, -3.742, -3.613, -3.484, -3.355, -3.226, -3.097, -2.968, -2.839, -2.71, -2.581, -2.452, -2.323, -2.194, -2.065, -1.936, -1.807, -1.678, -1.549, -1.42, -1.291, -1.162, -1.033, -0.9039999999999999, -0.7749999999999999, -0.6459999999999999, -0.5169999999999999, -0.3879999999999999, -0.2589999999999999, -0.1299999999999999, -0.001, 0.001, 0.13, 0.259, 0.388, 0.517, 0.646, 0.775, 0.904, 1.033, 1.162, 1.291, 1.42, 1.549, 1.678, 1.807, 1.936, 2.065, 2.194, 2.323, 2.452, 2.581, 2.71, 2.839, 2.968, 3.097, 3.226, 3.355, 3.484, 3.613, 3.742, 3.871, 4.0], \"y\": [0.01798620996209156, 0.020412182196494964, 0.023157652221516414, 0.026262492173732006, 0.029770923767100447, 0.03373181378146723, 0.03819893501833422, 0.04323117175676834, 0.04889264343935163, 0.05525271442514004, 0.0623858513799944, 0.07037128361418403, 0.07929241601646826, 0.0892359400292322, 0.10029058651594644, 0.1125454668507997, 0.12608795682920257, 0.14100109390264448, 0.157360483511629, 0.17523074616174983, 0.19466158359157792, 0.21568359854292674, 0.23830406469663543, 0.26250290511345764, 0.2882291902580142, 0.3153984996765693, 0.3438914934485297, 0.3735540011815519, 0.40419885255655175, 0.43560954621632425, 0.4675456936126812, 0.4997500000208333, 0.5002499999791666, 0.5324543063873187, 0.5643904537836758, 0.5958011474434483, 0.6264459988184481, 0.6561085065514702, 0.6846015003234307, 0.7117708097419858, 0.7374970948865424, 0.7616959353033645, 0.7843164014570733, 0.8053384164084221, 0.8247692538382502, 0.842639516488371, 0.8589989060973555, 0.8739120431707974, 0.8874545331492003, 0.8997094134840535, 0.9107640599707678, 0.9207075839835317, 0.929628716385816, 0.9376141486200055, 0.9447472855748599, 0.9511073565606484, 0.9567688282432317, 0.9618010649816657, 0.9662681862185327, 0.9702290762328996, 0.973737507826268, 0.9768423477784836, 0.9795878178035051, 0.9820137900379085]}],\n",
       "                        {\"template\": {\"data\": {\"bar\": [{\"error_x\": {\"color\": \"#2a3f5f\"}, \"error_y\": {\"color\": \"#2a3f5f\"}, \"marker\": {\"line\": {\"color\": \"#E5ECF6\", \"width\": 0.5}}, \"type\": \"bar\"}], \"barpolar\": [{\"marker\": {\"line\": {\"color\": \"#E5ECF6\", \"width\": 0.5}}, \"type\": \"barpolar\"}], \"carpet\": [{\"aaxis\": {\"endlinecolor\": \"#2a3f5f\", \"gridcolor\": \"white\", \"linecolor\": \"white\", \"minorgridcolor\": \"white\", \"startlinecolor\": \"#2a3f5f\"}, \"baxis\": {\"endlinecolor\": \"#2a3f5f\", \"gridcolor\": \"white\", \"linecolor\": \"white\", \"minorgridcolor\": \"white\", \"startlinecolor\": \"#2a3f5f\"}, \"type\": \"carpet\"}], \"choropleth\": [{\"colorbar\": {\"outlinewidth\": 0, \"ticks\": \"\"}, \"type\": \"choropleth\"}], \"contour\": [{\"colorbar\": {\"outlinewidth\": 0, \"ticks\": \"\"}, \"colorscale\": [[0.0, \"#0d0887\"], [0.1111111111111111, \"#46039f\"], [0.2222222222222222, \"#7201a8\"], [0.3333333333333333, \"#9c179e\"], [0.4444444444444444, \"#bd3786\"], [0.5555555555555556, \"#d8576b\"], [0.6666666666666666, \"#ed7953\"], [0.7777777777777778, \"#fb9f3a\"], [0.8888888888888888, \"#fdca26\"], [1.0, \"#f0f921\"]], \"type\": \"contour\"}], \"contourcarpet\": [{\"colorbar\": {\"outlinewidth\": 0, \"ticks\": \"\"}, \"type\": \"contourcarpet\"}], \"heatmap\": [{\"colorbar\": {\"outlinewidth\": 0, \"ticks\": \"\"}, \"colorscale\": [[0.0, \"#0d0887\"], [0.1111111111111111, \"#46039f\"], [0.2222222222222222, \"#7201a8\"], [0.3333333333333333, \"#9c179e\"], [0.4444444444444444, \"#bd3786\"], [0.5555555555555556, \"#d8576b\"], [0.6666666666666666, \"#ed7953\"], [0.7777777777777778, \"#fb9f3a\"], [0.8888888888888888, \"#fdca26\"], [1.0, \"#f0f921\"]], \"type\": \"heatmap\"}], \"heatmapgl\": [{\"colorbar\": {\"outlinewidth\": 0, \"ticks\": \"\"}, \"colorscale\": [[0.0, \"#0d0887\"], [0.1111111111111111, \"#46039f\"], [0.2222222222222222, \"#7201a8\"], [0.3333333333333333, \"#9c179e\"], [0.4444444444444444, \"#bd3786\"], [0.5555555555555556, \"#d8576b\"], [0.6666666666666666, \"#ed7953\"], [0.7777777777777778, \"#fb9f3a\"], [0.8888888888888888, \"#fdca26\"], [1.0, \"#f0f921\"]], \"type\": \"heatmapgl\"}], \"histogram\": [{\"marker\": {\"colorbar\": {\"outlinewidth\": 0, \"ticks\": \"\"}}, \"type\": \"histogram\"}], \"histogram2d\": [{\"colorbar\": {\"outlinewidth\": 0, \"ticks\": \"\"}, \"colorscale\": [[0.0, \"#0d0887\"], [0.1111111111111111, \"#46039f\"], [0.2222222222222222, \"#7201a8\"], [0.3333333333333333, \"#9c179e\"], [0.4444444444444444, \"#bd3786\"], [0.5555555555555556, \"#d8576b\"], [0.6666666666666666, \"#ed7953\"], [0.7777777777777778, \"#fb9f3a\"], [0.8888888888888888, \"#fdca26\"], [1.0, \"#f0f921\"]], \"type\": \"histogram2d\"}], \"histogram2dcontour\": [{\"colorbar\": {\"outlinewidth\": 0, \"ticks\": \"\"}, \"colorscale\": [[0.0, \"#0d0887\"], [0.1111111111111111, \"#46039f\"], [0.2222222222222222, \"#7201a8\"], [0.3333333333333333, \"#9c179e\"], [0.4444444444444444, \"#bd3786\"], [0.5555555555555556, \"#d8576b\"], [0.6666666666666666, \"#ed7953\"], [0.7777777777777778, \"#fb9f3a\"], [0.8888888888888888, \"#fdca26\"], [1.0, \"#f0f921\"]], \"type\": \"histogram2dcontour\"}], \"mesh3d\": [{\"colorbar\": {\"outlinewidth\": 0, \"ticks\": \"\"}, \"type\": \"mesh3d\"}], \"parcoords\": [{\"line\": {\"colorbar\": {\"outlinewidth\": 0, \"ticks\": \"\"}}, \"type\": \"parcoords\"}], \"pie\": [{\"automargin\": true, \"type\": \"pie\"}], \"scatter\": [{\"marker\": {\"colorbar\": {\"outlinewidth\": 0, \"ticks\": \"\"}}, \"type\": \"scatter\"}], \"scatter3d\": [{\"line\": {\"colorbar\": {\"outlinewidth\": 0, \"ticks\": \"\"}}, \"marker\": {\"colorbar\": {\"outlinewidth\": 0, \"ticks\": \"\"}}, \"type\": \"scatter3d\"}], \"scattercarpet\": [{\"marker\": {\"colorbar\": {\"outlinewidth\": 0, \"ticks\": \"\"}}, \"type\": \"scattercarpet\"}], \"scattergeo\": [{\"marker\": {\"colorbar\": {\"outlinewidth\": 0, \"ticks\": \"\"}}, \"type\": \"scattergeo\"}], \"scattergl\": [{\"marker\": {\"colorbar\": {\"outlinewidth\": 0, \"ticks\": \"\"}}, \"type\": \"scattergl\"}], \"scattermapbox\": [{\"marker\": {\"colorbar\": {\"outlinewidth\": 0, \"ticks\": \"\"}}, \"type\": \"scattermapbox\"}], \"scatterpolar\": [{\"marker\": {\"colorbar\": {\"outlinewidth\": 0, \"ticks\": \"\"}}, \"type\": \"scatterpolar\"}], \"scatterpolargl\": [{\"marker\": {\"colorbar\": {\"outlinewidth\": 0, \"ticks\": \"\"}}, \"type\": \"scatterpolargl\"}], \"scatterternary\": [{\"marker\": {\"colorbar\": {\"outlinewidth\": 0, \"ticks\": \"\"}}, \"type\": \"scatterternary\"}], \"surface\": [{\"colorbar\": {\"outlinewidth\": 0, \"ticks\": \"\"}, \"colorscale\": [[0.0, \"#0d0887\"], [0.1111111111111111, \"#46039f\"], [0.2222222222222222, \"#7201a8\"], [0.3333333333333333, \"#9c179e\"], [0.4444444444444444, \"#bd3786\"], [0.5555555555555556, \"#d8576b\"], [0.6666666666666666, \"#ed7953\"], [0.7777777777777778, \"#fb9f3a\"], [0.8888888888888888, \"#fdca26\"], [1.0, \"#f0f921\"]], \"type\": \"surface\"}], \"table\": [{\"cells\": {\"fill\": {\"color\": \"#EBF0F8\"}, \"line\": {\"color\": \"white\"}}, \"header\": {\"fill\": {\"color\": \"#C8D4E3\"}, \"line\": {\"color\": \"white\"}}, \"type\": \"table\"}]}, \"layout\": {\"annotationdefaults\": {\"arrowcolor\": \"#2a3f5f\", \"arrowhead\": 0, \"arrowwidth\": 1}, \"coloraxis\": {\"colorbar\": {\"outlinewidth\": 0, \"ticks\": \"\"}}, \"colorscale\": {\"diverging\": [[0, \"#8e0152\"], [0.1, \"#c51b7d\"], [0.2, \"#de77ae\"], [0.3, \"#f1b6da\"], [0.4, \"#fde0ef\"], [0.5, \"#f7f7f7\"], [0.6, \"#e6f5d0\"], [0.7, \"#b8e186\"], [0.8, \"#7fbc41\"], [0.9, \"#4d9221\"], [1, \"#276419\"]], \"sequential\": [[0.0, \"#0d0887\"], [0.1111111111111111, \"#46039f\"], [0.2222222222222222, \"#7201a8\"], [0.3333333333333333, \"#9c179e\"], [0.4444444444444444, \"#bd3786\"], [0.5555555555555556, \"#d8576b\"], [0.6666666666666666, \"#ed7953\"], [0.7777777777777778, \"#fb9f3a\"], [0.8888888888888888, \"#fdca26\"], [1.0, \"#f0f921\"]], \"sequentialminus\": [[0.0, \"#0d0887\"], [0.1111111111111111, \"#46039f\"], [0.2222222222222222, \"#7201a8\"], [0.3333333333333333, \"#9c179e\"], [0.4444444444444444, \"#bd3786\"], [0.5555555555555556, \"#d8576b\"], [0.6666666666666666, \"#ed7953\"], [0.7777777777777778, \"#fb9f3a\"], [0.8888888888888888, \"#fdca26\"], [1.0, \"#f0f921\"]]}, \"colorway\": [\"#636efa\", \"#EF553B\", \"#00cc96\", \"#ab63fa\", \"#FFA15A\", \"#19d3f3\", \"#FF6692\", \"#B6E880\", \"#FF97FF\", \"#FECB52\"], \"font\": {\"color\": \"#2a3f5f\"}, \"geo\": {\"bgcolor\": \"white\", \"lakecolor\": \"white\", \"landcolor\": \"#E5ECF6\", \"showlakes\": true, \"showland\": true, \"subunitcolor\": \"white\"}, \"hoverlabel\": {\"align\": \"left\"}, \"hovermode\": \"closest\", \"mapbox\": {\"style\": \"light\"}, \"paper_bgcolor\": \"white\", \"plot_bgcolor\": \"#E5ECF6\", \"polar\": {\"angularaxis\": {\"gridcolor\": \"white\", \"linecolor\": \"white\", \"ticks\": \"\"}, \"bgcolor\": \"#E5ECF6\", \"radialaxis\": {\"gridcolor\": \"white\", \"linecolor\": \"white\", \"ticks\": \"\"}}, \"scene\": {\"xaxis\": {\"backgroundcolor\": \"#E5ECF6\", \"gridcolor\": \"white\", \"gridwidth\": 2, \"linecolor\": \"white\", \"showbackground\": true, \"ticks\": \"\", \"zerolinecolor\": \"white\"}, \"yaxis\": {\"backgroundcolor\": \"#E5ECF6\", \"gridcolor\": \"white\", \"gridwidth\": 2, \"linecolor\": \"white\", \"showbackground\": true, \"ticks\": \"\", \"zerolinecolor\": \"white\"}, \"zaxis\": {\"backgroundcolor\": \"#E5ECF6\", \"gridcolor\": \"white\", \"gridwidth\": 2, \"linecolor\": \"white\", \"showbackground\": true, \"ticks\": \"\", \"zerolinecolor\": \"white\"}}, \"shapedefaults\": {\"line\": {\"color\": \"#2a3f5f\"}}, \"ternary\": {\"aaxis\": {\"gridcolor\": \"white\", \"linecolor\": \"white\", \"ticks\": \"\"}, \"baxis\": {\"gridcolor\": \"white\", \"linecolor\": \"white\", \"ticks\": \"\"}, \"bgcolor\": \"#E5ECF6\", \"caxis\": {\"gridcolor\": \"white\", \"linecolor\": \"white\", \"ticks\": \"\"}}, \"title\": {\"x\": 0.05}, \"xaxis\": {\"automargin\": true, \"gridcolor\": \"white\", \"linecolor\": \"white\", \"ticks\": \"\", \"title\": {\"standoff\": 15}, \"zerolinecolor\": \"white\", \"zerolinewidth\": 2}, \"yaxis\": {\"automargin\": true, \"gridcolor\": \"white\", \"linecolor\": \"white\", \"ticks\": \"\", \"title\": {\"standoff\": 15}, \"zerolinecolor\": \"white\", \"zerolinewidth\": 2}}}, \"width\": 450, \"yaxis\": {\"range\": [-0.5, 1.5]}},\n",
       "                        {\"responsive\": true}\n",
       "                    ).then(function(){\n",
       "                            \n",
       "var gd = document.getElementById('554073a6-d05c-41c9-a06b-3ab8dfd17e1e');\n",
       "var x = new MutationObserver(function (mutations, observer) {{\n",
       "        var display = window.getComputedStyle(gd).display;\n",
       "        if (!display || display === 'none') {{\n",
       "            console.log([gd, 'removed!']);\n",
       "            Plotly.purge(gd);\n",
       "            observer.disconnect();\n",
       "        }}\n",
       "}});\n",
       "\n",
       "// Listen for the removal of the full notebook cells\n",
       "var notebookContainer = gd.closest('#notebook-container');\n",
       "if (notebookContainer) {{\n",
       "    x.observe(notebookContainer, {childList: true});\n",
       "}}\n",
       "\n",
       "// Listen for the clearing of the current output cell\n",
       "var outputEl = gd.closest('.output');\n",
       "if (outputEl) {{\n",
       "    x.observe(outputEl, {childList: true});\n",
       "}}\n",
       "\n",
       "                        })\n",
       "                };\n",
       "                });\n",
       "            </script>\n",
       "        </div>"
      ]
     },
     "metadata": {},
     "output_type": "display_data"
    }
   ],
   "source": [
    "x = np.hstack( (np.linspace(-4,-1e-3,32), np.linspace(1e-3,4,32)) )\n",
    "\n",
    "fig = go.Figure()\n",
    "fig.add_trace(go.Scatter(x=x, y= 1/(1 + np.exp(-x)), name='sigmoid', line_width=8))\n",
    "fig.update_layout(width=450, yaxis_range=[-0.5, 1.5])\n",
    "fig.show()"
   ]
  },
  {
   "cell_type": "code",
   "execution_count": 40,
   "metadata": {},
   "outputs": [],
   "source": [
    "save_to_html(fig, '../Slides/ANN', 'fig2.html')"
   ]
  },
  {
   "cell_type": "code",
   "execution_count": 297,
   "metadata": {},
   "outputs": [],
   "source": [
    "import tensorflow as tf\n",
    "from tensorflow import keras\n",
    "from tensorflow.keras import optimizers"
   ]
  },
  {
   "cell_type": "code",
   "execution_count": 298,
   "metadata": {},
   "outputs": [],
   "source": [
    "model = keras.models.Sequential()\n",
    "model.add(keras.layers.Flatten(input_shape=[1]))\n",
    "model.add(keras.layers.Dense(10, activation=\"tanh\"))\n",
    "model.add(keras.layers.Dense(10, activation=\"tanh\"))\n",
    "model.add(keras.layers.Dense(10, activation=\"tanh\"))\n",
    "model.add(keras.layers.Dense(1, activation=\"linear\"))"
   ]
  },
  {
   "cell_type": "code",
   "execution_count": 300,
   "metadata": {},
   "outputs": [],
   "source": [
    "def fun(x):\n",
    "    return 1. / (1. + x**2)\n",
    "\n",
    "X_train = np.linspace(-1,1,256)\n",
    "y_train = fun(X_train)\n",
    "\n",
    "X_valid = np.linspace(-1,1,128)\n",
    "y_valid = fun(X_valid)"
   ]
  },
  {
   "cell_type": "code",
   "execution_count": 302,
   "metadata": {},
   "outputs": [
    {
     "data": {
      "application/vnd.plotly.v1+json": {
       "config": {
        "plotlyServerURL": "https://plot.ly"
       },
       "data": [
        {
         "type": "scatter",
         "x": [
          -1,
          -0.9921568627450981,
          -0.9843137254901961,
          -0.9764705882352941,
          -0.9686274509803922,
          -0.9607843137254902,
          -0.9529411764705882,
          -0.9450980392156862,
          -0.9372549019607843,
          -0.9294117647058824,
          -0.9215686274509804,
          -0.9137254901960784,
          -0.9058823529411765,
          -0.8980392156862745,
          -0.8901960784313725,
          -0.8823529411764706,
          -0.8745098039215686,
          -0.8666666666666667,
          -0.8588235294117648,
          -0.8509803921568627,
          -0.8431372549019608,
          -0.8352941176470589,
          -0.8274509803921568,
          -0.8196078431372549,
          -0.8117647058823529,
          -0.803921568627451,
          -0.7960784313725491,
          -0.788235294117647,
          -0.7803921568627451,
          -0.7725490196078432,
          -0.7647058823529411,
          -0.7568627450980392,
          -0.7490196078431373,
          -0.7411764705882353,
          -0.7333333333333334,
          -0.7254901960784313,
          -0.7176470588235294,
          -0.7098039215686275,
          -0.7019607843137254,
          -0.6941176470588235,
          -0.6862745098039216,
          -0.6784313725490196,
          -0.6705882352941177,
          -0.6627450980392157,
          -0.6549019607843137,
          -0.6470588235294118,
          -0.6392156862745098,
          -0.6313725490196078,
          -0.6235294117647059,
          -0.615686274509804,
          -0.607843137254902,
          -0.6,
          -0.592156862745098,
          -0.5843137254901961,
          -0.5764705882352941,
          -0.5686274509803921,
          -0.5607843137254902,
          -0.5529411764705883,
          -0.5450980392156863,
          -0.5372549019607843,
          -0.5294117647058824,
          -0.5215686274509804,
          -0.5137254901960784,
          -0.5058823529411764,
          -0.4980392156862745,
          -0.4901960784313726,
          -0.48235294117647065,
          -0.4745098039215686,
          -0.4666666666666667,
          -0.45882352941176474,
          -0.4509803921568627,
          -0.44313725490196076,
          -0.43529411764705883,
          -0.4274509803921569,
          -0.41960784313725497,
          -0.4117647058823529,
          -0.403921568627451,
          -0.39607843137254906,
          -0.388235294117647,
          -0.3803921568627451,
          -0.37254901960784315,
          -0.3647058823529412,
          -0.3568627450980393,
          -0.34901960784313724,
          -0.3411764705882353,
          -0.33333333333333337,
          -0.3254901960784313,
          -0.3176470588235294,
          -0.30980392156862746,
          -0.3019607843137255,
          -0.2941176470588236,
          -0.28627450980392155,
          -0.2784313725490196,
          -0.2705882352941177,
          -0.26274509803921564,
          -0.2549019607843137,
          -0.24705882352941178,
          -0.23921568627450984,
          -0.2313725490196079,
          -0.22352941176470587,
          -0.21568627450980393,
          -0.207843137254902,
          -0.19999999999999996,
          -0.19215686274509802,
          -0.1843137254901961,
          -0.17647058823529416,
          -0.16862745098039222,
          -0.16078431372549018,
          -0.15294117647058825,
          -0.14509803921568631,
          -0.13725490196078427,
          -0.12941176470588234,
          -0.1215686274509804,
          -0.11372549019607847,
          -0.10588235294117654,
          -0.0980392156862745,
          -0.09019607843137256,
          -0.08235294117647063,
          -0.07450980392156858,
          -0.06666666666666665,
          -0.05882352941176472,
          -0.050980392156862786,
          -0.04313725490196085,
          -0.03529411764705881,
          -0.027450980392156876,
          -0.019607843137254943,
          -0.0117647058823529,
          -0.0039215686274509665,
          0.0039215686274509665,
          0.0117647058823529,
          0.019607843137254832,
          0.027450980392156765,
          0.0352941176470587,
          0.04313725490196085,
          0.050980392156862786,
          0.05882352941176472,
          0.06666666666666665,
          0.07450980392156858,
          0.08235294117647052,
          0.09019607843137245,
          0.0980392156862746,
          0.10588235294117654,
          0.11372549019607847,
          0.1215686274509804,
          0.12941176470588234,
          0.13725490196078427,
          0.1450980392156862,
          0.15294117647058814,
          0.16078431372549007,
          0.16862745098039222,
          0.17647058823529416,
          0.1843137254901961,
          0.19215686274509802,
          0.19999999999999996,
          0.2078431372549019,
          0.21568627450980382,
          0.22352941176470598,
          0.2313725490196079,
          0.23921568627450984,
          0.24705882352941178,
          0.2549019607843137,
          0.26274509803921564,
          0.2705882352941176,
          0.2784313725490195,
          0.28627450980392144,
          0.2941176470588236,
          0.3019607843137255,
          0.30980392156862746,
          0.3176470588235294,
          0.3254901960784313,
          0.33333333333333326,
          0.3411764705882352,
          0.34901960784313735,
          0.3568627450980393,
          0.3647058823529412,
          0.37254901960784315,
          0.3803921568627451,
          0.388235294117647,
          0.39607843137254894,
          0.4039215686274509,
          0.4117647058823528,
          0.41960784313725497,
          0.4274509803921569,
          0.43529411764705883,
          0.44313725490196076,
          0.4509803921568627,
          0.45882352941176463,
          0.46666666666666656,
          0.4745098039215687,
          0.48235294117647065,
          0.4901960784313726,
          0.4980392156862745,
          0.5058823529411764,
          0.5137254901960784,
          0.5215686274509803,
          0.5294117647058822,
          0.5372549019607842,
          0.5450980392156863,
          0.5529411764705883,
          0.5607843137254902,
          0.5686274509803921,
          0.5764705882352941,
          0.584313725490196,
          0.5921568627450979,
          0.6000000000000001,
          0.607843137254902,
          0.615686274509804,
          0.6235294117647059,
          0.6313725490196078,
          0.6392156862745098,
          0.6470588235294117,
          0.6549019607843136,
          0.6627450980392156,
          0.6705882352941177,
          0.6784313725490196,
          0.6862745098039216,
          0.6941176470588235,
          0.7019607843137254,
          0.7098039215686274,
          0.7176470588235293,
          0.7254901960784315,
          0.7333333333333334,
          0.7411764705882353,
          0.7490196078431373,
          0.7568627450980392,
          0.7647058823529411,
          0.7725490196078431,
          0.780392156862745,
          0.7882352941176469,
          0.7960784313725491,
          0.803921568627451,
          0.8117647058823529,
          0.8196078431372549,
          0.8274509803921568,
          0.8352941176470587,
          0.8431372549019607,
          0.8509803921568628,
          0.8588235294117648,
          0.8666666666666667,
          0.8745098039215686,
          0.8823529411764706,
          0.8901960784313725,
          0.8980392156862744,
          0.9058823529411764,
          0.9137254901960783,
          0.9215686274509804,
          0.9294117647058824,
          0.9372549019607843,
          0.9450980392156862,
          0.9529411764705882,
          0.9607843137254901,
          0.968627450980392,
          0.9764705882352942,
          0.9843137254901961,
          0.9921568627450981,
          1
         ],
         "y": [
          0.5,
          0.5039369468512175,
          0.5079046443691125,
          0.5119030749610316,
          0.5159322087690623,
          0.5199920031987205,
          0.5240824024372552,
          0.5282033369616428,
          0.5323547230363663,
          0.5365364622010991,
          0.5407484407484408,
          0.5449905291918802,
          0.5492625817241904,
          0.5535644356664907,
          0.5578959109082485,
          0.5622568093385214,
          0.5666469142687837,
          0.5710659898477157,
          0.5755137804683766,
          0.5799900101682216,
          0.5844943820224718,
          0.5890265775313875,
          0.5935862560020448,
          0.5981730539252663,
          0.6027865843484065,
          0.6074264362447455,
          0.612092173880302,
          0.6167833361789312,
          0.6214994360866324,
          0.6262399599360517,
          0.6310043668122272,
          0.6357920879206836,
          0.6406025259590566,
          0.6454350544934786,
          0.6502890173410404,
          0.6551637279596978,
          0.6600584688470674,
          0.6649724909496246,
          0.6699050130838811,
          0.6748552213711937,
          0.6798222686879247,
          0.684805274132738,
          0.689803322512889,
          0.6948154638514308,
          0.6998407129173214,
          0.7048780487804878,
          0.709926414393956,
          0.7149847162052206,
          0.7200518237990831,
          0.7251265695742355,
          0.7302077484559236,
          0.7352941176470589,
          0.7403843964201944,
          0.7454772659528122,
          0.750571369208394,
          0.7556653108657758,
          0.7607576572992957,
          0.7658469366122534,
          0.7709316387261992,
          0.7760102155285582,
          0.781081081081081,
          0.7861426118915782,
          0.7911931472513568,
          0.7962309896407318,
          0.8012544052049191,
          0.8062616243025419,
          0.8112508421289018,
          0.8162202194160622,
          0.8211678832116788,
          0.8260919277383947,
          0.8309904153354633,
          0.8358613774841248,
          0.8407028159180823,
          0.845512703820248,
          0.8502889871067291,
          0.8550295857988166,
          0.8597323954835127,
          0.8643952888628932,
          0.8690161173923503,
          0.8735927130074966,
          0.8781228899392303,
          0.882604446616174,
          0.887035167653398,
          0.8914128259260274,
          0.8957351847260104,
          0.8999999999999999,
          0.9042050226659621,
          0.9083480010057832,
          0.9124266831308058,
          0.91643881951687,
          0.9203821656050956,
          0.9242544844642806,
          0.9280535495104616,
          0.9317771472788238,
          0.9354230802428288,
          0.9389891696750902,
          0.9424732585442213,
          0.9458732144415675,
          0.9491869325314569,
          0.9524123385183232,
          0.955547391623806,
          0.958590087566707,
          0.9615384615384615,
          0.9643905911666124,
          0.9671445994586073,
          0.9697986577181208,
          0.9723509884259951,
          0.9747998680778341,
          0.9771436299702462,
          0.9793806669277344,
          0.9815094339622642,
          0.9835284508576096,
          0.9854363046706878,
          0.9872316521422281,
          0.9889132220093073,
          0.9904798172124906,
          0.9919303169905728,
          0.9932636788562001,
          0.9944789404459671,
          0.995575221238938,
          0.996551724137931,
          0.9974077369083044,
          0.9981426334694378,
          0.9987558750345589,
          0.9992470110950611,
          0.9996156802459647,
          0.9998616108497095,
          0.9999846215360011,
          0.9999846215360011,
          0.9998616108497095,
          0.9996156802459647,
          0.9992470110950611,
          0.9987558750345591,
          0.9981426334694378,
          0.9974077369083044,
          0.996551724137931,
          0.995575221238938,
          0.9944789404459671,
          0.9932636788562001,
          0.9919303169905728,
          0.9904798172124903,
          0.9889132220093073,
          0.9872316521422281,
          0.9854363046706878,
          0.9835284508576096,
          0.9815094339622642,
          0.9793806669277344,
          0.9771436299702462,
          0.9747998680778341,
          0.9723509884259951,
          0.9697986577181208,
          0.9671445994586073,
          0.9643905911666124,
          0.9615384615384615,
          0.958590087566707,
          0.9555473916238061,
          0.9524123385183232,
          0.9491869325314569,
          0.9458732144415675,
          0.9424732585442213,
          0.9389891696750902,
          0.9354230802428288,
          0.931777147278824,
          0.9280535495104616,
          0.9242544844642807,
          0.9203821656050956,
          0.91643881951687,
          0.9124266831308058,
          0.9083480010057832,
          0.9042050226659621,
          0.8999999999999999,
          0.8957351847260104,
          0.8914128259260274,
          0.887035167653398,
          0.882604446616174,
          0.8781228899392303,
          0.8735927130074966,
          0.8690161173923503,
          0.8643952888628932,
          0.8597323954835128,
          0.8550295857988166,
          0.8502889871067291,
          0.845512703820248,
          0.8407028159180823,
          0.8358613774841248,
          0.8309904153354633,
          0.8260919277383948,
          0.8211678832116789,
          0.8162202194160619,
          0.8112508421289018,
          0.8062616243025419,
          0.8012544052049191,
          0.7962309896407318,
          0.7911931472513568,
          0.7861426118915782,
          0.7810810810810812,
          0.7760102155285582,
          0.7709316387261992,
          0.7658469366122534,
          0.7607576572992957,
          0.7556653108657758,
          0.750571369208394,
          0.7454772659528123,
          0.7403843964201945,
          0.7352941176470588,
          0.7302077484559236,
          0.7251265695742355,
          0.7200518237990831,
          0.7149847162052206,
          0.709926414393956,
          0.7048780487804878,
          0.6998407129173214,
          0.6948154638514309,
          0.689803322512889,
          0.684805274132738,
          0.6798222686879247,
          0.6748552213711937,
          0.6699050130838811,
          0.6649724909496247,
          0.6600584688470675,
          0.6551637279596977,
          0.6502890173410404,
          0.6454350544934786,
          0.6406025259590566,
          0.6357920879206836,
          0.6310043668122272,
          0.6262399599360517,
          0.6214994360866324,
          0.6167833361789312,
          0.612092173880302,
          0.6074264362447455,
          0.6027865843484065,
          0.5981730539252663,
          0.5935862560020448,
          0.5890265775313877,
          0.584494382022472,
          0.5799900101682216,
          0.5755137804683766,
          0.5710659898477157,
          0.5666469142687837,
          0.5622568093385214,
          0.5578959109082485,
          0.5535644356664908,
          0.5492625817241904,
          0.5449905291918804,
          0.5407484407484408,
          0.5365364622010991,
          0.5323547230363663,
          0.5282033369616428,
          0.5240824024372552,
          0.5199920031987205,
          0.5159322087690624,
          0.5119030749610315,
          0.5079046443691125,
          0.5039369468512175,
          0.5
         ]
        }
       ],
       "layout": {
        "template": {
         "data": {
          "bar": [
           {
            "error_x": {
             "color": "#2a3f5f"
            },
            "error_y": {
             "color": "#2a3f5f"
            },
            "marker": {
             "line": {
              "color": "#E5ECF6",
              "width": 0.5
             }
            },
            "type": "bar"
           }
          ],
          "barpolar": [
           {
            "marker": {
             "line": {
              "color": "#E5ECF6",
              "width": 0.5
             }
            },
            "type": "barpolar"
           }
          ],
          "carpet": [
           {
            "aaxis": {
             "endlinecolor": "#2a3f5f",
             "gridcolor": "white",
             "linecolor": "white",
             "minorgridcolor": "white",
             "startlinecolor": "#2a3f5f"
            },
            "baxis": {
             "endlinecolor": "#2a3f5f",
             "gridcolor": "white",
             "linecolor": "white",
             "minorgridcolor": "white",
             "startlinecolor": "#2a3f5f"
            },
            "type": "carpet"
           }
          ],
          "choropleth": [
           {
            "colorbar": {
             "outlinewidth": 0,
             "ticks": ""
            },
            "type": "choropleth"
           }
          ],
          "contour": [
           {
            "colorbar": {
             "outlinewidth": 0,
             "ticks": ""
            },
            "colorscale": [
             [
              0,
              "#0d0887"
             ],
             [
              0.1111111111111111,
              "#46039f"
             ],
             [
              0.2222222222222222,
              "#7201a8"
             ],
             [
              0.3333333333333333,
              "#9c179e"
             ],
             [
              0.4444444444444444,
              "#bd3786"
             ],
             [
              0.5555555555555556,
              "#d8576b"
             ],
             [
              0.6666666666666666,
              "#ed7953"
             ],
             [
              0.7777777777777778,
              "#fb9f3a"
             ],
             [
              0.8888888888888888,
              "#fdca26"
             ],
             [
              1,
              "#f0f921"
             ]
            ],
            "type": "contour"
           }
          ],
          "contourcarpet": [
           {
            "colorbar": {
             "outlinewidth": 0,
             "ticks": ""
            },
            "type": "contourcarpet"
           }
          ],
          "heatmap": [
           {
            "colorbar": {
             "outlinewidth": 0,
             "ticks": ""
            },
            "colorscale": [
             [
              0,
              "#0d0887"
             ],
             [
              0.1111111111111111,
              "#46039f"
             ],
             [
              0.2222222222222222,
              "#7201a8"
             ],
             [
              0.3333333333333333,
              "#9c179e"
             ],
             [
              0.4444444444444444,
              "#bd3786"
             ],
             [
              0.5555555555555556,
              "#d8576b"
             ],
             [
              0.6666666666666666,
              "#ed7953"
             ],
             [
              0.7777777777777778,
              "#fb9f3a"
             ],
             [
              0.8888888888888888,
              "#fdca26"
             ],
             [
              1,
              "#f0f921"
             ]
            ],
            "type": "heatmap"
           }
          ],
          "heatmapgl": [
           {
            "colorbar": {
             "outlinewidth": 0,
             "ticks": ""
            },
            "colorscale": [
             [
              0,
              "#0d0887"
             ],
             [
              0.1111111111111111,
              "#46039f"
             ],
             [
              0.2222222222222222,
              "#7201a8"
             ],
             [
              0.3333333333333333,
              "#9c179e"
             ],
             [
              0.4444444444444444,
              "#bd3786"
             ],
             [
              0.5555555555555556,
              "#d8576b"
             ],
             [
              0.6666666666666666,
              "#ed7953"
             ],
             [
              0.7777777777777778,
              "#fb9f3a"
             ],
             [
              0.8888888888888888,
              "#fdca26"
             ],
             [
              1,
              "#f0f921"
             ]
            ],
            "type": "heatmapgl"
           }
          ],
          "histogram": [
           {
            "marker": {
             "colorbar": {
              "outlinewidth": 0,
              "ticks": ""
             }
            },
            "type": "histogram"
           }
          ],
          "histogram2d": [
           {
            "colorbar": {
             "outlinewidth": 0,
             "ticks": ""
            },
            "colorscale": [
             [
              0,
              "#0d0887"
             ],
             [
              0.1111111111111111,
              "#46039f"
             ],
             [
              0.2222222222222222,
              "#7201a8"
             ],
             [
              0.3333333333333333,
              "#9c179e"
             ],
             [
              0.4444444444444444,
              "#bd3786"
             ],
             [
              0.5555555555555556,
              "#d8576b"
             ],
             [
              0.6666666666666666,
              "#ed7953"
             ],
             [
              0.7777777777777778,
              "#fb9f3a"
             ],
             [
              0.8888888888888888,
              "#fdca26"
             ],
             [
              1,
              "#f0f921"
             ]
            ],
            "type": "histogram2d"
           }
          ],
          "histogram2dcontour": [
           {
            "colorbar": {
             "outlinewidth": 0,
             "ticks": ""
            },
            "colorscale": [
             [
              0,
              "#0d0887"
             ],
             [
              0.1111111111111111,
              "#46039f"
             ],
             [
              0.2222222222222222,
              "#7201a8"
             ],
             [
              0.3333333333333333,
              "#9c179e"
             ],
             [
              0.4444444444444444,
              "#bd3786"
             ],
             [
              0.5555555555555556,
              "#d8576b"
             ],
             [
              0.6666666666666666,
              "#ed7953"
             ],
             [
              0.7777777777777778,
              "#fb9f3a"
             ],
             [
              0.8888888888888888,
              "#fdca26"
             ],
             [
              1,
              "#f0f921"
             ]
            ],
            "type": "histogram2dcontour"
           }
          ],
          "mesh3d": [
           {
            "colorbar": {
             "outlinewidth": 0,
             "ticks": ""
            },
            "type": "mesh3d"
           }
          ],
          "parcoords": [
           {
            "line": {
             "colorbar": {
              "outlinewidth": 0,
              "ticks": ""
             }
            },
            "type": "parcoords"
           }
          ],
          "pie": [
           {
            "automargin": true,
            "type": "pie"
           }
          ],
          "scatter": [
           {
            "marker": {
             "colorbar": {
              "outlinewidth": 0,
              "ticks": ""
             }
            },
            "type": "scatter"
           }
          ],
          "scatter3d": [
           {
            "line": {
             "colorbar": {
              "outlinewidth": 0,
              "ticks": ""
             }
            },
            "marker": {
             "colorbar": {
              "outlinewidth": 0,
              "ticks": ""
             }
            },
            "type": "scatter3d"
           }
          ],
          "scattercarpet": [
           {
            "marker": {
             "colorbar": {
              "outlinewidth": 0,
              "ticks": ""
             }
            },
            "type": "scattercarpet"
           }
          ],
          "scattergeo": [
           {
            "marker": {
             "colorbar": {
              "outlinewidth": 0,
              "ticks": ""
             }
            },
            "type": "scattergeo"
           }
          ],
          "scattergl": [
           {
            "marker": {
             "colorbar": {
              "outlinewidth": 0,
              "ticks": ""
             }
            },
            "type": "scattergl"
           }
          ],
          "scattermapbox": [
           {
            "marker": {
             "colorbar": {
              "outlinewidth": 0,
              "ticks": ""
             }
            },
            "type": "scattermapbox"
           }
          ],
          "scatterpolar": [
           {
            "marker": {
             "colorbar": {
              "outlinewidth": 0,
              "ticks": ""
             }
            },
            "type": "scatterpolar"
           }
          ],
          "scatterpolargl": [
           {
            "marker": {
             "colorbar": {
              "outlinewidth": 0,
              "ticks": ""
             }
            },
            "type": "scatterpolargl"
           }
          ],
          "scatterternary": [
           {
            "marker": {
             "colorbar": {
              "outlinewidth": 0,
              "ticks": ""
             }
            },
            "type": "scatterternary"
           }
          ],
          "surface": [
           {
            "colorbar": {
             "outlinewidth": 0,
             "ticks": ""
            },
            "colorscale": [
             [
              0,
              "#0d0887"
             ],
             [
              0.1111111111111111,
              "#46039f"
             ],
             [
              0.2222222222222222,
              "#7201a8"
             ],
             [
              0.3333333333333333,
              "#9c179e"
             ],
             [
              0.4444444444444444,
              "#bd3786"
             ],
             [
              0.5555555555555556,
              "#d8576b"
             ],
             [
              0.6666666666666666,
              "#ed7953"
             ],
             [
              0.7777777777777778,
              "#fb9f3a"
             ],
             [
              0.8888888888888888,
              "#fdca26"
             ],
             [
              1,
              "#f0f921"
             ]
            ],
            "type": "surface"
           }
          ],
          "table": [
           {
            "cells": {
             "fill": {
              "color": "#EBF0F8"
             },
             "line": {
              "color": "white"
             }
            },
            "header": {
             "fill": {
              "color": "#C8D4E3"
             },
             "line": {
              "color": "white"
             }
            },
            "type": "table"
           }
          ]
         },
         "layout": {
          "annotationdefaults": {
           "arrowcolor": "#2a3f5f",
           "arrowhead": 0,
           "arrowwidth": 1
          },
          "coloraxis": {
           "colorbar": {
            "outlinewidth": 0,
            "ticks": ""
           }
          },
          "colorscale": {
           "diverging": [
            [
             0,
             "#8e0152"
            ],
            [
             0.1,
             "#c51b7d"
            ],
            [
             0.2,
             "#de77ae"
            ],
            [
             0.3,
             "#f1b6da"
            ],
            [
             0.4,
             "#fde0ef"
            ],
            [
             0.5,
             "#f7f7f7"
            ],
            [
             0.6,
             "#e6f5d0"
            ],
            [
             0.7,
             "#b8e186"
            ],
            [
             0.8,
             "#7fbc41"
            ],
            [
             0.9,
             "#4d9221"
            ],
            [
             1,
             "#276419"
            ]
           ],
           "sequential": [
            [
             0,
             "#0d0887"
            ],
            [
             0.1111111111111111,
             "#46039f"
            ],
            [
             0.2222222222222222,
             "#7201a8"
            ],
            [
             0.3333333333333333,
             "#9c179e"
            ],
            [
             0.4444444444444444,
             "#bd3786"
            ],
            [
             0.5555555555555556,
             "#d8576b"
            ],
            [
             0.6666666666666666,
             "#ed7953"
            ],
            [
             0.7777777777777778,
             "#fb9f3a"
            ],
            [
             0.8888888888888888,
             "#fdca26"
            ],
            [
             1,
             "#f0f921"
            ]
           ],
           "sequentialminus": [
            [
             0,
             "#0d0887"
            ],
            [
             0.1111111111111111,
             "#46039f"
            ],
            [
             0.2222222222222222,
             "#7201a8"
            ],
            [
             0.3333333333333333,
             "#9c179e"
            ],
            [
             0.4444444444444444,
             "#bd3786"
            ],
            [
             0.5555555555555556,
             "#d8576b"
            ],
            [
             0.6666666666666666,
             "#ed7953"
            ],
            [
             0.7777777777777778,
             "#fb9f3a"
            ],
            [
             0.8888888888888888,
             "#fdca26"
            ],
            [
             1,
             "#f0f921"
            ]
           ]
          },
          "colorway": [
           "#636efa",
           "#EF553B",
           "#00cc96",
           "#ab63fa",
           "#FFA15A",
           "#19d3f3",
           "#FF6692",
           "#B6E880",
           "#FF97FF",
           "#FECB52"
          ],
          "font": {
           "color": "#2a3f5f"
          },
          "geo": {
           "bgcolor": "white",
           "lakecolor": "white",
           "landcolor": "#E5ECF6",
           "showlakes": true,
           "showland": true,
           "subunitcolor": "white"
          },
          "hoverlabel": {
           "align": "left"
          },
          "hovermode": "closest",
          "mapbox": {
           "style": "light"
          },
          "paper_bgcolor": "white",
          "plot_bgcolor": "#E5ECF6",
          "polar": {
           "angularaxis": {
            "gridcolor": "white",
            "linecolor": "white",
            "ticks": ""
           },
           "bgcolor": "#E5ECF6",
           "radialaxis": {
            "gridcolor": "white",
            "linecolor": "white",
            "ticks": ""
           }
          },
          "scene": {
           "xaxis": {
            "backgroundcolor": "#E5ECF6",
            "gridcolor": "white",
            "gridwidth": 2,
            "linecolor": "white",
            "showbackground": true,
            "ticks": "",
            "zerolinecolor": "white"
           },
           "yaxis": {
            "backgroundcolor": "#E5ECF6",
            "gridcolor": "white",
            "gridwidth": 2,
            "linecolor": "white",
            "showbackground": true,
            "ticks": "",
            "zerolinecolor": "white"
           },
           "zaxis": {
            "backgroundcolor": "#E5ECF6",
            "gridcolor": "white",
            "gridwidth": 2,
            "linecolor": "white",
            "showbackground": true,
            "ticks": "",
            "zerolinecolor": "white"
           }
          },
          "shapedefaults": {
           "line": {
            "color": "#2a3f5f"
           }
          },
          "ternary": {
           "aaxis": {
            "gridcolor": "white",
            "linecolor": "white",
            "ticks": ""
           },
           "baxis": {
            "gridcolor": "white",
            "linecolor": "white",
            "ticks": ""
           },
           "bgcolor": "#E5ECF6",
           "caxis": {
            "gridcolor": "white",
            "linecolor": "white",
            "ticks": ""
           }
          },
          "title": {
           "x": 0.05
          },
          "xaxis": {
           "automargin": true,
           "gridcolor": "white",
           "linecolor": "white",
           "ticks": "",
           "title": {
            "standoff": 15
           },
           "zerolinecolor": "white",
           "zerolinewidth": 2
          },
          "yaxis": {
           "automargin": true,
           "gridcolor": "white",
           "linecolor": "white",
           "ticks": "",
           "title": {
            "standoff": 15
           },
           "zerolinecolor": "white",
           "zerolinewidth": 2
          }
         }
        },
        "width": 600
       }
      },
      "text/html": [
       "<div>\n",
       "        \n",
       "        \n",
       "            <div id=\"44a2c627-37cd-4695-97f3-2f082402210c\" class=\"plotly-graph-div\" style=\"height:525px; width:600px;\"></div>\n",
       "            <script type=\"text/javascript\">\n",
       "                require([\"plotly\"], function(Plotly) {\n",
       "                    window.PLOTLYENV=window.PLOTLYENV || {};\n",
       "                    \n",
       "                if (document.getElementById(\"44a2c627-37cd-4695-97f3-2f082402210c\")) {\n",
       "                    Plotly.newPlot(\n",
       "                        '44a2c627-37cd-4695-97f3-2f082402210c',\n",
       "                        [{\"type\": \"scatter\", \"x\": [-1.0, -0.9921568627450981, -0.9843137254901961, -0.9764705882352941, -0.9686274509803922, -0.9607843137254902, -0.9529411764705882, -0.9450980392156862, -0.9372549019607843, -0.9294117647058824, -0.9215686274509804, -0.9137254901960784, -0.9058823529411765, -0.8980392156862745, -0.8901960784313725, -0.8823529411764706, -0.8745098039215686, -0.8666666666666667, -0.8588235294117648, -0.8509803921568627, -0.8431372549019608, -0.8352941176470589, -0.8274509803921568, -0.8196078431372549, -0.8117647058823529, -0.803921568627451, -0.7960784313725491, -0.788235294117647, -0.7803921568627451, -0.7725490196078432, -0.7647058823529411, -0.7568627450980392, -0.7490196078431373, -0.7411764705882353, -0.7333333333333334, -0.7254901960784313, -0.7176470588235294, -0.7098039215686275, -0.7019607843137254, -0.6941176470588235, -0.6862745098039216, -0.6784313725490196, -0.6705882352941177, -0.6627450980392157, -0.6549019607843137, -0.6470588235294118, -0.6392156862745098, -0.6313725490196078, -0.6235294117647059, -0.615686274509804, -0.607843137254902, -0.6, -0.592156862745098, -0.5843137254901961, -0.5764705882352941, -0.5686274509803921, -0.5607843137254902, -0.5529411764705883, -0.5450980392156863, -0.5372549019607843, -0.5294117647058824, -0.5215686274509804, -0.5137254901960784, -0.5058823529411764, -0.4980392156862745, -0.4901960784313726, -0.48235294117647065, -0.4745098039215686, -0.4666666666666667, -0.45882352941176474, -0.4509803921568627, -0.44313725490196076, -0.43529411764705883, -0.4274509803921569, -0.41960784313725497, -0.4117647058823529, -0.403921568627451, -0.39607843137254906, -0.388235294117647, -0.3803921568627451, -0.37254901960784315, -0.3647058823529412, -0.3568627450980393, -0.34901960784313724, -0.3411764705882353, -0.33333333333333337, -0.3254901960784313, -0.3176470588235294, -0.30980392156862746, -0.3019607843137255, -0.2941176470588236, -0.28627450980392155, -0.2784313725490196, -0.2705882352941177, -0.26274509803921564, -0.2549019607843137, -0.24705882352941178, -0.23921568627450984, -0.2313725490196079, -0.22352941176470587, -0.21568627450980393, -0.207843137254902, -0.19999999999999996, -0.19215686274509802, -0.1843137254901961, -0.17647058823529416, -0.16862745098039222, -0.16078431372549018, -0.15294117647058825, -0.14509803921568631, -0.13725490196078427, -0.12941176470588234, -0.1215686274509804, -0.11372549019607847, -0.10588235294117654, -0.0980392156862745, -0.09019607843137256, -0.08235294117647063, -0.07450980392156858, -0.06666666666666665, -0.05882352941176472, -0.050980392156862786, -0.04313725490196085, -0.03529411764705881, -0.027450980392156876, -0.019607843137254943, -0.0117647058823529, -0.0039215686274509665, 0.0039215686274509665, 0.0117647058823529, 0.019607843137254832, 0.027450980392156765, 0.0352941176470587, 0.04313725490196085, 0.050980392156862786, 0.05882352941176472, 0.06666666666666665, 0.07450980392156858, 0.08235294117647052, 0.09019607843137245, 0.0980392156862746, 0.10588235294117654, 0.11372549019607847, 0.1215686274509804, 0.12941176470588234, 0.13725490196078427, 0.1450980392156862, 0.15294117647058814, 0.16078431372549007, 0.16862745098039222, 0.17647058823529416, 0.1843137254901961, 0.19215686274509802, 0.19999999999999996, 0.2078431372549019, 0.21568627450980382, 0.22352941176470598, 0.2313725490196079, 0.23921568627450984, 0.24705882352941178, 0.2549019607843137, 0.26274509803921564, 0.2705882352941176, 0.2784313725490195, 0.28627450980392144, 0.2941176470588236, 0.3019607843137255, 0.30980392156862746, 0.3176470588235294, 0.3254901960784313, 0.33333333333333326, 0.3411764705882352, 0.34901960784313735, 0.3568627450980393, 0.3647058823529412, 0.37254901960784315, 0.3803921568627451, 0.388235294117647, 0.39607843137254894, 0.4039215686274509, 0.4117647058823528, 0.41960784313725497, 0.4274509803921569, 0.43529411764705883, 0.44313725490196076, 0.4509803921568627, 0.45882352941176463, 0.46666666666666656, 0.4745098039215687, 0.48235294117647065, 0.4901960784313726, 0.4980392156862745, 0.5058823529411764, 0.5137254901960784, 0.5215686274509803, 0.5294117647058822, 0.5372549019607842, 0.5450980392156863, 0.5529411764705883, 0.5607843137254902, 0.5686274509803921, 0.5764705882352941, 0.584313725490196, 0.5921568627450979, 0.6000000000000001, 0.607843137254902, 0.615686274509804, 0.6235294117647059, 0.6313725490196078, 0.6392156862745098, 0.6470588235294117, 0.6549019607843136, 0.6627450980392156, 0.6705882352941177, 0.6784313725490196, 0.6862745098039216, 0.6941176470588235, 0.7019607843137254, 0.7098039215686274, 0.7176470588235293, 0.7254901960784315, 0.7333333333333334, 0.7411764705882353, 0.7490196078431373, 0.7568627450980392, 0.7647058823529411, 0.7725490196078431, 0.780392156862745, 0.7882352941176469, 0.7960784313725491, 0.803921568627451, 0.8117647058823529, 0.8196078431372549, 0.8274509803921568, 0.8352941176470587, 0.8431372549019607, 0.8509803921568628, 0.8588235294117648, 0.8666666666666667, 0.8745098039215686, 0.8823529411764706, 0.8901960784313725, 0.8980392156862744, 0.9058823529411764, 0.9137254901960783, 0.9215686274509804, 0.9294117647058824, 0.9372549019607843, 0.9450980392156862, 0.9529411764705882, 0.9607843137254901, 0.968627450980392, 0.9764705882352942, 0.9843137254901961, 0.9921568627450981, 1.0], \"y\": [0.5, 0.5039369468512175, 0.5079046443691125, 0.5119030749610316, 0.5159322087690623, 0.5199920031987205, 0.5240824024372552, 0.5282033369616428, 0.5323547230363663, 0.5365364622010991, 0.5407484407484408, 0.5449905291918802, 0.5492625817241904, 0.5535644356664907, 0.5578959109082485, 0.5622568093385214, 0.5666469142687837, 0.5710659898477157, 0.5755137804683766, 0.5799900101682216, 0.5844943820224718, 0.5890265775313875, 0.5935862560020448, 0.5981730539252663, 0.6027865843484065, 0.6074264362447455, 0.612092173880302, 0.6167833361789312, 0.6214994360866324, 0.6262399599360517, 0.6310043668122272, 0.6357920879206836, 0.6406025259590566, 0.6454350544934786, 0.6502890173410404, 0.6551637279596978, 0.6600584688470674, 0.6649724909496246, 0.6699050130838811, 0.6748552213711937, 0.6798222686879247, 0.684805274132738, 0.689803322512889, 0.6948154638514308, 0.6998407129173214, 0.7048780487804878, 0.709926414393956, 0.7149847162052206, 0.7200518237990831, 0.7251265695742355, 0.7302077484559236, 0.7352941176470589, 0.7403843964201944, 0.7454772659528122, 0.750571369208394, 0.7556653108657758, 0.7607576572992957, 0.7658469366122534, 0.7709316387261992, 0.7760102155285582, 0.781081081081081, 0.7861426118915782, 0.7911931472513568, 0.7962309896407318, 0.8012544052049191, 0.8062616243025419, 0.8112508421289018, 0.8162202194160622, 0.8211678832116788, 0.8260919277383947, 0.8309904153354633, 0.8358613774841248, 0.8407028159180823, 0.845512703820248, 0.8502889871067291, 0.8550295857988166, 0.8597323954835127, 0.8643952888628932, 0.8690161173923503, 0.8735927130074966, 0.8781228899392303, 0.882604446616174, 0.887035167653398, 0.8914128259260274, 0.8957351847260104, 0.8999999999999999, 0.9042050226659621, 0.9083480010057832, 0.9124266831308058, 0.91643881951687, 0.9203821656050956, 0.9242544844642806, 0.9280535495104616, 0.9317771472788238, 0.9354230802428288, 0.9389891696750902, 0.9424732585442213, 0.9458732144415675, 0.9491869325314569, 0.9524123385183232, 0.955547391623806, 0.958590087566707, 0.9615384615384615, 0.9643905911666124, 0.9671445994586073, 0.9697986577181208, 0.9723509884259951, 0.9747998680778341, 0.9771436299702462, 0.9793806669277344, 0.9815094339622642, 0.9835284508576096, 0.9854363046706878, 0.9872316521422281, 0.9889132220093073, 0.9904798172124906, 0.9919303169905728, 0.9932636788562001, 0.9944789404459671, 0.995575221238938, 0.996551724137931, 0.9974077369083044, 0.9981426334694378, 0.9987558750345589, 0.9992470110950611, 0.9996156802459647, 0.9998616108497095, 0.9999846215360011, 0.9999846215360011, 0.9998616108497095, 0.9996156802459647, 0.9992470110950611, 0.9987558750345591, 0.9981426334694378, 0.9974077369083044, 0.996551724137931, 0.995575221238938, 0.9944789404459671, 0.9932636788562001, 0.9919303169905728, 0.9904798172124903, 0.9889132220093073, 0.9872316521422281, 0.9854363046706878, 0.9835284508576096, 0.9815094339622642, 0.9793806669277344, 0.9771436299702462, 0.9747998680778341, 0.9723509884259951, 0.9697986577181208, 0.9671445994586073, 0.9643905911666124, 0.9615384615384615, 0.958590087566707, 0.9555473916238061, 0.9524123385183232, 0.9491869325314569, 0.9458732144415675, 0.9424732585442213, 0.9389891696750902, 0.9354230802428288, 0.931777147278824, 0.9280535495104616, 0.9242544844642807, 0.9203821656050956, 0.91643881951687, 0.9124266831308058, 0.9083480010057832, 0.9042050226659621, 0.8999999999999999, 0.8957351847260104, 0.8914128259260274, 0.887035167653398, 0.882604446616174, 0.8781228899392303, 0.8735927130074966, 0.8690161173923503, 0.8643952888628932, 0.8597323954835128, 0.8550295857988166, 0.8502889871067291, 0.845512703820248, 0.8407028159180823, 0.8358613774841248, 0.8309904153354633, 0.8260919277383948, 0.8211678832116789, 0.8162202194160619, 0.8112508421289018, 0.8062616243025419, 0.8012544052049191, 0.7962309896407318, 0.7911931472513568, 0.7861426118915782, 0.7810810810810812, 0.7760102155285582, 0.7709316387261992, 0.7658469366122534, 0.7607576572992957, 0.7556653108657758, 0.750571369208394, 0.7454772659528123, 0.7403843964201945, 0.7352941176470588, 0.7302077484559236, 0.7251265695742355, 0.7200518237990831, 0.7149847162052206, 0.709926414393956, 0.7048780487804878, 0.6998407129173214, 0.6948154638514309, 0.689803322512889, 0.684805274132738, 0.6798222686879247, 0.6748552213711937, 0.6699050130838811, 0.6649724909496247, 0.6600584688470675, 0.6551637279596977, 0.6502890173410404, 0.6454350544934786, 0.6406025259590566, 0.6357920879206836, 0.6310043668122272, 0.6262399599360517, 0.6214994360866324, 0.6167833361789312, 0.612092173880302, 0.6074264362447455, 0.6027865843484065, 0.5981730539252663, 0.5935862560020448, 0.5890265775313877, 0.584494382022472, 0.5799900101682216, 0.5755137804683766, 0.5710659898477157, 0.5666469142687837, 0.5622568093385214, 0.5578959109082485, 0.5535644356664908, 0.5492625817241904, 0.5449905291918804, 0.5407484407484408, 0.5365364622010991, 0.5323547230363663, 0.5282033369616428, 0.5240824024372552, 0.5199920031987205, 0.5159322087690624, 0.5119030749610315, 0.5079046443691125, 0.5039369468512175, 0.5]}],\n",
       "                        {\"template\": {\"data\": {\"bar\": [{\"error_x\": {\"color\": \"#2a3f5f\"}, \"error_y\": {\"color\": \"#2a3f5f\"}, \"marker\": {\"line\": {\"color\": \"#E5ECF6\", \"width\": 0.5}}, \"type\": \"bar\"}], \"barpolar\": [{\"marker\": {\"line\": {\"color\": \"#E5ECF6\", \"width\": 0.5}}, \"type\": \"barpolar\"}], \"carpet\": [{\"aaxis\": {\"endlinecolor\": \"#2a3f5f\", \"gridcolor\": \"white\", \"linecolor\": \"white\", \"minorgridcolor\": \"white\", \"startlinecolor\": \"#2a3f5f\"}, \"baxis\": {\"endlinecolor\": \"#2a3f5f\", \"gridcolor\": \"white\", \"linecolor\": \"white\", \"minorgridcolor\": \"white\", \"startlinecolor\": \"#2a3f5f\"}, \"type\": \"carpet\"}], \"choropleth\": [{\"colorbar\": {\"outlinewidth\": 0, \"ticks\": \"\"}, \"type\": \"choropleth\"}], \"contour\": [{\"colorbar\": {\"outlinewidth\": 0, \"ticks\": \"\"}, \"colorscale\": [[0.0, \"#0d0887\"], [0.1111111111111111, \"#46039f\"], [0.2222222222222222, \"#7201a8\"], [0.3333333333333333, \"#9c179e\"], [0.4444444444444444, \"#bd3786\"], [0.5555555555555556, \"#d8576b\"], [0.6666666666666666, \"#ed7953\"], [0.7777777777777778, \"#fb9f3a\"], [0.8888888888888888, \"#fdca26\"], [1.0, \"#f0f921\"]], \"type\": \"contour\"}], \"contourcarpet\": [{\"colorbar\": {\"outlinewidth\": 0, \"ticks\": \"\"}, \"type\": \"contourcarpet\"}], \"heatmap\": [{\"colorbar\": {\"outlinewidth\": 0, \"ticks\": \"\"}, \"colorscale\": [[0.0, \"#0d0887\"], [0.1111111111111111, \"#46039f\"], [0.2222222222222222, \"#7201a8\"], [0.3333333333333333, \"#9c179e\"], [0.4444444444444444, \"#bd3786\"], [0.5555555555555556, \"#d8576b\"], [0.6666666666666666, \"#ed7953\"], [0.7777777777777778, \"#fb9f3a\"], [0.8888888888888888, \"#fdca26\"], [1.0, \"#f0f921\"]], \"type\": \"heatmap\"}], \"heatmapgl\": [{\"colorbar\": {\"outlinewidth\": 0, \"ticks\": \"\"}, \"colorscale\": [[0.0, \"#0d0887\"], [0.1111111111111111, \"#46039f\"], [0.2222222222222222, \"#7201a8\"], [0.3333333333333333, \"#9c179e\"], [0.4444444444444444, \"#bd3786\"], [0.5555555555555556, \"#d8576b\"], [0.6666666666666666, \"#ed7953\"], [0.7777777777777778, \"#fb9f3a\"], [0.8888888888888888, \"#fdca26\"], [1.0, \"#f0f921\"]], \"type\": \"heatmapgl\"}], \"histogram\": [{\"marker\": {\"colorbar\": {\"outlinewidth\": 0, \"ticks\": \"\"}}, \"type\": \"histogram\"}], \"histogram2d\": [{\"colorbar\": {\"outlinewidth\": 0, \"ticks\": \"\"}, \"colorscale\": [[0.0, \"#0d0887\"], [0.1111111111111111, \"#46039f\"], [0.2222222222222222, \"#7201a8\"], [0.3333333333333333, \"#9c179e\"], [0.4444444444444444, \"#bd3786\"], [0.5555555555555556, \"#d8576b\"], [0.6666666666666666, \"#ed7953\"], [0.7777777777777778, \"#fb9f3a\"], [0.8888888888888888, \"#fdca26\"], [1.0, \"#f0f921\"]], \"type\": \"histogram2d\"}], \"histogram2dcontour\": [{\"colorbar\": {\"outlinewidth\": 0, \"ticks\": \"\"}, \"colorscale\": [[0.0, \"#0d0887\"], [0.1111111111111111, \"#46039f\"], [0.2222222222222222, \"#7201a8\"], [0.3333333333333333, \"#9c179e\"], [0.4444444444444444, \"#bd3786\"], [0.5555555555555556, \"#d8576b\"], [0.6666666666666666, \"#ed7953\"], [0.7777777777777778, \"#fb9f3a\"], [0.8888888888888888, \"#fdca26\"], [1.0, \"#f0f921\"]], \"type\": \"histogram2dcontour\"}], \"mesh3d\": [{\"colorbar\": {\"outlinewidth\": 0, \"ticks\": \"\"}, \"type\": \"mesh3d\"}], \"parcoords\": [{\"line\": {\"colorbar\": {\"outlinewidth\": 0, \"ticks\": \"\"}}, \"type\": \"parcoords\"}], \"pie\": [{\"automargin\": true, \"type\": \"pie\"}], \"scatter\": [{\"marker\": {\"colorbar\": {\"outlinewidth\": 0, \"ticks\": \"\"}}, \"type\": \"scatter\"}], \"scatter3d\": [{\"line\": {\"colorbar\": {\"outlinewidth\": 0, \"ticks\": \"\"}}, \"marker\": {\"colorbar\": {\"outlinewidth\": 0, \"ticks\": \"\"}}, \"type\": \"scatter3d\"}], \"scattercarpet\": [{\"marker\": {\"colorbar\": {\"outlinewidth\": 0, \"ticks\": \"\"}}, \"type\": \"scattercarpet\"}], \"scattergeo\": [{\"marker\": {\"colorbar\": {\"outlinewidth\": 0, \"ticks\": \"\"}}, \"type\": \"scattergeo\"}], \"scattergl\": [{\"marker\": {\"colorbar\": {\"outlinewidth\": 0, \"ticks\": \"\"}}, \"type\": \"scattergl\"}], \"scattermapbox\": [{\"marker\": {\"colorbar\": {\"outlinewidth\": 0, \"ticks\": \"\"}}, \"type\": \"scattermapbox\"}], \"scatterpolar\": [{\"marker\": {\"colorbar\": {\"outlinewidth\": 0, \"ticks\": \"\"}}, \"type\": \"scatterpolar\"}], \"scatterpolargl\": [{\"marker\": {\"colorbar\": {\"outlinewidth\": 0, \"ticks\": \"\"}}, \"type\": \"scatterpolargl\"}], \"scatterternary\": [{\"marker\": {\"colorbar\": {\"outlinewidth\": 0, \"ticks\": \"\"}}, \"type\": \"scatterternary\"}], \"surface\": [{\"colorbar\": {\"outlinewidth\": 0, \"ticks\": \"\"}, \"colorscale\": [[0.0, \"#0d0887\"], [0.1111111111111111, \"#46039f\"], [0.2222222222222222, \"#7201a8\"], [0.3333333333333333, \"#9c179e\"], [0.4444444444444444, \"#bd3786\"], [0.5555555555555556, \"#d8576b\"], [0.6666666666666666, \"#ed7953\"], [0.7777777777777778, \"#fb9f3a\"], [0.8888888888888888, \"#fdca26\"], [1.0, \"#f0f921\"]], \"type\": \"surface\"}], \"table\": [{\"cells\": {\"fill\": {\"color\": \"#EBF0F8\"}, \"line\": {\"color\": \"white\"}}, \"header\": {\"fill\": {\"color\": \"#C8D4E3\"}, \"line\": {\"color\": \"white\"}}, \"type\": \"table\"}]}, \"layout\": {\"annotationdefaults\": {\"arrowcolor\": \"#2a3f5f\", \"arrowhead\": 0, \"arrowwidth\": 1}, \"coloraxis\": {\"colorbar\": {\"outlinewidth\": 0, \"ticks\": \"\"}}, \"colorscale\": {\"diverging\": [[0, \"#8e0152\"], [0.1, \"#c51b7d\"], [0.2, \"#de77ae\"], [0.3, \"#f1b6da\"], [0.4, \"#fde0ef\"], [0.5, \"#f7f7f7\"], [0.6, \"#e6f5d0\"], [0.7, \"#b8e186\"], [0.8, \"#7fbc41\"], [0.9, \"#4d9221\"], [1, \"#276419\"]], \"sequential\": [[0.0, \"#0d0887\"], [0.1111111111111111, \"#46039f\"], [0.2222222222222222, \"#7201a8\"], [0.3333333333333333, \"#9c179e\"], [0.4444444444444444, \"#bd3786\"], [0.5555555555555556, \"#d8576b\"], [0.6666666666666666, \"#ed7953\"], [0.7777777777777778, \"#fb9f3a\"], [0.8888888888888888, \"#fdca26\"], [1.0, \"#f0f921\"]], \"sequentialminus\": [[0.0, \"#0d0887\"], [0.1111111111111111, \"#46039f\"], [0.2222222222222222, \"#7201a8\"], [0.3333333333333333, \"#9c179e\"], [0.4444444444444444, \"#bd3786\"], [0.5555555555555556, \"#d8576b\"], [0.6666666666666666, \"#ed7953\"], [0.7777777777777778, \"#fb9f3a\"], [0.8888888888888888, \"#fdca26\"], [1.0, \"#f0f921\"]]}, \"colorway\": [\"#636efa\", \"#EF553B\", \"#00cc96\", \"#ab63fa\", \"#FFA15A\", \"#19d3f3\", \"#FF6692\", \"#B6E880\", \"#FF97FF\", \"#FECB52\"], \"font\": {\"color\": \"#2a3f5f\"}, \"geo\": {\"bgcolor\": \"white\", \"lakecolor\": \"white\", \"landcolor\": \"#E5ECF6\", \"showlakes\": true, \"showland\": true, \"subunitcolor\": \"white\"}, \"hoverlabel\": {\"align\": \"left\"}, \"hovermode\": \"closest\", \"mapbox\": {\"style\": \"light\"}, \"paper_bgcolor\": \"white\", \"plot_bgcolor\": \"#E5ECF6\", \"polar\": {\"angularaxis\": {\"gridcolor\": \"white\", \"linecolor\": \"white\", \"ticks\": \"\"}, \"bgcolor\": \"#E5ECF6\", \"radialaxis\": {\"gridcolor\": \"white\", \"linecolor\": \"white\", \"ticks\": \"\"}}, \"scene\": {\"xaxis\": {\"backgroundcolor\": \"#E5ECF6\", \"gridcolor\": \"white\", \"gridwidth\": 2, \"linecolor\": \"white\", \"showbackground\": true, \"ticks\": \"\", \"zerolinecolor\": \"white\"}, \"yaxis\": {\"backgroundcolor\": \"#E5ECF6\", \"gridcolor\": \"white\", \"gridwidth\": 2, \"linecolor\": \"white\", \"showbackground\": true, \"ticks\": \"\", \"zerolinecolor\": \"white\"}, \"zaxis\": {\"backgroundcolor\": \"#E5ECF6\", \"gridcolor\": \"white\", \"gridwidth\": 2, \"linecolor\": \"white\", \"showbackground\": true, \"ticks\": \"\", \"zerolinecolor\": \"white\"}}, \"shapedefaults\": {\"line\": {\"color\": \"#2a3f5f\"}}, \"ternary\": {\"aaxis\": {\"gridcolor\": \"white\", \"linecolor\": \"white\", \"ticks\": \"\"}, \"baxis\": {\"gridcolor\": \"white\", \"linecolor\": \"white\", \"ticks\": \"\"}, \"bgcolor\": \"#E5ECF6\", \"caxis\": {\"gridcolor\": \"white\", \"linecolor\": \"white\", \"ticks\": \"\"}}, \"title\": {\"x\": 0.05}, \"xaxis\": {\"automargin\": true, \"gridcolor\": \"white\", \"linecolor\": \"white\", \"ticks\": \"\", \"title\": {\"standoff\": 15}, \"zerolinecolor\": \"white\", \"zerolinewidth\": 2}, \"yaxis\": {\"automargin\": true, \"gridcolor\": \"white\", \"linecolor\": \"white\", \"ticks\": \"\", \"title\": {\"standoff\": 15}, \"zerolinecolor\": \"white\", \"zerolinewidth\": 2}}}, \"width\": 600},\n",
       "                        {\"responsive\": true}\n",
       "                    ).then(function(){\n",
       "                            \n",
       "var gd = document.getElementById('44a2c627-37cd-4695-97f3-2f082402210c');\n",
       "var x = new MutationObserver(function (mutations, observer) {{\n",
       "        var display = window.getComputedStyle(gd).display;\n",
       "        if (!display || display === 'none') {{\n",
       "            console.log([gd, 'removed!']);\n",
       "            Plotly.purge(gd);\n",
       "            observer.disconnect();\n",
       "        }}\n",
       "}});\n",
       "\n",
       "// Listen for the removal of the full notebook cells\n",
       "var notebookContainer = gd.closest('#notebook-container');\n",
       "if (notebookContainer) {{\n",
       "    x.observe(notebookContainer, {childList: true});\n",
       "}}\n",
       "\n",
       "// Listen for the clearing of the current output cell\n",
       "var outputEl = gd.closest('.output');\n",
       "if (outputEl) {{\n",
       "    x.observe(outputEl, {childList: true});\n",
       "}}\n",
       "\n",
       "                        })\n",
       "                };\n",
       "                });\n",
       "            </script>\n",
       "        </div>"
      ]
     },
     "metadata": {},
     "output_type": "display_data"
    }
   ],
   "source": [
    "fig = go.Figure()\n",
    "fig.add_trace(go.Scatter(x=X_train, y=y_train))\n",
    "fig.update_layout(width=600)\n",
    "fig.show()"
   ]
  },
  {
   "cell_type": "code",
   "execution_count": 303,
   "metadata": {},
   "outputs": [
    {
     "name": "stdout",
     "output_type": "stream",
     "text": [
      "Model: \"sequential_17\"\n",
      "_________________________________________________________________\n",
      "Layer (type)                 Output Shape              Param #   \n",
      "=================================================================\n",
      "flatten_17 (Flatten)         (None, 1)                 0         \n",
      "_________________________________________________________________\n",
      "dense_51 (Dense)             (None, 10)                20        \n",
      "_________________________________________________________________\n",
      "dense_52 (Dense)             (None, 10)                110       \n",
      "_________________________________________________________________\n",
      "dense_53 (Dense)             (None, 10)                110       \n",
      "_________________________________________________________________\n",
      "dense_54 (Dense)             (None, 1)                 11        \n",
      "=================================================================\n",
      "Total params: 251\n",
      "Trainable params: 251\n",
      "Non-trainable params: 0\n",
      "_________________________________________________________________\n"
     ]
    }
   ],
   "source": [
    "model.summary()"
   ]
  },
  {
   "cell_type": "code",
   "execution_count": 304,
   "metadata": {},
   "outputs": [
    {
     "data": {
      "text/plain": [
       "[<tensorflow.python.keras.layers.core.Flatten at 0x6468d5a50>,\n",
       " <tensorflow.python.keras.layers.core.Dense at 0x64701ecd0>,\n",
       " <tensorflow.python.keras.layers.core.Dense at 0x64701e110>,\n",
       " <tensorflow.python.keras.layers.core.Dense at 0x64701ef10>,\n",
       " <tensorflow.python.keras.layers.core.Dense at 0x648d7a450>]"
      ]
     },
     "execution_count": 304,
     "metadata": {},
     "output_type": "execute_result"
    }
   ],
   "source": [
    "model.layers"
   ]
  },
  {
   "cell_type": "code",
   "execution_count": 305,
   "metadata": {},
   "outputs": [
    {
     "name": "stdout",
     "output_type": "stream",
     "text": [
      "dense_51\n"
     ]
    }
   ],
   "source": [
    "hidden1 = model.layers[1]\n",
    "print(hidden1.name)"
   ]
  },
  {
   "cell_type": "code",
   "execution_count": 306,
   "metadata": {},
   "outputs": [
    {
     "name": "stdout",
     "output_type": "stream",
     "text": [
      "(1, 10)\n",
      "(10,)\n"
     ]
    }
   ],
   "source": [
    "weights, biases = hidden1.get_weights()\n",
    "print(weights.shape)\n",
    "print(biases.shape)"
   ]
  },
  {
   "cell_type": "code",
   "execution_count": 307,
   "metadata": {},
   "outputs": [
    {
     "name": "stdout",
     "output_type": "stream",
     "text": [
      "Train on 256 samples, validate on 128 samples\n",
      "Epoch 1/1000\n",
      "256/256 [==============================] - 1s 4ms/sample - loss: 0.2218 - mse: 0.2218 - mae: 0.3470 - val_loss: 0.0214 - val_mse: 0.0214 - val_mae: 0.1230\n",
      "Epoch 2/1000\n",
      "256/256 [==============================] - 0s 222us/sample - loss: 0.0197 - mse: 0.0197 - mae: 0.1222 - val_loss: 0.0171 - val_mse: 0.0171 - val_mae: 0.1147\n",
      "Epoch 3/1000\n",
      "256/256 [==============================] - 0s 224us/sample - loss: 0.0170 - mse: 0.0170 - mae: 0.1143 - val_loss: 0.0154 - val_mse: 0.0154 - val_mae: 0.1094\n",
      "Epoch 4/1000\n",
      "256/256 [==============================] - 0s 191us/sample - loss: 0.0167 - mse: 0.0167 - mae: 0.1122 - val_loss: 0.0134 - val_mse: 0.0134 - val_mae: 0.1022\n",
      "Epoch 5/1000\n",
      "256/256 [==============================] - 0s 187us/sample - loss: 0.0136 - mse: 0.0136 - mae: 0.1019 - val_loss: 0.0122 - val_mse: 0.0122 - val_mae: 0.0955\n",
      "Epoch 6/1000\n",
      "256/256 [==============================] - 0s 250us/sample - loss: 0.0108 - mse: 0.0108 - mae: 0.0914 - val_loss: 0.0108 - val_mse: 0.0108 - val_mae: 0.0879\n",
      "Epoch 7/1000\n",
      "256/256 [==============================] - 0s 202us/sample - loss: 0.0090 - mse: 0.0090 - mae: 0.0834 - val_loss: 0.0083 - val_mse: 0.0083 - val_mae: 0.0779\n",
      "Epoch 8/1000\n",
      "256/256 [==============================] - 0s 196us/sample - loss: 0.0077 - mse: 0.0077 - mae: 0.0764 - val_loss: 0.0062 - val_mse: 0.0062 - val_mae: 0.0671\n",
      "Epoch 9/1000\n",
      "256/256 [==============================] - 0s 360us/sample - loss: 0.0056 - mse: 0.0056 - mae: 0.0650 - val_loss: 0.0048 - val_mse: 0.0048 - val_mae: 0.0576\n",
      "Epoch 10/1000\n",
      "256/256 [==============================] - 0s 272us/sample - loss: 0.0039 - mse: 0.0039 - mae: 0.0540 - val_loss: 0.0044 - val_mse: 0.0044 - val_mae: 0.0516\n",
      "Epoch 11/1000\n",
      "256/256 [==============================] - 0s 277us/sample - loss: 0.0029 - mse: 0.0029 - mae: 0.0455 - val_loss: 0.0022 - val_mse: 0.0022 - val_mae: 0.0415\n",
      "Epoch 12/1000\n",
      "256/256 [==============================] - 0s 296us/sample - loss: 0.0020 - mse: 0.0020 - mae: 0.0380 - val_loss: 0.0013 - val_mse: 0.0013 - val_mae: 0.0322\n",
      "Epoch 13/1000\n",
      "256/256 [==============================] - 0s 337us/sample - loss: 0.0012 - mse: 0.0012 - mae: 0.0299 - val_loss: 8.7480e-04 - val_mse: 8.7480e-04 - val_mae: 0.0261\n",
      "Epoch 14/1000\n",
      "256/256 [==============================] - 0s 299us/sample - loss: 7.7223e-04 - mse: 7.7223e-04 - mae: 0.0234 - val_loss: 6.0648e-04 - val_mse: 6.0648e-04 - val_mae: 0.0191\n",
      "Epoch 15/1000\n",
      "256/256 [==============================] - 0s 269us/sample - loss: 5.0345e-04 - mse: 5.0345e-04 - mae: 0.0185 - val_loss: 4.4148e-04 - val_mse: 4.4148e-04 - val_mae: 0.0191\n",
      "Epoch 16/1000\n",
      "256/256 [==============================] - 0s 298us/sample - loss: 3.5980e-04 - mse: 3.5980e-04 - mae: 0.0152 - val_loss: 2.8908e-04 - val_mse: 2.8908e-04 - val_mae: 0.0153\n",
      "Epoch 17/1000\n",
      "256/256 [==============================] - 0s 270us/sample - loss: 2.4374e-04 - mse: 2.4374e-04 - mae: 0.0124 - val_loss: 2.0306e-04 - val_mse: 2.0306e-04 - val_mae: 0.0125\n",
      "Epoch 18/1000\n",
      "256/256 [==============================] - 0s 266us/sample - loss: 1.7674e-04 - mse: 1.7674e-04 - mae: 0.0101 - val_loss: 1.4800e-04 - val_mse: 1.4800e-04 - val_mae: 0.0093\n",
      "Epoch 19/1000\n",
      "256/256 [==============================] - 0s 283us/sample - loss: 1.4075e-04 - mse: 1.4075e-04 - mae: 0.0089 - val_loss: 1.2861e-04 - val_mse: 1.2861e-04 - val_mae: 0.0089\n",
      "Epoch 20/1000\n",
      "256/256 [==============================] - 0s 272us/sample - loss: 1.3818e-04 - mse: 1.3818e-04 - mae: 0.0091 - val_loss: 1.2290e-04 - val_mse: 1.2290e-04 - val_mae: 0.0088\n",
      "Epoch 21/1000\n",
      "256/256 [==============================] - 0s 304us/sample - loss: 1.2033e-04 - mse: 1.2033e-04 - mae: 0.0089 - val_loss: 1.0395e-04 - val_mse: 1.0395e-04 - val_mae: 0.0083\n",
      "Epoch 22/1000\n",
      "256/256 [==============================] - 0s 282us/sample - loss: 1.0422e-04 - mse: 1.0422e-04 - mae: 0.0083 - val_loss: 9.8276e-05 - val_mse: 9.8276e-05 - val_mae: 0.0082\n",
      "Epoch 23/1000\n",
      "256/256 [==============================] - 0s 309us/sample - loss: 1.0524e-04 - mse: 1.0524e-04 - mae: 0.0085 - val_loss: 1.1271e-04 - val_mse: 1.1271e-04 - val_mae: 0.0084\n",
      "Epoch 24/1000\n",
      "256/256 [==============================] - 0s 277us/sample - loss: 1.1330e-04 - mse: 1.1330e-04 - mae: 0.0089 - val_loss: 1.1031e-04 - val_mse: 1.1031e-04 - val_mae: 0.0083\n",
      "Epoch 25/1000\n",
      "256/256 [==============================] - 0s 273us/sample - loss: 9.7854e-05 - mse: 9.7854e-05 - mae: 0.0082 - val_loss: 9.5244e-05 - val_mse: 9.5244e-05 - val_mae: 0.0082\n",
      "Epoch 26/1000\n",
      "256/256 [==============================] - 0s 280us/sample - loss: 1.0040e-04 - mse: 1.0040e-04 - mae: 0.0085 - val_loss: 1.1464e-04 - val_mse: 1.1464e-04 - val_mae: 0.0090\n",
      "Epoch 27/1000\n",
      "256/256 [==============================] - 0s 271us/sample - loss: 1.0927e-04 - mse: 1.0927e-04 - mae: 0.0087 - val_loss: 8.7883e-05 - val_mse: 8.7883e-05 - val_mae: 0.0079\n",
      "Epoch 28/1000\n",
      "256/256 [==============================] - 0s 267us/sample - loss: 9.0651e-05 - mse: 9.0651e-05 - mae: 0.0081 - val_loss: 1.0500e-04 - val_mse: 1.0500e-04 - val_mae: 0.0084\n",
      "Epoch 29/1000\n",
      "256/256 [==============================] - 0s 291us/sample - loss: 8.7265e-05 - mse: 8.7265e-05 - mae: 0.0078 - val_loss: 9.3715e-05 - val_mse: 9.3715e-05 - val_mae: 0.0082\n",
      "Epoch 30/1000\n",
      "256/256 [==============================] - 0s 273us/sample - loss: 8.6685e-05 - mse: 8.6685e-05 - mae: 0.0078 - val_loss: 8.3729e-05 - val_mse: 8.3729e-05 - val_mae: 0.0078\n",
      "Epoch 31/1000\n",
      "256/256 [==============================] - 0s 260us/sample - loss: 8.7614e-05 - mse: 8.7614e-05 - mae: 0.0080 - val_loss: 8.3075e-05 - val_mse: 8.3075e-05 - val_mae: 0.0078\n",
      "Epoch 32/1000\n",
      "256/256 [==============================] - 0s 265us/sample - loss: 8.0519e-05 - mse: 8.0519e-05 - mae: 0.0076 - val_loss: 7.8539e-05 - val_mse: 7.8539e-05 - val_mae: 0.0077\n",
      "Epoch 33/1000\n",
      "256/256 [==============================] - 0s 275us/sample - loss: 9.2044e-05 - mse: 9.2044e-05 - mae: 0.0081 - val_loss: 1.3145e-04 - val_mse: 1.3145e-04 - val_mae: 0.0095\n",
      "Epoch 34/1000\n",
      "256/256 [==============================] - 0s 321us/sample - loss: 9.3639e-05 - mse: 9.3639e-05 - mae: 0.0083 - val_loss: 7.8453e-05 - val_mse: 7.8453e-05 - val_mae: 0.0077\n",
      "Epoch 35/1000\n",
      "256/256 [==============================] - 0s 297us/sample - loss: 8.0803e-05 - mse: 8.0803e-05 - mae: 0.0076 - val_loss: 7.5024e-05 - val_mse: 7.5024e-05 - val_mae: 0.0074\n",
      "Epoch 36/1000\n",
      "256/256 [==============================] - 0s 268us/sample - loss: 7.4837e-05 - mse: 7.4837e-05 - mae: 0.0074 - val_loss: 7.2748e-05 - val_mse: 7.2748e-05 - val_mae: 0.0073\n",
      "Epoch 37/1000\n",
      "256/256 [==============================] - 0s 281us/sample - loss: 7.9816e-05 - mse: 7.9816e-05 - mae: 0.0076 - val_loss: 7.3994e-05 - val_mse: 7.3994e-05 - val_mae: 0.0073\n",
      "Epoch 38/1000\n",
      "256/256 [==============================] - 0s 295us/sample - loss: 7.3768e-05 - mse: 7.3768e-05 - mae: 0.0073 - val_loss: 8.0810e-05 - val_mse: 8.0810e-05 - val_mae: 0.0073\n",
      "Epoch 39/1000\n",
      "256/256 [==============================] - 0s 321us/sample - loss: 7.5682e-05 - mse: 7.5682e-05 - mae: 0.0073 - val_loss: 7.2755e-05 - val_mse: 7.2755e-05 - val_mae: 0.0074\n",
      "Epoch 40/1000\n",
      "256/256 [==============================] - 0s 282us/sample - loss: 7.1271e-05 - mse: 7.1271e-05 - mae: 0.0072 - val_loss: 7.0968e-05 - val_mse: 7.0968e-05 - val_mae: 0.0071\n",
      "Epoch 41/1000\n",
      "256/256 [==============================] - 0s 278us/sample - loss: 7.7787e-05 - mse: 7.7787e-05 - mae: 0.0074 - val_loss: 7.2604e-05 - val_mse: 7.2604e-05 - val_mae: 0.0073\n",
      "Epoch 42/1000\n",
      "256/256 [==============================] - 0s 263us/sample - loss: 7.5307e-05 - mse: 7.5307e-05 - mae: 0.0074 - val_loss: 7.8500e-05 - val_mse: 7.8500e-05 - val_mae: 0.0072\n",
      "Epoch 43/1000\n",
      "256/256 [==============================] - 0s 259us/sample - loss: 6.5966e-05 - mse: 6.5966e-05 - mae: 0.0069 - val_loss: 6.6017e-05 - val_mse: 6.6017e-05 - val_mae: 0.0070\n",
      "Epoch 44/1000\n",
      "256/256 [==============================] - 0s 279us/sample - loss: 6.6000e-05 - mse: 6.6000e-05 - mae: 0.0070 - val_loss: 6.6313e-05 - val_mse: 6.6313e-05 - val_mae: 0.0071\n",
      "Epoch 45/1000\n",
      "256/256 [==============================] - 0s 307us/sample - loss: 8.5206e-05 - mse: 8.5206e-05 - mae: 0.0077 - val_loss: 9.0944e-05 - val_mse: 9.0944e-05 - val_mae: 0.0081\n"
     ]
    },
    {
     "name": "stdout",
     "output_type": "stream",
     "text": [
      "Epoch 46/1000\n",
      "256/256 [==============================] - 0s 314us/sample - loss: 7.0908e-05 - mse: 7.0908e-05 - mae: 0.0071 - val_loss: 6.1187e-05 - val_mse: 6.1187e-05 - val_mae: 0.0067\n",
      "Epoch 47/1000\n",
      "256/256 [==============================] - 0s 262us/sample - loss: 6.6886e-05 - mse: 6.6886e-05 - mae: 0.0069 - val_loss: 7.3491e-05 - val_mse: 7.3491e-05 - val_mae: 0.0069\n",
      "Epoch 48/1000\n",
      "256/256 [==============================] - 0s 342us/sample - loss: 6.7229e-05 - mse: 6.7229e-05 - mae: 0.0070 - val_loss: 6.3649e-05 - val_mse: 6.3649e-05 - val_mae: 0.0066\n",
      "Epoch 49/1000\n",
      "256/256 [==============================] - 0s 286us/sample - loss: 6.4655e-05 - mse: 6.4655e-05 - mae: 0.0068 - val_loss: 8.0464e-05 - val_mse: 8.0464e-05 - val_mae: 0.0071\n",
      "Epoch 50/1000\n",
      "256/256 [==============================] - 0s 265us/sample - loss: 6.2725e-05 - mse: 6.2725e-05 - mae: 0.0067 - val_loss: 6.4330e-05 - val_mse: 6.4330e-05 - val_mae: 0.0069\n",
      "Epoch 51/1000\n",
      "256/256 [==============================] - 0s 263us/sample - loss: 6.0090e-05 - mse: 6.0090e-05 - mae: 0.0067 - val_loss: 5.7397e-05 - val_mse: 5.7397e-05 - val_mae: 0.0065\n",
      "Epoch 52/1000\n",
      "256/256 [==============================] - 0s 293us/sample - loss: 5.8102e-05 - mse: 5.8102e-05 - mae: 0.0065 - val_loss: 6.1617e-05 - val_mse: 6.1617e-05 - val_mae: 0.0065\n",
      "Epoch 53/1000\n",
      "256/256 [==============================] - 0s 257us/sample - loss: 6.3660e-05 - mse: 6.3660e-05 - mae: 0.0067 - val_loss: 6.1288e-05 - val_mse: 6.1288e-05 - val_mae: 0.0067\n",
      "Epoch 54/1000\n",
      "256/256 [==============================] - 0s 270us/sample - loss: 6.6334e-05 - mse: 6.6334e-05 - mae: 0.0070 - val_loss: 5.5344e-05 - val_mse: 5.5344e-05 - val_mae: 0.0063\n",
      "Epoch 55/1000\n",
      "256/256 [==============================] - 0s 251us/sample - loss: 5.7394e-05 - mse: 5.7394e-05 - mae: 0.0064 - val_loss: 5.4194e-05 - val_mse: 5.4194e-05 - val_mae: 0.0063\n",
      "Epoch 56/1000\n",
      "256/256 [==============================] - 0s 248us/sample - loss: 5.4835e-05 - mse: 5.4835e-05 - mae: 0.0063 - val_loss: 5.4620e-05 - val_mse: 5.4620e-05 - val_mae: 0.0063\n",
      "Epoch 57/1000\n",
      "256/256 [==============================] - 0s 269us/sample - loss: 5.5025e-05 - mse: 5.5025e-05 - mae: 0.0063 - val_loss: 6.2980e-05 - val_mse: 6.2980e-05 - val_mae: 0.0068\n",
      "Epoch 58/1000\n",
      "256/256 [==============================] - 0s 311us/sample - loss: 5.7831e-05 - mse: 5.7831e-05 - mae: 0.0063 - val_loss: 5.0845e-05 - val_mse: 5.0845e-05 - val_mae: 0.0061\n",
      "Epoch 59/1000\n",
      "256/256 [==============================] - 0s 265us/sample - loss: 5.2666e-05 - mse: 5.2666e-05 - mae: 0.0062 - val_loss: 5.1093e-05 - val_mse: 5.1093e-05 - val_mae: 0.0060\n",
      "Epoch 60/1000\n",
      "256/256 [==============================] - 0s 255us/sample - loss: 5.3130e-05 - mse: 5.3130e-05 - mae: 0.0061 - val_loss: 4.8883e-05 - val_mse: 4.8883e-05 - val_mae: 0.0060\n",
      "Epoch 61/1000\n",
      "256/256 [==============================] - 0s 252us/sample - loss: 4.9546e-05 - mse: 4.9546e-05 - mae: 0.0060 - val_loss: 5.4608e-05 - val_mse: 5.4608e-05 - val_mae: 0.0060\n",
      "Epoch 62/1000\n",
      "256/256 [==============================] - 0s 265us/sample - loss: 5.0879e-05 - mse: 5.0879e-05 - mae: 0.0060 - val_loss: 4.7601e-05 - val_mse: 4.7601e-05 - val_mae: 0.0059\n",
      "Epoch 63/1000\n",
      "256/256 [==============================] - 0s 293us/sample - loss: 5.6504e-05 - mse: 5.6504e-05 - mae: 0.0064 - val_loss: 6.5760e-05 - val_mse: 6.5760e-05 - val_mae: 0.0063\n",
      "Epoch 64/1000\n",
      "256/256 [==============================] - 0s 249us/sample - loss: 5.3228e-05 - mse: 5.3228e-05 - mae: 0.0061 - val_loss: 5.3668e-05 - val_mse: 5.3668e-05 - val_mae: 0.0062\n",
      "Epoch 65/1000\n",
      "256/256 [==============================] - 0s 289us/sample - loss: 5.2486e-05 - mse: 5.2486e-05 - mae: 0.0061 - val_loss: 5.0195e-05 - val_mse: 5.0195e-05 - val_mae: 0.0060\n",
      "Epoch 66/1000\n",
      "256/256 [==============================] - 0s 245us/sample - loss: 6.0155e-05 - mse: 6.0155e-05 - mae: 0.0065 - val_loss: 5.7639e-05 - val_mse: 5.7639e-05 - val_mae: 0.0064\n",
      "Epoch 67/1000\n",
      "256/256 [==============================] - 0s 219us/sample - loss: 6.0711e-05 - mse: 6.0711e-05 - mae: 0.0064 - val_loss: 5.0860e-05 - val_mse: 5.0860e-05 - val_mae: 0.0060\n",
      "Epoch 68/1000\n",
      "256/256 [==============================] - 0s 260us/sample - loss: 4.9865e-05 - mse: 4.9865e-05 - mae: 0.0060 - val_loss: 4.3988e-05 - val_mse: 4.3988e-05 - val_mae: 0.0056\n",
      "Epoch 69/1000\n",
      "256/256 [==============================] - 0s 266us/sample - loss: 4.3557e-05 - mse: 4.3557e-05 - mae: 0.0056 - val_loss: 4.2473e-05 - val_mse: 4.2473e-05 - val_mae: 0.0056\n",
      "Epoch 70/1000\n",
      "256/256 [==============================] - 0s 242us/sample - loss: 4.3323e-05 - mse: 4.3323e-05 - mae: 0.0057 - val_loss: 4.2005e-05 - val_mse: 4.2005e-05 - val_mae: 0.0056\n",
      "Epoch 71/1000\n",
      "256/256 [==============================] - 0s 265us/sample - loss: 4.3695e-05 - mse: 4.3695e-05 - mae: 0.0056 - val_loss: 4.3611e-05 - val_mse: 4.3611e-05 - val_mae: 0.0057\n",
      "Epoch 72/1000\n",
      "256/256 [==============================] - 0s 249us/sample - loss: 4.4581e-05 - mse: 4.4581e-05 - mae: 0.0055 - val_loss: 5.6137e-05 - val_mse: 5.6137e-05 - val_mae: 0.0063\n",
      "Epoch 73/1000\n",
      "256/256 [==============================] - 0s 256us/sample - loss: 7.5303e-05 - mse: 7.5303e-05 - mae: 0.0072 - val_loss: 6.3039e-05 - val_mse: 6.3039e-05 - val_mae: 0.0067\n",
      "Epoch 74/1000\n",
      "256/256 [==============================] - 0s 247us/sample - loss: 4.9130e-05 - mse: 4.9130e-05 - mae: 0.0058 - val_loss: 4.0704e-05 - val_mse: 4.0704e-05 - val_mae: 0.0054\n",
      "Epoch 75/1000\n",
      "256/256 [==============================] - 0s 248us/sample - loss: 3.8635e-05 - mse: 3.8635e-05 - mae: 0.0053 - val_loss: 5.6844e-05 - val_mse: 5.6844e-05 - val_mae: 0.0063\n",
      "Epoch 76/1000\n",
      "256/256 [==============================] - 0s 239us/sample - loss: 4.3222e-05 - mse: 4.3222e-05 - mae: 0.0055 - val_loss: 3.7859e-05 - val_mse: 3.7859e-05 - val_mae: 0.0053\n",
      "Epoch 77/1000\n",
      "256/256 [==============================] - 0s 243us/sample - loss: 3.7148e-05 - mse: 3.7148e-05 - mae: 0.0052 - val_loss: 3.8471e-05 - val_mse: 3.8471e-05 - val_mae: 0.0053\n",
      "Epoch 78/1000\n",
      "256/256 [==============================] - 0s 244us/sample - loss: 3.9815e-05 - mse: 3.9815e-05 - mae: 0.0052 - val_loss: 3.7780e-05 - val_mse: 3.7780e-05 - val_mae: 0.0052\n",
      "Epoch 79/1000\n",
      "256/256 [==============================] - 0s 220us/sample - loss: 3.7748e-05 - mse: 3.7748e-05 - mae: 0.0052 - val_loss: 4.3819e-05 - val_mse: 4.3819e-05 - val_mae: 0.0057\n",
      "Epoch 80/1000\n",
      "256/256 [==============================] - 0s 264us/sample - loss: 3.9002e-05 - mse: 3.9002e-05 - mae: 0.0053 - val_loss: 3.7326e-05 - val_mse: 3.7326e-05 - val_mae: 0.0053\n",
      "Epoch 81/1000\n",
      "256/256 [==============================] - 0s 347us/sample - loss: 4.0254e-05 - mse: 4.0254e-05 - mae: 0.0053 - val_loss: 3.7199e-05 - val_mse: 3.7199e-05 - val_mae: 0.0053\n",
      "Epoch 82/1000\n",
      "256/256 [==============================] - 0s 302us/sample - loss: 3.5889e-05 - mse: 3.5889e-05 - mae: 0.0051 - val_loss: 3.5635e-05 - val_mse: 3.5635e-05 - val_mae: 0.0051\n",
      "Epoch 83/1000\n",
      "256/256 [==============================] - 0s 258us/sample - loss: 3.4771e-05 - mse: 3.4771e-05 - mae: 0.0050 - val_loss: 3.8390e-05 - val_mse: 3.8390e-05 - val_mae: 0.0053\n",
      "Epoch 84/1000\n",
      "256/256 [==============================] - 0s 255us/sample - loss: 3.7627e-05 - mse: 3.7627e-05 - mae: 0.0051 - val_loss: 3.6324e-05 - val_mse: 3.6324e-05 - val_mae: 0.0050\n",
      "Epoch 85/1000\n",
      "256/256 [==============================] - 0s 251us/sample - loss: 3.8155e-05 - mse: 3.8155e-05 - mae: 0.0051 - val_loss: 3.6750e-05 - val_mse: 3.6750e-05 - val_mae: 0.0051\n",
      "Epoch 86/1000\n",
      "256/256 [==============================] - 0s 243us/sample - loss: 4.1815e-05 - mse: 4.1815e-05 - mae: 0.0054 - val_loss: 4.2639e-05 - val_mse: 4.2639e-05 - val_mae: 0.0055\n",
      "Epoch 87/1000\n",
      "256/256 [==============================] - 0s 242us/sample - loss: 3.9999e-05 - mse: 3.9999e-05 - mae: 0.0054 - val_loss: 3.5278e-05 - val_mse: 3.5278e-05 - val_mae: 0.0050\n",
      "Epoch 88/1000\n",
      "256/256 [==============================] - 0s 275us/sample - loss: 3.5239e-05 - mse: 3.5239e-05 - mae: 0.0050 - val_loss: 3.3123e-05 - val_mse: 3.3123e-05 - val_mae: 0.0048\n",
      "Epoch 89/1000\n",
      "256/256 [==============================] - 0s 275us/sample - loss: 3.4110e-05 - mse: 3.4110e-05 - mae: 0.0049 - val_loss: 3.1841e-05 - val_mse: 3.1841e-05 - val_mae: 0.0048\n"
     ]
    },
    {
     "name": "stdout",
     "output_type": "stream",
     "text": [
      "Epoch 90/1000\n",
      "256/256 [==============================] - 0s 263us/sample - loss: 3.6233e-05 - mse: 3.6233e-05 - mae: 0.0050 - val_loss: 3.7070e-05 - val_mse: 3.7070e-05 - val_mae: 0.0049\n",
      "Epoch 91/1000\n",
      "256/256 [==============================] - 0s 261us/sample - loss: 3.2154e-05 - mse: 3.2154e-05 - mae: 0.0048 - val_loss: 3.1650e-05 - val_mse: 3.1650e-05 - val_mae: 0.0048\n",
      "Epoch 92/1000\n",
      "256/256 [==============================] - 0s 364us/sample - loss: 3.4213e-05 - mse: 3.4213e-05 - mae: 0.0049 - val_loss: 3.5663e-05 - val_mse: 3.5663e-05 - val_mae: 0.0048\n",
      "Epoch 93/1000\n",
      "256/256 [==============================] - 0s 286us/sample - loss: 3.2841e-05 - mse: 3.2841e-05 - mae: 0.0047 - val_loss: 4.0086e-05 - val_mse: 4.0086e-05 - val_mae: 0.0053\n",
      "Epoch 94/1000\n",
      "256/256 [==============================] - 0s 355us/sample - loss: 3.8926e-05 - mse: 3.8926e-05 - mae: 0.0051 - val_loss: 3.0934e-05 - val_mse: 3.0934e-05 - val_mae: 0.0047\n",
      "Epoch 95/1000\n",
      "256/256 [==============================] - 0s 358us/sample - loss: 3.3978e-05 - mse: 3.3978e-05 - mae: 0.0049 - val_loss: 3.0700e-05 - val_mse: 3.0700e-05 - val_mae: 0.0047\n",
      "Epoch 96/1000\n",
      "256/256 [==============================] - 0s 307us/sample - loss: 3.2738e-05 - mse: 3.2738e-05 - mae: 0.0048 - val_loss: 2.8731e-05 - val_mse: 2.8731e-05 - val_mae: 0.0046\n",
      "Epoch 97/1000\n",
      "256/256 [==============================] - 0s 269us/sample - loss: 2.9257e-05 - mse: 2.9257e-05 - mae: 0.0045 - val_loss: 3.0034e-05 - val_mse: 3.0034e-05 - val_mae: 0.0046\n",
      "Epoch 98/1000\n",
      "256/256 [==============================] - 0s 294us/sample - loss: 2.8313e-05 - mse: 2.8313e-05 - mae: 0.0045 - val_loss: 2.8574e-05 - val_mse: 2.8574e-05 - val_mae: 0.0046\n",
      "Epoch 99/1000\n",
      "256/256 [==============================] - 0s 276us/sample - loss: 3.2550e-05 - mse: 3.2550e-05 - mae: 0.0048 - val_loss: 3.4116e-05 - val_mse: 3.4116e-05 - val_mae: 0.0049\n",
      "Epoch 100/1000\n",
      "256/256 [==============================] - 0s 279us/sample - loss: 2.7749e-05 - mse: 2.7749e-05 - mae: 0.0045 - val_loss: 2.6832e-05 - val_mse: 2.6832e-05 - val_mae: 0.0044\n",
      "Epoch 101/1000\n",
      "256/256 [==============================] - 0s 274us/sample - loss: 2.7641e-05 - mse: 2.7641e-05 - mae: 0.0044 - val_loss: 2.8687e-05 - val_mse: 2.8687e-05 - val_mae: 0.0044\n",
      "Epoch 102/1000\n",
      "256/256 [==============================] - 0s 272us/sample - loss: 3.1370e-05 - mse: 3.1370e-05 - mae: 0.0047 - val_loss: 2.7710e-05 - val_mse: 2.7710e-05 - val_mae: 0.0044\n",
      "Epoch 103/1000\n",
      "256/256 [==============================] - 0s 195us/sample - loss: 3.1024e-05 - mse: 3.1024e-05 - mae: 0.0047 - val_loss: 2.8527e-05 - val_mse: 2.8527e-05 - val_mae: 0.0045\n",
      "Epoch 104/1000\n",
      "256/256 [==============================] - 0s 194us/sample - loss: 2.7810e-05 - mse: 2.7810e-05 - mae: 0.0044 - val_loss: 2.5768e-05 - val_mse: 2.5768e-05 - val_mae: 0.0043\n",
      "Epoch 105/1000\n",
      "256/256 [==============================] - 0s 224us/sample - loss: 2.6541e-05 - mse: 2.6541e-05 - mae: 0.0044 - val_loss: 2.4868e-05 - val_mse: 2.4868e-05 - val_mae: 0.0042\n",
      "Epoch 106/1000\n",
      "256/256 [==============================] - 0s 188us/sample - loss: 2.8929e-05 - mse: 2.8929e-05 - mae: 0.0045 - val_loss: 2.4520e-05 - val_mse: 2.4520e-05 - val_mae: 0.0042\n",
      "Epoch 107/1000\n",
      "256/256 [==============================] - 0s 193us/sample - loss: 2.5761e-05 - mse: 2.5761e-05 - mae: 0.0042 - val_loss: 2.5006e-05 - val_mse: 2.5006e-05 - val_mae: 0.0042\n",
      "Epoch 108/1000\n",
      "256/256 [==============================] - 0s 185us/sample - loss: 2.5462e-05 - mse: 2.5462e-05 - mae: 0.0042 - val_loss: 2.5907e-05 - val_mse: 2.5907e-05 - val_mae: 0.0044\n",
      "Epoch 109/1000\n",
      "256/256 [==============================] - 0s 187us/sample - loss: 2.5778e-05 - mse: 2.5778e-05 - mae: 0.0042 - val_loss: 2.5845e-05 - val_mse: 2.5845e-05 - val_mae: 0.0043\n",
      "Epoch 110/1000\n",
      "256/256 [==============================] - 0s 206us/sample - loss: 2.6186e-05 - mse: 2.6186e-05 - mae: 0.0043 - val_loss: 2.3261e-05 - val_mse: 2.3261e-05 - val_mae: 0.0041\n",
      "Epoch 111/1000\n",
      "256/256 [==============================] - 0s 199us/sample - loss: 2.4519e-05 - mse: 2.4519e-05 - mae: 0.0042 - val_loss: 2.9749e-05 - val_mse: 2.9749e-05 - val_mae: 0.0043\n",
      "Epoch 112/1000\n",
      "256/256 [==============================] - 0s 223us/sample - loss: 2.4592e-05 - mse: 2.4592e-05 - mae: 0.0041 - val_loss: 2.4191e-05 - val_mse: 2.4191e-05 - val_mae: 0.0041\n",
      "Epoch 113/1000\n",
      "256/256 [==============================] - 0s 240us/sample - loss: 2.4783e-05 - mse: 2.4783e-05 - mae: 0.0041 - val_loss: 3.4127e-05 - val_mse: 3.4127e-05 - val_mae: 0.0049\n",
      "Epoch 114/1000\n",
      "256/256 [==============================] - 0s 254us/sample - loss: 4.1991e-05 - mse: 4.1991e-05 - mae: 0.0054 - val_loss: 2.7504e-05 - val_mse: 2.7504e-05 - val_mae: 0.0044\n",
      "Epoch 115/1000\n",
      "256/256 [==============================] - 0s 228us/sample - loss: 2.3649e-05 - mse: 2.3649e-05 - mae: 0.0041 - val_loss: 2.1483e-05 - val_mse: 2.1483e-05 - val_mae: 0.0039\n",
      "Epoch 116/1000\n",
      "256/256 [==============================] - 0s 224us/sample - loss: 2.2058e-05 - mse: 2.2058e-05 - mae: 0.0039 - val_loss: 2.4388e-05 - val_mse: 2.4388e-05 - val_mae: 0.0042\n",
      "Epoch 117/1000\n",
      "256/256 [==============================] - 0s 186us/sample - loss: 2.4134e-05 - mse: 2.4134e-05 - mae: 0.0041 - val_loss: 2.1025e-05 - val_mse: 2.1025e-05 - val_mae: 0.0039\n",
      "Epoch 118/1000\n",
      "256/256 [==============================] - 0s 190us/sample - loss: 2.1794e-05 - mse: 2.1794e-05 - mae: 0.0039 - val_loss: 2.3954e-05 - val_mse: 2.3954e-05 - val_mae: 0.0041\n",
      "Epoch 119/1000\n",
      "256/256 [==============================] - 0s 190us/sample - loss: 2.2260e-05 - mse: 2.2260e-05 - mae: 0.0039 - val_loss: 2.2254e-05 - val_mse: 2.2254e-05 - val_mae: 0.0039\n",
      "Epoch 120/1000\n",
      "256/256 [==============================] - 0s 188us/sample - loss: 2.0565e-05 - mse: 2.0565e-05 - mae: 0.0038 - val_loss: 2.0434e-05 - val_mse: 2.0434e-05 - val_mae: 0.0038\n",
      "Epoch 121/1000\n",
      "256/256 [==============================] - 0s 184us/sample - loss: 2.1699e-05 - mse: 2.1699e-05 - mae: 0.0039 - val_loss: 2.1896e-05 - val_mse: 2.1896e-05 - val_mae: 0.0038\n",
      "Epoch 122/1000\n",
      "256/256 [==============================] - 0s 190us/sample - loss: 2.4698e-05 - mse: 2.4698e-05 - mae: 0.0042 - val_loss: 1.9812e-05 - val_mse: 1.9812e-05 - val_mae: 0.0037\n",
      "Epoch 123/1000\n",
      "256/256 [==============================] - 0s 194us/sample - loss: 1.9186e-05 - mse: 1.9186e-05 - mae: 0.0037 - val_loss: 1.9096e-05 - val_mse: 1.9096e-05 - val_mae: 0.0037\n",
      "Epoch 124/1000\n",
      "256/256 [==============================] - 0s 222us/sample - loss: 1.9514e-05 - mse: 1.9514e-05 - mae: 0.0036 - val_loss: 2.1009e-05 - val_mse: 2.1009e-05 - val_mae: 0.0039\n",
      "Epoch 125/1000\n",
      "256/256 [==============================] - 0s 206us/sample - loss: 3.0869e-05 - mse: 3.0869e-05 - mae: 0.0046 - val_loss: 2.2412e-05 - val_mse: 2.2412e-05 - val_mae: 0.0040\n",
      "Epoch 126/1000\n",
      "256/256 [==============================] - 0s 194us/sample - loss: 1.9150e-05 - mse: 1.9150e-05 - mae: 0.0037 - val_loss: 2.1536e-05 - val_mse: 2.1536e-05 - val_mae: 0.0039\n",
      "Epoch 127/1000\n",
      "256/256 [==============================] - 0s 192us/sample - loss: 2.2304e-05 - mse: 2.2304e-05 - mae: 0.0040 - val_loss: 2.3569e-05 - val_mse: 2.3569e-05 - val_mae: 0.0041\n",
      "Epoch 128/1000\n",
      "256/256 [==============================] - 0s 198us/sample - loss: 1.9009e-05 - mse: 1.9009e-05 - mae: 0.0037 - val_loss: 1.9366e-05 - val_mse: 1.9366e-05 - val_mae: 0.0037\n",
      "Epoch 129/1000\n",
      "256/256 [==============================] - 0s 239us/sample - loss: 1.8593e-05 - mse: 1.8593e-05 - mae: 0.0036 - val_loss: 2.0509e-05 - val_mse: 2.0509e-05 - val_mae: 0.0038\n",
      "Epoch 130/1000\n",
      "256/256 [==============================] - 0s 195us/sample - loss: 2.1018e-05 - mse: 2.1018e-05 - mae: 0.0038 - val_loss: 1.9917e-05 - val_mse: 1.9917e-05 - val_mae: 0.0038\n",
      "Epoch 131/1000\n",
      "256/256 [==============================] - 0s 190us/sample - loss: 2.0037e-05 - mse: 2.0037e-05 - mae: 0.0037 - val_loss: 2.1213e-05 - val_mse: 2.1213e-05 - val_mae: 0.0037\n",
      "Epoch 132/1000\n",
      "256/256 [==============================] - 0s 204us/sample - loss: 1.8128e-05 - mse: 1.8128e-05 - mae: 0.0035 - val_loss: 1.7469e-05 - val_mse: 1.7469e-05 - val_mae: 0.0035\n",
      "Epoch 133/1000\n",
      "256/256 [==============================] - 0s 202us/sample - loss: 1.9418e-05 - mse: 1.9418e-05 - mae: 0.0037 - val_loss: 2.2090e-05 - val_mse: 2.2090e-05 - val_mae: 0.0039\n"
     ]
    },
    {
     "name": "stdout",
     "output_type": "stream",
     "text": [
      "Epoch 134/1000\n",
      "256/256 [==============================] - 0s 197us/sample - loss: 2.1693e-05 - mse: 2.1693e-05 - mae: 0.0039 - val_loss: 1.6844e-05 - val_mse: 1.6844e-05 - val_mae: 0.0034\n",
      "Epoch 135/1000\n",
      "256/256 [==============================] - 0s 216us/sample - loss: 1.6265e-05 - mse: 1.6265e-05 - mae: 0.0034 - val_loss: 1.6335e-05 - val_mse: 1.6335e-05 - val_mae: 0.0034\n",
      "Epoch 136/1000\n",
      "256/256 [==============================] - 0s 191us/sample - loss: 1.6956e-05 - mse: 1.6956e-05 - mae: 0.0035 - val_loss: 1.6328e-05 - val_mse: 1.6328e-05 - val_mae: 0.0034\n",
      "Epoch 137/1000\n",
      "256/256 [==============================] - 0s 190us/sample - loss: 1.5735e-05 - mse: 1.5735e-05 - mae: 0.0033 - val_loss: 1.7305e-05 - val_mse: 1.7305e-05 - val_mae: 0.0035\n",
      "Epoch 138/1000\n",
      "256/256 [==============================] - 0s 205us/sample - loss: 1.9113e-05 - mse: 1.9113e-05 - mae: 0.0036 - val_loss: 1.7065e-05 - val_mse: 1.7065e-05 - val_mae: 0.0035\n",
      "Epoch 139/1000\n",
      "256/256 [==============================] - 0s 200us/sample - loss: 1.6309e-05 - mse: 1.6309e-05 - mae: 0.0034 - val_loss: 1.7320e-05 - val_mse: 1.7320e-05 - val_mae: 0.0034\n",
      "Epoch 140/1000\n",
      "256/256 [==============================] - 0s 191us/sample - loss: 1.6409e-05 - mse: 1.6409e-05 - mae: 0.0034 - val_loss: 1.5102e-05 - val_mse: 1.5102e-05 - val_mae: 0.0033\n",
      "Epoch 141/1000\n",
      "256/256 [==============================] - 0s 197us/sample - loss: 1.5395e-05 - mse: 1.5395e-05 - mae: 0.0033 - val_loss: 1.8127e-05 - val_mse: 1.8127e-05 - val_mae: 0.0034\n",
      "Epoch 142/1000\n",
      "256/256 [==============================] - 0s 266us/sample - loss: 1.8309e-05 - mse: 1.8309e-05 - mae: 0.0035 - val_loss: 1.6246e-05 - val_mse: 1.6246e-05 - val_mae: 0.0033\n",
      "Epoch 143/1000\n",
      "256/256 [==============================] - 0s 190us/sample - loss: 1.6128e-05 - mse: 1.6128e-05 - mae: 0.0033 - val_loss: 1.5036e-05 - val_mse: 1.5036e-05 - val_mae: 0.0033\n",
      "Epoch 144/1000\n",
      "256/256 [==============================] - 0s 212us/sample - loss: 1.6086e-05 - mse: 1.6086e-05 - mae: 0.0033 - val_loss: 1.8161e-05 - val_mse: 1.8161e-05 - val_mae: 0.0036\n",
      "Epoch 145/1000\n",
      "256/256 [==============================] - 0s 212us/sample - loss: 1.6177e-05 - mse: 1.6177e-05 - mae: 0.0034 - val_loss: 1.4824e-05 - val_mse: 1.4824e-05 - val_mae: 0.0032\n",
      "Epoch 146/1000\n",
      "256/256 [==============================] - 0s 185us/sample - loss: 1.5900e-05 - mse: 1.5900e-05 - mae: 0.0033 - val_loss: 1.5144e-05 - val_mse: 1.5144e-05 - val_mae: 0.0032\n",
      "Epoch 147/1000\n",
      "256/256 [==============================] - 0s 193us/sample - loss: 1.5271e-05 - mse: 1.5271e-05 - mae: 0.0032 - val_loss: 1.5917e-05 - val_mse: 1.5917e-05 - val_mae: 0.0032\n",
      "Epoch 148/1000\n",
      "256/256 [==============================] - 0s 202us/sample - loss: 1.5285e-05 - mse: 1.5285e-05 - mae: 0.0032 - val_loss: 1.4541e-05 - val_mse: 1.4541e-05 - val_mae: 0.0031\n",
      "Epoch 149/1000\n",
      "256/256 [==============================] - 0s 185us/sample - loss: 1.8027e-05 - mse: 1.8027e-05 - mae: 0.0034 - val_loss: 1.4395e-05 - val_mse: 1.4395e-05 - val_mae: 0.0031\n",
      "Epoch 150/1000\n",
      "256/256 [==============================] - 0s 262us/sample - loss: 1.3810e-05 - mse: 1.3810e-05 - mae: 0.0031 - val_loss: 1.3576e-05 - val_mse: 1.3576e-05 - val_mae: 0.0031\n",
      "Epoch 151/1000\n",
      "256/256 [==============================] - 0s 250us/sample - loss: 1.3411e-05 - mse: 1.3411e-05 - mae: 0.0031 - val_loss: 1.3979e-05 - val_mse: 1.3979e-05 - val_mae: 0.0031\n",
      "Epoch 152/1000\n",
      "256/256 [==============================] - 0s 191us/sample - loss: 1.4110e-05 - mse: 1.4110e-05 - mae: 0.0031 - val_loss: 1.3901e-05 - val_mse: 1.3901e-05 - val_mae: 0.0031\n",
      "Epoch 153/1000\n",
      "256/256 [==============================] - 0s 206us/sample - loss: 1.2922e-05 - mse: 1.2922e-05 - mae: 0.0030 - val_loss: 1.3034e-05 - val_mse: 1.3034e-05 - val_mae: 0.0030\n",
      "Epoch 154/1000\n",
      "256/256 [==============================] - 0s 202us/sample - loss: 1.3938e-05 - mse: 1.3938e-05 - mae: 0.0031 - val_loss: 1.3532e-05 - val_mse: 1.3532e-05 - val_mae: 0.0030\n",
      "Epoch 155/1000\n",
      "256/256 [==============================] - 0s 183us/sample - loss: 1.5185e-05 - mse: 1.5185e-05 - mae: 0.0032 - val_loss: 1.3492e-05 - val_mse: 1.3492e-05 - val_mae: 0.0030\n",
      "Epoch 156/1000\n",
      "256/256 [==============================] - 0s 209us/sample - loss: 1.3898e-05 - mse: 1.3898e-05 - mae: 0.0030 - val_loss: 1.2917e-05 - val_mse: 1.2917e-05 - val_mae: 0.0030\n",
      "Epoch 157/1000\n",
      "256/256 [==============================] - 0s 194us/sample - loss: 1.5617e-05 - mse: 1.5617e-05 - mae: 0.0033 - val_loss: 1.2833e-05 - val_mse: 1.2833e-05 - val_mae: 0.0030\n",
      "Epoch 158/1000\n",
      "256/256 [==============================] - 0s 183us/sample - loss: 1.4462e-05 - mse: 1.4462e-05 - mae: 0.0031 - val_loss: 1.3725e-05 - val_mse: 1.3725e-05 - val_mae: 0.0030\n",
      "Epoch 159/1000\n",
      "256/256 [==============================] - 0s 197us/sample - loss: 1.2242e-05 - mse: 1.2242e-05 - mae: 0.0029 - val_loss: 1.2196e-05 - val_mse: 1.2196e-05 - val_mae: 0.0029\n",
      "Epoch 160/1000\n",
      "256/256 [==============================] - 0s 191us/sample - loss: 1.2449e-05 - mse: 1.2449e-05 - mae: 0.0030 - val_loss: 1.3131e-05 - val_mse: 1.3131e-05 - val_mae: 0.0030\n",
      "Epoch 161/1000\n",
      "256/256 [==============================] - 0s 187us/sample - loss: 1.3600e-05 - mse: 1.3600e-05 - mae: 0.0030 - val_loss: 1.1490e-05 - val_mse: 1.1490e-05 - val_mae: 0.0028\n",
      "Epoch 162/1000\n",
      "256/256 [==============================] - 0s 210us/sample - loss: 1.2257e-05 - mse: 1.2257e-05 - mae: 0.0029 - val_loss: 1.1786e-05 - val_mse: 1.1786e-05 - val_mae: 0.0029\n",
      "Epoch 163/1000\n",
      "256/256 [==============================] - 0s 190us/sample - loss: 1.1663e-05 - mse: 1.1663e-05 - mae: 0.0029 - val_loss: 1.1957e-05 - val_mse: 1.1957e-05 - val_mae: 0.0029\n",
      "Epoch 164/1000\n",
      "256/256 [==============================] - 0s 197us/sample - loss: 1.1520e-05 - mse: 1.1520e-05 - mae: 0.0028 - val_loss: 1.1424e-05 - val_mse: 1.1424e-05 - val_mae: 0.0028\n",
      "Epoch 165/1000\n",
      "256/256 [==============================] - 0s 187us/sample - loss: 1.2453e-05 - mse: 1.2453e-05 - mae: 0.0029 - val_loss: 1.3611e-05 - val_mse: 1.3611e-05 - val_mae: 0.0029\n",
      "Epoch 166/1000\n",
      "256/256 [==============================] - 0s 192us/sample - loss: 1.3047e-05 - mse: 1.3047e-05 - mae: 0.0030 - val_loss: 1.4412e-05 - val_mse: 1.4412e-05 - val_mae: 0.0029\n",
      "Epoch 167/1000\n",
      "256/256 [==============================] - 0s 193us/sample - loss: 1.2317e-05 - mse: 1.2317e-05 - mae: 0.0028 - val_loss: 1.2637e-05 - val_mse: 1.2637e-05 - val_mae: 0.0028\n",
      "Epoch 168/1000\n",
      "256/256 [==============================] - 0s 191us/sample - loss: 1.3448e-05 - mse: 1.3448e-05 - mae: 0.0030 - val_loss: 1.1034e-05 - val_mse: 1.1034e-05 - val_mae: 0.0027\n",
      "Epoch 169/1000\n",
      "256/256 [==============================] - 0s 184us/sample - loss: 1.1955e-05 - mse: 1.1955e-05 - mae: 0.0028 - val_loss: 1.0929e-05 - val_mse: 1.0929e-05 - val_mae: 0.0028\n",
      "Epoch 170/1000\n",
      "256/256 [==============================] - 0s 190us/sample - loss: 1.0256e-05 - mse: 1.0256e-05 - mae: 0.0027 - val_loss: 1.1591e-05 - val_mse: 1.1591e-05 - val_mae: 0.0027\n",
      "Epoch 171/1000\n",
      "256/256 [==============================] - 0s 190us/sample - loss: 1.0485e-05 - mse: 1.0485e-05 - mae: 0.0027 - val_loss: 1.0415e-05 - val_mse: 1.0415e-05 - val_mae: 0.0027\n",
      "Epoch 172/1000\n",
      "256/256 [==============================] - 0s 199us/sample - loss: 1.2014e-05 - mse: 1.2014e-05 - mae: 0.0028 - val_loss: 1.0726e-05 - val_mse: 1.0726e-05 - val_mae: 0.0027\n",
      "Epoch 173/1000\n",
      "256/256 [==============================] - 0s 201us/sample - loss: 9.9510e-06 - mse: 9.9510e-06 - mae: 0.0026 - val_loss: 9.8562e-06 - val_mse: 9.8562e-06 - val_mae: 0.0026\n",
      "Epoch 174/1000\n",
      "256/256 [==============================] - 0s 191us/sample - loss: 1.2492e-05 - mse: 1.2492e-05 - mae: 0.0029 - val_loss: 9.9912e-06 - val_mse: 9.9912e-06 - val_mae: 0.0027\n",
      "Epoch 175/1000\n",
      "256/256 [==============================] - 0s 190us/sample - loss: 1.0270e-05 - mse: 1.0270e-05 - mae: 0.0027 - val_loss: 1.0945e-05 - val_mse: 1.0945e-05 - val_mae: 0.0026\n",
      "Epoch 176/1000\n",
      "256/256 [==============================] - 0s 181us/sample - loss: 1.4538e-05 - mse: 1.4538e-05 - mae: 0.0030 - val_loss: 1.1413e-05 - val_mse: 1.1413e-05 - val_mae: 0.0028\n",
      "Epoch 177/1000\n",
      "256/256 [==============================] - 0s 185us/sample - loss: 1.0414e-05 - mse: 1.0414e-05 - mae: 0.0027 - val_loss: 1.2091e-05 - val_mse: 1.2091e-05 - val_mae: 0.0028\n",
      "Epoch 178/1000\n",
      "256/256 [==============================] - 0s 182us/sample - loss: 1.0186e-05 - mse: 1.0186e-05 - mae: 0.0027 - val_loss: 9.5891e-06 - val_mse: 9.5891e-06 - val_mae: 0.0026\n",
      "Epoch 179/1000\n",
      "256/256 [==============================] - 0s 184us/sample - loss: 1.0228e-05 - mse: 1.0228e-05 - mae: 0.0027 - val_loss: 1.5621e-05 - val_mse: 1.5621e-05 - val_mae: 0.0030\n",
      "Epoch 180/1000\n",
      "256/256 [==============================] - 0s 184us/sample - loss: 9.9840e-06 - mse: 9.9840e-06 - mae: 0.0026 - val_loss: 9.3558e-06 - val_mse: 9.3558e-06 - val_mae: 0.0025\n",
      "Epoch 181/1000\n",
      "256/256 [==============================] - 0s 185us/sample - loss: 9.5084e-06 - mse: 9.5084e-06 - mae: 0.0025 - val_loss: 1.2327e-05 - val_mse: 1.2327e-05 - val_mae: 0.0027\n",
      "Epoch 182/1000\n",
      "256/256 [==============================] - 0s 226us/sample - loss: 9.8885e-06 - mse: 9.8885e-06 - mae: 0.0026 - val_loss: 9.7479e-06 - val_mse: 9.7479e-06 - val_mae: 0.0025\n",
      "Epoch 183/1000\n",
      "256/256 [==============================] - 0s 195us/sample - loss: 8.9756e-06 - mse: 8.9756e-06 - mae: 0.0025 - val_loss: 8.6922e-06 - val_mse: 8.6922e-06 - val_mae: 0.0025\n",
      "Epoch 184/1000\n",
      "256/256 [==============================] - 0s 199us/sample - loss: 8.7422e-06 - mse: 8.7422e-06 - mae: 0.0025 - val_loss: 9.6339e-06 - val_mse: 9.6339e-06 - val_mae: 0.0026\n",
      "Epoch 185/1000\n",
      "256/256 [==============================] - 0s 227us/sample - loss: 9.3854e-06 - mse: 9.3854e-06 - mae: 0.0025 - val_loss: 8.6666e-06 - val_mse: 8.6666e-06 - val_mae: 0.0024\n",
      "Epoch 186/1000\n",
      "256/256 [==============================] - 0s 275us/sample - loss: 9.3829e-06 - mse: 9.3829e-06 - mae: 0.0025 - val_loss: 8.9060e-06 - val_mse: 8.9060e-06 - val_mae: 0.0025\n",
      "Epoch 187/1000\n",
      "256/256 [==============================] - 0s 262us/sample - loss: 8.8388e-06 - mse: 8.8388e-06 - mae: 0.0025 - val_loss: 9.7135e-06 - val_mse: 9.7135e-06 - val_mae: 0.0026\n",
      "Epoch 188/1000\n",
      "256/256 [==============================] - 0s 350us/sample - loss: 1.2543e-05 - mse: 1.2543e-05 - mae: 0.0028 - val_loss: 8.1208e-06 - val_mse: 8.1208e-06 - val_mae: 0.0024\n",
      "Epoch 189/1000\n",
      "256/256 [==============================] - 0s 265us/sample - loss: 8.6216e-06 - mse: 8.6216e-06 - mae: 0.0024 - val_loss: 9.9128e-06 - val_mse: 9.9128e-06 - val_mae: 0.0026\n",
      "Epoch 190/1000\n",
      "256/256 [==============================] - 0s 254us/sample - loss: 9.8709e-06 - mse: 9.8709e-06 - mae: 0.0026 - val_loss: 1.0906e-05 - val_mse: 1.0906e-05 - val_mae: 0.0027\n",
      "Epoch 191/1000\n",
      "256/256 [==============================] - 0s 246us/sample - loss: 8.5159e-06 - mse: 8.5159e-06 - mae: 0.0024 - val_loss: 8.1573e-06 - val_mse: 8.1573e-06 - val_mae: 0.0023\n",
      "Epoch 192/1000\n",
      "256/256 [==============================] - 0s 262us/sample - loss: 8.2710e-06 - mse: 8.2710e-06 - mae: 0.0023 - val_loss: 9.3047e-06 - val_mse: 9.3047e-06 - val_mae: 0.0025\n",
      "Epoch 193/1000\n",
      "256/256 [==============================] - 0s 256us/sample - loss: 9.3155e-06 - mse: 9.3155e-06 - mae: 0.0025 - val_loss: 9.9144e-06 - val_mse: 9.9144e-06 - val_mae: 0.0026\n",
      "Epoch 194/1000\n",
      "256/256 [==============================] - 0s 252us/sample - loss: 8.6182e-06 - mse: 8.6182e-06 - mae: 0.0024 - val_loss: 7.6917e-06 - val_mse: 7.6917e-06 - val_mae: 0.0023\n",
      "Epoch 195/1000\n",
      "256/256 [==============================] - 0s 269us/sample - loss: 9.1244e-06 - mse: 9.1244e-06 - mae: 0.0024 - val_loss: 8.0072e-06 - val_mse: 8.0072e-06 - val_mae: 0.0023\n",
      "Epoch 196/1000\n",
      "256/256 [==============================] - 0s 257us/sample - loss: 7.3768e-06 - mse: 7.3768e-06 - mae: 0.0022 - val_loss: 8.6224e-06 - val_mse: 8.6224e-06 - val_mae: 0.0024\n",
      "Epoch 197/1000\n",
      "256/256 [==============================] - 0s 258us/sample - loss: 8.8004e-06 - mse: 8.8004e-06 - mae: 0.0025 - val_loss: 7.4243e-06 - val_mse: 7.4243e-06 - val_mae: 0.0022\n",
      "Epoch 198/1000\n",
      "256/256 [==============================] - 0s 309us/sample - loss: 9.1252e-06 - mse: 9.1252e-06 - mae: 0.0025 - val_loss: 1.2536e-05 - val_mse: 1.2536e-05 - val_mae: 0.0027\n",
      "Epoch 199/1000\n",
      "256/256 [==============================] - 0s 261us/sample - loss: 8.4604e-06 - mse: 8.4604e-06 - mae: 0.0024 - val_loss: 7.1332e-06 - val_mse: 7.1332e-06 - val_mae: 0.0022\n",
      "Epoch 200/1000\n",
      "256/256 [==============================] - 0s 241us/sample - loss: 7.3979e-06 - mse: 7.3979e-06 - mae: 0.0022 - val_loss: 6.9774e-06 - val_mse: 6.9774e-06 - val_mae: 0.0022\n",
      "Epoch 201/1000\n",
      "256/256 [==============================] - 0s 240us/sample - loss: 8.6709e-06 - mse: 8.6709e-06 - mae: 0.0024 - val_loss: 8.0140e-06 - val_mse: 8.0140e-06 - val_mae: 0.0023\n",
      "Epoch 202/1000\n",
      "256/256 [==============================] - 0s 239us/sample - loss: 8.0028e-06 - mse: 8.0028e-06 - mae: 0.0022 - val_loss: 7.5814e-06 - val_mse: 7.5814e-06 - val_mae: 0.0023\n",
      "Epoch 203/1000\n",
      "256/256 [==============================] - 0s 248us/sample - loss: 8.2777e-06 - mse: 8.2777e-06 - mae: 0.0024 - val_loss: 6.8634e-06 - val_mse: 6.8634e-06 - val_mae: 0.0021\n",
      "Epoch 204/1000\n",
      "256/256 [==============================] - 0s 235us/sample - loss: 7.2838e-06 - mse: 7.2838e-06 - mae: 0.0022 - val_loss: 7.6625e-06 - val_mse: 7.6625e-06 - val_mae: 0.0023\n",
      "Epoch 205/1000\n",
      "256/256 [==============================] - 0s 245us/sample - loss: 9.3935e-06 - mse: 9.3935e-06 - mae: 0.0025 - val_loss: 1.1317e-05 - val_mse: 1.1317e-05 - val_mae: 0.0025\n",
      "Epoch 206/1000\n",
      "256/256 [==============================] - 0s 269us/sample - loss: 7.7209e-06 - mse: 7.7209e-06 - mae: 0.0023 - val_loss: 6.4675e-06 - val_mse: 6.4675e-06 - val_mae: 0.0021\n",
      "Epoch 207/1000\n",
      "256/256 [==============================] - 0s 243us/sample - loss: 8.1274e-06 - mse: 8.1274e-06 - mae: 0.0023 - val_loss: 8.9808e-06 - val_mse: 8.9808e-06 - val_mae: 0.0023\n",
      "Epoch 208/1000\n",
      "256/256 [==============================] - 0s 247us/sample - loss: 8.0360e-06 - mse: 8.0360e-06 - mae: 0.0023 - val_loss: 7.1724e-06 - val_mse: 7.1724e-06 - val_mae: 0.0021\n",
      "Epoch 209/1000\n",
      "256/256 [==============================] - 0s 245us/sample - loss: 7.9401e-06 - mse: 7.9401e-06 - mae: 0.0023 - val_loss: 1.1293e-05 - val_mse: 1.1293e-05 - val_mae: 0.0026\n",
      "Epoch 210/1000\n",
      "256/256 [==============================] - 0s 244us/sample - loss: 7.4425e-06 - mse: 7.4425e-06 - mae: 0.0022 - val_loss: 7.3371e-06 - val_mse: 7.3371e-06 - val_mae: 0.0022\n",
      "Epoch 211/1000\n",
      "256/256 [==============================] - 0s 314us/sample - loss: 7.1575e-06 - mse: 7.1575e-06 - mae: 0.0022 - val_loss: 6.6621e-06 - val_mse: 6.6621e-06 - val_mae: 0.0021\n",
      "Epoch 212/1000\n",
      "256/256 [==============================] - 0s 269us/sample - loss: 8.8940e-06 - mse: 8.8940e-06 - mae: 0.0025 - val_loss: 6.4227e-06 - val_mse: 6.4227e-06 - val_mae: 0.0020\n",
      "Epoch 213/1000\n",
      "256/256 [==============================] - 0s 254us/sample - loss: 6.2293e-06 - mse: 6.2293e-06 - mae: 0.0020 - val_loss: 7.2508e-06 - val_mse: 7.2508e-06 - val_mae: 0.0022\n",
      "Epoch 214/1000\n",
      "256/256 [==============================] - 0s 249us/sample - loss: 6.8298e-06 - mse: 6.8298e-06 - mae: 0.0021 - val_loss: 6.2865e-06 - val_mse: 6.2865e-06 - val_mae: 0.0021\n",
      "Epoch 215/1000\n",
      "256/256 [==============================] - 0s 271us/sample - loss: 6.5111e-06 - mse: 6.5111e-06 - mae: 0.0021 - val_loss: 6.3919e-06 - val_mse: 6.3919e-06 - val_mae: 0.0021\n",
      "Epoch 216/1000\n",
      "256/256 [==============================] - 0s 260us/sample - loss: 6.3380e-06 - mse: 6.3380e-06 - mae: 0.0021 - val_loss: 6.6201e-06 - val_mse: 6.6201e-06 - val_mae: 0.0021\n",
      "Epoch 217/1000\n",
      "256/256 [==============================] - 0s 285us/sample - loss: 6.7180e-06 - mse: 6.7180e-06 - mae: 0.0021 - val_loss: 5.9463e-06 - val_mse: 5.9463e-06 - val_mae: 0.0020\n",
      "Epoch 218/1000\n",
      "256/256 [==============================] - 0s 287us/sample - loss: 6.1348e-06 - mse: 6.1348e-06 - mae: 0.0020 - val_loss: 6.0504e-06 - val_mse: 6.0504e-06 - val_mae: 0.0020\n",
      "Epoch 219/1000\n",
      "256/256 [==============================] - 0s 251us/sample - loss: 5.7041e-06 - mse: 5.7041e-06 - mae: 0.0020 - val_loss: 5.9518e-06 - val_mse: 5.9518e-06 - val_mae: 0.0020\n",
      "Epoch 220/1000\n",
      "256/256 [==============================] - 0s 234us/sample - loss: 5.5576e-06 - mse: 5.5576e-06 - mae: 0.0020 - val_loss: 5.4664e-06 - val_mse: 5.4664e-06 - val_mae: 0.0019\n"
     ]
    },
    {
     "name": "stdout",
     "output_type": "stream",
     "text": [
      "Epoch 221/1000\n",
      "256/256 [==============================] - 0s 242us/sample - loss: 6.0428e-06 - mse: 6.0428e-06 - mae: 0.0020 - val_loss: 5.7476e-06 - val_mse: 5.7476e-06 - val_mae: 0.0019\n",
      "Epoch 222/1000\n",
      "256/256 [==============================] - 0s 248us/sample - loss: 5.6386e-06 - mse: 5.6386e-06 - mae: 0.0019 - val_loss: 5.8318e-06 - val_mse: 5.8318e-06 - val_mae: 0.0019\n",
      "Epoch 223/1000\n",
      "256/256 [==============================] - 0s 243us/sample - loss: 5.6152e-06 - mse: 5.6152e-06 - mae: 0.0019 - val_loss: 5.6238e-06 - val_mse: 5.6238e-06 - val_mae: 0.0019\n",
      "Epoch 224/1000\n",
      "256/256 [==============================] - 0s 248us/sample - loss: 5.5174e-06 - mse: 5.5174e-06 - mae: 0.0019 - val_loss: 6.0978e-06 - val_mse: 6.0978e-06 - val_mae: 0.0020\n",
      "Epoch 225/1000\n",
      "256/256 [==============================] - 0s 244us/sample - loss: 5.4867e-06 - mse: 5.4867e-06 - mae: 0.0019 - val_loss: 5.2834e-06 - val_mse: 5.2834e-06 - val_mae: 0.0019\n",
      "Epoch 226/1000\n",
      "256/256 [==============================] - 0s 221us/sample - loss: 6.7758e-06 - mse: 6.7758e-06 - mae: 0.0021 - val_loss: 6.9901e-06 - val_mse: 6.9901e-06 - val_mae: 0.0022\n",
      "Epoch 227/1000\n",
      "256/256 [==============================] - 0s 245us/sample - loss: 5.7502e-06 - mse: 5.7502e-06 - mae: 0.0020 - val_loss: 5.7642e-06 - val_mse: 5.7642e-06 - val_mae: 0.0020\n",
      "Epoch 228/1000\n",
      "256/256 [==============================] - 0s 264us/sample - loss: 5.3542e-06 - mse: 5.3542e-06 - mae: 0.0018 - val_loss: 6.3728e-06 - val_mse: 6.3728e-06 - val_mae: 0.0020\n",
      "Epoch 229/1000\n",
      "256/256 [==============================] - 0s 213us/sample - loss: 5.2481e-06 - mse: 5.2481e-06 - mae: 0.0018 - val_loss: 5.0353e-06 - val_mse: 5.0353e-06 - val_mae: 0.0018\n",
      "Epoch 230/1000\n",
      "256/256 [==============================] - 0s 185us/sample - loss: 5.1788e-06 - mse: 5.1788e-06 - mae: 0.0019 - val_loss: 6.3457e-06 - val_mse: 6.3457e-06 - val_mae: 0.0020\n",
      "Epoch 231/1000\n",
      "256/256 [==============================] - 0s 192us/sample - loss: 6.5623e-06 - mse: 6.5623e-06 - mae: 0.0021 - val_loss: 5.7801e-06 - val_mse: 5.7801e-06 - val_mae: 0.0020\n",
      "Epoch 232/1000\n",
      "256/256 [==============================] - 0s 184us/sample - loss: 5.9859e-06 - mse: 5.9859e-06 - mae: 0.0020 - val_loss: 5.9885e-06 - val_mse: 5.9885e-06 - val_mae: 0.0019\n",
      "Epoch 233/1000\n",
      "256/256 [==============================] - 0s 184us/sample - loss: 5.7911e-06 - mse: 5.7911e-06 - mae: 0.0019 - val_loss: 5.6160e-06 - val_mse: 5.6160e-06 - val_mae: 0.0019\n",
      "Epoch 234/1000\n",
      "256/256 [==============================] - 0s 185us/sample - loss: 4.9526e-06 - mse: 4.9526e-06 - mae: 0.0018 - val_loss: 4.6360e-06 - val_mse: 4.6360e-06 - val_mae: 0.0018\n",
      "Epoch 235/1000\n",
      "256/256 [==============================] - 0s 193us/sample - loss: 5.5901e-06 - mse: 5.5901e-06 - mae: 0.0019 - val_loss: 4.6236e-06 - val_mse: 4.6236e-06 - val_mae: 0.0018\n",
      "Epoch 236/1000\n",
      "256/256 [==============================] - 0s 190us/sample - loss: 4.4773e-06 - mse: 4.4773e-06 - mae: 0.0017 - val_loss: 4.5493e-06 - val_mse: 4.5493e-06 - val_mae: 0.0017\n",
      "Epoch 237/1000\n",
      "256/256 [==============================] - 0s 187us/sample - loss: 4.8215e-06 - mse: 4.8215e-06 - mae: 0.0018 - val_loss: 6.6941e-06 - val_mse: 6.6941e-06 - val_mae: 0.0020\n",
      "Epoch 238/1000\n",
      "256/256 [==============================] - 0s 186us/sample - loss: 4.8167e-06 - mse: 4.8167e-06 - mae: 0.0018 - val_loss: 4.4188e-06 - val_mse: 4.4188e-06 - val_mae: 0.0017\n",
      "Epoch 239/1000\n",
      "256/256 [==============================] - 0s 206us/sample - loss: 4.5816e-06 - mse: 4.5816e-06 - mae: 0.0017 - val_loss: 5.1503e-06 - val_mse: 5.1503e-06 - val_mae: 0.0018\n",
      "Epoch 240/1000\n",
      "256/256 [==============================] - 0s 229us/sample - loss: 4.4737e-06 - mse: 4.4737e-06 - mae: 0.0017 - val_loss: 4.7177e-06 - val_mse: 4.7177e-06 - val_mae: 0.0017\n",
      "Epoch 241/1000\n",
      "256/256 [==============================] - 0s 225us/sample - loss: 4.7117e-06 - mse: 4.7117e-06 - mae: 0.0018 - val_loss: 4.3696e-06 - val_mse: 4.3696e-06 - val_mae: 0.0017\n",
      "Epoch 242/1000\n",
      "256/256 [==============================] - 0s 223us/sample - loss: 4.4527e-06 - mse: 4.4527e-06 - mae: 0.0017 - val_loss: 4.2574e-06 - val_mse: 4.2574e-06 - val_mae: 0.0017\n",
      "Epoch 243/1000\n",
      "256/256 [==============================] - 0s 221us/sample - loss: 4.7925e-06 - mse: 4.7925e-06 - mae: 0.0018 - val_loss: 4.1730e-06 - val_mse: 4.1730e-06 - val_mae: 0.0017\n",
      "Epoch 244/1000\n",
      "256/256 [==============================] - 0s 189us/sample - loss: 4.2919e-06 - mse: 4.2919e-06 - mae: 0.0017 - val_loss: 4.2405e-06 - val_mse: 4.2405e-06 - val_mae: 0.0017\n",
      "Epoch 245/1000\n",
      "256/256 [==============================] - 0s 183us/sample - loss: 5.0846e-06 - mse: 5.0846e-06 - mae: 0.0018 - val_loss: 4.4401e-06 - val_mse: 4.4401e-06 - val_mae: 0.0017\n",
      "Epoch 246/1000\n",
      "256/256 [==============================] - 0s 220us/sample - loss: 5.0135e-06 - mse: 5.0135e-06 - mae: 0.0018 - val_loss: 4.4049e-06 - val_mse: 4.4049e-06 - val_mae: 0.0017\n",
      "Epoch 247/1000\n",
      "256/256 [==============================] - 0s 215us/sample - loss: 4.3330e-06 - mse: 4.3330e-06 - mae: 0.0017 - val_loss: 4.0966e-06 - val_mse: 4.0966e-06 - val_mae: 0.0016\n",
      "Epoch 248/1000\n",
      "256/256 [==============================] - 0s 187us/sample - loss: 4.7007e-06 - mse: 4.7007e-06 - mae: 0.0017 - val_loss: 4.4069e-06 - val_mse: 4.4069e-06 - val_mae: 0.0017\n",
      "Epoch 249/1000\n",
      "256/256 [==============================] - 0s 186us/sample - loss: 4.0786e-06 - mse: 4.0786e-06 - mae: 0.0017 - val_loss: 4.5091e-06 - val_mse: 4.5091e-06 - val_mae: 0.0017\n",
      "Epoch 250/1000\n",
      "256/256 [==============================] - 0s 185us/sample - loss: 4.6057e-06 - mse: 4.6057e-06 - mae: 0.0017 - val_loss: 3.8850e-06 - val_mse: 3.8850e-06 - val_mae: 0.0016\n",
      "Epoch 251/1000\n",
      "256/256 [==============================] - 0s 184us/sample - loss: 3.8634e-06 - mse: 3.8634e-06 - mae: 0.0016 - val_loss: 4.3557e-06 - val_mse: 4.3557e-06 - val_mae: 0.0017\n",
      "Epoch 252/1000\n",
      "256/256 [==============================] - 0s 188us/sample - loss: 3.9857e-06 - mse: 3.9857e-06 - mae: 0.0016 - val_loss: 3.8571e-06 - val_mse: 3.8571e-06 - val_mae: 0.0016\n",
      "Epoch 253/1000\n",
      "256/256 [==============================] - 0s 187us/sample - loss: 3.9028e-06 - mse: 3.9028e-06 - mae: 0.0016 - val_loss: 3.8946e-06 - val_mse: 3.8946e-06 - val_mae: 0.0016\n",
      "Epoch 254/1000\n",
      "256/256 [==============================] - 0s 186us/sample - loss: 3.9206e-06 - mse: 3.9206e-06 - mae: 0.0016 - val_loss: 4.8735e-06 - val_mse: 4.8735e-06 - val_mae: 0.0017\n",
      "Epoch 255/1000\n",
      "256/256 [==============================] - 0s 189us/sample - loss: 4.1954e-06 - mse: 4.1954e-06 - mae: 0.0016 - val_loss: 4.1348e-06 - val_mse: 4.1348e-06 - val_mae: 0.0016\n",
      "Epoch 256/1000\n",
      "256/256 [==============================] - 0s 185us/sample - loss: 3.6704e-06 - mse: 3.6704e-06 - mae: 0.0016 - val_loss: 3.8971e-06 - val_mse: 3.8971e-06 - val_mae: 0.0016\n",
      "Epoch 257/1000\n",
      "256/256 [==============================] - 0s 181us/sample - loss: 4.8252e-06 - mse: 4.8252e-06 - mae: 0.0018 - val_loss: 8.5953e-06 - val_mse: 8.5953e-06 - val_mae: 0.0025\n",
      "Epoch 258/1000\n",
      "256/256 [==============================] - 0s 185us/sample - loss: 6.2495e-06 - mse: 6.2495e-06 - mae: 0.0020 - val_loss: 3.5424e-06 - val_mse: 3.5424e-06 - val_mae: 0.0015\n",
      "Epoch 259/1000\n",
      "256/256 [==============================] - 0s 286us/sample - loss: 3.9178e-06 - mse: 3.9178e-06 - mae: 0.0016 - val_loss: 3.8822e-06 - val_mse: 3.8822e-06 - val_mae: 0.0016\n",
      "Epoch 260/1000\n",
      "256/256 [==============================] - 0s 239us/sample - loss: 3.8052e-06 - mse: 3.8052e-06 - mae: 0.0015 - val_loss: 3.4499e-06 - val_mse: 3.4499e-06 - val_mae: 0.0015\n",
      "Epoch 261/1000\n",
      "256/256 [==============================] - 0s 258us/sample - loss: 3.6392e-06 - mse: 3.6392e-06 - mae: 0.0015 - val_loss: 3.6398e-06 - val_mse: 3.6398e-06 - val_mae: 0.0015\n",
      "Epoch 262/1000\n",
      "256/256 [==============================] - 0s 253us/sample - loss: 3.7816e-06 - mse: 3.7816e-06 - mae: 0.0015 - val_loss: 3.4660e-06 - val_mse: 3.4660e-06 - val_mae: 0.0015\n",
      "Epoch 263/1000\n",
      "256/256 [==============================] - 0s 265us/sample - loss: 3.4894e-06 - mse: 3.4894e-06 - mae: 0.0015 - val_loss: 3.4227e-06 - val_mse: 3.4227e-06 - val_mae: 0.0015\n",
      "Epoch 264/1000\n",
      "256/256 [==============================] - 0s 200us/sample - loss: 3.4116e-06 - mse: 3.4116e-06 - mae: 0.0015 - val_loss: 3.8040e-06 - val_mse: 3.8040e-06 - val_mae: 0.0015\n",
      "Epoch 265/1000\n",
      "256/256 [==============================] - 0s 225us/sample - loss: 3.3283e-06 - mse: 3.3283e-06 - mae: 0.0015 - val_loss: 3.9289e-06 - val_mse: 3.9289e-06 - val_mae: 0.0016\n",
      "Epoch 266/1000\n",
      "256/256 [==============================] - 0s 229us/sample - loss: 3.5158e-06 - mse: 3.5158e-06 - mae: 0.0015 - val_loss: 3.8226e-06 - val_mse: 3.8226e-06 - val_mae: 0.0015\n",
      "Epoch 267/1000\n",
      "256/256 [==============================] - 0s 339us/sample - loss: 3.4505e-06 - mse: 3.4505e-06 - mae: 0.0015 - val_loss: 3.2873e-06 - val_mse: 3.2873e-06 - val_mae: 0.0015\n",
      "Epoch 268/1000\n",
      "256/256 [==============================] - 0s 364us/sample - loss: 3.6175e-06 - mse: 3.6175e-06 - mae: 0.0015 - val_loss: 3.2145e-06 - val_mse: 3.2145e-06 - val_mae: 0.0014\n",
      "Epoch 269/1000\n",
      "256/256 [==============================] - 0s 459us/sample - loss: 3.2000e-06 - mse: 3.2000e-06 - mae: 0.0015 - val_loss: 3.2909e-06 - val_mse: 3.2909e-06 - val_mae: 0.0014\n",
      "Epoch 270/1000\n",
      "256/256 [==============================] - 0s 294us/sample - loss: 3.4459e-06 - mse: 3.4459e-06 - mae: 0.0015 - val_loss: 3.3100e-06 - val_mse: 3.3100e-06 - val_mae: 0.0015\n",
      "Epoch 271/1000\n",
      "256/256 [==============================] - 0s 217us/sample - loss: 3.1559e-06 - mse: 3.1559e-06 - mae: 0.0014 - val_loss: 3.6988e-06 - val_mse: 3.6988e-06 - val_mae: 0.0015\n",
      "Epoch 272/1000\n",
      "256/256 [==============================] - 0s 231us/sample - loss: 3.7414e-06 - mse: 3.7414e-06 - mae: 0.0015 - val_loss: 3.4888e-06 - val_mse: 3.4888e-06 - val_mae: 0.0015\n",
      "Epoch 273/1000\n",
      "256/256 [==============================] - 0s 230us/sample - loss: 3.3398e-06 - mse: 3.3398e-06 - mae: 0.0015 - val_loss: 3.3842e-06 - val_mse: 3.3842e-06 - val_mae: 0.0014\n",
      "Epoch 274/1000\n",
      "256/256 [==============================] - 0s 241us/sample - loss: 4.4837e-06 - mse: 4.4837e-06 - mae: 0.0016 - val_loss: 3.2593e-06 - val_mse: 3.2593e-06 - val_mae: 0.0014\n",
      "Epoch 275/1000\n",
      "256/256 [==============================] - 0s 272us/sample - loss: 3.1773e-06 - mse: 3.1773e-06 - mae: 0.0014 - val_loss: 2.9552e-06 - val_mse: 2.9552e-06 - val_mae: 0.0014\n",
      "Epoch 276/1000\n",
      "256/256 [==============================] - 0s 215us/sample - loss: 2.9918e-06 - mse: 2.9918e-06 - mae: 0.0014 - val_loss: 4.0670e-06 - val_mse: 4.0670e-06 - val_mae: 0.0016\n",
      "Epoch 277/1000\n",
      "256/256 [==============================] - 0s 255us/sample - loss: 3.0635e-06 - mse: 3.0635e-06 - mae: 0.0014 - val_loss: 2.9409e-06 - val_mse: 2.9409e-06 - val_mae: 0.0014\n",
      "Epoch 278/1000\n",
      "256/256 [==============================] - 0s 291us/sample - loss: 3.1841e-06 - mse: 3.1841e-06 - mae: 0.0014 - val_loss: 3.6442e-06 - val_mse: 3.6442e-06 - val_mae: 0.0015\n",
      "Epoch 279/1000\n",
      "256/256 [==============================] - 0s 236us/sample - loss: 3.0018e-06 - mse: 3.0018e-06 - mae: 0.0013 - val_loss: 3.1336e-06 - val_mse: 3.1336e-06 - val_mae: 0.0014\n",
      "Epoch 280/1000\n",
      "256/256 [==============================] - 0s 247us/sample - loss: 3.2074e-06 - mse: 3.2074e-06 - mae: 0.0014 - val_loss: 3.3494e-06 - val_mse: 3.3494e-06 - val_mae: 0.0014\n",
      "Epoch 281/1000\n",
      "256/256 [==============================] - 0s 205us/sample - loss: 3.1805e-06 - mse: 3.1805e-06 - mae: 0.0014 - val_loss: 3.0109e-06 - val_mse: 3.0109e-06 - val_mae: 0.0013\n",
      "Epoch 282/1000\n",
      "256/256 [==============================] - 0s 204us/sample - loss: 3.0407e-06 - mse: 3.0407e-06 - mae: 0.0014 - val_loss: 2.7707e-06 - val_mse: 2.7707e-06 - val_mae: 0.0013\n",
      "Epoch 283/1000\n",
      "256/256 [==============================] - 0s 202us/sample - loss: 2.8580e-06 - mse: 2.8580e-06 - mae: 0.0013 - val_loss: 3.0908e-06 - val_mse: 3.0908e-06 - val_mae: 0.0014\n",
      "Epoch 284/1000\n",
      "256/256 [==============================] - 0s 223us/sample - loss: 3.2186e-06 - mse: 3.2186e-06 - mae: 0.0014 - val_loss: 3.4395e-06 - val_mse: 3.4395e-06 - val_mae: 0.0015\n",
      "Epoch 285/1000\n",
      "256/256 [==============================] - 0s 221us/sample - loss: 2.9802e-06 - mse: 2.9802e-06 - mae: 0.0014 - val_loss: 2.7147e-06 - val_mse: 2.7147e-06 - val_mae: 0.0013\n",
      "Epoch 286/1000\n",
      "256/256 [==============================] - 0s 218us/sample - loss: 2.5868e-06 - mse: 2.5868e-06 - mae: 0.0013 - val_loss: 2.6320e-06 - val_mse: 2.6320e-06 - val_mae: 0.0013\n",
      "Epoch 287/1000\n",
      "256/256 [==============================] - 0s 214us/sample - loss: 2.9368e-06 - mse: 2.9368e-06 - mae: 0.0013 - val_loss: 3.6991e-06 - val_mse: 3.6991e-06 - val_mae: 0.0015\n",
      "Epoch 288/1000\n",
      "256/256 [==============================] - 0s 184us/sample - loss: 3.3846e-06 - mse: 3.3846e-06 - mae: 0.0015 - val_loss: 3.9646e-06 - val_mse: 3.9646e-06 - val_mae: 0.0016\n",
      "Epoch 289/1000\n",
      "256/256 [==============================] - 0s 185us/sample - loss: 2.6826e-06 - mse: 2.6826e-06 - mae: 0.0013 - val_loss: 2.6001e-06 - val_mse: 2.6001e-06 - val_mae: 0.0013\n",
      "Epoch 290/1000\n",
      "256/256 [==============================] - 0s 206us/sample - loss: 2.9100e-06 - mse: 2.9100e-06 - mae: 0.0013 - val_loss: 2.7345e-06 - val_mse: 2.7345e-06 - val_mae: 0.0013\n",
      "Epoch 291/1000\n",
      "256/256 [==============================] - 0s 222us/sample - loss: 2.5965e-06 - mse: 2.5965e-06 - mae: 0.0013 - val_loss: 2.6334e-06 - val_mse: 2.6334e-06 - val_mae: 0.0013\n",
      "Epoch 292/1000\n",
      "256/256 [==============================] - 0s 225us/sample - loss: 2.4556e-06 - mse: 2.4556e-06 - mae: 0.0012 - val_loss: 2.8614e-06 - val_mse: 2.8614e-06 - val_mae: 0.0013\n",
      "Epoch 293/1000\n",
      "256/256 [==============================] - 0s 205us/sample - loss: 2.7991e-06 - mse: 2.7991e-06 - mae: 0.0013 - val_loss: 2.5113e-06 - val_mse: 2.5113e-06 - val_mae: 0.0013\n",
      "Epoch 294/1000\n",
      "256/256 [==============================] - 0s 202us/sample - loss: 2.6408e-06 - mse: 2.6408e-06 - mae: 0.0013 - val_loss: 2.7226e-06 - val_mse: 2.7226e-06 - val_mae: 0.0013\n",
      "Epoch 295/1000\n",
      "256/256 [==============================] - 0s 191us/sample - loss: 2.6196e-06 - mse: 2.6196e-06 - mae: 0.0013 - val_loss: 2.5218e-06 - val_mse: 2.5218e-06 - val_mae: 0.0012\n",
      "Epoch 296/1000\n",
      "256/256 [==============================] - 0s 236us/sample - loss: 2.4842e-06 - mse: 2.4842e-06 - mae: 0.0012 - val_loss: 2.7710e-06 - val_mse: 2.7710e-06 - val_mae: 0.0013\n",
      "Epoch 297/1000\n",
      "256/256 [==============================] - 0s 221us/sample - loss: 2.3740e-06 - mse: 2.3740e-06 - mae: 0.0012 - val_loss: 2.6069e-06 - val_mse: 2.6069e-06 - val_mae: 0.0013\n",
      "Epoch 298/1000\n",
      "256/256 [==============================] - 0s 192us/sample - loss: 2.7688e-06 - mse: 2.7688e-06 - mae: 0.0013 - val_loss: 2.3747e-06 - val_mse: 2.3747e-06 - val_mae: 0.0012\n",
      "Epoch 299/1000\n",
      "256/256 [==============================] - 0s 195us/sample - loss: 2.3084e-06 - mse: 2.3084e-06 - mae: 0.0012 - val_loss: 2.4457e-06 - val_mse: 2.4457e-06 - val_mae: 0.0012\n",
      "Epoch 300/1000\n",
      "256/256 [==============================] - 0s 184us/sample - loss: 2.4850e-06 - mse: 2.4850e-06 - mae: 0.0012 - val_loss: 2.4003e-06 - val_mse: 2.4003e-06 - val_mae: 0.0012\n",
      "Epoch 301/1000\n",
      "256/256 [==============================] - 0s 183us/sample - loss: 2.2587e-06 - mse: 2.2587e-06 - mae: 0.0012 - val_loss: 2.3096e-06 - val_mse: 2.3096e-06 - val_mae: 0.0012\n",
      "Epoch 302/1000\n",
      "256/256 [==============================] - 0s 185us/sample - loss: 2.2978e-06 - mse: 2.2978e-06 - mae: 0.0012 - val_loss: 2.4354e-06 - val_mse: 2.4354e-06 - val_mae: 0.0012\n",
      "Epoch 303/1000\n",
      "256/256 [==============================] - 0s 186us/sample - loss: 2.4416e-06 - mse: 2.4416e-06 - mae: 0.0012 - val_loss: 2.2244e-06 - val_mse: 2.2244e-06 - val_mae: 0.0012\n",
      "Epoch 304/1000\n",
      "256/256 [==============================] - 0s 183us/sample - loss: 2.4044e-06 - mse: 2.4044e-06 - mae: 0.0012 - val_loss: 2.2527e-06 - val_mse: 2.2527e-06 - val_mae: 0.0012\n",
      "Epoch 305/1000\n",
      "256/256 [==============================] - 0s 184us/sample - loss: 2.2558e-06 - mse: 2.2558e-06 - mae: 0.0012 - val_loss: 2.1586e-06 - val_mse: 2.1586e-06 - val_mae: 0.0012\n",
      "Epoch 306/1000\n",
      "256/256 [==============================] - 0s 183us/sample - loss: 2.0867e-06 - mse: 2.0867e-06 - mae: 0.0011 - val_loss: 3.7075e-06 - val_mse: 3.7075e-06 - val_mae: 0.0014\n",
      "Epoch 307/1000\n",
      "256/256 [==============================] - 0s 190us/sample - loss: 2.9243e-06 - mse: 2.9243e-06 - mae: 0.0013 - val_loss: 2.1499e-06 - val_mse: 2.1499e-06 - val_mae: 0.0011\n"
     ]
    },
    {
     "name": "stdout",
     "output_type": "stream",
     "text": [
      "Epoch 308/1000\n",
      "256/256 [==============================] - 0s 188us/sample - loss: 2.1130e-06 - mse: 2.1130e-06 - mae: 0.0011 - val_loss: 2.5114e-06 - val_mse: 2.5114e-06 - val_mae: 0.0012\n",
      "Epoch 309/1000\n",
      "256/256 [==============================] - 0s 183us/sample - loss: 2.1939e-06 - mse: 2.1939e-06 - mae: 0.0011 - val_loss: 2.2912e-06 - val_mse: 2.2912e-06 - val_mae: 0.0012\n",
      "Epoch 310/1000\n",
      "256/256 [==============================] - 0s 185us/sample - loss: 2.2071e-06 - mse: 2.2071e-06 - mae: 0.0011 - val_loss: 2.0846e-06 - val_mse: 2.0846e-06 - val_mae: 0.0011\n",
      "Epoch 311/1000\n",
      "256/256 [==============================] - 0s 186us/sample - loss: 2.1403e-06 - mse: 2.1403e-06 - mae: 0.0011 - val_loss: 2.2485e-06 - val_mse: 2.2485e-06 - val_mae: 0.0012\n",
      "Epoch 312/1000\n",
      "256/256 [==============================] - 0s 208us/sample - loss: 2.3873e-06 - mse: 2.3873e-06 - mae: 0.0012 - val_loss: 2.2459e-06 - val_mse: 2.2459e-06 - val_mae: 0.0012\n",
      "Epoch 313/1000\n",
      "256/256 [==============================] - 0s 187us/sample - loss: 2.1661e-06 - mse: 2.1661e-06 - mae: 0.0011 - val_loss: 2.3012e-06 - val_mse: 2.3012e-06 - val_mae: 0.0012\n",
      "Epoch 314/1000\n",
      "256/256 [==============================] - 0s 191us/sample - loss: 2.1026e-06 - mse: 2.1026e-06 - mae: 0.0011 - val_loss: 2.0689e-06 - val_mse: 2.0689e-06 - val_mae: 0.0011\n",
      "Epoch 315/1000\n",
      "256/256 [==============================] - 0s 196us/sample - loss: 1.9588e-06 - mse: 1.9588e-06 - mae: 0.0011 - val_loss: 2.0902e-06 - val_mse: 2.0902e-06 - val_mae: 0.0011\n",
      "Epoch 316/1000\n",
      "256/256 [==============================] - 0s 760us/sample - loss: 2.0740e-06 - mse: 2.0740e-06 - mae: 0.0011 - val_loss: 2.7365e-06 - val_mse: 2.7365e-06 - val_mae: 0.0012\n",
      "Epoch 317/1000\n",
      "256/256 [==============================] - 0s 343us/sample - loss: 2.3333e-06 - mse: 2.3333e-06 - mae: 0.0012 - val_loss: 2.0974e-06 - val_mse: 2.0974e-06 - val_mae: 0.0011\n",
      "Epoch 318/1000\n",
      "256/256 [==============================] - 0s 210us/sample - loss: 2.3040e-06 - mse: 2.3040e-06 - mae: 0.0012 - val_loss: 2.1652e-06 - val_mse: 2.1652e-06 - val_mae: 0.0011\n",
      "Epoch 319/1000\n",
      "256/256 [==============================] - 0s 192us/sample - loss: 2.0513e-06 - mse: 2.0513e-06 - mae: 0.0011 - val_loss: 2.1881e-06 - val_mse: 2.1881e-06 - val_mae: 0.0011\n",
      "Epoch 320/1000\n",
      "256/256 [==============================] - 0s 189us/sample - loss: 2.0910e-06 - mse: 2.0910e-06 - mae: 0.0011 - val_loss: 1.9225e-06 - val_mse: 1.9225e-06 - val_mae: 0.0011\n",
      "Epoch 321/1000\n",
      "256/256 [==============================] - 0s 185us/sample - loss: 2.0308e-06 - mse: 2.0308e-06 - mae: 0.0011 - val_loss: 1.8504e-06 - val_mse: 1.8504e-06 - val_mae: 0.0011\n",
      "Epoch 322/1000\n",
      "256/256 [==============================] - 0s 190us/sample - loss: 2.0168e-06 - mse: 2.0168e-06 - mae: 0.0011 - val_loss: 1.9479e-06 - val_mse: 1.9479e-06 - val_mae: 0.0011\n",
      "Epoch 323/1000\n",
      "256/256 [==============================] - 0s 195us/sample - loss: 1.9437e-06 - mse: 1.9437e-06 - mae: 0.0011 - val_loss: 2.0299e-06 - val_mse: 2.0299e-06 - val_mae: 0.0011\n",
      "Epoch 324/1000\n",
      "256/256 [==============================] - 0s 187us/sample - loss: 2.0551e-06 - mse: 2.0551e-06 - mae: 0.0011 - val_loss: 3.5378e-06 - val_mse: 3.5378e-06 - val_mae: 0.0015\n",
      "Epoch 325/1000\n",
      "256/256 [==============================] - 0s 191us/sample - loss: 2.2264e-06 - mse: 2.2264e-06 - mae: 0.0012 - val_loss: 1.9168e-06 - val_mse: 1.9168e-06 - val_mae: 0.0010\n",
      "Epoch 326/1000\n",
      "256/256 [==============================] - 0s 196us/sample - loss: 1.7133e-06 - mse: 1.7133e-06 - mae: 0.0010 - val_loss: 1.7978e-06 - val_mse: 1.7978e-06 - val_mae: 0.0010\n",
      "Epoch 327/1000\n",
      "256/256 [==============================] - 0s 205us/sample - loss: 1.7269e-06 - mse: 1.7269e-06 - mae: 0.0010 - val_loss: 1.7704e-06 - val_mse: 1.7704e-06 - val_mae: 0.0010\n",
      "Epoch 328/1000\n",
      "256/256 [==============================] - 0s 192us/sample - loss: 1.8667e-06 - mse: 1.8667e-06 - mae: 0.0011 - val_loss: 1.8491e-06 - val_mse: 1.8491e-06 - val_mae: 0.0010\n",
      "Epoch 329/1000\n",
      "256/256 [==============================] - 0s 510us/sample - loss: 1.6799e-06 - mse: 1.6799e-06 - mae: 9.9747e-04 - val_loss: 2.1799e-06 - val_mse: 2.1799e-06 - val_mae: 0.0011\n",
      "Epoch 330/1000\n",
      "256/256 [==============================] - 0s 261us/sample - loss: 2.2560e-06 - mse: 2.2560e-06 - mae: 0.0011 - val_loss: 1.7135e-06 - val_mse: 1.7135e-06 - val_mae: 0.0010\n",
      "Epoch 331/1000\n",
      "256/256 [==============================] - 0s 203us/sample - loss: 1.7173e-06 - mse: 1.7173e-06 - mae: 0.0010 - val_loss: 2.2474e-06 - val_mse: 2.2474e-06 - val_mae: 0.0012\n",
      "Epoch 332/1000\n",
      "256/256 [==============================] - 0s 207us/sample - loss: 1.7507e-06 - mse: 1.7507e-06 - mae: 0.0010 - val_loss: 1.7481e-06 - val_mse: 1.7481e-06 - val_mae: 0.0010\n",
      "Epoch 333/1000\n",
      "256/256 [==============================] - 0s 227us/sample - loss: 1.9192e-06 - mse: 1.9192e-06 - mae: 0.0011 - val_loss: 1.7487e-06 - val_mse: 1.7487e-06 - val_mae: 0.0010\n",
      "Epoch 334/1000\n",
      "256/256 [==============================] - 0s 275us/sample - loss: 1.7164e-06 - mse: 1.7164e-06 - mae: 9.9471e-04 - val_loss: 1.7944e-06 - val_mse: 1.7944e-06 - val_mae: 9.9529e-04\n",
      "Epoch 335/1000\n",
      "256/256 [==============================] - 0s 202us/sample - loss: 1.6709e-06 - mse: 1.6709e-06 - mae: 0.0010 - val_loss: 1.9442e-06 - val_mse: 1.9442e-06 - val_mae: 0.0011\n",
      "Epoch 336/1000\n",
      "256/256 [==============================] - 0s 246us/sample - loss: 2.4676e-06 - mse: 2.4676e-06 - mae: 0.0012 - val_loss: 1.6952e-06 - val_mse: 1.6952e-06 - val_mae: 9.9668e-04\n",
      "Epoch 337/1000\n",
      "256/256 [==============================] - 0s 186us/sample - loss: 1.6786e-06 - mse: 1.6786e-06 - mae: 9.7478e-04 - val_loss: 1.7253e-06 - val_mse: 1.7253e-06 - val_mae: 9.9245e-04\n",
      "Epoch 338/1000\n",
      "256/256 [==============================] - 0s 187us/sample - loss: 1.7261e-06 - mse: 1.7261e-06 - mae: 0.0010 - val_loss: 1.5845e-06 - val_mse: 1.5845e-06 - val_mae: 9.6061e-04\n",
      "Epoch 339/1000\n",
      "256/256 [==============================] - 0s 187us/sample - loss: 1.7605e-06 - mse: 1.7605e-06 - mae: 9.9585e-04 - val_loss: 1.6602e-06 - val_mse: 1.6602e-06 - val_mae: 9.6633e-04\n",
      "Epoch 340/1000\n",
      "256/256 [==============================] - 0s 187us/sample - loss: 1.5742e-06 - mse: 1.5742e-06 - mae: 9.6598e-04 - val_loss: 1.7745e-06 - val_mse: 1.7745e-06 - val_mae: 0.0010\n",
      "Epoch 341/1000\n",
      "256/256 [==============================] - 0s 185us/sample - loss: 1.7999e-06 - mse: 1.7999e-06 - mae: 0.0010 - val_loss: 1.5343e-06 - val_mse: 1.5343e-06 - val_mae: 9.4558e-04\n",
      "Epoch 342/1000\n",
      "256/256 [==============================] - 0s 184us/sample - loss: 1.6410e-06 - mse: 1.6410e-06 - mae: 9.9123e-04 - val_loss: 1.7529e-06 - val_mse: 1.7529e-06 - val_mae: 9.7648e-04\n",
      "Epoch 343/1000\n",
      "256/256 [==============================] - 0s 185us/sample - loss: 1.7387e-06 - mse: 1.7387e-06 - mae: 9.8099e-04 - val_loss: 2.2541e-06 - val_mse: 2.2541e-06 - val_mae: 0.0011\n",
      "Epoch 344/1000\n",
      "256/256 [==============================] - 0s 187us/sample - loss: 1.7590e-06 - mse: 1.7590e-06 - mae: 0.0010 - val_loss: 1.6334e-06 - val_mse: 1.6334e-06 - val_mae: 9.4979e-04\n",
      "Epoch 345/1000\n",
      "256/256 [==============================] - 0s 200us/sample - loss: 1.7427e-06 - mse: 1.7427e-06 - mae: 9.9103e-04 - val_loss: 2.6463e-06 - val_mse: 2.6463e-06 - val_mae: 0.0012\n",
      "Epoch 346/1000\n",
      "256/256 [==============================] - 0s 191us/sample - loss: 1.8637e-06 - mse: 1.8637e-06 - mae: 0.0011 - val_loss: 1.5276e-06 - val_mse: 1.5276e-06 - val_mae: 9.1668e-04\n",
      "Epoch 347/1000\n",
      "256/256 [==============================] - 0s 190us/sample - loss: 1.5717e-06 - mse: 1.5717e-06 - mae: 9.6114e-04 - val_loss: 1.9136e-06 - val_mse: 1.9136e-06 - val_mae: 0.0010\n",
      "Epoch 348/1000\n",
      "256/256 [==============================] - 0s 190us/sample - loss: 1.5734e-06 - mse: 1.5734e-06 - mae: 9.4167e-04 - val_loss: 1.6651e-06 - val_mse: 1.6651e-06 - val_mae: 9.7287e-04\n",
      "Epoch 349/1000\n",
      "256/256 [==============================] - 0s 260us/sample - loss: 1.6282e-06 - mse: 1.6282e-06 - mae: 9.5710e-04 - val_loss: 1.5287e-06 - val_mse: 1.5287e-06 - val_mae: 9.3490e-04\n",
      "Epoch 350/1000\n",
      "256/256 [==============================] - 0s 207us/sample - loss: 1.5029e-06 - mse: 1.5029e-06 - mae: 9.3344e-04 - val_loss: 2.3702e-06 - val_mse: 2.3702e-06 - val_mae: 0.0012\n",
      "Epoch 351/1000\n",
      "256/256 [==============================] - 0s 199us/sample - loss: 1.6362e-06 - mse: 1.6362e-06 - mae: 9.7750e-04 - val_loss: 1.4017e-06 - val_mse: 1.4017e-06 - val_mae: 8.8621e-04\n",
      "Epoch 352/1000\n",
      "256/256 [==============================] - 0s 205us/sample - loss: 1.4490e-06 - mse: 1.4490e-06 - mae: 9.1729e-04 - val_loss: 2.3035e-06 - val_mse: 2.3035e-06 - val_mae: 0.0011\n",
      "Epoch 353/1000\n",
      "256/256 [==============================] - 0s 188us/sample - loss: 1.5097e-06 - mse: 1.5097e-06 - mae: 9.0799e-04 - val_loss: 1.3995e-06 - val_mse: 1.3995e-06 - val_mae: 8.7728e-04\n",
      "Epoch 354/1000\n",
      "256/256 [==============================] - 0s 192us/sample - loss: 1.3927e-06 - mse: 1.3927e-06 - mae: 8.8279e-04 - val_loss: 1.5832e-06 - val_mse: 1.5832e-06 - val_mae: 9.3776e-04\n",
      "Epoch 355/1000\n",
      "256/256 [==============================] - 0s 193us/sample - loss: 1.3977e-06 - mse: 1.3977e-06 - mae: 8.9183e-04 - val_loss: 1.7138e-06 - val_mse: 1.7138e-06 - val_mae: 9.7745e-04\n",
      "Epoch 356/1000\n",
      "256/256 [==============================] - 0s 185us/sample - loss: 1.3393e-06 - mse: 1.3393e-06 - mae: 8.5589e-04 - val_loss: 1.4309e-06 - val_mse: 1.4309e-06 - val_mae: 8.8438e-04\n",
      "Epoch 357/1000\n",
      "256/256 [==============================] - 0s 197us/sample - loss: 1.4387e-06 - mse: 1.4387e-06 - mae: 8.9684e-04 - val_loss: 1.4027e-06 - val_mse: 1.4027e-06 - val_mae: 8.6855e-04\n",
      "Epoch 358/1000\n",
      "256/256 [==============================] - 0s 199us/sample - loss: 1.7615e-06 - mse: 1.7615e-06 - mae: 0.0010 - val_loss: 1.4837e-06 - val_mse: 1.4837e-06 - val_mae: 9.1258e-04\n",
      "Epoch 359/1000\n",
      "256/256 [==============================] - 0s 188us/sample - loss: 1.6529e-06 - mse: 1.6529e-06 - mae: 9.7006e-04 - val_loss: 1.3340e-06 - val_mse: 1.3340e-06 - val_mae: 8.6321e-04\n",
      "Epoch 360/1000\n",
      "256/256 [==============================] - 0s 202us/sample - loss: 1.3830e-06 - mse: 1.3830e-06 - mae: 8.6662e-04 - val_loss: 1.3981e-06 - val_mse: 1.3981e-06 - val_mae: 8.8410e-04\n",
      "Epoch 361/1000\n",
      "256/256 [==============================] - 0s 183us/sample - loss: 1.6130e-06 - mse: 1.6130e-06 - mae: 9.6533e-04 - val_loss: 1.3055e-06 - val_mse: 1.3055e-06 - val_mae: 8.5233e-04\n",
      "Epoch 362/1000\n",
      "256/256 [==============================] - 0s 189us/sample - loss: 1.2562e-06 - mse: 1.2562e-06 - mae: 8.2795e-04 - val_loss: 1.4056e-06 - val_mse: 1.4056e-06 - val_mae: 8.7865e-04\n",
      "Epoch 363/1000\n",
      "256/256 [==============================] - 0s 712us/sample - loss: 1.2647e-06 - mse: 1.2647e-06 - mae: 8.2582e-04 - val_loss: 1.3149e-06 - val_mse: 1.3149e-06 - val_mae: 8.4403e-04\n",
      "Epoch 364/1000\n",
      "256/256 [==============================] - 0s 418us/sample - loss: 1.3086e-06 - mse: 1.3086e-06 - mae: 8.6632e-04 - val_loss: 1.7182e-06 - val_mse: 1.7182e-06 - val_mae: 0.0010\n",
      "Epoch 365/1000\n",
      "256/256 [==============================] - 0s 255us/sample - loss: 1.5053e-06 - mse: 1.5053e-06 - mae: 9.3296e-04 - val_loss: 1.2869e-06 - val_mse: 1.2869e-06 - val_mae: 8.5210e-04\n",
      "Epoch 366/1000\n",
      "256/256 [==============================] - 0s 242us/sample - loss: 1.2006e-06 - mse: 1.2006e-06 - mae: 8.1963e-04 - val_loss: 1.2542e-06 - val_mse: 1.2542e-06 - val_mae: 8.2955e-04\n",
      "Epoch 367/1000\n",
      "256/256 [==============================] - 0s 284us/sample - loss: 1.8058e-06 - mse: 1.8058e-06 - mae: 0.0010 - val_loss: 1.2195e-06 - val_mse: 1.2195e-06 - val_mae: 8.0875e-04\n",
      "Epoch 368/1000\n",
      "256/256 [==============================] - 0s 258us/sample - loss: 1.2807e-06 - mse: 1.2807e-06 - mae: 8.3592e-04 - val_loss: 1.2642e-06 - val_mse: 1.2642e-06 - val_mae: 8.3771e-04\n",
      "Epoch 369/1000\n",
      "256/256 [==============================] - 0s 235us/sample - loss: 1.2844e-06 - mse: 1.2844e-06 - mae: 8.3869e-04 - val_loss: 1.2626e-06 - val_mse: 1.2626e-06 - val_mae: 8.4077e-04\n",
      "Epoch 370/1000\n",
      "256/256 [==============================] - 0s 241us/sample - loss: 1.2168e-06 - mse: 1.2168e-06 - mae: 8.1932e-04 - val_loss: 1.2751e-06 - val_mse: 1.2751e-06 - val_mae: 8.1943e-04\n",
      "Epoch 371/1000\n",
      "256/256 [==============================] - 0s 252us/sample - loss: 1.3897e-06 - mse: 1.3897e-06 - mae: 8.8001e-04 - val_loss: 1.1873e-06 - val_mse: 1.1873e-06 - val_mae: 7.9803e-04\n",
      "Epoch 372/1000\n",
      "256/256 [==============================] - 0s 296us/sample - loss: 1.1492e-06 - mse: 1.1492e-06 - mae: 7.9218e-04 - val_loss: 1.1746e-06 - val_mse: 1.1746e-06 - val_mae: 7.9180e-04\n",
      "Epoch 373/1000\n",
      "256/256 [==============================] - 0s 235us/sample - loss: 1.3406e-06 - mse: 1.3406e-06 - mae: 8.6401e-04 - val_loss: 1.1873e-06 - val_mse: 1.1873e-06 - val_mae: 7.8698e-04\n",
      "Epoch 374/1000\n",
      "256/256 [==============================] - 0s 195us/sample - loss: 1.1353e-06 - mse: 1.1353e-06 - mae: 8.0035e-04 - val_loss: 1.1911e-06 - val_mse: 1.1911e-06 - val_mae: 8.0194e-04\n",
      "Epoch 375/1000\n",
      "256/256 [==============================] - 0s 197us/sample - loss: 1.0911e-06 - mse: 1.0911e-06 - mae: 7.7524e-04 - val_loss: 1.1632e-06 - val_mse: 1.1632e-06 - val_mae: 7.8144e-04\n",
      "Epoch 376/1000\n",
      "256/256 [==============================] - 0s 197us/sample - loss: 1.1938e-06 - mse: 1.1938e-06 - mae: 7.8664e-04 - val_loss: 1.3327e-06 - val_mse: 1.3327e-06 - val_mae: 8.5096e-04\n",
      "Epoch 377/1000\n",
      "256/256 [==============================] - 0s 198us/sample - loss: 1.2909e-06 - mse: 1.2909e-06 - mae: 8.3960e-04 - val_loss: 1.2182e-06 - val_mse: 1.2182e-06 - val_mae: 7.7853e-04\n",
      "Epoch 378/1000\n",
      "256/256 [==============================] - 0s 221us/sample - loss: 1.1615e-06 - mse: 1.1615e-06 - mae: 7.7962e-04 - val_loss: 1.3241e-06 - val_mse: 1.3241e-06 - val_mae: 8.3568e-04\n",
      "Epoch 379/1000\n",
      "256/256 [==============================] - 0s 215us/sample - loss: 1.1594e-06 - mse: 1.1594e-06 - mae: 7.9295e-04 - val_loss: 1.1484e-06 - val_mse: 1.1484e-06 - val_mae: 7.9756e-04\n",
      "Epoch 380/1000\n",
      "256/256 [==============================] - 0s 208us/sample - loss: 1.2992e-06 - mse: 1.2992e-06 - mae: 8.6862e-04 - val_loss: 1.1999e-06 - val_mse: 1.1999e-06 - val_mae: 8.0215e-04\n",
      "Epoch 381/1000\n",
      "256/256 [==============================] - 0s 223us/sample - loss: 1.1106e-06 - mse: 1.1106e-06 - mae: 7.8663e-04 - val_loss: 1.1122e-06 - val_mse: 1.1122e-06 - val_mae: 7.6196e-04\n",
      "Epoch 382/1000\n",
      "256/256 [==============================] - 0s 218us/sample - loss: 1.1911e-06 - mse: 1.1911e-06 - mae: 8.3138e-04 - val_loss: 1.3207e-06 - val_mse: 1.3207e-06 - val_mae: 8.7035e-04\n",
      "Epoch 383/1000\n",
      "256/256 [==============================] - 0s 218us/sample - loss: 1.0772e-06 - mse: 1.0772e-06 - mae: 7.5022e-04 - val_loss: 1.0708e-06 - val_mse: 1.0708e-06 - val_mae: 7.5945e-04\n",
      "Epoch 384/1000\n",
      "256/256 [==============================] - 0s 231us/sample - loss: 1.2413e-06 - mse: 1.2413e-06 - mae: 8.4442e-04 - val_loss: 1.0635e-06 - val_mse: 1.0635e-06 - val_mae: 7.5234e-04\n",
      "Epoch 385/1000\n",
      "256/256 [==============================] - 0s 229us/sample - loss: 1.5137e-06 - mse: 1.5137e-06 - mae: 9.5858e-04 - val_loss: 1.4298e-06 - val_mse: 1.4298e-06 - val_mae: 8.8999e-04\n",
      "Epoch 386/1000\n",
      "256/256 [==============================] - 0s 226us/sample - loss: 1.1313e-06 - mse: 1.1313e-06 - mae: 7.6437e-04 - val_loss: 1.4758e-06 - val_mse: 1.4758e-06 - val_mae: 9.1279e-04\n",
      "Epoch 387/1000\n",
      "256/256 [==============================] - 0s 229us/sample - loss: 1.1603e-06 - mse: 1.1603e-06 - mae: 7.8786e-04 - val_loss: 1.2447e-06 - val_mse: 1.2447e-06 - val_mae: 7.7724e-04\n",
      "Epoch 388/1000\n",
      "256/256 [==============================] - 0s 221us/sample - loss: 1.2946e-06 - mse: 1.2946e-06 - mae: 8.4845e-04 - val_loss: 1.0864e-06 - val_mse: 1.0864e-06 - val_mae: 7.3218e-04\n",
      "Epoch 389/1000\n",
      "256/256 [==============================] - 0s 223us/sample - loss: 1.0665e-06 - mse: 1.0665e-06 - mae: 7.5528e-04 - val_loss: 1.1640e-06 - val_mse: 1.1640e-06 - val_mae: 7.9007e-04\n",
      "Epoch 390/1000\n",
      "256/256 [==============================] - 0s 202us/sample - loss: 1.0199e-06 - mse: 1.0199e-06 - mae: 7.4450e-04 - val_loss: 1.0801e-06 - val_mse: 1.0801e-06 - val_mae: 7.6670e-04\n",
      "Epoch 391/1000\n",
      "256/256 [==============================] - 0s 202us/sample - loss: 1.1923e-06 - mse: 1.1923e-06 - mae: 8.3831e-04 - val_loss: 1.2568e-06 - val_mse: 1.2568e-06 - val_mae: 8.1718e-04\n",
      "Epoch 392/1000\n",
      "256/256 [==============================] - 0s 209us/sample - loss: 1.2248e-06 - mse: 1.2248e-06 - mae: 8.1457e-04 - val_loss: 1.1247e-06 - val_mse: 1.1247e-06 - val_mae: 7.7582e-04\n"
     ]
    },
    {
     "name": "stdout",
     "output_type": "stream",
     "text": [
      "Epoch 393/1000\n",
      "256/256 [==============================] - 0s 377us/sample - loss: 1.0551e-06 - mse: 1.0551e-06 - mae: 7.5850e-04 - val_loss: 1.1239e-06 - val_mse: 1.1239e-06 - val_mae: 7.8584e-04\n",
      "Epoch 394/1000\n",
      "256/256 [==============================] - 0s 203us/sample - loss: 1.0991e-06 - mse: 1.0991e-06 - mae: 7.6284e-04 - val_loss: 1.0803e-06 - val_mse: 1.0803e-06 - val_mae: 7.5546e-04\n",
      "Epoch 395/1000\n",
      "256/256 [==============================] - 0s 199us/sample - loss: 1.1224e-06 - mse: 1.1224e-06 - mae: 7.9101e-04 - val_loss: 9.8171e-07 - val_mse: 9.8171e-07 - val_mae: 7.0968e-04\n",
      "Epoch 396/1000\n",
      "256/256 [==============================] - 0s 196us/sample - loss: 1.0912e-06 - mse: 1.0912e-06 - mae: 7.5838e-04 - val_loss: 9.9517e-07 - val_mse: 9.9517e-07 - val_mae: 6.9906e-04\n",
      "Epoch 397/1000\n",
      "256/256 [==============================] - 0s 200us/sample - loss: 9.8556e-07 - mse: 9.8556e-07 - mae: 7.3688e-04 - val_loss: 1.0071e-06 - val_mse: 1.0071e-06 - val_mae: 6.9328e-04\n",
      "Epoch 398/1000\n",
      "256/256 [==============================] - 0s 217us/sample - loss: 1.0735e-06 - mse: 1.0735e-06 - mae: 7.2779e-04 - val_loss: 1.2666e-06 - val_mse: 1.2666e-06 - val_mae: 8.7639e-04\n",
      "Epoch 399/1000\n",
      "256/256 [==============================] - 0s 270us/sample - loss: 1.1400e-06 - mse: 1.1400e-06 - mae: 7.9640e-04 - val_loss: 1.1128e-06 - val_mse: 1.1128e-06 - val_mae: 7.6854e-04\n",
      "Epoch 400/1000\n",
      "256/256 [==============================] - 0s 206us/sample - loss: 1.0427e-06 - mse: 1.0427e-06 - mae: 7.2650e-04 - val_loss: 9.5113e-07 - val_mse: 9.5113e-07 - val_mae: 7.0040e-04\n",
      "Epoch 401/1000\n",
      "256/256 [==============================] - 0s 202us/sample - loss: 1.0502e-06 - mse: 1.0502e-06 - mae: 7.5410e-04 - val_loss: 1.0389e-06 - val_mse: 1.0389e-06 - val_mae: 7.3766e-04\n",
      "Epoch 402/1000\n",
      "256/256 [==============================] - 0s 210us/sample - loss: 9.9836e-07 - mse: 9.9836e-07 - mae: 7.1826e-04 - val_loss: 1.1396e-06 - val_mse: 1.1396e-06 - val_mae: 7.9774e-04\n",
      "Epoch 403/1000\n",
      "256/256 [==============================] - 0s 199us/sample - loss: 1.0642e-06 - mse: 1.0642e-06 - mae: 7.7274e-04 - val_loss: 9.4384e-07 - val_mse: 9.4384e-07 - val_mae: 7.0922e-04\n",
      "Epoch 404/1000\n",
      "256/256 [==============================] - 0s 212us/sample - loss: 9.2578e-07 - mse: 9.2578e-07 - mae: 7.0265e-04 - val_loss: 9.3166e-07 - val_mse: 9.3166e-07 - val_mae: 6.8160e-04\n",
      "Epoch 405/1000\n",
      "256/256 [==============================] - 0s 197us/sample - loss: 9.4192e-07 - mse: 9.4192e-07 - mae: 6.9571e-04 - val_loss: 9.2541e-07 - val_mse: 9.2541e-07 - val_mae: 6.7842e-04\n",
      "Epoch 406/1000\n",
      "256/256 [==============================] - 0s 195us/sample - loss: 1.1088e-06 - mse: 1.1088e-06 - mae: 7.7213e-04 - val_loss: 1.0039e-06 - val_mse: 1.0039e-06 - val_mae: 7.3139e-04\n",
      "Epoch 407/1000\n",
      "256/256 [==============================] - 0s 191us/sample - loss: 1.0679e-06 - mse: 1.0679e-06 - mae: 7.4409e-04 - val_loss: 1.0395e-06 - val_mse: 1.0395e-06 - val_mae: 7.5353e-04\n",
      "Epoch 408/1000\n",
      "256/256 [==============================] - 0s 196us/sample - loss: 1.0090e-06 - mse: 1.0090e-06 - mae: 7.2544e-04 - val_loss: 8.9857e-07 - val_mse: 8.9857e-07 - val_mae: 6.7566e-04\n",
      "Epoch 409/1000\n",
      "256/256 [==============================] - 0s 194us/sample - loss: 8.8878e-07 - mse: 8.8878e-07 - mae: 6.7868e-04 - val_loss: 9.4153e-07 - val_mse: 9.4153e-07 - val_mae: 7.0555e-04\n",
      "Epoch 410/1000\n",
      "256/256 [==============================] - 0s 196us/sample - loss: 1.1007e-06 - mse: 1.1007e-06 - mae: 7.9837e-04 - val_loss: 8.9228e-07 - val_mse: 8.9228e-07 - val_mae: 6.6348e-04\n",
      "Epoch 411/1000\n",
      "256/256 [==============================] - 0s 195us/sample - loss: 8.1971e-07 - mse: 8.1971e-07 - mae: 6.4912e-04 - val_loss: 9.4402e-07 - val_mse: 9.4402e-07 - val_mae: 6.9887e-04\n",
      "Epoch 412/1000\n",
      "256/256 [==============================] - 0s 198us/sample - loss: 9.2837e-07 - mse: 9.2837e-07 - mae: 6.9690e-04 - val_loss: 1.1184e-06 - val_mse: 1.1184e-06 - val_mae: 7.7138e-04\n",
      "Epoch 413/1000\n",
      "256/256 [==============================] - 0s 206us/sample - loss: 1.0558e-06 - mse: 1.0558e-06 - mae: 7.5294e-04 - val_loss: 9.2699e-07 - val_mse: 9.2699e-07 - val_mae: 6.8388e-04\n",
      "Epoch 414/1000\n",
      "256/256 [==============================] - 0s 217us/sample - loss: 9.0655e-07 - mse: 9.0655e-07 - mae: 6.9531e-04 - val_loss: 9.1603e-07 - val_mse: 9.1603e-07 - val_mae: 6.9334e-04\n",
      "Epoch 415/1000\n",
      "256/256 [==============================] - 0s 228us/sample - loss: 1.0185e-06 - mse: 1.0185e-06 - mae: 7.4022e-04 - val_loss: 1.1037e-06 - val_mse: 1.1037e-06 - val_mae: 7.7420e-04\n",
      "Epoch 416/1000\n",
      "256/256 [==============================] - 0s 333us/sample - loss: 9.3611e-07 - mse: 9.3611e-07 - mae: 7.0691e-04 - val_loss: 8.7678e-07 - val_mse: 8.7678e-07 - val_mae: 6.3676e-04\n",
      "Epoch 417/1000\n",
      "256/256 [==============================] - 0s 284us/sample - loss: 1.0273e-06 - mse: 1.0273e-06 - mae: 7.5855e-04 - val_loss: 9.5039e-07 - val_mse: 9.5039e-07 - val_mae: 7.1282e-04\n",
      "Epoch 418/1000\n",
      "256/256 [==============================] - 0s 236us/sample - loss: 9.1134e-07 - mse: 9.1134e-07 - mae: 7.0929e-04 - val_loss: 1.0045e-06 - val_mse: 1.0045e-06 - val_mae: 7.2634e-04\n",
      "Epoch 419/1000\n",
      "256/256 [==============================] - 0s 213us/sample - loss: 9.2150e-07 - mse: 9.2150e-07 - mae: 6.9769e-04 - val_loss: 8.8703e-07 - val_mse: 8.8703e-07 - val_mae: 6.6803e-04\n",
      "Epoch 420/1000\n",
      "256/256 [==============================] - 0s 210us/sample - loss: 9.2611e-07 - mse: 9.2611e-07 - mae: 7.1798e-04 - val_loss: 1.0733e-06 - val_mse: 1.0733e-06 - val_mae: 7.5564e-04\n",
      "Epoch 421/1000\n",
      "256/256 [==============================] - 0s 196us/sample - loss: 8.7742e-07 - mse: 8.7742e-07 - mae: 6.8873e-04 - val_loss: 8.6208e-07 - val_mse: 8.6208e-07 - val_mae: 6.5808e-04\n",
      "Epoch 422/1000\n",
      "256/256 [==============================] - 0s 196us/sample - loss: 8.8105e-07 - mse: 8.8105e-07 - mae: 6.7951e-04 - val_loss: 9.3220e-07 - val_mse: 9.3220e-07 - val_mae: 6.9608e-04\n",
      "Epoch 423/1000\n",
      "256/256 [==============================] - 0s 210us/sample - loss: 9.8179e-07 - mse: 9.8179e-07 - mae: 7.1689e-04 - val_loss: 9.2548e-07 - val_mse: 9.2548e-07 - val_mae: 6.9255e-04\n",
      "Epoch 424/1000\n",
      "256/256 [==============================] - 0s 338us/sample - loss: 8.7114e-07 - mse: 8.7114e-07 - mae: 6.6272e-04 - val_loss: 8.4719e-07 - val_mse: 8.4719e-07 - val_mae: 6.5543e-04\n",
      "Epoch 425/1000\n",
      "256/256 [==============================] - 0s 269us/sample - loss: 1.0085e-06 - mse: 1.0085e-06 - mae: 7.5570e-04 - val_loss: 8.9236e-07 - val_mse: 8.9236e-07 - val_mae: 6.8372e-04\n",
      "Epoch 426/1000\n",
      "256/256 [==============================] - 0s 202us/sample - loss: 7.9205e-07 - mse: 7.9205e-07 - mae: 6.2587e-04 - val_loss: 8.3151e-07 - val_mse: 8.3151e-07 - val_mae: 6.3759e-04\n",
      "Epoch 427/1000\n",
      "256/256 [==============================] - 0s 188us/sample - loss: 8.0632e-07 - mse: 8.0632e-07 - mae: 6.3727e-04 - val_loss: 8.1147e-07 - val_mse: 8.1147e-07 - val_mae: 6.0836e-04\n",
      "Epoch 428/1000\n",
      "256/256 [==============================] - 0s 194us/sample - loss: 8.2260e-07 - mse: 8.2260e-07 - mae: 6.4623e-04 - val_loss: 8.4722e-07 - val_mse: 8.4722e-07 - val_mae: 6.6413e-04\n",
      "Epoch 429/1000\n",
      "256/256 [==============================] - 0s 232us/sample - loss: 8.7857e-07 - mse: 8.7857e-07 - mae: 6.7449e-04 - val_loss: 8.3300e-07 - val_mse: 8.3300e-07 - val_mae: 6.5149e-04\n",
      "Epoch 430/1000\n",
      "256/256 [==============================] - 0s 212us/sample - loss: 8.2636e-07 - mse: 8.2636e-07 - mae: 6.4814e-04 - val_loss: 1.0067e-06 - val_mse: 1.0067e-06 - val_mae: 7.2439e-04\n",
      "Epoch 431/1000\n",
      "256/256 [==============================] - 0s 209us/sample - loss: 7.8232e-07 - mse: 7.8232e-07 - mae: 6.1457e-04 - val_loss: 8.4430e-07 - val_mse: 8.4430e-07 - val_mae: 6.3736e-04\n",
      "Epoch 432/1000\n",
      "256/256 [==============================] - 0s 223us/sample - loss: 8.2563e-07 - mse: 8.2563e-07 - mae: 6.5526e-04 - val_loss: 7.6487e-07 - val_mse: 7.6487e-07 - val_mae: 6.0010e-04\n",
      "Epoch 433/1000\n",
      "256/256 [==============================] - 0s 195us/sample - loss: 8.9748e-07 - mse: 8.9748e-07 - mae: 6.9031e-04 - val_loss: 1.1657e-06 - val_mse: 1.1657e-06 - val_mae: 8.8881e-04\n",
      "Epoch 434/1000\n",
      "256/256 [==============================] - 0s 236us/sample - loss: 7.9581e-07 - mse: 7.9581e-07 - mae: 6.5174e-04 - val_loss: 7.6751e-07 - val_mse: 7.6751e-07 - val_mae: 5.9878e-04\n"
     ]
    },
    {
     "name": "stdout",
     "output_type": "stream",
     "text": [
      "Epoch 435/1000\n",
      "256/256 [==============================] - 0s 201us/sample - loss: 7.3309e-07 - mse: 7.3309e-07 - mae: 5.9303e-04 - val_loss: 7.6023e-07 - val_mse: 7.6023e-07 - val_mae: 5.9684e-04\n",
      "Epoch 436/1000\n",
      "256/256 [==============================] - 0s 193us/sample - loss: 9.3278e-07 - mse: 9.3278e-07 - mae: 6.7810e-04 - val_loss: 8.6967e-07 - val_mse: 8.6967e-07 - val_mae: 6.8455e-04\n",
      "Epoch 437/1000\n",
      "256/256 [==============================] - 0s 203us/sample - loss: 1.0084e-06 - mse: 1.0084e-06 - mae: 7.2521e-04 - val_loss: 7.4261e-07 - val_mse: 7.4261e-07 - val_mae: 5.8586e-04\n",
      "Epoch 438/1000\n",
      "256/256 [==============================] - 0s 193us/sample - loss: 8.0824e-07 - mse: 8.0824e-07 - mae: 6.6986e-04 - val_loss: 8.1254e-07 - val_mse: 8.1254e-07 - val_mae: 5.9413e-04\n",
      "Epoch 439/1000\n",
      "256/256 [==============================] - 0s 204us/sample - loss: 7.6018e-07 - mse: 7.6018e-07 - mae: 6.1630e-04 - val_loss: 7.4027e-07 - val_mse: 7.4027e-07 - val_mae: 5.9805e-04\n",
      "Epoch 440/1000\n",
      "256/256 [==============================] - 0s 196us/sample - loss: 1.0022e-06 - mse: 1.0022e-06 - mae: 7.4331e-04 - val_loss: 7.4220e-07 - val_mse: 7.4220e-07 - val_mae: 5.9285e-04\n",
      "Epoch 441/1000\n",
      "256/256 [==============================] - 0s 195us/sample - loss: 8.5250e-07 - mse: 8.5250e-07 - mae: 6.6796e-04 - val_loss: 1.1583e-06 - val_mse: 1.1583e-06 - val_mae: 7.9628e-04\n",
      "Epoch 442/1000\n",
      "256/256 [==============================] - 0s 205us/sample - loss: 7.5285e-07 - mse: 7.5285e-07 - mae: 6.3096e-04 - val_loss: 8.0285e-07 - val_mse: 8.0285e-07 - val_mae: 6.3789e-04\n",
      "Epoch 443/1000\n",
      "256/256 [==============================] - 0s 195us/sample - loss: 7.7875e-07 - mse: 7.7875e-07 - mae: 6.3067e-04 - val_loss: 7.5946e-07 - val_mse: 7.5946e-07 - val_mae: 6.2697e-04\n",
      "Epoch 444/1000\n",
      "256/256 [==============================] - 0s 212us/sample - loss: 8.3517e-07 - mse: 8.3517e-07 - mae: 6.9250e-04 - val_loss: 7.4885e-07 - val_mse: 7.4885e-07 - val_mae: 6.1213e-04\n",
      "Epoch 445/1000\n",
      "256/256 [==============================] - 0s 221us/sample - loss: 7.0359e-07 - mse: 7.0359e-07 - mae: 5.8881e-04 - val_loss: 7.3508e-07 - val_mse: 7.3508e-07 - val_mae: 5.8847e-04\n",
      "Epoch 446/1000\n",
      "256/256 [==============================] - 0s 210us/sample - loss: 7.3349e-07 - mse: 7.3349e-07 - mae: 6.0312e-04 - val_loss: 7.1225e-07 - val_mse: 7.1225e-07 - val_mae: 5.7775e-04\n",
      "Epoch 447/1000\n",
      "256/256 [==============================] - 0s 218us/sample - loss: 7.7429e-07 - mse: 7.7429e-07 - mae: 6.3018e-04 - val_loss: 8.5148e-07 - val_mse: 8.5148e-07 - val_mae: 6.6555e-04\n",
      "Epoch 448/1000\n",
      "256/256 [==============================] - 0s 243us/sample - loss: 8.1454e-07 - mse: 8.1454e-07 - mae: 6.2537e-04 - val_loss: 1.2546e-06 - val_mse: 1.2546e-06 - val_mae: 8.0505e-04\n",
      "Epoch 449/1000\n",
      "256/256 [==============================] - 0s 220us/sample - loss: 7.6164e-07 - mse: 7.6164e-07 - mae: 5.9886e-04 - val_loss: 8.3427e-07 - val_mse: 8.3427e-07 - val_mae: 6.3622e-04\n",
      "Epoch 450/1000\n",
      "256/256 [==============================] - 0s 195us/sample - loss: 7.7412e-07 - mse: 7.7412e-07 - mae: 6.2136e-04 - val_loss: 7.6004e-07 - val_mse: 7.6004e-07 - val_mae: 6.3950e-04\n",
      "Epoch 451/1000\n",
      "256/256 [==============================] - 0s 196us/sample - loss: 7.5819e-07 - mse: 7.5819e-07 - mae: 6.3301e-04 - val_loss: 7.1305e-07 - val_mse: 7.1305e-07 - val_mae: 5.8683e-04\n",
      "Epoch 452/1000\n",
      "256/256 [==============================] - 0s 215us/sample - loss: 6.6607e-07 - mse: 6.6607e-07 - mae: 5.6607e-04 - val_loss: 7.0598e-07 - val_mse: 7.0598e-07 - val_mae: 5.9246e-04\n",
      "Epoch 453/1000\n",
      "256/256 [==============================] - 0s 219us/sample - loss: 6.7699e-07 - mse: 6.7699e-07 - mae: 5.6821e-04 - val_loss: 7.0466e-07 - val_mse: 7.0466e-07 - val_mae: 5.8927e-04\n",
      "Epoch 454/1000\n",
      "256/256 [==============================] - 0s 232us/sample - loss: 7.9327e-07 - mse: 7.9327e-07 - mae: 6.6597e-04 - val_loss: 7.2166e-07 - val_mse: 7.2166e-07 - val_mae: 6.0310e-04\n",
      "Epoch 455/1000\n",
      "256/256 [==============================] - 0s 215us/sample - loss: 7.6094e-07 - mse: 7.6094e-07 - mae: 6.3543e-04 - val_loss: 6.8694e-07 - val_mse: 6.8694e-07 - val_mae: 5.7993e-04\n",
      "Epoch 456/1000\n",
      "256/256 [==============================] - 0s 194us/sample - loss: 6.4999e-07 - mse: 6.4999e-07 - mae: 5.6245e-04 - val_loss: 7.2372e-07 - val_mse: 7.2372e-07 - val_mae: 6.2310e-04\n",
      "Epoch 457/1000\n",
      "256/256 [==============================] - 0s 193us/sample - loss: 6.8168e-07 - mse: 6.8168e-07 - mae: 6.0035e-04 - val_loss: 7.6086e-07 - val_mse: 7.6086e-07 - val_mae: 6.3065e-04\n",
      "Epoch 458/1000\n",
      "256/256 [==============================] - 0s 217us/sample - loss: 7.5503e-07 - mse: 7.5503e-07 - mae: 6.0983e-04 - val_loss: 6.8201e-07 - val_mse: 6.8201e-07 - val_mae: 5.5984e-04\n",
      "Epoch 459/1000\n",
      "256/256 [==============================] - 0s 231us/sample - loss: 6.7771e-07 - mse: 6.7771e-07 - mae: 5.6477e-04 - val_loss: 7.3042e-07 - val_mse: 7.3042e-07 - val_mae: 6.0034e-04\n",
      "Epoch 460/1000\n",
      "256/256 [==============================] - 0s 206us/sample - loss: 7.0126e-07 - mse: 7.0126e-07 - mae: 5.9842e-04 - val_loss: 6.8895e-07 - val_mse: 6.8895e-07 - val_mae: 5.7183e-04\n",
      "Epoch 461/1000\n",
      "256/256 [==============================] - 0s 292us/sample - loss: 6.6736e-07 - mse: 6.6736e-07 - mae: 5.6271e-04 - val_loss: 6.9533e-07 - val_mse: 6.9533e-07 - val_mae: 5.7920e-04\n",
      "Epoch 462/1000\n",
      "256/256 [==============================] - 0s 204us/sample - loss: 6.6399e-07 - mse: 6.6399e-07 - mae: 5.6248e-04 - val_loss: 6.8845e-07 - val_mse: 6.8845e-07 - val_mae: 5.8763e-04\n",
      "Epoch 463/1000\n",
      "256/256 [==============================] - 0s 192us/sample - loss: 6.6912e-07 - mse: 6.6912e-07 - mae: 5.6554e-04 - val_loss: 6.9551e-07 - val_mse: 6.9551e-07 - val_mae: 5.9220e-04\n",
      "Epoch 464/1000\n",
      "256/256 [==============================] - 0s 196us/sample - loss: 8.0968e-07 - mse: 8.0968e-07 - mae: 6.3249e-04 - val_loss: 7.2969e-07 - val_mse: 7.2969e-07 - val_mae: 5.9830e-04\n",
      "Epoch 465/1000\n",
      "256/256 [==============================] - 0s 198us/sample - loss: 7.5935e-07 - mse: 7.5935e-07 - mae: 6.3206e-04 - val_loss: 8.0237e-07 - val_mse: 8.0237e-07 - val_mae: 6.3129e-04\n",
      "Epoch 466/1000\n",
      "256/256 [==============================] - 0s 196us/sample - loss: 6.6479e-07 - mse: 6.6479e-07 - mae: 5.7193e-04 - val_loss: 8.1148e-07 - val_mse: 8.1148e-07 - val_mae: 6.8816e-04\n",
      "Epoch 467/1000\n",
      "256/256 [==============================] - 0s 214us/sample - loss: 9.5393e-07 - mse: 9.5393e-07 - mae: 6.9481e-04 - val_loss: 6.3692e-07 - val_mse: 6.3692e-07 - val_mae: 5.5245e-04\n",
      "Epoch 468/1000\n",
      "256/256 [==============================] - 0s 211us/sample - loss: 6.1093e-07 - mse: 6.1093e-07 - mae: 5.5800e-04 - val_loss: 6.8726e-07 - val_mse: 6.8726e-07 - val_mae: 5.7612e-04\n",
      "Epoch 469/1000\n",
      "256/256 [==============================] - 0s 207us/sample - loss: 7.2045e-07 - mse: 7.2045e-07 - mae: 6.1607e-04 - val_loss: 6.3379e-07 - val_mse: 6.3379e-07 - val_mae: 5.5455e-04\n",
      "Epoch 470/1000\n",
      "256/256 [==============================] - 0s 189us/sample - loss: 6.2203e-07 - mse: 6.2203e-07 - mae: 5.5211e-04 - val_loss: 6.3677e-07 - val_mse: 6.3677e-07 - val_mae: 5.4665e-04\n",
      "Epoch 471/1000\n",
      "256/256 [==============================] - 0s 191us/sample - loss: 6.3322e-07 - mse: 6.3322e-07 - mae: 5.4028e-04 - val_loss: 6.8252e-07 - val_mse: 6.8252e-07 - val_mae: 5.9611e-04\n",
      "Epoch 472/1000\n",
      "256/256 [==============================] - 0s 238us/sample - loss: 7.7752e-07 - mse: 7.7752e-07 - mae: 6.1902e-04 - val_loss: 9.3274e-07 - val_mse: 9.3274e-07 - val_mae: 7.6242e-04\n",
      "Epoch 473/1000\n",
      "256/256 [==============================] - 0s 205us/sample - loss: 6.7104e-07 - mse: 6.7104e-07 - mae: 5.8054e-04 - val_loss: 6.3182e-07 - val_mse: 6.3182e-07 - val_mae: 5.3521e-04\n",
      "Epoch 474/1000\n",
      "256/256 [==============================] - 0s 192us/sample - loss: 7.1547e-07 - mse: 7.1547e-07 - mae: 6.2034e-04 - val_loss: 6.1628e-07 - val_mse: 6.1628e-07 - val_mae: 5.3074e-04\n",
      "Epoch 475/1000\n",
      "256/256 [==============================] - 0s 193us/sample - loss: 6.0531e-07 - mse: 6.0531e-07 - mae: 5.4241e-04 - val_loss: 6.1144e-07 - val_mse: 6.1144e-07 - val_mae: 5.3471e-04\n",
      "Epoch 476/1000\n",
      "256/256 [==============================] - 0s 195us/sample - loss: 7.4768e-07 - mse: 7.4768e-07 - mae: 6.1424e-04 - val_loss: 7.8066e-07 - val_mse: 7.8066e-07 - val_mae: 6.8721e-04\n"
     ]
    },
    {
     "name": "stdout",
     "output_type": "stream",
     "text": [
      "Epoch 477/1000\n",
      "256/256 [==============================] - 0s 192us/sample - loss: 1.0714e-06 - mse: 1.0714e-06 - mae: 8.1643e-04 - val_loss: 9.7359e-07 - val_mse: 9.7359e-07 - val_mae: 8.1452e-04\n",
      "Epoch 478/1000\n",
      "256/256 [==============================] - 0s 194us/sample - loss: 6.9848e-07 - mse: 6.9848e-07 - mae: 5.8703e-04 - val_loss: 7.4958e-07 - val_mse: 7.4958e-07 - val_mae: 6.1904e-04\n",
      "Epoch 479/1000\n",
      "256/256 [==============================] - 0s 194us/sample - loss: 5.9589e-07 - mse: 5.9589e-07 - mae: 5.4937e-04 - val_loss: 6.0933e-07 - val_mse: 6.0933e-07 - val_mae: 5.4781e-04\n",
      "Epoch 480/1000\n",
      "256/256 [==============================] - 0s 202us/sample - loss: 7.9166e-07 - mse: 7.9166e-07 - mae: 6.2230e-04 - val_loss: 5.9301e-07 - val_mse: 5.9301e-07 - val_mae: 5.2368e-04\n",
      "Epoch 481/1000\n",
      "256/256 [==============================] - 0s 199us/sample - loss: 7.3326e-07 - mse: 7.3326e-07 - mae: 6.1266e-04 - val_loss: 5.8832e-07 - val_mse: 5.8832e-07 - val_mae: 5.2409e-04\n",
      "Epoch 482/1000\n",
      "256/256 [==============================] - 0s 195us/sample - loss: 1.0708e-06 - mse: 1.0708e-06 - mae: 8.1138e-04 - val_loss: 6.1940e-07 - val_mse: 6.1940e-07 - val_mae: 5.4100e-04\n",
      "Epoch 483/1000\n",
      "256/256 [==============================] - 0s 194us/sample - loss: 6.2648e-07 - mse: 6.2648e-07 - mae: 5.5802e-04 - val_loss: 5.8329e-07 - val_mse: 5.8329e-07 - val_mae: 5.2143e-04\n",
      "Epoch 484/1000\n",
      "256/256 [==============================] - 0s 198us/sample - loss: 5.7406e-07 - mse: 5.7406e-07 - mae: 5.1498e-04 - val_loss: 6.1497e-07 - val_mse: 6.1497e-07 - val_mae: 5.5039e-04\n",
      "Epoch 485/1000\n",
      "256/256 [==============================] - 0s 200us/sample - loss: 6.0560e-07 - mse: 6.0560e-07 - mae: 5.6062e-04 - val_loss: 6.1307e-07 - val_mse: 6.1307e-07 - val_mae: 5.3074e-04\n",
      "Epoch 486/1000\n",
      "256/256 [==============================] - 0s 213us/sample - loss: 6.3692e-07 - mse: 6.3692e-07 - mae: 5.4081e-04 - val_loss: 6.5679e-07 - val_mse: 6.5679e-07 - val_mae: 5.5096e-04\n",
      "Epoch 487/1000\n",
      "256/256 [==============================] - 0s 197us/sample - loss: 7.1701e-07 - mse: 7.1701e-07 - mae: 6.2129e-04 - val_loss: 6.5990e-07 - val_mse: 6.5990e-07 - val_mae: 5.7849e-04\n",
      "Epoch 488/1000\n",
      "256/256 [==============================] - 0s 194us/sample - loss: 5.9833e-07 - mse: 5.9833e-07 - mae: 5.5324e-04 - val_loss: 7.0727e-07 - val_mse: 7.0727e-07 - val_mae: 6.4080e-04\n",
      "Epoch 489/1000\n",
      "256/256 [==============================] - 0s 211us/sample - loss: 5.9154e-07 - mse: 5.9154e-07 - mae: 5.4035e-04 - val_loss: 6.6547e-07 - val_mse: 6.6547e-07 - val_mae: 5.8253e-04\n",
      "Epoch 490/1000\n",
      "256/256 [==============================] - 0s 198us/sample - loss: 6.3218e-07 - mse: 6.3218e-07 - mae: 5.4638e-04 - val_loss: 7.4378e-07 - val_mse: 7.4378e-07 - val_mae: 6.4051e-04\n",
      "Epoch 491/1000\n",
      "256/256 [==============================] - 0s 221us/sample - loss: 5.7356e-07 - mse: 5.7356e-07 - mae: 5.4861e-04 - val_loss: 7.3241e-07 - val_mse: 7.3241e-07 - val_mae: 6.0420e-04\n",
      "Epoch 492/1000\n",
      "256/256 [==============================] - 0s 225us/sample - loss: 7.8856e-07 - mse: 7.8856e-07 - mae: 6.7824e-04 - val_loss: 6.2018e-07 - val_mse: 6.2018e-07 - val_mae: 5.6185e-04\n",
      "Epoch 493/1000\n",
      "256/256 [==============================] - 0s 203us/sample - loss: 5.7507e-07 - mse: 5.7507e-07 - mae: 5.2857e-04 - val_loss: 5.7542e-07 - val_mse: 5.7542e-07 - val_mae: 5.1846e-04\n",
      "Epoch 494/1000\n",
      "256/256 [==============================] - 0s 193us/sample - loss: 6.5884e-07 - mse: 6.5884e-07 - mae: 5.8930e-04 - val_loss: 7.2778e-07 - val_mse: 7.2778e-07 - val_mae: 6.7683e-04\n",
      "Epoch 495/1000\n",
      "256/256 [==============================] - 0s 242us/sample - loss: 6.4742e-07 - mse: 6.4742e-07 - mae: 5.6833e-04 - val_loss: 5.6709e-07 - val_mse: 5.6709e-07 - val_mae: 5.1474e-04\n",
      "Epoch 496/1000\n",
      "256/256 [==============================] - 0s 205us/sample - loss: 6.0646e-07 - mse: 6.0646e-07 - mae: 5.5577e-04 - val_loss: 7.3317e-07 - val_mse: 7.3317e-07 - val_mae: 6.6499e-04\n",
      "Epoch 497/1000\n",
      "256/256 [==============================] - 0s 196us/sample - loss: 5.7362e-07 - mse: 5.7362e-07 - mae: 5.2429e-04 - val_loss: 5.9345e-07 - val_mse: 5.9345e-07 - val_mae: 5.3357e-04\n",
      "Epoch 498/1000\n",
      "256/256 [==============================] - 0s 196us/sample - loss: 7.0726e-07 - mse: 7.0726e-07 - mae: 6.2734e-04 - val_loss: 6.3229e-07 - val_mse: 6.3229e-07 - val_mae: 6.0773e-04\n",
      "Epoch 499/1000\n",
      "256/256 [==============================] - 0s 196us/sample - loss: 5.9345e-07 - mse: 5.9345e-07 - mae: 5.6037e-04 - val_loss: 6.4017e-07 - val_mse: 6.4017e-07 - val_mae: 5.4855e-04\n",
      "Epoch 500/1000\n",
      "256/256 [==============================] - 0s 195us/sample - loss: 6.4435e-07 - mse: 6.4435e-07 - mae: 5.8581e-04 - val_loss: 5.7979e-07 - val_mse: 5.7979e-07 - val_mae: 5.2863e-04\n",
      "Epoch 501/1000\n",
      "256/256 [==============================] - 0s 216us/sample - loss: 5.6079e-07 - mse: 5.6079e-07 - mae: 5.1442e-04 - val_loss: 5.4808e-07 - val_mse: 5.4808e-07 - val_mae: 5.0594e-04\n",
      "Epoch 502/1000\n",
      "256/256 [==============================] - 0s 207us/sample - loss: 6.3823e-07 - mse: 6.3823e-07 - mae: 5.8005e-04 - val_loss: 5.6974e-07 - val_mse: 5.6974e-07 - val_mae: 5.1776e-04\n",
      "Epoch 503/1000\n",
      "256/256 [==============================] - 0s 211us/sample - loss: 5.6688e-07 - mse: 5.6688e-07 - mae: 5.2839e-04 - val_loss: 5.5420e-07 - val_mse: 5.5420e-07 - val_mae: 5.1956e-04\n",
      "Epoch 504/1000\n",
      "256/256 [==============================] - 0s 194us/sample - loss: 6.5273e-07 - mse: 6.5273e-07 - mae: 5.5207e-04 - val_loss: 5.4819e-07 - val_mse: 5.4819e-07 - val_mae: 5.1870e-04\n",
      "Epoch 505/1000\n",
      "256/256 [==============================] - 0s 340us/sample - loss: 5.5915e-07 - mse: 5.5915e-07 - mae: 5.4004e-04 - val_loss: 5.7986e-07 - val_mse: 5.7986e-07 - val_mae: 5.3364e-04\n",
      "Epoch 506/1000\n",
      "256/256 [==============================] - 0s 207us/sample - loss: 5.9801e-07 - mse: 5.9801e-07 - mae: 5.4676e-04 - val_loss: 7.1815e-07 - val_mse: 7.1815e-07 - val_mae: 5.8351e-04\n",
      "Epoch 507/1000\n",
      "256/256 [==============================] - 0s 193us/sample - loss: 6.0702e-07 - mse: 6.0702e-07 - mae: 5.6176e-04 - val_loss: 5.4538e-07 - val_mse: 5.4538e-07 - val_mae: 5.2511e-04\n",
      "Epoch 508/1000\n",
      "256/256 [==============================] - 0s 193us/sample - loss: 6.5387e-07 - mse: 6.5387e-07 - mae: 5.8267e-04 - val_loss: 8.2973e-07 - val_mse: 8.2973e-07 - val_mae: 7.2599e-04\n",
      "Epoch 509/1000\n",
      "256/256 [==============================] - 0s 226us/sample - loss: 9.1181e-07 - mse: 9.1181e-07 - mae: 7.4100e-04 - val_loss: 6.9271e-07 - val_mse: 6.9271e-07 - val_mae: 6.5609e-04\n",
      "Epoch 510/1000\n",
      "256/256 [==============================] - 0s 215us/sample - loss: 6.7547e-07 - mse: 6.7547e-07 - mae: 6.0768e-04 - val_loss: 6.3775e-07 - val_mse: 6.3775e-07 - val_mae: 5.5330e-04\n",
      "Epoch 511/1000\n",
      "256/256 [==============================] - 0s 194us/sample - loss: 6.6523e-07 - mse: 6.6523e-07 - mae: 5.9507e-04 - val_loss: 6.4885e-07 - val_mse: 6.4885e-07 - val_mae: 5.7316e-04\n",
      "Epoch 512/1000\n",
      "256/256 [==============================] - 0s 188us/sample - loss: 5.9833e-07 - mse: 5.9833e-07 - mae: 5.4297e-04 - val_loss: 6.3230e-07 - val_mse: 6.3230e-07 - val_mae: 5.5127e-04\n",
      "Epoch 513/1000\n",
      "256/256 [==============================] - 0s 189us/sample - loss: 6.5437e-07 - mse: 6.5437e-07 - mae: 5.7187e-04 - val_loss: 5.9529e-07 - val_mse: 5.9529e-07 - val_mae: 5.7434e-04\n",
      "Epoch 514/1000\n",
      "256/256 [==============================] - 0s 194us/sample - loss: 5.1708e-07 - mse: 5.1708e-07 - mae: 5.1214e-04 - val_loss: 5.2530e-07 - val_mse: 5.2530e-07 - val_mae: 4.9685e-04\n",
      "Epoch 515/1000\n",
      "256/256 [==============================] - 0s 192us/sample - loss: 4.9733e-07 - mse: 4.9733e-07 - mae: 4.8258e-04 - val_loss: 5.5132e-07 - val_mse: 5.5132e-07 - val_mae: 5.1296e-04\n",
      "Epoch 516/1000\n",
      "256/256 [==============================] - 0s 195us/sample - loss: 5.4277e-07 - mse: 5.4277e-07 - mae: 5.2254e-04 - val_loss: 5.1734e-07 - val_mse: 5.1734e-07 - val_mae: 4.9454e-04\n",
      "Epoch 517/1000\n",
      "256/256 [==============================] - 0s 194us/sample - loss: 6.0466e-07 - mse: 6.0466e-07 - mae: 5.5532e-04 - val_loss: 5.4091e-07 - val_mse: 5.4091e-07 - val_mae: 5.0493e-04\n",
      "Epoch 518/1000\n",
      "256/256 [==============================] - 0s 190us/sample - loss: 5.0934e-07 - mse: 5.0934e-07 - mae: 4.9265e-04 - val_loss: 6.2205e-07 - val_mse: 6.2205e-07 - val_mae: 5.7133e-04\n"
     ]
    },
    {
     "name": "stdout",
     "output_type": "stream",
     "text": [
      "Epoch 519/1000\n",
      "256/256 [==============================] - 0s 197us/sample - loss: 6.0656e-07 - mse: 6.0656e-07 - mae: 5.5962e-04 - val_loss: 5.5980e-07 - val_mse: 5.5980e-07 - val_mae: 5.5900e-04\n",
      "Epoch 520/1000\n",
      "256/256 [==============================] - 0s 199us/sample - loss: 5.7374e-07 - mse: 5.7374e-07 - mae: 5.5563e-04 - val_loss: 5.1585e-07 - val_mse: 5.1585e-07 - val_mae: 5.0685e-04\n",
      "Epoch 521/1000\n",
      "256/256 [==============================] - 0s 201us/sample - loss: 5.5041e-07 - mse: 5.5041e-07 - mae: 5.3160e-04 - val_loss: 6.3498e-07 - val_mse: 6.3498e-07 - val_mae: 6.2708e-04\n",
      "Epoch 522/1000\n",
      "256/256 [==============================] - 0s 194us/sample - loss: 4.9659e-07 - mse: 4.9659e-07 - mae: 4.9185e-04 - val_loss: 5.1195e-07 - val_mse: 5.1195e-07 - val_mae: 4.9083e-04\n",
      "Epoch 523/1000\n",
      "256/256 [==============================] - 0s 189us/sample - loss: 4.9861e-07 - mse: 4.9861e-07 - mae: 5.0090e-04 - val_loss: 5.2887e-07 - val_mse: 5.2887e-07 - val_mae: 5.0299e-04\n",
      "Epoch 524/1000\n",
      "256/256 [==============================] - 0s 197us/sample - loss: 5.1587e-07 - mse: 5.1587e-07 - mae: 5.0357e-04 - val_loss: 6.2708e-07 - val_mse: 6.2708e-07 - val_mae: 5.4975e-04\n",
      "Epoch 525/1000\n",
      "256/256 [==============================] - 0s 192us/sample - loss: 6.2970e-07 - mse: 6.2970e-07 - mae: 5.5750e-04 - val_loss: 4.9945e-07 - val_mse: 4.9945e-07 - val_mae: 4.8656e-04\n",
      "Epoch 526/1000\n",
      "256/256 [==============================] - 0s 192us/sample - loss: 4.8979e-07 - mse: 4.8979e-07 - mae: 4.8636e-04 - val_loss: 5.2627e-07 - val_mse: 5.2627e-07 - val_mae: 5.0165e-04\n",
      "Epoch 527/1000\n",
      "256/256 [==============================] - 0s 189us/sample - loss: 5.2454e-07 - mse: 5.2454e-07 - mae: 4.9461e-04 - val_loss: 5.0624e-07 - val_mse: 5.0624e-07 - val_mae: 5.0531e-04\n",
      "Epoch 528/1000\n",
      "256/256 [==============================] - 0s 194us/sample - loss: 5.2793e-07 - mse: 5.2793e-07 - mae: 5.1690e-04 - val_loss: 4.9152e-07 - val_mse: 4.9152e-07 - val_mae: 4.8494e-04\n",
      "Epoch 529/1000\n",
      "256/256 [==============================] - 0s 213us/sample - loss: 5.5964e-07 - mse: 5.5964e-07 - mae: 5.5936e-04 - val_loss: 5.6634e-07 - val_mse: 5.6634e-07 - val_mae: 5.1005e-04\n",
      "Epoch 530/1000\n",
      "256/256 [==============================] - 0s 191us/sample - loss: 5.2837e-07 - mse: 5.2837e-07 - mae: 5.0225e-04 - val_loss: 5.9379e-07 - val_mse: 5.9379e-07 - val_mae: 5.2284e-04\n",
      "Epoch 531/1000\n",
      "256/256 [==============================] - 0s 192us/sample - loss: 5.7343e-07 - mse: 5.7343e-07 - mae: 5.2554e-04 - val_loss: 5.4396e-07 - val_mse: 5.4396e-07 - val_mae: 5.2647e-04\n",
      "Epoch 532/1000\n",
      "256/256 [==============================] - 0s 189us/sample - loss: 5.4159e-07 - mse: 5.4159e-07 - mae: 5.3583e-04 - val_loss: 5.2513e-07 - val_mse: 5.2513e-07 - val_mae: 5.3729e-04\n",
      "Epoch 533/1000\n",
      "256/256 [==============================] - 0s 193us/sample - loss: 7.2430e-07 - mse: 7.2430e-07 - mae: 6.3307e-04 - val_loss: 5.0083e-07 - val_mse: 5.0083e-07 - val_mae: 5.0579e-04\n",
      "Epoch 534/1000\n",
      "256/256 [==============================] - 0s 192us/sample - loss: 4.7913e-07 - mse: 4.7913e-07 - mae: 4.9638e-04 - val_loss: 4.8710e-07 - val_mse: 4.8710e-07 - val_mae: 4.8886e-04\n",
      "Epoch 535/1000\n",
      "256/256 [==============================] - 0s 197us/sample - loss: 5.4788e-07 - mse: 5.4788e-07 - mae: 5.1870e-04 - val_loss: 1.1114e-06 - val_mse: 1.1114e-06 - val_mae: 8.4314e-04\n",
      "Epoch 536/1000\n",
      "256/256 [==============================] - 0s 195us/sample - loss: 1.1303e-06 - mse: 1.1303e-06 - mae: 8.8267e-04 - val_loss: 5.6859e-07 - val_mse: 5.6859e-07 - val_mae: 5.2701e-04\n",
      "Epoch 537/1000\n",
      "256/256 [==============================] - 0s 202us/sample - loss: 4.9929e-07 - mse: 4.9929e-07 - mae: 5.1134e-04 - val_loss: 5.1345e-07 - val_mse: 5.1345e-07 - val_mae: 4.8677e-04\n",
      "Epoch 538/1000\n",
      "256/256 [==============================] - 0s 197us/sample - loss: 4.8982e-07 - mse: 4.8982e-07 - mae: 4.9150e-04 - val_loss: 5.0064e-07 - val_mse: 5.0064e-07 - val_mae: 4.8627e-04\n",
      "Epoch 539/1000\n",
      "256/256 [==============================] - 0s 190us/sample - loss: 5.3402e-07 - mse: 5.3402e-07 - mae: 4.9818e-04 - val_loss: 4.9029e-07 - val_mse: 4.9029e-07 - val_mae: 4.8492e-04\n",
      "Epoch 540/1000\n",
      "256/256 [==============================] - 0s 194us/sample - loss: 5.6263e-07 - mse: 5.6263e-07 - mae: 5.4999e-04 - val_loss: 4.9147e-07 - val_mse: 4.9147e-07 - val_mae: 4.8883e-04\n",
      "Epoch 541/1000\n",
      "256/256 [==============================] - 0s 210us/sample - loss: 5.1588e-07 - mse: 5.1588e-07 - mae: 5.1089e-04 - val_loss: 5.1881e-07 - val_mse: 5.1881e-07 - val_mae: 5.1809e-04\n",
      "Epoch 542/1000\n",
      "256/256 [==============================] - 0s 259us/sample - loss: 4.9853e-07 - mse: 4.9853e-07 - mae: 5.1390e-04 - val_loss: 4.8233e-07 - val_mse: 4.8233e-07 - val_mae: 4.8263e-04\n",
      "Epoch 543/1000\n",
      "256/256 [==============================] - 0s 196us/sample - loss: 4.8138e-07 - mse: 4.8138e-07 - mae: 4.9014e-04 - val_loss: 5.6113e-07 - val_mse: 5.6113e-07 - val_mae: 5.1141e-04\n",
      "Epoch 544/1000\n",
      "256/256 [==============================] - 0s 187us/sample - loss: 5.7685e-07 - mse: 5.7685e-07 - mae: 5.3111e-04 - val_loss: 4.7476e-07 - val_mse: 4.7476e-07 - val_mae: 4.8003e-04\n",
      "Epoch 545/1000\n",
      "256/256 [==============================] - 0s 186us/sample - loss: 5.1530e-07 - mse: 5.1530e-07 - mae: 5.1326e-04 - val_loss: 4.8416e-07 - val_mse: 4.8416e-07 - val_mae: 4.8139e-04\n",
      "Epoch 546/1000\n",
      "256/256 [==============================] - 0s 190us/sample - loss: 4.9522e-07 - mse: 4.9522e-07 - mae: 5.1480e-04 - val_loss: 4.8155e-07 - val_mse: 4.8155e-07 - val_mae: 4.8786e-04\n",
      "Epoch 547/1000\n",
      "256/256 [==============================] - 0s 187us/sample - loss: 5.2456e-07 - mse: 5.2456e-07 - mae: 5.2312e-04 - val_loss: 5.7979e-07 - val_mse: 5.7979e-07 - val_mae: 5.8829e-04\n",
      "Epoch 548/1000\n",
      "256/256 [==============================] - 0s 223us/sample - loss: 5.0519e-07 - mse: 5.0519e-07 - mae: 5.2221e-04 - val_loss: 4.7400e-07 - val_mse: 4.7400e-07 - val_mae: 4.8229e-04\n",
      "Epoch 549/1000\n",
      "256/256 [==============================] - 0s 196us/sample - loss: 5.0949e-07 - mse: 5.0949e-07 - mae: 5.2564e-04 - val_loss: 5.0328e-07 - val_mse: 5.0328e-07 - val_mae: 4.9949e-04\n",
      "Epoch 550/1000\n",
      "256/256 [==============================] - 0s 190us/sample - loss: 4.9452e-07 - mse: 4.9452e-07 - mae: 4.8437e-04 - val_loss: 4.8139e-07 - val_mse: 4.8139e-07 - val_mae: 5.0006e-04\n",
      "Epoch 551/1000\n",
      "256/256 [==============================] - 0s 187us/sample - loss: 5.2035e-07 - mse: 5.2035e-07 - mae: 5.0764e-04 - val_loss: 6.1217e-07 - val_mse: 6.1217e-07 - val_mae: 6.0728e-04\n",
      "Epoch 552/1000\n",
      "256/256 [==============================] - 0s 186us/sample - loss: 5.1351e-07 - mse: 5.1351e-07 - mae: 5.2734e-04 - val_loss: 5.5359e-07 - val_mse: 5.5359e-07 - val_mae: 5.2693e-04\n",
      "Epoch 553/1000\n",
      "256/256 [==============================] - 0s 189us/sample - loss: 5.6733e-07 - mse: 5.6733e-07 - mae: 5.5838e-04 - val_loss: 6.5250e-07 - val_mse: 6.5250e-07 - val_mae: 5.5521e-04\n",
      "Epoch 554/1000\n",
      "256/256 [==============================] - 0s 185us/sample - loss: 4.9968e-07 - mse: 4.9968e-07 - mae: 4.9369e-04 - val_loss: 4.6668e-07 - val_mse: 4.6668e-07 - val_mae: 4.7523e-04\n",
      "Epoch 555/1000\n",
      "256/256 [==============================] - 0s 185us/sample - loss: 5.0787e-07 - mse: 5.0787e-07 - mae: 5.1393e-04 - val_loss: 4.6485e-07 - val_mse: 4.6485e-07 - val_mae: 4.8795e-04\n",
      "Epoch 556/1000\n",
      "256/256 [==============================] - 0s 185us/sample - loss: 4.5172e-07 - mse: 4.5172e-07 - mae: 4.8038e-04 - val_loss: 5.2873e-07 - val_mse: 5.2873e-07 - val_mae: 5.2090e-04\n",
      "Epoch 557/1000\n",
      "256/256 [==============================] - 0s 182us/sample - loss: 4.5472e-07 - mse: 4.5472e-07 - mae: 4.7221e-04 - val_loss: 6.1803e-07 - val_mse: 6.1803e-07 - val_mae: 5.9753e-04\n",
      "Epoch 558/1000\n",
      "256/256 [==============================] - 0s 206us/sample - loss: 6.3103e-07 - mse: 6.3103e-07 - mae: 5.7029e-04 - val_loss: 4.7007e-07 - val_mse: 4.7007e-07 - val_mae: 4.8820e-04\n",
      "Epoch 559/1000\n",
      "256/256 [==============================] - 0s 186us/sample - loss: 5.7013e-07 - mse: 5.7013e-07 - mae: 5.3801e-04 - val_loss: 4.5052e-07 - val_mse: 4.5052e-07 - val_mae: 4.7257e-04\n",
      "Epoch 560/1000\n",
      "256/256 [==============================] - 0s 187us/sample - loss: 4.7905e-07 - mse: 4.7905e-07 - mae: 4.8166e-04 - val_loss: 5.6217e-07 - val_mse: 5.6217e-07 - val_mae: 5.3418e-04\n"
     ]
    },
    {
     "name": "stdout",
     "output_type": "stream",
     "text": [
      "Epoch 561/1000\n",
      "256/256 [==============================] - 0s 190us/sample - loss: 5.0133e-07 - mse: 5.0133e-07 - mae: 5.0314e-04 - val_loss: 4.7668e-07 - val_mse: 4.7668e-07 - val_mae: 4.8767e-04\n",
      "Epoch 562/1000\n",
      "256/256 [==============================] - 0s 194us/sample - loss: 4.5481e-07 - mse: 4.5481e-07 - mae: 4.8147e-04 - val_loss: 4.5552e-07 - val_mse: 4.5552e-07 - val_mae: 4.7105e-04\n",
      "Epoch 563/1000\n",
      "256/256 [==============================] - 0s 202us/sample - loss: 4.5777e-07 - mse: 4.5776e-07 - mae: 4.8284e-04 - val_loss: 5.0865e-07 - val_mse: 5.0865e-07 - val_mae: 4.8722e-04\n",
      "Epoch 564/1000\n",
      "256/256 [==============================] - 0s 189us/sample - loss: 5.0738e-07 - mse: 5.0738e-07 - mae: 5.0407e-04 - val_loss: 5.0153e-07 - val_mse: 5.0153e-07 - val_mae: 5.1085e-04\n",
      "Epoch 565/1000\n",
      "256/256 [==============================] - 0s 193us/sample - loss: 5.6971e-07 - mse: 5.6971e-07 - mae: 5.2249e-04 - val_loss: 8.7736e-07 - val_mse: 8.7736e-07 - val_mae: 7.4168e-04\n",
      "Epoch 566/1000\n",
      "256/256 [==============================] - 0s 245us/sample - loss: 5.5180e-07 - mse: 5.5180e-07 - mae: 5.4560e-04 - val_loss: 4.5932e-07 - val_mse: 4.5932e-07 - val_mae: 4.7991e-04\n",
      "Epoch 567/1000\n",
      "256/256 [==============================] - 0s 185us/sample - loss: 4.4976e-07 - mse: 4.4976e-07 - mae: 4.8828e-04 - val_loss: 4.8200e-07 - val_mse: 4.8200e-07 - val_mae: 4.8327e-04\n",
      "Epoch 568/1000\n",
      "256/256 [==============================] - 0s 239us/sample - loss: 4.4513e-07 - mse: 4.4513e-07 - mae: 4.7480e-04 - val_loss: 4.8409e-07 - val_mse: 4.8409e-07 - val_mae: 4.7994e-04\n",
      "Epoch 569/1000\n",
      "256/256 [==============================] - 0s 197us/sample - loss: 4.9856e-07 - mse: 4.9856e-07 - mae: 5.0209e-04 - val_loss: 6.5313e-07 - val_mse: 6.5313e-07 - val_mae: 5.4798e-04\n",
      "Epoch 570/1000\n",
      "256/256 [==============================] - 0s 197us/sample - loss: 5.2000e-07 - mse: 5.2000e-07 - mae: 5.0653e-04 - val_loss: 4.4091e-07 - val_mse: 4.4091e-07 - val_mae: 4.6836e-04\n",
      "Epoch 571/1000\n",
      "256/256 [==============================] - 0s 185us/sample - loss: 4.5749e-07 - mse: 4.5749e-07 - mae: 4.7548e-04 - val_loss: 4.4718e-07 - val_mse: 4.4718e-07 - val_mae: 4.7285e-04\n",
      "Epoch 572/1000\n",
      "256/256 [==============================] - 0s 187us/sample - loss: 5.3709e-07 - mse: 5.3709e-07 - mae: 5.1064e-04 - val_loss: 5.2584e-07 - val_mse: 5.2584e-07 - val_mae: 5.4956e-04\n",
      "Epoch 573/1000\n",
      "256/256 [==============================] - 0s 191us/sample - loss: 4.3368e-07 - mse: 4.3368e-07 - mae: 4.8064e-04 - val_loss: 4.6238e-07 - val_mse: 4.6238e-07 - val_mae: 4.8719e-04\n",
      "Epoch 574/1000\n",
      "256/256 [==============================] - 0s 184us/sample - loss: 4.3482e-07 - mse: 4.3482e-07 - mae: 4.5974e-04 - val_loss: 4.3602e-07 - val_mse: 4.3602e-07 - val_mae: 4.7150e-04\n",
      "Epoch 575/1000\n",
      "256/256 [==============================] - 0s 184us/sample - loss: 4.4529e-07 - mse: 4.4529e-07 - mae: 4.7318e-04 - val_loss: 5.0366e-07 - val_mse: 5.0366e-07 - val_mae: 5.0571e-04\n",
      "Epoch 576/1000\n",
      "256/256 [==============================] - 0s 189us/sample - loss: 5.1185e-07 - mse: 5.1185e-07 - mae: 5.2371e-04 - val_loss: 4.5669e-07 - val_mse: 4.5669e-07 - val_mae: 4.8517e-04\n",
      "Epoch 577/1000\n",
      "256/256 [==============================] - 0s 185us/sample - loss: 4.5105e-07 - mse: 4.5105e-07 - mae: 4.8066e-04 - val_loss: 5.2386e-07 - val_mse: 5.2386e-07 - val_mae: 5.6856e-04\n",
      "Epoch 578/1000\n",
      "256/256 [==============================] - 0s 183us/sample - loss: 5.4471e-07 - mse: 5.4471e-07 - mae: 5.2450e-04 - val_loss: 4.3620e-07 - val_mse: 4.3620e-07 - val_mae: 4.7427e-04\n",
      "Epoch 579/1000\n",
      "256/256 [==============================] - 0s 183us/sample - loss: 4.4586e-07 - mse: 4.4586e-07 - mae: 4.7458e-04 - val_loss: 4.7730e-07 - val_mse: 4.7730e-07 - val_mae: 5.0219e-04\n",
      "Epoch 580/1000\n",
      "256/256 [==============================] - 0s 185us/sample - loss: 4.3835e-07 - mse: 4.3835e-07 - mae: 4.7701e-04 - val_loss: 4.7750e-07 - val_mse: 4.7750e-07 - val_mae: 5.0280e-04\n",
      "Epoch 581/1000\n",
      "256/256 [==============================] - 0s 186us/sample - loss: 4.7798e-07 - mse: 4.7798e-07 - mae: 5.0851e-04 - val_loss: 4.4299e-07 - val_mse: 4.4299e-07 - val_mae: 4.7415e-04\n",
      "Epoch 582/1000\n",
      "256/256 [==============================] - 0s 182us/sample - loss: 4.1630e-07 - mse: 4.1630e-07 - mae: 4.6263e-04 - val_loss: 4.5128e-07 - val_mse: 4.5128e-07 - val_mae: 4.8434e-04\n",
      "Epoch 583/1000\n",
      "256/256 [==============================] - 0s 200us/sample - loss: 5.8832e-07 - mse: 5.8832e-07 - mae: 5.7347e-04 - val_loss: 4.4103e-07 - val_mse: 4.4103e-07 - val_mae: 4.7459e-04\n",
      "Epoch 584/1000\n",
      "256/256 [==============================] - 0s 185us/sample - loss: 4.7842e-07 - mse: 4.7842e-07 - mae: 4.9518e-04 - val_loss: 4.4471e-07 - val_mse: 4.4471e-07 - val_mae: 4.6754e-04\n",
      "Epoch 585/1000\n",
      "256/256 [==============================] - 0s 191us/sample - loss: 4.8265e-07 - mse: 4.8265e-07 - mae: 5.0418e-04 - val_loss: 4.6577e-07 - val_mse: 4.6577e-07 - val_mae: 4.7495e-04\n",
      "Epoch 586/1000\n",
      "256/256 [==============================] - 0s 192us/sample - loss: 4.2588e-07 - mse: 4.2588e-07 - mae: 4.7248e-04 - val_loss: 4.3611e-07 - val_mse: 4.3611e-07 - val_mae: 4.7654e-04\n",
      "Epoch 587/1000\n",
      "256/256 [==============================] - 0s 189us/sample - loss: 4.7574e-07 - mse: 4.7574e-07 - mae: 4.9752e-04 - val_loss: 5.8070e-07 - val_mse: 5.8070e-07 - val_mae: 5.4560e-04\n",
      "Epoch 588/1000\n",
      "256/256 [==============================] - 0s 215us/sample - loss: 4.5705e-07 - mse: 4.5705e-07 - mae: 5.0190e-04 - val_loss: 4.4481e-07 - val_mse: 4.4481e-07 - val_mae: 4.9076e-04\n",
      "Epoch 589/1000\n",
      "256/256 [==============================] - 0s 187us/sample - loss: 6.0799e-07 - mse: 6.0799e-07 - mae: 5.7523e-04 - val_loss: 4.5070e-07 - val_mse: 4.5070e-07 - val_mae: 4.8499e-04\n",
      "Epoch 590/1000\n",
      "256/256 [==============================] - 0s 190us/sample - loss: 6.7568e-07 - mse: 6.7568e-07 - mae: 6.1401e-04 - val_loss: 5.1828e-07 - val_mse: 5.1828e-07 - val_mae: 5.6650e-04\n",
      "Epoch 591/1000\n",
      "256/256 [==============================] - 0s 187us/sample - loss: 4.4385e-07 - mse: 4.4385e-07 - mae: 4.8645e-04 - val_loss: 4.5974e-07 - val_mse: 4.5974e-07 - val_mae: 4.7316e-04\n",
      "Epoch 592/1000\n",
      "256/256 [==============================] - 0s 185us/sample - loss: 4.1157e-07 - mse: 4.1157e-07 - mae: 4.6752e-04 - val_loss: 4.5472e-07 - val_mse: 4.5472e-07 - val_mae: 4.7067e-04\n",
      "Epoch 593/1000\n",
      "256/256 [==============================] - 0s 183us/sample - loss: 6.1089e-07 - mse: 6.1089e-07 - mae: 5.6230e-04 - val_loss: 5.3891e-07 - val_mse: 5.3891e-07 - val_mae: 5.3798e-04\n",
      "Epoch 594/1000\n",
      "256/256 [==============================] - 0s 184us/sample - loss: 4.8615e-07 - mse: 4.8615e-07 - mae: 5.0592e-04 - val_loss: 4.9705e-07 - val_mse: 4.9705e-07 - val_mae: 5.3320e-04\n",
      "Epoch 595/1000\n",
      "256/256 [==============================] - 0s 185us/sample - loss: 4.4737e-07 - mse: 4.4737e-07 - mae: 4.8935e-04 - val_loss: 5.1797e-07 - val_mse: 5.1797e-07 - val_mae: 5.2811e-04\n",
      "Epoch 596/1000\n",
      "256/256 [==============================] - 0s 188us/sample - loss: 4.4724e-07 - mse: 4.4724e-07 - mae: 4.6779e-04 - val_loss: 4.6377e-07 - val_mse: 4.6377e-07 - val_mae: 5.1589e-04\n",
      "Epoch 597/1000\n",
      "256/256 [==============================] - 0s 192us/sample - loss: 5.3280e-07 - mse: 5.3280e-07 - mae: 5.6853e-04 - val_loss: 5.1051e-07 - val_mse: 5.1051e-07 - val_mae: 4.9906e-04\n",
      "Epoch 598/1000\n",
      "256/256 [==============================] - 0s 188us/sample - loss: 5.0819e-07 - mse: 5.0819e-07 - mae: 5.2310e-04 - val_loss: 4.2230e-07 - val_mse: 4.2230e-07 - val_mae: 4.6184e-04\n",
      "Epoch 599/1000\n",
      "256/256 [==============================] - 0s 186us/sample - loss: 5.0882e-07 - mse: 5.0882e-07 - mae: 5.1901e-04 - val_loss: 6.2309e-07 - val_mse: 6.2309e-07 - val_mae: 5.6084e-04\n",
      "Epoch 600/1000\n",
      "256/256 [==============================] - 0s 185us/sample - loss: 5.1123e-07 - mse: 5.1123e-07 - mae: 4.9976e-04 - val_loss: 4.7898e-07 - val_mse: 4.7898e-07 - val_mae: 5.2464e-04\n",
      "Epoch 601/1000\n",
      "256/256 [==============================] - 0s 184us/sample - loss: 4.7857e-07 - mse: 4.7857e-07 - mae: 5.2546e-04 - val_loss: 5.1564e-07 - val_mse: 5.1564e-07 - val_mae: 4.9037e-04\n",
      "Epoch 602/1000\n",
      "256/256 [==============================] - 0s 186us/sample - loss: 4.1158e-07 - mse: 4.1158e-07 - mae: 4.6715e-04 - val_loss: 4.2797e-07 - val_mse: 4.2797e-07 - val_mae: 4.6823e-04\n"
     ]
    },
    {
     "name": "stdout",
     "output_type": "stream",
     "text": [
      "Epoch 603/1000\n",
      "256/256 [==============================] - 0s 186us/sample - loss: 4.4037e-07 - mse: 4.4037e-07 - mae: 4.8108e-04 - val_loss: 4.7591e-07 - val_mse: 4.7591e-07 - val_mae: 4.8644e-04\n",
      "Epoch 604/1000\n",
      "256/256 [==============================] - 0s 184us/sample - loss: 4.3034e-07 - mse: 4.3034e-07 - mae: 4.9064e-04 - val_loss: 5.9481e-07 - val_mse: 5.9481e-07 - val_mae: 5.7967e-04\n",
      "Epoch 605/1000\n",
      "256/256 [==============================] - 0s 193us/sample - loss: 4.5464e-07 - mse: 4.5464e-07 - mae: 4.8400e-04 - val_loss: 4.3256e-07 - val_mse: 4.3256e-07 - val_mae: 4.6646e-04\n",
      "Epoch 606/1000\n",
      "256/256 [==============================] - 0s 189us/sample - loss: 4.7463e-07 - mse: 4.7463e-07 - mae: 4.9439e-04 - val_loss: 4.3134e-07 - val_mse: 4.3134e-07 - val_mae: 4.7923e-04\n",
      "Epoch 607/1000\n",
      "256/256 [==============================] - 0s 188us/sample - loss: 3.9533e-07 - mse: 3.9533e-07 - mae: 4.5917e-04 - val_loss: 4.7726e-07 - val_mse: 4.7726e-07 - val_mae: 4.7917e-04\n",
      "Epoch 608/1000\n",
      "256/256 [==============================] - 0s 189us/sample - loss: 4.3588e-07 - mse: 4.3588e-07 - mae: 4.7946e-04 - val_loss: 6.8669e-07 - val_mse: 6.8669e-07 - val_mae: 6.2801e-04\n",
      "Epoch 609/1000\n",
      "256/256 [==============================] - 0s 207us/sample - loss: 4.5212e-07 - mse: 4.5212e-07 - mae: 5.0433e-04 - val_loss: 4.2915e-07 - val_mse: 4.2915e-07 - val_mae: 4.7041e-04\n",
      "Epoch 610/1000\n",
      "256/256 [==============================] - 0s 186us/sample - loss: 4.5528e-07 - mse: 4.5528e-07 - mae: 4.8624e-04 - val_loss: 4.3212e-07 - val_mse: 4.3212e-07 - val_mae: 4.7729e-04\n",
      "Epoch 611/1000\n",
      "256/256 [==============================] - 0s 186us/sample - loss: 4.3602e-07 - mse: 4.3602e-07 - mae: 4.7928e-04 - val_loss: 4.0624e-07 - val_mse: 4.0624e-07 - val_mae: 4.6290e-04\n",
      "Epoch 612/1000\n",
      "256/256 [==============================] - 0s 183us/sample - loss: 4.7925e-07 - mse: 4.7925e-07 - mae: 5.2154e-04 - val_loss: 4.2437e-07 - val_mse: 4.2437e-07 - val_mae: 4.7986e-04\n",
      "Epoch 613/1000\n",
      "256/256 [==============================] - 0s 186us/sample - loss: 3.9024e-07 - mse: 3.9024e-07 - mae: 4.5057e-04 - val_loss: 4.3071e-07 - val_mse: 4.3071e-07 - val_mae: 4.7087e-04\n",
      "Epoch 614/1000\n",
      "256/256 [==============================] - 0s 231us/sample - loss: 4.1792e-07 - mse: 4.1792e-07 - mae: 4.7513e-04 - val_loss: 4.7432e-07 - val_mse: 4.7432e-07 - val_mae: 5.1472e-04\n",
      "Epoch 615/1000\n",
      "256/256 [==============================] - 0s 188us/sample - loss: 4.0249e-07 - mse: 4.0249e-07 - mae: 4.6571e-04 - val_loss: 4.4726e-07 - val_mse: 4.4726e-07 - val_mae: 4.7262e-04\n",
      "Epoch 616/1000\n",
      "256/256 [==============================] - 0s 191us/sample - loss: 4.5717e-07 - mse: 4.5717e-07 - mae: 4.8906e-04 - val_loss: 4.2893e-07 - val_mse: 4.2893e-07 - val_mae: 4.7379e-04\n",
      "Epoch 617/1000\n",
      "256/256 [==============================] - 0s 189us/sample - loss: 4.1955e-07 - mse: 4.1955e-07 - mae: 4.7319e-04 - val_loss: 4.4053e-07 - val_mse: 4.4053e-07 - val_mae: 4.8654e-04\n",
      "Epoch 618/1000\n",
      "256/256 [==============================] - 0s 186us/sample - loss: 5.2034e-07 - mse: 5.2034e-07 - mae: 5.2984e-04 - val_loss: 5.8210e-07 - val_mse: 5.8210e-07 - val_mae: 5.5475e-04\n",
      "Epoch 619/1000\n",
      "256/256 [==============================] - 0s 187us/sample - loss: 4.1011e-07 - mse: 4.1011e-07 - mae: 4.6723e-04 - val_loss: 5.0495e-07 - val_mse: 5.0495e-07 - val_mae: 5.0316e-04\n",
      "Epoch 620/1000\n",
      "256/256 [==============================] - 0s 183us/sample - loss: 4.1094e-07 - mse: 4.1094e-07 - mae: 4.6431e-04 - val_loss: 4.4221e-07 - val_mse: 4.4221e-07 - val_mae: 4.8079e-04\n",
      "Epoch 621/1000\n",
      "256/256 [==============================] - 0s 184us/sample - loss: 4.1372e-07 - mse: 4.1372e-07 - mae: 4.7058e-04 - val_loss: 4.1537e-07 - val_mse: 4.1537e-07 - val_mae: 4.6229e-04\n",
      "Epoch 622/1000\n",
      "256/256 [==============================] - 0s 186us/sample - loss: 4.3704e-07 - mse: 4.3704e-07 - mae: 4.9220e-04 - val_loss: 4.0178e-07 - val_mse: 4.0178e-07 - val_mae: 4.6419e-04\n",
      "Epoch 623/1000\n",
      "256/256 [==============================] - 0s 188us/sample - loss: 3.9942e-07 - mse: 3.9942e-07 - mae: 4.5741e-04 - val_loss: 4.3415e-07 - val_mse: 4.3415e-07 - val_mae: 4.9025e-04\n",
      "Epoch 624/1000\n",
      "256/256 [==============================] - 0s 189us/sample - loss: 4.3664e-07 - mse: 4.3664e-07 - mae: 4.8302e-04 - val_loss: 4.6078e-07 - val_mse: 4.6078e-07 - val_mae: 5.1210e-04\n",
      "Epoch 625/1000\n",
      "256/256 [==============================] - 0s 184us/sample - loss: 4.1304e-07 - mse: 4.1304e-07 - mae: 4.7693e-04 - val_loss: 4.0371e-07 - val_mse: 4.0371e-07 - val_mae: 4.6360e-04\n",
      "Epoch 626/1000\n",
      "256/256 [==============================] - 0s 194us/sample - loss: 4.3375e-07 - mse: 4.3375e-07 - mae: 4.9707e-04 - val_loss: 4.0381e-07 - val_mse: 4.0381e-07 - val_mae: 4.6192e-04\n",
      "Epoch 627/1000\n",
      "256/256 [==============================] - 0s 192us/sample - loss: 4.1688e-07 - mse: 4.1688e-07 - mae: 4.7485e-04 - val_loss: 3.9883e-07 - val_mse: 3.9883e-07 - val_mae: 4.6045e-04\n",
      "Epoch 628/1000\n",
      "256/256 [==============================] - 0s 194us/sample - loss: 4.1419e-07 - mse: 4.1419e-07 - mae: 4.7009e-04 - val_loss: 4.3460e-07 - val_mse: 4.3460e-07 - val_mae: 4.9571e-04\n",
      "Epoch 629/1000\n",
      "256/256 [==============================] - 0s 248us/sample - loss: 4.5896e-07 - mse: 4.5896e-07 - mae: 4.8897e-04 - val_loss: 5.2972e-07 - val_mse: 5.2972e-07 - val_mae: 5.4933e-04\n",
      "Epoch 630/1000\n",
      "256/256 [==============================] - 0s 205us/sample - loss: 4.2550e-07 - mse: 4.2550e-07 - mae: 4.6710e-04 - val_loss: 6.3597e-07 - val_mse: 6.3597e-07 - val_mae: 6.1662e-04\n",
      "Epoch 631/1000\n",
      "256/256 [==============================] - 0s 193us/sample - loss: 4.3261e-07 - mse: 4.3261e-07 - mae: 4.8078e-04 - val_loss: 4.8516e-07 - val_mse: 4.8516e-07 - val_mae: 4.8973e-04\n",
      "Epoch 632/1000\n",
      "256/256 [==============================] - 0s 187us/sample - loss: 4.0473e-07 - mse: 4.0473e-07 - mae: 4.6639e-04 - val_loss: 4.0537e-07 - val_mse: 4.0537e-07 - val_mae: 4.7164e-04\n",
      "Epoch 633/1000\n",
      "256/256 [==============================] - 0s 199us/sample - loss: 3.8929e-07 - mse: 3.8929e-07 - mae: 4.6179e-04 - val_loss: 4.2592e-07 - val_mse: 4.2592e-07 - val_mae: 4.6644e-04\n",
      "Epoch 634/1000\n",
      "256/256 [==============================] - 0s 191us/sample - loss: 4.0294e-07 - mse: 4.0294e-07 - mae: 4.7119e-04 - val_loss: 4.2029e-07 - val_mse: 4.2029e-07 - val_mae: 4.7708e-04\n",
      "Epoch 635/1000\n",
      "256/256 [==============================] - 0s 186us/sample - loss: 4.0996e-07 - mse: 4.0996e-07 - mae: 4.7539e-04 - val_loss: 3.9499e-07 - val_mse: 3.9499e-07 - val_mae: 4.5794e-04\n",
      "Epoch 636/1000\n",
      "256/256 [==============================] - 0s 279us/sample - loss: 4.4564e-07 - mse: 4.4564e-07 - mae: 4.8216e-04 - val_loss: 6.6277e-07 - val_mse: 6.6277e-07 - val_mae: 5.5614e-04\n",
      "Epoch 637/1000\n",
      "256/256 [==============================] - 0s 210us/sample - loss: 6.1102e-07 - mse: 6.1102e-07 - mae: 5.9291e-04 - val_loss: 4.5668e-07 - val_mse: 4.5668e-07 - val_mae: 4.7273e-04\n",
      "Epoch 638/1000\n",
      "256/256 [==============================] - 0s 185us/sample - loss: 4.8069e-07 - mse: 4.8069e-07 - mae: 4.9274e-04 - val_loss: 4.3941e-07 - val_mse: 4.3941e-07 - val_mae: 4.8285e-04\n",
      "Epoch 639/1000\n",
      "256/256 [==============================] - 0s 185us/sample - loss: 4.0271e-07 - mse: 4.0271e-07 - mae: 4.6838e-04 - val_loss: 5.3999e-07 - val_mse: 5.3999e-07 - val_mae: 5.5403e-04\n",
      "Epoch 640/1000\n",
      "256/256 [==============================] - 0s 181us/sample - loss: 5.5010e-07 - mse: 5.5010e-07 - mae: 5.6455e-04 - val_loss: 4.8197e-07 - val_mse: 4.8197e-07 - val_mae: 4.9965e-04\n",
      "Epoch 641/1000\n",
      "256/256 [==============================] - 0s 186us/sample - loss: 4.3553e-07 - mse: 4.3553e-07 - mae: 4.7855e-04 - val_loss: 4.4180e-07 - val_mse: 4.4180e-07 - val_mae: 5.0899e-04\n",
      "Epoch 642/1000\n",
      "256/256 [==============================] - 0s 186us/sample - loss: 4.6358e-07 - mse: 4.6358e-07 - mae: 4.9625e-04 - val_loss: 4.2522e-07 - val_mse: 4.2522e-07 - val_mae: 4.6494e-04\n",
      "Epoch 643/1000\n",
      "256/256 [==============================] - 0s 187us/sample - loss: 5.6425e-07 - mse: 5.6425e-07 - mae: 5.7461e-04 - val_loss: 4.6203e-07 - val_mse: 4.6203e-07 - val_mae: 4.7719e-04\n",
      "Epoch 644/1000\n",
      "256/256 [==============================] - 0s 194us/sample - loss: 4.1603e-07 - mse: 4.1603e-07 - mae: 4.7219e-04 - val_loss: 3.9986e-07 - val_mse: 3.9986e-07 - val_mae: 4.6364e-04\n"
     ]
    },
    {
     "name": "stdout",
     "output_type": "stream",
     "text": [
      "Epoch 645/1000\n",
      "256/256 [==============================] - 0s 194us/sample - loss: 4.2697e-07 - mse: 4.2697e-07 - mae: 4.7760e-04 - val_loss: 4.1308e-07 - val_mse: 4.1308e-07 - val_mae: 4.6004e-04\n",
      "Epoch 646/1000\n",
      "256/256 [==============================] - 0s 189us/sample - loss: 4.1753e-07 - mse: 4.1753e-07 - mae: 4.6186e-04 - val_loss: 4.0349e-07 - val_mse: 4.0349e-07 - val_mae: 4.6615e-04\n",
      "Epoch 647/1000\n",
      "256/256 [==============================] - 0s 206us/sample - loss: 3.8411e-07 - mse: 3.8411e-07 - mae: 4.6022e-04 - val_loss: 3.9286e-07 - val_mse: 3.9286e-07 - val_mae: 4.6223e-04\n",
      "Epoch 648/1000\n",
      "256/256 [==============================] - 0s 211us/sample - loss: 4.9210e-07 - mse: 4.9210e-07 - mae: 5.1542e-04 - val_loss: 6.4945e-07 - val_mse: 6.4945e-07 - val_mae: 5.8903e-04\n",
      "Epoch 649/1000\n",
      "256/256 [==============================] - 0s 199us/sample - loss: 4.9702e-07 - mse: 4.9702e-07 - mae: 5.1014e-04 - val_loss: 6.8883e-07 - val_mse: 6.8883e-07 - val_mae: 6.4472e-04\n",
      "Epoch 650/1000\n",
      "256/256 [==============================] - 0s 187us/sample - loss: 5.8025e-07 - mse: 5.8025e-07 - mae: 5.7355e-04 - val_loss: 5.1328e-07 - val_mse: 5.1328e-07 - val_mae: 5.8470e-04\n",
      "Epoch 651/1000\n",
      "256/256 [==============================] - 0s 188us/sample - loss: 4.5462e-07 - mse: 4.5462e-07 - mae: 5.1055e-04 - val_loss: 4.0908e-07 - val_mse: 4.0908e-07 - val_mae: 4.7779e-04\n",
      "Epoch 652/1000\n",
      "256/256 [==============================] - 0s 185us/sample - loss: 3.9991e-07 - mse: 3.9991e-07 - mae: 4.6120e-04 - val_loss: 4.8020e-07 - val_mse: 4.8020e-07 - val_mae: 5.2758e-04\n",
      "Epoch 653/1000\n",
      "256/256 [==============================] - 0s 186us/sample - loss: 4.8259e-07 - mse: 4.8259e-07 - mae: 5.2599e-04 - val_loss: 5.2396e-07 - val_mse: 5.2396e-07 - val_mae: 5.8347e-04\n",
      "Epoch 654/1000\n",
      "256/256 [==============================] - 0s 205us/sample - loss: 4.0402e-07 - mse: 4.0402e-07 - mae: 4.8060e-04 - val_loss: 4.1704e-07 - val_mse: 4.1704e-07 - val_mae: 4.7362e-04\n",
      "Epoch 655/1000\n",
      "256/256 [==============================] - 0s 191us/sample - loss: 4.2869e-07 - mse: 4.2869e-07 - mae: 4.9006e-04 - val_loss: 4.0546e-07 - val_mse: 4.0546e-07 - val_mae: 4.7691e-04\n",
      "Epoch 656/1000\n",
      "256/256 [==============================] - 0s 184us/sample - loss: 6.2400e-07 - mse: 6.2400e-07 - mae: 5.7945e-04 - val_loss: 4.1452e-07 - val_mse: 4.1452e-07 - val_mae: 4.8806e-04\n",
      "Epoch 657/1000\n",
      "256/256 [==============================] - 0s 194us/sample - loss: 3.8775e-07 - mse: 3.8775e-07 - mae: 4.6403e-04 - val_loss: 3.8852e-07 - val_mse: 3.8852e-07 - val_mae: 4.6233e-04\n",
      "Epoch 658/1000\n",
      "256/256 [==============================] - 0s 187us/sample - loss: 4.9399e-07 - mse: 4.9399e-07 - mae: 5.2741e-04 - val_loss: 4.2817e-07 - val_mse: 4.2817e-07 - val_mae: 4.9439e-04\n",
      "Epoch 659/1000\n",
      "256/256 [==============================] - 0s 189us/sample - loss: 4.2698e-07 - mse: 4.2698e-07 - mae: 4.8545e-04 - val_loss: 4.1134e-07 - val_mse: 4.1134e-07 - val_mae: 4.6291e-04\n",
      "Epoch 660/1000\n",
      "256/256 [==============================] - 0s 186us/sample - loss: 4.2155e-07 - mse: 4.2155e-07 - mae: 4.9138e-04 - val_loss: 4.1359e-07 - val_mse: 4.1359e-07 - val_mae: 4.7702e-04\n",
      "Epoch 661/1000\n",
      "256/256 [==============================] - 0s 193us/sample - loss: 3.9899e-07 - mse: 3.9899e-07 - mae: 4.7384e-04 - val_loss: 4.6412e-07 - val_mse: 4.6412e-07 - val_mae: 4.8011e-04\n",
      "Epoch 662/1000\n",
      "256/256 [==============================] - 0s 184us/sample - loss: 4.2294e-07 - mse: 4.2294e-07 - mae: 4.9101e-04 - val_loss: 4.1475e-07 - val_mse: 4.1475e-07 - val_mae: 4.6411e-04\n",
      "Epoch 663/1000\n",
      "256/256 [==============================] - 0s 190us/sample - loss: 6.7200e-07 - mse: 6.7200e-07 - mae: 5.9818e-04 - val_loss: 4.7417e-07 - val_mse: 4.7417e-07 - val_mae: 5.4362e-04\n",
      "Epoch 664/1000\n",
      "256/256 [==============================] - 0s 190us/sample - loss: 6.4747e-07 - mse: 6.4747e-07 - mae: 5.9763e-04 - val_loss: 4.9832e-07 - val_mse: 4.9832e-07 - val_mae: 5.7080e-04\n",
      "Epoch 665/1000\n",
      "256/256 [==============================] - 0s 190us/sample - loss: 3.9757e-07 - mse: 3.9757e-07 - mae: 4.7171e-04 - val_loss: 3.7917e-07 - val_mse: 3.7917e-07 - val_mae: 4.5531e-04\n",
      "Epoch 666/1000\n",
      "256/256 [==============================] - 0s 186us/sample - loss: 3.7562e-07 - mse: 3.7562e-07 - mae: 4.5392e-04 - val_loss: 4.4037e-07 - val_mse: 4.4037e-07 - val_mae: 4.8223e-04\n",
      "Epoch 667/1000\n",
      "256/256 [==============================] - 0s 192us/sample - loss: 4.6799e-07 - mse: 4.6799e-07 - mae: 5.1186e-04 - val_loss: 3.8276e-07 - val_mse: 3.8276e-07 - val_mae: 4.6010e-04\n",
      "Epoch 668/1000\n",
      "256/256 [==============================] - 0s 224us/sample - loss: 3.8228e-07 - mse: 3.8228e-07 - mae: 4.7046e-04 - val_loss: 3.9017e-07 - val_mse: 3.9017e-07 - val_mae: 4.6283e-04\n",
      "Epoch 669/1000\n",
      "256/256 [==============================] - 0s 208us/sample - loss: 3.9440e-07 - mse: 3.9440e-07 - mae: 4.6209e-04 - val_loss: 4.8532e-07 - val_mse: 4.8532e-07 - val_mae: 5.6395e-04\n",
      "Epoch 670/1000\n",
      "256/256 [==============================] - 0s 198us/sample - loss: 4.0636e-07 - mse: 4.0636e-07 - mae: 4.8088e-04 - val_loss: 3.9203e-07 - val_mse: 3.9203e-07 - val_mae: 4.5863e-04\n",
      "Epoch 671/1000\n",
      "256/256 [==============================] - 0s 186us/sample - loss: 3.8470e-07 - mse: 3.8470e-07 - mae: 4.7854e-04 - val_loss: 4.0095e-07 - val_mse: 4.0095e-07 - val_mae: 4.7141e-04\n",
      "Epoch 672/1000\n",
      "256/256 [==============================] - 0s 185us/sample - loss: 3.7885e-07 - mse: 3.7885e-07 - mae: 4.4914e-04 - val_loss: 3.8958e-07 - val_mse: 3.8958e-07 - val_mae: 4.5732e-04\n",
      "Epoch 673/1000\n",
      "256/256 [==============================] - 0s 202us/sample - loss: 3.6429e-07 - mse: 3.6429e-07 - mae: 4.5482e-04 - val_loss: 4.0471e-07 - val_mse: 4.0471e-07 - val_mae: 4.6074e-04\n",
      "Epoch 674/1000\n",
      "256/256 [==============================] - 0s 198us/sample - loss: 4.8317e-07 - mse: 4.8317e-07 - mae: 5.2043e-04 - val_loss: 4.0362e-07 - val_mse: 4.0362e-07 - val_mae: 4.8233e-04\n",
      "Epoch 675/1000\n",
      "256/256 [==============================] - 0s 183us/sample - loss: 4.0260e-07 - mse: 4.0260e-07 - mae: 4.7285e-04 - val_loss: 4.2717e-07 - val_mse: 4.2717e-07 - val_mae: 4.6975e-04\n",
      "Epoch 676/1000\n",
      "256/256 [==============================] - 0s 189us/sample - loss: 4.1506e-07 - mse: 4.1506e-07 - mae: 4.7412e-04 - val_loss: 4.2950e-07 - val_mse: 4.2950e-07 - val_mae: 5.0077e-04\n",
      "Epoch 677/1000\n",
      "256/256 [==============================] - 0s 188us/sample - loss: 3.8413e-07 - mse: 3.8413e-07 - mae: 4.6830e-04 - val_loss: 4.0868e-07 - val_mse: 4.0868e-07 - val_mae: 4.7612e-04\n",
      "Epoch 678/1000\n",
      "256/256 [==============================] - 0s 189us/sample - loss: 3.8868e-07 - mse: 3.8868e-07 - mae: 4.6553e-04 - val_loss: 4.7309e-07 - val_mse: 4.7309e-07 - val_mae: 4.9237e-04\n",
      "Epoch 679/1000\n",
      "256/256 [==============================] - 0s 184us/sample - loss: 3.8385e-07 - mse: 3.8385e-07 - mae: 4.5840e-04 - val_loss: 4.0244e-07 - val_mse: 4.0244e-07 - val_mae: 4.6843e-04\n",
      "Epoch 680/1000\n",
      "256/256 [==============================] - 0s 184us/sample - loss: 3.8880e-07 - mse: 3.8880e-07 - mae: 4.6760e-04 - val_loss: 4.2381e-07 - val_mse: 4.2381e-07 - val_mae: 4.6579e-04\n",
      "Epoch 681/1000\n",
      "256/256 [==============================] - 0s 214us/sample - loss: 4.7501e-07 - mse: 4.7501e-07 - mae: 5.1482e-04 - val_loss: 3.9821e-07 - val_mse: 3.9821e-07 - val_mae: 4.6960e-04\n",
      "Epoch 682/1000\n",
      "256/256 [==============================] - 0s 195us/sample - loss: 4.6936e-07 - mse: 4.6936e-07 - mae: 4.9960e-04 - val_loss: 3.8714e-07 - val_mse: 3.8714e-07 - val_mae: 4.6054e-04\n",
      "Epoch 683/1000\n",
      "256/256 [==============================] - 0s 196us/sample - loss: 4.0612e-07 - mse: 4.0612e-07 - mae: 4.7412e-04 - val_loss: 4.0519e-07 - val_mse: 4.0519e-07 - val_mae: 4.8403e-04\n",
      "Epoch 684/1000\n",
      "256/256 [==============================] - 0s 201us/sample - loss: 4.4381e-07 - mse: 4.4381e-07 - mae: 4.9592e-04 - val_loss: 4.0042e-07 - val_mse: 4.0042e-07 - val_mae: 4.7535e-04\n",
      "Epoch 685/1000\n",
      "256/256 [==============================] - 0s 220us/sample - loss: 3.8045e-07 - mse: 3.8045e-07 - mae: 4.5769e-04 - val_loss: 4.6766e-07 - val_mse: 4.6766e-07 - val_mae: 4.8690e-04\n",
      "Epoch 686/1000\n",
      "256/256 [==============================] - 0s 207us/sample - loss: 4.2441e-07 - mse: 4.2441e-07 - mae: 4.8331e-04 - val_loss: 3.7727e-07 - val_mse: 3.7727e-07 - val_mae: 4.5690e-04\n"
     ]
    },
    {
     "name": "stdout",
     "output_type": "stream",
     "text": [
      "Epoch 687/1000\n",
      "256/256 [==============================] - 0s 219us/sample - loss: 3.6572e-07 - mse: 3.6572e-07 - mae: 4.5265e-04 - val_loss: 3.7960e-07 - val_mse: 3.7960e-07 - val_mae: 4.6410e-04\n",
      "Epoch 688/1000\n",
      "256/256 [==============================] - 0s 209us/sample - loss: 4.1518e-07 - mse: 4.1518e-07 - mae: 4.8683e-04 - val_loss: 3.8395e-07 - val_mse: 3.8395e-07 - val_mae: 4.6321e-04\n",
      "Epoch 689/1000\n",
      "256/256 [==============================] - 0s 228us/sample - loss: 4.6333e-07 - mse: 4.6333e-07 - mae: 5.0159e-04 - val_loss: 4.0505e-07 - val_mse: 4.0505e-07 - val_mae: 4.7270e-04\n",
      "Epoch 690/1000\n",
      "256/256 [==============================] - 0s 191us/sample - loss: 4.1731e-07 - mse: 4.1731e-07 - mae: 4.7948e-04 - val_loss: 4.1731e-07 - val_mse: 4.1731e-07 - val_mae: 4.6745e-04\n",
      "Epoch 691/1000\n",
      "256/256 [==============================] - 0s 196us/sample - loss: 3.8288e-07 - mse: 3.8288e-07 - mae: 4.5951e-04 - val_loss: 3.7549e-07 - val_mse: 3.7549e-07 - val_mae: 4.5616e-04\n",
      "Epoch 692/1000\n",
      "256/256 [==============================] - 0s 212us/sample - loss: 4.7075e-07 - mse: 4.7075e-07 - mae: 5.0179e-04 - val_loss: 4.0117e-07 - val_mse: 4.0117e-07 - val_mae: 4.6057e-04\n",
      "Epoch 693/1000\n",
      "256/256 [==============================] - 0s 196us/sample - loss: 3.5282e-07 - mse: 3.5282e-07 - mae: 4.4842e-04 - val_loss: 3.7514e-07 - val_mse: 3.7514e-07 - val_mae: 4.5871e-04\n",
      "Epoch 694/1000\n",
      "256/256 [==============================] - 0s 190us/sample - loss: 4.3510e-07 - mse: 4.3510e-07 - mae: 5.0990e-04 - val_loss: 5.7331e-07 - val_mse: 5.7331e-07 - val_mae: 5.9297e-04\n",
      "Epoch 695/1000\n",
      "256/256 [==============================] - 0s 192us/sample - loss: 4.5527e-07 - mse: 4.5527e-07 - mae: 5.0866e-04 - val_loss: 3.9355e-07 - val_mse: 3.9355e-07 - val_mae: 4.7850e-04\n",
      "Epoch 696/1000\n",
      "256/256 [==============================] - 0s 189us/sample - loss: 4.3174e-07 - mse: 4.3174e-07 - mae: 4.8572e-04 - val_loss: 5.5747e-07 - val_mse: 5.5747e-07 - val_mae: 5.9384e-04\n",
      "Epoch 697/1000\n",
      "256/256 [==============================] - 0s 190us/sample - loss: 4.4703e-07 - mse: 4.4703e-07 - mae: 5.0482e-04 - val_loss: 4.1069e-07 - val_mse: 4.1069e-07 - val_mae: 4.6437e-04\n",
      "Epoch 698/1000\n",
      "256/256 [==============================] - 0s 200us/sample - loss: 3.7522e-07 - mse: 3.7522e-07 - mae: 4.5113e-04 - val_loss: 4.5452e-07 - val_mse: 4.5452e-07 - val_mae: 4.7861e-04\n",
      "Epoch 699/1000\n",
      "256/256 [==============================] - 0s 190us/sample - loss: 3.5630e-07 - mse: 3.5630e-07 - mae: 4.5666e-04 - val_loss: 3.7616e-07 - val_mse: 3.7616e-07 - val_mae: 4.5580e-04\n",
      "Epoch 700/1000\n",
      "256/256 [==============================] - 0s 227us/sample - loss: 3.5528e-07 - mse: 3.5528e-07 - mae: 4.4629e-04 - val_loss: 4.0221e-07 - val_mse: 4.0221e-07 - val_mae: 4.6155e-04\n",
      "Epoch 701/1000\n",
      "256/256 [==============================] - 0s 184us/sample - loss: 3.8507e-07 - mse: 3.8507e-07 - mae: 4.6447e-04 - val_loss: 4.3840e-07 - val_mse: 4.3840e-07 - val_mae: 5.0787e-04\n",
      "Epoch 702/1000\n",
      "256/256 [==============================] - 0s 183us/sample - loss: 4.5822e-07 - mse: 4.5822e-07 - mae: 4.9724e-04 - val_loss: 4.4979e-07 - val_mse: 4.4979e-07 - val_mae: 5.0163e-04\n",
      "Epoch 703/1000\n",
      "256/256 [==============================] - 0s 185us/sample - loss: 4.4452e-07 - mse: 4.4452e-07 - mae: 5.0534e-04 - val_loss: 6.5515e-07 - val_mse: 6.5515e-07 - val_mae: 5.6102e-04\n",
      "Epoch 704/1000\n",
      "256/256 [==============================] - 0s 187us/sample - loss: 4.8487e-07 - mse: 4.8487e-07 - mae: 5.0899e-04 - val_loss: 7.0903e-07 - val_mse: 7.0903e-07 - val_mae: 6.3204e-04\n",
      "Epoch 705/1000\n",
      "256/256 [==============================] - 0s 342us/sample - loss: 4.4084e-07 - mse: 4.4084e-07 - mae: 4.7449e-04 - val_loss: 4.1467e-07 - val_mse: 4.1467e-07 - val_mae: 4.7891e-04\n",
      "Epoch 706/1000\n",
      "256/256 [==============================] - 0s 228us/sample - loss: 3.6020e-07 - mse: 3.6020e-07 - mae: 4.5324e-04 - val_loss: 3.8830e-07 - val_mse: 3.8830e-07 - val_mae: 4.6635e-04\n",
      "Epoch 707/1000\n",
      "256/256 [==============================] - 0s 253us/sample - loss: 3.6469e-07 - mse: 3.6469e-07 - mae: 4.5639e-04 - val_loss: 3.9723e-07 - val_mse: 3.9723e-07 - val_mae: 4.8219e-04\n",
      "Epoch 708/1000\n",
      "256/256 [==============================] - 0s 208us/sample - loss: 4.6345e-07 - mse: 4.6345e-07 - mae: 5.1380e-04 - val_loss: 4.2399e-07 - val_mse: 4.2399e-07 - val_mae: 4.8845e-04\n",
      "Epoch 709/1000\n",
      "256/256 [==============================] - 0s 189us/sample - loss: 4.5040e-07 - mse: 4.5040e-07 - mae: 4.9757e-04 - val_loss: 3.8177e-07 - val_mse: 3.8177e-07 - val_mae: 4.5867e-04\n",
      "Epoch 710/1000\n",
      "256/256 [==============================] - 0s 220us/sample - loss: 3.8303e-07 - mse: 3.8303e-07 - mae: 4.6908e-04 - val_loss: 4.2521e-07 - val_mse: 4.2521e-07 - val_mae: 4.6945e-04\n",
      "Epoch 711/1000\n",
      "256/256 [==============================] - 0s 208us/sample - loss: 4.3283e-07 - mse: 4.3283e-07 - mae: 4.9414e-04 - val_loss: 3.7043e-07 - val_mse: 3.7043e-07 - val_mae: 4.5606e-04\n",
      "Epoch 712/1000\n",
      "256/256 [==============================] - 0s 198us/sample - loss: 3.6590e-07 - mse: 3.6590e-07 - mae: 4.5496e-04 - val_loss: 4.4377e-07 - val_mse: 4.4377e-07 - val_mae: 5.0172e-04\n",
      "Epoch 713/1000\n",
      "256/256 [==============================] - 0s 192us/sample - loss: 4.2537e-07 - mse: 4.2537e-07 - mae: 4.8976e-04 - val_loss: 3.6948e-07 - val_mse: 3.6948e-07 - val_mae: 4.6096e-04\n",
      "Epoch 714/1000\n",
      "256/256 [==============================] - 0s 184us/sample - loss: 3.7862e-07 - mse: 3.7862e-07 - mae: 4.6646e-04 - val_loss: 4.2099e-07 - val_mse: 4.2099e-07 - val_mae: 4.9574e-04\n",
      "Epoch 715/1000\n",
      "256/256 [==============================] - 0s 187us/sample - loss: 5.3048e-07 - mse: 5.3048e-07 - mae: 5.7206e-04 - val_loss: 3.6405e-07 - val_mse: 3.6405e-07 - val_mae: 4.5333e-04\n",
      "Epoch 716/1000\n",
      "256/256 [==============================] - 0s 186us/sample - loss: 4.9405e-07 - mse: 4.9405e-07 - mae: 5.2456e-04 - val_loss: 5.9035e-07 - val_mse: 5.9035e-07 - val_mae: 5.6362e-04\n",
      "Epoch 717/1000\n",
      "256/256 [==============================] - 0s 183us/sample - loss: 4.2729e-07 - mse: 4.2729e-07 - mae: 5.0733e-04 - val_loss: 4.6183e-07 - val_mse: 4.6183e-07 - val_mae: 5.0307e-04\n",
      "Epoch 718/1000\n",
      "256/256 [==============================] - 0s 187us/sample - loss: 3.9420e-07 - mse: 3.9420e-07 - mae: 4.7599e-04 - val_loss: 4.1969e-07 - val_mse: 4.1969e-07 - val_mae: 4.8709e-04\n",
      "Epoch 719/1000\n",
      "256/256 [==============================] - 0s 214us/sample - loss: 4.2222e-07 - mse: 4.2222e-07 - mae: 4.9508e-04 - val_loss: 6.4275e-07 - val_mse: 6.4275e-07 - val_mae: 6.0614e-04\n",
      "Epoch 720/1000\n",
      "256/256 [==============================] - 0s 188us/sample - loss: 4.1771e-07 - mse: 4.1771e-07 - mae: 4.9804e-04 - val_loss: 3.9124e-07 - val_mse: 3.9124e-07 - val_mae: 4.5945e-04\n",
      "Epoch 721/1000\n",
      "256/256 [==============================] - 0s 186us/sample - loss: 3.8197e-07 - mse: 3.8197e-07 - mae: 4.6096e-04 - val_loss: 6.6686e-07 - val_mse: 6.6686e-07 - val_mae: 5.9308e-04\n",
      "Epoch 722/1000\n",
      "256/256 [==============================] - 0s 180us/sample - loss: 4.0373e-07 - mse: 4.0373e-07 - mae: 4.7548e-04 - val_loss: 5.7824e-07 - val_mse: 5.7824e-07 - val_mae: 5.2498e-04\n",
      "Epoch 723/1000\n",
      "256/256 [==============================] - 0s 183us/sample - loss: 4.0189e-07 - mse: 4.0189e-07 - mae: 4.7446e-04 - val_loss: 4.7656e-07 - val_mse: 4.7656e-07 - val_mae: 4.8407e-04\n",
      "Epoch 724/1000\n",
      "256/256 [==============================] - 0s 186us/sample - loss: 4.6748e-07 - mse: 4.6748e-07 - mae: 5.0068e-04 - val_loss: 3.6562e-07 - val_mse: 3.6562e-07 - val_mae: 4.5902e-04\n",
      "Epoch 725/1000\n",
      "256/256 [==============================] - 0s 216us/sample - loss: 3.6988e-07 - mse: 3.6988e-07 - mae: 4.5689e-04 - val_loss: 3.6954e-07 - val_mse: 3.6954e-07 - val_mae: 4.5634e-04\n",
      "Epoch 726/1000\n",
      "256/256 [==============================] - 0s 212us/sample - loss: 3.8816e-07 - mse: 3.8816e-07 - mae: 4.6093e-04 - val_loss: 3.7279e-07 - val_mse: 3.7279e-07 - val_mae: 4.6090e-04\n",
      "Epoch 727/1000\n",
      "256/256 [==============================] - 0s 188us/sample - loss: 3.6406e-07 - mse: 3.6406e-07 - mae: 4.5329e-04 - val_loss: 3.7016e-07 - val_mse: 3.7016e-07 - val_mae: 4.5631e-04\n",
      "Epoch 728/1000\n",
      "256/256 [==============================] - 0s 184us/sample - loss: 3.4908e-07 - mse: 3.4908e-07 - mae: 4.4760e-04 - val_loss: 3.6935e-07 - val_mse: 3.6935e-07 - val_mae: 4.6013e-04\n"
     ]
    },
    {
     "name": "stdout",
     "output_type": "stream",
     "text": [
      "Epoch 729/1000\n",
      "256/256 [==============================] - 0s 189us/sample - loss: 3.7532e-07 - mse: 3.7532e-07 - mae: 4.5889e-04 - val_loss: 3.7421e-07 - val_mse: 3.7421e-07 - val_mae: 4.6435e-04\n",
      "Epoch 730/1000\n",
      "256/256 [==============================] - 0s 186us/sample - loss: 5.0002e-07 - mse: 5.0002e-07 - mae: 5.3258e-04 - val_loss: 3.8663e-07 - val_mse: 3.8663e-07 - val_mae: 4.7743e-04\n",
      "Epoch 731/1000\n",
      "256/256 [==============================] - 0s 185us/sample - loss: 3.7523e-07 - mse: 3.7523e-07 - mae: 4.7549e-04 - val_loss: 3.6765e-07 - val_mse: 3.6765e-07 - val_mae: 4.6093e-04\n",
      "Epoch 732/1000\n",
      "256/256 [==============================] - 0s 187us/sample - loss: 4.0510e-07 - mse: 4.0510e-07 - mae: 4.7539e-04 - val_loss: 3.7571e-07 - val_mse: 3.7571e-07 - val_mae: 4.6428e-04\n",
      "Epoch 733/1000\n",
      "256/256 [==============================] - 0s 181us/sample - loss: 4.5760e-07 - mse: 4.5760e-07 - mae: 5.0067e-04 - val_loss: 5.1458e-07 - val_mse: 5.1458e-07 - val_mae: 5.1873e-04\n",
      "Epoch 734/1000\n",
      "256/256 [==============================] - 0s 187us/sample - loss: 4.4625e-07 - mse: 4.4625e-07 - mae: 5.0878e-04 - val_loss: 4.2450e-07 - val_mse: 4.2450e-07 - val_mae: 5.1395e-04\n",
      "Epoch 735/1000\n",
      "256/256 [==============================] - 0s 202us/sample - loss: 3.6357e-07 - mse: 3.6357e-07 - mae: 4.5641e-04 - val_loss: 3.9555e-07 - val_mse: 3.9555e-07 - val_mae: 4.8285e-04\n",
      "Epoch 736/1000\n",
      "256/256 [==============================] - 0s 191us/sample - loss: 4.1154e-07 - mse: 4.1154e-07 - mae: 4.7774e-04 - val_loss: 4.0022e-07 - val_mse: 4.0022e-07 - val_mae: 4.6646e-04\n",
      "Epoch 737/1000\n",
      "256/256 [==============================] - 0s 186us/sample - loss: 4.3271e-07 - mse: 4.3271e-07 - mae: 5.1734e-04 - val_loss: 3.9598e-07 - val_mse: 3.9598e-07 - val_mae: 4.7439e-04\n",
      "Epoch 738/1000\n",
      "256/256 [==============================] - 0s 189us/sample - loss: 3.6842e-07 - mse: 3.6842e-07 - mae: 4.6636e-04 - val_loss: 3.7758e-07 - val_mse: 3.7758e-07 - val_mae: 4.6721e-04\n",
      "Epoch 739/1000\n",
      "256/256 [==============================] - 0s 194us/sample - loss: 3.7612e-07 - mse: 3.7612e-07 - mae: 4.6795e-04 - val_loss: 4.1376e-07 - val_mse: 4.1376e-07 - val_mae: 4.8728e-04\n",
      "Epoch 740/1000\n",
      "256/256 [==============================] - 0s 184us/sample - loss: 3.5740e-07 - mse: 3.5740e-07 - mae: 4.4863e-04 - val_loss: 3.5961e-07 - val_mse: 3.5961e-07 - val_mae: 4.5559e-04\n",
      "Epoch 741/1000\n",
      "256/256 [==============================] - 0s 185us/sample - loss: 3.7339e-07 - mse: 3.7339e-07 - mae: 4.6610e-04 - val_loss: 3.5956e-07 - val_mse: 3.5956e-07 - val_mae: 4.5741e-04\n",
      "Epoch 742/1000\n",
      "256/256 [==============================] - 0s 183us/sample - loss: 3.6461e-07 - mse: 3.6461e-07 - mae: 4.5505e-04 - val_loss: 5.9079e-07 - val_mse: 5.9079e-07 - val_mae: 5.7310e-04\n",
      "Epoch 743/1000\n",
      "256/256 [==============================] - 0s 184us/sample - loss: 3.7994e-07 - mse: 3.7994e-07 - mae: 4.5963e-04 - val_loss: 5.6252e-07 - val_mse: 5.6252e-07 - val_mae: 5.5028e-04\n",
      "Epoch 744/1000\n",
      "256/256 [==============================] - 0s 189us/sample - loss: 3.9574e-07 - mse: 3.9574e-07 - mae: 4.8731e-04 - val_loss: 4.0405e-07 - val_mse: 4.0405e-07 - val_mae: 4.6571e-04\n",
      "Epoch 745/1000\n",
      "256/256 [==============================] - 0s 188us/sample - loss: 3.8909e-07 - mse: 3.8909e-07 - mae: 4.6747e-04 - val_loss: 3.8778e-07 - val_mse: 3.8778e-07 - val_mae: 4.7154e-04\n",
      "Epoch 746/1000\n",
      "256/256 [==============================] - 0s 252us/sample - loss: 3.5234e-07 - mse: 3.5234e-07 - mae: 4.5005e-04 - val_loss: 4.1326e-07 - val_mse: 4.1326e-07 - val_mae: 4.8417e-04\n",
      "Epoch 747/1000\n",
      "256/256 [==============================] - 0s 193us/sample - loss: 4.0520e-07 - mse: 4.0520e-07 - mae: 4.8529e-04 - val_loss: 4.8301e-07 - val_mse: 4.8301e-07 - val_mae: 4.9586e-04\n",
      "Epoch 748/1000\n",
      "256/256 [==============================] - 0s 186us/sample - loss: 4.0130e-07 - mse: 4.0130e-07 - mae: 4.7192e-04 - val_loss: 3.8431e-07 - val_mse: 3.8431e-07 - val_mae: 4.7473e-04\n",
      "Epoch 749/1000\n",
      "256/256 [==============================] - 0s 202us/sample - loss: 3.9531e-07 - mse: 3.9531e-07 - mae: 4.6678e-04 - val_loss: 4.1080e-07 - val_mse: 4.1080e-07 - val_mae: 5.0343e-04\n",
      "Epoch 750/1000\n",
      "256/256 [==============================] - 0s 193us/sample - loss: 4.0496e-07 - mse: 4.0496e-07 - mae: 4.8487e-04 - val_loss: 3.8123e-07 - val_mse: 3.8123e-07 - val_mae: 4.6704e-04\n",
      "Epoch 751/1000\n",
      "256/256 [==============================] - 0s 214us/sample - loss: 3.5948e-07 - mse: 3.5948e-07 - mae: 4.6779e-04 - val_loss: 3.7408e-07 - val_mse: 3.7408e-07 - val_mae: 4.6488e-04\n",
      "Epoch 752/1000\n",
      "256/256 [==============================] - 0s 205us/sample - loss: 3.8491e-07 - mse: 3.8491e-07 - mae: 4.6729e-04 - val_loss: 4.5486e-07 - val_mse: 4.5486e-07 - val_mae: 5.1109e-04\n",
      "Epoch 753/1000\n",
      "256/256 [==============================] - 0s 192us/sample - loss: 3.6672e-07 - mse: 3.6672e-07 - mae: 4.6113e-04 - val_loss: 3.6345e-07 - val_mse: 3.6345e-07 - val_mae: 4.5947e-04\n",
      "Epoch 754/1000\n",
      "256/256 [==============================] - 0s 189us/sample - loss: 3.6076e-07 - mse: 3.6076e-07 - mae: 4.5833e-04 - val_loss: 3.5514e-07 - val_mse: 3.5514e-07 - val_mae: 4.5278e-04\n",
      "Epoch 755/1000\n",
      "256/256 [==============================] - 0s 203us/sample - loss: 3.8052e-07 - mse: 3.8052e-07 - mae: 4.7412e-04 - val_loss: 5.2318e-07 - val_mse: 5.2318e-07 - val_mae: 5.4018e-04\n",
      "Epoch 756/1000\n",
      "256/256 [==============================] - 0s 191us/sample - loss: 3.7391e-07 - mse: 3.7391e-07 - mae: 4.6664e-04 - val_loss: 4.0407e-07 - val_mse: 4.0407e-07 - val_mae: 4.6996e-04\n",
      "Epoch 757/1000\n",
      "256/256 [==============================] - 0s 204us/sample - loss: 3.8073e-07 - mse: 3.8073e-07 - mae: 4.7026e-04 - val_loss: 3.6998e-07 - val_mse: 3.6998e-07 - val_mae: 4.6887e-04\n",
      "Epoch 758/1000\n",
      "256/256 [==============================] - 0s 198us/sample - loss: 3.6375e-07 - mse: 3.6375e-07 - mae: 4.6125e-04 - val_loss: 3.7468e-07 - val_mse: 3.7468e-07 - val_mae: 4.7180e-04\n",
      "Epoch 759/1000\n",
      "256/256 [==============================] - 0s 207us/sample - loss: 4.5050e-07 - mse: 4.5050e-07 - mae: 5.0263e-04 - val_loss: 3.5972e-07 - val_mse: 3.5972e-07 - val_mae: 4.5406e-04\n",
      "Epoch 760/1000\n",
      "256/256 [==============================] - 0s 190us/sample - loss: 3.6722e-07 - mse: 3.6722e-07 - mae: 4.5725e-04 - val_loss: 4.0423e-07 - val_mse: 4.0423e-07 - val_mae: 4.8285e-04\n",
      "Epoch 761/1000\n",
      "256/256 [==============================] - 0s 204us/sample - loss: 3.6628e-07 - mse: 3.6628e-07 - mae: 4.7089e-04 - val_loss: 3.9599e-07 - val_mse: 3.9599e-07 - val_mae: 4.6283e-04\n",
      "Epoch 762/1000\n",
      "256/256 [==============================] - 0s 192us/sample - loss: 4.2061e-07 - mse: 4.2061e-07 - mae: 4.9037e-04 - val_loss: 3.5706e-07 - val_mse: 3.5706e-07 - val_mae: 4.5788e-04\n",
      "Epoch 763/1000\n",
      "256/256 [==============================] - 0s 202us/sample - loss: 3.6304e-07 - mse: 3.6304e-07 - mae: 4.6495e-04 - val_loss: 3.5637e-07 - val_mse: 3.5637e-07 - val_mae: 4.5484e-04\n",
      "Epoch 764/1000\n",
      "256/256 [==============================] - 0s 208us/sample - loss: 4.3694e-07 - mse: 4.3694e-07 - mae: 5.0406e-04 - val_loss: 4.1025e-07 - val_mse: 4.1025e-07 - val_mae: 4.6631e-04\n",
      "Epoch 765/1000\n",
      "256/256 [==============================] - 0s 219us/sample - loss: 3.4814e-07 - mse: 3.4814e-07 - mae: 4.5306e-04 - val_loss: 3.9909e-07 - val_mse: 3.9909e-07 - val_mae: 4.8002e-04\n",
      "Epoch 766/1000\n",
      "256/256 [==============================] - 0s 198us/sample - loss: 3.6392e-07 - mse: 3.6392e-07 - mae: 4.5618e-04 - val_loss: 4.4635e-07 - val_mse: 4.4635e-07 - val_mae: 4.8375e-04\n",
      "Epoch 767/1000\n",
      "256/256 [==============================] - 0s 187us/sample - loss: 3.8317e-07 - mse: 3.8317e-07 - mae: 4.5948e-04 - val_loss: 3.9325e-07 - val_mse: 3.9325e-07 - val_mae: 4.7243e-04\n",
      "Epoch 768/1000\n",
      "256/256 [==============================] - 0s 190us/sample - loss: 3.6648e-07 - mse: 3.6648e-07 - mae: 4.5661e-04 - val_loss: 3.7581e-07 - val_mse: 3.7581e-07 - val_mae: 4.7141e-04\n",
      "Epoch 769/1000\n",
      "256/256 [==============================] - 0s 189us/sample - loss: 4.0414e-07 - mse: 4.0414e-07 - mae: 4.7202e-04 - val_loss: 4.0376e-07 - val_mse: 4.0376e-07 - val_mae: 4.6626e-04\n",
      "Epoch 770/1000\n",
      "256/256 [==============================] - 0s 187us/sample - loss: 3.8687e-07 - mse: 3.8687e-07 - mae: 4.6074e-04 - val_loss: 3.7800e-07 - val_mse: 3.7800e-07 - val_mae: 4.7337e-04\n"
     ]
    },
    {
     "name": "stdout",
     "output_type": "stream",
     "text": [
      "Epoch 771/1000\n",
      "256/256 [==============================] - 0s 300us/sample - loss: 4.0741e-07 - mse: 4.0741e-07 - mae: 4.7975e-04 - val_loss: 3.7197e-07 - val_mse: 3.7197e-07 - val_mae: 4.7116e-04\n",
      "Epoch 772/1000\n",
      "256/256 [==============================] - 0s 216us/sample - loss: 3.7615e-07 - mse: 3.7615e-07 - mae: 4.6493e-04 - val_loss: 3.5670e-07 - val_mse: 3.5670e-07 - val_mae: 4.5694e-04\n",
      "Epoch 773/1000\n",
      "256/256 [==============================] - 0s 186us/sample - loss: 3.9078e-07 - mse: 3.9078e-07 - mae: 4.7585e-04 - val_loss: 3.6436e-07 - val_mse: 3.6436e-07 - val_mae: 4.5795e-04\n",
      "Epoch 774/1000\n",
      "256/256 [==============================] - 0s 187us/sample - loss: 4.1624e-07 - mse: 4.1624e-07 - mae: 4.9613e-04 - val_loss: 3.7522e-07 - val_mse: 3.7522e-07 - val_mae: 4.6373e-04\n",
      "Epoch 775/1000\n",
      "256/256 [==============================] - 0s 182us/sample - loss: 3.5798e-07 - mse: 3.5798e-07 - mae: 4.5291e-04 - val_loss: 3.5683e-07 - val_mse: 3.5683e-07 - val_mae: 4.5434e-04\n",
      "Epoch 776/1000\n",
      "256/256 [==============================] - 0s 198us/sample - loss: 6.9037e-07 - mse: 6.9037e-07 - mae: 6.4305e-04 - val_loss: 5.6819e-07 - val_mse: 5.6819e-07 - val_mae: 5.9338e-04\n",
      "Epoch 777/1000\n",
      "256/256 [==============================] - 0s 209us/sample - loss: 4.9450e-07 - mse: 4.9450e-07 - mae: 5.3400e-04 - val_loss: 5.4730e-07 - val_mse: 5.4730e-07 - val_mae: 5.8416e-04\n",
      "Epoch 778/1000\n",
      "256/256 [==============================] - 0s 206us/sample - loss: 3.8218e-07 - mse: 3.8218e-07 - mae: 4.7327e-04 - val_loss: 3.7174e-07 - val_mse: 3.7174e-07 - val_mae: 4.7276e-04\n",
      "Epoch 779/1000\n",
      "256/256 [==============================] - 0s 190us/sample - loss: 3.7340e-07 - mse: 3.7340e-07 - mae: 4.6774e-04 - val_loss: 3.7929e-07 - val_mse: 3.7929e-07 - val_mae: 4.7852e-04\n",
      "Epoch 780/1000\n",
      "256/256 [==============================] - 0s 187us/sample - loss: 3.8627e-07 - mse: 3.8627e-07 - mae: 4.8293e-04 - val_loss: 5.1423e-07 - val_mse: 5.1423e-07 - val_mae: 5.2435e-04\n",
      "Epoch 781/1000\n",
      "256/256 [==============================] - 0s 187us/sample - loss: 4.1640e-07 - mse: 4.1640e-07 - mae: 4.9969e-04 - val_loss: 5.2691e-07 - val_mse: 5.2691e-07 - val_mae: 5.3472e-04\n",
      "Epoch 782/1000\n",
      "256/256 [==============================] - 0s 188us/sample - loss: 4.5645e-07 - mse: 4.5645e-07 - mae: 5.1763e-04 - val_loss: 3.5306e-07 - val_mse: 3.5306e-07 - val_mae: 4.5565e-04\n",
      "Epoch 783/1000\n",
      "256/256 [==============================] - 0s 184us/sample - loss: 3.6957e-07 - mse: 3.6957e-07 - mae: 4.6674e-04 - val_loss: 4.7337e-07 - val_mse: 4.7337e-07 - val_mae: 5.1617e-04\n",
      "Epoch 784/1000\n",
      "256/256 [==============================] - 0s 207us/sample - loss: 4.0005e-07 - mse: 4.0005e-07 - mae: 4.7348e-04 - val_loss: 3.8510e-07 - val_mse: 3.8510e-07 - val_mae: 4.6580e-04\n",
      "Epoch 785/1000\n",
      "256/256 [==============================] - 0s 215us/sample - loss: 3.5559e-07 - mse: 3.5559e-07 - mae: 4.5776e-04 - val_loss: 3.6034e-07 - val_mse: 3.6034e-07 - val_mae: 4.5760e-04\n",
      "Epoch 786/1000\n",
      "256/256 [==============================] - 0s 187us/sample - loss: 4.1110e-07 - mse: 4.1110e-07 - mae: 4.7459e-04 - val_loss: 3.9773e-07 - val_mse: 3.9773e-07 - val_mae: 4.7553e-04\n",
      "Epoch 787/1000\n",
      "256/256 [==============================] - 0s 191us/sample - loss: 4.3790e-07 - mse: 4.3790e-07 - mae: 5.1135e-04 - val_loss: 4.1343e-07 - val_mse: 4.1343e-07 - val_mae: 5.0484e-04\n",
      "Epoch 788/1000\n",
      "256/256 [==============================] - 0s 182us/sample - loss: 3.8573e-07 - mse: 3.8573e-07 - mae: 4.7648e-04 - val_loss: 4.0047e-07 - val_mse: 4.0047e-07 - val_mae: 4.8358e-04\n",
      "Epoch 789/1000\n",
      "256/256 [==============================] - 0s 190us/sample - loss: 3.6590e-07 - mse: 3.6590e-07 - mae: 4.5761e-04 - val_loss: 3.5568e-07 - val_mse: 3.5568e-07 - val_mae: 4.5509e-04\n",
      "Epoch 790/1000\n",
      "256/256 [==============================] - 0s 185us/sample - loss: 4.1771e-07 - mse: 4.1771e-07 - mae: 4.8604e-04 - val_loss: 3.8336e-07 - val_mse: 3.8336e-07 - val_mae: 4.8247e-04\n",
      "Epoch 791/1000\n",
      "256/256 [==============================] - 0s 189us/sample - loss: 4.4743e-07 - mse: 4.4743e-07 - mae: 5.1965e-04 - val_loss: 3.5395e-07 - val_mse: 3.5395e-07 - val_mae: 4.5805e-04\n",
      "Epoch 792/1000\n",
      "256/256 [==============================] - 0s 187us/sample - loss: 3.4674e-07 - mse: 3.4674e-07 - mae: 4.5194e-04 - val_loss: 3.9225e-07 - val_mse: 3.9225e-07 - val_mae: 4.6306e-04\n",
      "Epoch 793/1000\n",
      "256/256 [==============================] - 0s 186us/sample - loss: 3.7509e-07 - mse: 3.7509e-07 - mae: 4.5552e-04 - val_loss: 3.6019e-07 - val_mse: 3.6019e-07 - val_mae: 4.6479e-04\n",
      "Epoch 794/1000\n",
      "256/256 [==============================] - 0s 192us/sample - loss: 4.5738e-07 - mse: 4.5738e-07 - mae: 5.2133e-04 - val_loss: 4.4135e-07 - val_mse: 4.4135e-07 - val_mae: 5.0944e-04\n",
      "Epoch 795/1000\n",
      "256/256 [==============================] - 0s 187us/sample - loss: 4.4553e-07 - mse: 4.4553e-07 - mae: 5.1384e-04 - val_loss: 4.3738e-07 - val_mse: 4.3738e-07 - val_mae: 5.3329e-04\n",
      "Epoch 796/1000\n",
      "256/256 [==============================] - 0s 181us/sample - loss: 5.3154e-07 - mse: 5.3154e-07 - mae: 5.5660e-04 - val_loss: 3.5430e-07 - val_mse: 3.5430e-07 - val_mae: 4.6204e-04\n",
      "Epoch 797/1000\n",
      "256/256 [==============================] - 0s 185us/sample - loss: 3.5878e-07 - mse: 3.5878e-07 - mae: 4.6480e-04 - val_loss: 3.6988e-07 - val_mse: 3.6988e-07 - val_mae: 4.7389e-04\n",
      "Epoch 798/1000\n",
      "256/256 [==============================] - 0s 191us/sample - loss: 3.8062e-07 - mse: 3.8062e-07 - mae: 4.7845e-04 - val_loss: 3.6188e-07 - val_mse: 3.6188e-07 - val_mae: 4.6470e-04\n",
      "Epoch 799/1000\n",
      "256/256 [==============================] - 0s 191us/sample - loss: 3.5775e-07 - mse: 3.5775e-07 - mae: 4.6317e-04 - val_loss: 3.5687e-07 - val_mse: 3.5687e-07 - val_mae: 4.5648e-04\n",
      "Epoch 800/1000\n",
      "256/256 [==============================] - 0s 186us/sample - loss: 3.7633e-07 - mse: 3.7633e-07 - mae: 4.6896e-04 - val_loss: 4.2311e-07 - val_mse: 4.2311e-07 - val_mae: 4.9256e-04\n",
      "Epoch 801/1000\n",
      "256/256 [==============================] - 0s 184us/sample - loss: 3.4668e-07 - mse: 3.4668e-07 - mae: 4.6511e-04 - val_loss: 3.4743e-07 - val_mse: 3.4743e-07 - val_mae: 4.5410e-04\n",
      "Epoch 802/1000\n",
      "256/256 [==============================] - 0s 186us/sample - loss: 4.5173e-07 - mse: 4.5173e-07 - mae: 5.1576e-04 - val_loss: 4.3661e-07 - val_mse: 4.3661e-07 - val_mae: 4.7722e-04\n",
      "Epoch 803/1000\n",
      "256/256 [==============================] - 0s 185us/sample - loss: 4.4751e-07 - mse: 4.4751e-07 - mae: 4.8838e-04 - val_loss: 3.7215e-07 - val_mse: 3.7215e-07 - val_mae: 4.7071e-04\n",
      "Epoch 804/1000\n",
      "256/256 [==============================] - 0s 188us/sample - loss: 4.0101e-07 - mse: 4.0101e-07 - mae: 4.9060e-04 - val_loss: 3.4629e-07 - val_mse: 3.4629e-07 - val_mae: 4.5396e-04\n",
      "Epoch 805/1000\n",
      "256/256 [==============================] - 0s 253us/sample - loss: 4.2014e-07 - mse: 4.2014e-07 - mae: 4.9257e-04 - val_loss: 5.6627e-07 - val_mse: 5.6627e-07 - val_mae: 5.5104e-04\n",
      "Epoch 806/1000\n",
      "256/256 [==============================] - 0s 194us/sample - loss: 4.1884e-07 - mse: 4.1884e-07 - mae: 4.9279e-04 - val_loss: 3.4841e-07 - val_mse: 3.4841e-07 - val_mae: 4.5709e-04\n",
      "Epoch 807/1000\n",
      "256/256 [==============================] - 0s 212us/sample - loss: 3.6010e-07 - mse: 3.6010e-07 - mae: 4.6536e-04 - val_loss: 3.6218e-07 - val_mse: 3.6218e-07 - val_mae: 4.5819e-04\n",
      "Epoch 808/1000\n",
      "256/256 [==============================] - 0s 209us/sample - loss: 3.3542e-07 - mse: 3.3542e-07 - mae: 4.4474e-04 - val_loss: 3.8629e-07 - val_mse: 3.8629e-07 - val_mae: 4.6863e-04\n",
      "Epoch 809/1000\n",
      "256/256 [==============================] - 0s 210us/sample - loss: 3.6671e-07 - mse: 3.6671e-07 - mae: 4.7250e-04 - val_loss: 3.8160e-07 - val_mse: 3.8160e-07 - val_mae: 4.7402e-04\n",
      "Epoch 810/1000\n",
      "256/256 [==============================] - 0s 204us/sample - loss: 4.8929e-07 - mse: 4.8929e-07 - mae: 5.3999e-04 - val_loss: 3.6784e-07 - val_mse: 3.6784e-07 - val_mae: 4.7082e-04\n",
      "Epoch 811/1000\n",
      "256/256 [==============================] - 0s 191us/sample - loss: 3.6482e-07 - mse: 3.6482e-07 - mae: 4.6702e-04 - val_loss: 3.5705e-07 - val_mse: 3.5705e-07 - val_mae: 4.6112e-04\n",
      "Epoch 812/1000\n",
      "256/256 [==============================] - 0s 191us/sample - loss: 3.4088e-07 - mse: 3.4088e-07 - mae: 4.5548e-04 - val_loss: 4.1800e-07 - val_mse: 4.1800e-07 - val_mae: 4.8643e-04\n"
     ]
    },
    {
     "name": "stdout",
     "output_type": "stream",
     "text": [
      "Epoch 813/1000\n",
      "256/256 [==============================] - 0s 191us/sample - loss: 4.2161e-07 - mse: 4.2161e-07 - mae: 5.0162e-04 - val_loss: 3.6405e-07 - val_mse: 3.6405e-07 - val_mae: 4.6265e-04\n",
      "Epoch 814/1000\n",
      "256/256 [==============================] - 0s 192us/sample - loss: 3.5245e-07 - mse: 3.5245e-07 - mae: 4.6092e-04 - val_loss: 3.9883e-07 - val_mse: 3.9883e-07 - val_mae: 4.6730e-04\n",
      "Epoch 815/1000\n",
      "256/256 [==============================] - 0s 188us/sample - loss: 4.4215e-07 - mse: 4.4215e-07 - mae: 5.0368e-04 - val_loss: 3.9681e-07 - val_mse: 3.9681e-07 - val_mae: 4.7498e-04\n",
      "Epoch 816/1000\n",
      "256/256 [==============================] - 0s 229us/sample - loss: 4.7990e-07 - mse: 4.7990e-07 - mae: 5.2011e-04 - val_loss: 3.6343e-07 - val_mse: 3.6343e-07 - val_mae: 4.6958e-04\n",
      "Epoch 817/1000\n",
      "256/256 [==============================] - 0s 282us/sample - loss: 4.1431e-07 - mse: 4.1431e-07 - mae: 5.0442e-04 - val_loss: 4.3205e-07 - val_mse: 4.3205e-07 - val_mae: 4.7919e-04\n",
      "Epoch 818/1000\n",
      "256/256 [==============================] - 0s 254us/sample - loss: 5.3654e-07 - mse: 5.3654e-07 - mae: 6.1305e-04 - val_loss: 3.6955e-07 - val_mse: 3.6955e-07 - val_mae: 4.6644e-04\n",
      "Epoch 819/1000\n",
      "256/256 [==============================] - 0s 216us/sample - loss: 3.6524e-07 - mse: 3.6524e-07 - mae: 4.7275e-04 - val_loss: 3.5491e-07 - val_mse: 3.5491e-07 - val_mae: 4.5386e-04\n",
      "Epoch 820/1000\n",
      "256/256 [==============================] - 0s 211us/sample - loss: 3.6070e-07 - mse: 3.6070e-07 - mae: 4.6359e-04 - val_loss: 4.1594e-07 - val_mse: 4.1594e-07 - val_mae: 4.9193e-04\n",
      "Epoch 821/1000\n",
      "256/256 [==============================] - 0s 206us/sample - loss: 3.5975e-07 - mse: 3.5975e-07 - mae: 4.5858e-04 - val_loss: 3.6706e-07 - val_mse: 3.6706e-07 - val_mae: 4.5935e-04\n",
      "Epoch 822/1000\n",
      "256/256 [==============================] - 0s 213us/sample - loss: 4.0526e-07 - mse: 4.0526e-07 - mae: 4.9180e-04 - val_loss: 3.8350e-07 - val_mse: 3.8350e-07 - val_mae: 4.7398e-04\n",
      "Epoch 823/1000\n",
      "256/256 [==============================] - 0s 231us/sample - loss: 3.3945e-07 - mse: 3.3945e-07 - mae: 4.5430e-04 - val_loss: 3.5267e-07 - val_mse: 3.5267e-07 - val_mae: 4.5903e-04\n",
      "Epoch 824/1000\n",
      "256/256 [==============================] - 0s 194us/sample - loss: 3.7210e-07 - mse: 3.7210e-07 - mae: 4.7351e-04 - val_loss: 3.8800e-07 - val_mse: 3.8800e-07 - val_mae: 4.7873e-04\n",
      "Epoch 825/1000\n",
      "256/256 [==============================] - 0s 192us/sample - loss: 3.5523e-07 - mse: 3.5523e-07 - mae: 4.6127e-04 - val_loss: 3.6315e-07 - val_mse: 3.6315e-07 - val_mae: 4.6257e-04\n",
      "Epoch 826/1000\n",
      "256/256 [==============================] - 0s 187us/sample - loss: 5.1196e-07 - mse: 5.1196e-07 - mae: 5.6095e-04 - val_loss: 4.1156e-07 - val_mse: 4.1156e-07 - val_mae: 5.1910e-04\n",
      "Epoch 827/1000\n",
      "256/256 [==============================] - 0s 189us/sample - loss: 3.9250e-07 - mse: 3.9250e-07 - mae: 4.8128e-04 - val_loss: 3.4436e-07 - val_mse: 3.4436e-07 - val_mae: 4.5501e-04\n",
      "Epoch 828/1000\n",
      "256/256 [==============================] - 0s 195us/sample - loss: 3.4759e-07 - mse: 3.4759e-07 - mae: 4.6328e-04 - val_loss: 3.5515e-07 - val_mse: 3.5515e-07 - val_mae: 4.5884e-04\n",
      "Epoch 829/1000\n",
      "256/256 [==============================] - 0s 214us/sample - loss: 3.8285e-07 - mse: 3.8285e-07 - mae: 4.6316e-04 - val_loss: 4.2262e-07 - val_mse: 4.2262e-07 - val_mae: 4.8743e-04\n",
      "Epoch 830/1000\n",
      "256/256 [==============================] - 0s 224us/sample - loss: 3.6810e-07 - mse: 3.6810e-07 - mae: 4.5784e-04 - val_loss: 3.6642e-07 - val_mse: 3.6642e-07 - val_mae: 4.5952e-04\n",
      "Epoch 831/1000\n",
      "256/256 [==============================] - 0s 221us/sample - loss: 3.4870e-07 - mse: 3.4870e-07 - mae: 4.6331e-04 - val_loss: 5.7342e-07 - val_mse: 5.7342e-07 - val_mae: 5.6273e-04\n",
      "Epoch 832/1000\n",
      "256/256 [==============================] - 0s 198us/sample - loss: 4.3450e-07 - mse: 4.3450e-07 - mae: 5.0633e-04 - val_loss: 4.0704e-07 - val_mse: 4.0704e-07 - val_mae: 5.0953e-04\n",
      "Epoch 833/1000\n",
      "256/256 [==============================] - 0s 187us/sample - loss: 3.7863e-07 - mse: 3.7863e-07 - mae: 4.7149e-04 - val_loss: 4.5087e-07 - val_mse: 4.5087e-07 - val_mae: 4.9356e-04\n",
      "Epoch 834/1000\n",
      "256/256 [==============================] - 0s 192us/sample - loss: 3.9630e-07 - mse: 3.9630e-07 - mae: 4.8509e-04 - val_loss: 4.0203e-07 - val_mse: 4.0203e-07 - val_mae: 4.8490e-04\n",
      "Epoch 835/1000\n",
      "256/256 [==============================] - 0s 188us/sample - loss: 4.4739e-07 - mse: 4.4739e-07 - mae: 5.0399e-04 - val_loss: 4.2562e-07 - val_mse: 4.2562e-07 - val_mae: 4.7550e-04\n",
      "Epoch 836/1000\n",
      "256/256 [==============================] - 0s 213us/sample - loss: 3.5340e-07 - mse: 3.5340e-07 - mae: 4.6218e-04 - val_loss: 4.2434e-07 - val_mse: 4.2434e-07 - val_mae: 5.1318e-04\n",
      "Epoch 837/1000\n",
      "256/256 [==============================] - 0s 202us/sample - loss: 3.6803e-07 - mse: 3.6803e-07 - mae: 4.7396e-04 - val_loss: 3.4246e-07 - val_mse: 3.4246e-07 - val_mae: 4.5301e-04\n",
      "Epoch 838/1000\n",
      "256/256 [==============================] - 0s 214us/sample - loss: 3.3653e-07 - mse: 3.3653e-07 - mae: 4.4765e-04 - val_loss: 3.7461e-07 - val_mse: 3.7461e-07 - val_mae: 4.7490e-04\n",
      "Epoch 839/1000\n",
      "256/256 [==============================] - 0s 194us/sample - loss: 4.4104e-07 - mse: 4.4104e-07 - mae: 5.1972e-04 - val_loss: 3.6501e-07 - val_mse: 3.6501e-07 - val_mae: 4.7363e-04\n",
      "Epoch 840/1000\n",
      "256/256 [==============================] - 0s 196us/sample - loss: 3.8051e-07 - mse: 3.8051e-07 - mae: 4.7857e-04 - val_loss: 7.2612e-07 - val_mse: 7.2612e-07 - val_mae: 6.5126e-04\n",
      "Epoch 841/1000\n",
      "256/256 [==============================] - 0s 198us/sample - loss: 4.4180e-07 - mse: 4.4180e-07 - mae: 5.1735e-04 - val_loss: 3.4459e-07 - val_mse: 3.4459e-07 - val_mae: 4.5773e-04\n",
      "Epoch 842/1000\n",
      "256/256 [==============================] - 0s 241us/sample - loss: 3.7164e-07 - mse: 3.7164e-07 - mae: 4.6498e-04 - val_loss: 3.4663e-07 - val_mse: 3.4663e-07 - val_mae: 4.5959e-04\n",
      "Epoch 843/1000\n",
      "256/256 [==============================] - 0s 193us/sample - loss: 3.4060e-07 - mse: 3.4060e-07 - mae: 4.5251e-04 - val_loss: 3.4746e-07 - val_mse: 3.4746e-07 - val_mae: 4.6080e-04\n",
      "Epoch 844/1000\n",
      "256/256 [==============================] - 0s 186us/sample - loss: 5.0174e-07 - mse: 5.0174e-07 - mae: 5.4376e-04 - val_loss: 5.6285e-07 - val_mse: 5.6285e-07 - val_mae: 6.1105e-04\n",
      "Epoch 845/1000\n",
      "256/256 [==============================] - 0s 185us/sample - loss: 4.2002e-07 - mse: 4.2002e-07 - mae: 4.9078e-04 - val_loss: 3.5549e-07 - val_mse: 3.5549e-07 - val_mae: 4.6566e-04\n",
      "Epoch 846/1000\n",
      "256/256 [==============================] - 0s 184us/sample - loss: 3.6210e-07 - mse: 3.6210e-07 - mae: 4.5622e-04 - val_loss: 3.6563e-07 - val_mse: 3.6563e-07 - val_mae: 4.7132e-04\n",
      "Epoch 847/1000\n",
      "256/256 [==============================] - 0s 189us/sample - loss: 4.5039e-07 - mse: 4.5039e-07 - mae: 5.0702e-04 - val_loss: 3.7438e-07 - val_mse: 3.7438e-07 - val_mae: 4.6522e-04\n",
      "Epoch 848/1000\n",
      "256/256 [==============================] - 0s 214us/sample - loss: 3.4192e-07 - mse: 3.4192e-07 - mae: 4.4743e-04 - val_loss: 3.4521e-07 - val_mse: 3.4521e-07 - val_mae: 4.5538e-04\n",
      "Epoch 849/1000\n",
      "256/256 [==============================] - 0s 208us/sample - loss: 3.9807e-07 - mse: 3.9807e-07 - mae: 4.7422e-04 - val_loss: 5.8523e-07 - val_mse: 5.8523e-07 - val_mae: 5.4036e-04\n",
      "Epoch 850/1000\n",
      "256/256 [==============================] - 0s 207us/sample - loss: 4.7635e-07 - mse: 4.7635e-07 - mae: 5.0889e-04 - val_loss: 3.4517e-07 - val_mse: 3.4517e-07 - val_mae: 4.5734e-04\n",
      "Epoch 851/1000\n",
      "256/256 [==============================] - 0s 194us/sample - loss: 3.8533e-07 - mse: 3.8533e-07 - mae: 4.7848e-04 - val_loss: 4.2834e-07 - val_mse: 4.2834e-07 - val_mae: 5.0406e-04\n",
      "Epoch 852/1000\n",
      "256/256 [==============================] - 0s 209us/sample - loss: 3.8831e-07 - mse: 3.8831e-07 - mae: 4.6437e-04 - val_loss: 3.5809e-07 - val_mse: 3.5809e-07 - val_mae: 4.6682e-04\n",
      "Epoch 853/1000\n",
      "256/256 [==============================] - 0s 193us/sample - loss: 4.3709e-07 - mse: 4.3709e-07 - mae: 5.1215e-04 - val_loss: 3.8022e-07 - val_mse: 3.8022e-07 - val_mae: 4.7884e-04\n",
      "Epoch 854/1000\n",
      "256/256 [==============================] - 0s 200us/sample - loss: 3.6683e-07 - mse: 3.6683e-07 - mae: 4.6759e-04 - val_loss: 3.5476e-07 - val_mse: 3.5476e-07 - val_mae: 4.6465e-04\n"
     ]
    },
    {
     "name": "stdout",
     "output_type": "stream",
     "text": [
      "Epoch 855/1000\n",
      "256/256 [==============================] - 0s 190us/sample - loss: 3.5566e-07 - mse: 3.5566e-07 - mae: 4.6377e-04 - val_loss: 4.9384e-07 - val_mse: 4.9384e-07 - val_mae: 5.0675e-04\n",
      "Epoch 856/1000\n",
      "256/256 [==============================] - 0s 204us/sample - loss: 3.9112e-07 - mse: 3.9112e-07 - mae: 4.6056e-04 - val_loss: 3.4262e-07 - val_mse: 3.4262e-07 - val_mae: 4.5740e-04\n",
      "Epoch 857/1000\n",
      "256/256 [==============================] - 0s 229us/sample - loss: 3.4956e-07 - mse: 3.4956e-07 - mae: 4.5924e-04 - val_loss: 3.4266e-07 - val_mse: 3.4266e-07 - val_mae: 4.5794e-04\n",
      "Epoch 858/1000\n",
      "256/256 [==============================] - 0s 222us/sample - loss: 3.4830e-07 - mse: 3.4830e-07 - mae: 4.6228e-04 - val_loss: 3.4721e-07 - val_mse: 3.4721e-07 - val_mae: 4.6006e-04\n",
      "Epoch 859/1000\n",
      "256/256 [==============================] - 0s 214us/sample - loss: 3.9193e-07 - mse: 3.9193e-07 - mae: 4.8857e-04 - val_loss: 3.4252e-07 - val_mse: 3.4252e-07 - val_mae: 4.5617e-04\n",
      "Epoch 860/1000\n",
      "256/256 [==============================] - 0s 204us/sample - loss: 3.7117e-07 - mse: 3.7117e-07 - mae: 4.7753e-04 - val_loss: 3.4095e-07 - val_mse: 3.4095e-07 - val_mae: 4.5527e-04\n",
      "Epoch 861/1000\n",
      "256/256 [==============================] - 0s 265us/sample - loss: 3.5494e-07 - mse: 3.5494e-07 - mae: 4.7392e-04 - val_loss: 3.4539e-07 - val_mse: 3.4539e-07 - val_mae: 4.5393e-04\n",
      "Epoch 862/1000\n",
      "256/256 [==============================] - 0s 233us/sample - loss: 3.4219e-07 - mse: 3.4219e-07 - mae: 4.4807e-04 - val_loss: 3.9906e-07 - val_mse: 3.9906e-07 - val_mae: 4.6994e-04\n",
      "Epoch 863/1000\n",
      "256/256 [==============================] - 0s 222us/sample - loss: 4.1594e-07 - mse: 4.1594e-07 - mae: 5.0841e-04 - val_loss: 3.4713e-07 - val_mse: 3.4713e-07 - val_mae: 4.6073e-04\n",
      "Epoch 864/1000\n",
      "256/256 [==============================] - 0s 212us/sample - loss: 3.4773e-07 - mse: 3.4773e-07 - mae: 4.5898e-04 - val_loss: 3.4316e-07 - val_mse: 3.4316e-07 - val_mae: 4.5662e-04\n",
      "Epoch 865/1000\n",
      "256/256 [==============================] - 0s 203us/sample - loss: 4.0844e-07 - mse: 4.0844e-07 - mae: 4.9019e-04 - val_loss: 3.4858e-07 - val_mse: 3.4858e-07 - val_mae: 4.5542e-04\n",
      "Epoch 866/1000\n",
      "256/256 [==============================] - 0s 200us/sample - loss: 4.7393e-07 - mse: 4.7393e-07 - mae: 5.4294e-04 - val_loss: 3.8665e-07 - val_mse: 3.8665e-07 - val_mae: 4.9086e-04\n",
      "Epoch 867/1000\n",
      "256/256 [==============================] - 0s 195us/sample - loss: 4.3349e-07 - mse: 4.3349e-07 - mae: 5.0072e-04 - val_loss: 4.0451e-07 - val_mse: 4.0451e-07 - val_mae: 4.8385e-04\n",
      "Epoch 868/1000\n",
      "256/256 [==============================] - 0s 196us/sample - loss: 3.2755e-07 - mse: 3.2755e-07 - mae: 4.3944e-04 - val_loss: 4.1368e-07 - val_mse: 4.1368e-07 - val_mae: 4.9853e-04\n",
      "Epoch 869/1000\n",
      "256/256 [==============================] - 0s 194us/sample - loss: 3.5255e-07 - mse: 3.5255e-07 - mae: 4.7318e-04 - val_loss: 3.3989e-07 - val_mse: 3.3989e-07 - val_mae: 4.5585e-04\n",
      "Epoch 870/1000\n",
      "256/256 [==============================] - 0s 185us/sample - loss: 5.1040e-07 - mse: 5.1040e-07 - mae: 5.5632e-04 - val_loss: 7.8935e-07 - val_mse: 7.8935e-07 - val_mae: 7.2552e-04\n",
      "Epoch 871/1000\n",
      "256/256 [==============================] - 0s 191us/sample - loss: 4.8403e-07 - mse: 4.8403e-07 - mae: 5.3661e-04 - val_loss: 6.3250e-07 - val_mse: 6.3250e-07 - val_mae: 6.3464e-04\n",
      "Epoch 872/1000\n",
      "256/256 [==============================] - 0s 219us/sample - loss: 5.0733e-07 - mse: 5.0733e-07 - mae: 5.4552e-04 - val_loss: 4.1123e-07 - val_mse: 4.1123e-07 - val_mae: 4.7384e-04\n",
      "Epoch 873/1000\n",
      "256/256 [==============================] - 0s 199us/sample - loss: 3.4988e-07 - mse: 3.4988e-07 - mae: 4.5670e-04 - val_loss: 3.5653e-07 - val_mse: 3.5653e-07 - val_mae: 4.5906e-04\n",
      "Epoch 874/1000\n",
      "256/256 [==============================] - 0s 202us/sample - loss: 3.4539e-07 - mse: 3.4539e-07 - mae: 4.5416e-04 - val_loss: 3.4275e-07 - val_mse: 3.4275e-07 - val_mae: 4.5365e-04\n",
      "Epoch 875/1000\n",
      "256/256 [==============================] - 0s 188us/sample - loss: 3.8134e-07 - mse: 3.8134e-07 - mae: 4.7749e-04 - val_loss: 4.2883e-07 - val_mse: 4.2883e-07 - val_mae: 5.1854e-04\n",
      "Epoch 876/1000\n",
      "256/256 [==============================] - 0s 186us/sample - loss: 3.7978e-07 - mse: 3.7978e-07 - mae: 4.8168e-04 - val_loss: 3.6573e-07 - val_mse: 3.6573e-07 - val_mae: 4.7049e-04\n",
      "Epoch 877/1000\n",
      "256/256 [==============================] - 0s 185us/sample - loss: 3.3307e-07 - mse: 3.3307e-07 - mae: 4.5559e-04 - val_loss: 3.5994e-07 - val_mse: 3.5994e-07 - val_mae: 4.6248e-04\n",
      "Epoch 878/1000\n",
      "256/256 [==============================] - 0s 197us/sample - loss: 3.3719e-07 - mse: 3.3719e-07 - mae: 4.5809e-04 - val_loss: 4.5294e-07 - val_mse: 4.5294e-07 - val_mae: 4.8717e-04\n",
      "Epoch 879/1000\n",
      "256/256 [==============================] - 0s 196us/sample - loss: 4.6886e-07 - mse: 4.6886e-07 - mae: 5.3683e-04 - val_loss: 3.4913e-07 - val_mse: 3.4913e-07 - val_mae: 4.5485e-04\n",
      "Epoch 880/1000\n",
      "256/256 [==============================] - 0s 209us/sample - loss: 3.6599e-07 - mse: 3.6599e-07 - mae: 4.7366e-04 - val_loss: 3.9295e-07 - val_mse: 3.9295e-07 - val_mae: 4.9036e-04\n",
      "Epoch 881/1000\n",
      "256/256 [==============================] - 0s 186us/sample - loss: 3.5978e-07 - mse: 3.5978e-07 - mae: 4.7273e-04 - val_loss: 3.5312e-07 - val_mse: 3.5312e-07 - val_mae: 4.6402e-04\n",
      "Epoch 882/1000\n",
      "256/256 [==============================] - 0s 185us/sample - loss: 3.5167e-07 - mse: 3.5167e-07 - mae: 4.6930e-04 - val_loss: 3.8827e-07 - val_mse: 3.8827e-07 - val_mae: 4.6982e-04\n",
      "Epoch 883/1000\n",
      "256/256 [==============================] - 0s 184us/sample - loss: 4.8448e-07 - mse: 4.8448e-07 - mae: 5.4502e-04 - val_loss: 4.2824e-07 - val_mse: 4.2824e-07 - val_mae: 5.2496e-04\n",
      "Epoch 884/1000\n",
      "256/256 [==============================] - 0s 217us/sample - loss: 4.2179e-07 - mse: 4.2179e-07 - mae: 5.0612e-04 - val_loss: 3.4847e-07 - val_mse: 3.4847e-07 - val_mae: 4.5806e-04\n",
      "Epoch 885/1000\n",
      "256/256 [==============================] - 0s 200us/sample - loss: 3.7574e-07 - mse: 3.7574e-07 - mae: 4.6927e-04 - val_loss: 3.8160e-07 - val_mse: 3.8160e-07 - val_mae: 4.8479e-04\n",
      "Epoch 886/1000\n",
      "256/256 [==============================] - 0s 197us/sample - loss: 6.2527e-07 - mse: 6.2527e-07 - mae: 6.3236e-04 - val_loss: 4.2011e-07 - val_mse: 4.2011e-07 - val_mae: 5.0656e-04\n",
      "Epoch 887/1000\n",
      "256/256 [==============================] - 0s 183us/sample - loss: 3.5802e-07 - mse: 3.5802e-07 - mae: 4.6933e-04 - val_loss: 3.4155e-07 - val_mse: 3.4155e-07 - val_mae: 4.5393e-04\n",
      "Epoch 888/1000\n",
      "256/256 [==============================] - 0s 190us/sample - loss: 3.8089e-07 - mse: 3.8089e-07 - mae: 4.8104e-04 - val_loss: 3.4396e-07 - val_mse: 3.4396e-07 - val_mae: 4.5745e-04\n",
      "Epoch 889/1000\n",
      "256/256 [==============================] - 0s 185us/sample - loss: 3.7316e-07 - mse: 3.7316e-07 - mae: 4.6430e-04 - val_loss: 3.5467e-07 - val_mse: 3.5467e-07 - val_mae: 4.5685e-04\n",
      "Epoch 890/1000\n",
      "256/256 [==============================] - 0s 189us/sample - loss: 4.1916e-07 - mse: 4.1916e-07 - mae: 4.9387e-04 - val_loss: 3.5254e-07 - val_mse: 3.5254e-07 - val_mae: 4.7040e-04\n",
      "Epoch 891/1000\n",
      "256/256 [==============================] - 0s 184us/sample - loss: 3.3979e-07 - mse: 3.3979e-07 - mae: 4.5606e-04 - val_loss: 3.4591e-07 - val_mse: 3.4591e-07 - val_mae: 4.5516e-04\n",
      "Epoch 892/1000\n",
      "256/256 [==============================] - 0s 186us/sample - loss: 3.3769e-07 - mse: 3.3769e-07 - mae: 4.5931e-04 - val_loss: 3.5179e-07 - val_mse: 3.5179e-07 - val_mae: 4.5753e-04\n",
      "Epoch 893/1000\n",
      "256/256 [==============================] - 0s 199us/sample - loss: 3.3331e-07 - mse: 3.3331e-07 - mae: 4.4852e-04 - val_loss: 3.5292e-07 - val_mse: 3.5292e-07 - val_mae: 4.6220e-04\n",
      "Epoch 894/1000\n",
      "256/256 [==============================] - 0s 190us/sample - loss: 3.7171e-07 - mse: 3.7171e-07 - mae: 4.7323e-04 - val_loss: 3.3777e-07 - val_mse: 3.3777e-07 - val_mae: 4.5536e-04\n",
      "Epoch 895/1000\n",
      "256/256 [==============================] - 0s 189us/sample - loss: 3.3563e-07 - mse: 3.3563e-07 - mae: 4.5741e-04 - val_loss: 3.6125e-07 - val_mse: 3.6125e-07 - val_mae: 4.7461e-04\n",
      "Epoch 896/1000\n",
      "256/256 [==============================] - 0s 186us/sample - loss: 3.4701e-07 - mse: 3.4701e-07 - mae: 4.6447e-04 - val_loss: 3.4272e-07 - val_mse: 3.4272e-07 - val_mae: 4.5877e-04\n"
     ]
    },
    {
     "name": "stdout",
     "output_type": "stream",
     "text": [
      "Epoch 897/1000\n",
      "256/256 [==============================] - 0s 184us/sample - loss: 3.9983e-07 - mse: 3.9983e-07 - mae: 4.9556e-04 - val_loss: 3.3605e-07 - val_mse: 3.3605e-07 - val_mae: 4.5491e-04\n",
      "Epoch 898/1000\n",
      "256/256 [==============================] - 0s 184us/sample - loss: 3.3674e-07 - mse: 3.3674e-07 - mae: 4.5705e-04 - val_loss: 3.4304e-07 - val_mse: 3.4304e-07 - val_mae: 4.5916e-04\n",
      "Epoch 899/1000\n",
      "256/256 [==============================] - 0s 183us/sample - loss: 4.1101e-07 - mse: 4.1101e-07 - mae: 4.9419e-04 - val_loss: 3.5597e-07 - val_mse: 3.5597e-07 - val_mae: 4.7039e-04\n",
      "Epoch 900/1000\n",
      "256/256 [==============================] - 0s 230us/sample - loss: 3.5606e-07 - mse: 3.5606e-07 - mae: 4.6497e-04 - val_loss: 3.4102e-07 - val_mse: 3.4102e-07 - val_mae: 4.5748e-04\n",
      "Epoch 901/1000\n",
      "256/256 [==============================] - 0s 187us/sample - loss: 3.6060e-07 - mse: 3.6060e-07 - mae: 4.7053e-04 - val_loss: 3.4106e-07 - val_mse: 3.4106e-07 - val_mae: 4.5415e-04\n",
      "Epoch 902/1000\n",
      "256/256 [==============================] - 0s 203us/sample - loss: 3.5523e-07 - mse: 3.5523e-07 - mae: 4.6601e-04 - val_loss: 3.6737e-07 - val_mse: 3.6737e-07 - val_mae: 4.6937e-04\n",
      "Epoch 903/1000\n",
      "256/256 [==============================] - 0s 211us/sample - loss: 3.4777e-07 - mse: 3.4777e-07 - mae: 4.6923e-04 - val_loss: 3.6861e-07 - val_mse: 3.6861e-07 - val_mae: 4.6065e-04\n",
      "Epoch 904/1000\n",
      "256/256 [==============================] - 0s 195us/sample - loss: 3.8122e-07 - mse: 3.8122e-07 - mae: 4.7495e-04 - val_loss: 3.8490e-07 - val_mse: 3.8490e-07 - val_mae: 4.8951e-04\n",
      "Epoch 905/1000\n",
      "256/256 [==============================] - 0s 202us/sample - loss: 3.6937e-07 - mse: 3.6937e-07 - mae: 4.7106e-04 - val_loss: 3.7102e-07 - val_mse: 3.7102e-07 - val_mae: 4.8305e-04\n",
      "Epoch 906/1000\n",
      "256/256 [==============================] - 0s 259us/sample - loss: 4.2585e-07 - mse: 4.2585e-07 - mae: 5.0478e-04 - val_loss: 4.9742e-07 - val_mse: 4.9742e-07 - val_mae: 5.5735e-04\n",
      "Epoch 907/1000\n",
      "256/256 [==============================] - 0s 210us/sample - loss: 3.7148e-07 - mse: 3.7148e-07 - mae: 4.7973e-04 - val_loss: 4.4139e-07 - val_mse: 4.4139e-07 - val_mae: 5.2984e-04\n",
      "Epoch 908/1000\n",
      "256/256 [==============================] - 0s 207us/sample - loss: 3.8392e-07 - mse: 3.8392e-07 - mae: 4.8540e-04 - val_loss: 3.7637e-07 - val_mse: 3.7637e-07 - val_mae: 4.6213e-04\n",
      "Epoch 909/1000\n",
      "256/256 [==============================] - 0s 197us/sample - loss: 4.4387e-07 - mse: 4.4387e-07 - mae: 5.1743e-04 - val_loss: 3.6019e-07 - val_mse: 3.6019e-07 - val_mae: 4.6012e-04\n",
      "Epoch 910/1000\n",
      "256/256 [==============================] - 0s 198us/sample - loss: 5.7188e-07 - mse: 5.7188e-07 - mae: 5.7907e-04 - val_loss: 3.4405e-07 - val_mse: 3.4405e-07 - val_mae: 4.5843e-04\n",
      "Epoch 911/1000\n",
      "256/256 [==============================] - 0s 220us/sample - loss: 3.4739e-07 - mse: 3.4739e-07 - mae: 4.6444e-04 - val_loss: 3.9438e-07 - val_mse: 3.9438e-07 - val_mae: 4.8562e-04\n",
      "Epoch 912/1000\n",
      "256/256 [==============================] - 0s 208us/sample - loss: 3.8984e-07 - mse: 3.8984e-07 - mae: 4.7992e-04 - val_loss: 3.9223e-07 - val_mse: 3.9223e-07 - val_mae: 4.8993e-04\n",
      "Epoch 913/1000\n",
      "256/256 [==============================] - 0s 207us/sample - loss: 3.3996e-07 - mse: 3.3996e-07 - mae: 4.6217e-04 - val_loss: 3.6939e-07 - val_mse: 3.6939e-07 - val_mae: 4.6332e-04\n",
      "Epoch 914/1000\n",
      "256/256 [==============================] - 0s 189us/sample - loss: 4.1904e-07 - mse: 4.1904e-07 - mae: 5.0340e-04 - val_loss: 5.1427e-07 - val_mse: 5.1427e-07 - val_mae: 5.1457e-04\n",
      "Epoch 915/1000\n",
      "256/256 [==============================] - 0s 200us/sample - loss: 3.5622e-07 - mse: 3.5622e-07 - mae: 4.5732e-04 - val_loss: 3.3413e-07 - val_mse: 3.3413e-07 - val_mae: 4.5351e-04\n",
      "Epoch 916/1000\n",
      "256/256 [==============================] - 0s 187us/sample - loss: 3.3747e-07 - mse: 3.3747e-07 - mae: 4.5296e-04 - val_loss: 3.3987e-07 - val_mse: 3.3987e-07 - val_mae: 4.5567e-04\n",
      "Epoch 917/1000\n",
      "256/256 [==============================] - 0s 182us/sample - loss: 3.7240e-07 - mse: 3.7240e-07 - mae: 4.6036e-04 - val_loss: 3.9287e-07 - val_mse: 3.9287e-07 - val_mae: 4.6807e-04\n",
      "Epoch 918/1000\n",
      "256/256 [==============================] - 0s 190us/sample - loss: 3.3293e-07 - mse: 3.3293e-07 - mae: 4.4755e-04 - val_loss: 3.6933e-07 - val_mse: 3.6933e-07 - val_mae: 4.7110e-04\n",
      "Epoch 919/1000\n",
      "256/256 [==============================] - 0s 257us/sample - loss: 3.6062e-07 - mse: 3.6062e-07 - mae: 4.8015e-04 - val_loss: 3.3988e-07 - val_mse: 3.3988e-07 - val_mae: 4.6026e-04\n",
      "Epoch 920/1000\n",
      "256/256 [==============================] - 0s 198us/sample - loss: 3.6649e-07 - mse: 3.6649e-07 - mae: 4.7104e-04 - val_loss: 4.1282e-07 - val_mse: 4.1282e-07 - val_mae: 5.0455e-04\n",
      "Epoch 921/1000\n",
      "256/256 [==============================] - 0s 192us/sample - loss: 3.3746e-07 - mse: 3.3746e-07 - mae: 4.6169e-04 - val_loss: 3.4506e-07 - val_mse: 3.4506e-07 - val_mae: 4.5949e-04\n",
      "Epoch 922/1000\n",
      "256/256 [==============================] - 0s 202us/sample - loss: 3.4259e-07 - mse: 3.4259e-07 - mae: 4.6420e-04 - val_loss: 3.9480e-07 - val_mse: 3.9480e-07 - val_mae: 4.6941e-04\n",
      "Epoch 923/1000\n",
      "256/256 [==============================] - 0s 187us/sample - loss: 3.4483e-07 - mse: 3.4483e-07 - mae: 4.6513e-04 - val_loss: 4.3020e-07 - val_mse: 4.3020e-07 - val_mae: 4.8004e-04\n",
      "Epoch 924/1000\n",
      "256/256 [==============================] - 0s 188us/sample - loss: 3.7368e-07 - mse: 3.7368e-07 - mae: 4.8305e-04 - val_loss: 3.3430e-07 - val_mse: 3.3430e-07 - val_mae: 4.5367e-04\n",
      "Epoch 925/1000\n",
      "256/256 [==============================] - 0s 199us/sample - loss: 3.4264e-07 - mse: 3.4264e-07 - mae: 4.6783e-04 - val_loss: 3.7036e-07 - val_mse: 3.7036e-07 - val_mae: 4.6083e-04\n",
      "Epoch 926/1000\n",
      "256/256 [==============================] - 0s 184us/sample - loss: 4.1338e-07 - mse: 4.1338e-07 - mae: 5.0101e-04 - val_loss: 3.8654e-07 - val_mse: 3.8654e-07 - val_mae: 4.7130e-04\n",
      "Epoch 927/1000\n",
      "256/256 [==============================] - 0s 196us/sample - loss: 3.5113e-07 - mse: 3.5113e-07 - mae: 4.6679e-04 - val_loss: 3.3452e-07 - val_mse: 3.3452e-07 - val_mae: 4.5605e-04\n",
      "Epoch 928/1000\n",
      "256/256 [==============================] - 0s 288us/sample - loss: 3.3288e-07 - mse: 3.3288e-07 - mae: 4.5301e-04 - val_loss: 3.4660e-07 - val_mse: 3.4660e-07 - val_mae: 4.5542e-04\n",
      "Epoch 929/1000\n",
      "256/256 [==============================] - 0s 211us/sample - loss: 3.4795e-07 - mse: 3.4795e-07 - mae: 4.6546e-04 - val_loss: 3.4216e-07 - val_mse: 3.4216e-07 - val_mae: 4.5801e-04\n",
      "Epoch 930/1000\n",
      "256/256 [==============================] - 0s 202us/sample - loss: 4.0983e-07 - mse: 4.0983e-07 - mae: 5.0926e-04 - val_loss: 4.2872e-07 - val_mse: 4.2872e-07 - val_mae: 5.3385e-04\n",
      "Epoch 931/1000\n",
      "256/256 [==============================] - 0s 187us/sample - loss: 3.4050e-07 - mse: 3.4050e-07 - mae: 4.6731e-04 - val_loss: 4.0190e-07 - val_mse: 4.0190e-07 - val_mae: 4.7006e-04\n",
      "Epoch 932/1000\n",
      "256/256 [==============================] - 0s 180us/sample - loss: 3.4767e-07 - mse: 3.4767e-07 - mae: 4.5821e-04 - val_loss: 3.3853e-07 - val_mse: 3.3853e-07 - val_mae: 4.5521e-04\n",
      "Epoch 933/1000\n",
      "256/256 [==============================] - 0s 233us/sample - loss: 3.7910e-07 - mse: 3.7910e-07 - mae: 4.9178e-04 - val_loss: 3.4131e-07 - val_mse: 3.4131e-07 - val_mae: 4.5787e-04\n",
      "Epoch 934/1000\n",
      "256/256 [==============================] - 0s 215us/sample - loss: 3.3523e-07 - mse: 3.3523e-07 - mae: 4.5843e-04 - val_loss: 3.5932e-07 - val_mse: 3.5932e-07 - val_mae: 4.5801e-04\n",
      "Epoch 935/1000\n",
      "256/256 [==============================] - 0s 204us/sample - loss: 3.2814e-07 - mse: 3.2814e-07 - mae: 4.5554e-04 - val_loss: 3.3580e-07 - val_mse: 3.3580e-07 - val_mae: 4.5654e-04\n",
      "Epoch 936/1000\n",
      "256/256 [==============================] - 0s 187us/sample - loss: 3.7708e-07 - mse: 3.7708e-07 - mae: 4.9635e-04 - val_loss: 3.4689e-07 - val_mse: 3.4689e-07 - val_mae: 4.6442e-04\n",
      "Epoch 937/1000\n",
      "256/256 [==============================] - 0s 200us/sample - loss: 3.9212e-07 - mse: 3.9212e-07 - mae: 4.9332e-04 - val_loss: 4.5476e-07 - val_mse: 4.5476e-07 - val_mae: 5.2819e-04\n",
      "Epoch 938/1000\n",
      "256/256 [==============================] - 0s 236us/sample - loss: 6.0567e-07 - mse: 6.0567e-07 - mae: 6.3023e-04 - val_loss: 4.0154e-07 - val_mse: 4.0154e-07 - val_mae: 4.9004e-04\n"
     ]
    },
    {
     "name": "stdout",
     "output_type": "stream",
     "text": [
      "Epoch 939/1000\n",
      "256/256 [==============================] - 0s 197us/sample - loss: 3.5266e-07 - mse: 3.5266e-07 - mae: 4.6171e-04 - val_loss: 3.8712e-07 - val_mse: 3.8712e-07 - val_mae: 4.6623e-04\n",
      "Epoch 940/1000\n",
      "256/256 [==============================] - 0s 182us/sample - loss: 3.4886e-07 - mse: 3.4886e-07 - mae: 4.7202e-04 - val_loss: 3.4077e-07 - val_mse: 3.4077e-07 - val_mae: 4.5908e-04\n",
      "Epoch 941/1000\n",
      "256/256 [==============================] - 0s 189us/sample - loss: 3.8819e-07 - mse: 3.8819e-07 - mae: 4.7735e-04 - val_loss: 3.7163e-07 - val_mse: 3.7163e-07 - val_mae: 4.8294e-04\n",
      "Epoch 942/1000\n",
      "256/256 [==============================] - 0s 187us/sample - loss: 3.5129e-07 - mse: 3.5129e-07 - mae: 4.6978e-04 - val_loss: 3.7116e-07 - val_mse: 3.7116e-07 - val_mae: 4.7027e-04\n",
      "Epoch 943/1000\n",
      "256/256 [==============================] - 0s 186us/sample - loss: 4.1252e-07 - mse: 4.1252e-07 - mae: 4.9207e-04 - val_loss: 4.2966e-07 - val_mse: 4.2966e-07 - val_mae: 4.8976e-04\n",
      "Epoch 944/1000\n",
      "256/256 [==============================] - 0s 186us/sample - loss: 3.5964e-07 - mse: 3.5964e-07 - mae: 4.5770e-04 - val_loss: 4.0968e-07 - val_mse: 4.0968e-07 - val_mae: 4.9788e-04\n",
      "Epoch 945/1000\n",
      "256/256 [==============================] - 0s 195us/sample - loss: 3.6438e-07 - mse: 3.6438e-07 - mae: 4.7431e-04 - val_loss: 3.3756e-07 - val_mse: 3.3756e-07 - val_mae: 4.5927e-04\n",
      "Epoch 946/1000\n",
      "256/256 [==============================] - 0s 187us/sample - loss: 3.5018e-07 - mse: 3.5018e-07 - mae: 4.5264e-04 - val_loss: 3.7102e-07 - val_mse: 3.7102e-07 - val_mae: 4.6488e-04\n",
      "Epoch 947/1000\n",
      "256/256 [==============================] - 0s 187us/sample - loss: 3.8984e-07 - mse: 3.8984e-07 - mae: 4.8440e-04 - val_loss: 3.5070e-07 - val_mse: 3.5070e-07 - val_mae: 4.7229e-04\n",
      "Epoch 948/1000\n",
      "256/256 [==============================] - 0s 182us/sample - loss: 3.5931e-07 - mse: 3.5931e-07 - mae: 4.6311e-04 - val_loss: 3.7568e-07 - val_mse: 3.7568e-07 - val_mae: 4.6503e-04\n",
      "Epoch 949/1000\n",
      "256/256 [==============================] - 0s 187us/sample - loss: 4.9308e-07 - mse: 4.9308e-07 - mae: 5.4058e-04 - val_loss: 5.6257e-07 - val_mse: 5.6257e-07 - val_mae: 5.9676e-04\n",
      "Epoch 950/1000\n",
      "256/256 [==============================] - 0s 186us/sample - loss: 4.1294e-07 - mse: 4.1294e-07 - mae: 5.1341e-04 - val_loss: 3.3158e-07 - val_mse: 3.3158e-07 - val_mae: 4.5423e-04\n",
      "Epoch 951/1000\n",
      "256/256 [==============================] - 0s 184us/sample - loss: 3.4544e-07 - mse: 3.4544e-07 - mae: 4.6433e-04 - val_loss: 3.5053e-07 - val_mse: 3.5053e-07 - val_mae: 4.6669e-04\n",
      "Epoch 952/1000\n",
      "256/256 [==============================] - 0s 185us/sample - loss: 3.9141e-07 - mse: 3.9141e-07 - mae: 4.8918e-04 - val_loss: 3.6271e-07 - val_mse: 3.6271e-07 - val_mae: 4.7511e-04\n",
      "Epoch 953/1000\n",
      "256/256 [==============================] - 0s 184us/sample - loss: 3.5357e-07 - mse: 3.5357e-07 - mae: 4.7299e-04 - val_loss: 4.0704e-07 - val_mse: 4.0704e-07 - val_mae: 4.9516e-04\n",
      "Epoch 954/1000\n",
      "256/256 [==============================] - 0s 193us/sample - loss: 3.7076e-07 - mse: 3.7076e-07 - mae: 4.8501e-04 - val_loss: 3.5907e-07 - val_mse: 3.5907e-07 - val_mae: 4.7298e-04\n",
      "Epoch 955/1000\n",
      "256/256 [==============================] - 0s 188us/sample - loss: 3.5064e-07 - mse: 3.5064e-07 - mae: 4.7276e-04 - val_loss: 4.2050e-07 - val_mse: 4.2050e-07 - val_mae: 4.7973e-04\n",
      "Epoch 956/1000\n",
      "256/256 [==============================] - 0s 247us/sample - loss: 4.7801e-07 - mse: 4.7801e-07 - mae: 5.3562e-04 - val_loss: 4.2606e-07 - val_mse: 4.2606e-07 - val_mae: 4.9271e-04\n",
      "Epoch 957/1000\n",
      "256/256 [==============================] - 0s 209us/sample - loss: 3.7130e-07 - mse: 3.7130e-07 - mae: 4.8068e-04 - val_loss: 3.6347e-07 - val_mse: 3.6347e-07 - val_mae: 4.6134e-04\n",
      "Epoch 958/1000\n",
      "256/256 [==============================] - 0s 199us/sample - loss: 3.5501e-07 - mse: 3.5501e-07 - mae: 4.6223e-04 - val_loss: 3.3633e-07 - val_mse: 3.3633e-07 - val_mae: 4.5879e-04\n",
      "Epoch 959/1000\n",
      "256/256 [==============================] - 0s 194us/sample - loss: 3.8974e-07 - mse: 3.8974e-07 - mae: 4.9863e-04 - val_loss: 4.0649e-07 - val_mse: 4.0649e-07 - val_mae: 5.1521e-04\n",
      "Epoch 960/1000\n",
      "256/256 [==============================] - 0s 184us/sample - loss: 4.0034e-07 - mse: 4.0034e-07 - mae: 5.0146e-04 - val_loss: 3.6226e-07 - val_mse: 3.6226e-07 - val_mae: 4.7087e-04\n",
      "Epoch 961/1000\n",
      "256/256 [==============================] - 0s 193us/sample - loss: 3.6119e-07 - mse: 3.6119e-07 - mae: 4.6171e-04 - val_loss: 3.3090e-07 - val_mse: 3.3090e-07 - val_mae: 4.5406e-04\n",
      "Epoch 962/1000\n",
      "256/256 [==============================] - 0s 188us/sample - loss: 3.5628e-07 - mse: 3.5628e-07 - mae: 4.7027e-04 - val_loss: 3.8207e-07 - val_mse: 3.8207e-07 - val_mae: 4.7846e-04\n",
      "Epoch 963/1000\n",
      "256/256 [==============================] - 0s 190us/sample - loss: 4.4387e-07 - mse: 4.4387e-07 - mae: 5.1598e-04 - val_loss: 3.7466e-07 - val_mse: 3.7466e-07 - val_mae: 4.7433e-04\n",
      "Epoch 964/1000\n",
      "256/256 [==============================] - 0s 187us/sample - loss: 3.8456e-07 - mse: 3.8456e-07 - mae: 4.8263e-04 - val_loss: 4.9367e-07 - val_mse: 4.9367e-07 - val_mae: 5.8314e-04\n",
      "Epoch 965/1000\n",
      "256/256 [==============================] - 0s 185us/sample - loss: 3.8659e-07 - mse: 3.8659e-07 - mae: 4.8455e-04 - val_loss: 3.4980e-07 - val_mse: 3.4980e-07 - val_mae: 4.5903e-04\n",
      "Epoch 966/1000\n",
      "256/256 [==============================] - 0s 192us/sample - loss: 3.3311e-07 - mse: 3.3311e-07 - mae: 4.6244e-04 - val_loss: 3.7956e-07 - val_mse: 3.7956e-07 - val_mae: 4.7240e-04\n",
      "Epoch 967/1000\n",
      "256/256 [==============================] - 0s 183us/sample - loss: 3.8759e-07 - mse: 3.8759e-07 - mae: 4.8467e-04 - val_loss: 4.0112e-07 - val_mse: 4.0112e-07 - val_mae: 5.0312e-04\n",
      "Epoch 968/1000\n",
      "256/256 [==============================] - 0s 183us/sample - loss: 5.2302e-07 - mse: 5.2302e-07 - mae: 5.6223e-04 - val_loss: 3.5600e-07 - val_mse: 3.5600e-07 - val_mae: 4.7404e-04\n",
      "Epoch 969/1000\n",
      "256/256 [==============================] - 0s 185us/sample - loss: 3.3543e-07 - mse: 3.3543e-07 - mae: 4.5149e-04 - val_loss: 3.8016e-07 - val_mse: 3.8016e-07 - val_mae: 4.6994e-04\n",
      "Epoch 970/1000\n",
      "256/256 [==============================] - 0s 190us/sample - loss: 4.4654e-07 - mse: 4.4654e-07 - mae: 5.0140e-04 - val_loss: 3.2996e-07 - val_mse: 3.2996e-07 - val_mae: 4.5321e-04\n",
      "Epoch 971/1000\n",
      "256/256 [==============================] - 0s 189us/sample - loss: 3.7363e-07 - mse: 3.7363e-07 - mae: 4.8387e-04 - val_loss: 3.7611e-07 - val_mse: 3.7611e-07 - val_mae: 4.6986e-04\n",
      "Epoch 972/1000\n",
      "256/256 [==============================] - 0s 185us/sample - loss: 3.9119e-07 - mse: 3.9119e-07 - mae: 4.9286e-04 - val_loss: 3.8732e-07 - val_mse: 3.8732e-07 - val_mae: 4.8566e-04\n",
      "Epoch 973/1000\n",
      "256/256 [==============================] - 0s 188us/sample - loss: 3.3757e-07 - mse: 3.3757e-07 - mae: 4.4928e-04 - val_loss: 3.9134e-07 - val_mse: 3.9134e-07 - val_mae: 4.8174e-04\n",
      "Epoch 974/1000\n",
      "256/256 [==============================] - 0s 196us/sample - loss: 3.3975e-07 - mse: 3.3975e-07 - mae: 4.5888e-04 - val_loss: 4.2553e-07 - val_mse: 4.2553e-07 - val_mae: 5.0376e-04\n",
      "Epoch 975/1000\n",
      "256/256 [==============================] - 0s 211us/sample - loss: 4.2129e-07 - mse: 4.2129e-07 - mae: 4.8673e-04 - val_loss: 3.3087e-07 - val_mse: 3.3087e-07 - val_mae: 4.5451e-04\n",
      "Epoch 976/1000\n",
      "256/256 [==============================] - 0s 204us/sample - loss: 4.1331e-07 - mse: 4.1331e-07 - mae: 5.0124e-04 - val_loss: 3.3346e-07 - val_mse: 3.3346e-07 - val_mae: 4.5727e-04\n",
      "Epoch 977/1000\n",
      "256/256 [==============================] - 0s 219us/sample - loss: 4.6819e-07 - mse: 4.6819e-07 - mae: 5.1753e-04 - val_loss: 3.6789e-07 - val_mse: 3.6789e-07 - val_mae: 4.7415e-04\n",
      "Epoch 978/1000\n",
      "256/256 [==============================] - 0s 236us/sample - loss: 3.4171e-07 - mse: 3.4171e-07 - mae: 4.6612e-04 - val_loss: 3.9268e-07 - val_mse: 3.9268e-07 - val_mae: 4.9834e-04\n",
      "Epoch 979/1000\n",
      "256/256 [==============================] - 0s 209us/sample - loss: 3.7052e-07 - mse: 3.7052e-07 - mae: 4.9712e-04 - val_loss: 3.6310e-07 - val_mse: 3.6310e-07 - val_mae: 4.7690e-04\n",
      "Epoch 980/1000\n",
      "256/256 [==============================] - 0s 196us/sample - loss: 3.8206e-07 - mse: 3.8206e-07 - mae: 4.8765e-04 - val_loss: 4.4731e-07 - val_mse: 4.4731e-07 - val_mae: 4.8959e-04\n"
     ]
    },
    {
     "name": "stdout",
     "output_type": "stream",
     "text": [
      "Epoch 981/1000\n",
      "256/256 [==============================] - 0s 199us/sample - loss: 3.8513e-07 - mse: 3.8513e-07 - mae: 4.7888e-04 - val_loss: 3.8075e-07 - val_mse: 3.8075e-07 - val_mae: 4.8004e-04\n",
      "Epoch 982/1000\n",
      "256/256 [==============================] - 0s 184us/sample - loss: 4.2016e-07 - mse: 4.2016e-07 - mae: 5.1216e-04 - val_loss: 5.2579e-07 - val_mse: 5.2579e-07 - val_mae: 5.3715e-04\n",
      "Epoch 983/1000\n",
      "256/256 [==============================] - 0s 197us/sample - loss: 5.1369e-07 - mse: 5.1369e-07 - mae: 5.8135e-04 - val_loss: 3.3151e-07 - val_mse: 3.3151e-07 - val_mae: 4.5601e-04\n",
      "Epoch 984/1000\n",
      "256/256 [==============================] - 0s 182us/sample - loss: 4.0758e-07 - mse: 4.0758e-07 - mae: 5.1497e-04 - val_loss: 3.3799e-07 - val_mse: 3.3799e-07 - val_mae: 4.5929e-04\n",
      "Epoch 985/1000\n",
      "256/256 [==============================] - 0s 315us/sample - loss: 3.5309e-07 - mse: 3.5309e-07 - mae: 4.7551e-04 - val_loss: 3.4620e-07 - val_mse: 3.4620e-07 - val_mae: 4.6402e-04\n",
      "Epoch 986/1000\n",
      "256/256 [==============================] - 0s 225us/sample - loss: 3.3335e-07 - mse: 3.3335e-07 - mae: 4.4116e-04 - val_loss: 4.9218e-07 - val_mse: 4.9218e-07 - val_mae: 5.3795e-04\n",
      "Epoch 987/1000\n",
      "256/256 [==============================] - 0s 183us/sample - loss: 4.0009e-07 - mse: 4.0009e-07 - mae: 4.8858e-04 - val_loss: 3.5304e-07 - val_mse: 3.5304e-07 - val_mae: 4.6797e-04\n",
      "Epoch 988/1000\n",
      "256/256 [==============================] - 0s 194us/sample - loss: 3.4564e-07 - mse: 3.4564e-07 - mae: 4.5938e-04 - val_loss: 3.3896e-07 - val_mse: 3.3896e-07 - val_mae: 4.5421e-04\n",
      "Epoch 989/1000\n",
      "256/256 [==============================] - 0s 201us/sample - loss: 4.1582e-07 - mse: 4.1582e-07 - mae: 4.9446e-04 - val_loss: 3.6233e-07 - val_mse: 3.6233e-07 - val_mae: 4.6382e-04\n",
      "Epoch 990/1000\n",
      "256/256 [==============================] - 0s 188us/sample - loss: 3.2464e-07 - mse: 3.2464e-07 - mae: 4.4031e-04 - val_loss: 4.7748e-07 - val_mse: 4.7748e-07 - val_mae: 5.1820e-04\n",
      "Epoch 991/1000\n",
      "256/256 [==============================] - 0s 198us/sample - loss: 4.0476e-07 - mse: 4.0476e-07 - mae: 5.0535e-04 - val_loss: 4.5436e-07 - val_mse: 4.5436e-07 - val_mae: 5.4266e-04\n",
      "Epoch 992/1000\n",
      "256/256 [==============================] - 0s 187us/sample - loss: 4.1789e-07 - mse: 4.1789e-07 - mae: 4.9612e-04 - val_loss: 5.4227e-07 - val_mse: 5.4227e-07 - val_mae: 5.6382e-04\n",
      "Epoch 993/1000\n",
      "256/256 [==============================] - 0s 235us/sample - loss: 4.0182e-07 - mse: 4.0182e-07 - mae: 4.9951e-04 - val_loss: 3.6992e-07 - val_mse: 3.6992e-07 - val_mae: 4.8288e-04\n",
      "Epoch 994/1000\n",
      "256/256 [==============================] - 0s 276us/sample - loss: 3.8220e-07 - mse: 3.8220e-07 - mae: 4.8783e-04 - val_loss: 4.1031e-07 - val_mse: 4.1031e-07 - val_mae: 5.1533e-04\n",
      "Epoch 995/1000\n",
      "256/256 [==============================] - 0s 244us/sample - loss: 3.9013e-07 - mse: 3.9013e-07 - mae: 4.8624e-04 - val_loss: 3.5302e-07 - val_mse: 3.5302e-07 - val_mae: 4.6824e-04\n",
      "Epoch 996/1000\n",
      "256/256 [==============================] - 0s 211us/sample - loss: 3.3616e-07 - mse: 3.3616e-07 - mae: 4.6372e-04 - val_loss: 3.7744e-07 - val_mse: 3.7744e-07 - val_mae: 4.6731e-04\n",
      "Epoch 997/1000\n",
      "256/256 [==============================] - 0s 198us/sample - loss: 3.4476e-07 - mse: 3.4476e-07 - mae: 4.5877e-04 - val_loss: 3.3166e-07 - val_mse: 3.3166e-07 - val_mae: 4.5333e-04\n",
      "Epoch 998/1000\n",
      "256/256 [==============================] - 0s 189us/sample - loss: 3.4567e-07 - mse: 3.4567e-07 - mae: 4.6461e-04 - val_loss: 3.4239e-07 - val_mse: 3.4239e-07 - val_mae: 4.6288e-04\n",
      "Epoch 999/1000\n",
      "256/256 [==============================] - 0s 213us/sample - loss: 4.3119e-07 - mse: 4.3119e-07 - mae: 5.1649e-04 - val_loss: 3.2972e-07 - val_mse: 3.2972e-07 - val_mae: 4.5505e-04\n",
      "Epoch 1000/1000\n",
      "256/256 [==============================] - 0s 191us/sample - loss: 3.3765e-07 - mse: 3.3765e-07 - mae: 4.6212e-04 - val_loss: 3.2981e-07 - val_mse: 3.2981e-07 - val_mae: 4.5646e-04\n"
     ]
    }
   ],
   "source": [
    "sgd = optimizers.SGD(lr=0.2)\n",
    "model.compile(loss='mse',\n",
    "              optimizer=sgd,\n",
    "              metrics=['mse','mae'])\n",
    "history = model.fit(X_train, y_train, epochs=1000,\n",
    "                    validation_data=(X_valid, y_valid))"
   ]
  },
  {
   "cell_type": "code",
   "execution_count": 308,
   "metadata": {},
   "outputs": [
    {
     "data": {
      "application/vnd.plotly.v1+json": {
       "config": {
        "plotlyServerURL": "https://plot.ly"
       },
       "data": [
        {
         "name": "error",
         "type": "scatter",
         "y": [
          0.22180622816085815,
          0.019713260233402252,
          0.017006663605570793,
          0.016731416806578636,
          0.013561167754232883,
          0.010833779349923134,
          0.009026901796460152,
          0.007697723805904388,
          0.005635131616145372,
          0.0038735431153327227,
          0.0029375797603279352,
          0.001962352078408003,
          0.0012430264614522457,
          0.0007722327718511224,
          0.0005034540663473308,
          0.000359802768798545,
          0.00024373747874051332,
          0.00017673858383204788,
          0.0001407533563906327,
          0.00013818181469105184,
          0.000120332813821733,
          0.00010422035120427608,
          0.00010524072422413155,
          0.00011329560948070139,
          9.785438305698335e-05,
          0.00010040056076832116,
          0.00010926557297352701,
          9.065072663361207e-05,
          8.726539817871526e-05,
          8.668516966281459e-05,
          8.76144040375948e-05,
          8.051941404119134e-05,
          9.204383241012692e-05,
          9.363910794490948e-05,
          8.080313273239881e-05,
          7.48373131500557e-05,
          7.981624366948381e-05,
          7.376770372502506e-05,
          7.568219007225707e-05,
          7.127057324396446e-05,
          7.778667350066826e-05,
          7.530691073043272e-05,
          6.596587627427652e-05,
          6.600006599910557e-05,
          8.520577102899551e-05,
          7.09076994098723e-05,
          6.688635767204687e-05,
          6.722898979205638e-05,
          6.465465412475169e-05,
          6.272477912716568e-05,
          6.0090256738476455e-05,
          5.810173024656251e-05,
          6.366043817251921e-05,
          6.633353768847883e-05,
          5.73944125790149e-05,
          5.4835196351632476e-05,
          5.5025397159624845e-05,
          5.783109736512415e-05,
          5.266616790322587e-05,
          5.3130243031773716e-05,
          4.9546375521458685e-05,
          5.087874524178915e-05,
          5.6504261010559276e-05,
          5.322751894709654e-05,
          5.248618981568143e-05,
          6.015496182953939e-05,
          6.071078678360209e-05,
          4.986470958101563e-05,
          4.355668352218345e-05,
          4.3323158024577424e-05,
          4.369460657471791e-05,
          4.458116018213332e-05,
          7.530255970777944e-05,
          4.9130288971355185e-05,
          3.863549864036031e-05,
          4.322225504438393e-05,
          3.7148234696360305e-05,
          3.9814578485675156e-05,
          3.774771903408691e-05,
          3.900153751601465e-05,
          4.025398084195331e-05,
          3.588925756048411e-05,
          3.47705754393246e-05,
          3.762709820875898e-05,
          3.815504169324413e-05,
          4.181546319159679e-05,
          3.999911859864369e-05,
          3.52390379703138e-05,
          3.411007492104545e-05,
          3.623260636231862e-05,
          3.215356628061272e-05,
          3.421268775127828e-05,
          3.284067497588694e-05,
          3.892629320034757e-05,
          3.3977801649598405e-05,
          3.273752372479066e-05,
          2.9256685593281873e-05,
          2.831319216056727e-05,
          3.2549636671319604e-05,
          2.7748505090130493e-05,
          2.7641055567073636e-05,
          3.137004387099296e-05,
          3.102373375440948e-05,
          2.7809881430584937e-05,
          2.6540952603681944e-05,
          2.892872907978017e-05,
          2.576131373643875e-05,
          2.5461795303272083e-05,
          2.5777988412301056e-05,
          2.618599683046341e-05,
          2.4518751160940155e-05,
          2.4592176487203687e-05,
          2.4782890250207856e-05,
          4.199106842861511e-05,
          2.3649477952858433e-05,
          2.20579095184803e-05,
          2.4134433260769583e-05,
          2.1794188796775416e-05,
          2.2260393961914815e-05,
          2.0565206796163693e-05,
          2.1699064745916985e-05,
          2.469820174155757e-05,
          1.9185767087037675e-05,
          1.951385274878703e-05,
          3.0869137845002115e-05,
          1.9149771105730906e-05,
          2.2304193407762796e-05,
          1.9009194147656672e-05,
          1.8592811102280393e-05,
          2.1017676772316918e-05,
          2.003728150157258e-05,
          1.812776827136986e-05,
          1.9417551811784506e-05,
          2.1692887457902543e-05,
          1.6265052181552164e-05,
          1.6955505998339504e-05,
          1.5734996850369498e-05,
          1.9112587324343622e-05,
          1.6309024431393482e-05,
          1.64086050062906e-05,
          1.5394871297758073e-05,
          1.830923793022521e-05,
          1.612752748769708e-05,
          1.6085943570942618e-05,
          1.6177351426449604e-05,
          1.589965177117847e-05,
          1.5271380107151344e-05,
          1.528492066427134e-05,
          1.8027363694272935e-05,
          1.381039692205377e-05,
          1.3411281543085352e-05,
          1.41097425512271e-05,
          1.2922160749440081e-05,
          1.3937553376308642e-05,
          1.5184758922259789e-05,
          1.3897633834858425e-05,
          1.5616720702382736e-05,
          1.4461870705417823e-05,
          1.224215611728141e-05,
          1.2448534107534215e-05,
          1.3599626072391402e-05,
          1.2257191883691121e-05,
          1.166286165243946e-05,
          1.1520092812133953e-05,
          1.2452846931410022e-05,
          1.3046641470282339e-05,
          1.2317066648392938e-05,
          1.3448481695377268e-05,
          1.1954914953093976e-05,
          1.0255500455969013e-05,
          1.0485225175216328e-05,
          1.2014394087600522e-05,
          9.950984349416103e-06,
          1.2491719644458499e-05,
          1.0270161510561593e-05,
          1.4537568858941086e-05,
          1.0414246389700565e-05,
          1.0185847713728435e-05,
          1.0228323844785336e-05,
          9.983955351344775e-06,
          9.508407856628764e-06,
          9.888544809655286e-06,
          8.975640412245411e-06,
          8.742204954614863e-06,
          9.385429621033836e-06,
          9.382893040310591e-06,
          8.83877419255441e-06,
          1.254295239050407e-05,
          8.621602319180965e-06,
          9.870938811218366e-06,
          8.515924491803162e-06,
          8.270972102764063e-06,
          9.315534043707885e-06,
          8.618216270406265e-06,
          9.124373718805145e-06,
          7.3767732828855515e-06,
          8.800399882602505e-06,
          9.125158612732776e-06,
          8.460378012387082e-06,
          7.3979254011646844e-06,
          8.670875104144216e-06,
          8.002833965292666e-06,
          8.27769599709427e-06,
          7.283843842742499e-06,
          9.393467735208105e-06,
          7.720857865933795e-06,
          8.127370165311731e-06,
          8.035964128794149e-06,
          7.940123396110721e-06,
          7.442457899742294e-06,
          7.1574540925212204e-06,
          8.894024176697712e-06,
          6.229288374015596e-06,
          6.829807716712821e-06,
          6.51107075100299e-06,
          6.337980721582426e-06,
          6.717984433635138e-06,
          6.134770046628546e-06,
          5.704147042706609e-06,
          5.557563781621866e-06,
          6.042822406016057e-06,
          5.638553830067394e-06,
          5.615155714622233e-06,
          5.51737321075052e-06,
          5.486673217092175e-06,
          6.775812835257966e-06,
          5.750150648964336e-06,
          5.354184395400807e-06,
          5.2481464081211016e-06,
          5.178808351047337e-06,
          6.562253929587314e-06,
          5.985923962725792e-06,
          5.791084731754381e-06,
          4.952591098117409e-06,
          5.5900609368109144e-06,
          4.4773191802960355e-06,
          4.821495167561807e-06,
          4.8167498789553065e-06,
          4.581590019370196e-06,
          4.473676199268084e-06,
          4.711652763944585e-06,
          4.452669600141235e-06,
          4.792491836269619e-06,
          4.291875029593939e-06,
          5.084560143586714e-06,
          5.013536338083213e-06,
          4.333001470513409e-06,
          4.700686986325309e-06,
          4.078572601429187e-06,
          4.6057493818807416e-06,
          3.863406163873151e-06,
          3.985743205703329e-06,
          3.902795469912235e-06,
          3.920637027476914e-06,
          4.1954167500080075e-06,
          3.6704391277453396e-06,
          4.825208634429146e-06,
          6.249498710531043e-06,
          3.917753019777592e-06,
          3.805220330832526e-06,
          3.6392364108905895e-06,
          3.7815932500961935e-06,
          3.4894428608822636e-06,
          3.411567149669281e-06,
          3.328284037706908e-06,
          3.515804564813152e-06,
          3.4504919312894344e-06,
          3.6174903925711988e-06,
          3.1999620659917127e-06,
          3.4459237667761045e-06,
          3.1558834052702878e-06,
          3.741414502655971e-06,
          3.3397952847735723e-06,
          4.483658358367393e-06,
          3.1772574402566534e-06,
          2.991813971675583e-06,
          3.063520125579089e-06,
          3.1840720566833625e-06,
          3.001824325110647e-06,
          3.2074460705189267e-06,
          3.180466592311859e-06,
          3.0407304620894138e-06,
          2.857996378224925e-06,
          3.2186460430239094e-06,
          2.9801701657561352e-06,
          2.58681939158123e-06,
          2.936796818175935e-06,
          3.384630872460548e-06,
          2.682554168131901e-06,
          2.909955583163537e-06,
          2.5964607175410492e-06,
          2.4555690743000014e-06,
          2.799131607389427e-06,
          2.640777211126988e-06,
          2.619564156702836e-06,
          2.4841597223712597e-06,
          2.3740158212604e-06,
          2.7687665351550095e-06,
          2.308433522557607e-06,
          2.4850235149642685e-06,
          2.2586882550967857e-06,
          2.2978222204983467e-06,
          2.4416090127488133e-06,
          2.4043517896643607e-06,
          2.255842218801263e-06,
          2.0866584691248136e-06,
          2.924263299064478e-06,
          2.112953552568797e-06,
          2.1939276848570444e-06,
          2.2071255898481468e-06,
          2.140257493010722e-06,
          2.3872746623965213e-06,
          2.166055764973862e-06,
          2.1026448848715518e-06,
          1.958792381628882e-06,
          2.074048779832083e-06,
          2.3332988803304033e-06,
          2.3039815459924284e-06,
          2.0513205072347773e-06,
          2.0909922113787616e-06,
          2.0308045804995345e-06,
          2.0168108676443808e-06,
          1.9437040919001447e-06,
          2.055090362773626e-06,
          2.2263502614805475e-06,
          1.7132756511273328e-06,
          1.7269320551349665e-06,
          1.8667176391318208e-06,
          1.6799478999018902e-06,
          2.255965910080704e-06,
          1.7173108517454239e-06,
          1.750684987200657e-06,
          1.9191697901987936e-06,
          1.7164305745609454e-06,
          1.670880237725214e-06,
          2.467589183652308e-06,
          1.6785710386102437e-06,
          1.7260961158171995e-06,
          1.7604556887818035e-06,
          1.5742411960673053e-06,
          1.7999470856011612e-06,
          1.6409927638960653e-06,
          1.7387214938935358e-06,
          1.759001634127344e-06,
          1.7426864360459149e-06,
          1.8636815184436273e-06,
          1.5716741472715512e-06,
          1.573421286593657e-06,
          1.628210952731024e-06,
          1.5028813322714996e-06,
          1.636222577872104e-06,
          1.4489594377664616e-06,
          1.5097236882866127e-06,
          1.3926709243605728e-06,
          1.3976899708723067e-06,
          1.3392688060775981e-06,
          1.4386703242053045e-06,
          1.7615025171835441e-06,
          1.65287474374054e-06,
          1.3829935596731957e-06,
          1.612995106370363e-06,
          1.256218411072041e-06,
          1.2647141147681396e-06,
          1.308605533267837e-06,
          1.5053325341796153e-06,
          1.2005746157228714e-06,
          1.8058055957226316e-06,
          1.2807186067220755e-06,
          1.2843736385548254e-06,
          1.2167812428742764e-06,
          1.3896932387069683e-06,
          1.1491949862829642e-06,
          1.3406165635387879e-06,
          1.1352674391673645e-06,
          1.0911212484643329e-06,
          1.1938167290281854e-06,
          1.290908357987064e-06,
          1.161482032330241e-06,
          1.1593763247219613e-06,
          1.2991541780138505e-06,
          1.1106264992122306e-06,
          1.1910968851225334e-06,
          1.0772323548735585e-06,
          1.241259383277793e-06,
          1.5137458149183658e-06,
          1.1313001095913933e-06,
          1.160323108706507e-06,
          1.2945713478984544e-06,
          1.0665125955711119e-06,
          1.0198662039329065e-06,
          1.1923377769562649e-06,
          1.2247767244843999e-06,
          1.0551163995842217e-06,
          1.0990829650836531e-06,
          1.1223928595427424e-06,
          1.091235958483594e-06,
          9.855622238319484e-07,
          1.0735287787611014e-06,
          1.1400219364077202e-06,
          1.0426820153952576e-06,
          1.0502278655621922e-06,
          9.983597237805952e-07,
          1.0642324923537672e-06,
          9.257763053938106e-07,
          9.419209732186573e-07,
          1.108790684156702e-06,
          1.0679483466446982e-06,
          1.008980575534224e-06,
          8.88778856733552e-07,
          1.1007469993273844e-06,
          8.19709271127067e-07,
          9.283702411266859e-07,
          1.0558156873230473e-06,
          9.065504400496138e-07,
          1.0184520533584873e-06,
          9.361147021991201e-07,
          1.0272807458022726e-06,
          9.11336201170343e-07,
          9.214983833771839e-07,
          9.261111699743196e-07,
          8.774160846769519e-07,
          8.81051448686776e-07,
          9.817862292038626e-07,
          8.711422765372845e-07,
          1.0085420854011318e-06,
          7.92048410858115e-07,
          8.063193490670528e-07,
          8.225954388763057e-07,
          8.785696650193131e-07,
          8.263560289378802e-07,
          7.823222176739364e-07,
          8.256273531515035e-07,
          8.974784577731043e-07,
          7.958121841511456e-07,
          7.330891662604699e-07,
          9.327825409854995e-07,
          1.008435788207862e-06,
          8.082438966994232e-07,
          7.6018278605261e-07,
          1.002190401777625e-06,
          8.525040584572707e-07,
          7.528528840339277e-07,
          7.787533036207606e-07,
          8.351652240889962e-07,
          7.035864086901711e-07,
          7.334915608225856e-07,
          7.742926868559152e-07,
          8.145387937474879e-07,
          7.616446850988723e-07,
          7.741183480902691e-07,
          7.581906515952141e-07,
          6.660711164840905e-07,
          6.76990623560414e-07,
          7.932658832032757e-07,
          7.609368708472175e-07,
          6.499856226582779e-07,
          6.816821382926719e-07,
          7.550324312433077e-07,
          6.777058842999395e-07,
          7.012564537944854e-07,
          6.673566872450465e-07,
          6.639874641223287e-07,
          6.691195721941767e-07,
          8.096766350718099e-07,
          7.593456530230469e-07,
          6.647928216807486e-07,
          9.539269285596674e-07,
          6.109262926656811e-07,
          7.204508847280522e-07,
          6.220338377715962e-07,
          6.332161319733132e-07,
          7.775175845381455e-07,
          6.710412776556041e-07,
          7.154728791647358e-07,
          6.053114702808671e-07,
          7.47681440316228e-07,
          1.0714068139350275e-06,
          6.98484541317157e-07,
          5.958884798928921e-07,
          7.916625008874689e-07,
          7.332561153816641e-07,
          1.0707890396588482e-06,
          6.264835406000202e-07,
          5.740619144489756e-07,
          6.055977337382501e-07,
          6.369201059897023e-07,
          7.170125968514185e-07,
          5.983304731671524e-07,
          5.91542118399957e-07,
          6.321816954368842e-07,
          5.735573722631671e-07,
          7.885615218583553e-07,
          5.750687819272571e-07,
          6.588439873667085e-07,
          6.474186307059426e-07,
          6.064645958758774e-07,
          5.73622344290925e-07,
          7.072638368299522e-07,
          5.934494424764125e-07,
          6.4434703972438e-07,
          5.607934099316481e-07,
          6.382313131325645e-07,
          5.668750873155659e-07,
          6.527270670630969e-07,
          5.591483613898163e-07,
          5.980068067401589e-07,
          6.070214340070379e-07,
          6.53865185995528e-07,
          9.118084562942386e-07,
          6.754672199349443e-07,
          6.652268780271697e-07,
          5.983274036225339e-07,
          6.543688186866348e-07,
          5.170801955500792e-07,
          4.973345539838192e-07,
          5.427678502201161e-07,
          6.046604994480731e-07,
          5.093380082143995e-07,
          6.065587285775109e-07,
          5.737369406233483e-07,
          5.504112436938158e-07,
          4.965851303495583e-07,
          4.986143267160514e-07,
          5.158652243153483e-07,
          6.297021286627569e-07,
          4.897879080090206e-07,
          5.245371426099155e-07,
          5.279288757265022e-07,
          5.596383516603964e-07,
          5.283729933580616e-07,
          5.734290198233793e-07,
          5.415944883679913e-07,
          7.242994684020232e-07,
          4.791322112396301e-07,
          5.478807452163892e-07,
          1.1302777238597628e-06,
          4.992922981728043e-07,
          4.898187171420432e-07,
          5.340202164916263e-07,
          5.626283154924749e-07,
          5.158756835044187e-07,
          4.985269583812624e-07,
          4.813824716620729e-07,
          5.768451956100762e-07,
          5.153037250238413e-07,
          4.952191829943331e-07,
          5.245594252301089e-07,
          5.051894618191e-07,
          5.094900643598521e-07,
          4.945188152305491e-07,
          5.203492605687643e-07,
          5.135115657139977e-07,
          5.673254577232001e-07,
          4.996807092538802e-07,
          5.078662184132554e-07,
          4.517226841471711e-07,
          4.547192702375469e-07,
          6.31025216080161e-07,
          5.70133124710992e-07,
          4.790465482074069e-07,
          5.013275199416967e-07,
          4.548125787096069e-07,
          4.5776499746352783e-07,
          5.073817987977236e-07,
          5.697089591194526e-07,
          5.51795153569401e-07,
          4.497588577123679e-07,
          4.4513265606838104e-07,
          4.985557211512059e-07,
          5.199976840231102e-07,
          4.5749465016342583e-07,
          5.370916937863512e-07,
          4.3367890611989424e-07,
          4.3481881562001945e-07,
          4.45294176643074e-07,
          5.118523063174507e-07,
          4.510538360591454e-07,
          5.447130888569518e-07,
          4.4586292347048584e-07,
          4.383473424240947e-07,
          4.779759592565824e-07,
          4.1630150349192263e-07,
          5.883169933440513e-07,
          4.784230895893415e-07,
          4.826509893973707e-07,
          4.2587876691868587e-07,
          4.7574300765518274e-07,
          4.570518115087907e-07,
          6.079883405618602e-07,
          6.756758921255823e-07,
          4.4385348019204685e-07,
          4.1156573615808156e-07,
          6.108918455538515e-07,
          4.861532261202228e-07,
          4.473741910260287e-07,
          4.4724458803102607e-07,
          5.327985377334699e-07,
          5.081916469862335e-07,
          5.088152192911366e-07,
          5.112256076245103e-07,
          4.785727014677832e-07,
          4.115773606372386e-07,
          4.40366648035706e-07,
          4.3033972474404436e-07,
          4.546368472801987e-07,
          4.7462555130550754e-07,
          3.95325258750745e-07,
          4.358847149887879e-07,
          4.5212331656330207e-07,
          4.5527954739554843e-07,
          4.360157674909715e-07,
          4.792544245901809e-07,
          3.9023512954372563e-07,
          4.1792097249526705e-07,
          4.024853126338712e-07,
          4.571707847844664e-07,
          4.195463816358824e-07,
          5.203385740060185e-07,
          4.1011162466020323e-07,
          4.1094381231232546e-07,
          4.137159805850388e-07,
          4.3703730057131907e-07,
          3.9942463558872987e-07,
          4.366431483049382e-07,
          4.1303889020127826e-07,
          4.3374978986321366e-07,
          4.1688304008857813e-07,
          4.1418624618927424e-07,
          4.589643936014909e-07,
          4.2549510226308485e-07,
          4.32605361311289e-07,
          4.047295476539148e-07,
          3.8929306356294546e-07,
          4.0294412428920623e-07,
          4.0995618633132835e-07,
          4.456400120034232e-07,
          6.110237222856085e-07,
          4.80690630411118e-07,
          4.027084514746093e-07,
          5.500966153704212e-07,
          4.355295004643267e-07,
          4.635794255136716e-07,
          5.642468181576987e-07,
          4.160293372024171e-07,
          4.269698763437191e-07,
          4.175332719569269e-07,
          3.8411471336985414e-07,
          4.92100014071184e-07,
          4.970160034645232e-07,
          5.802461373605183e-07,
          4.5462209641300433e-07,
          3.9990629829844693e-07,
          4.825923838325252e-07,
          4.04017441724136e-07,
          4.2868737182288896e-07,
          6.239981757971691e-07,
          3.8774939525865193e-07,
          4.939934115100186e-07,
          4.2697899971244624e-07,
          4.215479521008092e-07,
          3.9899452985991957e-07,
          4.229402463806764e-07,
          6.719996576975973e-07,
          6.474663223343669e-07,
          3.9756736214258126e-07,
          3.7562475085906044e-07,
          4.6798558628324827e-07,
          3.8228287735364574e-07,
          3.94399251035793e-07,
          4.063600727022276e-07,
          3.847025595860032e-07,
          3.788497053847095e-07,
          3.6429460692488647e-07,
          4.831671844840457e-07,
          4.0259621414406865e-07,
          4.1506442016725487e-07,
          3.841255136194377e-07,
          3.886839010647236e-07,
          3.8384865774787613e-07,
          3.8880338593116903e-07,
          4.7501106337222154e-07,
          4.6936366970840027e-07,
          4.0611695339975995e-07,
          4.438149119323498e-07,
          3.8044916550461494e-07,
          4.244111551088281e-07,
          3.657216893770965e-07,
          4.1517986915096117e-07,
          4.6332706915563904e-07,
          4.173116394667886e-07,
          3.8287657844193745e-07,
          4.707464427156083e-07,
          3.5281783539176104e-07,
          4.3510075897756906e-07,
          4.552696850623761e-07,
          4.317413981880236e-07,
          4.4702647983285715e-07,
          3.7521550666497205e-07,
          3.562966810477519e-07,
          3.5527759223441535e-07,
          3.8507374711116427e-07,
          4.5822054062227835e-07,
          4.445214472070802e-07,
          4.848651542488369e-07,
          4.4084268324695586e-07,
          3.6019895333083696e-07,
          3.6469106134973117e-07,
          4.634534889191855e-07,
          4.5039925566925376e-07,
          3.830261903203791e-07,
          4.328343834458792e-07,
          3.658967102637689e-07,
          4.253699614764628e-07,
          3.786201716593496e-07,
          5.304829073793371e-07,
          4.940525286656339e-07,
          4.2729067217806005e-07,
          3.942012654079008e-07,
          4.2222453089379997e-07,
          4.177148014150589e-07,
          3.819717164788017e-07,
          4.037302403503418e-07,
          4.0189388528233394e-07,
          4.6747817350478726e-07,
          3.69884105566598e-07,
          3.8816091318949475e-07,
          3.640556940354145e-07,
          3.490809490358515e-07,
          3.753183648314007e-07,
          5.000248393116635e-07,
          3.75234719740547e-07,
          4.0510315102437744e-07,
          4.576041874315706e-07,
          4.462501976831845e-07,
          3.635663290424418e-07,
          4.115441640806239e-07,
          4.32707054187631e-07,
          3.684177727336646e-07,
          3.761168727578479e-07,
          3.574044740162208e-07,
          3.7339077607612126e-07,
          3.646115374067449e-07,
          3.7994249169059913e-07,
          3.957427452405682e-07,
          3.890930599936837e-07,
          3.523396685523039e-07,
          4.0519802269045613e-07,
          4.0130385059455875e-07,
          3.953107921006449e-07,
          4.0496348674423643e-07,
          3.594825557229342e-07,
          3.849120560062147e-07,
          3.6671610814664746e-07,
          3.607595999710611e-07,
          3.805233745879377e-07,
          3.7391154705801455e-07,
          3.8073380892456044e-07,
          3.637518943833129e-07,
          4.5049927166473935e-07,
          3.672171260404866e-07,
          3.6627517374654417e-07,
          4.206144410545676e-07,
          3.6303981687524356e-07,
          4.3694166151908576e-07,
          3.481439989627688e-07,
          3.639181898051902e-07,
          3.8316886730171973e-07,
          3.6647932688538276e-07,
          4.0414272461930523e-07,
          3.868682938446e-07,
          4.074118180596997e-07,
          3.7614938719343627e-07,
          3.907803716174385e-07,
          4.1623562196946295e-07,
          3.579835379241558e-07,
          6.903718485773425e-07,
          4.944953957419784e-07,
          3.8218155395952635e-07,
          3.7339515301937354e-07,
          3.862713526814332e-07,
          4.164041342846758e-07,
          4.564542734897259e-07,
          3.695719783536333e-07,
          4.000500553047459e-07,
          3.555875025540445e-07,
          4.1110112647402275e-07,
          4.379033384793729e-07,
          3.85729919116784e-07,
          3.6589645446838404e-07,
          4.1770999814616516e-07,
          4.474306365409575e-07,
          3.4673928439588053e-07,
          3.7508510786210536e-07,
          4.57375534779203e-07,
          4.4553283373716113e-07,
          5.315433782016044e-07,
          3.587840069485537e-07,
          3.8062415796957794e-07,
          3.5774601769844594e-07,
          3.763256017919048e-07,
          3.466754208147904e-07,
          4.5173393914410553e-07,
          4.4751294581146794e-07,
          4.0101332388076116e-07,
          4.201383489998989e-07,
          4.1883978951773315e-07,
          3.6009816994919674e-07,
          3.354192585902638e-07,
          3.667139196750213e-07,
          4.892879701401398e-07,
          3.6481685583567014e-07,
          3.408831048545835e-07,
          4.2160604607488494e-07,
          3.524522753650672e-07,
          4.4215244088263717e-07,
          4.798979489351041e-07,
          4.143059584293951e-07,
          5.365446895666537e-07,
          3.6524193092191126e-07,
          3.607008807193779e-07,
          3.5974744605482556e-07,
          4.0526163047616137e-07,
          3.394535212919436e-07,
          3.7209727565823414e-07,
          3.5523103747436835e-07,
          5.119574097989243e-07,
          3.925015050754155e-07,
          3.475945788977697e-07,
          3.8285423897832516e-07,
          3.681018085899268e-07,
          3.4870436138589866e-07,
          4.344978492554219e-07,
          3.786311424391897e-07,
          3.963003791795927e-07,
          4.473861565656989e-07,
          3.5339724036020925e-07,
          3.680328006794298e-07,
          3.365285010659136e-07,
          4.410430562984402e-07,
          3.805120627475844e-07,
          4.4179785163578345e-07,
          3.716446883572644e-07,
          3.4059786457873997e-07,
          5.017370199311699e-07,
          4.200211378702079e-07,
          3.621029236455797e-07,
          4.5038632379146293e-07,
          3.419240783841815e-07,
          3.9807250118428783e-07,
          4.763524543704989e-07,
          3.853294288092002e-07,
          3.883092176693026e-07,
          4.370870669845317e-07,
          3.668318697691575e-07,
          3.5566330325309536e-07,
          3.9111509408940037e-07,
          3.4955547789650154e-07,
          3.482982435798476e-07,
          3.9193162137962645e-07,
          3.711747922352515e-07,
          3.549411076164688e-07,
          3.421907024403481e-07,
          4.1594415733925416e-07,
          3.4772699564200593e-07,
          4.0843991655492573e-07,
          4.7392967417181353e-07,
          4.334917207415856e-07,
          3.2755045253907156e-07,
          3.525528029513225e-07,
          5.104022875457304e-07,
          4.840341034650919e-07,
          5.073310944680998e-07,
          3.498764726828085e-07,
          3.453904469097324e-07,
          3.813402713603864e-07,
          3.7978406908223405e-07,
          3.330734159590065e-07,
          3.3718788472469896e-07,
          4.6885560323062236e-07,
          3.6598657970898785e-07,
          3.597805857680214e-07,
          3.516725826102629e-07,
          4.844845875595638e-07,
          4.217904461256694e-07,
          3.7574329780909466e-07,
          6.252702178244363e-07,
          3.580247494028299e-07,
          3.8089132203822373e-07,
          3.7316306134016486e-07,
          4.191605569303647e-07,
          3.397859984488605e-07,
          3.376887889317004e-07,
          3.333069287236867e-07,
          3.717134973157954e-07,
          3.356321087721881e-07,
          3.4700769901974127e-07,
          3.9982580801734e-07,
          3.367365195572347e-07,
          4.1101128545051324e-07,
          3.5605654602477443e-07,
          3.6060308161722787e-07,
          3.5523311225915677e-07,
          3.4776607549247274e-07,
          3.8122374235172174e-07,
          3.693737937737751e-07,
          4.258470198692521e-07,
          3.714785634656437e-07,
          3.839205930944445e-07,
          4.438689700236864e-07,
          5.718764555240341e-07,
          3.4739190368782147e-07,
          3.8983858985375264e-07,
          3.399586887553596e-07,
          4.1903524561348604e-07,
          3.562249446531496e-07,
          3.374709081072069e-07,
          3.7240360484247503e-07,
          3.3292536727458355e-07,
          3.6062417052562523e-07,
          3.664857217700046e-07,
          3.374639732101059e-07,
          3.4258596315339673e-07,
          3.4482502542232396e-07,
          3.7368056382547366e-07,
          3.426402486184088e-07,
          4.133756590363191e-07,
          3.511254362820182e-07,
          3.32883928422234e-07,
          3.4795033343471005e-07,
          4.0983485405376996e-07,
          3.4049904229505046e-07,
          3.4766682688314177e-07,
          3.791015217302629e-07,
          3.352309363435779e-07,
          3.281436420365935e-07,
          3.770783223444596e-07,
          3.9211653302118066e-07,
          6.056730512682407e-07,
          3.5266370446151996e-07,
          3.4886477351392386e-07,
          3.881888233081554e-07,
          3.5129158959534834e-07,
          4.1252368987443333e-07,
          3.5964461631010636e-07,
          3.6438021311369084e-07,
          3.5018217658944195e-07,
          3.898437910265784e-07,
          3.593080464270315e-07,
          4.930776071887522e-07,
          4.1294492802990135e-07,
          3.454420323123486e-07,
          3.914051660558471e-07,
          3.535713517521799e-07,
          3.707562541421794e-07,
          3.5063777659161133e-07,
          4.780060862685787e-07,
          3.712960392476816e-07,
          3.550117924078222e-07,
          3.897440592481871e-07,
          4.0034436210589774e-07,
          3.611925762925239e-07,
          3.562777806109807e-07,
          4.438697942532599e-07,
          3.8455695516859123e-07,
          3.865906990085932e-07,
          3.331126663397299e-07,
          3.8758685150241945e-07,
          5.2302101494206e-07,
          3.3543417998771474e-07,
          4.465446181711741e-07,
          3.73634691186453e-07,
          3.9119237271734164e-07,
          3.375730557308998e-07,
          3.397462648990768e-07,
          4.212919009205507e-07,
          4.13311397551297e-07,
          4.6818507826174027e-07,
          3.4171026186413656e-07,
          3.7052140555715596e-07,
          3.820586584879493e-07,
          3.851298799872893e-07,
          4.2016412749035226e-07,
          5.136922140991373e-07,
          4.07575271310634e-07,
          3.530923606831493e-07,
          3.333476570333005e-07,
          4.0008580981520936e-07,
          3.4564055795271997e-07,
          4.158230240136618e-07,
          3.2463762522638717e-07,
          4.0475532614436815e-07,
          4.1789490978771937e-07,
          4.018220636226033e-07,
          3.821980669727054e-07,
          3.901275249518221e-07,
          3.3616456107665726e-07,
          3.447584049354191e-07,
          3.4567082707326335e-07,
          4.31189505434304e-07,
          3.3764837326089037e-07
         ]
        },
        {
         "name": "error val",
         "type": "scatter",
         "y": [
          0.021416235715150833,
          0.017098620533943176,
          0.015358690172433853,
          0.013449009507894516,
          0.01220911368727684,
          0.010841337963938713,
          0.008316745050251484,
          0.006186542101204395,
          0.004801349714398384,
          0.0043695103377103806,
          0.002221271861344576,
          0.0013354562688618898,
          0.0008747951942496002,
          0.000606484420131892,
          0.0004414782451931387,
          0.0002890783071052283,
          0.0002030636533163488,
          0.00014799670316278934,
          0.00012860607239417732,
          0.00012289690494071692,
          0.0001039503695210442,
          9.827573376242071e-05,
          0.00011270781396888196,
          0.0001103050381061621,
          9.524418419459835e-05,
          0.00011463947157608345,
          8.788324339548126e-05,
          0.00010499749623704702,
          9.371460328111425e-05,
          8.372853335458785e-05,
          8.307479583891109e-05,
          7.85394076956436e-05,
          0.000131447974126786,
          7.845279469620436e-05,
          7.502419612137601e-05,
          7.274802192114294e-05,
          7.399432070087641e-05,
          8.081037958618253e-05,
          7.275509415194392e-05,
          7.096786430338398e-05,
          7.260384154506028e-05,
          7.850032852729782e-05,
          6.601666245842353e-05,
          6.631314317928627e-05,
          9.094419510802254e-05,
          6.118734017945826e-05,
          7.349113730015233e-05,
          6.364882574416697e-05,
          8.046413131523877e-05,
          6.432995724026114e-05,
          5.7396868214709684e-05,
          6.161686906125396e-05,
          6.128779932623729e-05,
          5.534375668503344e-05,
          5.419377703219652e-05,
          5.461977343657054e-05,
          6.297972868196666e-05,
          5.0844773795688525e-05,
          5.109268022351898e-05,
          4.8882597184274346e-05,
          5.460787360789254e-05,
          4.7601199185010046e-05,
          6.575990846613422e-05,
          5.3667681640945375e-05,
          5.019516538595781e-05,
          5.763910667155869e-05,
          5.086039527668618e-05,
          4.398826422402635e-05,
          4.247277684044093e-05,
          4.2004845454357564e-05,
          4.361142055131495e-05,
          5.613742541754618e-05,
          6.303872942226008e-05,
          4.070392606081441e-05,
          5.684383722837083e-05,
          3.785857916227542e-05,
          3.847130938083865e-05,
          3.778046811930835e-05,
          4.381889448268339e-05,
          3.732560435310006e-05,
          3.719945379998535e-05,
          3.5635257518151775e-05,
          3.83900769520551e-05,
          3.632364678196609e-05,
          3.6750097933690995e-05,
          4.263878145138733e-05,
          3.527786611812189e-05,
          3.3123309549409896e-05,
          3.184081651852466e-05,
          3.7069690733915195e-05,
          3.164991721860133e-05,
          3.566341183613986e-05,
          4.008644464192912e-05,
          3.093363920925185e-05,
          3.070007005590014e-05,
          2.873123958124779e-05,
          3.0033999792067334e-05,
          2.8573849704116583e-05,
          3.411609213799238e-05,
          2.6832463845494203e-05,
          2.868734736694023e-05,
          2.771038271021098e-05,
          2.8527399990707636e-05,
          2.5768034902284853e-05,
          2.4867804313544184e-05,
          2.452025182719808e-05,
          2.5006240321090445e-05,
          2.5907011149683967e-05,
          2.5845251002465375e-05,
          2.3261063688551076e-05,
          2.974917515530251e-05,
          2.419132215436548e-05,
          3.412747901165858e-05,
          2.750393105088733e-05,
          2.148335443052929e-05,
          2.4387805751757696e-05,
          2.1025272872066125e-05,
          2.395403862465173e-05,
          2.2253716451814398e-05,
          2.0434388716239482e-05,
          2.189649603678845e-05,
          1.9811690435744822e-05,
          1.9096341929980554e-05,
          2.1009000192862004e-05,
          2.2411844838643447e-05,
          2.153602326870896e-05,
          2.356866025365889e-05,
          1.936585977091454e-05,
          2.0509076421149075e-05,
          1.991668250411749e-05,
          2.1213400032138452e-05,
          1.7469326849095523e-05,
          2.20900219574105e-05,
          1.6844371202751063e-05,
          1.6335383406840265e-05,
          1.6327587218256667e-05,
          1.730520489218179e-05,
          1.7065343854483217e-05,
          1.7320109691354446e-05,
          1.510168112872634e-05,
          1.8126673239748925e-05,
          1.6246267477981746e-05,
          1.5036268450785428e-05,
          1.8161044863518327e-05,
          1.4824141544522718e-05,
          1.5144232747843489e-05,
          1.5916661141091026e-05,
          1.454146968171699e-05,
          1.4395021935342811e-05,
          1.3576136552728713e-05,
          1.3978808055981062e-05,
          1.3900904377806e-05,
          1.3034488802077249e-05,
          1.3531938748201355e-05,
          1.349234844383318e-05,
          1.2916618288727477e-05,
          1.283339224755764e-05,
          1.372498445562087e-05,
          1.219569458044134e-05,
          1.3130997103871778e-05,
          1.1490386896184646e-05,
          1.1786342838604469e-05,
          1.1957437891396694e-05,
          1.1424113836255856e-05,
          1.3610728274215944e-05,
          1.441200129193021e-05,
          1.2636983228730969e-05,
          1.1034098861273378e-05,
          1.0929063137155026e-05,
          1.1591323527682107e-05,
          1.0414812095405068e-05,
          1.0726140317274258e-05,
          9.856235919869505e-06,
          9.99122676148545e-06,
          1.0945474969048519e-05,
          1.1413223546696827e-05,
          1.2090882592019625e-05,
          9.589130968379322e-06,
          1.5620946214767173e-05,
          9.355821021017618e-06,
          1.2327016520430334e-05,
          9.747855074238032e-06,
          8.692245501151774e-06,
          9.633899935579393e-06,
          8.666638677823357e-06,
          8.906021321308799e-06,
          9.713481631479226e-06,
          8.120759048324544e-06,
          9.912777386489324e-06,
          1.0905569070018828e-05,
          8.157344382198062e-06,
          9.30470741877798e-06,
          9.914443580782972e-06,
          7.691711289226077e-06,
          8.007210453797597e-06,
          8.622365385235753e-06,
          7.424302566505503e-06,
          1.2535649148048833e-05,
          7.133203325793147e-06,
          6.977395969443023e-06,
          8.014047125470825e-06,
          7.581355475849705e-06,
          6.863384442112874e-06,
          7.662454663659446e-06,
          1.1317491953377612e-05,
          6.467531420639716e-06,
          8.98080543265678e-06,
          7.1724098233971745e-06,
          1.1293357601971366e-05,
          7.337106126215076e-06,
          6.6620682446227875e-06,
          6.422657406801591e-06,
          7.250759153976105e-06,
          6.286532880039886e-06,
          6.391868282662472e-06,
          6.6201364461448975e-06,
          5.946346391283441e-06,
          6.050405318092089e-06,
          5.951825642114272e-06,
          5.466401944431709e-06,
          5.747647264797706e-06,
          5.831806447531562e-06,
          5.62384411750827e-06,
          6.097802270232933e-06,
          5.283442988002207e-06,
          6.990088877500966e-06,
          5.764215529779904e-06,
          6.372837106027873e-06,
          5.035250978835393e-06,
          6.345677320496179e-06,
          5.780108494946035e-06,
          5.988475095364265e-06,
          5.6160029089369345e-06,
          4.635950062947813e-06,
          4.623554104909999e-06,
          4.549329332803609e-06,
          6.694134299323196e-06,
          4.418840035214089e-06,
          5.1503088798199315e-06,
          4.717736374004744e-06,
          4.369626367406454e-06,
          4.257350155967288e-06,
          4.172963599557988e-06,
          4.24053541792091e-06,
          4.44009401689982e-06,
          4.404863375384593e-06,
          4.096551037946483e-06,
          4.406854714034125e-06,
          4.509055543167051e-06,
          3.88498210668331e-06,
          4.355749297246803e-06,
          3.8571215554839e-06,
          3.894555447914172e-06,
          4.873494617640972e-06,
          4.134822120249737e-06,
          3.8971325011516456e-06,
          8.595268809585832e-06,
          3.5424045563559048e-06,
          3.882185410475358e-06,
          3.4498707464081235e-06,
          3.639828719315119e-06,
          3.4660165511013474e-06,
          3.4227145988552365e-06,
          3.8039847822801676e-06,
          3.928922524210066e-06,
          3.822560756816529e-06,
          3.2872585506993346e-06,
          3.214532171114115e-06,
          3.290906533948146e-06,
          3.309967723907903e-06,
          3.6988485589972697e-06,
          3.48884327650012e-06,
          3.384168849152047e-06,
          3.2592688512522727e-06,
          2.955189529529889e-06,
          4.0669619920663536e-06,
          2.9408552109089214e-06,
          3.644227490440244e-06,
          3.133568498014938e-06,
          3.3494404760858743e-06,
          3.010897216881858e-06,
          2.7707108074537246e-06,
          3.09075790028146e-06,
          3.43945521308342e-06,
          2.7147389118908904e-06,
          2.6320417418901343e-06,
          3.699104581755819e-06,
          3.9646224649914075e-06,
          2.600116658868501e-06,
          2.73445812126738e-06,
          2.6334068934374955e-06,
          2.8613962967938278e-06,
          2.511329967092024e-06,
          2.722585350056761e-06,
          2.5217505026375875e-06,
          2.771022991510108e-06,
          2.6068776151078055e-06,
          2.374714540565037e-06,
          2.445679911033949e-06,
          2.4002847567317076e-06,
          2.309642695763614e-06,
          2.4354069410037482e-06,
          2.2243516468734015e-06,
          2.2527283363160677e-06,
          2.1586197362921666e-06,
          3.7075401451147627e-06,
          2.1499358808796387e-06,
          2.5113752144534374e-06,
          2.291194505232852e-06,
          2.0846464394708164e-06,
          2.248493728984613e-06,
          2.245850737381261e-06,
          2.3011725716060027e-06,
          2.068859885184793e-06,
          2.0901811694784556e-06,
          2.7364606012270087e-06,
          2.0974318886146648e-06,
          2.1652233499480644e-06,
          2.188146027037874e-06,
          1.9225471987738274e-06,
          1.8503760657040402e-06,
          1.947853888850659e-06,
          2.0298864455980947e-06,
          3.537806151143741e-06,
          1.9168355720466934e-06,
          1.7978186406253371e-06,
          1.7704139736451907e-06,
          1.8491484752303222e-06,
          2.1799119167553727e-06,
          1.7135282632807503e-06,
          2.247442580483039e-06,
          1.748134195622697e-06,
          1.7486947854195023e-06,
          1.79444339210022e-06,
          1.9442204575170763e-06,
          1.6952075156950741e-06,
          1.7252541510970332e-06,
          1.5844698282307945e-06,
          1.6601890138190356e-06,
          1.7744521301210625e-06,
          1.5343214272434125e-06,
          1.752881189531763e-06,
          2.2540600639331387e-06,
          1.6334001884388272e-06,
          2.6462671485205647e-06,
          1.527630274722469e-06,
          1.9136223272653297e-06,
          1.6651451915095095e-06,
          1.528725533717079e-06,
          2.370158654230181e-06,
          1.4016920886206208e-06,
          2.3034613150230143e-06,
          1.3994939536132733e-06,
          1.5832381450309185e-06,
          1.713822030069423e-06,
          1.430863903806312e-06,
          1.4027132237970363e-06,
          1.4837470416750875e-06,
          1.3339879387785913e-06,
          1.3981330084789079e-06,
          1.3054539067525184e-06,
          1.4056057580091874e-06,
          1.3148836615073378e-06,
          1.7182405827043112e-06,
          1.2869172678620089e-06,
          1.2542279819172109e-06,
          1.219468117596989e-06,
          1.2641843341043568e-06,
          1.2626101124624256e-06,
          1.2751255553666851e-06,
          1.1872735967699555e-06,
          1.1746190011763247e-06,
          1.1872730283357669e-06,
          1.1910975672435598e-06,
          1.1632430414465489e-06,
          1.3327462511369959e-06,
          1.2182463251519948e-06,
          1.3241103715699865e-06,
          1.1484451079013525e-06,
          1.1998504305665847e-06,
          1.112199015551596e-06,
          1.3207049960328732e-06,
          1.0708283753046999e-06,
          1.063537865775288e-06,
          1.4298207133833785e-06,
          1.4758439874640317e-06,
          1.244691361534933e-06,
          1.086422344087623e-06,
          1.1639676813501865e-06,
          1.080092033589608e-06,
          1.2568159490911057e-06,
          1.1246911526541226e-06,
          1.1239233117521508e-06,
          1.0803090617628186e-06,
          9.817109685172909e-07,
          9.95165464701131e-07,
          1.0070878033729969e-06,
          1.2666049542531255e-06,
          1.1128406640636967e-06,
          9.511276175544481e-07,
          1.0389144335931633e-06,
          1.1396061836421723e-06,
          9.438429060537601e-07,
          9.316577234130818e-07,
          9.25414724406437e-07,
          1.0038833124781377e-06,
          1.0395040135335876e-06,
          8.985715567177976e-07,
          9.415252861799672e-07,
          8.922771712605027e-07,
          9.440203712074435e-07,
          1.1184183676959947e-06,
          9.269936640521337e-07,
          9.16028511710465e-07,
          1.103710815186787e-06,
          8.767766530581866e-07,
          9.50388084675069e-07,
          1.0045271210401552e-06,
          8.870253509485337e-07,
          1.0732596820162144e-06,
          8.620821745353169e-07,
          9.32200805436878e-07,
          9.254812312065042e-07,
          8.471914725305396e-07,
          8.923587415665679e-07,
          8.315088280141936e-07,
          8.114742513498641e-07,
          8.472204626741586e-07,
          8.330001719514257e-07,
          1.0067351468023844e-06,
          8.443048500339501e-07,
          7.648654332115257e-07,
          1.1656986771413358e-06,
          7.675052984268405e-07,
          7.602253617733368e-07,
          8.696725899426383e-07,
          7.426088473039272e-07,
          8.125439308059867e-07,
          7.402735491268686e-07,
          7.421959935527411e-07,
          1.1583414334381814e-06,
          8.028495130929514e-07,
          7.594571798108518e-07,
          7.488472988370631e-07,
          7.350752184720477e-07,
          7.122464467101963e-07,
          8.514805927006819e-07,
          1.25459428090835e-06,
          8.342683486262104e-07,
          7.600363005622057e-07,
          7.130453241188661e-07,
          7.059813924570335e-07,
          7.046639325380966e-07,
          7.216589779091009e-07,
          6.869385629215685e-07,
          7.237183012875903e-07,
          7.608587111462839e-07,
          6.820072826485557e-07,
          7.304222435777774e-07,
          6.889460451020568e-07,
          6.953290494493558e-07,
          6.884524168526696e-07,
          6.955089588700503e-07,
          7.296880539797712e-07,
          8.023745863283693e-07,
          8.114843126350024e-07,
          6.369205038936343e-07,
          6.872637641208712e-07,
          6.337913873721845e-07,
          6.367686182784382e-07,
          6.825243872299325e-07,
          9.327370662504109e-07,
          6.318198302324163e-07,
          6.162829322420293e-07,
          6.114409529800469e-07,
          7.806597182025143e-07,
          9.735895218909718e-07,
          7.495779072996811e-07,
          6.093313231758657e-07,
          5.930142492616142e-07,
          5.883238713977335e-07,
          6.194003958626126e-07,
          5.832943088535103e-07,
          6.149677460598468e-07,
          6.130698011475033e-07,
          6.567909736077127e-07,
          6.599040034416248e-07,
          7.072747507663735e-07,
          6.654701110164751e-07,
          7.437769227180979e-07,
          7.324119906115811e-07,
          6.201809128469904e-07,
          5.754189942308585e-07,
          7.277848794728925e-07,
          5.670854648087698e-07,
          7.331676670219167e-07,
          5.934514319960726e-07,
          6.322890158116934e-07,
          6.401706968972576e-07,
          5.797912763227941e-07,
          5.480797540258209e-07,
          5.697388587577734e-07,
          5.541979817280662e-07,
          5.481945777319197e-07,
          5.798559641334577e-07,
          7.181479304563254e-07,
          5.453798621601891e-07,
          8.297309932459029e-07,
          6.927095341779932e-07,
          6.377524641720811e-07,
          6.488540975624346e-07,
          6.32301407677005e-07,
          5.952909418738273e-07,
          5.252954906609375e-07,
          5.513232395060186e-07,
          5.173350245968322e-07,
          5.409099230746506e-07,
          6.220547561497369e-07,
          5.59798195354233e-07,
          5.158527756066178e-07,
          6.349841896735597e-07,
          5.119453589941259e-07,
          5.288716238283087e-07,
          6.270817607401113e-07,
          4.994514029021957e-07,
          5.262663762550801e-07,
          5.062374270892178e-07,
          4.915162890029023e-07,
          5.663394517796405e-07,
          5.937944251854788e-07,
          5.439570145426842e-07,
          5.251266657069209e-07,
          5.008256493965746e-07,
          4.871001237916062e-07,
          1.1113889968328294e-06,
          5.685930659637961e-07,
          5.134486968927376e-07,
          5.006436936128011e-07,
          4.902933596895309e-07,
          4.914719511361909e-07,
          5.188093155084061e-07,
          4.82327436657215e-07,
          5.611287861029268e-07,
          4.747554385176045e-07,
          4.841617737838533e-07,
          4.815472038899316e-07,
          5.797896278636472e-07,
          4.7400251901308366e-07,
          5.032841272623045e-07,
          4.813924761037924e-07,
          6.121656497271033e-07,
          5.535899276765122e-07,
          6.525023650283401e-07,
          4.666808308684267e-07,
          4.648505012028181e-07,
          5.287320163915865e-07,
          6.180340506034554e-07,
          4.700675049207348e-07,
          4.505208153204876e-07,
          5.621656669063668e-07,
          4.766790766552731e-07,
          4.5551635707852256e-07,
          5.086476448923349e-07,
          5.015300530430977e-07,
          8.773644140092074e-07,
          4.5931875547466916e-07,
          4.819971195502148e-07,
          4.840937322114769e-07,
          6.531333269776951e-07,
          4.4090540995966876e-07,
          4.471759211810422e-07,
          5.25837208442681e-07,
          4.6237516926339595e-07,
          4.360193202046503e-07,
          5.036569632466126e-07,
          4.5668960524380964e-07,
          5.238633775661583e-07,
          4.3620408973765734e-07,
          4.773045816364174e-07,
          4.775005777446495e-07,
          4.4298533907749515e-07,
          4.5128084025236603e-07,
          4.4102841911808355e-07,
          4.4470621674008726e-07,
          4.657707677324652e-07,
          4.3611427713585726e-07,
          5.806955982734507e-07,
          4.4480705696514633e-07,
          4.5069594989399775e-07,
          5.182762379263295e-07,
          4.597428926444991e-07,
          4.5471793441720365e-07,
          5.389147190726362e-07,
          4.970504505763529e-07,
          5.179697950552509e-07,
          4.637749100311339e-07,
          5.105113700665243e-07,
          4.2229731889165123e-07,
          6.230874305401812e-07,
          4.789795866599889e-07,
          5.156393854122143e-07,
          4.279740437596047e-07,
          4.7590827989552054e-07,
          5.948065791017143e-07,
          4.3256221715637366e-07,
          4.3134414795531484e-07,
          4.772621764459473e-07,
          6.866909529890108e-07,
          4.2914950881822733e-07,
          4.321155984143843e-07,
          4.062410425831331e-07,
          4.2437164893271984e-07,
          4.3071221966783924e-07,
          4.74320302146225e-07,
          4.4725953785018646e-07,
          4.289254036393686e-07,
          4.405287086228782e-07,
          5.82095822210249e-07,
          5.04952595292707e-07,
          4.422130359671428e-07,
          4.1537447259543114e-07,
          4.017766173092241e-07,
          4.341454200584849e-07,
          4.607803703038371e-07,
          4.0370909459852555e-07,
          4.038111285353807e-07,
          3.9883411773189437e-07,
          4.345984336850961e-07,
          5.297239908941265e-07,
          6.359706503644702e-07,
          4.851615358347772e-07,
          4.053706561535364e-07,
          4.259249521965103e-07,
          4.202880177217594e-07,
          3.9498610249211197e-07,
          6.627731181652052e-07,
          4.5667951553696184e-07,
          4.394133270579914e-07,
          5.399907649916713e-07,
          4.819724495064293e-07,
          4.4180254121783946e-07,
          4.2521963905528537e-07,
          4.6203192027860496e-07,
          3.9985781086215866e-07,
          4.130752984110586e-07,
          4.034863536617195e-07,
          3.9286464925680775e-07,
          6.494523177025258e-07,
          6.888290613460413e-07,
          5.132772571414534e-07,
          4.090835830083961e-07,
          4.802037096851564e-07,
          5.239638767307042e-07,
          4.1704385012053535e-07,
          4.0546024138166104e-07,
          4.145237539887603e-07,
          3.885244268531096e-07,
          4.2816697032321827e-07,
          4.113448994758073e-07,
          4.1359172087140905e-07,
          4.641234738755884e-07,
          4.1475209400232416e-07,
          4.741683881093195e-07,
          4.983172630090849e-07,
          3.7917169493084657e-07,
          4.4036875124220387e-07,
          3.8276039049378596e-07,
          3.9017214703562786e-07,
          4.853231985180173e-07,
          3.9202885204758786e-07,
          4.009462486465054e-07,
          3.895832492162299e-07,
          4.0470783346790995e-07,
          4.036236020965589e-07,
          4.271651050657965e-07,
          4.2950222223225865e-07,
          4.086761009602924e-07,
          4.7308714101745863e-07,
          4.0243691046271124e-07,
          4.2380537479402847e-07,
          3.9821216546442884e-07,
          3.8713909589205286e-07,
          4.0518756350138574e-07,
          4.004234028798237e-07,
          4.676567755268479e-07,
          3.77268463580549e-07,
          3.79599498501193e-07,
          3.8395160117943306e-07,
          4.050549478051835e-07,
          4.173104173332831e-07,
          3.754895487873e-07,
          4.0117026856023585e-07,
          3.7514342920985655e-07,
          5.733128318752279e-07,
          3.935501808882691e-07,
          5.574705710387207e-07,
          4.106902338207874e-07,
          4.545156855328969e-07,
          3.7616470649481926e-07,
          4.0221155472863757e-07,
          4.3839631302944326e-07,
          4.497947543313785e-07,
          6.551506430696463e-07,
          7.090305302881461e-07,
          4.1466523725830484e-07,
          3.883027943629713e-07,
          3.972320712364308e-07,
          4.2399148014737875e-07,
          3.8177128658389847e-07,
          4.2520548504398903e-07,
          3.7042801181996765e-07,
          4.437666802914464e-07,
          3.6947835724276956e-07,
          4.209918529340939e-07,
          3.6404566117198556e-07,
          5.903531246076454e-07,
          4.6182935875549447e-07,
          4.196926681743207e-07,
          6.427506491490931e-07,
          3.9123651163208706e-07,
          6.668601599812973e-07,
          5.782367225037888e-07,
          4.7656405399720825e-07,
          3.6561743854690576e-07,
          3.6953994708710525e-07,
          3.7279352227415075e-07,
          3.70158744544824e-07,
          3.6935074376742705e-07,
          3.7420656440190214e-07,
          3.8663466739308205e-07,
          3.676530866414396e-07,
          3.7570936228803475e-07,
          5.145766408531927e-07,
          4.244958518029307e-07,
          3.955499039420829e-07,
          4.002168338956835e-07,
          3.959836476497003e-07,
          3.775801360461628e-07,
          4.1375895420969755e-07,
          3.5961301136921975e-07,
          3.5956486499344464e-07,
          5.907884315092815e-07,
          5.625226435768127e-07,
          4.040454086862155e-07,
          3.877808865127008e-07,
          4.1325620259158313e-07,
          4.830056923310622e-07,
          3.843060483177396e-07,
          4.1079684365286084e-07,
          3.8122908563309466e-07,
          3.7407505715236766e-07,
          4.5486376620829105e-07,
          3.634494873949734e-07,
          3.5513934903974587e-07,
          5.231813702266663e-07,
          4.04072380888465e-07,
          3.6997920460635214e-07,
          3.746842196505895e-07,
          3.5972499290437554e-07,
          4.0422577285426087e-07,
          3.959916909934691e-07,
          3.570579849565547e-07,
          3.5637430073620635e-07,
          4.102461161892279e-07,
          3.9909434690343915e-07,
          4.463545906219224e-07,
          3.932501044801029e-07,
          3.7580593925667927e-07,
          4.037585767946439e-07,
          3.7800009522470646e-07,
          3.7197332858340815e-07,
          3.566995872006373e-07,
          3.643621084847837e-07,
          3.752226689357485e-07,
          3.5682626275956864e-07,
          5.681914672095445e-07,
          5.473009423440089e-07,
          3.7174447697907453e-07,
          3.792865186369454e-07,
          5.14234670845326e-07,
          5.269085363579507e-07,
          3.5305751566738763e-07,
          4.733721254979173e-07,
          3.85103049893587e-07,
          3.603355480663595e-07,
          3.977280869094102e-07,
          4.13426562317909e-07,
          4.0046552385319956e-07,
          3.556770025170408e-07,
          3.833627033600351e-07,
          3.539535669006e-07,
          3.9225272985277115e-07,
          3.6018568039253296e-07,
          4.413505223510583e-07,
          4.3738018007388746e-07,
          3.543028412877902e-07,
          3.6987552221035003e-07,
          3.6188421859151276e-07,
          3.568730448932911e-07,
          4.231130219523038e-07,
          3.474331720099144e-07,
          4.366136749922589e-07,
          3.7214869053059374e-07,
          3.462919551111554e-07,
          5.66271069146751e-07,
          3.4841053775380715e-07,
          3.6218483501215815e-07,
          3.8629121945632505e-07,
          3.815966920228675e-07,
          3.6783700352316373e-07,
          3.5704522360902047e-07,
          4.1799816585808003e-07,
          3.640487875600229e-07,
          3.988289165590686e-07,
          3.968097530560044e-07,
          3.634293932464061e-07,
          4.3205145061619987e-07,
          3.695544137372053e-07,
          3.5491049743541225e-07,
          4.1594199728933745e-07,
          3.6706012451759307e-07,
          3.8349548958649393e-07,
          3.526660634634027e-07,
          3.879950440932589e-07,
          3.6315375950835005e-07,
          4.1155590224661864e-07,
          3.4435836937518616e-07,
          3.55148074504541e-07,
          4.2262115584890125e-07,
          3.664209486942127e-07,
          5.734169690185809e-07,
          4.070391810273577e-07,
          4.508735855779378e-07,
          4.0203448747888615e-07,
          4.2562197677398217e-07,
          4.243426587891008e-07,
          3.4245695701429213e-07,
          3.746139327631681e-07,
          3.650065707461181e-07,
          7.261193673002708e-07,
          3.445863967499463e-07,
          3.4662508596738917e-07,
          3.474586947049829e-07,
          5.628485837405606e-07,
          3.5549035715121136e-07,
          3.6562818195307045e-07,
          3.7437661148942425e-07,
          3.4521229963502265e-07,
          5.852321010024752e-07,
          3.4516676805651514e-07,
          4.2834474811570544e-07,
          3.580879308628937e-07,
          3.8022349713173753e-07,
          3.5476372772791365e-07,
          4.938402753396076e-07,
          3.4262347980984487e-07,
          3.4266150805706275e-07,
          3.472110279290064e-07,
          3.4252036584803136e-07,
          3.4094523471139837e-07,
          3.4538609838818957e-07,
          3.9905705762066646e-07,
          3.4713286822807277e-07,
          3.4315928587602684e-07,
          3.4858402386817033e-07,
          3.866466045110428e-07,
          4.045057835355692e-07,
          4.1368136294295255e-07,
          3.398897661099909e-07,
          7.893464726294042e-07,
          6.324966648207919e-07,
          4.1122711991192773e-07,
          3.565282895579003e-07,
          3.42749615356297e-07,
          4.2882905404439953e-07,
          3.657260947420582e-07,
          3.5994460745314427e-07,
          4.5294228812053916e-07,
          3.491348934403504e-07,
          3.929468448404805e-07,
          3.531187928729196e-07,
          3.8826598824925895e-07,
          4.2824163415389194e-07,
          3.4846803487198486e-07,
          3.815974309873127e-07,
          4.2010867673525354e-07,
          3.415456717448251e-07,
          3.4395955594845873e-07,
          3.5466709391585027e-07,
          3.525437364260142e-07,
          3.4590902941999957e-07,
          3.5178834423277294e-07,
          3.529244736455439e-07,
          3.3777416774682933e-07,
          3.6124703228779254e-07,
          3.4272179050276463e-07,
          3.360507321303885e-07,
          3.4304065366086434e-07,
          3.559671313269064e-07,
          3.410201543374569e-07,
          3.4106102475561784e-07,
          3.6736869901687896e-07,
          3.686139677938627e-07,
          3.8490301790261583e-07,
          3.710219402819348e-07,
          4.974198191121104e-07,
          4.413855378970766e-07,
          3.763731228900724e-07,
          3.6019454796587524e-07,
          3.440535465415451e-07,
          3.9437929899577284e-07,
          3.922313567272795e-07,
          3.693935184401198e-07,
          5.142747454556229e-07,
          3.3413041933272325e-07,
          3.398678813937295e-07,
          3.928741421077575e-07,
          3.6933150227014266e-07,
          3.3988033010246e-07,
          4.128203840991773e-07,
          3.450573728969175e-07,
          3.947976949802978e-07,
          4.301980425225338e-07,
          3.3429671475460054e-07,
          3.7035866284895747e-07,
          3.8654474110444426e-07,
          3.3451732406319934e-07,
          3.466013822617242e-07,
          3.421575911488617e-07,
          4.2871690197898715e-07,
          4.019013317702047e-07,
          3.3852595038297295e-07,
          3.413050819744967e-07,
          3.593239341626031e-07,
          3.357960167704732e-07,
          3.4689315953073674e-07,
          4.547600269688701e-07,
          4.0154239400180813e-07,
          3.871220144446852e-07,
          3.4077106647600885e-07,
          3.716330070346885e-07,
          3.711563465458312e-07,
          4.296639701806271e-07,
          4.0967927361634793e-07,
          3.3756487027858384e-07,
          3.710180180860334e-07,
          3.5069882642346784e-07,
          3.7567542676697485e-07,
          5.625652192975394e-07,
          3.3158431733681937e-07,
          3.5052607927354984e-07,
          3.627137061812391e-07,
          4.070408863299235e-07,
          3.5906933248952555e-07,
          4.205042500871059e-07,
          4.2605552152963355e-07,
          3.634710026290122e-07,
          3.3633131124588544e-07,
          4.0649013044458115e-07,
          3.6226066413291846e-07,
          3.308982172711694e-07,
          3.820723009084759e-07,
          3.7466182334355835e-07,
          4.936678124067839e-07,
          3.49801950960682e-07,
          3.7956047549414507e-07,
          4.0111856947078195e-07,
          3.5600365322352445e-07,
          3.8016219150449615e-07,
          3.2995595233842323e-07,
          3.761072662200604e-07,
          3.873187779390719e-07,
          3.9134025087150803e-07,
          4.255290946275636e-07,
          3.3087181350310857e-07,
          3.334555458422983e-07,
          3.6789066371056833e-07,
          3.926777480955934e-07,
          3.6309984352556057e-07,
          4.4731282855536847e-07,
          3.807541304468032e-07,
          5.257872999209212e-07,
          3.3151061984426633e-07,
          3.379881263754214e-07,
          3.4619534972080146e-07,
          4.921841991745168e-07,
          3.530440153554082e-07,
          3.389552603039192e-07,
          3.6233217315384536e-07,
          4.774780109073617e-07,
          4.543558418390603e-07,
          5.422743925009854e-07,
          3.6991553997722804e-07,
          4.10307734455273e-07,
          3.53019174781366e-07,
          3.774359811359318e-07,
          3.3165656532219145e-07,
          3.4239462820551125e-07,
          3.2971956898109056e-07,
          3.2980565833895525e-07
         ]
        }
       ],
       "layout": {
        "template": {
         "data": {
          "bar": [
           {
            "error_x": {
             "color": "#2a3f5f"
            },
            "error_y": {
             "color": "#2a3f5f"
            },
            "marker": {
             "line": {
              "color": "#E5ECF6",
              "width": 0.5
             }
            },
            "type": "bar"
           }
          ],
          "barpolar": [
           {
            "marker": {
             "line": {
              "color": "#E5ECF6",
              "width": 0.5
             }
            },
            "type": "barpolar"
           }
          ],
          "carpet": [
           {
            "aaxis": {
             "endlinecolor": "#2a3f5f",
             "gridcolor": "white",
             "linecolor": "white",
             "minorgridcolor": "white",
             "startlinecolor": "#2a3f5f"
            },
            "baxis": {
             "endlinecolor": "#2a3f5f",
             "gridcolor": "white",
             "linecolor": "white",
             "minorgridcolor": "white",
             "startlinecolor": "#2a3f5f"
            },
            "type": "carpet"
           }
          ],
          "choropleth": [
           {
            "colorbar": {
             "outlinewidth": 0,
             "ticks": ""
            },
            "type": "choropleth"
           }
          ],
          "contour": [
           {
            "colorbar": {
             "outlinewidth": 0,
             "ticks": ""
            },
            "colorscale": [
             [
              0,
              "#0d0887"
             ],
             [
              0.1111111111111111,
              "#46039f"
             ],
             [
              0.2222222222222222,
              "#7201a8"
             ],
             [
              0.3333333333333333,
              "#9c179e"
             ],
             [
              0.4444444444444444,
              "#bd3786"
             ],
             [
              0.5555555555555556,
              "#d8576b"
             ],
             [
              0.6666666666666666,
              "#ed7953"
             ],
             [
              0.7777777777777778,
              "#fb9f3a"
             ],
             [
              0.8888888888888888,
              "#fdca26"
             ],
             [
              1,
              "#f0f921"
             ]
            ],
            "type": "contour"
           }
          ],
          "contourcarpet": [
           {
            "colorbar": {
             "outlinewidth": 0,
             "ticks": ""
            },
            "type": "contourcarpet"
           }
          ],
          "heatmap": [
           {
            "colorbar": {
             "outlinewidth": 0,
             "ticks": ""
            },
            "colorscale": [
             [
              0,
              "#0d0887"
             ],
             [
              0.1111111111111111,
              "#46039f"
             ],
             [
              0.2222222222222222,
              "#7201a8"
             ],
             [
              0.3333333333333333,
              "#9c179e"
             ],
             [
              0.4444444444444444,
              "#bd3786"
             ],
             [
              0.5555555555555556,
              "#d8576b"
             ],
             [
              0.6666666666666666,
              "#ed7953"
             ],
             [
              0.7777777777777778,
              "#fb9f3a"
             ],
             [
              0.8888888888888888,
              "#fdca26"
             ],
             [
              1,
              "#f0f921"
             ]
            ],
            "type": "heatmap"
           }
          ],
          "heatmapgl": [
           {
            "colorbar": {
             "outlinewidth": 0,
             "ticks": ""
            },
            "colorscale": [
             [
              0,
              "#0d0887"
             ],
             [
              0.1111111111111111,
              "#46039f"
             ],
             [
              0.2222222222222222,
              "#7201a8"
             ],
             [
              0.3333333333333333,
              "#9c179e"
             ],
             [
              0.4444444444444444,
              "#bd3786"
             ],
             [
              0.5555555555555556,
              "#d8576b"
             ],
             [
              0.6666666666666666,
              "#ed7953"
             ],
             [
              0.7777777777777778,
              "#fb9f3a"
             ],
             [
              0.8888888888888888,
              "#fdca26"
             ],
             [
              1,
              "#f0f921"
             ]
            ],
            "type": "heatmapgl"
           }
          ],
          "histogram": [
           {
            "marker": {
             "colorbar": {
              "outlinewidth": 0,
              "ticks": ""
             }
            },
            "type": "histogram"
           }
          ],
          "histogram2d": [
           {
            "colorbar": {
             "outlinewidth": 0,
             "ticks": ""
            },
            "colorscale": [
             [
              0,
              "#0d0887"
             ],
             [
              0.1111111111111111,
              "#46039f"
             ],
             [
              0.2222222222222222,
              "#7201a8"
             ],
             [
              0.3333333333333333,
              "#9c179e"
             ],
             [
              0.4444444444444444,
              "#bd3786"
             ],
             [
              0.5555555555555556,
              "#d8576b"
             ],
             [
              0.6666666666666666,
              "#ed7953"
             ],
             [
              0.7777777777777778,
              "#fb9f3a"
             ],
             [
              0.8888888888888888,
              "#fdca26"
             ],
             [
              1,
              "#f0f921"
             ]
            ],
            "type": "histogram2d"
           }
          ],
          "histogram2dcontour": [
           {
            "colorbar": {
             "outlinewidth": 0,
             "ticks": ""
            },
            "colorscale": [
             [
              0,
              "#0d0887"
             ],
             [
              0.1111111111111111,
              "#46039f"
             ],
             [
              0.2222222222222222,
              "#7201a8"
             ],
             [
              0.3333333333333333,
              "#9c179e"
             ],
             [
              0.4444444444444444,
              "#bd3786"
             ],
             [
              0.5555555555555556,
              "#d8576b"
             ],
             [
              0.6666666666666666,
              "#ed7953"
             ],
             [
              0.7777777777777778,
              "#fb9f3a"
             ],
             [
              0.8888888888888888,
              "#fdca26"
             ],
             [
              1,
              "#f0f921"
             ]
            ],
            "type": "histogram2dcontour"
           }
          ],
          "mesh3d": [
           {
            "colorbar": {
             "outlinewidth": 0,
             "ticks": ""
            },
            "type": "mesh3d"
           }
          ],
          "parcoords": [
           {
            "line": {
             "colorbar": {
              "outlinewidth": 0,
              "ticks": ""
             }
            },
            "type": "parcoords"
           }
          ],
          "pie": [
           {
            "automargin": true,
            "type": "pie"
           }
          ],
          "scatter": [
           {
            "marker": {
             "colorbar": {
              "outlinewidth": 0,
              "ticks": ""
             }
            },
            "type": "scatter"
           }
          ],
          "scatter3d": [
           {
            "line": {
             "colorbar": {
              "outlinewidth": 0,
              "ticks": ""
             }
            },
            "marker": {
             "colorbar": {
              "outlinewidth": 0,
              "ticks": ""
             }
            },
            "type": "scatter3d"
           }
          ],
          "scattercarpet": [
           {
            "marker": {
             "colorbar": {
              "outlinewidth": 0,
              "ticks": ""
             }
            },
            "type": "scattercarpet"
           }
          ],
          "scattergeo": [
           {
            "marker": {
             "colorbar": {
              "outlinewidth": 0,
              "ticks": ""
             }
            },
            "type": "scattergeo"
           }
          ],
          "scattergl": [
           {
            "marker": {
             "colorbar": {
              "outlinewidth": 0,
              "ticks": ""
             }
            },
            "type": "scattergl"
           }
          ],
          "scattermapbox": [
           {
            "marker": {
             "colorbar": {
              "outlinewidth": 0,
              "ticks": ""
             }
            },
            "type": "scattermapbox"
           }
          ],
          "scatterpolar": [
           {
            "marker": {
             "colorbar": {
              "outlinewidth": 0,
              "ticks": ""
             }
            },
            "type": "scatterpolar"
           }
          ],
          "scatterpolargl": [
           {
            "marker": {
             "colorbar": {
              "outlinewidth": 0,
              "ticks": ""
             }
            },
            "type": "scatterpolargl"
           }
          ],
          "scatterternary": [
           {
            "marker": {
             "colorbar": {
              "outlinewidth": 0,
              "ticks": ""
             }
            },
            "type": "scatterternary"
           }
          ],
          "surface": [
           {
            "colorbar": {
             "outlinewidth": 0,
             "ticks": ""
            },
            "colorscale": [
             [
              0,
              "#0d0887"
             ],
             [
              0.1111111111111111,
              "#46039f"
             ],
             [
              0.2222222222222222,
              "#7201a8"
             ],
             [
              0.3333333333333333,
              "#9c179e"
             ],
             [
              0.4444444444444444,
              "#bd3786"
             ],
             [
              0.5555555555555556,
              "#d8576b"
             ],
             [
              0.6666666666666666,
              "#ed7953"
             ],
             [
              0.7777777777777778,
              "#fb9f3a"
             ],
             [
              0.8888888888888888,
              "#fdca26"
             ],
             [
              1,
              "#f0f921"
             ]
            ],
            "type": "surface"
           }
          ],
          "table": [
           {
            "cells": {
             "fill": {
              "color": "#EBF0F8"
             },
             "line": {
              "color": "white"
             }
            },
            "header": {
             "fill": {
              "color": "#C8D4E3"
             },
             "line": {
              "color": "white"
             }
            },
            "type": "table"
           }
          ]
         },
         "layout": {
          "annotationdefaults": {
           "arrowcolor": "#2a3f5f",
           "arrowhead": 0,
           "arrowwidth": 1
          },
          "coloraxis": {
           "colorbar": {
            "outlinewidth": 0,
            "ticks": ""
           }
          },
          "colorscale": {
           "diverging": [
            [
             0,
             "#8e0152"
            ],
            [
             0.1,
             "#c51b7d"
            ],
            [
             0.2,
             "#de77ae"
            ],
            [
             0.3,
             "#f1b6da"
            ],
            [
             0.4,
             "#fde0ef"
            ],
            [
             0.5,
             "#f7f7f7"
            ],
            [
             0.6,
             "#e6f5d0"
            ],
            [
             0.7,
             "#b8e186"
            ],
            [
             0.8,
             "#7fbc41"
            ],
            [
             0.9,
             "#4d9221"
            ],
            [
             1,
             "#276419"
            ]
           ],
           "sequential": [
            [
             0,
             "#0d0887"
            ],
            [
             0.1111111111111111,
             "#46039f"
            ],
            [
             0.2222222222222222,
             "#7201a8"
            ],
            [
             0.3333333333333333,
             "#9c179e"
            ],
            [
             0.4444444444444444,
             "#bd3786"
            ],
            [
             0.5555555555555556,
             "#d8576b"
            ],
            [
             0.6666666666666666,
             "#ed7953"
            ],
            [
             0.7777777777777778,
             "#fb9f3a"
            ],
            [
             0.8888888888888888,
             "#fdca26"
            ],
            [
             1,
             "#f0f921"
            ]
           ],
           "sequentialminus": [
            [
             0,
             "#0d0887"
            ],
            [
             0.1111111111111111,
             "#46039f"
            ],
            [
             0.2222222222222222,
             "#7201a8"
            ],
            [
             0.3333333333333333,
             "#9c179e"
            ],
            [
             0.4444444444444444,
             "#bd3786"
            ],
            [
             0.5555555555555556,
             "#d8576b"
            ],
            [
             0.6666666666666666,
             "#ed7953"
            ],
            [
             0.7777777777777778,
             "#fb9f3a"
            ],
            [
             0.8888888888888888,
             "#fdca26"
            ],
            [
             1,
             "#f0f921"
            ]
           ]
          },
          "colorway": [
           "#636efa",
           "#EF553B",
           "#00cc96",
           "#ab63fa",
           "#FFA15A",
           "#19d3f3",
           "#FF6692",
           "#B6E880",
           "#FF97FF",
           "#FECB52"
          ],
          "font": {
           "color": "#2a3f5f"
          },
          "geo": {
           "bgcolor": "white",
           "lakecolor": "white",
           "landcolor": "#E5ECF6",
           "showlakes": true,
           "showland": true,
           "subunitcolor": "white"
          },
          "hoverlabel": {
           "align": "left"
          },
          "hovermode": "closest",
          "mapbox": {
           "style": "light"
          },
          "paper_bgcolor": "white",
          "plot_bgcolor": "#E5ECF6",
          "polar": {
           "angularaxis": {
            "gridcolor": "white",
            "linecolor": "white",
            "ticks": ""
           },
           "bgcolor": "#E5ECF6",
           "radialaxis": {
            "gridcolor": "white",
            "linecolor": "white",
            "ticks": ""
           }
          },
          "scene": {
           "xaxis": {
            "backgroundcolor": "#E5ECF6",
            "gridcolor": "white",
            "gridwidth": 2,
            "linecolor": "white",
            "showbackground": true,
            "ticks": "",
            "zerolinecolor": "white"
           },
           "yaxis": {
            "backgroundcolor": "#E5ECF6",
            "gridcolor": "white",
            "gridwidth": 2,
            "linecolor": "white",
            "showbackground": true,
            "ticks": "",
            "zerolinecolor": "white"
           },
           "zaxis": {
            "backgroundcolor": "#E5ECF6",
            "gridcolor": "white",
            "gridwidth": 2,
            "linecolor": "white",
            "showbackground": true,
            "ticks": "",
            "zerolinecolor": "white"
           }
          },
          "shapedefaults": {
           "line": {
            "color": "#2a3f5f"
           }
          },
          "ternary": {
           "aaxis": {
            "gridcolor": "white",
            "linecolor": "white",
            "ticks": ""
           },
           "baxis": {
            "gridcolor": "white",
            "linecolor": "white",
            "ticks": ""
           },
           "bgcolor": "#E5ECF6",
           "caxis": {
            "gridcolor": "white",
            "linecolor": "white",
            "ticks": ""
           }
          },
          "title": {
           "x": 0.05
          },
          "xaxis": {
           "automargin": true,
           "gridcolor": "white",
           "linecolor": "white",
           "ticks": "",
           "title": {
            "standoff": 15
           },
           "zerolinecolor": "white",
           "zerolinewidth": 2
          },
          "yaxis": {
           "automargin": true,
           "gridcolor": "white",
           "linecolor": "white",
           "ticks": "",
           "title": {
            "standoff": 15
           },
           "zerolinecolor": "white",
           "zerolinewidth": 2
          }
         }
        },
        "width": 600,
        "yaxis": {
         "type": "log"
        }
       }
      },
      "text/html": [
       "<div>\n",
       "        \n",
       "        \n",
       "            <div id=\"bbc7526c-9f7d-4ede-acd1-6bc256d382e0\" class=\"plotly-graph-div\" style=\"height:525px; width:600px;\"></div>\n",
       "            <script type=\"text/javascript\">\n",
       "                require([\"plotly\"], function(Plotly) {\n",
       "                    window.PLOTLYENV=window.PLOTLYENV || {};\n",
       "                    \n",
       "                if (document.getElementById(\"bbc7526c-9f7d-4ede-acd1-6bc256d382e0\")) {\n",
       "                    Plotly.newPlot(\n",
       "                        'bbc7526c-9f7d-4ede-acd1-6bc256d382e0',\n",
       "                        [{\"name\": \"error\", \"type\": \"scatter\", \"y\": [0.22180622816085815, 0.019713260233402252, 0.017006663605570793, 0.016731416806578636, 0.013561167754232883, 0.010833779349923134, 0.009026901796460152, 0.007697723805904388, 0.005635131616145372, 0.0038735431153327227, 0.0029375797603279352, 0.001962352078408003, 0.0012430264614522457, 0.0007722327718511224, 0.0005034540663473308, 0.000359802768798545, 0.00024373747874051332, 0.00017673858383204788, 0.0001407533563906327, 0.00013818181469105184, 0.000120332813821733, 0.00010422035120427608, 0.00010524072422413155, 0.00011329560948070139, 9.785438305698335e-05, 0.00010040056076832116, 0.00010926557297352701, 9.065072663361207e-05, 8.726539817871526e-05, 8.668516966281459e-05, 8.76144040375948e-05, 8.051941404119134e-05, 9.204383241012692e-05, 9.363910794490948e-05, 8.080313273239881e-05, 7.48373131500557e-05, 7.981624366948381e-05, 7.376770372502506e-05, 7.568219007225707e-05, 7.127057324396446e-05, 7.778667350066826e-05, 7.530691073043272e-05, 6.596587627427652e-05, 6.600006599910557e-05, 8.520577102899551e-05, 7.09076994098723e-05, 6.688635767204687e-05, 6.722898979205638e-05, 6.465465412475169e-05, 6.272477912716568e-05, 6.0090256738476455e-05, 5.810173024656251e-05, 6.366043817251921e-05, 6.633353768847883e-05, 5.73944125790149e-05, 5.4835196351632476e-05, 5.5025397159624845e-05, 5.783109736512415e-05, 5.266616790322587e-05, 5.3130243031773716e-05, 4.9546375521458685e-05, 5.087874524178915e-05, 5.6504261010559276e-05, 5.322751894709654e-05, 5.248618981568143e-05, 6.015496182953939e-05, 6.071078678360209e-05, 4.986470958101563e-05, 4.355668352218345e-05, 4.3323158024577424e-05, 4.369460657471791e-05, 4.458116018213332e-05, 7.530255970777944e-05, 4.9130288971355185e-05, 3.863549864036031e-05, 4.322225504438393e-05, 3.7148234696360305e-05, 3.9814578485675156e-05, 3.774771903408691e-05, 3.900153751601465e-05, 4.025398084195331e-05, 3.588925756048411e-05, 3.47705754393246e-05, 3.762709820875898e-05, 3.815504169324413e-05, 4.181546319159679e-05, 3.999911859864369e-05, 3.52390379703138e-05, 3.411007492104545e-05, 3.623260636231862e-05, 3.215356628061272e-05, 3.421268775127828e-05, 3.284067497588694e-05, 3.892629320034757e-05, 3.3977801649598405e-05, 3.273752372479066e-05, 2.9256685593281873e-05, 2.831319216056727e-05, 3.2549636671319604e-05, 2.7748505090130493e-05, 2.7641055567073636e-05, 3.137004387099296e-05, 3.102373375440948e-05, 2.7809881430584937e-05, 2.6540952603681944e-05, 2.892872907978017e-05, 2.576131373643875e-05, 2.5461795303272083e-05, 2.5777988412301056e-05, 2.618599683046341e-05, 2.4518751160940155e-05, 2.4592176487203687e-05, 2.4782890250207856e-05, 4.199106842861511e-05, 2.3649477952858433e-05, 2.20579095184803e-05, 2.4134433260769583e-05, 2.1794188796775416e-05, 2.2260393961914815e-05, 2.0565206796163693e-05, 2.1699064745916985e-05, 2.469820174155757e-05, 1.9185767087037675e-05, 1.951385274878703e-05, 3.0869137845002115e-05, 1.9149771105730906e-05, 2.2304193407762796e-05, 1.9009194147656672e-05, 1.8592811102280393e-05, 2.1017676772316918e-05, 2.003728150157258e-05, 1.812776827136986e-05, 1.9417551811784506e-05, 2.1692887457902543e-05, 1.6265052181552164e-05, 1.6955505998339504e-05, 1.5734996850369498e-05, 1.9112587324343622e-05, 1.6309024431393482e-05, 1.64086050062906e-05, 1.5394871297758073e-05, 1.830923793022521e-05, 1.612752748769708e-05, 1.6085943570942618e-05, 1.6177351426449604e-05, 1.589965177117847e-05, 1.5271380107151344e-05, 1.528492066427134e-05, 1.8027363694272935e-05, 1.381039692205377e-05, 1.3411281543085352e-05, 1.41097425512271e-05, 1.2922160749440081e-05, 1.3937553376308642e-05, 1.5184758922259789e-05, 1.3897633834858425e-05, 1.5616720702382736e-05, 1.4461870705417823e-05, 1.224215611728141e-05, 1.2448534107534215e-05, 1.3599626072391402e-05, 1.2257191883691121e-05, 1.166286165243946e-05, 1.1520092812133953e-05, 1.2452846931410022e-05, 1.3046641470282339e-05, 1.2317066648392938e-05, 1.3448481695377268e-05, 1.1954914953093976e-05, 1.0255500455969013e-05, 1.0485225175216328e-05, 1.2014394087600522e-05, 9.950984349416103e-06, 1.2491719644458499e-05, 1.0270161510561593e-05, 1.4537568858941086e-05, 1.0414246389700565e-05, 1.0185847713728435e-05, 1.0228323844785336e-05, 9.983955351344775e-06, 9.508407856628764e-06, 9.888544809655286e-06, 8.975640412245411e-06, 8.742204954614863e-06, 9.385429621033836e-06, 9.382893040310591e-06, 8.83877419255441e-06, 1.254295239050407e-05, 8.621602319180965e-06, 9.870938811218366e-06, 8.515924491803162e-06, 8.270972102764063e-06, 9.315534043707885e-06, 8.618216270406265e-06, 9.124373718805145e-06, 7.3767732828855515e-06, 8.800399882602505e-06, 9.125158612732776e-06, 8.460378012387082e-06, 7.3979254011646844e-06, 8.670875104144216e-06, 8.002833965292666e-06, 8.27769599709427e-06, 7.283843842742499e-06, 9.393467735208105e-06, 7.720857865933795e-06, 8.127370165311731e-06, 8.035964128794149e-06, 7.940123396110721e-06, 7.442457899742294e-06, 7.1574540925212204e-06, 8.894024176697712e-06, 6.229288374015596e-06, 6.829807716712821e-06, 6.51107075100299e-06, 6.337980721582426e-06, 6.717984433635138e-06, 6.134770046628546e-06, 5.704147042706609e-06, 5.557563781621866e-06, 6.042822406016057e-06, 5.638553830067394e-06, 5.615155714622233e-06, 5.51737321075052e-06, 5.486673217092175e-06, 6.775812835257966e-06, 5.750150648964336e-06, 5.354184395400807e-06, 5.2481464081211016e-06, 5.178808351047337e-06, 6.562253929587314e-06, 5.985923962725792e-06, 5.791084731754381e-06, 4.952591098117409e-06, 5.5900609368109144e-06, 4.4773191802960355e-06, 4.821495167561807e-06, 4.8167498789553065e-06, 4.581590019370196e-06, 4.473676199268084e-06, 4.711652763944585e-06, 4.452669600141235e-06, 4.792491836269619e-06, 4.291875029593939e-06, 5.084560143586714e-06, 5.013536338083213e-06, 4.333001470513409e-06, 4.700686986325309e-06, 4.078572601429187e-06, 4.6057493818807416e-06, 3.863406163873151e-06, 3.985743205703329e-06, 3.902795469912235e-06, 3.920637027476914e-06, 4.1954167500080075e-06, 3.6704391277453396e-06, 4.825208634429146e-06, 6.249498710531043e-06, 3.917753019777592e-06, 3.805220330832526e-06, 3.6392364108905895e-06, 3.7815932500961935e-06, 3.4894428608822636e-06, 3.411567149669281e-06, 3.328284037706908e-06, 3.515804564813152e-06, 3.4504919312894344e-06, 3.6174903925711988e-06, 3.1999620659917127e-06, 3.4459237667761045e-06, 3.1558834052702878e-06, 3.741414502655971e-06, 3.3397952847735723e-06, 4.483658358367393e-06, 3.1772574402566534e-06, 2.991813971675583e-06, 3.063520125579089e-06, 3.1840720566833625e-06, 3.001824325110647e-06, 3.2074460705189267e-06, 3.180466592311859e-06, 3.0407304620894138e-06, 2.857996378224925e-06, 3.2186460430239094e-06, 2.9801701657561352e-06, 2.58681939158123e-06, 2.936796818175935e-06, 3.384630872460548e-06, 2.682554168131901e-06, 2.909955583163537e-06, 2.5964607175410492e-06, 2.4555690743000014e-06, 2.799131607389427e-06, 2.640777211126988e-06, 2.619564156702836e-06, 2.4841597223712597e-06, 2.3740158212604e-06, 2.7687665351550095e-06, 2.308433522557607e-06, 2.4850235149642685e-06, 2.2586882550967857e-06, 2.2978222204983467e-06, 2.4416090127488133e-06, 2.4043517896643607e-06, 2.255842218801263e-06, 2.0866584691248136e-06, 2.924263299064478e-06, 2.112953552568797e-06, 2.1939276848570444e-06, 2.2071255898481468e-06, 2.140257493010722e-06, 2.3872746623965213e-06, 2.166055764973862e-06, 2.1026448848715518e-06, 1.958792381628882e-06, 2.074048779832083e-06, 2.3332988803304033e-06, 2.3039815459924284e-06, 2.0513205072347773e-06, 2.0909922113787616e-06, 2.0308045804995345e-06, 2.0168108676443808e-06, 1.9437040919001447e-06, 2.055090362773626e-06, 2.2263502614805475e-06, 1.7132756511273328e-06, 1.7269320551349665e-06, 1.8667176391318208e-06, 1.6799478999018902e-06, 2.255965910080704e-06, 1.7173108517454239e-06, 1.750684987200657e-06, 1.9191697901987936e-06, 1.7164305745609454e-06, 1.670880237725214e-06, 2.467589183652308e-06, 1.6785710386102437e-06, 1.7260961158171995e-06, 1.7604556887818035e-06, 1.5742411960673053e-06, 1.7999470856011612e-06, 1.6409927638960653e-06, 1.7387214938935358e-06, 1.759001634127344e-06, 1.7426864360459149e-06, 1.8636815184436273e-06, 1.5716741472715512e-06, 1.573421286593657e-06, 1.628210952731024e-06, 1.5028813322714996e-06, 1.636222577872104e-06, 1.4489594377664616e-06, 1.5097236882866127e-06, 1.3926709243605728e-06, 1.3976899708723067e-06, 1.3392688060775981e-06, 1.4386703242053045e-06, 1.7615025171835441e-06, 1.65287474374054e-06, 1.3829935596731957e-06, 1.612995106370363e-06, 1.256218411072041e-06, 1.2647141147681396e-06, 1.308605533267837e-06, 1.5053325341796153e-06, 1.2005746157228714e-06, 1.8058055957226316e-06, 1.2807186067220755e-06, 1.2843736385548254e-06, 1.2167812428742764e-06, 1.3896932387069683e-06, 1.1491949862829642e-06, 1.3406165635387879e-06, 1.1352674391673645e-06, 1.0911212484643329e-06, 1.1938167290281854e-06, 1.290908357987064e-06, 1.161482032330241e-06, 1.1593763247219613e-06, 1.2991541780138505e-06, 1.1106264992122306e-06, 1.1910968851225334e-06, 1.0772323548735585e-06, 1.241259383277793e-06, 1.5137458149183658e-06, 1.1313001095913933e-06, 1.160323108706507e-06, 1.2945713478984544e-06, 1.0665125955711119e-06, 1.0198662039329065e-06, 1.1923377769562649e-06, 1.2247767244843999e-06, 1.0551163995842217e-06, 1.0990829650836531e-06, 1.1223928595427424e-06, 1.091235958483594e-06, 9.855622238319484e-07, 1.0735287787611014e-06, 1.1400219364077202e-06, 1.0426820153952576e-06, 1.0502278655621922e-06, 9.983597237805952e-07, 1.0642324923537672e-06, 9.257763053938106e-07, 9.419209732186573e-07, 1.108790684156702e-06, 1.0679483466446982e-06, 1.008980575534224e-06, 8.88778856733552e-07, 1.1007469993273844e-06, 8.19709271127067e-07, 9.283702411266859e-07, 1.0558156873230473e-06, 9.065504400496138e-07, 1.0184520533584873e-06, 9.361147021991201e-07, 1.0272807458022726e-06, 9.11336201170343e-07, 9.214983833771839e-07, 9.261111699743196e-07, 8.774160846769519e-07, 8.81051448686776e-07, 9.817862292038626e-07, 8.711422765372845e-07, 1.0085420854011318e-06, 7.92048410858115e-07, 8.063193490670528e-07, 8.225954388763057e-07, 8.785696650193131e-07, 8.263560289378802e-07, 7.823222176739364e-07, 8.256273531515035e-07, 8.974784577731043e-07, 7.958121841511456e-07, 7.330891662604699e-07, 9.327825409854995e-07, 1.008435788207862e-06, 8.082438966994232e-07, 7.6018278605261e-07, 1.002190401777625e-06, 8.525040584572707e-07, 7.528528840339277e-07, 7.787533036207606e-07, 8.351652240889962e-07, 7.035864086901711e-07, 7.334915608225856e-07, 7.742926868559152e-07, 8.145387937474879e-07, 7.616446850988723e-07, 7.741183480902691e-07, 7.581906515952141e-07, 6.660711164840905e-07, 6.76990623560414e-07, 7.932658832032757e-07, 7.609368708472175e-07, 6.499856226582779e-07, 6.816821382926719e-07, 7.550324312433077e-07, 6.777058842999395e-07, 7.012564537944854e-07, 6.673566872450465e-07, 6.639874641223287e-07, 6.691195721941767e-07, 8.096766350718099e-07, 7.593456530230469e-07, 6.647928216807486e-07, 9.539269285596674e-07, 6.109262926656811e-07, 7.204508847280522e-07, 6.220338377715962e-07, 6.332161319733132e-07, 7.775175845381455e-07, 6.710412776556041e-07, 7.154728791647358e-07, 6.053114702808671e-07, 7.47681440316228e-07, 1.0714068139350275e-06, 6.98484541317157e-07, 5.958884798928921e-07, 7.916625008874689e-07, 7.332561153816641e-07, 1.0707890396588482e-06, 6.264835406000202e-07, 5.740619144489756e-07, 6.055977337382501e-07, 6.369201059897023e-07, 7.170125968514185e-07, 5.983304731671524e-07, 5.91542118399957e-07, 6.321816954368842e-07, 5.735573722631671e-07, 7.885615218583553e-07, 5.750687819272571e-07, 6.588439873667085e-07, 6.474186307059426e-07, 6.064645958758774e-07, 5.73622344290925e-07, 7.072638368299522e-07, 5.934494424764125e-07, 6.4434703972438e-07, 5.607934099316481e-07, 6.382313131325645e-07, 5.668750873155659e-07, 6.527270670630969e-07, 5.591483613898163e-07, 5.980068067401589e-07, 6.070214340070379e-07, 6.53865185995528e-07, 9.118084562942386e-07, 6.754672199349443e-07, 6.652268780271697e-07, 5.983274036225339e-07, 6.543688186866348e-07, 5.170801955500792e-07, 4.973345539838192e-07, 5.427678502201161e-07, 6.046604994480731e-07, 5.093380082143995e-07, 6.065587285775109e-07, 5.737369406233483e-07, 5.504112436938158e-07, 4.965851303495583e-07, 4.986143267160514e-07, 5.158652243153483e-07, 6.297021286627569e-07, 4.897879080090206e-07, 5.245371426099155e-07, 5.279288757265022e-07, 5.596383516603964e-07, 5.283729933580616e-07, 5.734290198233793e-07, 5.415944883679913e-07, 7.242994684020232e-07, 4.791322112396301e-07, 5.478807452163892e-07, 1.1302777238597628e-06, 4.992922981728043e-07, 4.898187171420432e-07, 5.340202164916263e-07, 5.626283154924749e-07, 5.158756835044187e-07, 4.985269583812624e-07, 4.813824716620729e-07, 5.768451956100762e-07, 5.153037250238413e-07, 4.952191829943331e-07, 5.245594252301089e-07, 5.051894618191e-07, 5.094900643598521e-07, 4.945188152305491e-07, 5.203492605687643e-07, 5.135115657139977e-07, 5.673254577232001e-07, 4.996807092538802e-07, 5.078662184132554e-07, 4.517226841471711e-07, 4.547192702375469e-07, 6.31025216080161e-07, 5.70133124710992e-07, 4.790465482074069e-07, 5.013275199416967e-07, 4.548125787096069e-07, 4.5776499746352783e-07, 5.073817987977236e-07, 5.697089591194526e-07, 5.51795153569401e-07, 4.497588577123679e-07, 4.4513265606838104e-07, 4.985557211512059e-07, 5.199976840231102e-07, 4.5749465016342583e-07, 5.370916937863512e-07, 4.3367890611989424e-07, 4.3481881562001945e-07, 4.45294176643074e-07, 5.118523063174507e-07, 4.510538360591454e-07, 5.447130888569518e-07, 4.4586292347048584e-07, 4.383473424240947e-07, 4.779759592565824e-07, 4.1630150349192263e-07, 5.883169933440513e-07, 4.784230895893415e-07, 4.826509893973707e-07, 4.2587876691868587e-07, 4.7574300765518274e-07, 4.570518115087907e-07, 6.079883405618602e-07, 6.756758921255823e-07, 4.4385348019204685e-07, 4.1156573615808156e-07, 6.108918455538515e-07, 4.861532261202228e-07, 4.473741910260287e-07, 4.4724458803102607e-07, 5.327985377334699e-07, 5.081916469862335e-07, 5.088152192911366e-07, 5.112256076245103e-07, 4.785727014677832e-07, 4.115773606372386e-07, 4.40366648035706e-07, 4.3033972474404436e-07, 4.546368472801987e-07, 4.7462555130550754e-07, 3.95325258750745e-07, 4.358847149887879e-07, 4.5212331656330207e-07, 4.5527954739554843e-07, 4.360157674909715e-07, 4.792544245901809e-07, 3.9023512954372563e-07, 4.1792097249526705e-07, 4.024853126338712e-07, 4.571707847844664e-07, 4.195463816358824e-07, 5.203385740060185e-07, 4.1011162466020323e-07, 4.1094381231232546e-07, 4.137159805850388e-07, 4.3703730057131907e-07, 3.9942463558872987e-07, 4.366431483049382e-07, 4.1303889020127826e-07, 4.3374978986321366e-07, 4.1688304008857813e-07, 4.1418624618927424e-07, 4.589643936014909e-07, 4.2549510226308485e-07, 4.32605361311289e-07, 4.047295476539148e-07, 3.8929306356294546e-07, 4.0294412428920623e-07, 4.0995618633132835e-07, 4.456400120034232e-07, 6.110237222856085e-07, 4.80690630411118e-07, 4.027084514746093e-07, 5.500966153704212e-07, 4.355295004643267e-07, 4.635794255136716e-07, 5.642468181576987e-07, 4.160293372024171e-07, 4.269698763437191e-07, 4.175332719569269e-07, 3.8411471336985414e-07, 4.92100014071184e-07, 4.970160034645232e-07, 5.802461373605183e-07, 4.5462209641300433e-07, 3.9990629829844693e-07, 4.825923838325252e-07, 4.04017441724136e-07, 4.2868737182288896e-07, 6.239981757971691e-07, 3.8774939525865193e-07, 4.939934115100186e-07, 4.2697899971244624e-07, 4.215479521008092e-07, 3.9899452985991957e-07, 4.229402463806764e-07, 6.719996576975973e-07, 6.474663223343669e-07, 3.9756736214258126e-07, 3.7562475085906044e-07, 4.6798558628324827e-07, 3.8228287735364574e-07, 3.94399251035793e-07, 4.063600727022276e-07, 3.847025595860032e-07, 3.788497053847095e-07, 3.6429460692488647e-07, 4.831671844840457e-07, 4.0259621414406865e-07, 4.1506442016725487e-07, 3.841255136194377e-07, 3.886839010647236e-07, 3.8384865774787613e-07, 3.8880338593116903e-07, 4.7501106337222154e-07, 4.6936366970840027e-07, 4.0611695339975995e-07, 4.438149119323498e-07, 3.8044916550461494e-07, 4.244111551088281e-07, 3.657216893770965e-07, 4.1517986915096117e-07, 4.6332706915563904e-07, 4.173116394667886e-07, 3.8287657844193745e-07, 4.707464427156083e-07, 3.5281783539176104e-07, 4.3510075897756906e-07, 4.552696850623761e-07, 4.317413981880236e-07, 4.4702647983285715e-07, 3.7521550666497205e-07, 3.562966810477519e-07, 3.5527759223441535e-07, 3.8507374711116427e-07, 4.5822054062227835e-07, 4.445214472070802e-07, 4.848651542488369e-07, 4.4084268324695586e-07, 3.6019895333083696e-07, 3.6469106134973117e-07, 4.634534889191855e-07, 4.5039925566925376e-07, 3.830261903203791e-07, 4.328343834458792e-07, 3.658967102637689e-07, 4.253699614764628e-07, 3.786201716593496e-07, 5.304829073793371e-07, 4.940525286656339e-07, 4.2729067217806005e-07, 3.942012654079008e-07, 4.2222453089379997e-07, 4.177148014150589e-07, 3.819717164788017e-07, 4.037302403503418e-07, 4.0189388528233394e-07, 4.6747817350478726e-07, 3.69884105566598e-07, 3.8816091318949475e-07, 3.640556940354145e-07, 3.490809490358515e-07, 3.753183648314007e-07, 5.000248393116635e-07, 3.75234719740547e-07, 4.0510315102437744e-07, 4.576041874315706e-07, 4.462501976831845e-07, 3.635663290424418e-07, 4.115441640806239e-07, 4.32707054187631e-07, 3.684177727336646e-07, 3.761168727578479e-07, 3.574044740162208e-07, 3.7339077607612126e-07, 3.646115374067449e-07, 3.7994249169059913e-07, 3.957427452405682e-07, 3.890930599936837e-07, 3.523396685523039e-07, 4.0519802269045613e-07, 4.0130385059455875e-07, 3.953107921006449e-07, 4.0496348674423643e-07, 3.594825557229342e-07, 3.849120560062147e-07, 3.6671610814664746e-07, 3.607595999710611e-07, 3.805233745879377e-07, 3.7391154705801455e-07, 3.8073380892456044e-07, 3.637518943833129e-07, 4.5049927166473935e-07, 3.672171260404866e-07, 3.6627517374654417e-07, 4.206144410545676e-07, 3.6303981687524356e-07, 4.3694166151908576e-07, 3.481439989627688e-07, 3.639181898051902e-07, 3.8316886730171973e-07, 3.6647932688538276e-07, 4.0414272461930523e-07, 3.868682938446e-07, 4.074118180596997e-07, 3.7614938719343627e-07, 3.907803716174385e-07, 4.1623562196946295e-07, 3.579835379241558e-07, 6.903718485773425e-07, 4.944953957419784e-07, 3.8218155395952635e-07, 3.7339515301937354e-07, 3.862713526814332e-07, 4.164041342846758e-07, 4.564542734897259e-07, 3.695719783536333e-07, 4.000500553047459e-07, 3.555875025540445e-07, 4.1110112647402275e-07, 4.379033384793729e-07, 3.85729919116784e-07, 3.6589645446838404e-07, 4.1770999814616516e-07, 4.474306365409575e-07, 3.4673928439588053e-07, 3.7508510786210536e-07, 4.57375534779203e-07, 4.4553283373716113e-07, 5.315433782016044e-07, 3.587840069485537e-07, 3.8062415796957794e-07, 3.5774601769844594e-07, 3.763256017919048e-07, 3.466754208147904e-07, 4.5173393914410553e-07, 4.4751294581146794e-07, 4.0101332388076116e-07, 4.201383489998989e-07, 4.1883978951773315e-07, 3.6009816994919674e-07, 3.354192585902638e-07, 3.667139196750213e-07, 4.892879701401398e-07, 3.6481685583567014e-07, 3.408831048545835e-07, 4.2160604607488494e-07, 3.524522753650672e-07, 4.4215244088263717e-07, 4.798979489351041e-07, 4.143059584293951e-07, 5.365446895666537e-07, 3.6524193092191126e-07, 3.607008807193779e-07, 3.5974744605482556e-07, 4.0526163047616137e-07, 3.394535212919436e-07, 3.7209727565823414e-07, 3.5523103747436835e-07, 5.119574097989243e-07, 3.925015050754155e-07, 3.475945788977697e-07, 3.8285423897832516e-07, 3.681018085899268e-07, 3.4870436138589866e-07, 4.344978492554219e-07, 3.786311424391897e-07, 3.963003791795927e-07, 4.473861565656989e-07, 3.5339724036020925e-07, 3.680328006794298e-07, 3.365285010659136e-07, 4.410430562984402e-07, 3.805120627475844e-07, 4.4179785163578345e-07, 3.716446883572644e-07, 3.4059786457873997e-07, 5.017370199311699e-07, 4.200211378702079e-07, 3.621029236455797e-07, 4.5038632379146293e-07, 3.419240783841815e-07, 3.9807250118428783e-07, 4.763524543704989e-07, 3.853294288092002e-07, 3.883092176693026e-07, 4.370870669845317e-07, 3.668318697691575e-07, 3.5566330325309536e-07, 3.9111509408940037e-07, 3.4955547789650154e-07, 3.482982435798476e-07, 3.9193162137962645e-07, 3.711747922352515e-07, 3.549411076164688e-07, 3.421907024403481e-07, 4.1594415733925416e-07, 3.4772699564200593e-07, 4.0843991655492573e-07, 4.7392967417181353e-07, 4.334917207415856e-07, 3.2755045253907156e-07, 3.525528029513225e-07, 5.104022875457304e-07, 4.840341034650919e-07, 5.073310944680998e-07, 3.498764726828085e-07, 3.453904469097324e-07, 3.813402713603864e-07, 3.7978406908223405e-07, 3.330734159590065e-07, 3.3718788472469896e-07, 4.6885560323062236e-07, 3.6598657970898785e-07, 3.597805857680214e-07, 3.516725826102629e-07, 4.844845875595638e-07, 4.217904461256694e-07, 3.7574329780909466e-07, 6.252702178244363e-07, 3.580247494028299e-07, 3.8089132203822373e-07, 3.7316306134016486e-07, 4.191605569303647e-07, 3.397859984488605e-07, 3.376887889317004e-07, 3.333069287236867e-07, 3.717134973157954e-07, 3.356321087721881e-07, 3.4700769901974127e-07, 3.9982580801734e-07, 3.367365195572347e-07, 4.1101128545051324e-07, 3.5605654602477443e-07, 3.6060308161722787e-07, 3.5523311225915677e-07, 3.4776607549247274e-07, 3.8122374235172174e-07, 3.693737937737751e-07, 4.258470198692521e-07, 3.714785634656437e-07, 3.839205930944445e-07, 4.438689700236864e-07, 5.718764555240341e-07, 3.4739190368782147e-07, 3.8983858985375264e-07, 3.399586887553596e-07, 4.1903524561348604e-07, 3.562249446531496e-07, 3.374709081072069e-07, 3.7240360484247503e-07, 3.3292536727458355e-07, 3.6062417052562523e-07, 3.664857217700046e-07, 3.374639732101059e-07, 3.4258596315339673e-07, 3.4482502542232396e-07, 3.7368056382547366e-07, 3.426402486184088e-07, 4.133756590363191e-07, 3.511254362820182e-07, 3.32883928422234e-07, 3.4795033343471005e-07, 4.0983485405376996e-07, 3.4049904229505046e-07, 3.4766682688314177e-07, 3.791015217302629e-07, 3.352309363435779e-07, 3.281436420365935e-07, 3.770783223444596e-07, 3.9211653302118066e-07, 6.056730512682407e-07, 3.5266370446151996e-07, 3.4886477351392386e-07, 3.881888233081554e-07, 3.5129158959534834e-07, 4.1252368987443333e-07, 3.5964461631010636e-07, 3.6438021311369084e-07, 3.5018217658944195e-07, 3.898437910265784e-07, 3.593080464270315e-07, 4.930776071887522e-07, 4.1294492802990135e-07, 3.454420323123486e-07, 3.914051660558471e-07, 3.535713517521799e-07, 3.707562541421794e-07, 3.5063777659161133e-07, 4.780060862685787e-07, 3.712960392476816e-07, 3.550117924078222e-07, 3.897440592481871e-07, 4.0034436210589774e-07, 3.611925762925239e-07, 3.562777806109807e-07, 4.438697942532599e-07, 3.8455695516859123e-07, 3.865906990085932e-07, 3.331126663397299e-07, 3.8758685150241945e-07, 5.2302101494206e-07, 3.3543417998771474e-07, 4.465446181711741e-07, 3.73634691186453e-07, 3.9119237271734164e-07, 3.375730557308998e-07, 3.397462648990768e-07, 4.212919009205507e-07, 4.13311397551297e-07, 4.6818507826174027e-07, 3.4171026186413656e-07, 3.7052140555715596e-07, 3.820586584879493e-07, 3.851298799872893e-07, 4.2016412749035226e-07, 5.136922140991373e-07, 4.07575271310634e-07, 3.530923606831493e-07, 3.333476570333005e-07, 4.0008580981520936e-07, 3.4564055795271997e-07, 4.158230240136618e-07, 3.2463762522638717e-07, 4.0475532614436815e-07, 4.1789490978771937e-07, 4.018220636226033e-07, 3.821980669727054e-07, 3.901275249518221e-07, 3.3616456107665726e-07, 3.447584049354191e-07, 3.4567082707326335e-07, 4.31189505434304e-07, 3.3764837326089037e-07]}, {\"name\": \"error val\", \"type\": \"scatter\", \"y\": [0.021416235715150833, 0.017098620533943176, 0.015358690172433853, 0.013449009507894516, 0.01220911368727684, 0.010841337963938713, 0.008316745050251484, 0.006186542101204395, 0.004801349714398384, 0.0043695103377103806, 0.002221271861344576, 0.0013354562688618898, 0.0008747951942496002, 0.000606484420131892, 0.0004414782451931387, 0.0002890783071052283, 0.0002030636533163488, 0.00014799670316278934, 0.00012860607239417732, 0.00012289690494071692, 0.0001039503695210442, 9.827573376242071e-05, 0.00011270781396888196, 0.0001103050381061621, 9.524418419459835e-05, 0.00011463947157608345, 8.788324339548126e-05, 0.00010499749623704702, 9.371460328111425e-05, 8.372853335458785e-05, 8.307479583891109e-05, 7.85394076956436e-05, 0.000131447974126786, 7.845279469620436e-05, 7.502419612137601e-05, 7.274802192114294e-05, 7.399432070087641e-05, 8.081037958618253e-05, 7.275509415194392e-05, 7.096786430338398e-05, 7.260384154506028e-05, 7.850032852729782e-05, 6.601666245842353e-05, 6.631314317928627e-05, 9.094419510802254e-05, 6.118734017945826e-05, 7.349113730015233e-05, 6.364882574416697e-05, 8.046413131523877e-05, 6.432995724026114e-05, 5.7396868214709684e-05, 6.161686906125396e-05, 6.128779932623729e-05, 5.534375668503344e-05, 5.419377703219652e-05, 5.461977343657054e-05, 6.297972868196666e-05, 5.0844773795688525e-05, 5.109268022351898e-05, 4.8882597184274346e-05, 5.460787360789254e-05, 4.7601199185010046e-05, 6.575990846613422e-05, 5.3667681640945375e-05, 5.019516538595781e-05, 5.763910667155869e-05, 5.086039527668618e-05, 4.398826422402635e-05, 4.247277684044093e-05, 4.2004845454357564e-05, 4.361142055131495e-05, 5.613742541754618e-05, 6.303872942226008e-05, 4.070392606081441e-05, 5.684383722837083e-05, 3.785857916227542e-05, 3.847130938083865e-05, 3.778046811930835e-05, 4.381889448268339e-05, 3.732560435310006e-05, 3.719945379998535e-05, 3.5635257518151775e-05, 3.83900769520551e-05, 3.632364678196609e-05, 3.6750097933690995e-05, 4.263878145138733e-05, 3.527786611812189e-05, 3.3123309549409896e-05, 3.184081651852466e-05, 3.7069690733915195e-05, 3.164991721860133e-05, 3.566341183613986e-05, 4.008644464192912e-05, 3.093363920925185e-05, 3.070007005590014e-05, 2.873123958124779e-05, 3.0033999792067334e-05, 2.8573849704116583e-05, 3.411609213799238e-05, 2.6832463845494203e-05, 2.868734736694023e-05, 2.771038271021098e-05, 2.8527399990707636e-05, 2.5768034902284853e-05, 2.4867804313544184e-05, 2.452025182719808e-05, 2.5006240321090445e-05, 2.5907011149683967e-05, 2.5845251002465375e-05, 2.3261063688551076e-05, 2.974917515530251e-05, 2.419132215436548e-05, 3.412747901165858e-05, 2.750393105088733e-05, 2.148335443052929e-05, 2.4387805751757696e-05, 2.1025272872066125e-05, 2.395403862465173e-05, 2.2253716451814398e-05, 2.0434388716239482e-05, 2.189649603678845e-05, 1.9811690435744822e-05, 1.9096341929980554e-05, 2.1009000192862004e-05, 2.2411844838643447e-05, 2.153602326870896e-05, 2.356866025365889e-05, 1.936585977091454e-05, 2.0509076421149075e-05, 1.991668250411749e-05, 2.1213400032138452e-05, 1.7469326849095523e-05, 2.20900219574105e-05, 1.6844371202751063e-05, 1.6335383406840265e-05, 1.6327587218256667e-05, 1.730520489218179e-05, 1.7065343854483217e-05, 1.7320109691354446e-05, 1.510168112872634e-05, 1.8126673239748925e-05, 1.6246267477981746e-05, 1.5036268450785428e-05, 1.8161044863518327e-05, 1.4824141544522718e-05, 1.5144232747843489e-05, 1.5916661141091026e-05, 1.454146968171699e-05, 1.4395021935342811e-05, 1.3576136552728713e-05, 1.3978808055981062e-05, 1.3900904377806e-05, 1.3034488802077249e-05, 1.3531938748201355e-05, 1.349234844383318e-05, 1.2916618288727477e-05, 1.283339224755764e-05, 1.372498445562087e-05, 1.219569458044134e-05, 1.3130997103871778e-05, 1.1490386896184646e-05, 1.1786342838604469e-05, 1.1957437891396694e-05, 1.1424113836255856e-05, 1.3610728274215944e-05, 1.441200129193021e-05, 1.2636983228730969e-05, 1.1034098861273378e-05, 1.0929063137155026e-05, 1.1591323527682107e-05, 1.0414812095405068e-05, 1.0726140317274258e-05, 9.856235919869505e-06, 9.99122676148545e-06, 1.0945474969048519e-05, 1.1413223546696827e-05, 1.2090882592019625e-05, 9.589130968379322e-06, 1.5620946214767173e-05, 9.355821021017618e-06, 1.2327016520430334e-05, 9.747855074238032e-06, 8.692245501151774e-06, 9.633899935579393e-06, 8.666638677823357e-06, 8.906021321308799e-06, 9.713481631479226e-06, 8.120759048324544e-06, 9.912777386489324e-06, 1.0905569070018828e-05, 8.157344382198062e-06, 9.30470741877798e-06, 9.914443580782972e-06, 7.691711289226077e-06, 8.007210453797597e-06, 8.622365385235753e-06, 7.424302566505503e-06, 1.2535649148048833e-05, 7.133203325793147e-06, 6.977395969443023e-06, 8.014047125470825e-06, 7.581355475849705e-06, 6.863384442112874e-06, 7.662454663659446e-06, 1.1317491953377612e-05, 6.467531420639716e-06, 8.98080543265678e-06, 7.1724098233971745e-06, 1.1293357601971366e-05, 7.337106126215076e-06, 6.6620682446227875e-06, 6.422657406801591e-06, 7.250759153976105e-06, 6.286532880039886e-06, 6.391868282662472e-06, 6.6201364461448975e-06, 5.946346391283441e-06, 6.050405318092089e-06, 5.951825642114272e-06, 5.466401944431709e-06, 5.747647264797706e-06, 5.831806447531562e-06, 5.62384411750827e-06, 6.097802270232933e-06, 5.283442988002207e-06, 6.990088877500966e-06, 5.764215529779904e-06, 6.372837106027873e-06, 5.035250978835393e-06, 6.345677320496179e-06, 5.780108494946035e-06, 5.988475095364265e-06, 5.6160029089369345e-06, 4.635950062947813e-06, 4.623554104909999e-06, 4.549329332803609e-06, 6.694134299323196e-06, 4.418840035214089e-06, 5.1503088798199315e-06, 4.717736374004744e-06, 4.369626367406454e-06, 4.257350155967288e-06, 4.172963599557988e-06, 4.24053541792091e-06, 4.44009401689982e-06, 4.404863375384593e-06, 4.096551037946483e-06, 4.406854714034125e-06, 4.509055543167051e-06, 3.88498210668331e-06, 4.355749297246803e-06, 3.8571215554839e-06, 3.894555447914172e-06, 4.873494617640972e-06, 4.134822120249737e-06, 3.8971325011516456e-06, 8.595268809585832e-06, 3.5424045563559048e-06, 3.882185410475358e-06, 3.4498707464081235e-06, 3.639828719315119e-06, 3.4660165511013474e-06, 3.4227145988552365e-06, 3.8039847822801676e-06, 3.928922524210066e-06, 3.822560756816529e-06, 3.2872585506993346e-06, 3.214532171114115e-06, 3.290906533948146e-06, 3.309967723907903e-06, 3.6988485589972697e-06, 3.48884327650012e-06, 3.384168849152047e-06, 3.2592688512522727e-06, 2.955189529529889e-06, 4.0669619920663536e-06, 2.9408552109089214e-06, 3.644227490440244e-06, 3.133568498014938e-06, 3.3494404760858743e-06, 3.010897216881858e-06, 2.7707108074537246e-06, 3.09075790028146e-06, 3.43945521308342e-06, 2.7147389118908904e-06, 2.6320417418901343e-06, 3.699104581755819e-06, 3.9646224649914075e-06, 2.600116658868501e-06, 2.73445812126738e-06, 2.6334068934374955e-06, 2.8613962967938278e-06, 2.511329967092024e-06, 2.722585350056761e-06, 2.5217505026375875e-06, 2.771022991510108e-06, 2.6068776151078055e-06, 2.374714540565037e-06, 2.445679911033949e-06, 2.4002847567317076e-06, 2.309642695763614e-06, 2.4354069410037482e-06, 2.2243516468734015e-06, 2.2527283363160677e-06, 2.1586197362921666e-06, 3.7075401451147627e-06, 2.1499358808796387e-06, 2.5113752144534374e-06, 2.291194505232852e-06, 2.0846464394708164e-06, 2.248493728984613e-06, 2.245850737381261e-06, 2.3011725716060027e-06, 2.068859885184793e-06, 2.0901811694784556e-06, 2.7364606012270087e-06, 2.0974318886146648e-06, 2.1652233499480644e-06, 2.188146027037874e-06, 1.9225471987738274e-06, 1.8503760657040402e-06, 1.947853888850659e-06, 2.0298864455980947e-06, 3.537806151143741e-06, 1.9168355720466934e-06, 1.7978186406253371e-06, 1.7704139736451907e-06, 1.8491484752303222e-06, 2.1799119167553727e-06, 1.7135282632807503e-06, 2.247442580483039e-06, 1.748134195622697e-06, 1.7486947854195023e-06, 1.79444339210022e-06, 1.9442204575170763e-06, 1.6952075156950741e-06, 1.7252541510970332e-06, 1.5844698282307945e-06, 1.6601890138190356e-06, 1.7744521301210625e-06, 1.5343214272434125e-06, 1.752881189531763e-06, 2.2540600639331387e-06, 1.6334001884388272e-06, 2.6462671485205647e-06, 1.527630274722469e-06, 1.9136223272653297e-06, 1.6651451915095095e-06, 1.528725533717079e-06, 2.370158654230181e-06, 1.4016920886206208e-06, 2.3034613150230143e-06, 1.3994939536132733e-06, 1.5832381450309185e-06, 1.713822030069423e-06, 1.430863903806312e-06, 1.4027132237970363e-06, 1.4837470416750875e-06, 1.3339879387785913e-06, 1.3981330084789079e-06, 1.3054539067525184e-06, 1.4056057580091874e-06, 1.3148836615073378e-06, 1.7182405827043112e-06, 1.2869172678620089e-06, 1.2542279819172109e-06, 1.219468117596989e-06, 1.2641843341043568e-06, 1.2626101124624256e-06, 1.2751255553666851e-06, 1.1872735967699555e-06, 1.1746190011763247e-06, 1.1872730283357669e-06, 1.1910975672435598e-06, 1.1632430414465489e-06, 1.3327462511369959e-06, 1.2182463251519948e-06, 1.3241103715699865e-06, 1.1484451079013525e-06, 1.1998504305665847e-06, 1.112199015551596e-06, 1.3207049960328732e-06, 1.0708283753046999e-06, 1.063537865775288e-06, 1.4298207133833785e-06, 1.4758439874640317e-06, 1.244691361534933e-06, 1.086422344087623e-06, 1.1639676813501865e-06, 1.080092033589608e-06, 1.2568159490911057e-06, 1.1246911526541226e-06, 1.1239233117521508e-06, 1.0803090617628186e-06, 9.817109685172909e-07, 9.95165464701131e-07, 1.0070878033729969e-06, 1.2666049542531255e-06, 1.1128406640636967e-06, 9.511276175544481e-07, 1.0389144335931633e-06, 1.1396061836421723e-06, 9.438429060537601e-07, 9.316577234130818e-07, 9.25414724406437e-07, 1.0038833124781377e-06, 1.0395040135335876e-06, 8.985715567177976e-07, 9.415252861799672e-07, 8.922771712605027e-07, 9.440203712074435e-07, 1.1184183676959947e-06, 9.269936640521337e-07, 9.16028511710465e-07, 1.103710815186787e-06, 8.767766530581866e-07, 9.50388084675069e-07, 1.0045271210401552e-06, 8.870253509485337e-07, 1.0732596820162144e-06, 8.620821745353169e-07, 9.32200805436878e-07, 9.254812312065042e-07, 8.471914725305396e-07, 8.923587415665679e-07, 8.315088280141936e-07, 8.114742513498641e-07, 8.472204626741586e-07, 8.330001719514257e-07, 1.0067351468023844e-06, 8.443048500339501e-07, 7.648654332115257e-07, 1.1656986771413358e-06, 7.675052984268405e-07, 7.602253617733368e-07, 8.696725899426383e-07, 7.426088473039272e-07, 8.125439308059867e-07, 7.402735491268686e-07, 7.421959935527411e-07, 1.1583414334381814e-06, 8.028495130929514e-07, 7.594571798108518e-07, 7.488472988370631e-07, 7.350752184720477e-07, 7.122464467101963e-07, 8.514805927006819e-07, 1.25459428090835e-06, 8.342683486262104e-07, 7.600363005622057e-07, 7.130453241188661e-07, 7.059813924570335e-07, 7.046639325380966e-07, 7.216589779091009e-07, 6.869385629215685e-07, 7.237183012875903e-07, 7.608587111462839e-07, 6.820072826485557e-07, 7.304222435777774e-07, 6.889460451020568e-07, 6.953290494493558e-07, 6.884524168526696e-07, 6.955089588700503e-07, 7.296880539797712e-07, 8.023745863283693e-07, 8.114843126350024e-07, 6.369205038936343e-07, 6.872637641208712e-07, 6.337913873721845e-07, 6.367686182784382e-07, 6.825243872299325e-07, 9.327370662504109e-07, 6.318198302324163e-07, 6.162829322420293e-07, 6.114409529800469e-07, 7.806597182025143e-07, 9.735895218909718e-07, 7.495779072996811e-07, 6.093313231758657e-07, 5.930142492616142e-07, 5.883238713977335e-07, 6.194003958626126e-07, 5.832943088535103e-07, 6.149677460598468e-07, 6.130698011475033e-07, 6.567909736077127e-07, 6.599040034416248e-07, 7.072747507663735e-07, 6.654701110164751e-07, 7.437769227180979e-07, 7.324119906115811e-07, 6.201809128469904e-07, 5.754189942308585e-07, 7.277848794728925e-07, 5.670854648087698e-07, 7.331676670219167e-07, 5.934514319960726e-07, 6.322890158116934e-07, 6.401706968972576e-07, 5.797912763227941e-07, 5.480797540258209e-07, 5.697388587577734e-07, 5.541979817280662e-07, 5.481945777319197e-07, 5.798559641334577e-07, 7.181479304563254e-07, 5.453798621601891e-07, 8.297309932459029e-07, 6.927095341779932e-07, 6.377524641720811e-07, 6.488540975624346e-07, 6.32301407677005e-07, 5.952909418738273e-07, 5.252954906609375e-07, 5.513232395060186e-07, 5.173350245968322e-07, 5.409099230746506e-07, 6.220547561497369e-07, 5.59798195354233e-07, 5.158527756066178e-07, 6.349841896735597e-07, 5.119453589941259e-07, 5.288716238283087e-07, 6.270817607401113e-07, 4.994514029021957e-07, 5.262663762550801e-07, 5.062374270892178e-07, 4.915162890029023e-07, 5.663394517796405e-07, 5.937944251854788e-07, 5.439570145426842e-07, 5.251266657069209e-07, 5.008256493965746e-07, 4.871001237916062e-07, 1.1113889968328294e-06, 5.685930659637961e-07, 5.134486968927376e-07, 5.006436936128011e-07, 4.902933596895309e-07, 4.914719511361909e-07, 5.188093155084061e-07, 4.82327436657215e-07, 5.611287861029268e-07, 4.747554385176045e-07, 4.841617737838533e-07, 4.815472038899316e-07, 5.797896278636472e-07, 4.7400251901308366e-07, 5.032841272623045e-07, 4.813924761037924e-07, 6.121656497271033e-07, 5.535899276765122e-07, 6.525023650283401e-07, 4.666808308684267e-07, 4.648505012028181e-07, 5.287320163915865e-07, 6.180340506034554e-07, 4.700675049207348e-07, 4.505208153204876e-07, 5.621656669063668e-07, 4.766790766552731e-07, 4.5551635707852256e-07, 5.086476448923349e-07, 5.015300530430977e-07, 8.773644140092074e-07, 4.5931875547466916e-07, 4.819971195502148e-07, 4.840937322114769e-07, 6.531333269776951e-07, 4.4090540995966876e-07, 4.471759211810422e-07, 5.25837208442681e-07, 4.6237516926339595e-07, 4.360193202046503e-07, 5.036569632466126e-07, 4.5668960524380964e-07, 5.238633775661583e-07, 4.3620408973765734e-07, 4.773045816364174e-07, 4.775005777446495e-07, 4.4298533907749515e-07, 4.5128084025236603e-07, 4.4102841911808355e-07, 4.4470621674008726e-07, 4.657707677324652e-07, 4.3611427713585726e-07, 5.806955982734507e-07, 4.4480705696514633e-07, 4.5069594989399775e-07, 5.182762379263295e-07, 4.597428926444991e-07, 4.5471793441720365e-07, 5.389147190726362e-07, 4.970504505763529e-07, 5.179697950552509e-07, 4.637749100311339e-07, 5.105113700665243e-07, 4.2229731889165123e-07, 6.230874305401812e-07, 4.789795866599889e-07, 5.156393854122143e-07, 4.279740437596047e-07, 4.7590827989552054e-07, 5.948065791017143e-07, 4.3256221715637366e-07, 4.3134414795531484e-07, 4.772621764459473e-07, 6.866909529890108e-07, 4.2914950881822733e-07, 4.321155984143843e-07, 4.062410425831331e-07, 4.2437164893271984e-07, 4.3071221966783924e-07, 4.74320302146225e-07, 4.4725953785018646e-07, 4.289254036393686e-07, 4.405287086228782e-07, 5.82095822210249e-07, 5.04952595292707e-07, 4.422130359671428e-07, 4.1537447259543114e-07, 4.017766173092241e-07, 4.341454200584849e-07, 4.607803703038371e-07, 4.0370909459852555e-07, 4.038111285353807e-07, 3.9883411773189437e-07, 4.345984336850961e-07, 5.297239908941265e-07, 6.359706503644702e-07, 4.851615358347772e-07, 4.053706561535364e-07, 4.259249521965103e-07, 4.202880177217594e-07, 3.9498610249211197e-07, 6.627731181652052e-07, 4.5667951553696184e-07, 4.394133270579914e-07, 5.399907649916713e-07, 4.819724495064293e-07, 4.4180254121783946e-07, 4.2521963905528537e-07, 4.6203192027860496e-07, 3.9985781086215866e-07, 4.130752984110586e-07, 4.034863536617195e-07, 3.9286464925680775e-07, 6.494523177025258e-07, 6.888290613460413e-07, 5.132772571414534e-07, 4.090835830083961e-07, 4.802037096851564e-07, 5.239638767307042e-07, 4.1704385012053535e-07, 4.0546024138166104e-07, 4.145237539887603e-07, 3.885244268531096e-07, 4.2816697032321827e-07, 4.113448994758073e-07, 4.1359172087140905e-07, 4.641234738755884e-07, 4.1475209400232416e-07, 4.741683881093195e-07, 4.983172630090849e-07, 3.7917169493084657e-07, 4.4036875124220387e-07, 3.8276039049378596e-07, 3.9017214703562786e-07, 4.853231985180173e-07, 3.9202885204758786e-07, 4.009462486465054e-07, 3.895832492162299e-07, 4.0470783346790995e-07, 4.036236020965589e-07, 4.271651050657965e-07, 4.2950222223225865e-07, 4.086761009602924e-07, 4.7308714101745863e-07, 4.0243691046271124e-07, 4.2380537479402847e-07, 3.9821216546442884e-07, 3.8713909589205286e-07, 4.0518756350138574e-07, 4.004234028798237e-07, 4.676567755268479e-07, 3.77268463580549e-07, 3.79599498501193e-07, 3.8395160117943306e-07, 4.050549478051835e-07, 4.173104173332831e-07, 3.754895487873e-07, 4.0117026856023585e-07, 3.7514342920985655e-07, 5.733128318752279e-07, 3.935501808882691e-07, 5.574705710387207e-07, 4.106902338207874e-07, 4.545156855328969e-07, 3.7616470649481926e-07, 4.0221155472863757e-07, 4.3839631302944326e-07, 4.497947543313785e-07, 6.551506430696463e-07, 7.090305302881461e-07, 4.1466523725830484e-07, 3.883027943629713e-07, 3.972320712364308e-07, 4.2399148014737875e-07, 3.8177128658389847e-07, 4.2520548504398903e-07, 3.7042801181996765e-07, 4.437666802914464e-07, 3.6947835724276956e-07, 4.209918529340939e-07, 3.6404566117198556e-07, 5.903531246076454e-07, 4.6182935875549447e-07, 4.196926681743207e-07, 6.427506491490931e-07, 3.9123651163208706e-07, 6.668601599812973e-07, 5.782367225037888e-07, 4.7656405399720825e-07, 3.6561743854690576e-07, 3.6953994708710525e-07, 3.7279352227415075e-07, 3.70158744544824e-07, 3.6935074376742705e-07, 3.7420656440190214e-07, 3.8663466739308205e-07, 3.676530866414396e-07, 3.7570936228803475e-07, 5.145766408531927e-07, 4.244958518029307e-07, 3.955499039420829e-07, 4.002168338956835e-07, 3.959836476497003e-07, 3.775801360461628e-07, 4.1375895420969755e-07, 3.5961301136921975e-07, 3.5956486499344464e-07, 5.907884315092815e-07, 5.625226435768127e-07, 4.040454086862155e-07, 3.877808865127008e-07, 4.1325620259158313e-07, 4.830056923310622e-07, 3.843060483177396e-07, 4.1079684365286084e-07, 3.8122908563309466e-07, 3.7407505715236766e-07, 4.5486376620829105e-07, 3.634494873949734e-07, 3.5513934903974587e-07, 5.231813702266663e-07, 4.04072380888465e-07, 3.6997920460635214e-07, 3.746842196505895e-07, 3.5972499290437554e-07, 4.0422577285426087e-07, 3.959916909934691e-07, 3.570579849565547e-07, 3.5637430073620635e-07, 4.102461161892279e-07, 3.9909434690343915e-07, 4.463545906219224e-07, 3.932501044801029e-07, 3.7580593925667927e-07, 4.037585767946439e-07, 3.7800009522470646e-07, 3.7197332858340815e-07, 3.566995872006373e-07, 3.643621084847837e-07, 3.752226689357485e-07, 3.5682626275956864e-07, 5.681914672095445e-07, 5.473009423440089e-07, 3.7174447697907453e-07, 3.792865186369454e-07, 5.14234670845326e-07, 5.269085363579507e-07, 3.5305751566738763e-07, 4.733721254979173e-07, 3.85103049893587e-07, 3.603355480663595e-07, 3.977280869094102e-07, 4.13426562317909e-07, 4.0046552385319956e-07, 3.556770025170408e-07, 3.833627033600351e-07, 3.539535669006e-07, 3.9225272985277115e-07, 3.6018568039253296e-07, 4.413505223510583e-07, 4.3738018007388746e-07, 3.543028412877902e-07, 3.6987552221035003e-07, 3.6188421859151276e-07, 3.568730448932911e-07, 4.231130219523038e-07, 3.474331720099144e-07, 4.366136749922589e-07, 3.7214869053059374e-07, 3.462919551111554e-07, 5.66271069146751e-07, 3.4841053775380715e-07, 3.6218483501215815e-07, 3.8629121945632505e-07, 3.815966920228675e-07, 3.6783700352316373e-07, 3.5704522360902047e-07, 4.1799816585808003e-07, 3.640487875600229e-07, 3.988289165590686e-07, 3.968097530560044e-07, 3.634293932464061e-07, 4.3205145061619987e-07, 3.695544137372053e-07, 3.5491049743541225e-07, 4.1594199728933745e-07, 3.6706012451759307e-07, 3.8349548958649393e-07, 3.526660634634027e-07, 3.879950440932589e-07, 3.6315375950835005e-07, 4.1155590224661864e-07, 3.4435836937518616e-07, 3.55148074504541e-07, 4.2262115584890125e-07, 3.664209486942127e-07, 5.734169690185809e-07, 4.070391810273577e-07, 4.508735855779378e-07, 4.0203448747888615e-07, 4.2562197677398217e-07, 4.243426587891008e-07, 3.4245695701429213e-07, 3.746139327631681e-07, 3.650065707461181e-07, 7.261193673002708e-07, 3.445863967499463e-07, 3.4662508596738917e-07, 3.474586947049829e-07, 5.628485837405606e-07, 3.5549035715121136e-07, 3.6562818195307045e-07, 3.7437661148942425e-07, 3.4521229963502265e-07, 5.852321010024752e-07, 3.4516676805651514e-07, 4.2834474811570544e-07, 3.580879308628937e-07, 3.8022349713173753e-07, 3.5476372772791365e-07, 4.938402753396076e-07, 3.4262347980984487e-07, 3.4266150805706275e-07, 3.472110279290064e-07, 3.4252036584803136e-07, 3.4094523471139837e-07, 3.4538609838818957e-07, 3.9905705762066646e-07, 3.4713286822807277e-07, 3.4315928587602684e-07, 3.4858402386817033e-07, 3.866466045110428e-07, 4.045057835355692e-07, 4.1368136294295255e-07, 3.398897661099909e-07, 7.893464726294042e-07, 6.324966648207919e-07, 4.1122711991192773e-07, 3.565282895579003e-07, 3.42749615356297e-07, 4.2882905404439953e-07, 3.657260947420582e-07, 3.5994460745314427e-07, 4.5294228812053916e-07, 3.491348934403504e-07, 3.929468448404805e-07, 3.531187928729196e-07, 3.8826598824925895e-07, 4.2824163415389194e-07, 3.4846803487198486e-07, 3.815974309873127e-07, 4.2010867673525354e-07, 3.415456717448251e-07, 3.4395955594845873e-07, 3.5466709391585027e-07, 3.525437364260142e-07, 3.4590902941999957e-07, 3.5178834423277294e-07, 3.529244736455439e-07, 3.3777416774682933e-07, 3.6124703228779254e-07, 3.4272179050276463e-07, 3.360507321303885e-07, 3.4304065366086434e-07, 3.559671313269064e-07, 3.410201543374569e-07, 3.4106102475561784e-07, 3.6736869901687896e-07, 3.686139677938627e-07, 3.8490301790261583e-07, 3.710219402819348e-07, 4.974198191121104e-07, 4.413855378970766e-07, 3.763731228900724e-07, 3.6019454796587524e-07, 3.440535465415451e-07, 3.9437929899577284e-07, 3.922313567272795e-07, 3.693935184401198e-07, 5.142747454556229e-07, 3.3413041933272325e-07, 3.398678813937295e-07, 3.928741421077575e-07, 3.6933150227014266e-07, 3.3988033010246e-07, 4.128203840991773e-07, 3.450573728969175e-07, 3.947976949802978e-07, 4.301980425225338e-07, 3.3429671475460054e-07, 3.7035866284895747e-07, 3.8654474110444426e-07, 3.3451732406319934e-07, 3.466013822617242e-07, 3.421575911488617e-07, 4.2871690197898715e-07, 4.019013317702047e-07, 3.3852595038297295e-07, 3.413050819744967e-07, 3.593239341626031e-07, 3.357960167704732e-07, 3.4689315953073674e-07, 4.547600269688701e-07, 4.0154239400180813e-07, 3.871220144446852e-07, 3.4077106647600885e-07, 3.716330070346885e-07, 3.711563465458312e-07, 4.296639701806271e-07, 4.0967927361634793e-07, 3.3756487027858384e-07, 3.710180180860334e-07, 3.5069882642346784e-07, 3.7567542676697485e-07, 5.625652192975394e-07, 3.3158431733681937e-07, 3.5052607927354984e-07, 3.627137061812391e-07, 4.070408863299235e-07, 3.5906933248952555e-07, 4.205042500871059e-07, 4.2605552152963355e-07, 3.634710026290122e-07, 3.3633131124588544e-07, 4.0649013044458115e-07, 3.6226066413291846e-07, 3.308982172711694e-07, 3.820723009084759e-07, 3.7466182334355835e-07, 4.936678124067839e-07, 3.49801950960682e-07, 3.7956047549414507e-07, 4.0111856947078195e-07, 3.5600365322352445e-07, 3.8016219150449615e-07, 3.2995595233842323e-07, 3.761072662200604e-07, 3.873187779390719e-07, 3.9134025087150803e-07, 4.255290946275636e-07, 3.3087181350310857e-07, 3.334555458422983e-07, 3.6789066371056833e-07, 3.926777480955934e-07, 3.6309984352556057e-07, 4.4731282855536847e-07, 3.807541304468032e-07, 5.257872999209212e-07, 3.3151061984426633e-07, 3.379881263754214e-07, 3.4619534972080146e-07, 4.921841991745168e-07, 3.530440153554082e-07, 3.389552603039192e-07, 3.6233217315384536e-07, 4.774780109073617e-07, 4.543558418390603e-07, 5.422743925009854e-07, 3.6991553997722804e-07, 4.10307734455273e-07, 3.53019174781366e-07, 3.774359811359318e-07, 3.3165656532219145e-07, 3.4239462820551125e-07, 3.2971956898109056e-07, 3.2980565833895525e-07]}],\n",
       "                        {\"template\": {\"data\": {\"bar\": [{\"error_x\": {\"color\": \"#2a3f5f\"}, \"error_y\": {\"color\": \"#2a3f5f\"}, \"marker\": {\"line\": {\"color\": \"#E5ECF6\", \"width\": 0.5}}, \"type\": \"bar\"}], \"barpolar\": [{\"marker\": {\"line\": {\"color\": \"#E5ECF6\", \"width\": 0.5}}, \"type\": \"barpolar\"}], \"carpet\": [{\"aaxis\": {\"endlinecolor\": \"#2a3f5f\", \"gridcolor\": \"white\", \"linecolor\": \"white\", \"minorgridcolor\": \"white\", \"startlinecolor\": \"#2a3f5f\"}, \"baxis\": {\"endlinecolor\": \"#2a3f5f\", \"gridcolor\": \"white\", \"linecolor\": \"white\", \"minorgridcolor\": \"white\", \"startlinecolor\": \"#2a3f5f\"}, \"type\": \"carpet\"}], \"choropleth\": [{\"colorbar\": {\"outlinewidth\": 0, \"ticks\": \"\"}, \"type\": \"choropleth\"}], \"contour\": [{\"colorbar\": {\"outlinewidth\": 0, \"ticks\": \"\"}, \"colorscale\": [[0.0, \"#0d0887\"], [0.1111111111111111, \"#46039f\"], [0.2222222222222222, \"#7201a8\"], [0.3333333333333333, \"#9c179e\"], [0.4444444444444444, \"#bd3786\"], [0.5555555555555556, \"#d8576b\"], [0.6666666666666666, \"#ed7953\"], [0.7777777777777778, \"#fb9f3a\"], [0.8888888888888888, \"#fdca26\"], [1.0, \"#f0f921\"]], \"type\": \"contour\"}], \"contourcarpet\": [{\"colorbar\": {\"outlinewidth\": 0, \"ticks\": \"\"}, \"type\": \"contourcarpet\"}], \"heatmap\": [{\"colorbar\": {\"outlinewidth\": 0, \"ticks\": \"\"}, \"colorscale\": [[0.0, \"#0d0887\"], [0.1111111111111111, \"#46039f\"], [0.2222222222222222, \"#7201a8\"], [0.3333333333333333, \"#9c179e\"], [0.4444444444444444, \"#bd3786\"], [0.5555555555555556, \"#d8576b\"], [0.6666666666666666, \"#ed7953\"], [0.7777777777777778, \"#fb9f3a\"], [0.8888888888888888, \"#fdca26\"], [1.0, \"#f0f921\"]], \"type\": \"heatmap\"}], \"heatmapgl\": [{\"colorbar\": {\"outlinewidth\": 0, \"ticks\": \"\"}, \"colorscale\": [[0.0, \"#0d0887\"], [0.1111111111111111, \"#46039f\"], [0.2222222222222222, \"#7201a8\"], [0.3333333333333333, \"#9c179e\"], [0.4444444444444444, \"#bd3786\"], [0.5555555555555556, \"#d8576b\"], [0.6666666666666666, \"#ed7953\"], [0.7777777777777778, \"#fb9f3a\"], [0.8888888888888888, \"#fdca26\"], [1.0, \"#f0f921\"]], \"type\": \"heatmapgl\"}], \"histogram\": [{\"marker\": {\"colorbar\": {\"outlinewidth\": 0, \"ticks\": \"\"}}, \"type\": \"histogram\"}], \"histogram2d\": [{\"colorbar\": {\"outlinewidth\": 0, \"ticks\": \"\"}, \"colorscale\": [[0.0, \"#0d0887\"], [0.1111111111111111, \"#46039f\"], [0.2222222222222222, \"#7201a8\"], [0.3333333333333333, \"#9c179e\"], [0.4444444444444444, \"#bd3786\"], [0.5555555555555556, \"#d8576b\"], [0.6666666666666666, \"#ed7953\"], [0.7777777777777778, \"#fb9f3a\"], [0.8888888888888888, \"#fdca26\"], [1.0, \"#f0f921\"]], \"type\": \"histogram2d\"}], \"histogram2dcontour\": [{\"colorbar\": {\"outlinewidth\": 0, \"ticks\": \"\"}, \"colorscale\": [[0.0, \"#0d0887\"], [0.1111111111111111, \"#46039f\"], [0.2222222222222222, \"#7201a8\"], [0.3333333333333333, \"#9c179e\"], [0.4444444444444444, \"#bd3786\"], [0.5555555555555556, \"#d8576b\"], [0.6666666666666666, \"#ed7953\"], [0.7777777777777778, \"#fb9f3a\"], [0.8888888888888888, \"#fdca26\"], [1.0, \"#f0f921\"]], \"type\": \"histogram2dcontour\"}], \"mesh3d\": [{\"colorbar\": {\"outlinewidth\": 0, \"ticks\": \"\"}, \"type\": \"mesh3d\"}], \"parcoords\": [{\"line\": {\"colorbar\": {\"outlinewidth\": 0, \"ticks\": \"\"}}, \"type\": \"parcoords\"}], \"pie\": [{\"automargin\": true, \"type\": \"pie\"}], \"scatter\": [{\"marker\": {\"colorbar\": {\"outlinewidth\": 0, \"ticks\": \"\"}}, \"type\": \"scatter\"}], \"scatter3d\": [{\"line\": {\"colorbar\": {\"outlinewidth\": 0, \"ticks\": \"\"}}, \"marker\": {\"colorbar\": {\"outlinewidth\": 0, \"ticks\": \"\"}}, \"type\": \"scatter3d\"}], \"scattercarpet\": [{\"marker\": {\"colorbar\": {\"outlinewidth\": 0, \"ticks\": \"\"}}, \"type\": \"scattercarpet\"}], \"scattergeo\": [{\"marker\": {\"colorbar\": {\"outlinewidth\": 0, \"ticks\": \"\"}}, \"type\": \"scattergeo\"}], \"scattergl\": [{\"marker\": {\"colorbar\": {\"outlinewidth\": 0, \"ticks\": \"\"}}, \"type\": \"scattergl\"}], \"scattermapbox\": [{\"marker\": {\"colorbar\": {\"outlinewidth\": 0, \"ticks\": \"\"}}, \"type\": \"scattermapbox\"}], \"scatterpolar\": [{\"marker\": {\"colorbar\": {\"outlinewidth\": 0, \"ticks\": \"\"}}, \"type\": \"scatterpolar\"}], \"scatterpolargl\": [{\"marker\": {\"colorbar\": {\"outlinewidth\": 0, \"ticks\": \"\"}}, \"type\": \"scatterpolargl\"}], \"scatterternary\": [{\"marker\": {\"colorbar\": {\"outlinewidth\": 0, \"ticks\": \"\"}}, \"type\": \"scatterternary\"}], \"surface\": [{\"colorbar\": {\"outlinewidth\": 0, \"ticks\": \"\"}, \"colorscale\": [[0.0, \"#0d0887\"], [0.1111111111111111, \"#46039f\"], [0.2222222222222222, \"#7201a8\"], [0.3333333333333333, \"#9c179e\"], [0.4444444444444444, \"#bd3786\"], [0.5555555555555556, \"#d8576b\"], [0.6666666666666666, \"#ed7953\"], [0.7777777777777778, \"#fb9f3a\"], [0.8888888888888888, \"#fdca26\"], [1.0, \"#f0f921\"]], \"type\": \"surface\"}], \"table\": [{\"cells\": {\"fill\": {\"color\": \"#EBF0F8\"}, \"line\": {\"color\": \"white\"}}, \"header\": {\"fill\": {\"color\": \"#C8D4E3\"}, \"line\": {\"color\": \"white\"}}, \"type\": \"table\"}]}, \"layout\": {\"annotationdefaults\": {\"arrowcolor\": \"#2a3f5f\", \"arrowhead\": 0, \"arrowwidth\": 1}, \"coloraxis\": {\"colorbar\": {\"outlinewidth\": 0, \"ticks\": \"\"}}, \"colorscale\": {\"diverging\": [[0, \"#8e0152\"], [0.1, \"#c51b7d\"], [0.2, \"#de77ae\"], [0.3, \"#f1b6da\"], [0.4, \"#fde0ef\"], [0.5, \"#f7f7f7\"], [0.6, \"#e6f5d0\"], [0.7, \"#b8e186\"], [0.8, \"#7fbc41\"], [0.9, \"#4d9221\"], [1, \"#276419\"]], \"sequential\": [[0.0, \"#0d0887\"], [0.1111111111111111, \"#46039f\"], [0.2222222222222222, \"#7201a8\"], [0.3333333333333333, \"#9c179e\"], [0.4444444444444444, \"#bd3786\"], [0.5555555555555556, \"#d8576b\"], [0.6666666666666666, \"#ed7953\"], [0.7777777777777778, \"#fb9f3a\"], [0.8888888888888888, \"#fdca26\"], [1.0, \"#f0f921\"]], \"sequentialminus\": [[0.0, \"#0d0887\"], [0.1111111111111111, \"#46039f\"], [0.2222222222222222, \"#7201a8\"], [0.3333333333333333, \"#9c179e\"], [0.4444444444444444, \"#bd3786\"], [0.5555555555555556, \"#d8576b\"], [0.6666666666666666, \"#ed7953\"], [0.7777777777777778, \"#fb9f3a\"], [0.8888888888888888, \"#fdca26\"], [1.0, \"#f0f921\"]]}, \"colorway\": [\"#636efa\", \"#EF553B\", \"#00cc96\", \"#ab63fa\", \"#FFA15A\", \"#19d3f3\", \"#FF6692\", \"#B6E880\", \"#FF97FF\", \"#FECB52\"], \"font\": {\"color\": \"#2a3f5f\"}, \"geo\": {\"bgcolor\": \"white\", \"lakecolor\": \"white\", \"landcolor\": \"#E5ECF6\", \"showlakes\": true, \"showland\": true, \"subunitcolor\": \"white\"}, \"hoverlabel\": {\"align\": \"left\"}, \"hovermode\": \"closest\", \"mapbox\": {\"style\": \"light\"}, \"paper_bgcolor\": \"white\", \"plot_bgcolor\": \"#E5ECF6\", \"polar\": {\"angularaxis\": {\"gridcolor\": \"white\", \"linecolor\": \"white\", \"ticks\": \"\"}, \"bgcolor\": \"#E5ECF6\", \"radialaxis\": {\"gridcolor\": \"white\", \"linecolor\": \"white\", \"ticks\": \"\"}}, \"scene\": {\"xaxis\": {\"backgroundcolor\": \"#E5ECF6\", \"gridcolor\": \"white\", \"gridwidth\": 2, \"linecolor\": \"white\", \"showbackground\": true, \"ticks\": \"\", \"zerolinecolor\": \"white\"}, \"yaxis\": {\"backgroundcolor\": \"#E5ECF6\", \"gridcolor\": \"white\", \"gridwidth\": 2, \"linecolor\": \"white\", \"showbackground\": true, \"ticks\": \"\", \"zerolinecolor\": \"white\"}, \"zaxis\": {\"backgroundcolor\": \"#E5ECF6\", \"gridcolor\": \"white\", \"gridwidth\": 2, \"linecolor\": \"white\", \"showbackground\": true, \"ticks\": \"\", \"zerolinecolor\": \"white\"}}, \"shapedefaults\": {\"line\": {\"color\": \"#2a3f5f\"}}, \"ternary\": {\"aaxis\": {\"gridcolor\": \"white\", \"linecolor\": \"white\", \"ticks\": \"\"}, \"baxis\": {\"gridcolor\": \"white\", \"linecolor\": \"white\", \"ticks\": \"\"}, \"bgcolor\": \"#E5ECF6\", \"caxis\": {\"gridcolor\": \"white\", \"linecolor\": \"white\", \"ticks\": \"\"}}, \"title\": {\"x\": 0.05}, \"xaxis\": {\"automargin\": true, \"gridcolor\": \"white\", \"linecolor\": \"white\", \"ticks\": \"\", \"title\": {\"standoff\": 15}, \"zerolinecolor\": \"white\", \"zerolinewidth\": 2}, \"yaxis\": {\"automargin\": true, \"gridcolor\": \"white\", \"linecolor\": \"white\", \"ticks\": \"\", \"title\": {\"standoff\": 15}, \"zerolinecolor\": \"white\", \"zerolinewidth\": 2}}}, \"width\": 600, \"yaxis\": {\"type\": \"log\"}},\n",
       "                        {\"responsive\": true}\n",
       "                    ).then(function(){\n",
       "                            \n",
       "var gd = document.getElementById('bbc7526c-9f7d-4ede-acd1-6bc256d382e0');\n",
       "var x = new MutationObserver(function (mutations, observer) {{\n",
       "        var display = window.getComputedStyle(gd).display;\n",
       "        if (!display || display === 'none') {{\n",
       "            console.log([gd, 'removed!']);\n",
       "            Plotly.purge(gd);\n",
       "            observer.disconnect();\n",
       "        }}\n",
       "}});\n",
       "\n",
       "// Listen for the removal of the full notebook cells\n",
       "var notebookContainer = gd.closest('#notebook-container');\n",
       "if (notebookContainer) {{\n",
       "    x.observe(notebookContainer, {childList: true});\n",
       "}}\n",
       "\n",
       "// Listen for the clearing of the current output cell\n",
       "var outputEl = gd.closest('.output');\n",
       "if (outputEl) {{\n",
       "    x.observe(outputEl, {childList: true});\n",
       "}}\n",
       "\n",
       "                        })\n",
       "                };\n",
       "                });\n",
       "            </script>\n",
       "        </div>"
      ]
     },
     "metadata": {},
     "output_type": "display_data"
    }
   ],
   "source": [
    "error = history.history[\"mse\"]\n",
    "error_val = history.history[\"val_mse\"]\n",
    "\n",
    "fig = go.Figure()\n",
    "fig.add_trace(go.Scatter(y=error,name='error'))\n",
    "fig.add_trace(go.Scatter(y=error_val, name='error val'))\n",
    "fig.update_layout(width=600, yaxis_type=\"log\")\n",
    "fig.show()"
   ]
  },
  {
   "cell_type": "code",
   "execution_count": 309,
   "metadata": {},
   "outputs": [
    {
     "name": "stdout",
     "output_type": "stream",
     "text": [
      "\r",
      "64/1 [================================================================================================================================================================================================================================================================================================================================================================================================================================================================================================================================================================================================================================================================================================================================================================================================================================================================================================================================================================================================================================================================================================================================================================================================================================================================================================================================================================================================================================================================================================================================================================================================================================================================================================================================================================================================================================================================================================================================================================================================] - 0s 61us/sample - loss: 4.7192e-07 - mse: 3.5234e-07 - mae: 4.6415e-04\n"
     ]
    },
    {
     "data": {
      "text/plain": [
       "[3.523427416496361e-07, 3.5234274e-07, 0.0004641451]"
      ]
     },
     "execution_count": 309,
     "metadata": {},
     "output_type": "execute_result"
    }
   ],
   "source": [
    "X_test = np.linspace(-1,1,64)\n",
    "y_test = fun(X_test)\n",
    "\n",
    "model.evaluate(X_test, y_test)"
   ]
  },
  {
   "cell_type": "code",
   "execution_count": 310,
   "metadata": {},
   "outputs": [
    {
     "data": {
      "application/vnd.plotly.v1+json": {
       "config": {
        "plotlyServerURL": "https://plot.ly"
       },
       "data": [
        {
         "type": "scatter",
         "x": [
          -1,
          -0.9682539682539683,
          -0.9365079365079365,
          -0.9047619047619048,
          -0.873015873015873,
          -0.8412698412698413,
          -0.8095238095238095,
          -0.7777777777777778,
          -0.746031746031746,
          -0.7142857142857143,
          -0.6825396825396826,
          -0.6507936507936508,
          -0.6190476190476191,
          -0.5873015873015873,
          -0.5555555555555556,
          -0.5238095238095238,
          -0.4920634920634921,
          -0.46031746031746035,
          -0.4285714285714286,
          -0.39682539682539686,
          -0.3650793650793651,
          -0.33333333333333337,
          -0.3015873015873016,
          -0.2698412698412699,
          -0.23809523809523814,
          -0.2063492063492064,
          -0.17460317460317465,
          -0.1428571428571429,
          -0.11111111111111116,
          -0.07936507936507942,
          -0.04761904761904767,
          -0.015873015873015928,
          0.015873015873015817,
          0.04761904761904745,
          0.0793650793650793,
          0.11111111111111116,
          0.1428571428571428,
          0.17460317460317443,
          0.20634920634920628,
          0.23809523809523814,
          0.26984126984126977,
          0.3015873015873014,
          0.33333333333333326,
          0.3650793650793651,
          0.39682539682539675,
          0.4285714285714284,
          0.46031746031746024,
          0.4920634920634921,
          0.5238095238095237,
          0.5555555555555554,
          0.5873015873015872,
          0.6190476190476191,
          0.6507936507936507,
          0.6825396825396823,
          0.7142857142857142,
          0.746031746031746,
          0.7777777777777777,
          0.8095238095238093,
          0.8412698412698412,
          0.873015873015873,
          0.9047619047619047,
          0.9365079365079363,
          0.9682539682539681,
          1
         ],
         "y": [
          0.5,
          0.5161248374512354,
          0.532751677852349,
          0.5498753117206983,
          0.5674864169287961,
          0.5855709648863973,
          0.6041095890410959,
          0.6230769230769231,
          0.6424409193913888,
          0.6621621621621622,
          0.682193193537298,
          0.7024778761061947,
          0.7229508196721312,
          0.743536905207943,
          0.7641509433962264,
          0.7846975088967971,
          0.8050709939148074,
          0.8251559251559252,
          0.8448275862068966,
          0.8639529821506313,
          0.8823921742996887,
          0.8999999999999999,
          0.9166281755196305,
          0.9321277595115078,
          0.9463519313304721,
          0.9591590140164331,
          0.9704156479217605,
          0.98,
          0.9878048780487805,
          0.9937406109163746,
          0.9977375565610861,
          0.9997481108312343,
          0.9997481108312343,
          0.9977375565610861,
          0.9937406109163746,
          0.9878048780487805,
          0.98,
          0.9704156479217605,
          0.9591590140164331,
          0.9463519313304721,
          0.9321277595115078,
          0.9166281755196306,
          0.8999999999999999,
          0.8823921742996887,
          0.8639529821506313,
          0.8448275862068967,
          0.8251559251559252,
          0.8050709939148074,
          0.7846975088967972,
          0.7641509433962265,
          0.7435369052079431,
          0.7229508196721312,
          0.7024778761061947,
          0.6821931935372981,
          0.6621621621621622,
          0.6424409193913888,
          0.6230769230769232,
          0.604109589041096,
          0.5855709648863973,
          0.5674864169287961,
          0.5498753117206983,
          0.5327516778523491,
          0.5161248374512354,
          0.5
         ]
        },
        {
         "type": "scatter",
         "x": [
          -1,
          -0.9682539682539683,
          -0.9365079365079365,
          -0.9047619047619048,
          -0.873015873015873,
          -0.8412698412698413,
          -0.8095238095238095,
          -0.7777777777777778,
          -0.746031746031746,
          -0.7142857142857143,
          -0.6825396825396826,
          -0.6507936507936508,
          -0.6190476190476191,
          -0.5873015873015873,
          -0.5555555555555556,
          -0.5238095238095238,
          -0.4920634920634921,
          -0.46031746031746035,
          -0.4285714285714286,
          -0.39682539682539686,
          -0.3650793650793651,
          -0.33333333333333337,
          -0.3015873015873016,
          -0.2698412698412699,
          -0.23809523809523814,
          -0.2063492063492064,
          -0.17460317460317465,
          -0.1428571428571429,
          -0.11111111111111116,
          -0.07936507936507942,
          -0.04761904761904767,
          -0.015873015873015928,
          0.015873015873015817,
          0.04761904761904745,
          0.0793650793650793,
          0.11111111111111116,
          0.1428571428571428,
          0.17460317460317443,
          0.20634920634920628,
          0.23809523809523814,
          0.26984126984126977,
          0.3015873015873014,
          0.33333333333333326,
          0.3650793650793651,
          0.39682539682539675,
          0.4285714285714284,
          0.46031746031746024,
          0.4920634920634921,
          0.5238095238095237,
          0.5555555555555554,
          0.5873015873015872,
          0.6190476190476191,
          0.6507936507936507,
          0.6825396825396823,
          0.7142857142857142,
          0.746031746031746,
          0.7777777777777777,
          0.8095238095238093,
          0.8412698412698412,
          0.873015873015873,
          0.9047619047619047,
          0.9365079365079363,
          0.9682539682539681,
          1
         ],
         "y": [
          0.5005838871002197,
          0.5164960622787476,
          0.5329334735870361,
          0.5498924851417542,
          0.5673657059669495,
          0.5853406190872192,
          0.6037986278533936,
          0.6227149963378906,
          0.6420575976371765,
          0.6617859601974487,
          0.6818504333496094,
          0.7021923065185547,
          0.7227420806884766,
          0.7434200048446655,
          0.7641348838806152,
          0.7847850322723389,
          0.8052577972412109,
          0.825430691242218,
          0.845172107219696,
          0.8643429279327393,
          0.8827984929084778,
          0.9003903865814209,
          0.9169695377349854,
          0.9323880672454834,
          0.9465032815933228,
          0.9591799974441528,
          0.9702930450439453,
          0.9797308444976807,
          0.9873976707458496,
          0.9932141304016113,
          0.9971214532852173,
          0.9990804195404053,
          0.9990725517272949,
          0.9971005916595459,
          0.9931877851486206,
          0.9873772859573364,
          0.9797309637069702,
          0.9703280925750732,
          0.959262490272522,
          0.9466427564620972,
          0.9325883388519287,
          0.9172278642654419,
          0.9006972312927246,
          0.8831373453140259,
          0.8646907806396484,
          0.8455019593238831,
          0.825713038444519,
          0.8054627180099487,
          0.7848851084709167,
          0.7641075849533081,
          0.7432504296302795,
          0.722424328327179,
          0.7017319202423096,
          0.6812646985054016,
          0.661104679107666,
          0.641323983669281,
          0.6219841837882996,
          0.6031370162963867,
          0.5848258137702942,
          0.5670841932296753,
          0.5499382019042969,
          0.5334064960479736,
          0.5175009965896606,
          0.5022274255752563
         ]
        }
       ],
       "layout": {
        "template": {
         "data": {
          "bar": [
           {
            "error_x": {
             "color": "#2a3f5f"
            },
            "error_y": {
             "color": "#2a3f5f"
            },
            "marker": {
             "line": {
              "color": "#E5ECF6",
              "width": 0.5
             }
            },
            "type": "bar"
           }
          ],
          "barpolar": [
           {
            "marker": {
             "line": {
              "color": "#E5ECF6",
              "width": 0.5
             }
            },
            "type": "barpolar"
           }
          ],
          "carpet": [
           {
            "aaxis": {
             "endlinecolor": "#2a3f5f",
             "gridcolor": "white",
             "linecolor": "white",
             "minorgridcolor": "white",
             "startlinecolor": "#2a3f5f"
            },
            "baxis": {
             "endlinecolor": "#2a3f5f",
             "gridcolor": "white",
             "linecolor": "white",
             "minorgridcolor": "white",
             "startlinecolor": "#2a3f5f"
            },
            "type": "carpet"
           }
          ],
          "choropleth": [
           {
            "colorbar": {
             "outlinewidth": 0,
             "ticks": ""
            },
            "type": "choropleth"
           }
          ],
          "contour": [
           {
            "colorbar": {
             "outlinewidth": 0,
             "ticks": ""
            },
            "colorscale": [
             [
              0,
              "#0d0887"
             ],
             [
              0.1111111111111111,
              "#46039f"
             ],
             [
              0.2222222222222222,
              "#7201a8"
             ],
             [
              0.3333333333333333,
              "#9c179e"
             ],
             [
              0.4444444444444444,
              "#bd3786"
             ],
             [
              0.5555555555555556,
              "#d8576b"
             ],
             [
              0.6666666666666666,
              "#ed7953"
             ],
             [
              0.7777777777777778,
              "#fb9f3a"
             ],
             [
              0.8888888888888888,
              "#fdca26"
             ],
             [
              1,
              "#f0f921"
             ]
            ],
            "type": "contour"
           }
          ],
          "contourcarpet": [
           {
            "colorbar": {
             "outlinewidth": 0,
             "ticks": ""
            },
            "type": "contourcarpet"
           }
          ],
          "heatmap": [
           {
            "colorbar": {
             "outlinewidth": 0,
             "ticks": ""
            },
            "colorscale": [
             [
              0,
              "#0d0887"
             ],
             [
              0.1111111111111111,
              "#46039f"
             ],
             [
              0.2222222222222222,
              "#7201a8"
             ],
             [
              0.3333333333333333,
              "#9c179e"
             ],
             [
              0.4444444444444444,
              "#bd3786"
             ],
             [
              0.5555555555555556,
              "#d8576b"
             ],
             [
              0.6666666666666666,
              "#ed7953"
             ],
             [
              0.7777777777777778,
              "#fb9f3a"
             ],
             [
              0.8888888888888888,
              "#fdca26"
             ],
             [
              1,
              "#f0f921"
             ]
            ],
            "type": "heatmap"
           }
          ],
          "heatmapgl": [
           {
            "colorbar": {
             "outlinewidth": 0,
             "ticks": ""
            },
            "colorscale": [
             [
              0,
              "#0d0887"
             ],
             [
              0.1111111111111111,
              "#46039f"
             ],
             [
              0.2222222222222222,
              "#7201a8"
             ],
             [
              0.3333333333333333,
              "#9c179e"
             ],
             [
              0.4444444444444444,
              "#bd3786"
             ],
             [
              0.5555555555555556,
              "#d8576b"
             ],
             [
              0.6666666666666666,
              "#ed7953"
             ],
             [
              0.7777777777777778,
              "#fb9f3a"
             ],
             [
              0.8888888888888888,
              "#fdca26"
             ],
             [
              1,
              "#f0f921"
             ]
            ],
            "type": "heatmapgl"
           }
          ],
          "histogram": [
           {
            "marker": {
             "colorbar": {
              "outlinewidth": 0,
              "ticks": ""
             }
            },
            "type": "histogram"
           }
          ],
          "histogram2d": [
           {
            "colorbar": {
             "outlinewidth": 0,
             "ticks": ""
            },
            "colorscale": [
             [
              0,
              "#0d0887"
             ],
             [
              0.1111111111111111,
              "#46039f"
             ],
             [
              0.2222222222222222,
              "#7201a8"
             ],
             [
              0.3333333333333333,
              "#9c179e"
             ],
             [
              0.4444444444444444,
              "#bd3786"
             ],
             [
              0.5555555555555556,
              "#d8576b"
             ],
             [
              0.6666666666666666,
              "#ed7953"
             ],
             [
              0.7777777777777778,
              "#fb9f3a"
             ],
             [
              0.8888888888888888,
              "#fdca26"
             ],
             [
              1,
              "#f0f921"
             ]
            ],
            "type": "histogram2d"
           }
          ],
          "histogram2dcontour": [
           {
            "colorbar": {
             "outlinewidth": 0,
             "ticks": ""
            },
            "colorscale": [
             [
              0,
              "#0d0887"
             ],
             [
              0.1111111111111111,
              "#46039f"
             ],
             [
              0.2222222222222222,
              "#7201a8"
             ],
             [
              0.3333333333333333,
              "#9c179e"
             ],
             [
              0.4444444444444444,
              "#bd3786"
             ],
             [
              0.5555555555555556,
              "#d8576b"
             ],
             [
              0.6666666666666666,
              "#ed7953"
             ],
             [
              0.7777777777777778,
              "#fb9f3a"
             ],
             [
              0.8888888888888888,
              "#fdca26"
             ],
             [
              1,
              "#f0f921"
             ]
            ],
            "type": "histogram2dcontour"
           }
          ],
          "mesh3d": [
           {
            "colorbar": {
             "outlinewidth": 0,
             "ticks": ""
            },
            "type": "mesh3d"
           }
          ],
          "parcoords": [
           {
            "line": {
             "colorbar": {
              "outlinewidth": 0,
              "ticks": ""
             }
            },
            "type": "parcoords"
           }
          ],
          "pie": [
           {
            "automargin": true,
            "type": "pie"
           }
          ],
          "scatter": [
           {
            "marker": {
             "colorbar": {
              "outlinewidth": 0,
              "ticks": ""
             }
            },
            "type": "scatter"
           }
          ],
          "scatter3d": [
           {
            "line": {
             "colorbar": {
              "outlinewidth": 0,
              "ticks": ""
             }
            },
            "marker": {
             "colorbar": {
              "outlinewidth": 0,
              "ticks": ""
             }
            },
            "type": "scatter3d"
           }
          ],
          "scattercarpet": [
           {
            "marker": {
             "colorbar": {
              "outlinewidth": 0,
              "ticks": ""
             }
            },
            "type": "scattercarpet"
           }
          ],
          "scattergeo": [
           {
            "marker": {
             "colorbar": {
              "outlinewidth": 0,
              "ticks": ""
             }
            },
            "type": "scattergeo"
           }
          ],
          "scattergl": [
           {
            "marker": {
             "colorbar": {
              "outlinewidth": 0,
              "ticks": ""
             }
            },
            "type": "scattergl"
           }
          ],
          "scattermapbox": [
           {
            "marker": {
             "colorbar": {
              "outlinewidth": 0,
              "ticks": ""
             }
            },
            "type": "scattermapbox"
           }
          ],
          "scatterpolar": [
           {
            "marker": {
             "colorbar": {
              "outlinewidth": 0,
              "ticks": ""
             }
            },
            "type": "scatterpolar"
           }
          ],
          "scatterpolargl": [
           {
            "marker": {
             "colorbar": {
              "outlinewidth": 0,
              "ticks": ""
             }
            },
            "type": "scatterpolargl"
           }
          ],
          "scatterternary": [
           {
            "marker": {
             "colorbar": {
              "outlinewidth": 0,
              "ticks": ""
             }
            },
            "type": "scatterternary"
           }
          ],
          "surface": [
           {
            "colorbar": {
             "outlinewidth": 0,
             "ticks": ""
            },
            "colorscale": [
             [
              0,
              "#0d0887"
             ],
             [
              0.1111111111111111,
              "#46039f"
             ],
             [
              0.2222222222222222,
              "#7201a8"
             ],
             [
              0.3333333333333333,
              "#9c179e"
             ],
             [
              0.4444444444444444,
              "#bd3786"
             ],
             [
              0.5555555555555556,
              "#d8576b"
             ],
             [
              0.6666666666666666,
              "#ed7953"
             ],
             [
              0.7777777777777778,
              "#fb9f3a"
             ],
             [
              0.8888888888888888,
              "#fdca26"
             ],
             [
              1,
              "#f0f921"
             ]
            ],
            "type": "surface"
           }
          ],
          "table": [
           {
            "cells": {
             "fill": {
              "color": "#EBF0F8"
             },
             "line": {
              "color": "white"
             }
            },
            "header": {
             "fill": {
              "color": "#C8D4E3"
             },
             "line": {
              "color": "white"
             }
            },
            "type": "table"
           }
          ]
         },
         "layout": {
          "annotationdefaults": {
           "arrowcolor": "#2a3f5f",
           "arrowhead": 0,
           "arrowwidth": 1
          },
          "coloraxis": {
           "colorbar": {
            "outlinewidth": 0,
            "ticks": ""
           }
          },
          "colorscale": {
           "diverging": [
            [
             0,
             "#8e0152"
            ],
            [
             0.1,
             "#c51b7d"
            ],
            [
             0.2,
             "#de77ae"
            ],
            [
             0.3,
             "#f1b6da"
            ],
            [
             0.4,
             "#fde0ef"
            ],
            [
             0.5,
             "#f7f7f7"
            ],
            [
             0.6,
             "#e6f5d0"
            ],
            [
             0.7,
             "#b8e186"
            ],
            [
             0.8,
             "#7fbc41"
            ],
            [
             0.9,
             "#4d9221"
            ],
            [
             1,
             "#276419"
            ]
           ],
           "sequential": [
            [
             0,
             "#0d0887"
            ],
            [
             0.1111111111111111,
             "#46039f"
            ],
            [
             0.2222222222222222,
             "#7201a8"
            ],
            [
             0.3333333333333333,
             "#9c179e"
            ],
            [
             0.4444444444444444,
             "#bd3786"
            ],
            [
             0.5555555555555556,
             "#d8576b"
            ],
            [
             0.6666666666666666,
             "#ed7953"
            ],
            [
             0.7777777777777778,
             "#fb9f3a"
            ],
            [
             0.8888888888888888,
             "#fdca26"
            ],
            [
             1,
             "#f0f921"
            ]
           ],
           "sequentialminus": [
            [
             0,
             "#0d0887"
            ],
            [
             0.1111111111111111,
             "#46039f"
            ],
            [
             0.2222222222222222,
             "#7201a8"
            ],
            [
             0.3333333333333333,
             "#9c179e"
            ],
            [
             0.4444444444444444,
             "#bd3786"
            ],
            [
             0.5555555555555556,
             "#d8576b"
            ],
            [
             0.6666666666666666,
             "#ed7953"
            ],
            [
             0.7777777777777778,
             "#fb9f3a"
            ],
            [
             0.8888888888888888,
             "#fdca26"
            ],
            [
             1,
             "#f0f921"
            ]
           ]
          },
          "colorway": [
           "#636efa",
           "#EF553B",
           "#00cc96",
           "#ab63fa",
           "#FFA15A",
           "#19d3f3",
           "#FF6692",
           "#B6E880",
           "#FF97FF",
           "#FECB52"
          ],
          "font": {
           "color": "#2a3f5f"
          },
          "geo": {
           "bgcolor": "white",
           "lakecolor": "white",
           "landcolor": "#E5ECF6",
           "showlakes": true,
           "showland": true,
           "subunitcolor": "white"
          },
          "hoverlabel": {
           "align": "left"
          },
          "hovermode": "closest",
          "mapbox": {
           "style": "light"
          },
          "paper_bgcolor": "white",
          "plot_bgcolor": "#E5ECF6",
          "polar": {
           "angularaxis": {
            "gridcolor": "white",
            "linecolor": "white",
            "ticks": ""
           },
           "bgcolor": "#E5ECF6",
           "radialaxis": {
            "gridcolor": "white",
            "linecolor": "white",
            "ticks": ""
           }
          },
          "scene": {
           "xaxis": {
            "backgroundcolor": "#E5ECF6",
            "gridcolor": "white",
            "gridwidth": 2,
            "linecolor": "white",
            "showbackground": true,
            "ticks": "",
            "zerolinecolor": "white"
           },
           "yaxis": {
            "backgroundcolor": "#E5ECF6",
            "gridcolor": "white",
            "gridwidth": 2,
            "linecolor": "white",
            "showbackground": true,
            "ticks": "",
            "zerolinecolor": "white"
           },
           "zaxis": {
            "backgroundcolor": "#E5ECF6",
            "gridcolor": "white",
            "gridwidth": 2,
            "linecolor": "white",
            "showbackground": true,
            "ticks": "",
            "zerolinecolor": "white"
           }
          },
          "shapedefaults": {
           "line": {
            "color": "#2a3f5f"
           }
          },
          "ternary": {
           "aaxis": {
            "gridcolor": "white",
            "linecolor": "white",
            "ticks": ""
           },
           "baxis": {
            "gridcolor": "white",
            "linecolor": "white",
            "ticks": ""
           },
           "bgcolor": "#E5ECF6",
           "caxis": {
            "gridcolor": "white",
            "linecolor": "white",
            "ticks": ""
           }
          },
          "title": {
           "x": 0.05
          },
          "xaxis": {
           "automargin": true,
           "gridcolor": "white",
           "linecolor": "white",
           "ticks": "",
           "title": {
            "standoff": 15
           },
           "zerolinecolor": "white",
           "zerolinewidth": 2
          },
          "yaxis": {
           "automargin": true,
           "gridcolor": "white",
           "linecolor": "white",
           "ticks": "",
           "title": {
            "standoff": 15
           },
           "zerolinecolor": "white",
           "zerolinewidth": 2
          }
         }
        },
        "width": 600
       }
      },
      "text/html": [
       "<div>\n",
       "        \n",
       "        \n",
       "            <div id=\"195109d8-f78d-4c7c-845f-48d561a54b0b\" class=\"plotly-graph-div\" style=\"height:525px; width:600px;\"></div>\n",
       "            <script type=\"text/javascript\">\n",
       "                require([\"plotly\"], function(Plotly) {\n",
       "                    window.PLOTLYENV=window.PLOTLYENV || {};\n",
       "                    \n",
       "                if (document.getElementById(\"195109d8-f78d-4c7c-845f-48d561a54b0b\")) {\n",
       "                    Plotly.newPlot(\n",
       "                        '195109d8-f78d-4c7c-845f-48d561a54b0b',\n",
       "                        [{\"type\": \"scatter\", \"x\": [-1.0, -0.9682539682539683, -0.9365079365079365, -0.9047619047619048, -0.873015873015873, -0.8412698412698413, -0.8095238095238095, -0.7777777777777778, -0.746031746031746, -0.7142857142857143, -0.6825396825396826, -0.6507936507936508, -0.6190476190476191, -0.5873015873015873, -0.5555555555555556, -0.5238095238095238, -0.4920634920634921, -0.46031746031746035, -0.4285714285714286, -0.39682539682539686, -0.3650793650793651, -0.33333333333333337, -0.3015873015873016, -0.2698412698412699, -0.23809523809523814, -0.2063492063492064, -0.17460317460317465, -0.1428571428571429, -0.11111111111111116, -0.07936507936507942, -0.04761904761904767, -0.015873015873015928, 0.015873015873015817, 0.04761904761904745, 0.0793650793650793, 0.11111111111111116, 0.1428571428571428, 0.17460317460317443, 0.20634920634920628, 0.23809523809523814, 0.26984126984126977, 0.3015873015873014, 0.33333333333333326, 0.3650793650793651, 0.39682539682539675, 0.4285714285714284, 0.46031746031746024, 0.4920634920634921, 0.5238095238095237, 0.5555555555555554, 0.5873015873015872, 0.6190476190476191, 0.6507936507936507, 0.6825396825396823, 0.7142857142857142, 0.746031746031746, 0.7777777777777777, 0.8095238095238093, 0.8412698412698412, 0.873015873015873, 0.9047619047619047, 0.9365079365079363, 0.9682539682539681, 1.0], \"y\": [0.5, 0.5161248374512354, 0.532751677852349, 0.5498753117206983, 0.5674864169287961, 0.5855709648863973, 0.6041095890410959, 0.6230769230769231, 0.6424409193913888, 0.6621621621621622, 0.682193193537298, 0.7024778761061947, 0.7229508196721312, 0.743536905207943, 0.7641509433962264, 0.7846975088967971, 0.8050709939148074, 0.8251559251559252, 0.8448275862068966, 0.8639529821506313, 0.8823921742996887, 0.8999999999999999, 0.9166281755196305, 0.9321277595115078, 0.9463519313304721, 0.9591590140164331, 0.9704156479217605, 0.98, 0.9878048780487805, 0.9937406109163746, 0.9977375565610861, 0.9997481108312343, 0.9997481108312343, 0.9977375565610861, 0.9937406109163746, 0.9878048780487805, 0.98, 0.9704156479217605, 0.9591590140164331, 0.9463519313304721, 0.9321277595115078, 0.9166281755196306, 0.8999999999999999, 0.8823921742996887, 0.8639529821506313, 0.8448275862068967, 0.8251559251559252, 0.8050709939148074, 0.7846975088967972, 0.7641509433962265, 0.7435369052079431, 0.7229508196721312, 0.7024778761061947, 0.6821931935372981, 0.6621621621621622, 0.6424409193913888, 0.6230769230769232, 0.604109589041096, 0.5855709648863973, 0.5674864169287961, 0.5498753117206983, 0.5327516778523491, 0.5161248374512354, 0.5]}, {\"type\": \"scatter\", \"x\": [-1.0, -0.9682539682539683, -0.9365079365079365, -0.9047619047619048, -0.873015873015873, -0.8412698412698413, -0.8095238095238095, -0.7777777777777778, -0.746031746031746, -0.7142857142857143, -0.6825396825396826, -0.6507936507936508, -0.6190476190476191, -0.5873015873015873, -0.5555555555555556, -0.5238095238095238, -0.4920634920634921, -0.46031746031746035, -0.4285714285714286, -0.39682539682539686, -0.3650793650793651, -0.33333333333333337, -0.3015873015873016, -0.2698412698412699, -0.23809523809523814, -0.2063492063492064, -0.17460317460317465, -0.1428571428571429, -0.11111111111111116, -0.07936507936507942, -0.04761904761904767, -0.015873015873015928, 0.015873015873015817, 0.04761904761904745, 0.0793650793650793, 0.11111111111111116, 0.1428571428571428, 0.17460317460317443, 0.20634920634920628, 0.23809523809523814, 0.26984126984126977, 0.3015873015873014, 0.33333333333333326, 0.3650793650793651, 0.39682539682539675, 0.4285714285714284, 0.46031746031746024, 0.4920634920634921, 0.5238095238095237, 0.5555555555555554, 0.5873015873015872, 0.6190476190476191, 0.6507936507936507, 0.6825396825396823, 0.7142857142857142, 0.746031746031746, 0.7777777777777777, 0.8095238095238093, 0.8412698412698412, 0.873015873015873, 0.9047619047619047, 0.9365079365079363, 0.9682539682539681, 1.0], \"y\": [0.5005838871002197, 0.5164960622787476, 0.5329334735870361, 0.5498924851417542, 0.5673657059669495, 0.5853406190872192, 0.6037986278533936, 0.6227149963378906, 0.6420575976371765, 0.6617859601974487, 0.6818504333496094, 0.7021923065185547, 0.7227420806884766, 0.7434200048446655, 0.7641348838806152, 0.7847850322723389, 0.8052577972412109, 0.825430691242218, 0.845172107219696, 0.8643429279327393, 0.8827984929084778, 0.9003903865814209, 0.9169695377349854, 0.9323880672454834, 0.9465032815933228, 0.9591799974441528, 0.9702930450439453, 0.9797308444976807, 0.9873976707458496, 0.9932141304016113, 0.9971214532852173, 0.9990804195404053, 0.9990725517272949, 0.9971005916595459, 0.9931877851486206, 0.9873772859573364, 0.9797309637069702, 0.9703280925750732, 0.959262490272522, 0.9466427564620972, 0.9325883388519287, 0.9172278642654419, 0.9006972312927246, 0.8831373453140259, 0.8646907806396484, 0.8455019593238831, 0.825713038444519, 0.8054627180099487, 0.7848851084709167, 0.7641075849533081, 0.7432504296302795, 0.722424328327179, 0.7017319202423096, 0.6812646985054016, 0.661104679107666, 0.641323983669281, 0.6219841837882996, 0.6031370162963867, 0.5848258137702942, 0.5670841932296753, 0.5499382019042969, 0.5334064960479736, 0.5175009965896606, 0.5022274255752563]}],\n",
       "                        {\"template\": {\"data\": {\"bar\": [{\"error_x\": {\"color\": \"#2a3f5f\"}, \"error_y\": {\"color\": \"#2a3f5f\"}, \"marker\": {\"line\": {\"color\": \"#E5ECF6\", \"width\": 0.5}}, \"type\": \"bar\"}], \"barpolar\": [{\"marker\": {\"line\": {\"color\": \"#E5ECF6\", \"width\": 0.5}}, \"type\": \"barpolar\"}], \"carpet\": [{\"aaxis\": {\"endlinecolor\": \"#2a3f5f\", \"gridcolor\": \"white\", \"linecolor\": \"white\", \"minorgridcolor\": \"white\", \"startlinecolor\": \"#2a3f5f\"}, \"baxis\": {\"endlinecolor\": \"#2a3f5f\", \"gridcolor\": \"white\", \"linecolor\": \"white\", \"minorgridcolor\": \"white\", \"startlinecolor\": \"#2a3f5f\"}, \"type\": \"carpet\"}], \"choropleth\": [{\"colorbar\": {\"outlinewidth\": 0, \"ticks\": \"\"}, \"type\": \"choropleth\"}], \"contour\": [{\"colorbar\": {\"outlinewidth\": 0, \"ticks\": \"\"}, \"colorscale\": [[0.0, \"#0d0887\"], [0.1111111111111111, \"#46039f\"], [0.2222222222222222, \"#7201a8\"], [0.3333333333333333, \"#9c179e\"], [0.4444444444444444, \"#bd3786\"], [0.5555555555555556, \"#d8576b\"], [0.6666666666666666, \"#ed7953\"], [0.7777777777777778, \"#fb9f3a\"], [0.8888888888888888, \"#fdca26\"], [1.0, \"#f0f921\"]], \"type\": \"contour\"}], \"contourcarpet\": [{\"colorbar\": {\"outlinewidth\": 0, \"ticks\": \"\"}, \"type\": \"contourcarpet\"}], \"heatmap\": [{\"colorbar\": {\"outlinewidth\": 0, \"ticks\": \"\"}, \"colorscale\": [[0.0, \"#0d0887\"], [0.1111111111111111, \"#46039f\"], [0.2222222222222222, \"#7201a8\"], [0.3333333333333333, \"#9c179e\"], [0.4444444444444444, \"#bd3786\"], [0.5555555555555556, \"#d8576b\"], [0.6666666666666666, \"#ed7953\"], [0.7777777777777778, \"#fb9f3a\"], [0.8888888888888888, \"#fdca26\"], [1.0, \"#f0f921\"]], \"type\": \"heatmap\"}], \"heatmapgl\": [{\"colorbar\": {\"outlinewidth\": 0, \"ticks\": \"\"}, \"colorscale\": [[0.0, \"#0d0887\"], [0.1111111111111111, \"#46039f\"], [0.2222222222222222, \"#7201a8\"], [0.3333333333333333, \"#9c179e\"], [0.4444444444444444, \"#bd3786\"], [0.5555555555555556, \"#d8576b\"], [0.6666666666666666, \"#ed7953\"], [0.7777777777777778, \"#fb9f3a\"], [0.8888888888888888, \"#fdca26\"], [1.0, \"#f0f921\"]], \"type\": \"heatmapgl\"}], \"histogram\": [{\"marker\": {\"colorbar\": {\"outlinewidth\": 0, \"ticks\": \"\"}}, \"type\": \"histogram\"}], \"histogram2d\": [{\"colorbar\": {\"outlinewidth\": 0, \"ticks\": \"\"}, \"colorscale\": [[0.0, \"#0d0887\"], [0.1111111111111111, \"#46039f\"], [0.2222222222222222, \"#7201a8\"], [0.3333333333333333, \"#9c179e\"], [0.4444444444444444, \"#bd3786\"], [0.5555555555555556, \"#d8576b\"], [0.6666666666666666, \"#ed7953\"], [0.7777777777777778, \"#fb9f3a\"], [0.8888888888888888, \"#fdca26\"], [1.0, \"#f0f921\"]], \"type\": \"histogram2d\"}], \"histogram2dcontour\": [{\"colorbar\": {\"outlinewidth\": 0, \"ticks\": \"\"}, \"colorscale\": [[0.0, \"#0d0887\"], [0.1111111111111111, \"#46039f\"], [0.2222222222222222, \"#7201a8\"], [0.3333333333333333, \"#9c179e\"], [0.4444444444444444, \"#bd3786\"], [0.5555555555555556, \"#d8576b\"], [0.6666666666666666, \"#ed7953\"], [0.7777777777777778, \"#fb9f3a\"], [0.8888888888888888, \"#fdca26\"], [1.0, \"#f0f921\"]], \"type\": \"histogram2dcontour\"}], \"mesh3d\": [{\"colorbar\": {\"outlinewidth\": 0, \"ticks\": \"\"}, \"type\": \"mesh3d\"}], \"parcoords\": [{\"line\": {\"colorbar\": {\"outlinewidth\": 0, \"ticks\": \"\"}}, \"type\": \"parcoords\"}], \"pie\": [{\"automargin\": true, \"type\": \"pie\"}], \"scatter\": [{\"marker\": {\"colorbar\": {\"outlinewidth\": 0, \"ticks\": \"\"}}, \"type\": \"scatter\"}], \"scatter3d\": [{\"line\": {\"colorbar\": {\"outlinewidth\": 0, \"ticks\": \"\"}}, \"marker\": {\"colorbar\": {\"outlinewidth\": 0, \"ticks\": \"\"}}, \"type\": \"scatter3d\"}], \"scattercarpet\": [{\"marker\": {\"colorbar\": {\"outlinewidth\": 0, \"ticks\": \"\"}}, \"type\": \"scattercarpet\"}], \"scattergeo\": [{\"marker\": {\"colorbar\": {\"outlinewidth\": 0, \"ticks\": \"\"}}, \"type\": \"scattergeo\"}], \"scattergl\": [{\"marker\": {\"colorbar\": {\"outlinewidth\": 0, \"ticks\": \"\"}}, \"type\": \"scattergl\"}], \"scattermapbox\": [{\"marker\": {\"colorbar\": {\"outlinewidth\": 0, \"ticks\": \"\"}}, \"type\": \"scattermapbox\"}], \"scatterpolar\": [{\"marker\": {\"colorbar\": {\"outlinewidth\": 0, \"ticks\": \"\"}}, \"type\": \"scatterpolar\"}], \"scatterpolargl\": [{\"marker\": {\"colorbar\": {\"outlinewidth\": 0, \"ticks\": \"\"}}, \"type\": \"scatterpolargl\"}], \"scatterternary\": [{\"marker\": {\"colorbar\": {\"outlinewidth\": 0, \"ticks\": \"\"}}, \"type\": \"scatterternary\"}], \"surface\": [{\"colorbar\": {\"outlinewidth\": 0, \"ticks\": \"\"}, \"colorscale\": [[0.0, \"#0d0887\"], [0.1111111111111111, \"#46039f\"], [0.2222222222222222, \"#7201a8\"], [0.3333333333333333, \"#9c179e\"], [0.4444444444444444, \"#bd3786\"], [0.5555555555555556, \"#d8576b\"], [0.6666666666666666, \"#ed7953\"], [0.7777777777777778, \"#fb9f3a\"], [0.8888888888888888, \"#fdca26\"], [1.0, \"#f0f921\"]], \"type\": \"surface\"}], \"table\": [{\"cells\": {\"fill\": {\"color\": \"#EBF0F8\"}, \"line\": {\"color\": \"white\"}}, \"header\": {\"fill\": {\"color\": \"#C8D4E3\"}, \"line\": {\"color\": \"white\"}}, \"type\": \"table\"}]}, \"layout\": {\"annotationdefaults\": {\"arrowcolor\": \"#2a3f5f\", \"arrowhead\": 0, \"arrowwidth\": 1}, \"coloraxis\": {\"colorbar\": {\"outlinewidth\": 0, \"ticks\": \"\"}}, \"colorscale\": {\"diverging\": [[0, \"#8e0152\"], [0.1, \"#c51b7d\"], [0.2, \"#de77ae\"], [0.3, \"#f1b6da\"], [0.4, \"#fde0ef\"], [0.5, \"#f7f7f7\"], [0.6, \"#e6f5d0\"], [0.7, \"#b8e186\"], [0.8, \"#7fbc41\"], [0.9, \"#4d9221\"], [1, \"#276419\"]], \"sequential\": [[0.0, \"#0d0887\"], [0.1111111111111111, \"#46039f\"], [0.2222222222222222, \"#7201a8\"], [0.3333333333333333, \"#9c179e\"], [0.4444444444444444, \"#bd3786\"], [0.5555555555555556, \"#d8576b\"], [0.6666666666666666, \"#ed7953\"], [0.7777777777777778, \"#fb9f3a\"], [0.8888888888888888, \"#fdca26\"], [1.0, \"#f0f921\"]], \"sequentialminus\": [[0.0, \"#0d0887\"], [0.1111111111111111, \"#46039f\"], [0.2222222222222222, \"#7201a8\"], [0.3333333333333333, \"#9c179e\"], [0.4444444444444444, \"#bd3786\"], [0.5555555555555556, \"#d8576b\"], [0.6666666666666666, \"#ed7953\"], [0.7777777777777778, \"#fb9f3a\"], [0.8888888888888888, \"#fdca26\"], [1.0, \"#f0f921\"]]}, \"colorway\": [\"#636efa\", \"#EF553B\", \"#00cc96\", \"#ab63fa\", \"#FFA15A\", \"#19d3f3\", \"#FF6692\", \"#B6E880\", \"#FF97FF\", \"#FECB52\"], \"font\": {\"color\": \"#2a3f5f\"}, \"geo\": {\"bgcolor\": \"white\", \"lakecolor\": \"white\", \"landcolor\": \"#E5ECF6\", \"showlakes\": true, \"showland\": true, \"subunitcolor\": \"white\"}, \"hoverlabel\": {\"align\": \"left\"}, \"hovermode\": \"closest\", \"mapbox\": {\"style\": \"light\"}, \"paper_bgcolor\": \"white\", \"plot_bgcolor\": \"#E5ECF6\", \"polar\": {\"angularaxis\": {\"gridcolor\": \"white\", \"linecolor\": \"white\", \"ticks\": \"\"}, \"bgcolor\": \"#E5ECF6\", \"radialaxis\": {\"gridcolor\": \"white\", \"linecolor\": \"white\", \"ticks\": \"\"}}, \"scene\": {\"xaxis\": {\"backgroundcolor\": \"#E5ECF6\", \"gridcolor\": \"white\", \"gridwidth\": 2, \"linecolor\": \"white\", \"showbackground\": true, \"ticks\": \"\", \"zerolinecolor\": \"white\"}, \"yaxis\": {\"backgroundcolor\": \"#E5ECF6\", \"gridcolor\": \"white\", \"gridwidth\": 2, \"linecolor\": \"white\", \"showbackground\": true, \"ticks\": \"\", \"zerolinecolor\": \"white\"}, \"zaxis\": {\"backgroundcolor\": \"#E5ECF6\", \"gridcolor\": \"white\", \"gridwidth\": 2, \"linecolor\": \"white\", \"showbackground\": true, \"ticks\": \"\", \"zerolinecolor\": \"white\"}}, \"shapedefaults\": {\"line\": {\"color\": \"#2a3f5f\"}}, \"ternary\": {\"aaxis\": {\"gridcolor\": \"white\", \"linecolor\": \"white\", \"ticks\": \"\"}, \"baxis\": {\"gridcolor\": \"white\", \"linecolor\": \"white\", \"ticks\": \"\"}, \"bgcolor\": \"#E5ECF6\", \"caxis\": {\"gridcolor\": \"white\", \"linecolor\": \"white\", \"ticks\": \"\"}}, \"title\": {\"x\": 0.05}, \"xaxis\": {\"automargin\": true, \"gridcolor\": \"white\", \"linecolor\": \"white\", \"ticks\": \"\", \"title\": {\"standoff\": 15}, \"zerolinecolor\": \"white\", \"zerolinewidth\": 2}, \"yaxis\": {\"automargin\": true, \"gridcolor\": \"white\", \"linecolor\": \"white\", \"ticks\": \"\", \"title\": {\"standoff\": 15}, \"zerolinecolor\": \"white\", \"zerolinewidth\": 2}}}, \"width\": 600},\n",
       "                        {\"responsive\": true}\n",
       "                    ).then(function(){\n",
       "                            \n",
       "var gd = document.getElementById('195109d8-f78d-4c7c-845f-48d561a54b0b');\n",
       "var x = new MutationObserver(function (mutations, observer) {{\n",
       "        var display = window.getComputedStyle(gd).display;\n",
       "        if (!display || display === 'none') {{\n",
       "            console.log([gd, 'removed!']);\n",
       "            Plotly.purge(gd);\n",
       "            observer.disconnect();\n",
       "        }}\n",
       "}});\n",
       "\n",
       "// Listen for the removal of the full notebook cells\n",
       "var notebookContainer = gd.closest('#notebook-container');\n",
       "if (notebookContainer) {{\n",
       "    x.observe(notebookContainer, {childList: true});\n",
       "}}\n",
       "\n",
       "// Listen for the clearing of the current output cell\n",
       "var outputEl = gd.closest('.output');\n",
       "if (outputEl) {{\n",
       "    x.observe(outputEl, {childList: true});\n",
       "}}\n",
       "\n",
       "                        })\n",
       "                };\n",
       "                });\n",
       "            </script>\n",
       "        </div>"
      ]
     },
     "metadata": {},
     "output_type": "display_data"
    }
   ],
   "source": [
    "y_test_eval = np.array( model.predict(X_test) ).flatten()\n",
    "\n",
    "fig = go.Figure()\n",
    "fig.add_trace(go.Scatter(x=X_test, y=y_test))\n",
    "fig.add_trace(go.Scatter(x=X_test, y=y_test_eval))\n",
    "fig.update_layout(width=600)\n",
    "fig.show()"
   ]
  },
  {
   "cell_type": "code",
   "execution_count": 311,
   "metadata": {},
   "outputs": [],
   "source": [
    "X_pred = np.linspace(-1,1,64)\n",
    "y_pred = np.array( model.predict(X_pred) ).flatten()\n",
    "y_exact = fun(X_pred)\n",
    "err = abs(y_exact-y_pred)"
   ]
  },
  {
   "cell_type": "code",
   "execution_count": 312,
   "metadata": {},
   "outputs": [
    {
     "data": {
      "application/vnd.plotly.v1+json": {
       "config": {
        "plotlyServerURL": "https://plot.ly"
       },
       "data": [
        {
         "type": "scatter",
         "x": [
          -1,
          -0.9921568627450981,
          -0.9843137254901961,
          -0.9764705882352941,
          -0.9686274509803922,
          -0.9607843137254902,
          -0.9529411764705882,
          -0.9450980392156862,
          -0.9372549019607843,
          -0.9294117647058824,
          -0.9215686274509804,
          -0.9137254901960784,
          -0.9058823529411765,
          -0.8980392156862745,
          -0.8901960784313725,
          -0.8823529411764706,
          -0.8745098039215686,
          -0.8666666666666667,
          -0.8588235294117648,
          -0.8509803921568627,
          -0.8431372549019608,
          -0.8352941176470589,
          -0.8274509803921568,
          -0.8196078431372549,
          -0.8117647058823529,
          -0.803921568627451,
          -0.7960784313725491,
          -0.788235294117647,
          -0.7803921568627451,
          -0.7725490196078432,
          -0.7647058823529411,
          -0.7568627450980392,
          -0.7490196078431373,
          -0.7411764705882353,
          -0.7333333333333334,
          -0.7254901960784313,
          -0.7176470588235294,
          -0.7098039215686275,
          -0.7019607843137254,
          -0.6941176470588235,
          -0.6862745098039216,
          -0.6784313725490196,
          -0.6705882352941177,
          -0.6627450980392157,
          -0.6549019607843137,
          -0.6470588235294118,
          -0.6392156862745098,
          -0.6313725490196078,
          -0.6235294117647059,
          -0.615686274509804,
          -0.607843137254902,
          -0.6,
          -0.592156862745098,
          -0.5843137254901961,
          -0.5764705882352941,
          -0.5686274509803921,
          -0.5607843137254902,
          -0.5529411764705883,
          -0.5450980392156863,
          -0.5372549019607843,
          -0.5294117647058824,
          -0.5215686274509804,
          -0.5137254901960784,
          -0.5058823529411764,
          -0.4980392156862745,
          -0.4901960784313726,
          -0.48235294117647065,
          -0.4745098039215686,
          -0.4666666666666667,
          -0.45882352941176474,
          -0.4509803921568627,
          -0.44313725490196076,
          -0.43529411764705883,
          -0.4274509803921569,
          -0.41960784313725497,
          -0.4117647058823529,
          -0.403921568627451,
          -0.39607843137254906,
          -0.388235294117647,
          -0.3803921568627451,
          -0.37254901960784315,
          -0.3647058823529412,
          -0.3568627450980393,
          -0.34901960784313724,
          -0.3411764705882353,
          -0.33333333333333337,
          -0.3254901960784313,
          -0.3176470588235294,
          -0.30980392156862746,
          -0.3019607843137255,
          -0.2941176470588236,
          -0.28627450980392155,
          -0.2784313725490196,
          -0.2705882352941177,
          -0.26274509803921564,
          -0.2549019607843137,
          -0.24705882352941178,
          -0.23921568627450984,
          -0.2313725490196079,
          -0.22352941176470587,
          -0.21568627450980393,
          -0.207843137254902,
          -0.19999999999999996,
          -0.19215686274509802,
          -0.1843137254901961,
          -0.17647058823529416,
          -0.16862745098039222,
          -0.16078431372549018,
          -0.15294117647058825,
          -0.14509803921568631,
          -0.13725490196078427,
          -0.12941176470588234,
          -0.1215686274509804,
          -0.11372549019607847,
          -0.10588235294117654,
          -0.0980392156862745,
          -0.09019607843137256,
          -0.08235294117647063,
          -0.07450980392156858,
          -0.06666666666666665,
          -0.05882352941176472,
          -0.050980392156862786,
          -0.04313725490196085,
          -0.03529411764705881,
          -0.027450980392156876,
          -0.019607843137254943,
          -0.0117647058823529,
          -0.0039215686274509665,
          0.0039215686274509665,
          0.0117647058823529,
          0.019607843137254832,
          0.027450980392156765,
          0.0352941176470587,
          0.04313725490196085,
          0.050980392156862786,
          0.05882352941176472,
          0.06666666666666665,
          0.07450980392156858,
          0.08235294117647052,
          0.09019607843137245,
          0.0980392156862746,
          0.10588235294117654,
          0.11372549019607847,
          0.1215686274509804,
          0.12941176470588234,
          0.13725490196078427,
          0.1450980392156862,
          0.15294117647058814,
          0.16078431372549007,
          0.16862745098039222,
          0.17647058823529416,
          0.1843137254901961,
          0.19215686274509802,
          0.19999999999999996,
          0.2078431372549019,
          0.21568627450980382,
          0.22352941176470598,
          0.2313725490196079,
          0.23921568627450984,
          0.24705882352941178,
          0.2549019607843137,
          0.26274509803921564,
          0.2705882352941176,
          0.2784313725490195,
          0.28627450980392144,
          0.2941176470588236,
          0.3019607843137255,
          0.30980392156862746,
          0.3176470588235294,
          0.3254901960784313,
          0.33333333333333326,
          0.3411764705882352,
          0.34901960784313735,
          0.3568627450980393,
          0.3647058823529412,
          0.37254901960784315,
          0.3803921568627451,
          0.388235294117647,
          0.39607843137254894,
          0.4039215686274509,
          0.4117647058823528,
          0.41960784313725497,
          0.4274509803921569,
          0.43529411764705883,
          0.44313725490196076,
          0.4509803921568627,
          0.45882352941176463,
          0.46666666666666656,
          0.4745098039215687,
          0.48235294117647065,
          0.4901960784313726,
          0.4980392156862745,
          0.5058823529411764,
          0.5137254901960784,
          0.5215686274509803,
          0.5294117647058822,
          0.5372549019607842,
          0.5450980392156863,
          0.5529411764705883,
          0.5607843137254902,
          0.5686274509803921,
          0.5764705882352941,
          0.584313725490196,
          0.5921568627450979,
          0.6000000000000001,
          0.607843137254902,
          0.615686274509804,
          0.6235294117647059,
          0.6313725490196078,
          0.6392156862745098,
          0.6470588235294117,
          0.6549019607843136,
          0.6627450980392156,
          0.6705882352941177,
          0.6784313725490196,
          0.6862745098039216,
          0.6941176470588235,
          0.7019607843137254,
          0.7098039215686274,
          0.7176470588235293,
          0.7254901960784315,
          0.7333333333333334,
          0.7411764705882353,
          0.7490196078431373,
          0.7568627450980392,
          0.7647058823529411,
          0.7725490196078431,
          0.780392156862745,
          0.7882352941176469,
          0.7960784313725491,
          0.803921568627451,
          0.8117647058823529,
          0.8196078431372549,
          0.8274509803921568,
          0.8352941176470587,
          0.8431372549019607,
          0.8509803921568628,
          0.8588235294117648,
          0.8666666666666667,
          0.8745098039215686,
          0.8823529411764706,
          0.8901960784313725,
          0.8980392156862744,
          0.9058823529411764,
          0.9137254901960783,
          0.9215686274509804,
          0.9294117647058824,
          0.9372549019607843,
          0.9450980392156862,
          0.9529411764705882,
          0.9607843137254901,
          0.968627450980392,
          0.9764705882352942,
          0.9843137254901961,
          0.9921568627450981,
          1
         ],
         "y": [
          0.5,
          0.5039369468512175,
          0.5079046443691125,
          0.5119030749610316,
          0.5159322087690623,
          0.5199920031987205,
          0.5240824024372552,
          0.5282033369616428,
          0.5323547230363663,
          0.5365364622010991,
          0.5407484407484408,
          0.5449905291918802,
          0.5492625817241904,
          0.5535644356664907,
          0.5578959109082485,
          0.5622568093385214,
          0.5666469142687837,
          0.5710659898477157,
          0.5755137804683766,
          0.5799900101682216,
          0.5844943820224718,
          0.5890265775313875,
          0.5935862560020448,
          0.5981730539252663,
          0.6027865843484065,
          0.6074264362447455,
          0.612092173880302,
          0.6167833361789312,
          0.6214994360866324,
          0.6262399599360517,
          0.6310043668122272,
          0.6357920879206836,
          0.6406025259590566,
          0.6454350544934786,
          0.6502890173410404,
          0.6551637279596978,
          0.6600584688470674,
          0.6649724909496246,
          0.6699050130838811,
          0.6748552213711937,
          0.6798222686879247,
          0.684805274132738,
          0.689803322512889,
          0.6948154638514308,
          0.6998407129173214,
          0.7048780487804878,
          0.709926414393956,
          0.7149847162052206,
          0.7200518237990831,
          0.7251265695742355,
          0.7302077484559236,
          0.7352941176470589,
          0.7403843964201944,
          0.7454772659528122,
          0.750571369208394,
          0.7556653108657758,
          0.7607576572992957,
          0.7658469366122534,
          0.7709316387261992,
          0.7760102155285582,
          0.781081081081081,
          0.7861426118915782,
          0.7911931472513568,
          0.7962309896407318,
          0.8012544052049191,
          0.8062616243025419,
          0.8112508421289018,
          0.8162202194160622,
          0.8211678832116788,
          0.8260919277383947,
          0.8309904153354633,
          0.8358613774841248,
          0.8407028159180823,
          0.845512703820248,
          0.8502889871067291,
          0.8550295857988166,
          0.8597323954835127,
          0.8643952888628932,
          0.8690161173923503,
          0.8735927130074966,
          0.8781228899392303,
          0.882604446616174,
          0.887035167653398,
          0.8914128259260274,
          0.8957351847260104,
          0.8999999999999999,
          0.9042050226659621,
          0.9083480010057832,
          0.9124266831308058,
          0.91643881951687,
          0.9203821656050956,
          0.9242544844642806,
          0.9280535495104616,
          0.9317771472788238,
          0.9354230802428288,
          0.9389891696750902,
          0.9424732585442213,
          0.9458732144415675,
          0.9491869325314569,
          0.9524123385183232,
          0.955547391623806,
          0.958590087566707,
          0.9615384615384615,
          0.9643905911666124,
          0.9671445994586073,
          0.9697986577181208,
          0.9723509884259951,
          0.9747998680778341,
          0.9771436299702462,
          0.9793806669277344,
          0.9815094339622642,
          0.9835284508576096,
          0.9854363046706878,
          0.9872316521422281,
          0.9889132220093073,
          0.9904798172124906,
          0.9919303169905728,
          0.9932636788562001,
          0.9944789404459671,
          0.995575221238938,
          0.996551724137931,
          0.9974077369083044,
          0.9981426334694378,
          0.9987558750345589,
          0.9992470110950611,
          0.9996156802459647,
          0.9998616108497095,
          0.9999846215360011,
          0.9999846215360011,
          0.9998616108497095,
          0.9996156802459647,
          0.9992470110950611,
          0.9987558750345591,
          0.9981426334694378,
          0.9974077369083044,
          0.996551724137931,
          0.995575221238938,
          0.9944789404459671,
          0.9932636788562001,
          0.9919303169905728,
          0.9904798172124903,
          0.9889132220093073,
          0.9872316521422281,
          0.9854363046706878,
          0.9835284508576096,
          0.9815094339622642,
          0.9793806669277344,
          0.9771436299702462,
          0.9747998680778341,
          0.9723509884259951,
          0.9697986577181208,
          0.9671445994586073,
          0.9643905911666124,
          0.9615384615384615,
          0.958590087566707,
          0.9555473916238061,
          0.9524123385183232,
          0.9491869325314569,
          0.9458732144415675,
          0.9424732585442213,
          0.9389891696750902,
          0.9354230802428288,
          0.931777147278824,
          0.9280535495104616,
          0.9242544844642807,
          0.9203821656050956,
          0.91643881951687,
          0.9124266831308058,
          0.9083480010057832,
          0.9042050226659621,
          0.8999999999999999,
          0.8957351847260104,
          0.8914128259260274,
          0.887035167653398,
          0.882604446616174,
          0.8781228899392303,
          0.8735927130074966,
          0.8690161173923503,
          0.8643952888628932,
          0.8597323954835128,
          0.8550295857988166,
          0.8502889871067291,
          0.845512703820248,
          0.8407028159180823,
          0.8358613774841248,
          0.8309904153354633,
          0.8260919277383948,
          0.8211678832116789,
          0.8162202194160619,
          0.8112508421289018,
          0.8062616243025419,
          0.8012544052049191,
          0.7962309896407318,
          0.7911931472513568,
          0.7861426118915782,
          0.7810810810810812,
          0.7760102155285582,
          0.7709316387261992,
          0.7658469366122534,
          0.7607576572992957,
          0.7556653108657758,
          0.750571369208394,
          0.7454772659528123,
          0.7403843964201945,
          0.7352941176470588,
          0.7302077484559236,
          0.7251265695742355,
          0.7200518237990831,
          0.7149847162052206,
          0.709926414393956,
          0.7048780487804878,
          0.6998407129173214,
          0.6948154638514309,
          0.689803322512889,
          0.684805274132738,
          0.6798222686879247,
          0.6748552213711937,
          0.6699050130838811,
          0.6649724909496247,
          0.6600584688470675,
          0.6551637279596977,
          0.6502890173410404,
          0.6454350544934786,
          0.6406025259590566,
          0.6357920879206836,
          0.6310043668122272,
          0.6262399599360517,
          0.6214994360866324,
          0.6167833361789312,
          0.612092173880302,
          0.6074264362447455,
          0.6027865843484065,
          0.5981730539252663,
          0.5935862560020448,
          0.5890265775313877,
          0.584494382022472,
          0.5799900101682216,
          0.5755137804683766,
          0.5710659898477157,
          0.5666469142687837,
          0.5622568093385214,
          0.5578959109082485,
          0.5535644356664908,
          0.5492625817241904,
          0.5449905291918804,
          0.5407484407484408,
          0.5365364622010991,
          0.5323547230363663,
          0.5282033369616428,
          0.5240824024372552,
          0.5199920031987205,
          0.5159322087690624,
          0.5119030749610315,
          0.5079046443691125,
          0.5039369468512175,
          0.5
         ]
        },
        {
         "type": "scatter",
         "x": [
          -1,
          -0.9682539682539683,
          -0.9365079365079365,
          -0.9047619047619048,
          -0.873015873015873,
          -0.8412698412698413,
          -0.8095238095238095,
          -0.7777777777777778,
          -0.746031746031746,
          -0.7142857142857143,
          -0.6825396825396826,
          -0.6507936507936508,
          -0.6190476190476191,
          -0.5873015873015873,
          -0.5555555555555556,
          -0.5238095238095238,
          -0.4920634920634921,
          -0.46031746031746035,
          -0.4285714285714286,
          -0.39682539682539686,
          -0.3650793650793651,
          -0.33333333333333337,
          -0.3015873015873016,
          -0.2698412698412699,
          -0.23809523809523814,
          -0.2063492063492064,
          -0.17460317460317465,
          -0.1428571428571429,
          -0.11111111111111116,
          -0.07936507936507942,
          -0.04761904761904767,
          -0.015873015873015928,
          0.015873015873015817,
          0.04761904761904745,
          0.0793650793650793,
          0.11111111111111116,
          0.1428571428571428,
          0.17460317460317443,
          0.20634920634920628,
          0.23809523809523814,
          0.26984126984126977,
          0.3015873015873014,
          0.33333333333333326,
          0.3650793650793651,
          0.39682539682539675,
          0.4285714285714284,
          0.46031746031746024,
          0.4920634920634921,
          0.5238095238095237,
          0.5555555555555554,
          0.5873015873015872,
          0.6190476190476191,
          0.6507936507936507,
          0.6825396825396823,
          0.7142857142857142,
          0.746031746031746,
          0.7777777777777777,
          0.8095238095238093,
          0.8412698412698412,
          0.873015873015873,
          0.9047619047619047,
          0.9365079365079363,
          0.9682539682539681,
          1
         ],
         "y": [
          0.5005838871002197,
          0.5164960622787476,
          0.5329334735870361,
          0.5498924851417542,
          0.5673657059669495,
          0.5853406190872192,
          0.6037986278533936,
          0.6227149963378906,
          0.6420575976371765,
          0.6617859601974487,
          0.6818504333496094,
          0.7021923065185547,
          0.7227420806884766,
          0.7434200048446655,
          0.7641348838806152,
          0.7847850322723389,
          0.8052577972412109,
          0.825430691242218,
          0.845172107219696,
          0.8643429279327393,
          0.8827984929084778,
          0.9003903865814209,
          0.9169695377349854,
          0.9323880672454834,
          0.9465032815933228,
          0.9591799974441528,
          0.9702930450439453,
          0.9797308444976807,
          0.9873976707458496,
          0.9932141304016113,
          0.9971214532852173,
          0.9990804195404053,
          0.9990725517272949,
          0.9971005916595459,
          0.9931877851486206,
          0.9873772859573364,
          0.9797309637069702,
          0.9703280925750732,
          0.959262490272522,
          0.9466427564620972,
          0.9325883388519287,
          0.9172278642654419,
          0.9006972312927246,
          0.8831373453140259,
          0.8646907806396484,
          0.8455019593238831,
          0.825713038444519,
          0.8054627180099487,
          0.7848851084709167,
          0.7641075849533081,
          0.7432504296302795,
          0.722424328327179,
          0.7017319202423096,
          0.6812646985054016,
          0.661104679107666,
          0.641323983669281,
          0.6219841837882996,
          0.6031370162963867,
          0.5848258137702942,
          0.5670841932296753,
          0.5499382019042969,
          0.5334064960479736,
          0.5175009965896606,
          0.5022274255752563
         ]
        }
       ],
       "layout": {
        "template": {
         "data": {
          "bar": [
           {
            "error_x": {
             "color": "#2a3f5f"
            },
            "error_y": {
             "color": "#2a3f5f"
            },
            "marker": {
             "line": {
              "color": "#E5ECF6",
              "width": 0.5
             }
            },
            "type": "bar"
           }
          ],
          "barpolar": [
           {
            "marker": {
             "line": {
              "color": "#E5ECF6",
              "width": 0.5
             }
            },
            "type": "barpolar"
           }
          ],
          "carpet": [
           {
            "aaxis": {
             "endlinecolor": "#2a3f5f",
             "gridcolor": "white",
             "linecolor": "white",
             "minorgridcolor": "white",
             "startlinecolor": "#2a3f5f"
            },
            "baxis": {
             "endlinecolor": "#2a3f5f",
             "gridcolor": "white",
             "linecolor": "white",
             "minorgridcolor": "white",
             "startlinecolor": "#2a3f5f"
            },
            "type": "carpet"
           }
          ],
          "choropleth": [
           {
            "colorbar": {
             "outlinewidth": 0,
             "ticks": ""
            },
            "type": "choropleth"
           }
          ],
          "contour": [
           {
            "colorbar": {
             "outlinewidth": 0,
             "ticks": ""
            },
            "colorscale": [
             [
              0,
              "#0d0887"
             ],
             [
              0.1111111111111111,
              "#46039f"
             ],
             [
              0.2222222222222222,
              "#7201a8"
             ],
             [
              0.3333333333333333,
              "#9c179e"
             ],
             [
              0.4444444444444444,
              "#bd3786"
             ],
             [
              0.5555555555555556,
              "#d8576b"
             ],
             [
              0.6666666666666666,
              "#ed7953"
             ],
             [
              0.7777777777777778,
              "#fb9f3a"
             ],
             [
              0.8888888888888888,
              "#fdca26"
             ],
             [
              1,
              "#f0f921"
             ]
            ],
            "type": "contour"
           }
          ],
          "contourcarpet": [
           {
            "colorbar": {
             "outlinewidth": 0,
             "ticks": ""
            },
            "type": "contourcarpet"
           }
          ],
          "heatmap": [
           {
            "colorbar": {
             "outlinewidth": 0,
             "ticks": ""
            },
            "colorscale": [
             [
              0,
              "#0d0887"
             ],
             [
              0.1111111111111111,
              "#46039f"
             ],
             [
              0.2222222222222222,
              "#7201a8"
             ],
             [
              0.3333333333333333,
              "#9c179e"
             ],
             [
              0.4444444444444444,
              "#bd3786"
             ],
             [
              0.5555555555555556,
              "#d8576b"
             ],
             [
              0.6666666666666666,
              "#ed7953"
             ],
             [
              0.7777777777777778,
              "#fb9f3a"
             ],
             [
              0.8888888888888888,
              "#fdca26"
             ],
             [
              1,
              "#f0f921"
             ]
            ],
            "type": "heatmap"
           }
          ],
          "heatmapgl": [
           {
            "colorbar": {
             "outlinewidth": 0,
             "ticks": ""
            },
            "colorscale": [
             [
              0,
              "#0d0887"
             ],
             [
              0.1111111111111111,
              "#46039f"
             ],
             [
              0.2222222222222222,
              "#7201a8"
             ],
             [
              0.3333333333333333,
              "#9c179e"
             ],
             [
              0.4444444444444444,
              "#bd3786"
             ],
             [
              0.5555555555555556,
              "#d8576b"
             ],
             [
              0.6666666666666666,
              "#ed7953"
             ],
             [
              0.7777777777777778,
              "#fb9f3a"
             ],
             [
              0.8888888888888888,
              "#fdca26"
             ],
             [
              1,
              "#f0f921"
             ]
            ],
            "type": "heatmapgl"
           }
          ],
          "histogram": [
           {
            "marker": {
             "colorbar": {
              "outlinewidth": 0,
              "ticks": ""
             }
            },
            "type": "histogram"
           }
          ],
          "histogram2d": [
           {
            "colorbar": {
             "outlinewidth": 0,
             "ticks": ""
            },
            "colorscale": [
             [
              0,
              "#0d0887"
             ],
             [
              0.1111111111111111,
              "#46039f"
             ],
             [
              0.2222222222222222,
              "#7201a8"
             ],
             [
              0.3333333333333333,
              "#9c179e"
             ],
             [
              0.4444444444444444,
              "#bd3786"
             ],
             [
              0.5555555555555556,
              "#d8576b"
             ],
             [
              0.6666666666666666,
              "#ed7953"
             ],
             [
              0.7777777777777778,
              "#fb9f3a"
             ],
             [
              0.8888888888888888,
              "#fdca26"
             ],
             [
              1,
              "#f0f921"
             ]
            ],
            "type": "histogram2d"
           }
          ],
          "histogram2dcontour": [
           {
            "colorbar": {
             "outlinewidth": 0,
             "ticks": ""
            },
            "colorscale": [
             [
              0,
              "#0d0887"
             ],
             [
              0.1111111111111111,
              "#46039f"
             ],
             [
              0.2222222222222222,
              "#7201a8"
             ],
             [
              0.3333333333333333,
              "#9c179e"
             ],
             [
              0.4444444444444444,
              "#bd3786"
             ],
             [
              0.5555555555555556,
              "#d8576b"
             ],
             [
              0.6666666666666666,
              "#ed7953"
             ],
             [
              0.7777777777777778,
              "#fb9f3a"
             ],
             [
              0.8888888888888888,
              "#fdca26"
             ],
             [
              1,
              "#f0f921"
             ]
            ],
            "type": "histogram2dcontour"
           }
          ],
          "mesh3d": [
           {
            "colorbar": {
             "outlinewidth": 0,
             "ticks": ""
            },
            "type": "mesh3d"
           }
          ],
          "parcoords": [
           {
            "line": {
             "colorbar": {
              "outlinewidth": 0,
              "ticks": ""
             }
            },
            "type": "parcoords"
           }
          ],
          "pie": [
           {
            "automargin": true,
            "type": "pie"
           }
          ],
          "scatter": [
           {
            "marker": {
             "colorbar": {
              "outlinewidth": 0,
              "ticks": ""
             }
            },
            "type": "scatter"
           }
          ],
          "scatter3d": [
           {
            "line": {
             "colorbar": {
              "outlinewidth": 0,
              "ticks": ""
             }
            },
            "marker": {
             "colorbar": {
              "outlinewidth": 0,
              "ticks": ""
             }
            },
            "type": "scatter3d"
           }
          ],
          "scattercarpet": [
           {
            "marker": {
             "colorbar": {
              "outlinewidth": 0,
              "ticks": ""
             }
            },
            "type": "scattercarpet"
           }
          ],
          "scattergeo": [
           {
            "marker": {
             "colorbar": {
              "outlinewidth": 0,
              "ticks": ""
             }
            },
            "type": "scattergeo"
           }
          ],
          "scattergl": [
           {
            "marker": {
             "colorbar": {
              "outlinewidth": 0,
              "ticks": ""
             }
            },
            "type": "scattergl"
           }
          ],
          "scattermapbox": [
           {
            "marker": {
             "colorbar": {
              "outlinewidth": 0,
              "ticks": ""
             }
            },
            "type": "scattermapbox"
           }
          ],
          "scatterpolar": [
           {
            "marker": {
             "colorbar": {
              "outlinewidth": 0,
              "ticks": ""
             }
            },
            "type": "scatterpolar"
           }
          ],
          "scatterpolargl": [
           {
            "marker": {
             "colorbar": {
              "outlinewidth": 0,
              "ticks": ""
             }
            },
            "type": "scatterpolargl"
           }
          ],
          "scatterternary": [
           {
            "marker": {
             "colorbar": {
              "outlinewidth": 0,
              "ticks": ""
             }
            },
            "type": "scatterternary"
           }
          ],
          "surface": [
           {
            "colorbar": {
             "outlinewidth": 0,
             "ticks": ""
            },
            "colorscale": [
             [
              0,
              "#0d0887"
             ],
             [
              0.1111111111111111,
              "#46039f"
             ],
             [
              0.2222222222222222,
              "#7201a8"
             ],
             [
              0.3333333333333333,
              "#9c179e"
             ],
             [
              0.4444444444444444,
              "#bd3786"
             ],
             [
              0.5555555555555556,
              "#d8576b"
             ],
             [
              0.6666666666666666,
              "#ed7953"
             ],
             [
              0.7777777777777778,
              "#fb9f3a"
             ],
             [
              0.8888888888888888,
              "#fdca26"
             ],
             [
              1,
              "#f0f921"
             ]
            ],
            "type": "surface"
           }
          ],
          "table": [
           {
            "cells": {
             "fill": {
              "color": "#EBF0F8"
             },
             "line": {
              "color": "white"
             }
            },
            "header": {
             "fill": {
              "color": "#C8D4E3"
             },
             "line": {
              "color": "white"
             }
            },
            "type": "table"
           }
          ]
         },
         "layout": {
          "annotationdefaults": {
           "arrowcolor": "#2a3f5f",
           "arrowhead": 0,
           "arrowwidth": 1
          },
          "coloraxis": {
           "colorbar": {
            "outlinewidth": 0,
            "ticks": ""
           }
          },
          "colorscale": {
           "diverging": [
            [
             0,
             "#8e0152"
            ],
            [
             0.1,
             "#c51b7d"
            ],
            [
             0.2,
             "#de77ae"
            ],
            [
             0.3,
             "#f1b6da"
            ],
            [
             0.4,
             "#fde0ef"
            ],
            [
             0.5,
             "#f7f7f7"
            ],
            [
             0.6,
             "#e6f5d0"
            ],
            [
             0.7,
             "#b8e186"
            ],
            [
             0.8,
             "#7fbc41"
            ],
            [
             0.9,
             "#4d9221"
            ],
            [
             1,
             "#276419"
            ]
           ],
           "sequential": [
            [
             0,
             "#0d0887"
            ],
            [
             0.1111111111111111,
             "#46039f"
            ],
            [
             0.2222222222222222,
             "#7201a8"
            ],
            [
             0.3333333333333333,
             "#9c179e"
            ],
            [
             0.4444444444444444,
             "#bd3786"
            ],
            [
             0.5555555555555556,
             "#d8576b"
            ],
            [
             0.6666666666666666,
             "#ed7953"
            ],
            [
             0.7777777777777778,
             "#fb9f3a"
            ],
            [
             0.8888888888888888,
             "#fdca26"
            ],
            [
             1,
             "#f0f921"
            ]
           ],
           "sequentialminus": [
            [
             0,
             "#0d0887"
            ],
            [
             0.1111111111111111,
             "#46039f"
            ],
            [
             0.2222222222222222,
             "#7201a8"
            ],
            [
             0.3333333333333333,
             "#9c179e"
            ],
            [
             0.4444444444444444,
             "#bd3786"
            ],
            [
             0.5555555555555556,
             "#d8576b"
            ],
            [
             0.6666666666666666,
             "#ed7953"
            ],
            [
             0.7777777777777778,
             "#fb9f3a"
            ],
            [
             0.8888888888888888,
             "#fdca26"
            ],
            [
             1,
             "#f0f921"
            ]
           ]
          },
          "colorway": [
           "#636efa",
           "#EF553B",
           "#00cc96",
           "#ab63fa",
           "#FFA15A",
           "#19d3f3",
           "#FF6692",
           "#B6E880",
           "#FF97FF",
           "#FECB52"
          ],
          "font": {
           "color": "#2a3f5f"
          },
          "geo": {
           "bgcolor": "white",
           "lakecolor": "white",
           "landcolor": "#E5ECF6",
           "showlakes": true,
           "showland": true,
           "subunitcolor": "white"
          },
          "hoverlabel": {
           "align": "left"
          },
          "hovermode": "closest",
          "mapbox": {
           "style": "light"
          },
          "paper_bgcolor": "white",
          "plot_bgcolor": "#E5ECF6",
          "polar": {
           "angularaxis": {
            "gridcolor": "white",
            "linecolor": "white",
            "ticks": ""
           },
           "bgcolor": "#E5ECF6",
           "radialaxis": {
            "gridcolor": "white",
            "linecolor": "white",
            "ticks": ""
           }
          },
          "scene": {
           "xaxis": {
            "backgroundcolor": "#E5ECF6",
            "gridcolor": "white",
            "gridwidth": 2,
            "linecolor": "white",
            "showbackground": true,
            "ticks": "",
            "zerolinecolor": "white"
           },
           "yaxis": {
            "backgroundcolor": "#E5ECF6",
            "gridcolor": "white",
            "gridwidth": 2,
            "linecolor": "white",
            "showbackground": true,
            "ticks": "",
            "zerolinecolor": "white"
           },
           "zaxis": {
            "backgroundcolor": "#E5ECF6",
            "gridcolor": "white",
            "gridwidth": 2,
            "linecolor": "white",
            "showbackground": true,
            "ticks": "",
            "zerolinecolor": "white"
           }
          },
          "shapedefaults": {
           "line": {
            "color": "#2a3f5f"
           }
          },
          "ternary": {
           "aaxis": {
            "gridcolor": "white",
            "linecolor": "white",
            "ticks": ""
           },
           "baxis": {
            "gridcolor": "white",
            "linecolor": "white",
            "ticks": ""
           },
           "bgcolor": "#E5ECF6",
           "caxis": {
            "gridcolor": "white",
            "linecolor": "white",
            "ticks": ""
           }
          },
          "title": {
           "x": 0.05
          },
          "xaxis": {
           "automargin": true,
           "gridcolor": "white",
           "linecolor": "white",
           "ticks": "",
           "title": {
            "standoff": 15
           },
           "zerolinecolor": "white",
           "zerolinewidth": 2
          },
          "yaxis": {
           "automargin": true,
           "gridcolor": "white",
           "linecolor": "white",
           "ticks": "",
           "title": {
            "standoff": 15
           },
           "zerolinecolor": "white",
           "zerolinewidth": 2
          }
         }
        },
        "width": 600
       }
      },
      "text/html": [
       "<div>\n",
       "        \n",
       "        \n",
       "            <div id=\"6dc0e034-a25e-452b-926c-da4581ce7659\" class=\"plotly-graph-div\" style=\"height:525px; width:600px;\"></div>\n",
       "            <script type=\"text/javascript\">\n",
       "                require([\"plotly\"], function(Plotly) {\n",
       "                    window.PLOTLYENV=window.PLOTLYENV || {};\n",
       "                    \n",
       "                if (document.getElementById(\"6dc0e034-a25e-452b-926c-da4581ce7659\")) {\n",
       "                    Plotly.newPlot(\n",
       "                        '6dc0e034-a25e-452b-926c-da4581ce7659',\n",
       "                        [{\"type\": \"scatter\", \"x\": [-1.0, -0.9921568627450981, -0.9843137254901961, -0.9764705882352941, -0.9686274509803922, -0.9607843137254902, -0.9529411764705882, -0.9450980392156862, -0.9372549019607843, -0.9294117647058824, -0.9215686274509804, -0.9137254901960784, -0.9058823529411765, -0.8980392156862745, -0.8901960784313725, -0.8823529411764706, -0.8745098039215686, -0.8666666666666667, -0.8588235294117648, -0.8509803921568627, -0.8431372549019608, -0.8352941176470589, -0.8274509803921568, -0.8196078431372549, -0.8117647058823529, -0.803921568627451, -0.7960784313725491, -0.788235294117647, -0.7803921568627451, -0.7725490196078432, -0.7647058823529411, -0.7568627450980392, -0.7490196078431373, -0.7411764705882353, -0.7333333333333334, -0.7254901960784313, -0.7176470588235294, -0.7098039215686275, -0.7019607843137254, -0.6941176470588235, -0.6862745098039216, -0.6784313725490196, -0.6705882352941177, -0.6627450980392157, -0.6549019607843137, -0.6470588235294118, -0.6392156862745098, -0.6313725490196078, -0.6235294117647059, -0.615686274509804, -0.607843137254902, -0.6, -0.592156862745098, -0.5843137254901961, -0.5764705882352941, -0.5686274509803921, -0.5607843137254902, -0.5529411764705883, -0.5450980392156863, -0.5372549019607843, -0.5294117647058824, -0.5215686274509804, -0.5137254901960784, -0.5058823529411764, -0.4980392156862745, -0.4901960784313726, -0.48235294117647065, -0.4745098039215686, -0.4666666666666667, -0.45882352941176474, -0.4509803921568627, -0.44313725490196076, -0.43529411764705883, -0.4274509803921569, -0.41960784313725497, -0.4117647058823529, -0.403921568627451, -0.39607843137254906, -0.388235294117647, -0.3803921568627451, -0.37254901960784315, -0.3647058823529412, -0.3568627450980393, -0.34901960784313724, -0.3411764705882353, -0.33333333333333337, -0.3254901960784313, -0.3176470588235294, -0.30980392156862746, -0.3019607843137255, -0.2941176470588236, -0.28627450980392155, -0.2784313725490196, -0.2705882352941177, -0.26274509803921564, -0.2549019607843137, -0.24705882352941178, -0.23921568627450984, -0.2313725490196079, -0.22352941176470587, -0.21568627450980393, -0.207843137254902, -0.19999999999999996, -0.19215686274509802, -0.1843137254901961, -0.17647058823529416, -0.16862745098039222, -0.16078431372549018, -0.15294117647058825, -0.14509803921568631, -0.13725490196078427, -0.12941176470588234, -0.1215686274509804, -0.11372549019607847, -0.10588235294117654, -0.0980392156862745, -0.09019607843137256, -0.08235294117647063, -0.07450980392156858, -0.06666666666666665, -0.05882352941176472, -0.050980392156862786, -0.04313725490196085, -0.03529411764705881, -0.027450980392156876, -0.019607843137254943, -0.0117647058823529, -0.0039215686274509665, 0.0039215686274509665, 0.0117647058823529, 0.019607843137254832, 0.027450980392156765, 0.0352941176470587, 0.04313725490196085, 0.050980392156862786, 0.05882352941176472, 0.06666666666666665, 0.07450980392156858, 0.08235294117647052, 0.09019607843137245, 0.0980392156862746, 0.10588235294117654, 0.11372549019607847, 0.1215686274509804, 0.12941176470588234, 0.13725490196078427, 0.1450980392156862, 0.15294117647058814, 0.16078431372549007, 0.16862745098039222, 0.17647058823529416, 0.1843137254901961, 0.19215686274509802, 0.19999999999999996, 0.2078431372549019, 0.21568627450980382, 0.22352941176470598, 0.2313725490196079, 0.23921568627450984, 0.24705882352941178, 0.2549019607843137, 0.26274509803921564, 0.2705882352941176, 0.2784313725490195, 0.28627450980392144, 0.2941176470588236, 0.3019607843137255, 0.30980392156862746, 0.3176470588235294, 0.3254901960784313, 0.33333333333333326, 0.3411764705882352, 0.34901960784313735, 0.3568627450980393, 0.3647058823529412, 0.37254901960784315, 0.3803921568627451, 0.388235294117647, 0.39607843137254894, 0.4039215686274509, 0.4117647058823528, 0.41960784313725497, 0.4274509803921569, 0.43529411764705883, 0.44313725490196076, 0.4509803921568627, 0.45882352941176463, 0.46666666666666656, 0.4745098039215687, 0.48235294117647065, 0.4901960784313726, 0.4980392156862745, 0.5058823529411764, 0.5137254901960784, 0.5215686274509803, 0.5294117647058822, 0.5372549019607842, 0.5450980392156863, 0.5529411764705883, 0.5607843137254902, 0.5686274509803921, 0.5764705882352941, 0.584313725490196, 0.5921568627450979, 0.6000000000000001, 0.607843137254902, 0.615686274509804, 0.6235294117647059, 0.6313725490196078, 0.6392156862745098, 0.6470588235294117, 0.6549019607843136, 0.6627450980392156, 0.6705882352941177, 0.6784313725490196, 0.6862745098039216, 0.6941176470588235, 0.7019607843137254, 0.7098039215686274, 0.7176470588235293, 0.7254901960784315, 0.7333333333333334, 0.7411764705882353, 0.7490196078431373, 0.7568627450980392, 0.7647058823529411, 0.7725490196078431, 0.780392156862745, 0.7882352941176469, 0.7960784313725491, 0.803921568627451, 0.8117647058823529, 0.8196078431372549, 0.8274509803921568, 0.8352941176470587, 0.8431372549019607, 0.8509803921568628, 0.8588235294117648, 0.8666666666666667, 0.8745098039215686, 0.8823529411764706, 0.8901960784313725, 0.8980392156862744, 0.9058823529411764, 0.9137254901960783, 0.9215686274509804, 0.9294117647058824, 0.9372549019607843, 0.9450980392156862, 0.9529411764705882, 0.9607843137254901, 0.968627450980392, 0.9764705882352942, 0.9843137254901961, 0.9921568627450981, 1.0], \"y\": [0.5, 0.5039369468512175, 0.5079046443691125, 0.5119030749610316, 0.5159322087690623, 0.5199920031987205, 0.5240824024372552, 0.5282033369616428, 0.5323547230363663, 0.5365364622010991, 0.5407484407484408, 0.5449905291918802, 0.5492625817241904, 0.5535644356664907, 0.5578959109082485, 0.5622568093385214, 0.5666469142687837, 0.5710659898477157, 0.5755137804683766, 0.5799900101682216, 0.5844943820224718, 0.5890265775313875, 0.5935862560020448, 0.5981730539252663, 0.6027865843484065, 0.6074264362447455, 0.612092173880302, 0.6167833361789312, 0.6214994360866324, 0.6262399599360517, 0.6310043668122272, 0.6357920879206836, 0.6406025259590566, 0.6454350544934786, 0.6502890173410404, 0.6551637279596978, 0.6600584688470674, 0.6649724909496246, 0.6699050130838811, 0.6748552213711937, 0.6798222686879247, 0.684805274132738, 0.689803322512889, 0.6948154638514308, 0.6998407129173214, 0.7048780487804878, 0.709926414393956, 0.7149847162052206, 0.7200518237990831, 0.7251265695742355, 0.7302077484559236, 0.7352941176470589, 0.7403843964201944, 0.7454772659528122, 0.750571369208394, 0.7556653108657758, 0.7607576572992957, 0.7658469366122534, 0.7709316387261992, 0.7760102155285582, 0.781081081081081, 0.7861426118915782, 0.7911931472513568, 0.7962309896407318, 0.8012544052049191, 0.8062616243025419, 0.8112508421289018, 0.8162202194160622, 0.8211678832116788, 0.8260919277383947, 0.8309904153354633, 0.8358613774841248, 0.8407028159180823, 0.845512703820248, 0.8502889871067291, 0.8550295857988166, 0.8597323954835127, 0.8643952888628932, 0.8690161173923503, 0.8735927130074966, 0.8781228899392303, 0.882604446616174, 0.887035167653398, 0.8914128259260274, 0.8957351847260104, 0.8999999999999999, 0.9042050226659621, 0.9083480010057832, 0.9124266831308058, 0.91643881951687, 0.9203821656050956, 0.9242544844642806, 0.9280535495104616, 0.9317771472788238, 0.9354230802428288, 0.9389891696750902, 0.9424732585442213, 0.9458732144415675, 0.9491869325314569, 0.9524123385183232, 0.955547391623806, 0.958590087566707, 0.9615384615384615, 0.9643905911666124, 0.9671445994586073, 0.9697986577181208, 0.9723509884259951, 0.9747998680778341, 0.9771436299702462, 0.9793806669277344, 0.9815094339622642, 0.9835284508576096, 0.9854363046706878, 0.9872316521422281, 0.9889132220093073, 0.9904798172124906, 0.9919303169905728, 0.9932636788562001, 0.9944789404459671, 0.995575221238938, 0.996551724137931, 0.9974077369083044, 0.9981426334694378, 0.9987558750345589, 0.9992470110950611, 0.9996156802459647, 0.9998616108497095, 0.9999846215360011, 0.9999846215360011, 0.9998616108497095, 0.9996156802459647, 0.9992470110950611, 0.9987558750345591, 0.9981426334694378, 0.9974077369083044, 0.996551724137931, 0.995575221238938, 0.9944789404459671, 0.9932636788562001, 0.9919303169905728, 0.9904798172124903, 0.9889132220093073, 0.9872316521422281, 0.9854363046706878, 0.9835284508576096, 0.9815094339622642, 0.9793806669277344, 0.9771436299702462, 0.9747998680778341, 0.9723509884259951, 0.9697986577181208, 0.9671445994586073, 0.9643905911666124, 0.9615384615384615, 0.958590087566707, 0.9555473916238061, 0.9524123385183232, 0.9491869325314569, 0.9458732144415675, 0.9424732585442213, 0.9389891696750902, 0.9354230802428288, 0.931777147278824, 0.9280535495104616, 0.9242544844642807, 0.9203821656050956, 0.91643881951687, 0.9124266831308058, 0.9083480010057832, 0.9042050226659621, 0.8999999999999999, 0.8957351847260104, 0.8914128259260274, 0.887035167653398, 0.882604446616174, 0.8781228899392303, 0.8735927130074966, 0.8690161173923503, 0.8643952888628932, 0.8597323954835128, 0.8550295857988166, 0.8502889871067291, 0.845512703820248, 0.8407028159180823, 0.8358613774841248, 0.8309904153354633, 0.8260919277383948, 0.8211678832116789, 0.8162202194160619, 0.8112508421289018, 0.8062616243025419, 0.8012544052049191, 0.7962309896407318, 0.7911931472513568, 0.7861426118915782, 0.7810810810810812, 0.7760102155285582, 0.7709316387261992, 0.7658469366122534, 0.7607576572992957, 0.7556653108657758, 0.750571369208394, 0.7454772659528123, 0.7403843964201945, 0.7352941176470588, 0.7302077484559236, 0.7251265695742355, 0.7200518237990831, 0.7149847162052206, 0.709926414393956, 0.7048780487804878, 0.6998407129173214, 0.6948154638514309, 0.689803322512889, 0.684805274132738, 0.6798222686879247, 0.6748552213711937, 0.6699050130838811, 0.6649724909496247, 0.6600584688470675, 0.6551637279596977, 0.6502890173410404, 0.6454350544934786, 0.6406025259590566, 0.6357920879206836, 0.6310043668122272, 0.6262399599360517, 0.6214994360866324, 0.6167833361789312, 0.612092173880302, 0.6074264362447455, 0.6027865843484065, 0.5981730539252663, 0.5935862560020448, 0.5890265775313877, 0.584494382022472, 0.5799900101682216, 0.5755137804683766, 0.5710659898477157, 0.5666469142687837, 0.5622568093385214, 0.5578959109082485, 0.5535644356664908, 0.5492625817241904, 0.5449905291918804, 0.5407484407484408, 0.5365364622010991, 0.5323547230363663, 0.5282033369616428, 0.5240824024372552, 0.5199920031987205, 0.5159322087690624, 0.5119030749610315, 0.5079046443691125, 0.5039369468512175, 0.5]}, {\"type\": \"scatter\", \"x\": [-1.0, -0.9682539682539683, -0.9365079365079365, -0.9047619047619048, -0.873015873015873, -0.8412698412698413, -0.8095238095238095, -0.7777777777777778, -0.746031746031746, -0.7142857142857143, -0.6825396825396826, -0.6507936507936508, -0.6190476190476191, -0.5873015873015873, -0.5555555555555556, -0.5238095238095238, -0.4920634920634921, -0.46031746031746035, -0.4285714285714286, -0.39682539682539686, -0.3650793650793651, -0.33333333333333337, -0.3015873015873016, -0.2698412698412699, -0.23809523809523814, -0.2063492063492064, -0.17460317460317465, -0.1428571428571429, -0.11111111111111116, -0.07936507936507942, -0.04761904761904767, -0.015873015873015928, 0.015873015873015817, 0.04761904761904745, 0.0793650793650793, 0.11111111111111116, 0.1428571428571428, 0.17460317460317443, 0.20634920634920628, 0.23809523809523814, 0.26984126984126977, 0.3015873015873014, 0.33333333333333326, 0.3650793650793651, 0.39682539682539675, 0.4285714285714284, 0.46031746031746024, 0.4920634920634921, 0.5238095238095237, 0.5555555555555554, 0.5873015873015872, 0.6190476190476191, 0.6507936507936507, 0.6825396825396823, 0.7142857142857142, 0.746031746031746, 0.7777777777777777, 0.8095238095238093, 0.8412698412698412, 0.873015873015873, 0.9047619047619047, 0.9365079365079363, 0.9682539682539681, 1.0], \"y\": [0.5005838871002197, 0.5164960622787476, 0.5329334735870361, 0.5498924851417542, 0.5673657059669495, 0.5853406190872192, 0.6037986278533936, 0.6227149963378906, 0.6420575976371765, 0.6617859601974487, 0.6818504333496094, 0.7021923065185547, 0.7227420806884766, 0.7434200048446655, 0.7641348838806152, 0.7847850322723389, 0.8052577972412109, 0.825430691242218, 0.845172107219696, 0.8643429279327393, 0.8827984929084778, 0.9003903865814209, 0.9169695377349854, 0.9323880672454834, 0.9465032815933228, 0.9591799974441528, 0.9702930450439453, 0.9797308444976807, 0.9873976707458496, 0.9932141304016113, 0.9971214532852173, 0.9990804195404053, 0.9990725517272949, 0.9971005916595459, 0.9931877851486206, 0.9873772859573364, 0.9797309637069702, 0.9703280925750732, 0.959262490272522, 0.9466427564620972, 0.9325883388519287, 0.9172278642654419, 0.9006972312927246, 0.8831373453140259, 0.8646907806396484, 0.8455019593238831, 0.825713038444519, 0.8054627180099487, 0.7848851084709167, 0.7641075849533081, 0.7432504296302795, 0.722424328327179, 0.7017319202423096, 0.6812646985054016, 0.661104679107666, 0.641323983669281, 0.6219841837882996, 0.6031370162963867, 0.5848258137702942, 0.5670841932296753, 0.5499382019042969, 0.5334064960479736, 0.5175009965896606, 0.5022274255752563]}],\n",
       "                        {\"template\": {\"data\": {\"bar\": [{\"error_x\": {\"color\": \"#2a3f5f\"}, \"error_y\": {\"color\": \"#2a3f5f\"}, \"marker\": {\"line\": {\"color\": \"#E5ECF6\", \"width\": 0.5}}, \"type\": \"bar\"}], \"barpolar\": [{\"marker\": {\"line\": {\"color\": \"#E5ECF6\", \"width\": 0.5}}, \"type\": \"barpolar\"}], \"carpet\": [{\"aaxis\": {\"endlinecolor\": \"#2a3f5f\", \"gridcolor\": \"white\", \"linecolor\": \"white\", \"minorgridcolor\": \"white\", \"startlinecolor\": \"#2a3f5f\"}, \"baxis\": {\"endlinecolor\": \"#2a3f5f\", \"gridcolor\": \"white\", \"linecolor\": \"white\", \"minorgridcolor\": \"white\", \"startlinecolor\": \"#2a3f5f\"}, \"type\": \"carpet\"}], \"choropleth\": [{\"colorbar\": {\"outlinewidth\": 0, \"ticks\": \"\"}, \"type\": \"choropleth\"}], \"contour\": [{\"colorbar\": {\"outlinewidth\": 0, \"ticks\": \"\"}, \"colorscale\": [[0.0, \"#0d0887\"], [0.1111111111111111, \"#46039f\"], [0.2222222222222222, \"#7201a8\"], [0.3333333333333333, \"#9c179e\"], [0.4444444444444444, \"#bd3786\"], [0.5555555555555556, \"#d8576b\"], [0.6666666666666666, \"#ed7953\"], [0.7777777777777778, \"#fb9f3a\"], [0.8888888888888888, \"#fdca26\"], [1.0, \"#f0f921\"]], \"type\": \"contour\"}], \"contourcarpet\": [{\"colorbar\": {\"outlinewidth\": 0, \"ticks\": \"\"}, \"type\": \"contourcarpet\"}], \"heatmap\": [{\"colorbar\": {\"outlinewidth\": 0, \"ticks\": \"\"}, \"colorscale\": [[0.0, \"#0d0887\"], [0.1111111111111111, \"#46039f\"], [0.2222222222222222, \"#7201a8\"], [0.3333333333333333, \"#9c179e\"], [0.4444444444444444, \"#bd3786\"], [0.5555555555555556, \"#d8576b\"], [0.6666666666666666, \"#ed7953\"], [0.7777777777777778, \"#fb9f3a\"], [0.8888888888888888, \"#fdca26\"], [1.0, \"#f0f921\"]], \"type\": \"heatmap\"}], \"heatmapgl\": [{\"colorbar\": {\"outlinewidth\": 0, \"ticks\": \"\"}, \"colorscale\": [[0.0, \"#0d0887\"], [0.1111111111111111, \"#46039f\"], [0.2222222222222222, \"#7201a8\"], [0.3333333333333333, \"#9c179e\"], [0.4444444444444444, \"#bd3786\"], [0.5555555555555556, \"#d8576b\"], [0.6666666666666666, \"#ed7953\"], [0.7777777777777778, \"#fb9f3a\"], [0.8888888888888888, \"#fdca26\"], [1.0, \"#f0f921\"]], \"type\": \"heatmapgl\"}], \"histogram\": [{\"marker\": {\"colorbar\": {\"outlinewidth\": 0, \"ticks\": \"\"}}, \"type\": \"histogram\"}], \"histogram2d\": [{\"colorbar\": {\"outlinewidth\": 0, \"ticks\": \"\"}, \"colorscale\": [[0.0, \"#0d0887\"], [0.1111111111111111, \"#46039f\"], [0.2222222222222222, \"#7201a8\"], [0.3333333333333333, \"#9c179e\"], [0.4444444444444444, \"#bd3786\"], [0.5555555555555556, \"#d8576b\"], [0.6666666666666666, \"#ed7953\"], [0.7777777777777778, \"#fb9f3a\"], [0.8888888888888888, \"#fdca26\"], [1.0, \"#f0f921\"]], \"type\": \"histogram2d\"}], \"histogram2dcontour\": [{\"colorbar\": {\"outlinewidth\": 0, \"ticks\": \"\"}, \"colorscale\": [[0.0, \"#0d0887\"], [0.1111111111111111, \"#46039f\"], [0.2222222222222222, \"#7201a8\"], [0.3333333333333333, \"#9c179e\"], [0.4444444444444444, \"#bd3786\"], [0.5555555555555556, \"#d8576b\"], [0.6666666666666666, \"#ed7953\"], [0.7777777777777778, \"#fb9f3a\"], [0.8888888888888888, \"#fdca26\"], [1.0, \"#f0f921\"]], \"type\": \"histogram2dcontour\"}], \"mesh3d\": [{\"colorbar\": {\"outlinewidth\": 0, \"ticks\": \"\"}, \"type\": \"mesh3d\"}], \"parcoords\": [{\"line\": {\"colorbar\": {\"outlinewidth\": 0, \"ticks\": \"\"}}, \"type\": \"parcoords\"}], \"pie\": [{\"automargin\": true, \"type\": \"pie\"}], \"scatter\": [{\"marker\": {\"colorbar\": {\"outlinewidth\": 0, \"ticks\": \"\"}}, \"type\": \"scatter\"}], \"scatter3d\": [{\"line\": {\"colorbar\": {\"outlinewidth\": 0, \"ticks\": \"\"}}, \"marker\": {\"colorbar\": {\"outlinewidth\": 0, \"ticks\": \"\"}}, \"type\": \"scatter3d\"}], \"scattercarpet\": [{\"marker\": {\"colorbar\": {\"outlinewidth\": 0, \"ticks\": \"\"}}, \"type\": \"scattercarpet\"}], \"scattergeo\": [{\"marker\": {\"colorbar\": {\"outlinewidth\": 0, \"ticks\": \"\"}}, \"type\": \"scattergeo\"}], \"scattergl\": [{\"marker\": {\"colorbar\": {\"outlinewidth\": 0, \"ticks\": \"\"}}, \"type\": \"scattergl\"}], \"scattermapbox\": [{\"marker\": {\"colorbar\": {\"outlinewidth\": 0, \"ticks\": \"\"}}, \"type\": \"scattermapbox\"}], \"scatterpolar\": [{\"marker\": {\"colorbar\": {\"outlinewidth\": 0, \"ticks\": \"\"}}, \"type\": \"scatterpolar\"}], \"scatterpolargl\": [{\"marker\": {\"colorbar\": {\"outlinewidth\": 0, \"ticks\": \"\"}}, \"type\": \"scatterpolargl\"}], \"scatterternary\": [{\"marker\": {\"colorbar\": {\"outlinewidth\": 0, \"ticks\": \"\"}}, \"type\": \"scatterternary\"}], \"surface\": [{\"colorbar\": {\"outlinewidth\": 0, \"ticks\": \"\"}, \"colorscale\": [[0.0, \"#0d0887\"], [0.1111111111111111, \"#46039f\"], [0.2222222222222222, \"#7201a8\"], [0.3333333333333333, \"#9c179e\"], [0.4444444444444444, \"#bd3786\"], [0.5555555555555556, \"#d8576b\"], [0.6666666666666666, \"#ed7953\"], [0.7777777777777778, \"#fb9f3a\"], [0.8888888888888888, \"#fdca26\"], [1.0, \"#f0f921\"]], \"type\": \"surface\"}], \"table\": [{\"cells\": {\"fill\": {\"color\": \"#EBF0F8\"}, \"line\": {\"color\": \"white\"}}, \"header\": {\"fill\": {\"color\": \"#C8D4E3\"}, \"line\": {\"color\": \"white\"}}, \"type\": \"table\"}]}, \"layout\": {\"annotationdefaults\": {\"arrowcolor\": \"#2a3f5f\", \"arrowhead\": 0, \"arrowwidth\": 1}, \"coloraxis\": {\"colorbar\": {\"outlinewidth\": 0, \"ticks\": \"\"}}, \"colorscale\": {\"diverging\": [[0, \"#8e0152\"], [0.1, \"#c51b7d\"], [0.2, \"#de77ae\"], [0.3, \"#f1b6da\"], [0.4, \"#fde0ef\"], [0.5, \"#f7f7f7\"], [0.6, \"#e6f5d0\"], [0.7, \"#b8e186\"], [0.8, \"#7fbc41\"], [0.9, \"#4d9221\"], [1, \"#276419\"]], \"sequential\": [[0.0, \"#0d0887\"], [0.1111111111111111, \"#46039f\"], [0.2222222222222222, \"#7201a8\"], [0.3333333333333333, \"#9c179e\"], [0.4444444444444444, \"#bd3786\"], [0.5555555555555556, \"#d8576b\"], [0.6666666666666666, \"#ed7953\"], [0.7777777777777778, \"#fb9f3a\"], [0.8888888888888888, \"#fdca26\"], [1.0, \"#f0f921\"]], \"sequentialminus\": [[0.0, \"#0d0887\"], [0.1111111111111111, \"#46039f\"], [0.2222222222222222, \"#7201a8\"], [0.3333333333333333, \"#9c179e\"], [0.4444444444444444, \"#bd3786\"], [0.5555555555555556, \"#d8576b\"], [0.6666666666666666, \"#ed7953\"], [0.7777777777777778, \"#fb9f3a\"], [0.8888888888888888, \"#fdca26\"], [1.0, \"#f0f921\"]]}, \"colorway\": [\"#636efa\", \"#EF553B\", \"#00cc96\", \"#ab63fa\", \"#FFA15A\", \"#19d3f3\", \"#FF6692\", \"#B6E880\", \"#FF97FF\", \"#FECB52\"], \"font\": {\"color\": \"#2a3f5f\"}, \"geo\": {\"bgcolor\": \"white\", \"lakecolor\": \"white\", \"landcolor\": \"#E5ECF6\", \"showlakes\": true, \"showland\": true, \"subunitcolor\": \"white\"}, \"hoverlabel\": {\"align\": \"left\"}, \"hovermode\": \"closest\", \"mapbox\": {\"style\": \"light\"}, \"paper_bgcolor\": \"white\", \"plot_bgcolor\": \"#E5ECF6\", \"polar\": {\"angularaxis\": {\"gridcolor\": \"white\", \"linecolor\": \"white\", \"ticks\": \"\"}, \"bgcolor\": \"#E5ECF6\", \"radialaxis\": {\"gridcolor\": \"white\", \"linecolor\": \"white\", \"ticks\": \"\"}}, \"scene\": {\"xaxis\": {\"backgroundcolor\": \"#E5ECF6\", \"gridcolor\": \"white\", \"gridwidth\": 2, \"linecolor\": \"white\", \"showbackground\": true, \"ticks\": \"\", \"zerolinecolor\": \"white\"}, \"yaxis\": {\"backgroundcolor\": \"#E5ECF6\", \"gridcolor\": \"white\", \"gridwidth\": 2, \"linecolor\": \"white\", \"showbackground\": true, \"ticks\": \"\", \"zerolinecolor\": \"white\"}, \"zaxis\": {\"backgroundcolor\": \"#E5ECF6\", \"gridcolor\": \"white\", \"gridwidth\": 2, \"linecolor\": \"white\", \"showbackground\": true, \"ticks\": \"\", \"zerolinecolor\": \"white\"}}, \"shapedefaults\": {\"line\": {\"color\": \"#2a3f5f\"}}, \"ternary\": {\"aaxis\": {\"gridcolor\": \"white\", \"linecolor\": \"white\", \"ticks\": \"\"}, \"baxis\": {\"gridcolor\": \"white\", \"linecolor\": \"white\", \"ticks\": \"\"}, \"bgcolor\": \"#E5ECF6\", \"caxis\": {\"gridcolor\": \"white\", \"linecolor\": \"white\", \"ticks\": \"\"}}, \"title\": {\"x\": 0.05}, \"xaxis\": {\"automargin\": true, \"gridcolor\": \"white\", \"linecolor\": \"white\", \"ticks\": \"\", \"title\": {\"standoff\": 15}, \"zerolinecolor\": \"white\", \"zerolinewidth\": 2}, \"yaxis\": {\"automargin\": true, \"gridcolor\": \"white\", \"linecolor\": \"white\", \"ticks\": \"\", \"title\": {\"standoff\": 15}, \"zerolinecolor\": \"white\", \"zerolinewidth\": 2}}}, \"width\": 600},\n",
       "                        {\"responsive\": true}\n",
       "                    ).then(function(){\n",
       "                            \n",
       "var gd = document.getElementById('6dc0e034-a25e-452b-926c-da4581ce7659');\n",
       "var x = new MutationObserver(function (mutations, observer) {{\n",
       "        var display = window.getComputedStyle(gd).display;\n",
       "        if (!display || display === 'none') {{\n",
       "            console.log([gd, 'removed!']);\n",
       "            Plotly.purge(gd);\n",
       "            observer.disconnect();\n",
       "        }}\n",
       "}});\n",
       "\n",
       "// Listen for the removal of the full notebook cells\n",
       "var notebookContainer = gd.closest('#notebook-container');\n",
       "if (notebookContainer) {{\n",
       "    x.observe(notebookContainer, {childList: true});\n",
       "}}\n",
       "\n",
       "// Listen for the clearing of the current output cell\n",
       "var outputEl = gd.closest('.output');\n",
       "if (outputEl) {{\n",
       "    x.observe(outputEl, {childList: true});\n",
       "}}\n",
       "\n",
       "                        })\n",
       "                };\n",
       "                });\n",
       "            </script>\n",
       "        </div>"
      ]
     },
     "metadata": {},
     "output_type": "display_data"
    }
   ],
   "source": [
    "fig = go.Figure()\n",
    "fig.add_trace(go.Scatter(x=X_train, y=y_train))\n",
    "fig.add_trace(go.Scatter(x=X_pred, y=y_pred))\n",
    "fig.update_layout(width=600)\n",
    "fig.show()"
   ]
  },
  {
   "cell_type": "code",
   "execution_count": 313,
   "metadata": {},
   "outputs": [
    {
     "data": {
      "application/vnd.plotly.v1+json": {
       "config": {
        "plotlyServerURL": "https://plot.ly"
       },
       "data": [
        {
         "type": "scatter",
         "x": [
          -1,
          -0.9682539682539683,
          -0.9365079365079365,
          -0.9047619047619048,
          -0.873015873015873,
          -0.8412698412698413,
          -0.8095238095238095,
          -0.7777777777777778,
          -0.746031746031746,
          -0.7142857142857143,
          -0.6825396825396826,
          -0.6507936507936508,
          -0.6190476190476191,
          -0.5873015873015873,
          -0.5555555555555556,
          -0.5238095238095238,
          -0.4920634920634921,
          -0.46031746031746035,
          -0.4285714285714286,
          -0.39682539682539686,
          -0.3650793650793651,
          -0.33333333333333337,
          -0.3015873015873016,
          -0.2698412698412699,
          -0.23809523809523814,
          -0.2063492063492064,
          -0.17460317460317465,
          -0.1428571428571429,
          -0.11111111111111116,
          -0.07936507936507942,
          -0.04761904761904767,
          -0.015873015873015928,
          0.015873015873015817,
          0.04761904761904745,
          0.0793650793650793,
          0.11111111111111116,
          0.1428571428571428,
          0.17460317460317443,
          0.20634920634920628,
          0.23809523809523814,
          0.26984126984126977,
          0.3015873015873014,
          0.33333333333333326,
          0.3650793650793651,
          0.39682539682539675,
          0.4285714285714284,
          0.46031746031746024,
          0.4920634920634921,
          0.5238095238095237,
          0.5555555555555554,
          0.5873015873015872,
          0.6190476190476191,
          0.6507936507936507,
          0.6825396825396823,
          0.7142857142857142,
          0.746031746031746,
          0.7777777777777777,
          0.8095238095238093,
          0.8412698412698412,
          0.873015873015873,
          0.9047619047619047,
          0.9365079365079363,
          0.9682539682539681,
          1
         ],
         "y": [
          0.0005838871002197266,
          0.00037122482751217323,
          0.00018179573468712906,
          1.717342105589381e-05,
          0.00012071096184662622,
          0.00023034579917802223,
          0.00031096118770235215,
          0.00036192673903245876,
          0.00038332175421229575,
          0.0003762019647134407,
          0.0003427601876886399,
          0.00028556958764003326,
          0.00020873898365458832,
          0.00011690036327749453,
          1.6059515611122066e-05,
          8.752337554174261e-05,
          0.00018680332640352848,
          0.0002747660862928436,
          0.00034452101279947023,
          0.0003899457821079366,
          0.0004063186087890358,
          0.00039038658142098726,
          0.0003413622153548568,
          0.00026030773397556217,
          0.0001513502628506247,
          2.0983427719722947e-05,
          0.0001226028778151811,
          0.0002691555023193182,
          0.0004072073029308676,
          0.0005264805147632279,
          0.0006161032758688068,
          0.0006676912908289978,
          0.0006755591039393494,
          0.0006369649015401935,
          0.0005528257677539505,
          0.0004275920914440512,
          0.0002690362930297674,
          8.75553466872514e-05,
          0.00010347625608886357,
          0.00029082513162503876,
          0.00046057934042087467,
          0.0005996887458112887,
          0.0006972312927246982,
          0.0007451710143371315,
          0.0007377984890171163,
          0.0006743731169863709,
          0.000557113288593869,
          0.00039172409514132145,
          0.00018759957411951245,
          4.3358442918361995e-05,
          0.0002864755776635919,
          0.0005264913449521957,
          0.0007459558638851504,
          0.0009284950318965146,
          0.0010574830544961555,
          0.0011169357221078036,
          0.0010927392886236342,
          0.0009725727447092991,
          0.000745151116103071,
          0.00040222369912079614,
          6.289018359861842e-05,
          0.000654818195624518,
          0.0013761591384252592,
          0.0022274255752563477
         ]
        }
       ],
       "layout": {
        "template": {
         "data": {
          "bar": [
           {
            "error_x": {
             "color": "#2a3f5f"
            },
            "error_y": {
             "color": "#2a3f5f"
            },
            "marker": {
             "line": {
              "color": "#E5ECF6",
              "width": 0.5
             }
            },
            "type": "bar"
           }
          ],
          "barpolar": [
           {
            "marker": {
             "line": {
              "color": "#E5ECF6",
              "width": 0.5
             }
            },
            "type": "barpolar"
           }
          ],
          "carpet": [
           {
            "aaxis": {
             "endlinecolor": "#2a3f5f",
             "gridcolor": "white",
             "linecolor": "white",
             "minorgridcolor": "white",
             "startlinecolor": "#2a3f5f"
            },
            "baxis": {
             "endlinecolor": "#2a3f5f",
             "gridcolor": "white",
             "linecolor": "white",
             "minorgridcolor": "white",
             "startlinecolor": "#2a3f5f"
            },
            "type": "carpet"
           }
          ],
          "choropleth": [
           {
            "colorbar": {
             "outlinewidth": 0,
             "ticks": ""
            },
            "type": "choropleth"
           }
          ],
          "contour": [
           {
            "colorbar": {
             "outlinewidth": 0,
             "ticks": ""
            },
            "colorscale": [
             [
              0,
              "#0d0887"
             ],
             [
              0.1111111111111111,
              "#46039f"
             ],
             [
              0.2222222222222222,
              "#7201a8"
             ],
             [
              0.3333333333333333,
              "#9c179e"
             ],
             [
              0.4444444444444444,
              "#bd3786"
             ],
             [
              0.5555555555555556,
              "#d8576b"
             ],
             [
              0.6666666666666666,
              "#ed7953"
             ],
             [
              0.7777777777777778,
              "#fb9f3a"
             ],
             [
              0.8888888888888888,
              "#fdca26"
             ],
             [
              1,
              "#f0f921"
             ]
            ],
            "type": "contour"
           }
          ],
          "contourcarpet": [
           {
            "colorbar": {
             "outlinewidth": 0,
             "ticks": ""
            },
            "type": "contourcarpet"
           }
          ],
          "heatmap": [
           {
            "colorbar": {
             "outlinewidth": 0,
             "ticks": ""
            },
            "colorscale": [
             [
              0,
              "#0d0887"
             ],
             [
              0.1111111111111111,
              "#46039f"
             ],
             [
              0.2222222222222222,
              "#7201a8"
             ],
             [
              0.3333333333333333,
              "#9c179e"
             ],
             [
              0.4444444444444444,
              "#bd3786"
             ],
             [
              0.5555555555555556,
              "#d8576b"
             ],
             [
              0.6666666666666666,
              "#ed7953"
             ],
             [
              0.7777777777777778,
              "#fb9f3a"
             ],
             [
              0.8888888888888888,
              "#fdca26"
             ],
             [
              1,
              "#f0f921"
             ]
            ],
            "type": "heatmap"
           }
          ],
          "heatmapgl": [
           {
            "colorbar": {
             "outlinewidth": 0,
             "ticks": ""
            },
            "colorscale": [
             [
              0,
              "#0d0887"
             ],
             [
              0.1111111111111111,
              "#46039f"
             ],
             [
              0.2222222222222222,
              "#7201a8"
             ],
             [
              0.3333333333333333,
              "#9c179e"
             ],
             [
              0.4444444444444444,
              "#bd3786"
             ],
             [
              0.5555555555555556,
              "#d8576b"
             ],
             [
              0.6666666666666666,
              "#ed7953"
             ],
             [
              0.7777777777777778,
              "#fb9f3a"
             ],
             [
              0.8888888888888888,
              "#fdca26"
             ],
             [
              1,
              "#f0f921"
             ]
            ],
            "type": "heatmapgl"
           }
          ],
          "histogram": [
           {
            "marker": {
             "colorbar": {
              "outlinewidth": 0,
              "ticks": ""
             }
            },
            "type": "histogram"
           }
          ],
          "histogram2d": [
           {
            "colorbar": {
             "outlinewidth": 0,
             "ticks": ""
            },
            "colorscale": [
             [
              0,
              "#0d0887"
             ],
             [
              0.1111111111111111,
              "#46039f"
             ],
             [
              0.2222222222222222,
              "#7201a8"
             ],
             [
              0.3333333333333333,
              "#9c179e"
             ],
             [
              0.4444444444444444,
              "#bd3786"
             ],
             [
              0.5555555555555556,
              "#d8576b"
             ],
             [
              0.6666666666666666,
              "#ed7953"
             ],
             [
              0.7777777777777778,
              "#fb9f3a"
             ],
             [
              0.8888888888888888,
              "#fdca26"
             ],
             [
              1,
              "#f0f921"
             ]
            ],
            "type": "histogram2d"
           }
          ],
          "histogram2dcontour": [
           {
            "colorbar": {
             "outlinewidth": 0,
             "ticks": ""
            },
            "colorscale": [
             [
              0,
              "#0d0887"
             ],
             [
              0.1111111111111111,
              "#46039f"
             ],
             [
              0.2222222222222222,
              "#7201a8"
             ],
             [
              0.3333333333333333,
              "#9c179e"
             ],
             [
              0.4444444444444444,
              "#bd3786"
             ],
             [
              0.5555555555555556,
              "#d8576b"
             ],
             [
              0.6666666666666666,
              "#ed7953"
             ],
             [
              0.7777777777777778,
              "#fb9f3a"
             ],
             [
              0.8888888888888888,
              "#fdca26"
             ],
             [
              1,
              "#f0f921"
             ]
            ],
            "type": "histogram2dcontour"
           }
          ],
          "mesh3d": [
           {
            "colorbar": {
             "outlinewidth": 0,
             "ticks": ""
            },
            "type": "mesh3d"
           }
          ],
          "parcoords": [
           {
            "line": {
             "colorbar": {
              "outlinewidth": 0,
              "ticks": ""
             }
            },
            "type": "parcoords"
           }
          ],
          "pie": [
           {
            "automargin": true,
            "type": "pie"
           }
          ],
          "scatter": [
           {
            "marker": {
             "colorbar": {
              "outlinewidth": 0,
              "ticks": ""
             }
            },
            "type": "scatter"
           }
          ],
          "scatter3d": [
           {
            "line": {
             "colorbar": {
              "outlinewidth": 0,
              "ticks": ""
             }
            },
            "marker": {
             "colorbar": {
              "outlinewidth": 0,
              "ticks": ""
             }
            },
            "type": "scatter3d"
           }
          ],
          "scattercarpet": [
           {
            "marker": {
             "colorbar": {
              "outlinewidth": 0,
              "ticks": ""
             }
            },
            "type": "scattercarpet"
           }
          ],
          "scattergeo": [
           {
            "marker": {
             "colorbar": {
              "outlinewidth": 0,
              "ticks": ""
             }
            },
            "type": "scattergeo"
           }
          ],
          "scattergl": [
           {
            "marker": {
             "colorbar": {
              "outlinewidth": 0,
              "ticks": ""
             }
            },
            "type": "scattergl"
           }
          ],
          "scattermapbox": [
           {
            "marker": {
             "colorbar": {
              "outlinewidth": 0,
              "ticks": ""
             }
            },
            "type": "scattermapbox"
           }
          ],
          "scatterpolar": [
           {
            "marker": {
             "colorbar": {
              "outlinewidth": 0,
              "ticks": ""
             }
            },
            "type": "scatterpolar"
           }
          ],
          "scatterpolargl": [
           {
            "marker": {
             "colorbar": {
              "outlinewidth": 0,
              "ticks": ""
             }
            },
            "type": "scatterpolargl"
           }
          ],
          "scatterternary": [
           {
            "marker": {
             "colorbar": {
              "outlinewidth": 0,
              "ticks": ""
             }
            },
            "type": "scatterternary"
           }
          ],
          "surface": [
           {
            "colorbar": {
             "outlinewidth": 0,
             "ticks": ""
            },
            "colorscale": [
             [
              0,
              "#0d0887"
             ],
             [
              0.1111111111111111,
              "#46039f"
             ],
             [
              0.2222222222222222,
              "#7201a8"
             ],
             [
              0.3333333333333333,
              "#9c179e"
             ],
             [
              0.4444444444444444,
              "#bd3786"
             ],
             [
              0.5555555555555556,
              "#d8576b"
             ],
             [
              0.6666666666666666,
              "#ed7953"
             ],
             [
              0.7777777777777778,
              "#fb9f3a"
             ],
             [
              0.8888888888888888,
              "#fdca26"
             ],
             [
              1,
              "#f0f921"
             ]
            ],
            "type": "surface"
           }
          ],
          "table": [
           {
            "cells": {
             "fill": {
              "color": "#EBF0F8"
             },
             "line": {
              "color": "white"
             }
            },
            "header": {
             "fill": {
              "color": "#C8D4E3"
             },
             "line": {
              "color": "white"
             }
            },
            "type": "table"
           }
          ]
         },
         "layout": {
          "annotationdefaults": {
           "arrowcolor": "#2a3f5f",
           "arrowhead": 0,
           "arrowwidth": 1
          },
          "coloraxis": {
           "colorbar": {
            "outlinewidth": 0,
            "ticks": ""
           }
          },
          "colorscale": {
           "diverging": [
            [
             0,
             "#8e0152"
            ],
            [
             0.1,
             "#c51b7d"
            ],
            [
             0.2,
             "#de77ae"
            ],
            [
             0.3,
             "#f1b6da"
            ],
            [
             0.4,
             "#fde0ef"
            ],
            [
             0.5,
             "#f7f7f7"
            ],
            [
             0.6,
             "#e6f5d0"
            ],
            [
             0.7,
             "#b8e186"
            ],
            [
             0.8,
             "#7fbc41"
            ],
            [
             0.9,
             "#4d9221"
            ],
            [
             1,
             "#276419"
            ]
           ],
           "sequential": [
            [
             0,
             "#0d0887"
            ],
            [
             0.1111111111111111,
             "#46039f"
            ],
            [
             0.2222222222222222,
             "#7201a8"
            ],
            [
             0.3333333333333333,
             "#9c179e"
            ],
            [
             0.4444444444444444,
             "#bd3786"
            ],
            [
             0.5555555555555556,
             "#d8576b"
            ],
            [
             0.6666666666666666,
             "#ed7953"
            ],
            [
             0.7777777777777778,
             "#fb9f3a"
            ],
            [
             0.8888888888888888,
             "#fdca26"
            ],
            [
             1,
             "#f0f921"
            ]
           ],
           "sequentialminus": [
            [
             0,
             "#0d0887"
            ],
            [
             0.1111111111111111,
             "#46039f"
            ],
            [
             0.2222222222222222,
             "#7201a8"
            ],
            [
             0.3333333333333333,
             "#9c179e"
            ],
            [
             0.4444444444444444,
             "#bd3786"
            ],
            [
             0.5555555555555556,
             "#d8576b"
            ],
            [
             0.6666666666666666,
             "#ed7953"
            ],
            [
             0.7777777777777778,
             "#fb9f3a"
            ],
            [
             0.8888888888888888,
             "#fdca26"
            ],
            [
             1,
             "#f0f921"
            ]
           ]
          },
          "colorway": [
           "#636efa",
           "#EF553B",
           "#00cc96",
           "#ab63fa",
           "#FFA15A",
           "#19d3f3",
           "#FF6692",
           "#B6E880",
           "#FF97FF",
           "#FECB52"
          ],
          "font": {
           "color": "#2a3f5f"
          },
          "geo": {
           "bgcolor": "white",
           "lakecolor": "white",
           "landcolor": "#E5ECF6",
           "showlakes": true,
           "showland": true,
           "subunitcolor": "white"
          },
          "hoverlabel": {
           "align": "left"
          },
          "hovermode": "closest",
          "mapbox": {
           "style": "light"
          },
          "paper_bgcolor": "white",
          "plot_bgcolor": "#E5ECF6",
          "polar": {
           "angularaxis": {
            "gridcolor": "white",
            "linecolor": "white",
            "ticks": ""
           },
           "bgcolor": "#E5ECF6",
           "radialaxis": {
            "gridcolor": "white",
            "linecolor": "white",
            "ticks": ""
           }
          },
          "scene": {
           "xaxis": {
            "backgroundcolor": "#E5ECF6",
            "gridcolor": "white",
            "gridwidth": 2,
            "linecolor": "white",
            "showbackground": true,
            "ticks": "",
            "zerolinecolor": "white"
           },
           "yaxis": {
            "backgroundcolor": "#E5ECF6",
            "gridcolor": "white",
            "gridwidth": 2,
            "linecolor": "white",
            "showbackground": true,
            "ticks": "",
            "zerolinecolor": "white"
           },
           "zaxis": {
            "backgroundcolor": "#E5ECF6",
            "gridcolor": "white",
            "gridwidth": 2,
            "linecolor": "white",
            "showbackground": true,
            "ticks": "",
            "zerolinecolor": "white"
           }
          },
          "shapedefaults": {
           "line": {
            "color": "#2a3f5f"
           }
          },
          "ternary": {
           "aaxis": {
            "gridcolor": "white",
            "linecolor": "white",
            "ticks": ""
           },
           "baxis": {
            "gridcolor": "white",
            "linecolor": "white",
            "ticks": ""
           },
           "bgcolor": "#E5ECF6",
           "caxis": {
            "gridcolor": "white",
            "linecolor": "white",
            "ticks": ""
           }
          },
          "title": {
           "x": 0.05
          },
          "xaxis": {
           "automargin": true,
           "gridcolor": "white",
           "linecolor": "white",
           "ticks": "",
           "title": {
            "standoff": 15
           },
           "zerolinecolor": "white",
           "zerolinewidth": 2
          },
          "yaxis": {
           "automargin": true,
           "gridcolor": "white",
           "linecolor": "white",
           "ticks": "",
           "title": {
            "standoff": 15
           },
           "zerolinecolor": "white",
           "zerolinewidth": 2
          }
         }
        },
        "width": 600,
        "yaxis": {
         "type": "log"
        }
       }
      },
      "text/html": [
       "<div>\n",
       "        \n",
       "        \n",
       "            <div id=\"59ac33da-5cf3-4191-a7dd-170bd621deaa\" class=\"plotly-graph-div\" style=\"height:525px; width:600px;\"></div>\n",
       "            <script type=\"text/javascript\">\n",
       "                require([\"plotly\"], function(Plotly) {\n",
       "                    window.PLOTLYENV=window.PLOTLYENV || {};\n",
       "                    \n",
       "                if (document.getElementById(\"59ac33da-5cf3-4191-a7dd-170bd621deaa\")) {\n",
       "                    Plotly.newPlot(\n",
       "                        '59ac33da-5cf3-4191-a7dd-170bd621deaa',\n",
       "                        [{\"type\": \"scatter\", \"x\": [-1.0, -0.9682539682539683, -0.9365079365079365, -0.9047619047619048, -0.873015873015873, -0.8412698412698413, -0.8095238095238095, -0.7777777777777778, -0.746031746031746, -0.7142857142857143, -0.6825396825396826, -0.6507936507936508, -0.6190476190476191, -0.5873015873015873, -0.5555555555555556, -0.5238095238095238, -0.4920634920634921, -0.46031746031746035, -0.4285714285714286, -0.39682539682539686, -0.3650793650793651, -0.33333333333333337, -0.3015873015873016, -0.2698412698412699, -0.23809523809523814, -0.2063492063492064, -0.17460317460317465, -0.1428571428571429, -0.11111111111111116, -0.07936507936507942, -0.04761904761904767, -0.015873015873015928, 0.015873015873015817, 0.04761904761904745, 0.0793650793650793, 0.11111111111111116, 0.1428571428571428, 0.17460317460317443, 0.20634920634920628, 0.23809523809523814, 0.26984126984126977, 0.3015873015873014, 0.33333333333333326, 0.3650793650793651, 0.39682539682539675, 0.4285714285714284, 0.46031746031746024, 0.4920634920634921, 0.5238095238095237, 0.5555555555555554, 0.5873015873015872, 0.6190476190476191, 0.6507936507936507, 0.6825396825396823, 0.7142857142857142, 0.746031746031746, 0.7777777777777777, 0.8095238095238093, 0.8412698412698412, 0.873015873015873, 0.9047619047619047, 0.9365079365079363, 0.9682539682539681, 1.0], \"y\": [0.0005838871002197266, 0.00037122482751217323, 0.00018179573468712906, 1.717342105589381e-05, 0.00012071096184662622, 0.00023034579917802223, 0.00031096118770235215, 0.00036192673903245876, 0.00038332175421229575, 0.0003762019647134407, 0.0003427601876886399, 0.00028556958764003326, 0.00020873898365458832, 0.00011690036327749453, 1.6059515611122066e-05, 8.752337554174261e-05, 0.00018680332640352848, 0.0002747660862928436, 0.00034452101279947023, 0.0003899457821079366, 0.0004063186087890358, 0.00039038658142098726, 0.0003413622153548568, 0.00026030773397556217, 0.0001513502628506247, 2.0983427719722947e-05, 0.0001226028778151811, 0.0002691555023193182, 0.0004072073029308676, 0.0005264805147632279, 0.0006161032758688068, 0.0006676912908289978, 0.0006755591039393494, 0.0006369649015401935, 0.0005528257677539505, 0.0004275920914440512, 0.0002690362930297674, 8.75553466872514e-05, 0.00010347625608886357, 0.00029082513162503876, 0.00046057934042087467, 0.0005996887458112887, 0.0006972312927246982, 0.0007451710143371315, 0.0007377984890171163, 0.0006743731169863709, 0.000557113288593869, 0.00039172409514132145, 0.00018759957411951245, 4.3358442918361995e-05, 0.0002864755776635919, 0.0005264913449521957, 0.0007459558638851504, 0.0009284950318965146, 0.0010574830544961555, 0.0011169357221078036, 0.0010927392886236342, 0.0009725727447092991, 0.000745151116103071, 0.00040222369912079614, 6.289018359861842e-05, 0.000654818195624518, 0.0013761591384252592, 0.0022274255752563477]}],\n",
       "                        {\"template\": {\"data\": {\"bar\": [{\"error_x\": {\"color\": \"#2a3f5f\"}, \"error_y\": {\"color\": \"#2a3f5f\"}, \"marker\": {\"line\": {\"color\": \"#E5ECF6\", \"width\": 0.5}}, \"type\": \"bar\"}], \"barpolar\": [{\"marker\": {\"line\": {\"color\": \"#E5ECF6\", \"width\": 0.5}}, \"type\": \"barpolar\"}], \"carpet\": [{\"aaxis\": {\"endlinecolor\": \"#2a3f5f\", \"gridcolor\": \"white\", \"linecolor\": \"white\", \"minorgridcolor\": \"white\", \"startlinecolor\": \"#2a3f5f\"}, \"baxis\": {\"endlinecolor\": \"#2a3f5f\", \"gridcolor\": \"white\", \"linecolor\": \"white\", \"minorgridcolor\": \"white\", \"startlinecolor\": \"#2a3f5f\"}, \"type\": \"carpet\"}], \"choropleth\": [{\"colorbar\": {\"outlinewidth\": 0, \"ticks\": \"\"}, \"type\": \"choropleth\"}], \"contour\": [{\"colorbar\": {\"outlinewidth\": 0, \"ticks\": \"\"}, \"colorscale\": [[0.0, \"#0d0887\"], [0.1111111111111111, \"#46039f\"], [0.2222222222222222, \"#7201a8\"], [0.3333333333333333, \"#9c179e\"], [0.4444444444444444, \"#bd3786\"], [0.5555555555555556, \"#d8576b\"], [0.6666666666666666, \"#ed7953\"], [0.7777777777777778, \"#fb9f3a\"], [0.8888888888888888, \"#fdca26\"], [1.0, \"#f0f921\"]], \"type\": \"contour\"}], \"contourcarpet\": [{\"colorbar\": {\"outlinewidth\": 0, \"ticks\": \"\"}, \"type\": \"contourcarpet\"}], \"heatmap\": [{\"colorbar\": {\"outlinewidth\": 0, \"ticks\": \"\"}, \"colorscale\": [[0.0, \"#0d0887\"], [0.1111111111111111, \"#46039f\"], [0.2222222222222222, \"#7201a8\"], [0.3333333333333333, \"#9c179e\"], [0.4444444444444444, \"#bd3786\"], [0.5555555555555556, \"#d8576b\"], [0.6666666666666666, \"#ed7953\"], [0.7777777777777778, \"#fb9f3a\"], [0.8888888888888888, \"#fdca26\"], [1.0, \"#f0f921\"]], \"type\": \"heatmap\"}], \"heatmapgl\": [{\"colorbar\": {\"outlinewidth\": 0, \"ticks\": \"\"}, \"colorscale\": [[0.0, \"#0d0887\"], [0.1111111111111111, \"#46039f\"], [0.2222222222222222, \"#7201a8\"], [0.3333333333333333, \"#9c179e\"], [0.4444444444444444, \"#bd3786\"], [0.5555555555555556, \"#d8576b\"], [0.6666666666666666, \"#ed7953\"], [0.7777777777777778, \"#fb9f3a\"], [0.8888888888888888, \"#fdca26\"], [1.0, \"#f0f921\"]], \"type\": \"heatmapgl\"}], \"histogram\": [{\"marker\": {\"colorbar\": {\"outlinewidth\": 0, \"ticks\": \"\"}}, \"type\": \"histogram\"}], \"histogram2d\": [{\"colorbar\": {\"outlinewidth\": 0, \"ticks\": \"\"}, \"colorscale\": [[0.0, \"#0d0887\"], [0.1111111111111111, \"#46039f\"], [0.2222222222222222, \"#7201a8\"], [0.3333333333333333, \"#9c179e\"], [0.4444444444444444, \"#bd3786\"], [0.5555555555555556, \"#d8576b\"], [0.6666666666666666, \"#ed7953\"], [0.7777777777777778, \"#fb9f3a\"], [0.8888888888888888, \"#fdca26\"], [1.0, \"#f0f921\"]], \"type\": \"histogram2d\"}], \"histogram2dcontour\": [{\"colorbar\": {\"outlinewidth\": 0, \"ticks\": \"\"}, \"colorscale\": [[0.0, \"#0d0887\"], [0.1111111111111111, \"#46039f\"], [0.2222222222222222, \"#7201a8\"], [0.3333333333333333, \"#9c179e\"], [0.4444444444444444, \"#bd3786\"], [0.5555555555555556, \"#d8576b\"], [0.6666666666666666, \"#ed7953\"], [0.7777777777777778, \"#fb9f3a\"], [0.8888888888888888, \"#fdca26\"], [1.0, \"#f0f921\"]], \"type\": \"histogram2dcontour\"}], \"mesh3d\": [{\"colorbar\": {\"outlinewidth\": 0, \"ticks\": \"\"}, \"type\": \"mesh3d\"}], \"parcoords\": [{\"line\": {\"colorbar\": {\"outlinewidth\": 0, \"ticks\": \"\"}}, \"type\": \"parcoords\"}], \"pie\": [{\"automargin\": true, \"type\": \"pie\"}], \"scatter\": [{\"marker\": {\"colorbar\": {\"outlinewidth\": 0, \"ticks\": \"\"}}, \"type\": \"scatter\"}], \"scatter3d\": [{\"line\": {\"colorbar\": {\"outlinewidth\": 0, \"ticks\": \"\"}}, \"marker\": {\"colorbar\": {\"outlinewidth\": 0, \"ticks\": \"\"}}, \"type\": \"scatter3d\"}], \"scattercarpet\": [{\"marker\": {\"colorbar\": {\"outlinewidth\": 0, \"ticks\": \"\"}}, \"type\": \"scattercarpet\"}], \"scattergeo\": [{\"marker\": {\"colorbar\": {\"outlinewidth\": 0, \"ticks\": \"\"}}, \"type\": \"scattergeo\"}], \"scattergl\": [{\"marker\": {\"colorbar\": {\"outlinewidth\": 0, \"ticks\": \"\"}}, \"type\": \"scattergl\"}], \"scattermapbox\": [{\"marker\": {\"colorbar\": {\"outlinewidth\": 0, \"ticks\": \"\"}}, \"type\": \"scattermapbox\"}], \"scatterpolar\": [{\"marker\": {\"colorbar\": {\"outlinewidth\": 0, \"ticks\": \"\"}}, \"type\": \"scatterpolar\"}], \"scatterpolargl\": [{\"marker\": {\"colorbar\": {\"outlinewidth\": 0, \"ticks\": \"\"}}, \"type\": \"scatterpolargl\"}], \"scatterternary\": [{\"marker\": {\"colorbar\": {\"outlinewidth\": 0, \"ticks\": \"\"}}, \"type\": \"scatterternary\"}], \"surface\": [{\"colorbar\": {\"outlinewidth\": 0, \"ticks\": \"\"}, \"colorscale\": [[0.0, \"#0d0887\"], [0.1111111111111111, \"#46039f\"], [0.2222222222222222, \"#7201a8\"], [0.3333333333333333, \"#9c179e\"], [0.4444444444444444, \"#bd3786\"], [0.5555555555555556, \"#d8576b\"], [0.6666666666666666, \"#ed7953\"], [0.7777777777777778, \"#fb9f3a\"], [0.8888888888888888, \"#fdca26\"], [1.0, \"#f0f921\"]], \"type\": \"surface\"}], \"table\": [{\"cells\": {\"fill\": {\"color\": \"#EBF0F8\"}, \"line\": {\"color\": \"white\"}}, \"header\": {\"fill\": {\"color\": \"#C8D4E3\"}, \"line\": {\"color\": \"white\"}}, \"type\": \"table\"}]}, \"layout\": {\"annotationdefaults\": {\"arrowcolor\": \"#2a3f5f\", \"arrowhead\": 0, \"arrowwidth\": 1}, \"coloraxis\": {\"colorbar\": {\"outlinewidth\": 0, \"ticks\": \"\"}}, \"colorscale\": {\"diverging\": [[0, \"#8e0152\"], [0.1, \"#c51b7d\"], [0.2, \"#de77ae\"], [0.3, \"#f1b6da\"], [0.4, \"#fde0ef\"], [0.5, \"#f7f7f7\"], [0.6, \"#e6f5d0\"], [0.7, \"#b8e186\"], [0.8, \"#7fbc41\"], [0.9, \"#4d9221\"], [1, \"#276419\"]], \"sequential\": [[0.0, \"#0d0887\"], [0.1111111111111111, \"#46039f\"], [0.2222222222222222, \"#7201a8\"], [0.3333333333333333, \"#9c179e\"], [0.4444444444444444, \"#bd3786\"], [0.5555555555555556, \"#d8576b\"], [0.6666666666666666, \"#ed7953\"], [0.7777777777777778, \"#fb9f3a\"], [0.8888888888888888, \"#fdca26\"], [1.0, \"#f0f921\"]], \"sequentialminus\": [[0.0, \"#0d0887\"], [0.1111111111111111, \"#46039f\"], [0.2222222222222222, \"#7201a8\"], [0.3333333333333333, \"#9c179e\"], [0.4444444444444444, \"#bd3786\"], [0.5555555555555556, \"#d8576b\"], [0.6666666666666666, \"#ed7953\"], [0.7777777777777778, \"#fb9f3a\"], [0.8888888888888888, \"#fdca26\"], [1.0, \"#f0f921\"]]}, \"colorway\": [\"#636efa\", \"#EF553B\", \"#00cc96\", \"#ab63fa\", \"#FFA15A\", \"#19d3f3\", \"#FF6692\", \"#B6E880\", \"#FF97FF\", \"#FECB52\"], \"font\": {\"color\": \"#2a3f5f\"}, \"geo\": {\"bgcolor\": \"white\", \"lakecolor\": \"white\", \"landcolor\": \"#E5ECF6\", \"showlakes\": true, \"showland\": true, \"subunitcolor\": \"white\"}, \"hoverlabel\": {\"align\": \"left\"}, \"hovermode\": \"closest\", \"mapbox\": {\"style\": \"light\"}, \"paper_bgcolor\": \"white\", \"plot_bgcolor\": \"#E5ECF6\", \"polar\": {\"angularaxis\": {\"gridcolor\": \"white\", \"linecolor\": \"white\", \"ticks\": \"\"}, \"bgcolor\": \"#E5ECF6\", \"radialaxis\": {\"gridcolor\": \"white\", \"linecolor\": \"white\", \"ticks\": \"\"}}, \"scene\": {\"xaxis\": {\"backgroundcolor\": \"#E5ECF6\", \"gridcolor\": \"white\", \"gridwidth\": 2, \"linecolor\": \"white\", \"showbackground\": true, \"ticks\": \"\", \"zerolinecolor\": \"white\"}, \"yaxis\": {\"backgroundcolor\": \"#E5ECF6\", \"gridcolor\": \"white\", \"gridwidth\": 2, \"linecolor\": \"white\", \"showbackground\": true, \"ticks\": \"\", \"zerolinecolor\": \"white\"}, \"zaxis\": {\"backgroundcolor\": \"#E5ECF6\", \"gridcolor\": \"white\", \"gridwidth\": 2, \"linecolor\": \"white\", \"showbackground\": true, \"ticks\": \"\", \"zerolinecolor\": \"white\"}}, \"shapedefaults\": {\"line\": {\"color\": \"#2a3f5f\"}}, \"ternary\": {\"aaxis\": {\"gridcolor\": \"white\", \"linecolor\": \"white\", \"ticks\": \"\"}, \"baxis\": {\"gridcolor\": \"white\", \"linecolor\": \"white\", \"ticks\": \"\"}, \"bgcolor\": \"#E5ECF6\", \"caxis\": {\"gridcolor\": \"white\", \"linecolor\": \"white\", \"ticks\": \"\"}}, \"title\": {\"x\": 0.05}, \"xaxis\": {\"automargin\": true, \"gridcolor\": \"white\", \"linecolor\": \"white\", \"ticks\": \"\", \"title\": {\"standoff\": 15}, \"zerolinecolor\": \"white\", \"zerolinewidth\": 2}, \"yaxis\": {\"automargin\": true, \"gridcolor\": \"white\", \"linecolor\": \"white\", \"ticks\": \"\", \"title\": {\"standoff\": 15}, \"zerolinecolor\": \"white\", \"zerolinewidth\": 2}}}, \"width\": 600, \"yaxis\": {\"type\": \"log\"}},\n",
       "                        {\"responsive\": true}\n",
       "                    ).then(function(){\n",
       "                            \n",
       "var gd = document.getElementById('59ac33da-5cf3-4191-a7dd-170bd621deaa');\n",
       "var x = new MutationObserver(function (mutations, observer) {{\n",
       "        var display = window.getComputedStyle(gd).display;\n",
       "        if (!display || display === 'none') {{\n",
       "            console.log([gd, 'removed!']);\n",
       "            Plotly.purge(gd);\n",
       "            observer.disconnect();\n",
       "        }}\n",
       "}});\n",
       "\n",
       "// Listen for the removal of the full notebook cells\n",
       "var notebookContainer = gd.closest('#notebook-container');\n",
       "if (notebookContainer) {{\n",
       "    x.observe(notebookContainer, {childList: true});\n",
       "}}\n",
       "\n",
       "// Listen for the clearing of the current output cell\n",
       "var outputEl = gd.closest('.output');\n",
       "if (outputEl) {{\n",
       "    x.observe(outputEl, {childList: true});\n",
       "}}\n",
       "\n",
       "                        })\n",
       "                };\n",
       "                });\n",
       "            </script>\n",
       "        </div>"
      ]
     },
     "metadata": {},
     "output_type": "display_data"
    }
   ],
   "source": [
    "fig = go.Figure()\n",
    "fig.add_trace(go.Scatter(x=X_test, y=err))\n",
    "fig.update_layout(width=600, yaxis_type=\"log\")\n",
    "fig.show()"
   ]
  }
 ],
 "metadata": {
  "kernelspec": {
   "display_name": "Python 3",
   "language": "python",
   "name": "python3"
  },
  "language_info": {
   "codemirror_mode": {
    "name": "ipython",
    "version": 3
   },
   "file_extension": ".py",
   "mimetype": "text/x-python",
   "name": "python",
   "nbconvert_exporter": "python",
   "pygments_lexer": "ipython3",
   "version": "3.7.6"
  }
 },
 "nbformat": 4,
 "nbformat_minor": 4
}
