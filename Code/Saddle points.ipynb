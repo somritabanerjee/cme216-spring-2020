{
 "cells": [
  {
   "cell_type": "code",
   "execution_count": null,
   "metadata": {},
   "outputs": [],
   "source": [
    "import numpy as np\n",
    "import plotly.graph_objects as go\n",
    "def save_figure_to_file(fig, path, file_name):\n",
    "    fig.write_image(path + '/' + file_name + '.svg')"
   ]
  },
  {
   "cell_type": "code",
   "execution_count": null,
   "metadata": {},
   "outputs": [],
   "source": [
    "x , y = np.linspace(-1., 1., 32), np.linspace(-1., 1., 32)\n",
    "\n",
    "z = [ [x[i]**2 - y[j]**2 for i in range(x.size) ] for j in range(y.size) ]\n",
    "z = np.array(z)\n",
    "\n",
    "fig = go.Figure(data=[go.Surface(\n",
    "        contours = {\n",
    "        \"x\": {\"show\": True, \"start\": -1, \"end\": 1, \"size\": 0.1, \"color\":\"white\"},\n",
    "        \"z\": {\"show\": True, \"start\": -1, \"end\": 1, \"size\": 0.1}\n",
    "        },\n",
    "        x=x,y=y,z=z)])\n",
    "\n",
    "fig.update_layout(title='Saddle point', autosize=False,\n",
    "                  width=500, height=500,\n",
    "                  margin=dict(l=65, r=50, b=65, t=90))\n",
    "fig.show()"
   ]
  },
  {
   "cell_type": "code",
   "execution_count": null,
   "metadata": {},
   "outputs": [],
   "source": [
    "save_figure_to_file(fig,'../Slides/Deep_Learning','fig3')"
   ]
  },
  {
   "cell_type": "code",
   "execution_count": null,
   "metadata": {},
   "outputs": [],
   "source": [
    "z = [ [x[i]**2 + y[j]**2 for i in range(x.size) ] for j in range(y.size) ]\n",
    "z = np.array(z)\n",
    "\n",
    "fig = go.Figure(data=[go.Surface(\n",
    "        contours = {\n",
    "        \"x\": {\"show\": True, \"start\": -1, \"end\": 1, \"size\": 0.1, \"color\":\"white\"},\n",
    "        \"z\": {\"show\": True, \"start\": -1, \"end\": 1, \"size\": 0.1}\n",
    "        },\n",
    "        x=x,y=y,z=z)])\n",
    "\n",
    "fig.update_layout(title='Minimum', autosize=False,\n",
    "                  width=500, height=500,\n",
    "                  margin=dict(l=65, r=50, b=65, t=90))\n",
    "fig.show()"
   ]
  },
  {
   "cell_type": "code",
   "execution_count": null,
   "metadata": {},
   "outputs": [],
   "source": [
    "save_figure_to_file(fig,'../Slides/Deep_Learning','fig4')"
   ]
  },
  {
   "cell_type": "code",
   "execution_count": null,
   "metadata": {},
   "outputs": [],
   "source": [
    "z = [ [x[i]**2 + y[j]**2 for i in range(x.size) ] for j in range(y.size) ]\n",
    "z = -np.array(z)\n",
    "\n",
    "fig = go.Figure(data=[go.Surface(\n",
    "        contours = {\n",
    "        \"x\": {\"show\": True, \"start\": -1, \"end\": 1, \"size\": 0.1, \"color\":\"white\"},\n",
    "        \"z\": {\"show\": True, \"start\": -1, \"end\": 1, \"size\": 0.1}\n",
    "        },\n",
    "        x=x,y=y,z=z)])\n",
    "\n",
    "fig.update_layout(title='Maximum', autosize=False,\n",
    "                  width=500, height=500,\n",
    "                  margin=dict(l=65, r=50, b=65, t=90))\n",
    "fig.show()"
   ]
  },
  {
   "cell_type": "code",
   "execution_count": null,
   "metadata": {},
   "outputs": [],
   "source": [
    "save_figure_to_file(fig,'../Slides/Deep_Learning','fig5')"
   ]
  }
 ],
 "metadata": {
  "kernelspec": {
   "display_name": "Python 3",
   "language": "python",
   "name": "python3"
  },
  "language_info": {
   "codemirror_mode": {
    "name": "ipython",
    "version": 3
   },
   "file_extension": ".py",
   "mimetype": "text/x-python",
   "name": "python",
   "nbconvert_exporter": "python",
   "pygments_lexer": "ipython3",
   "version": "3.7.6"
  }
 },
 "nbformat": 4,
 "nbformat_minor": 4
}
