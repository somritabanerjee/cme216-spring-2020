{
 "cells": [
  {
   "cell_type": "code",
   "execution_count": null,
   "metadata": {
    "colab": {},
    "colab_type": "code",
    "id": "Y2Oc0oTne6-z"
   },
   "outputs": [],
   "source": [
    "# Can be used to save files on Gdrive\n",
    "# from google.colab import drive\n",
    "# drive.mount('/content/gdrive')\n",
    "# path = \"/content/gdrive/My Drive/Colab Notebooks\"\n",
    "\n",
    "# Load the TensorBoard notebook extension\n",
    "# %load_ext tensorboard\n",
    "# from datetime import datetime\n",
    "# from packaging import version\n",
    "\n",
    "# print(\"TensorFlow version: \", tf.__version__)"
   ]
  },
  {
   "cell_type": "code",
   "execution_count": null,
   "metadata": {
    "colab": {},
    "colab_type": "code",
    "id": "br2TWOV63W-Z"
   },
   "outputs": [],
   "source": [
    "import numpy as np\n",
    "import math\n",
    "import tensorflow as tf\n",
    "import tensorflow.keras as keras\n",
    "import plotly.graph_objects as go"
   ]
  },
  {
   "cell_type": "code",
   "execution_count": null,
   "metadata": {
    "colab": {},
    "colab_type": "code",
    "id": "F8aDIDeD3W-r"
   },
   "outputs": [],
   "source": [
    "class print_dots(tf.keras.callbacks.Callback):\n",
    "    def on_epoch_begin(self, epoch, logs=None):\n",
    "        if epoch % 1000 == 0: print('')\n",
    "        if epoch % 10 == 0: print('.', end='')\n",
    "    def on_train_end(self, epoch, logs=None):\n",
    "        print('\\nTraining is complete')\n",
    "\n",
    "def print_training_information(history):\n",
    "    mae_metric = history.history['mae']\n",
    "    val_mae = history.history['val_mae']\n",
    "    print('mae training {0:g}; mae validation {1:g}'.format(mae_metric[-1], val_mae[-1]))\n",
    "\n",
    "def plot_history(fig, history):\n",
    "    loss = np.sqrt( history.history['loss'] )\n",
    "    metric = np.sqrt( history.history['mse'] )\n",
    "    val = np.sqrt( history.history['val_mse'] )\n",
    "    fig.add_trace(go.Scatter(y=loss,name='loss'))\n",
    "    fig.add_trace(go.Scatter(y=metric,name='error training'))\n",
    "    fig.add_trace(go.Scatter(y=val, name='error validation'))\n",
    "    fig.update_layout(height=400, width=600, yaxis_type=\"log\", xaxis_title='epoch')\n",
    "\n",
    "def lr_exponential_decay(epoch, lr):\n",
    "    growth_rate = final_learning_rate / initial_learning_rate\n",
    "    lr_ = initial_learning_rate * growth_rate**(epoch / (n_epochs-1.))\n",
    "    tf.summary.scalar(\"learning rate\", data=lr_, step=epoch)\n",
    "    metric_lr[epoch] = lr_  \n",
    "    return lr_\n",
    "\n",
    "def lr_constant(epoch, lr):\n",
    "    tf.summary.scalar(\"learning rate\", data=learning_rate, step=epoch)\n",
    "    metric_lr[epoch] = learning_rate\n",
    "    return learning_rate"
   ]
  },
  {
   "cell_type": "code",
   "execution_count": null,
   "metadata": {
    "colab": {},
    "colab_type": "code",
    "id": "eTiwovhKzgV4"
   },
   "outputs": [],
   "source": [
    "optimr = keras.optimizers.SGD()"
   ]
  },
  {
   "cell_type": "code",
   "execution_count": null,
   "metadata": {
    "colab": {
     "base_uri": "https://localhost:8080/",
     "height": 1000
    },
    "colab_type": "code",
    "id": "KK5aVJsJzIPc",
    "outputId": "4d46b3e4-b527-4156-d470-d2280756a776"
   },
   "outputs": [],
   "source": [
    "dnn_lr = keras.models.Sequential()\n",
    "dnn_lr.add(keras.layers.InputLayer(input_shape=1))\n",
    "dnn_lr.add(keras.layers.Dense(8, activation='tanh'))\n",
    "dnn_lr.add(keras.layers.Dense(1, activation=\"linear\"))\n",
    "\n",
    "dnn_lr.compile(loss='mse', optimizer=optimr, metrics=['mse','mae'])\n",
    "\n",
    "x_t = [-1, 0, 1]\n",
    "y_t = [-1, 0, 1]\n",
    "\n",
    "x_t = np.array(x_t, dtype = np.float32)\n",
    "y_t = np.array(y_t, dtype = np.float32)\n",
    "\n",
    "x_v = np.linspace(-1.,1.,4)\n",
    "y_v = x_v\n",
    "\n",
    "n_epochs = 10\n",
    "metric_lr = np.zeros((n_epochs,))\n",
    "initial_learning_rate = 1e-1\n",
    "final_learning_rate = 1\n",
    "\n",
    "# lr_callback = keras.callbacks.LearningRateScheduler(lr_constant)\n",
    "lr_callback = keras.callbacks.LearningRateScheduler(lr_exponential_decay)\n",
    "\n",
    "history = dnn_lr.fit(x_t, y_t,           \n",
    "                  validation_data=(x_v,y_v),         \n",
    "                  epochs=n_epochs,\n",
    "                  batch_size=int(x_t.size),\n",
    "                  callbacks = [lr_callback,print_dots()], \n",
    "                  verbose = 0)\n",
    "\n",
    "fig = go.Figure()\n",
    "fig.add_trace(go.Scatter(x=x_t, y=y_t, mode='markers', name='training'))\n",
    "x_p = np.linspace(-1,1,8)\n",
    "fig.add_trace(go.Scatter(x=x_p,                         \n",
    "                         y=np.array(dnn_lr.predict(x_p) ).reshape((x_p.size,)),\n",
    "                         name='prediction'))\n",
    "fig.update_layout(height=400, width=600)\n",
    "fig.show()\n",
    "\n",
    "fig = go.Figure()\n",
    "plot_history(fig, history)\n",
    "fig.show()\n",
    "\n",
    "fig = go.Figure()\n",
    "fig.add_trace(go.Scatter(y=metric_lr))\n",
    "fig.update_layout(height=400, width=550, yaxis_type='log', \n",
    "                  xaxis_title='epoch', yaxis_title='learning rate')\n",
    "fig.show()"
   ]
  },
  {
   "cell_type": "code",
   "execution_count": null,
   "metadata": {
    "colab": {},
    "colab_type": "code",
    "id": "whu0zEjv7Ikd"
   },
   "outputs": [],
   "source": [
    "dnn_val = keras.models.Sequential()\n",
    "dnn_val.add(keras.layers.InputLayer(input_shape=1))\n",
    "dnn_val.add(keras.layers.Dense(8, activation='tanh'))\n",
    "dnn_val.add(keras.layers.Dense(1, activation=\"linear\"))"
   ]
  },
  {
   "cell_type": "code",
   "execution_count": null,
   "metadata": {
    "colab": {
     "base_uri": "https://localhost:8080/",
     "height": 869
    },
    "colab_type": "code",
    "id": "s29mq9cKcflB",
    "outputId": "875f3ca1-3570-4f24-8a8b-ecedd34e4e7b"
   },
   "outputs": [],
   "source": [
    "n_epochs = 100\n",
    "metric_lr = np.zeros((n_epochs,))\n",
    "initial_learning_rate = 0.2\n",
    "final_learning_rate = 0.2\n",
    "dnn_val.compile(loss='mse', optimizer=optimr, metrics=['mse','mae'])\n",
    "\n",
    "x_t = [-1, -0.1, 0.1, 1]\n",
    "y_t = [-1, 0, 0, 1]\n",
    "\n",
    "x_t = np.array(x_t, dtype = np.float32)\n",
    "y_t = np.array(y_t, dtype = np.float32)\n",
    "\n",
    "x_v = np.linspace(-1.,1.,8)\n",
    "y_v = x_v\n",
    "\n",
    "history = dnn_val.fit(x_t, y_t,           \n",
    "                  validation_data=(x_v,y_v),         \n",
    "                  epochs=n_epochs,\n",
    "                  batch_size=int(x_t.size),\n",
    "                  callbacks = [lr_callback,print_dots()], \n",
    "                  verbose = 0)\n",
    "\n",
    "fig = go.Figure()\n",
    "fig.add_trace(go.Scatter(x=x_t, y=y_t, mode='markers', name='training'))\n",
    "x_p = np.linspace(-1,1,32)\n",
    "fig.add_trace(go.Scatter(x=x_p, mode='lines',                        \n",
    "                         y=np.array(dnn_val.predict(x_p)).reshape((x_p.size,)),\n",
    "                         name='prediction'))\n",
    "fig.update_layout(height=400, width=600)\n",
    "fig.show()\n",
    "\n",
    "fig = go.Figure()\n",
    "plot_history(fig, history)\n",
    "fig.show()"
   ]
  },
  {
   "cell_type": "code",
   "execution_count": null,
   "metadata": {
    "colab": {
     "base_uri": "https://localhost:8080/",
     "height": 869
    },
    "colab_type": "code",
    "id": "dQ76j-pbECol",
    "outputId": "6f5678d8-51f4-49d1-a282-58cc3d27409e"
   },
   "outputs": [],
   "source": [
    "dnn_val = keras.models.Sequential()\n",
    "dnn_val.add(keras.layers.InputLayer(input_shape=1))\n",
    "dnn_val.add(keras.layers.Dense(8, activation='tanh',\n",
    "            kernel_initializer=tf.random_uniform_initializer(minval=-1.5, maxval=1.5)\n",
    "            ))\n",
    "dnn_val.add(keras.layers.Dense(1, activation=\"linear\",\n",
    "            kernel_initializer=tf.random_uniform_initializer(minval=-1.5, maxval=1.5)\n",
    "            ))\n",
    "\n",
    "n_epochs = 100\n",
    "metric_lr = np.zeros((n_epochs,))\n",
    "initial_learning_rate = 0.1\n",
    "final_learning_rate = 0.1\n",
    "dnn_val.compile(loss='mse', optimizer=optimr, metrics=['mse','mae'])\n",
    "\n",
    "history = dnn_val.fit(x_t, y_t,           \n",
    "                  validation_data=(x_v,y_v),         \n",
    "                  epochs=n_epochs,\n",
    "                  batch_size=int(x_t.size),\n",
    "                  callbacks = [lr_callback,print_dots()], \n",
    "                  verbose = 0)\n",
    "\n",
    "fig = go.Figure()\n",
    "fig.add_trace(go.Scatter(x=x_t, y=y_t, mode='markers', name='training'))\n",
    "x_p = np.linspace(-1,1,32)\n",
    "fig.add_trace(go.Scatter(x=x_p, mode='lines',                        \n",
    "                         y=np.array(dnn_val.predict(x_p)).reshape((x_p.size,)),\n",
    "                         name='prediction'))\n",
    "fig.update_layout(height=400, width=600)\n",
    "fig.show()\n",
    "\n",
    "fig = go.Figure()\n",
    "plot_history(fig, history)\n",
    "fig.show()"
   ]
  },
  {
   "cell_type": "code",
   "execution_count": null,
   "metadata": {
    "colab": {
     "base_uri": "https://localhost:8080/",
     "height": 417
    },
    "colab_type": "code",
    "id": "2P3OTTQuJjh-",
    "outputId": "b2389841-48ad-4df0-f330-82c64715f658"
   },
   "outputs": [],
   "source": [
    "x = np.linspace(-3,3,64)\n",
    "fig = go.Figure()\n",
    "fig.add_trace(go.Scatter(x=x, y=np.tanh(x)))\n",
    "fig.update_layout(height=400, width=600, xaxis_title='x',yaxis_title='tanh')\n",
    "fig.show()"
   ]
  },
  {
   "cell_type": "code",
   "execution_count": null,
   "metadata": {
    "colab": {
     "base_uri": "https://localhost:8080/",
     "height": 869
    },
    "colab_type": "code",
    "id": "gAnmZ9_tLnMz",
    "outputId": "47a31c46-6902-48bd-8933-2ada71b617b9"
   },
   "outputs": [],
   "source": [
    "dnn_val = keras.models.Sequential()\n",
    "dnn_val.add(keras.layers.InputLayer(input_shape=1))\n",
    "dnn_val.add(keras.layers.Dense(8, activation='tanh',\n",
    "            kernel_initializer=tf.random_uniform_initializer(minval=-10, maxval=10)\n",
    "            ))\n",
    "dnn_val.add(keras.layers.Dense(1, activation=\"linear\",\n",
    "            kernel_initializer=tf.random_uniform_initializer(minval=-10, maxval=10)\n",
    "            ))\n",
    "\n",
    "n_epochs = 100\n",
    "metric_lr = np.zeros((n_epochs,))\n",
    "initial_learning_rate = 0.1\n",
    "final_learning_rate = 0.1\n",
    "dnn_val.compile(loss='mse', optimizer=optimr, metrics=['mse','mae'])\n",
    "\n",
    "history = dnn_val.fit(x_t, y_t,           \n",
    "                  validation_data=(x_v,y_v),         \n",
    "                  epochs=n_epochs,\n",
    "                  batch_size=int(x_t.size),\n",
    "                  callbacks = [lr_callback,print_dots()], \n",
    "                  verbose = 0)\n",
    "\n",
    "fig = go.Figure()\n",
    "fig.add_trace(go.Scatter(x=x_t, y=y_t, mode='markers', name='training'))\n",
    "x_p = np.linspace(-1,1,256)\n",
    "fig.add_trace(go.Scatter(x=x_p, mode='lines',                        \n",
    "                         y=np.array(dnn_val.predict(x_p)).reshape((x_p.size,)),\n",
    "                         name='prediction'))\n",
    "fig.update_layout(height=400, width=600)\n",
    "fig.show()\n",
    "\n",
    "fig = go.Figure()\n",
    "plot_history(fig, history)\n",
    "fig.show()"
   ]
  },
  {
   "cell_type": "code",
   "execution_count": null,
   "metadata": {
    "colab": {
     "base_uri": "https://localhost:8080/",
     "height": 869
    },
    "colab_type": "code",
    "id": "jvNkafrfMn2U",
    "outputId": "64264185-d65c-405a-dcb2-b37d5683047d"
   },
   "outputs": [],
   "source": [
    "small = keras.models.Sequential()\n",
    "small.add(keras.layers.InputLayer(input_shape=1))\n",
    "small.add(keras.layers.Dense(1, activation='tanh'))\n",
    "small.add(keras.layers.Dense(1, activation=\"linear\"))\n",
    "\n",
    "n_epochs = 100\n",
    "metric_lr = np.zeros((n_epochs,))\n",
    "initial_learning_rate = 0.1\n",
    "final_learning_rate = 0.1\n",
    "small.compile(loss='mse', optimizer=optimr, metrics=['mse','mae'])\n",
    "\n",
    "history = small.fit(x_t, y_t,           \n",
    "                  validation_data=(x_v,y_v),         \n",
    "                  epochs=n_epochs,\n",
    "                  batch_size=int(x_t.size),\n",
    "                  callbacks = [lr_callback,print_dots()], \n",
    "                  verbose = 0)\n",
    "\n",
    "fig = go.Figure()\n",
    "fig.add_trace(go.Scatter(x=x_t, y=y_t, mode='markers', name='training'))\n",
    "x_p = np.linspace(-1,1,256)\n",
    "fig.add_trace(go.Scatter(x=x_p, mode='lines',                        \n",
    "                         y=np.array(small.predict(x_p)).reshape((x_p.size,)),\n",
    "                         name='prediction'))\n",
    "fig.update_layout(height=400, width=600)\n",
    "fig.show()\n",
    "\n",
    "fig = go.Figure()\n",
    "plot_history(fig, history)\n",
    "fig.show()"
   ]
  },
  {
   "cell_type": "code",
   "execution_count": null,
   "metadata": {
    "colab": {
     "base_uri": "https://localhost:8080/",
     "height": 869
    },
    "colab_type": "code",
    "id": "znMgAHA7G1DF",
    "outputId": "1cb20fca-a70f-4e1b-c804-d2f9bb265d09"
   },
   "outputs": [],
   "source": [
    "l2reg = 1e-2\n",
    "\n",
    "regd = keras.models.Sequential()\n",
    "regd.add(keras.layers.InputLayer(input_shape=1))\n",
    "regd.add(keras.layers.Dense(8, activation='tanh',\n",
    "                          kernel_regularizer=tf.keras.regularizers.l2(l=l2reg),\n",
    "                          bias_regularizer=tf.keras.regularizers.l2(l=l2reg)))\n",
    "regd.add(keras.layers.Dense(1, activation=\"linear\"))\n",
    "\n",
    "n_epochs = 100\n",
    "metric_lr = np.zeros((n_epochs,))\n",
    "initial_learning_rate = 0.1\n",
    "final_learning_rate = 0.1\n",
    "regd.compile(loss='mse', optimizer=optimr, metrics=['mse','mae'])\n",
    "\n",
    "history = regd.fit(x_t, y_t,           \n",
    "                  validation_data=(x_v,y_v),         \n",
    "                  epochs=n_epochs,\n",
    "                  batch_size=int(x_t.size),\n",
    "                  callbacks = [lr_callback,print_dots()], \n",
    "                  verbose = 0)\n",
    "\n",
    "fig = go.Figure()\n",
    "fig.add_trace(go.Scatter(x=x_t, y=y_t, mode='markers', name='training'))\n",
    "x_p = np.linspace(-1,1,256)\n",
    "fig.add_trace(go.Scatter(x=x_p, mode='lines',                        \n",
    "                         y=np.array(regd.predict(x_p)).reshape((x_p.size,)),\n",
    "                         name='prediction'))\n",
    "fig.update_layout(height=400, width=600)\n",
    "fig.show()\n",
    "\n",
    "fig = go.Figure()\n",
    "plot_history(fig, history)\n",
    "fig.show()"
   ]
  }
 ],
 "metadata": {
  "colab": {
   "collapsed_sections": [],
   "name": "DNN_reg.ipynb",
   "provenance": []
  },
  "kernelspec": {
   "display_name": "Python 3",
   "language": "python",
   "name": "python3"
  },
  "language_info": {
   "codemirror_mode": {
    "name": "ipython",
    "version": 3
   },
   "file_extension": ".py",
   "mimetype": "text/x-python",
   "name": "python",
   "nbconvert_exporter": "python",
   "pygments_lexer": "ipython3",
   "version": "3.7.6"
  }
 },
 "nbformat": 4,
 "nbformat_minor": 4
}
