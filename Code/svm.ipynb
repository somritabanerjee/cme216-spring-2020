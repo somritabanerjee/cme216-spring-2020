{
 "cells": [
  {
   "cell_type": "code",
   "execution_count": null,
   "metadata": {
    "colab": {},
    "colab_type": "code",
    "id": "IyBRiMVRyxHj"
   },
   "outputs": [],
   "source": [
    "import math\n",
    "import numpy as np"
   ]
  },
  {
   "cell_type": "code",
   "execution_count": null,
   "metadata": {
    "colab": {},
    "colab_type": "code",
    "id": "4vM88pr78qu2"
   },
   "outputs": [],
   "source": [
    "# +1 if x > y and -1 otherwise\n",
    "def labels_line(p):\n",
    "    if p[0] > p[1]:\n",
    "        return 1\n",
    "    else:\n",
    "        return -1\n",
    "\n",
    "# +1 if y > sin(5x)/2 and -1 otherwise\n",
    "def labels_sine(p):\n",
    "    if p[1] > math.sin(5*p[0]) / 2:\n",
    "        return 1\n",
    "    else:\n",
    "        return -1   "
   ]
  },
  {
   "cell_type": "code",
   "execution_count": null,
   "metadata": {},
   "outputs": [],
   "source": [
    "import plotly.graph_objects as go\n",
    "def save_figure_to_file(fig, path, file_name):\n",
    "    # Comment this line if you get an error\n",
    "    fig.write_image(path + '/' + file_name + '.svg')"
   ]
  },
  {
   "cell_type": "code",
   "execution_count": null,
   "metadata": {
    "colab": {},
    "colab_type": "code",
    "id": "NyKdRUpL0hvP"
   },
   "outputs": [],
   "source": [
    "def plot_data_decision_line(X, y, clf, fig, title):\n",
    "    fig.add_trace(go.Scatter(x=X[:, 0], y=X[:, 1],\n",
    "                mode='markers', name='Data', \n",
    "                marker = dict(color=y, colorscale=\"RdBu\", size=10)))\n",
    "\n",
    "    x = np.linspace(-1, 1, 2)\n",
    "\n",
    "    a = -clf.coef_[0,0] / clf.coef_[0,1]\n",
    "    b0 = -clf.intercept_ / clf.coef_[0,1]\n",
    "    b1 = -(1 + clf.intercept_) / clf.coef_[0,1]\n",
    "    b2 = -(-1 + clf.intercept_) / clf.coef_[0,1]\n",
    "\n",
    "    fig.add_trace(go.Scatter(x=x, y=a*x + b0,\n",
    "                      mode='lines', name='Decision line'))\n",
    "    fig.add_trace(go.Scatter(x=x, y=a*x + b1,\n",
    "                      mode='lines', name='Support line',\n",
    "                      line=dict(dash=\"dash\")))\n",
    "    fig.add_trace(go.Scatter(x=x, y=a*x + b2,\n",
    "                      mode='lines', name='Support line',\n",
    "                      line=dict(dash=\"dash\")))\n",
    "    fig.update_layout(title=title, width=600)\n",
    "\n",
    "def plot_data_decision_function(X, y, clf, fig, title, sx, sy):\n",
    "\n",
    "    # plot the decision function\n",
    "    xm = sx*np.linspace(-1, 1, 20)\n",
    "    ym = sy*np.linspace(-1, 1, 20)\n",
    "    xx, yy = np.meshgrid(xm,ym)\n",
    "\n",
    "    Z = clf.decision_function(np.c_[xx.ravel(), yy.ravel()])\n",
    "    # Computes the decision function that separates the 1 labels \n",
    "    # from the -1 labels\n",
    "    # ravel() returns a contiguous flattened array\n",
    "    # c_ concatenates arrays along the 2nd dimension\n",
    "    Z = Z.reshape(xx.shape)\n",
    "\n",
    "    fig.add_trace(go.Scatter(x=X[:, 0], y=X[:, 1],\n",
    "                  mode='markers', showlegend=False, \n",
    "                  marker = dict(color=y, colorscale=\"RdBu\", size=10)))\n",
    "    fig.add_trace(go.Contour(x=xm,y=ym,z=Z,colorscale='RdBu'))\n",
    "    fig.update_layout(title=title, width=600)"
   ]
  },
  {
   "cell_type": "code",
   "execution_count": null,
   "metadata": {},
   "outputs": [],
   "source": [
    "from sklearn import svm"
   ]
  },
  {
   "cell_type": "code",
   "execution_count": null,
   "metadata": {
    "colab": {
     "base_uri": "https://localhost:8080/",
     "height": 732
    },
    "colab_type": "code",
    "id": "SwYZxjhilPdn",
    "outputId": "7ca169f9-388d-45c6-abac-7812014d0732"
   },
   "outputs": [],
   "source": [
    "# we create 8 random uniform points in the unit square\n",
    "\n",
    "np.random.seed(2)\n",
    "X = 2*np.random.rand(8, 2) - 1\n",
    "\n",
    "y = np.zeros(X.shape[0])\n",
    "\n",
    "# initialize labels\n",
    "for i in range(0,X.shape[0]):\n",
    "    y[i] = labels_line(X[i,:])\n",
    "\n",
    "print('Shape of X: ', X.shape)\n",
    "print(X)\n",
    "print('Shape of y: ', y.shape)\n",
    "print(y)\n",
    "\n",
    "clf = svm.SVC(kernel='linear', C=1e2)\n",
    "clf.fit(X, y)\n",
    "\n",
    "fig = go.Figure()\n",
    "plot_data_decision_line(X,y,clf,fig,\"SVM\")\n",
    "fig.show()"
   ]
  },
  {
   "cell_type": "code",
   "execution_count": null,
   "metadata": {},
   "outputs": [],
   "source": [
    "save_figure_to_file(fig,'../Slides/scikitlearn','svm1')"
   ]
  },
  {
   "cell_type": "code",
   "execution_count": null,
   "metadata": {
    "colab": {
     "base_uri": "https://localhost:8080/",
     "height": 542
    },
    "colab_type": "code",
    "id": "-BUQDuNI2VFk",
    "outputId": "4851d27c-c5f8-461d-91e8-26abadc55ccb"
   },
   "outputs": [],
   "source": [
    "# 20 uniform points in the unit square\n",
    "# the decision function is plotted\n",
    "\n",
    "np.random.seed(2020)\n",
    "X = 2*np.random.rand(32, 2) - 1\n",
    "\n",
    "y = np.zeros(X.shape[0])\n",
    "\n",
    "# initialize labels\n",
    "for i in range(0,X.shape[0]):\n",
    "    y[i] = labels_line(X[i,:])\n",
    "\n",
    "# fit the model\n",
    "clf = svm.SVC(kernel=\"linear\")\n",
    "clf.fit(X, y)\n",
    "\n",
    "# plot\n",
    "fig = go.Figure()\n",
    "plot_data_decision_function(X, y, clf, fig, \"Decision function\", 1.4, 1.1)\n",
    "fig.show()"
   ]
  },
  {
   "cell_type": "code",
   "execution_count": null,
   "metadata": {},
   "outputs": [],
   "source": [
    "save_figure_to_file(fig,'../Slides/ML_introduction','svm1')\n",
    "save_figure_to_file(fig,'../Slides/scikitlearn','svm2')"
   ]
  },
  {
   "cell_type": "code",
   "execution_count": null,
   "metadata": {
    "colab": {
     "base_uri": "https://localhost:8080/",
     "height": 542
    },
    "colab_type": "code",
    "id": "X0ldlL-b-xTY",
    "outputId": "cf277cb0-b788-484b-eee7-868af18d3412"
   },
   "outputs": [],
   "source": [
    "# 20 uniform points in the unit square\n",
    "# noise is added to the coordinates of the points\n",
    "\n",
    "np.random.seed(2020)\n",
    "X = 2*np.random.rand(32, 2) - 1\n",
    "\n",
    "y = np.zeros(X.shape[0])\n",
    "\n",
    "# initialize labels\n",
    "for i in range(0,X.shape[0]):\n",
    "    y[i] = labels_line(X[i,:])\n",
    "\n",
    "# randomly perturb the points X\n",
    "for i in range(0,X.shape[0]):\n",
    "    X[i,:] = X[i,:] + ( 2*np.random.rand(1, 2) - 1 ) / 2\n",
    "\n",
    "# fit the model\n",
    "clf = svm.SVC(kernel=\"linear\")\n",
    "clf.fit(X, y)\n",
    "\n",
    "# plot\n",
    "fig = go.Figure()\n",
    "plot_data_decision_function(X, y, clf, fig, \"Decision function\", 1.9, 1.5)\n",
    "fig.show()"
   ]
  },
  {
   "cell_type": "code",
   "execution_count": null,
   "metadata": {},
   "outputs": [],
   "source": [
    "save_figure_to_file(fig,'../Slides/scikitlearn','svm3')"
   ]
  },
  {
   "cell_type": "code",
   "execution_count": null,
   "metadata": {
    "colab": {
     "base_uri": "https://localhost:8080/",
     "height": 542
    },
    "colab_type": "code",
    "id": "KPDBcUSu7f88",
    "outputId": "d9bf93fe-f76f-4ffc-dbd0-4020e2f9a434"
   },
   "outputs": [],
   "source": [
    "# plot points and decision line\n",
    "fig = go.Figure()\n",
    "plot_data_decision_line(X,y,clf,fig,\"With noise\")\n",
    "fig.show()"
   ]
  },
  {
   "cell_type": "code",
   "execution_count": null,
   "metadata": {},
   "outputs": [],
   "source": [
    "save_figure_to_file(fig,'../Slides/scikitlearn','svm4')"
   ]
  },
  {
   "cell_type": "code",
   "execution_count": null,
   "metadata": {
    "colab": {
     "base_uri": "https://localhost:8080/",
     "height": 542
    },
    "colab_type": "code",
    "id": "aAbIBExv_GQ4",
    "outputId": "20287bd2-3e61-40f5-c113-fbd6dc20a999"
   },
   "outputs": [],
   "source": [
    "# 2 outlier points\n",
    "np.random.seed(2020)\n",
    "\n",
    "# two clusters of points\n",
    "X = np.r_[np.random.rand(10, 2)/2 + [-0.6, 0.1], \n",
    "          np.random.rand(10, 2)/2 + [0.1, -0.6]]\n",
    "\n",
    "y = np.zeros(X.shape[0])\n",
    "\n",
    "# initialize labels\n",
    "for i in range(0,X.shape[0]):\n",
    "    y[i] = labels_line(X[i,:])\n",
    "\n",
    "# creating two outliers\n",
    "X[0,:] = np.array([0.5, 0])\n",
    "y[0] = -1\n",
    "X[1,:] = np.array([-0.5, 0])\n",
    "y[1] = 1\n",
    "\n",
    "# plot the points\n",
    "fig = go.Figure()\n",
    "fig.add_trace(go.Scatter(x=X[:, 0], y=X[:, 1],\n",
    "              mode='markers', name='Data', \n",
    "              marker = dict(color=y, colorscale=\"RdBu\", size=10)))\n",
    "fig.update_layout(width=600,\n",
    "                  yaxis = dict(scaleanchor = \"x\", scaleratio = 1))  \n",
    "fig.show()"
   ]
  },
  {
   "cell_type": "code",
   "execution_count": null,
   "metadata": {},
   "outputs": [],
   "source": [
    "save_figure_to_file(fig,'../Slides/scikitlearn','svm5')"
   ]
  },
  {
   "cell_type": "code",
   "execution_count": null,
   "metadata": {
    "colab": {
     "base_uri": "https://localhost:8080/",
     "height": 542
    },
    "colab_type": "code",
    "id": "TAq8O922_nL6",
    "outputId": "f152e0b0-92e8-4e93-c104-6770624091c1"
   },
   "outputs": [],
   "source": [
    "# 2 outlier points\n",
    "# Large value of C = overfit\n",
    "\n",
    "np.random.seed(2020)\n",
    "\n",
    "# two clusters of points\n",
    "X = np.r_[np.random.rand(10, 2)/2 + [-0.6, 0.1], \n",
    "          np.random.rand(10, 2)/2 + [0.1, -0.6]]\n",
    "\n",
    "y = np.zeros(X.shape[0])\n",
    "\n",
    "# initialize labels\n",
    "for i in range(0,X.shape[0]):\n",
    "    y[i] = labels_line(X[i,:])\n",
    "\n",
    "# creating two outliers\n",
    "X[0,:] = np.array([0.5, 0])\n",
    "y[0] = -1\n",
    "X[1,:] = np.array([-0.5, 0])\n",
    "y[1] = 1\n",
    "\n",
    "# fit the model\n",
    "clf = svm.SVC(kernel=\"linear\", C = 1e4)\n",
    "clf.fit(X, y)\n",
    "\n",
    "fig = go.Figure()\n",
    "plot_data_decision_line(X,y,clf,fig,\"C=10^4\")\n",
    "fig.show()"
   ]
  },
  {
   "cell_type": "code",
   "execution_count": null,
   "metadata": {},
   "outputs": [],
   "source": [
    "save_figure_to_file(fig,'../Slides/scikitlearn','svm6')"
   ]
  },
  {
   "cell_type": "code",
   "execution_count": null,
   "metadata": {
    "colab": {
     "base_uri": "https://localhost:8080/",
     "height": 542
    },
    "colab_type": "code",
    "id": "G7V1U5KKFC9C",
    "outputId": "94339303-93d6-4c92-f032-6bb3715570b1"
   },
   "outputs": [],
   "source": [
    "# outliers\n",
    "\n",
    "# small C; under-fitting case; prediction is not accurate\n",
    "\n",
    "# fit the model\n",
    "clf = svm.SVC(kernel=\"linear\", C = 0.2)\n",
    "clf.fit(X, y)\n",
    "\n",
    "fig = go.Figure()\n",
    "plot_data_decision_line(X,y,clf,fig,\"C=0.2\")\n",
    "fig.show()"
   ]
  },
  {
   "cell_type": "code",
   "execution_count": null,
   "metadata": {},
   "outputs": [],
   "source": [
    "save_figure_to_file(fig,'../Slides/scikitlearn','svm7')"
   ]
  },
  {
   "cell_type": "code",
   "execution_count": null,
   "metadata": {
    "colab": {
     "base_uri": "https://localhost:8080/",
     "height": 542
    },
    "colab_type": "code",
    "id": "yCrmWGB2EUBk",
    "outputId": "24ad56b0-a2e9-41fa-8474-d35fcd9dde86"
   },
   "outputs": [],
   "source": [
    "# outliers\n",
    "\n",
    "# fit the model\n",
    "clf = svm.SVC(kernel=\"linear\", C = 0.3)\n",
    "clf.fit(X, y)\n",
    "\n",
    "fig = go.Figure()\n",
    "plot_data_decision_line(X,y,clf,fig,\"C=0.3\")\n",
    "x_l = np.linspace(-1, 1, 2)\n",
    "fig.add_trace(go.Scatter(x=x_l, y=x_l, mode='lines', name='y=x'))\n",
    "fig.show()"
   ]
  },
  {
   "cell_type": "code",
   "execution_count": null,
   "metadata": {},
   "outputs": [],
   "source": [
    "save_figure_to_file(fig,'../Slides/scikitlearn','svm8')"
   ]
  },
  {
   "cell_type": "code",
   "execution_count": null,
   "metadata": {
    "colab": {
     "base_uri": "https://localhost:8080/",
     "height": 542
    },
    "colab_type": "code",
    "id": "4E7y9Jtf2uUw",
    "outputId": "3f95b60d-3702-487b-8add-c1d0f859af4e"
   },
   "outputs": [],
   "source": [
    "# Data with noise\n",
    "# noise is added to the coordinates of the points\n",
    "\n",
    "np.random.seed(2020)\n",
    "X0 = 0.5 * np.random.randn(16, 2) + 0.8 * np.array([-1., 1.])\n",
    "X1 = 0.5 * np.random.randn(16, 2) + 0.8 * np.array([1., -1.])\n",
    "X = np.vstack((X0, X1))\n",
    "\n",
    "y = np.zeros(X.shape[0])\n",
    "\n",
    "# initialize labels\n",
    "for i in range(0,X.shape[0]):\n",
    "    y[i] = labels_line(X[i,:])\n",
    "\n",
    "# randomly perturb the points X\n",
    "for i in range(0,X.shape[0]):\n",
    "    X[i,:] = X[i,:] + np.random.randn(1, 2) / 6\n",
    "\n",
    "# fit the model\n",
    "clf = svm.SVC(kernel=\"linear\",C=1)\n",
    "clf.fit(X, y)\n",
    "\n",
    "# plot\n",
    "fig = go.Figure()\n",
    "plot_data_decision_function(X, y, clf, fig, \"Decision function\", 2, 2)\n",
    "fig.show()"
   ]
  },
  {
   "cell_type": "code",
   "execution_count": null,
   "metadata": {},
   "outputs": [],
   "source": [
    "save_figure_to_file(fig,'../Slides/scikitlearn','svm9_1')"
   ]
  },
  {
   "cell_type": "code",
   "execution_count": null,
   "metadata": {},
   "outputs": [],
   "source": [
    "from sklearn.model_selection import train_test_split"
   ]
  },
  {
   "cell_type": "code",
   "execution_count": null,
   "metadata": {
    "colab": {},
    "colab_type": "code",
    "id": "67uGbYhN3A4C"
   },
   "outputs": [],
   "source": [
    "np.random.seed(0)\n",
    "\n",
    "n_opt_C = 128\n",
    "\n",
    "C_range = np.logspace(-2,2,n_opt_C)\n",
    "score = np.zeros(n_opt_C)\n",
    "a = np.zeros(n_opt_C)\n",
    "b = np.zeros(n_opt_C)\n",
    "\n",
    "X_train, X_valid, y_train, y_valid = train_test_split(X, y, test_size=0.4, random_state=0)\n",
    "\n",
    "k = 0\n",
    "for C in C_range:\n",
    "    clf = svm.SVC(kernel='linear', C=C).fit(X_train, y_train)\n",
    "    score[k] = clf.score(X_valid, y_valid)\n",
    "    a[k] = -clf.coef_[0,0] / clf.coef_[0,1]\n",
    "    b[k] = -clf.intercept_ / clf.coef_[0,1]\n",
    "    k = k+1"
   ]
  },
  {
   "cell_type": "code",
   "execution_count": null,
   "metadata": {
    "colab": {
     "base_uri": "https://localhost:8080/",
     "height": 717
    },
    "colab_type": "code",
    "id": "Ly1zWpzCGvqE",
    "outputId": "e567ed98-775b-41e4-bf06-38e5550786a1"
   },
   "outputs": [],
   "source": [
    "# plot\n",
    "from plotly.subplots import make_subplots\n",
    "fig = make_subplots(rows=2, cols=2,\n",
    "                    subplot_titles=(\n",
    "                        \"Data\", \"Score\", \"Slope a\", \"Intercept b\"\n",
    "                        ))\n",
    "                    \n",
    "fig.add_trace(go.Scatter(x=X[:, 0], y=X[:, 1],\n",
    "              mode='markers', name='Data', \n",
    "              marker = dict(color=y, colorscale=\"RdBu\", size=10)),\n",
    "              row=1, col=1)\n",
    "x_l = [-2, 2]\n",
    "fig.add_trace(go.Scatter(x=x_l, y=x_l,\n",
    "              mode='lines', name='y=x'),\n",
    "              row=1, col=1)\n",
    "\n",
    "fig.add_trace(go.Scatter(x=C_range, y=score,\n",
    "              mode='lines', name='Score'),\n",
    "              row=1, col=2)\n",
    "\n",
    "fig.add_trace(go.Scatter(x=C_range, y=a,\n",
    "              mode='lines', name='a'),\n",
    "              row=2, col=1)\n",
    "fig.add_trace(go.Scatter(x=C_range, y=np.ones(C_range.shape),\n",
    "              mode='lines', name='a=1'),\n",
    "              row=2, col=1)\n",
    "\n",
    "fig.add_trace(go.Scatter(x=C_range, y=b,\n",
    "              mode='lines', name='b'),\n",
    "              row=2, col=2)\n",
    "fig.add_trace(go.Scatter(x=C_range, y=np.zeros(C_range.shape),\n",
    "              mode='lines', name='b=0'),\n",
    "              row=2, col=2)\n",
    "\n",
    "fig.update_layout(height=700,width=900)  \n",
    "fig.update_yaxes(scaleanchor = \"x\", scaleratio = 1, row=1, col=1)\n",
    "fig.update_xaxes(type=\"log\", row=1, col=2)\n",
    "fig.update_xaxes(type=\"log\", row=2, col=1)\n",
    "fig.update_xaxes(type=\"log\", row=2, col=2)\n",
    "fig.update_yaxes(range=[-0.5, 0.5], row=2, col=2)\n",
    "\n",
    "fig.show()"
   ]
  },
  {
   "cell_type": "code",
   "execution_count": null,
   "metadata": {},
   "outputs": [],
   "source": [
    "save_figure_to_file(fig,'../Slides/scikitlearn','svm9_2')"
   ]
  },
  {
   "cell_type": "code",
   "execution_count": null,
   "metadata": {
    "colab": {
     "base_uri": "https://localhost:8080/",
     "height": 542
    },
    "colab_type": "code",
    "id": "CgeYALQf8XQN",
    "outputId": "64069264-d6c2-4802-e54c-393db775d780"
   },
   "outputs": [],
   "source": [
    "np.random.seed(2020)\n",
    "\n",
    "# decision curve is the sine function\n",
    "\n",
    "X = 2*np.random.rand(128, 2) - 1\n",
    "\n",
    "y = np.zeros(X.shape[0])\n",
    "\n",
    "# initialize labels\n",
    "for i in range(0,X.shape[0]):\n",
    "    y[i] = labels_sine(X[i,:])\n",
    "\n",
    "# fit the model\n",
    "# we use a linear SVM which won't work in this case\n",
    "clf = svm.SVC(kernel=\"linear\")\n",
    "clf.fit(X, y)\n",
    "\n",
    "fig = go.Figure()\n",
    "plot_data_decision_function(X, y, clf, fig, \"Decision function with linear SVM\", 2, 1.5)\n",
    "# draw the sine function\n",
    "x_b = np.linspace(-1, 1, 32)\n",
    "fig.add_trace(go.Scatter(x=x_b, y=np.sin(5*x_b) / 2,\n",
    "                    mode='lines', showlegend=False))\n",
    "fig.show()"
   ]
  },
  {
   "cell_type": "code",
   "execution_count": null,
   "metadata": {},
   "outputs": [],
   "source": [
    "save_figure_to_file(fig,'../Slides/scikitlearn','svm10')"
   ]
  },
  {
   "cell_type": "code",
   "execution_count": null,
   "metadata": {
    "colab": {
     "base_uri": "https://localhost:8080/",
     "height": 542
    },
    "colab_type": "code",
    "id": "chT9c50W9Cgr",
    "outputId": "eccf0379-d5ff-4483-b0ea-6e706aebf196"
   },
   "outputs": [],
   "source": [
    "# SVM using RBF kernel\n",
    "\n",
    "# fit the model\n",
    "clf = svm.SVC(kernel=\"rbf\", gamma = 10)\n",
    "clf.fit(X, y)\n",
    "\n",
    "fig = go.Figure()\n",
    "plot_data_decision_function(X, y, clf, fig, \"Decision function with RBF\", 2, 1.5)\n",
    "# draw the sine function\n",
    "x_b = np.linspace(-1, 1, 32)\n",
    "fig.add_trace(go.Scatter(x=x_b, y=np.sin(5*x_b) / 2,\n",
    "                    mode='lines', showlegend=False))\n",
    "fig.show()"
   ]
  },
  {
   "cell_type": "code",
   "execution_count": null,
   "metadata": {},
   "outputs": [],
   "source": [
    "save_figure_to_file(fig,'../Slides/scikitlearn','svm11')"
   ]
  }
 ],
 "metadata": {
  "@webio": {
   "lastCommId": null,
   "lastKernelId": null
  },
  "colab": {
   "collapsed_sections": [],
   "name": "svm.ipynb",
   "provenance": []
  },
  "kernelspec": {
   "display_name": "Python 3",
   "language": "python",
   "name": "python3"
  },
  "language_info": {
   "codemirror_mode": {
    "name": "ipython",
    "version": 3
   },
   "file_extension": ".py",
   "mimetype": "text/x-python",
   "name": "python",
   "nbconvert_exporter": "python",
   "pygments_lexer": "ipython3",
   "version": "3.7.6"
  }
 },
 "nbformat": 4,
 "nbformat_minor": 4
}
