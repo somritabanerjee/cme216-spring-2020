{
 "cells": [
  {
   "cell_type": "code",
   "execution_count": null,
   "metadata": {},
   "outputs": [],
   "source": [
    "import numpy as np\n",
    "import plotly.graph_objects as go\n",
    "def save_figure_to_file(fig, path, file_name):\n",
    "    fig.write_image(path + '/' + file_name + '.svg')"
   ]
  },
  {
   "cell_type": "code",
   "execution_count": null,
   "metadata": {},
   "outputs": [],
   "source": [
    "n = 4\n",
    "\n",
    "Z = np.random.standard_normal((n,n))\n",
    "\n",
    "Q, R = np.linalg.qr(Z,mode='complete')\n",
    "\n",
    "# test\n",
    "np.testing.assert_array_less(np.eye(n) - np.dot(Q,Q.T), 1e-14)\n",
    "\n",
    "d = 0.1 + np.random.random((n,))\n",
    "d = np.sort(d)\n",
    "D = np.diag(d)\n",
    "\n",
    "H = np.dot(Q, np.dot(D,Q.T))\n",
    "U, S, VT = np.linalg.svd(H, full_matrices=True)\n",
    "\n",
    "# test symmetry\n",
    "np.linalg.norm(H - H.T)\n",
    "\n",
    "# test evals\n",
    "w, v = np.linalg.eig(H)\n",
    "w = np.sort(w)\n",
    "np.testing.assert_array_less(w-d, 1e-14)\n",
    "\n",
    "beta = 0.1\n",
    "\n",
    "D = np.diag([beta**k for k in range(n)])\n",
    "\n",
    "Hb = np.dot(D, np.dot(H, D))\n",
    "\n",
    "U, S, VT = np.linalg.svd(Hb, full_matrices=True)\n",
    "\n",
    "for i in range(n):\n",
    "    if U[i,i] < 0:\n",
    "        U[:,i] = -U[:,i]\n",
    "        VT[i,:] = -VT[i,:]\n",
    "\n",
    "print('Hb=')\n",
    "print(Hb)\n",
    "print('U=')\n",
    "print(U)\n",
    "print('V=')\n",
    "print(VT.T)\n",
    "print('Sigma=')\n",
    "print(S/S[0])"
   ]
  },
  {
   "cell_type": "code",
   "execution_count": null,
   "metadata": {},
   "outputs": [],
   "source": [
    "x0 = np.random.standard_normal((n,1))\n",
    "\n",
    "D = np.diag([beta**(-k) for k in range(n)])\n",
    "\n",
    "alpha = 1\n",
    "\n",
    "w, v = np.linalg.eig( alpha * Hb )\n",
    "print(w)\n",
    "\n",
    "w, v = np.linalg.eig( alpha * np.dot(D, Hb) )\n",
    "print(w)\n",
    "\n",
    "x = x0.copy()\n",
    "print('|x0|=',np.linalg.norm((x)))\n",
    "\n",
    "k_iter = 10000\n",
    "print('number of iterations=',k_iter)\n",
    "G = np.eye(n) - alpha * np.dot(D, Hb)\n",
    "norm_x_0 = np.zeros(1 + int((k_iter-1)/100))\n",
    "for k in range(k_iter):\n",
    "    x = np.dot(G, x)\n",
    "    if k%100 == 0:\n",
    "        norm_x_0[int(k/100)] = np.linalg.norm((x))\n",
    "\n",
    "print('x=',np.linalg.norm((x)))\n",
    "        \n",
    "x = x0.copy()\n",
    "k_iter = int(k_iter/beta**(n-1))\n",
    "print('number of iterations=',k_iter)\n",
    "G = np.eye(n) - alpha * Hb\n",
    "norm_x_1 = np.zeros(1 + int((k_iter-1)/100))\n",
    "for k in range(k_iter):\n",
    "    x = np.dot(G, x)\n",
    "    if k%100 == 0:\n",
    "        norm_x_1[int(k/100)] = np.linalg.norm((x))     \n",
    "\n",
    "print('x=',np.linalg.norm((x)))"
   ]
  },
  {
   "cell_type": "code",
   "execution_count": null,
   "metadata": {},
   "outputs": [],
   "source": [
    "beta = 0.1\n",
    "n = 4\n",
    "# beta = 0.9\n",
    "# n = 100\n",
    "m = n-1\n",
    "print('Estimated condition number: {:.2e}\\n'.format(beta**(2*m)))\n",
    "print('Estimated number of iterations with Adagrad: {:.2e}\\n'.format(beta**(-m)))\n",
    "print('Estimated number of iterations without Adagrad: {:.2e}\\n'.format(beta**(-2*m)))"
   ]
  },
  {
   "cell_type": "code",
   "execution_count": null,
   "metadata": {},
   "outputs": [],
   "source": [
    "fig = go.Figure()\n",
    "fig.add_trace(go.Scatter(y=norm_x_1,name='Gradient Descent'))\n",
    "fig.add_trace(go.Scatter(y=norm_x_0,name='Adagrad'))\n",
    "fig.update_layout(height=400, width=600, xaxis_type=\"log\", yaxis_type=\"log\", \n",
    "                  xaxis_title='iteration', yaxis_title='error')\n",
    "fig.show()"
   ]
  },
  {
   "cell_type": "code",
   "execution_count": null,
   "metadata": {},
   "outputs": [],
   "source": [
    "save_figure_to_file(fig,'../Slides/Deep_Learning','fig6')"
   ]
  }
 ],
 "metadata": {
  "kernelspec": {
   "display_name": "Python 3",
   "language": "python",
   "name": "python3"
  },
  "language_info": {
   "codemirror_mode": {
    "name": "ipython",
    "version": 3
   },
   "file_extension": ".py",
   "mimetype": "text/x-python",
   "name": "python",
   "nbconvert_exporter": "python",
   "pygments_lexer": "ipython3",
   "version": "3.7.6"
  }
 },
 "nbformat": 4,
 "nbformat_minor": 4
}
